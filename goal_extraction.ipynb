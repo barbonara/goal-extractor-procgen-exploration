{
 "cells": [
  {
   "attachments": {},
   "cell_type": "markdown",
   "metadata": {},
   "source": [
    "Infrastructure based on:\n",
    "https://s3.us-west-2.amazonaws.com/montemac.share/probing_main.html\n"
   ]
  },
  {
   "cell_type": "code",
   "execution_count": 1,
   "metadata": {},
   "outputs": [
    {
     "data": {
      "application/javascript": "(function(root) {\n  function now() {\n    return new Date();\n  }\n\n  var force = true;\n  var py_version = '3.1.1'.replace('rc', '-rc.').replace('.dev', '-dev.');\n  var is_dev = py_version.indexOf(\"+\") !== -1 || py_version.indexOf(\"-\") !== -1;\n  var reloading = false;\n  var Bokeh = root.Bokeh;\n  var bokeh_loaded = Bokeh != null && (Bokeh.version === py_version || (Bokeh.versions !== undefined && Bokeh.versions.has(py_version)));\n\n  if (typeof (root._bokeh_timeout) === \"undefined\" || force) {\n    root._bokeh_timeout = Date.now() + 5000;\n    root._bokeh_failed_load = false;\n  }\n\n  function run_callbacks() {\n    try {\n      root._bokeh_onload_callbacks.forEach(function(callback) {\n        if (callback != null)\n          callback();\n      });\n    } finally {\n      delete root._bokeh_onload_callbacks;\n    }\n    console.debug(\"Bokeh: all callbacks have finished\");\n  }\n\n  function load_libs(css_urls, js_urls, js_modules, js_exports, callback) {\n    if (css_urls == null) css_urls = [];\n    if (js_urls == null) js_urls = [];\n    if (js_modules == null) js_modules = [];\n    if (js_exports == null) js_exports = {};\n\n    root._bokeh_onload_callbacks.push(callback);\n\n    if (root._bokeh_is_loading > 0) {\n      console.debug(\"Bokeh: BokehJS is being loaded, scheduling callback at\", now());\n      return null;\n    }\n    if (js_urls.length === 0 && js_modules.length === 0 && Object.keys(js_exports).length === 0) {\n      run_callbacks();\n      return null;\n    }\n    if (!reloading) {\n      console.debug(\"Bokeh: BokehJS not loaded, scheduling load and callback at\", now());\n    }\n\n    function on_load() {\n      root._bokeh_is_loading--;\n      if (root._bokeh_is_loading === 0) {\n        console.debug(\"Bokeh: all BokehJS libraries/stylesheets loaded\");\n        run_callbacks()\n      }\n    }\n    window._bokeh_on_load = on_load\n\n    function on_error() {\n      console.error(\"failed to load \" + url);\n    }\n\n    var skip = [];\n    if (window.requirejs) {\n      window.requirejs.config({'packages': {}, 'paths': {'jspanel': 'https://cdn.jsdelivr.net/npm/jspanel4@4.12.0/dist/jspanel', 'jspanel-modal': 'https://cdn.jsdelivr.net/npm/jspanel4@4.12.0/dist/extensions/modal/jspanel.modal', 'jspanel-tooltip': 'https://cdn.jsdelivr.net/npm/jspanel4@4.12.0/dist/extensions/tooltip/jspanel.tooltip', 'jspanel-hint': 'https://cdn.jsdelivr.net/npm/jspanel4@4.12.0/dist/extensions/hint/jspanel.hint', 'jspanel-layout': 'https://cdn.jsdelivr.net/npm/jspanel4@4.12.0/dist/extensions/layout/jspanel.layout', 'jspanel-contextmenu': 'https://cdn.jsdelivr.net/npm/jspanel4@4.12.0/dist/extensions/contextmenu/jspanel.contextmenu', 'jspanel-dock': 'https://cdn.jsdelivr.net/npm/jspanel4@4.12.0/dist/extensions/dock/jspanel.dock', 'gridstack': 'https://cdn.jsdelivr.net/npm/gridstack@7.2.3/dist/gridstack-all', 'notyf': 'https://cdn.jsdelivr.net/npm/notyf@3/notyf.min'}, 'shim': {'jspanel': {'exports': 'jsPanel'}, 'gridstack': {'exports': 'GridStack'}}});\n      require([\"jspanel\"], function(jsPanel) {\n\twindow.jsPanel = jsPanel\n\ton_load()\n      })\n      require([\"jspanel-modal\"], function() {\n\ton_load()\n      })\n      require([\"jspanel-tooltip\"], function() {\n\ton_load()\n      })\n      require([\"jspanel-hint\"], function() {\n\ton_load()\n      })\n      require([\"jspanel-layout\"], function() {\n\ton_load()\n      })\n      require([\"jspanel-contextmenu\"], function() {\n\ton_load()\n      })\n      require([\"jspanel-dock\"], function() {\n\ton_load()\n      })\n      require([\"gridstack\"], function(GridStack) {\n\twindow.GridStack = GridStack\n\ton_load()\n      })\n      require([\"notyf\"], function() {\n\ton_load()\n      })\n      root._bokeh_is_loading = css_urls.length + 9;\n    } else {\n      root._bokeh_is_loading = css_urls.length + js_urls.length + js_modules.length + Object.keys(js_exports).length;\n    }\n\n    var existing_stylesheets = []\n    var links = document.getElementsByTagName('link')\n    for (var i = 0; i < links.length; i++) {\n      var link = links[i]\n      if (link.href != null) {\n\texisting_stylesheets.push(link.href)\n      }\n    }\n    for (var i = 0; i < css_urls.length; i++) {\n      var url = css_urls[i];\n      if (existing_stylesheets.indexOf(url) !== -1) {\n\ton_load()\n\tcontinue;\n      }\n      const element = document.createElement(\"link\");\n      element.onload = on_load;\n      element.onerror = on_error;\n      element.rel = \"stylesheet\";\n      element.type = \"text/css\";\n      element.href = url;\n      console.debug(\"Bokeh: injecting link tag for BokehJS stylesheet: \", url);\n      document.body.appendChild(element);\n    }    if (((window['jsPanel'] !== undefined) && (!(window['jsPanel'] instanceof HTMLElement))) || window.requirejs) {\n      var urls = ['https://cdn.holoviz.org/panel/1.1.1/dist/bundled/floatpanel/jspanel4@4.12.0/dist/jspanel.js', 'https://cdn.holoviz.org/panel/1.1.1/dist/bundled/floatpanel/jspanel4@4.12.0/dist/extensions/modal/jspanel.modal.js', 'https://cdn.holoviz.org/panel/1.1.1/dist/bundled/floatpanel/jspanel4@4.12.0/dist/extensions/tooltip/jspanel.tooltip.js', 'https://cdn.holoviz.org/panel/1.1.1/dist/bundled/floatpanel/jspanel4@4.12.0/dist/extensions/hint/jspanel.hint.js', 'https://cdn.holoviz.org/panel/1.1.1/dist/bundled/floatpanel/jspanel4@4.12.0/dist/extensions/layout/jspanel.layout.js', 'https://cdn.holoviz.org/panel/1.1.1/dist/bundled/floatpanel/jspanel4@4.12.0/dist/extensions/contextmenu/jspanel.contextmenu.js', 'https://cdn.holoviz.org/panel/1.1.1/dist/bundled/floatpanel/jspanel4@4.12.0/dist/extensions/dock/jspanel.dock.js'];\n      for (var i = 0; i < urls.length; i++) {\n        skip.push(urls[i])\n      }\n    }    if (((window['GridStack'] !== undefined) && (!(window['GridStack'] instanceof HTMLElement))) || window.requirejs) {\n      var urls = ['https://cdn.holoviz.org/panel/1.1.1/dist/bundled/gridstack/gridstack@7.2.3/dist/gridstack-all.js'];\n      for (var i = 0; i < urls.length; i++) {\n        skip.push(urls[i])\n      }\n    }    if (((window['Notyf'] !== undefined) && (!(window['Notyf'] instanceof HTMLElement))) || window.requirejs) {\n      var urls = ['https://cdn.holoviz.org/panel/1.1.1/dist/bundled/notificationarea/notyf@3/notyf.min.js'];\n      for (var i = 0; i < urls.length; i++) {\n        skip.push(urls[i])\n      }\n    }    var existing_scripts = []\n    var scripts = document.getElementsByTagName('script')\n    for (var i = 0; i < scripts.length; i++) {\n      var script = scripts[i]\n      if (script.src != null) {\n\texisting_scripts.push(script.src)\n      }\n    }\n    for (var i = 0; i < js_urls.length; i++) {\n      var url = js_urls[i];\n      if (skip.indexOf(url) !== -1 || existing_scripts.indexOf(url) !== -1) {\n\tif (!window.requirejs) {\n\t  on_load();\n\t}\n\tcontinue;\n      }\n      var element = document.createElement('script');\n      element.onload = on_load;\n      element.onerror = on_error;\n      element.async = false;\n      element.src = url;\n      console.debug(\"Bokeh: injecting script tag for BokehJS library: \", url);\n      document.head.appendChild(element);\n    }\n    for (var i = 0; i < js_modules.length; i++) {\n      var url = js_modules[i];\n      if (skip.indexOf(url) !== -1 || existing_scripts.indexOf(url) !== -1) {\n\tif (!window.requirejs) {\n\t  on_load();\n\t}\n\tcontinue;\n      }\n      var element = document.createElement('script');\n      element.onload = on_load;\n      element.onerror = on_error;\n      element.async = false;\n      element.src = url;\n      element.type = \"module\";\n      console.debug(\"Bokeh: injecting script tag for BokehJS library: \", url);\n      document.head.appendChild(element);\n    }\n    for (const name in js_exports) {\n      var url = js_exports[name];\n      if (skip.indexOf(url) >= 0 || root[name] != null) {\n\tif (!window.requirejs) {\n\t  on_load();\n\t}\n\tcontinue;\n      }\n      var element = document.createElement('script');\n      element.onerror = on_error;\n      element.async = false;\n      element.type = \"module\";\n      console.debug(\"Bokeh: injecting script tag for BokehJS library: \", url);\n      element.textContent = `\n      import ${name} from \"${url}\"\n      window.${name} = ${name}\n      window._bokeh_on_load()\n      `\n      document.head.appendChild(element);\n    }\n    if (!js_urls.length && !js_modules.length) {\n      on_load()\n    }\n  };\n\n  function inject_raw_css(css) {\n    const element = document.createElement(\"style\");\n    element.appendChild(document.createTextNode(css));\n    document.body.appendChild(element);\n  }\n\n  var js_urls = [\"https://cdn.bokeh.org/bokeh/release/bokeh-3.1.1.min.js\", \"https://cdn.bokeh.org/bokeh/release/bokeh-gl-3.1.1.min.js\", \"https://cdn.bokeh.org/bokeh/release/bokeh-widgets-3.1.1.min.js\", \"https://cdn.bokeh.org/bokeh/release/bokeh-tables-3.1.1.min.js\", \"https://cdn.holoviz.org/panel/1.1.1/dist/panel.min.js\"];\n  var js_modules = [];\n  var js_exports = {};\n  var css_urls = [];\n  var inline_js = [    function(Bokeh) {\n      Bokeh.set_log_level(\"info\");\n    },\nfunction(Bokeh) {} // ensure no trailing comma for IE\n  ];\n\n  function run_inline_js() {\n    if ((root.Bokeh !== undefined) || (force === true)) {\n      for (var i = 0; i < inline_js.length; i++) {\n        inline_js[i].call(root, root.Bokeh);\n      }\n      // Cache old bokeh versions\n      if (Bokeh != undefined && !reloading) {\n\tvar NewBokeh = root.Bokeh;\n\tif (Bokeh.versions === undefined) {\n\t  Bokeh.versions = new Map();\n\t}\n\tif (NewBokeh.version !== Bokeh.version) {\n\t  Bokeh.versions.set(NewBokeh.version, NewBokeh)\n\t}\n\troot.Bokeh = Bokeh;\n      }} else if (Date.now() < root._bokeh_timeout) {\n      setTimeout(run_inline_js, 100);\n    } else if (!root._bokeh_failed_load) {\n      console.log(\"Bokeh: BokehJS failed to load within specified timeout.\");\n      root._bokeh_failed_load = true;\n    }\n    root._bokeh_is_initializing = false\n  }\n\n  function load_or_wait() {\n    // Implement a backoff loop that tries to ensure we do not load multiple\n    // versions of Bokeh and its dependencies at the same time.\n    // In recent versions we use the root._bokeh_is_initializing flag\n    // to determine whether there is an ongoing attempt to initialize\n    // bokeh, however for backward compatibility we also try to ensure\n    // that we do not start loading a newer (Panel>=1.0 and Bokeh>3) version\n    // before older versions are fully initialized.\n    if (root._bokeh_is_initializing && Date.now() > root._bokeh_timeout) {\n      root._bokeh_is_initializing = false;\n      root._bokeh_onload_callbacks = undefined;\n      console.log(\"Bokeh: BokehJS was loaded multiple times but one version failed to initialize.\");\n      load_or_wait();\n    } else if (root._bokeh_is_initializing || (typeof root._bokeh_is_initializing === \"undefined\" && root._bokeh_onload_callbacks !== undefined)) {\n      setTimeout(load_or_wait, 100);\n    } else {\n      Bokeh = root.Bokeh;\n      bokeh_loaded = Bokeh != null && (Bokeh.version === py_version || (Bokeh.versions !== undefined && Bokeh.versions.has(py_version)));\n      root._bokeh_is_initializing = true\n      root._bokeh_onload_callbacks = []\n      if (!reloading && (!bokeh_loaded || is_dev)) {\n\troot.Bokeh = undefined;\n      }\n      load_libs(css_urls, js_urls, js_modules, js_exports, function() {\n\tconsole.debug(\"Bokeh: BokehJS plotting callback run at\", now());\n\trun_inline_js();\n      });\n    }\n  }\n  // Give older versions of the autoload script a head-start to ensure\n  // they initialize before we start loading newer version.\n  setTimeout(load_or_wait, 100)\n}(window));",
      "application/vnd.holoviews_load.v0+json": ""
     },
     "metadata": {},
     "output_type": "display_data"
    },
    {
     "data": {
      "application/javascript": "\nif ((window.PyViz === undefined) || (window.PyViz instanceof HTMLElement)) {\n  window.PyViz = {comms: {}, comm_status:{}, kernels:{}, receivers: {}, plot_index: []}\n}\n\n\n    function JupyterCommManager() {\n    }\n\n    JupyterCommManager.prototype.register_target = function(plot_id, comm_id, msg_handler) {\n      if (window.comm_manager || ((window.Jupyter !== undefined) && (Jupyter.notebook.kernel != null))) {\n        var comm_manager = window.comm_manager || Jupyter.notebook.kernel.comm_manager;\n        comm_manager.register_target(comm_id, function(comm) {\n          comm.on_msg(msg_handler);\n        });\n      } else if ((plot_id in window.PyViz.kernels) && (window.PyViz.kernels[plot_id])) {\n        window.PyViz.kernels[plot_id].registerCommTarget(comm_id, function(comm) {\n          comm.onMsg = msg_handler;\n        });\n      } else if (typeof google != 'undefined' && google.colab.kernel != null) {\n        google.colab.kernel.comms.registerTarget(comm_id, (comm) => {\n          var messages = comm.messages[Symbol.asyncIterator]();\n          function processIteratorResult(result) {\n            var message = result.value;\n            console.log(message)\n            var content = {data: message.data, comm_id};\n            var buffers = []\n            for (var buffer of message.buffers || []) {\n              buffers.push(new DataView(buffer))\n            }\n            var metadata = message.metadata || {};\n            var msg = {content, buffers, metadata}\n            msg_handler(msg);\n            return messages.next().then(processIteratorResult);\n          }\n          return messages.next().then(processIteratorResult);\n        })\n      }\n    }\n\n    JupyterCommManager.prototype.get_client_comm = function(plot_id, comm_id, msg_handler) {\n      if (comm_id in window.PyViz.comms) {\n        return window.PyViz.comms[comm_id];\n      } else if (window.comm_manager || ((window.Jupyter !== undefined) && (Jupyter.notebook.kernel != null))) {\n        var comm_manager = window.comm_manager || Jupyter.notebook.kernel.comm_manager;\n        var comm = comm_manager.new_comm(comm_id, {}, {}, {}, comm_id);\n        if (msg_handler) {\n          comm.on_msg(msg_handler);\n        }\n      } else if ((plot_id in window.PyViz.kernels) && (window.PyViz.kernels[plot_id])) {\n        var comm = window.PyViz.kernels[plot_id].connectToComm(comm_id);\n        comm.open();\n        if (msg_handler) {\n          comm.onMsg = msg_handler;\n        }\n      } else if (typeof google != 'undefined' && google.colab.kernel != null) {\n        var comm_promise = google.colab.kernel.comms.open(comm_id)\n        comm_promise.then((comm) => {\n          window.PyViz.comms[comm_id] = comm;\n          if (msg_handler) {\n            var messages = comm.messages[Symbol.asyncIterator]();\n            function processIteratorResult(result) {\n              var message = result.value;\n              var content = {data: message.data};\n              var metadata = message.metadata || {comm_id};\n              var msg = {content, metadata}\n              msg_handler(msg);\n              return messages.next().then(processIteratorResult);\n            }\n            return messages.next().then(processIteratorResult);\n          }\n        }) \n        var sendClosure = (data, metadata, buffers, disposeOnDone) => {\n          return comm_promise.then((comm) => {\n            comm.send(data, metadata, buffers, disposeOnDone);\n          });\n        };\n        var comm = {\n          send: sendClosure\n        };\n      }\n      window.PyViz.comms[comm_id] = comm;\n      return comm;\n    }\n    window.PyViz.comm_manager = new JupyterCommManager();\n    \n\n\nvar JS_MIME_TYPE = 'application/javascript';\nvar HTML_MIME_TYPE = 'text/html';\nvar EXEC_MIME_TYPE = 'application/vnd.holoviews_exec.v0+json';\nvar CLASS_NAME = 'output';\n\n/**\n * Render data to the DOM node\n */\nfunction render(props, node) {\n  var div = document.createElement(\"div\");\n  var script = document.createElement(\"script\");\n  node.appendChild(div);\n  node.appendChild(script);\n}\n\n/**\n * Handle when a new output is added\n */\nfunction handle_add_output(event, handle) {\n  var output_area = handle.output_area;\n  var output = handle.output;\n  if ((output.data == undefined) || (!output.data.hasOwnProperty(EXEC_MIME_TYPE))) {\n    return\n  }\n  var id = output.metadata[EXEC_MIME_TYPE][\"id\"];\n  var toinsert = output_area.element.find(\".\" + CLASS_NAME.split(' ')[0]);\n  if (id !== undefined) {\n    var nchildren = toinsert.length;\n    var html_node = toinsert[nchildren-1].children[0];\n    html_node.innerHTML = output.data[HTML_MIME_TYPE];\n    var scripts = [];\n    var nodelist = html_node.querySelectorAll(\"script\");\n    for (var i in nodelist) {\n      if (nodelist.hasOwnProperty(i)) {\n        scripts.push(nodelist[i])\n      }\n    }\n\n    scripts.forEach( function (oldScript) {\n      var newScript = document.createElement(\"script\");\n      var attrs = [];\n      var nodemap = oldScript.attributes;\n      for (var j in nodemap) {\n        if (nodemap.hasOwnProperty(j)) {\n          attrs.push(nodemap[j])\n        }\n      }\n      attrs.forEach(function(attr) { newScript.setAttribute(attr.name, attr.value) });\n      newScript.appendChild(document.createTextNode(oldScript.innerHTML));\n      oldScript.parentNode.replaceChild(newScript, oldScript);\n    });\n    if (JS_MIME_TYPE in output.data) {\n      toinsert[nchildren-1].children[1].textContent = output.data[JS_MIME_TYPE];\n    }\n    output_area._hv_plot_id = id;\n    if ((window.Bokeh !== undefined) && (id in Bokeh.index)) {\n      window.PyViz.plot_index[id] = Bokeh.index[id];\n    } else {\n      window.PyViz.plot_index[id] = null;\n    }\n  } else if (output.metadata[EXEC_MIME_TYPE][\"server_id\"] !== undefined) {\n    var bk_div = document.createElement(\"div\");\n    bk_div.innerHTML = output.data[HTML_MIME_TYPE];\n    var script_attrs = bk_div.children[0].attributes;\n    for (var i = 0; i < script_attrs.length; i++) {\n      toinsert[toinsert.length - 1].childNodes[1].setAttribute(script_attrs[i].name, script_attrs[i].value);\n    }\n    // store reference to server id on output_area\n    output_area._bokeh_server_id = output.metadata[EXEC_MIME_TYPE][\"server_id\"];\n  }\n}\n\n/**\n * Handle when an output is cleared or removed\n */\nfunction handle_clear_output(event, handle) {\n  var id = handle.cell.output_area._hv_plot_id;\n  var server_id = handle.cell.output_area._bokeh_server_id;\n  if (((id === undefined) || !(id in PyViz.plot_index)) && (server_id !== undefined)) { return; }\n  var comm = window.PyViz.comm_manager.get_client_comm(\"hv-extension-comm\", \"hv-extension-comm\", function () {});\n  if (server_id !== null) {\n    comm.send({event_type: 'server_delete', 'id': server_id});\n    return;\n  } else if (comm !== null) {\n    comm.send({event_type: 'delete', 'id': id});\n  }\n  delete PyViz.plot_index[id];\n  if ((window.Bokeh !== undefined) & (id in window.Bokeh.index)) {\n    var doc = window.Bokeh.index[id].model.document\n    doc.clear();\n    const i = window.Bokeh.documents.indexOf(doc);\n    if (i > -1) {\n      window.Bokeh.documents.splice(i, 1);\n    }\n  }\n}\n\n/**\n * Handle kernel restart event\n */\nfunction handle_kernel_cleanup(event, handle) {\n  delete PyViz.comms[\"hv-extension-comm\"];\n  window.PyViz.plot_index = {}\n}\n\n/**\n * Handle update_display_data messages\n */\nfunction handle_update_output(event, handle) {\n  handle_clear_output(event, {cell: {output_area: handle.output_area}})\n  handle_add_output(event, handle)\n}\n\nfunction register_renderer(events, OutputArea) {\n  function append_mime(data, metadata, element) {\n    // create a DOM node to render to\n    var toinsert = this.create_output_subarea(\n    metadata,\n    CLASS_NAME,\n    EXEC_MIME_TYPE\n    );\n    this.keyboard_manager.register_events(toinsert);\n    // Render to node\n    var props = {data: data, metadata: metadata[EXEC_MIME_TYPE]};\n    render(props, toinsert[0]);\n    element.append(toinsert);\n    return toinsert\n  }\n\n  events.on('output_added.OutputArea', handle_add_output);\n  events.on('output_updated.OutputArea', handle_update_output);\n  events.on('clear_output.CodeCell', handle_clear_output);\n  events.on('delete.Cell', handle_clear_output);\n  events.on('kernel_ready.Kernel', handle_kernel_cleanup);\n\n  OutputArea.prototype.register_mime_type(EXEC_MIME_TYPE, append_mime, {\n    safe: true,\n    index: 0\n  });\n}\n\nif (window.Jupyter !== undefined) {\n  try {\n    var events = require('base/js/events');\n    var OutputArea = require('notebook/js/outputarea').OutputArea;\n    if (OutputArea.prototype.mime_types().indexOf(EXEC_MIME_TYPE) == -1) {\n      register_renderer(events, OutputArea);\n    }\n  } catch(err) {\n  }\n}\n",
      "application/vnd.holoviews_load.v0+json": ""
     },
     "metadata": {},
     "output_type": "display_data"
    },
    {
     "data": {
      "text/html": [
       "<style>*[data-root-id],\n",
       "*[data-root-id] > * {\n",
       "  box-sizing: border-box;\n",
       "  font-family: var(--jp-ui-font-family);\n",
       "  font-size: var(--jp-ui-font-size1);\n",
       "  color: var(--vscode-editor-foreground, var(--jp-ui-font-color1));\n",
       "}\n",
       "\n",
       "/* Override VSCode background color */\n",
       ".cell-output-ipywidget-background:has(> .cell-output-ipywidget-background\n",
       "    > .lm-Widget\n",
       "    > *[data-root-id]),\n",
       ".cell-output-ipywidget-background:has(> .lm-Widget > *[data-root-id]) {\n",
       "  background-color: transparent !important;\n",
       "}\n",
       "</style>"
      ]
     },
     "metadata": {},
     "output_type": "display_data"
    }
   ],
   "source": [
    "# Imports\n",
    "%reload_ext autoreload\n",
    "%autoreload 2\n",
    "\n",
    "import os\n",
    "import pickle\n",
    "\n",
    "import numpy as np\n",
    "import pandas as pd\n",
    "import scipy as sp\n",
    "from sklearn.feature_selection import f_classif\n",
    "import torch as t\n",
    "import torch.nn.functional as f\n",
    "import xarray as xr\n",
    "import plotly.express as px\n",
    "import plotly as py\n",
    "import plotly.subplots\n",
    "import plotly.graph_objects as go\n",
    "from einops import rearrange, repeat\n",
    "from IPython.display import Video, display\n",
    "from tqdm.auto import tqdm\n",
    "import warnings\n",
    "\n",
    "# NOTE: this is Monte's RL hooking code (and other stuff will be added in the future)\n",
    "# Install normally with: pip install circrl\n",
    "import circrl.module_hook as cmh\n",
    "import circrl.rollouts as cro\n",
    "import circrl.probing as cpr\n",
    "\n",
    "import procgen_tools.models as models\n",
    "import procgen_tools.maze as maze\n",
    "\n",
    "warnings.filterwarnings(\"ignore\", message=r'.*labels with no predicted samples.*')\n",
    "\n",
    "# Hack to make sure cwd is the script folder\n",
    "os.chdir(globals()['_dh'][0])\n",
    "\n",
    "import procgen_tools\n",
    "import matplotlib.pyplot as plt\n",
    "from procgen_tools.imports import *\n",
    "from procgen_tools import visualization, maze, vfield, patch_utils\n",
    "\n"
   ]
  },
  {
   "cell_type": "code",
   "execution_count": 2,
   "metadata": {},
   "outputs": [],
   "source": [
    "# Number of mazes to work with\n",
    "\n",
    "num_batch = 200"
   ]
  },
  {
   "cell_type": "code",
   "execution_count": 3,
   "metadata": {},
   "outputs": [],
   "source": [
    "# Functions\n",
    "\n",
    "# Takes in a maze object, position in maze, venv (collection of environments), and returns labels regarding whether the position contains object\n",
    "def is_obj_in_pos(obj, pos, venv):\n",
    "    square_is_obj = []\n",
    "\n",
    "    for env_idx in range(venv.num_envs):\n",
    "        #maze.EnvState(dd[state_bytes_key])\n",
    "\n",
    "        square_is_obj.append(maze.state_from_venv(venv, env_idx).full_grid()[pos] == obj)\n",
    "\n",
    "    square_is_obj = np.array(square_is_obj, dtype=bool)\n",
    "    return square_is_obj\n",
    "\n",
    "# Train sparse linear probes on observation of model as a baseline\n",
    "\n",
    "def test_probes_on_obs( obj_is_in_pos_array, hook_to_use, index_nums = np.array([1, 2, 3, 4, 5, 6, 7, 8, 9, 10])):\n",
    "    results, _ = cpr.sparse_linear_probe(hook_to_use, ['embedder.block1.conv_in0'], obj_is_in_pos_array, \n",
    "        index_nums=index_nums, random_state=42, class_weight='balanced', max_iter=1000, C=10.)\n",
    "    #px.line(x=index_nums, y=results.score.isel(value_label=0)).show()\n",
    "    x = pd.DataFrame({'num_activations': index_nums, 'test_score': results.score.isel(value_label=0).values}).set_index('num_activations')\n",
    "    print(x)\n",
    "\n",
    "# Plot the sparse probe scores\n",
    "def plot_sparse_probe_scores(results, y, index_nums, title, include_limits=True):\n",
    "    scores_df = results.score.to_dataframe().reset_index()\n",
    "    scores_df['K'] = index_nums[scores_df['index_num_step']]\n",
    "    fig = px.line(scores_df, x='value_label', y='score', color='K', title=title)\n",
    "    if include_limits:\n",
    "        fig.add_hline(y=1., line_dash=\"dot\", annotation_text=\"perfect\", annotation_position=\"bottom right\")\n",
    "        baseline_score = abs(y.mean()-0.5) + 0.5\n",
    "        fig.add_hline(y=baseline_score, line_dash=\"dot\", annotation_text=\"baseline\", \n",
    "                annotation_position=\"bottom right\")\n",
    "    fig.show()\n",
    "\n",
    "# Apply probes to various layers in the network\n",
    "def test_probes_layers(obj_is_in_pos_array, hook_to_use, pos, index_nums = np.array([1, 2, 10, 50, 100]),\n",
    "    value_labels_to_plot = [\n",
    "        'embedder.block1.conv_in0',\n",
    "        'embedder.block1.res1.resadd_out',\n",
    "        'embedder.block1.res2.resadd_out',\n",
    "        'embedder.block2.res1.resadd_out',\n",
    "        'embedder.block2.res2.resadd_out',\n",
    "        'embedder.block3.res1.resadd_out',\n",
    "        'embedder.block3.res2.resadd_out']\n",
    "    ):\n",
    "\n",
    "\n",
    "    results, _ = cpr.sparse_linear_probe(hook_to_use, value_labels_to_plot, obj_is_in_pos_array,\n",
    "        index_nums = index_nums, random_state=42, class_weight='balanced', max_iter=10000, C=10.)\n",
    "\n",
    "\n",
    "    plot_sparse_probe_scores(results, obj_is_in_pos_array, index_nums, \n",
    "        f'Probe score over layers and K-values for {pos} \"is open\"')\n",
    "    \n",
    "\n",
    "# Get the probe target for object location\n",
    "def get_obj_loc_targets(venv, obj_value):\n",
    "    '''Get potential probe targets for y,x (row, col) location of an\n",
    "    object, where the object is specified by obj_value as the value\n",
    "    to match on in the maze grid array.'''\n",
    "    pos_arr = maze.get_object_pos_from_seq_of_states(\n",
    "        [maze.state_from_venv(venv, env_idx).state_bytes for env_idx in range(num_batch)], obj_value)\n",
    "    pos = xr.Dataset({\n",
    "        'y': xr.DataArray(pos_arr[:,0], dims=['batch']),\n",
    "        'x': xr.DataArray(pos_arr[:,1], dims=['batch'])}).assign_coords(\n",
    "            {'batch': np.arange(num_batch)})\n",
    "    return pos\n",
    "\n",
    "# Get the probe target for top right corner\n",
    "def get_top_right_loc_targets(venv):\n",
    "    '''Get potential probe targets for y,x (row, col) location of an\n",
    "    object, where the object is specified by obj_value as the value\n",
    "    to match on in the maze grid array.'''\n",
    "    # pos_arr is array of length len(state_bytes_seq) with (y,x) locations of object\n",
    "    # pos_arr = maze.get_object_pos_from_seq_of_states(\n",
    "    #     [maze.state_from_venv(venv, env_idx).state_bytes for env_idx in range(num_batch)], obj_value)\n",
    "    # Replace with top right corner coords\n",
    "    pos_arr = np.array([[maze.state_from_venv(venv,env_idx).inner_grid().shape[0]-1, maze.state_from_venv(venv,env_idx).inner_grid().shape[0]-1] for env_idx in range(num_batch)])\n",
    "    pos = xr.Dataset({\n",
    "        'y': xr.DataArray(pos_arr[:,0], dims=['batch']),\n",
    "        'x': xr.DataArray(pos_arr[:,1], dims=['batch'])}).assign_coords(\n",
    "            {'batch': np.arange(num_batch)})\n",
    "    return pos\n",
    "\n",
    "\n",
    "def euclidian_mouse_dist_to_top_right(grid: np.ndarray) -> float:\n",
    "    \"\"\"\n",
    "    Euclidian distance from (x,y) to the cheese. default heuristic for A*\n",
    "    \"\"\"\n",
    "    #print(grid)\n",
    "    grid_size = grid.shape[0]\n",
    "    \n",
    "\n",
    "    # venv = maze.venv_from_grid(grid)\n",
    "    # visualization.visualize_venv(\n",
    "    #     venv\n",
    "    # )\n",
    "    cx, cy = maze.get_mouse_pos(grid)\n",
    "    # print(grid_size-1, grid_size-1)\n",
    "    # print(cx,cy)\n",
    "    return np.sqrt((grid_size-1 - cx) ** 2 + (grid_size-1 - cy) ** 2)\n",
    "\n",
    "def get_mouse_dist_to_top_right(venv):\n",
    "    '''Get potential probe targets for y,x (row, col) location of an\n",
    "    object, where the object is specified by obj_value as the value\n",
    "    to match on in the maze grid array.'''\n",
    "    #print(euclidian_mouse_dist_to_top_right(maze.state_from_venv(venv, 0).inner_grid()))\n",
    "    dist = [euclidian_mouse_dist_to_top_right(maze.state_from_venv(venv, env_idx).inner_grid()) for env_idx in range(num_batch)]\n",
    "    dist_arr = np.array(dist)\n",
    "    return dist_arr\n",
    "\n",
    "def visualize_maze(state: maze.EnvState) -> None:\n",
    "    venv = maze.venv_from_grid(state.inner_grid())\n",
    "    visualization.visualize_venv(venv, render_padding=False)\n",
    "\n",
    "# Helper functions for conv probes\n",
    "# \n",
    "# Some helper functions\n",
    "def grid_coord_to_value_ind(full_grid_coord, value_size):\n",
    "    '''Pick the value index that covers the majority of the grid coord pixel'''\n",
    "    # TODO: I'm pretty sure this is the best groudned approach, but ch 55 responds better to the approach in probing_main.py\n",
    "    return np.floor((full_grid_coord+0.5) * value_size/maze.WORLD_DIM).astype(int)\n",
    "\n",
    "def value_ind_to_grid_coord(value_ind, value_size):\n",
    "    '''Pick the grid coordinate index whose center is closest to the center of the value pixel'''\n",
    "    return np.floor((value_ind+0.5) * maze.WORLD_DIM/value_size).astype(int)\n",
    "\n",
    "def get_obj_pos_data(value_label, object_pos, hook_to_use):\n",
    "    '''Pick the object location and a random other location without the object so we have a\n",
    "    balanced dataset of pixels 2x the original size.'''\n",
    "    rng = np.random.default_rng(15)\n",
    "    # TODO: vectorize this!    \n",
    "    value = hook_to_use.get_value_by_label(value_label)\n",
    "    value_size = value.shape[-1]\n",
    "    num_pixels = num_batch * 2\n",
    "    pixels = np.zeros((num_pixels, value.shape[1]))\n",
    "    is_obj = np.zeros(num_pixels, dtype=bool)\n",
    "    rows_in_value = np.zeros(num_pixels, dtype=int)\n",
    "    cols_in_value = np.zeros(num_pixels, dtype=int)\n",
    "    for bb in tqdm(range(obs_all.shape[0])):\n",
    "        # Cheese location (transform from full grid row/col to row/col in this value)\n",
    "        obj_pos_value = (grid_coord_to_value_ind(\n",
    "                maze.WORLD_DIM-1 - object_pos.y[bb].item(), value_size),\n",
    "            grid_coord_to_value_ind(object_pos.x[bb].item(), value_size))\n",
    "        pixels[bb,:] = value[bb,:,obj_pos_value[0],obj_pos_value[1]]\n",
    "        is_obj[bb] = True\n",
    "        rows_in_value[bb] = obj_pos_value[0]\n",
    "        cols_in_value[bb] = obj_pos_value[1]\n",
    "        # Random pixel that isn't the object location\n",
    "        bb_rand = bb + num_batch\n",
    "        random_pos = obj_pos_value\n",
    "        while random_pos == obj_pos_value:\n",
    "            random_pos = (rng.integers(value_size), rng.integers(value_size))\n",
    "        pixels[bb_rand,:] = value[bb,:,random_pos[0],random_pos[1]]\n",
    "        is_obj[bb_rand] = False\n",
    "        rows_in_value[bb_rand] = random_pos[0]\n",
    "        cols_in_value[bb_rand] = random_pos[1]\n",
    "    return pixels, is_obj, rows_in_value, cols_in_value\n",
    "\n",
    "# def show_f_test_results(pixels, target, target_name, rows_in_value, cols_in_value):\n",
    "#     f_test, _ = cpr.f_classif_fixed(pixels, target)\n",
    "#     f_test_df = pd.Series(f_test).sort_values(ascending=False)\n",
    "\n",
    "#     fig = px.line(y=f_test_df, title=f'Sorted {target_name} f-test scores for channels of<br>{value_label}',\n",
    "#         hover_data={'channel': f_test_df.index})\n",
    "#     fig.update_layout(\n",
    "#         xaxis_title=\"channel rank\",\n",
    "#         yaxis_title=\"f-test score\",)\n",
    "#     fig.show()\n",
    "\n",
    "#     print(list(f_test_df.index[:20]))\n",
    "\n",
    "#     for ch_ind in f_test_df.index[:2]:\n",
    "#         show_pixel_histogram(pixels, target, target_name, ch_ind)\n",
    "\n",
    "def make_pixel_data(value_labels, obj_pos, hook_to_use):\n",
    "    f_test_list = []\n",
    "    pixel_data = {}\n",
    "    for value_label in value_labels:\n",
    "        pixels, is_obj, rows_in_value, cols_in_value = get_obj_pos_data(value_label, obj_pos, hook_to_use)\n",
    "        f_test, _ = cpr.f_classif_fixed(pixels, is_obj)\n",
    "        sort_inds = np.argsort(f_test)[::-1]\n",
    "        pixel_data[value_label] = (pixels, is_obj, rows_in_value, cols_in_value, f_test, sort_inds)\n",
    "        f_test_list.append(pd.DataFrame(\n",
    "            {'layer': np.full(sort_inds.shape, value_label), 'rank': np.arange(len(sort_inds)),\n",
    "            'channel': sort_inds, 'f-score': f_test[sort_inds]}))\n",
    "        #show_f_test_results(pixels, is_obj, 'cheese', rows_in_value, cols_in_value)\n",
    "    f_test_df = pd.concat(f_test_list, axis='index')\n",
    "    return pixel_data, f_test_df\n",
    "    # px.line(f_test_df, x='rank', y='f-score', color='layer', hover_data=['channel'],\n",
    "    #     title='Ranked f-test scores for \"conv pixel contains cheese\" over resadd layers').show()\n",
    "\n"
   ]
  },
  {
   "cell_type": "code",
   "execution_count": 4,
   "metadata": {},
   "outputs": [],
   "source": [
    "# Generate mazes:\n",
    "venv = maze.create_venv(num=num_batch, start_level=0, num_levels=0)\n",
    "\n"
   ]
  },
  {
   "cell_type": "code",
   "execution_count": 5,
   "metadata": {},
   "outputs": [],
   "source": [
    "# Load models:\n",
    "policy1, hook1 = load_model('15', 15)\n",
    "policy2, hook2 = load_model('1', 15)\n",
    "AX_SIZE = 2"
   ]
  },
  {
   "cell_type": "code",
   "execution_count": 27,
   "metadata": {},
   "outputs": [],
   "source": [
    "# Collect activations\n",
    "\n",
    "# Just resadd layers\n",
    "values_to_store = [\n",
    "    'embedder.block1.conv_in0',\n",
    "    'embedder.block1.res1.resadd_out',\n",
    "    'embedder.block1.res2.resadd_out',\n",
    "    'embedder.block2.res1.resadd_out',\n",
    "    'embedder.block2.res2.resadd_out',\n",
    "    'embedder.block3.res1.resadd_out',\n",
    "    'embedder.block3.res2.resadd_out',\n",
    "    # 'embedder.flatten_out',\n",
    "    # 'embedder.relufc_out',\n",
    "    # 'fc_policy_out',\n",
    "]\n",
    "\n",
    "# ReLU layers as well\n",
    "\n",
    "values_to_store = [\n",
    "    'embedder.block1.conv_in0',\n",
    "    'embedder.block1.res1.relu1_out',\n",
    "    'embedder.block1.res1.resadd_out',\n",
    "    'embedder.block1.res1.relu2_out',\n",
    "    'embedder.block1.res2.relu1_out',\n",
    "    'embedder.block1.res2.resadd_out',\n",
    "    'embedder.block1.res2.relu2_out',\n",
    "    'embedder.block2.res1.relu1_out',\n",
    "    'embedder.block2.res1.resadd_out',\n",
    "    'embedder.block2.res1.relu2_out',\n",
    "    'embedder.block2.res2.relu1_out',\n",
    "    'embedder.block2.res2.resadd_out',\n",
    "    'embedder.block2.res2.relu2_out',\n",
    "    'embedder.block3.res1.relu1_out',\n",
    "    'embedder.block3.res1.resadd_out',\n",
    "    'embedder.block3.res1.relu2_out',\n",
    "    'embedder.block3.res2.relu1_out',\n",
    "    'embedder.block3.res2.resadd_out',\n",
    "    'embedder.block3.res2.relu2_out',\n",
    "    'embedder.flatten_out',\n",
    "    'embedder.relufc_out',\n",
    "    'fc_policy_out',\n",
    "]\n",
    "\n",
    "\n",
    "\n",
    "# Run obs through model to get all the activations\n",
    "obs_all = venv.reset().astype('float32')\n",
    "\n",
    "_ = hook.run_with_input(obs_all, values_to_store=values_to_store)\n",
    "_ = hook1.run_with_input(obs_all, values_to_store=values_to_store)\n",
    "_ = hook2.run_with_input(obs_all, values_to_store=values_to_store)"
   ]
  },
  {
   "cell_type": "code",
   "execution_count": 7,
   "metadata": {},
   "outputs": [],
   "source": [
    "# Get the cheese, mouse, and top-right positions for all mazes\n",
    "cheese_pos = get_obj_loc_targets(venv, maze.CHEESE)\n",
    "mouse_pos = get_obj_loc_targets(venv, maze.MOUSE)\n",
    "top_right_pos = get_top_right_loc_targets(venv)\n",
    "\n"
   ]
  },
  {
   "cell_type": "code",
   "execution_count": 28,
   "metadata": {},
   "outputs": [
    {
     "data": {
      "application/vnd.jupyter.widget-view+json": {
       "model_id": "aeab0abbaea245ff8d2de5d9b24af5eb",
       "version_major": 2,
       "version_minor": 0
      },
      "text/plain": [
       "  0%|          | 0/19 [00:00<?, ?it/s]"
      ]
     },
     "metadata": {},
     "output_type": "display_data"
    },
    {
     "data": {
      "application/vnd.plotly.v1+json": {
       "config": {
        "plotlyServerURL": "https://plot.ly"
       },
       "data": [
        {
         "hovertemplate": "K=1<br>value_label=%{x}<br>score=%{y}<extra></extra>",
         "legendgroup": "1",
         "line": {
          "color": "#636efa",
          "dash": "solid"
         },
         "marker": {
          "symbol": "circle"
         },
         "mode": "lines",
         "name": "1",
         "orientation": "v",
         "showlegend": true,
         "type": "scatter",
         "x": [
          "embedder.block1.conv_in0",
          "embedder.block1.res1.relu1_out",
          "embedder.block1.res1.resadd_out",
          "embedder.block1.res1.relu2_out",
          "embedder.block1.res2.relu1_out",
          "embedder.block1.res2.resadd_out",
          "embedder.block1.res2.relu2_out",
          "embedder.block2.res1.relu1_out",
          "embedder.block2.res1.resadd_out",
          "embedder.block2.res1.relu2_out",
          "embedder.block2.res2.relu1_out",
          "embedder.block2.res2.resadd_out",
          "embedder.block2.res2.relu2_out",
          "embedder.block3.res1.relu1_out",
          "embedder.block3.res1.resadd_out",
          "embedder.block3.res1.relu2_out",
          "embedder.block3.res2.relu1_out",
          "embedder.block3.res2.resadd_out",
          "embedder.block3.res2.relu2_out"
         ],
         "xaxis": "x",
         "y": [
          -0.00433131101863049,
          -0.0048568596498039796,
          -0.004873994345929278,
          -0.004883172249930956,
          -0.004879805500881851,
          -0.00490231291521237,
          -0.004870258784235526,
          -0.004877554393580175,
          -0.005915034225807192,
          -0.004980581486969671,
          -0.004882227893002078,
          -0.010628855845229657,
          -0.002639829807923544,
          0.009421716386422752,
          0.1588178396815524,
          0.12831524085088608,
          0.14105313428107336,
          0.23847955647398544,
          0.15897120498076223
         ],
         "yaxis": "y"
        },
        {
         "hovertemplate": "K=10<br>value_label=%{x}<br>score=%{y}<extra></extra>",
         "legendgroup": "10",
         "line": {
          "color": "#EF553B",
          "dash": "solid"
         },
         "marker": {
          "symbol": "circle"
         },
         "mode": "lines",
         "name": "10",
         "orientation": "v",
         "showlegend": true,
         "type": "scatter",
         "x": [
          "embedder.block1.conv_in0",
          "embedder.block1.res1.relu1_out",
          "embedder.block1.res1.resadd_out",
          "embedder.block1.res1.relu2_out",
          "embedder.block1.res2.relu1_out",
          "embedder.block1.res2.resadd_out",
          "embedder.block1.res2.relu2_out",
          "embedder.block2.res1.relu1_out",
          "embedder.block2.res1.resadd_out",
          "embedder.block2.res1.relu2_out",
          "embedder.block2.res2.relu1_out",
          "embedder.block2.res2.resadd_out",
          "embedder.block2.res2.relu2_out",
          "embedder.block3.res1.relu1_out",
          "embedder.block3.res1.resadd_out",
          "embedder.block3.res1.relu2_out",
          "embedder.block3.res2.relu1_out",
          "embedder.block3.res2.resadd_out",
          "embedder.block3.res2.relu2_out"
         ],
         "xaxis": "x",
         "y": [
          0.0044477005769641975,
          -0.00497831513933833,
          -0.004780655246124699,
          -0.004672806831321763,
          -0.004928652659406563,
          -0.0047416481895175,
          -0.005021309753293179,
          -0.005371434063889513,
          -0.00019448001053690156,
          -0.006880756841071145,
          -0.0027293409422946002,
          0.028228719124326007,
          0.012068928196281914,
          0.34640996001384405,
          0.3626937121875643,
          0.2771752111783815,
          0.33615720152343576,
          0.44374535331400067,
          0.33498376507081573
         ],
         "yaxis": "y"
        },
        {
         "hovertemplate": "K=100<br>value_label=%{x}<br>score=%{y}<extra></extra>",
         "legendgroup": "100",
         "line": {
          "color": "#00cc96",
          "dash": "solid"
         },
         "marker": {
          "symbol": "circle"
         },
         "mode": "lines",
         "name": "100",
         "orientation": "v",
         "showlegend": true,
         "type": "scatter",
         "x": [
          "embedder.block1.conv_in0",
          "embedder.block1.res1.relu1_out",
          "embedder.block1.res1.resadd_out",
          "embedder.block1.res1.relu2_out",
          "embedder.block1.res2.relu1_out",
          "embedder.block1.res2.resadd_out",
          "embedder.block1.res2.relu2_out",
          "embedder.block2.res1.relu1_out",
          "embedder.block2.res1.resadd_out",
          "embedder.block2.res1.relu2_out",
          "embedder.block2.res2.relu1_out",
          "embedder.block2.res2.resadd_out",
          "embedder.block2.res2.relu2_out",
          "embedder.block3.res1.relu1_out",
          "embedder.block3.res1.resadd_out",
          "embedder.block3.res1.relu2_out",
          "embedder.block3.res2.relu1_out",
          "embedder.block3.res2.resadd_out",
          "embedder.block3.res2.relu2_out"
         ],
         "xaxis": "x",
         "y": [
          0.022697211460350974,
          -0.004664537024556381,
          -0.004929489837766088,
          -0.0064105910807537025,
          -0.004983529532079922,
          -0.010105675881532772,
          -0.005120900357319824,
          -0.01035170452191747,
          0.013585481240210195,
          -0.011948302849474235,
          0.011495908599063687,
          0.11449508386235174,
          0.05706959184756377,
          0.6116016889132853,
          0.4890480312616967,
          0.5080347992425263,
          0.5565032983909629,
          0.5636413450774217,
          0.48810453329536707
         ],
         "yaxis": "y"
        },
        {
         "hovertemplate": "K=1000<br>value_label=%{x}<br>score=%{y}<extra></extra>",
         "legendgroup": "1000",
         "line": {
          "color": "#ab63fa",
          "dash": "solid"
         },
         "marker": {
          "symbol": "circle"
         },
         "mode": "lines",
         "name": "1000",
         "orientation": "v",
         "showlegend": true,
         "type": "scatter",
         "x": [
          "embedder.block1.conv_in0",
          "embedder.block1.res1.relu1_out",
          "embedder.block1.res1.resadd_out",
          "embedder.block1.res1.relu2_out",
          "embedder.block1.res2.relu1_out",
          "embedder.block1.res2.resadd_out",
          "embedder.block1.res2.relu2_out",
          "embedder.block2.res1.relu1_out",
          "embedder.block2.res1.resadd_out",
          "embedder.block2.res1.relu2_out",
          "embedder.block2.res2.relu1_out",
          "embedder.block2.res2.resadd_out",
          "embedder.block2.res2.relu2_out",
          "embedder.block3.res1.relu1_out",
          "embedder.block3.res1.resadd_out",
          "embedder.block3.res1.relu2_out",
          "embedder.block3.res2.relu1_out",
          "embedder.block3.res2.resadd_out",
          "embedder.block3.res2.relu2_out"
         ],
         "xaxis": "x",
         "y": [
          -0.0018193506943791071,
          -0.002061957887402821,
          -0.011796105279431535,
          0.006377785561101135,
          -0.0020818034517702255,
          -0.031245181434533587,
          -0.015703502400951308,
          -0.034903640078497444,
          0.092111679181762,
          -0.005480179678361452,
          0.10887289704191483,
          0.2433019234277628,
          0.1559047754136016,
          0.7703288144386236,
          0.7220765733759854,
          0.7144006648392107,
          0.7779612852457967,
          0.7349806075946008,
          0.7159863602057708
         ],
         "yaxis": "y"
        },
        {
         "hovertemplate": "K=10000<br>value_label=%{x}<br>score=%{y}<extra></extra>",
         "legendgroup": "10000",
         "line": {
          "color": "#FFA15A",
          "dash": "solid"
         },
         "marker": {
          "symbol": "circle"
         },
         "mode": "lines",
         "name": "10000",
         "orientation": "v",
         "showlegend": true,
         "type": "scatter",
         "x": [
          "embedder.block1.conv_in0",
          "embedder.block1.res1.relu1_out",
          "embedder.block1.res1.resadd_out",
          "embedder.block1.res1.relu2_out",
          "embedder.block1.res2.relu1_out",
          "embedder.block1.res2.resadd_out",
          "embedder.block1.res2.relu2_out",
          "embedder.block2.res1.relu1_out",
          "embedder.block2.res1.resadd_out",
          "embedder.block2.res1.relu2_out",
          "embedder.block2.res2.relu1_out",
          "embedder.block2.res2.resadd_out",
          "embedder.block2.res2.relu2_out",
          "embedder.block3.res1.relu1_out",
          "embedder.block3.res1.resadd_out",
          "embedder.block3.res1.relu2_out",
          "embedder.block3.res2.relu1_out",
          "embedder.block3.res2.resadd_out",
          "embedder.block3.res2.relu2_out"
         ],
         "xaxis": "x",
         "y": [
          -0.07306315247460438,
          0.011493732340621343,
          -0.0430662945883622,
          0.03951636363553512,
          -0.005130481166240264,
          -0.07473326605909425,
          -0.045642988410871776,
          0.0017944776838073606,
          0.17508816078172207,
          0.026741873698684637,
          0.19261175380500184,
          0.3372992870014674,
          0.2563838460866942,
          0.7823820460448301,
          0.7721483522409827,
          0.774541672097667,
          0.7982213407136166,
          0.8227847885460083,
          0.7529421331884671
         ],
         "yaxis": "y"
        },
        {
         "hovertemplate": "K=100000<br>value_label=%{x}<br>score=%{y}<extra></extra>",
         "legendgroup": "100000",
         "line": {
          "color": "#19d3f3",
          "dash": "solid"
         },
         "marker": {
          "symbol": "circle"
         },
         "mode": "lines",
         "name": "100000",
         "orientation": "v",
         "showlegend": true,
         "type": "scatter",
         "x": [
          "embedder.block1.conv_in0",
          "embedder.block1.res1.relu1_out",
          "embedder.block1.res1.resadd_out",
          "embedder.block1.res1.relu2_out",
          "embedder.block1.res2.relu1_out",
          "embedder.block1.res2.resadd_out",
          "embedder.block1.res2.relu2_out",
          "embedder.block2.res1.relu1_out",
          "embedder.block2.res1.resadd_out",
          "embedder.block2.res1.relu2_out",
          "embedder.block2.res2.relu1_out",
          "embedder.block2.res2.resadd_out",
          "embedder.block2.res2.relu2_out",
          "embedder.block3.res1.relu1_out",
          "embedder.block3.res1.resadd_out",
          "embedder.block3.res1.relu2_out",
          "embedder.block3.res2.relu1_out",
          "embedder.block3.res2.resadd_out",
          "embedder.block3.res2.relu2_out"
         ],
         "xaxis": "x",
         "y": [
          -0.07970630040989657,
          -0.013351516895259152,
          -0.08196886573096784,
          0.03740987003208052,
          -0.016191788785710592,
          -0.1432242984571821,
          -0.06411357727084077,
          -0.00853282206654904,
          0.18685370644557808,
          0.038665798093692305,
          0.19393441031153547,
          0.34524732458626495,
          0.2803819669271478,
          0.7823820460448301,
          0.7721483522409827,
          0.774541672097667,
          0.7982213407136166,
          0.8227847885460083,
          0.7529421331884671
         ],
         "yaxis": "y"
        }
       ],
       "layout": {
        "legend": {
         "title": {
          "text": "K"
         },
         "tracegroupgap": 0
        },
        "template": {
         "data": {
          "bar": [
           {
            "error_x": {
             "color": "#2a3f5f"
            },
            "error_y": {
             "color": "#2a3f5f"
            },
            "marker": {
             "line": {
              "color": "#E5ECF6",
              "width": 0.5
             },
             "pattern": {
              "fillmode": "overlay",
              "size": 10,
              "solidity": 0.2
             }
            },
            "type": "bar"
           }
          ],
          "barpolar": [
           {
            "marker": {
             "line": {
              "color": "#E5ECF6",
              "width": 0.5
             },
             "pattern": {
              "fillmode": "overlay",
              "size": 10,
              "solidity": 0.2
             }
            },
            "type": "barpolar"
           }
          ],
          "carpet": [
           {
            "aaxis": {
             "endlinecolor": "#2a3f5f",
             "gridcolor": "white",
             "linecolor": "white",
             "minorgridcolor": "white",
             "startlinecolor": "#2a3f5f"
            },
            "baxis": {
             "endlinecolor": "#2a3f5f",
             "gridcolor": "white",
             "linecolor": "white",
             "minorgridcolor": "white",
             "startlinecolor": "#2a3f5f"
            },
            "type": "carpet"
           }
          ],
          "choropleth": [
           {
            "colorbar": {
             "outlinewidth": 0,
             "ticks": ""
            },
            "type": "choropleth"
           }
          ],
          "contour": [
           {
            "colorbar": {
             "outlinewidth": 0,
             "ticks": ""
            },
            "colorscale": [
             [
              0,
              "#0d0887"
             ],
             [
              0.1111111111111111,
              "#46039f"
             ],
             [
              0.2222222222222222,
              "#7201a8"
             ],
             [
              0.3333333333333333,
              "#9c179e"
             ],
             [
              0.4444444444444444,
              "#bd3786"
             ],
             [
              0.5555555555555556,
              "#d8576b"
             ],
             [
              0.6666666666666666,
              "#ed7953"
             ],
             [
              0.7777777777777778,
              "#fb9f3a"
             ],
             [
              0.8888888888888888,
              "#fdca26"
             ],
             [
              1,
              "#f0f921"
             ]
            ],
            "type": "contour"
           }
          ],
          "contourcarpet": [
           {
            "colorbar": {
             "outlinewidth": 0,
             "ticks": ""
            },
            "type": "contourcarpet"
           }
          ],
          "heatmap": [
           {
            "colorbar": {
             "outlinewidth": 0,
             "ticks": ""
            },
            "colorscale": [
             [
              0,
              "#0d0887"
             ],
             [
              0.1111111111111111,
              "#46039f"
             ],
             [
              0.2222222222222222,
              "#7201a8"
             ],
             [
              0.3333333333333333,
              "#9c179e"
             ],
             [
              0.4444444444444444,
              "#bd3786"
             ],
             [
              0.5555555555555556,
              "#d8576b"
             ],
             [
              0.6666666666666666,
              "#ed7953"
             ],
             [
              0.7777777777777778,
              "#fb9f3a"
             ],
             [
              0.8888888888888888,
              "#fdca26"
             ],
             [
              1,
              "#f0f921"
             ]
            ],
            "type": "heatmap"
           }
          ],
          "heatmapgl": [
           {
            "colorbar": {
             "outlinewidth": 0,
             "ticks": ""
            },
            "colorscale": [
             [
              0,
              "#0d0887"
             ],
             [
              0.1111111111111111,
              "#46039f"
             ],
             [
              0.2222222222222222,
              "#7201a8"
             ],
             [
              0.3333333333333333,
              "#9c179e"
             ],
             [
              0.4444444444444444,
              "#bd3786"
             ],
             [
              0.5555555555555556,
              "#d8576b"
             ],
             [
              0.6666666666666666,
              "#ed7953"
             ],
             [
              0.7777777777777778,
              "#fb9f3a"
             ],
             [
              0.8888888888888888,
              "#fdca26"
             ],
             [
              1,
              "#f0f921"
             ]
            ],
            "type": "heatmapgl"
           }
          ],
          "histogram": [
           {
            "marker": {
             "pattern": {
              "fillmode": "overlay",
              "size": 10,
              "solidity": 0.2
             }
            },
            "type": "histogram"
           }
          ],
          "histogram2d": [
           {
            "colorbar": {
             "outlinewidth": 0,
             "ticks": ""
            },
            "colorscale": [
             [
              0,
              "#0d0887"
             ],
             [
              0.1111111111111111,
              "#46039f"
             ],
             [
              0.2222222222222222,
              "#7201a8"
             ],
             [
              0.3333333333333333,
              "#9c179e"
             ],
             [
              0.4444444444444444,
              "#bd3786"
             ],
             [
              0.5555555555555556,
              "#d8576b"
             ],
             [
              0.6666666666666666,
              "#ed7953"
             ],
             [
              0.7777777777777778,
              "#fb9f3a"
             ],
             [
              0.8888888888888888,
              "#fdca26"
             ],
             [
              1,
              "#f0f921"
             ]
            ],
            "type": "histogram2d"
           }
          ],
          "histogram2dcontour": [
           {
            "colorbar": {
             "outlinewidth": 0,
             "ticks": ""
            },
            "colorscale": [
             [
              0,
              "#0d0887"
             ],
             [
              0.1111111111111111,
              "#46039f"
             ],
             [
              0.2222222222222222,
              "#7201a8"
             ],
             [
              0.3333333333333333,
              "#9c179e"
             ],
             [
              0.4444444444444444,
              "#bd3786"
             ],
             [
              0.5555555555555556,
              "#d8576b"
             ],
             [
              0.6666666666666666,
              "#ed7953"
             ],
             [
              0.7777777777777778,
              "#fb9f3a"
             ],
             [
              0.8888888888888888,
              "#fdca26"
             ],
             [
              1,
              "#f0f921"
             ]
            ],
            "type": "histogram2dcontour"
           }
          ],
          "mesh3d": [
           {
            "colorbar": {
             "outlinewidth": 0,
             "ticks": ""
            },
            "type": "mesh3d"
           }
          ],
          "parcoords": [
           {
            "line": {
             "colorbar": {
              "outlinewidth": 0,
              "ticks": ""
             }
            },
            "type": "parcoords"
           }
          ],
          "pie": [
           {
            "automargin": true,
            "type": "pie"
           }
          ],
          "scatter": [
           {
            "fillpattern": {
             "fillmode": "overlay",
             "size": 10,
             "solidity": 0.2
            },
            "type": "scatter"
           }
          ],
          "scatter3d": [
           {
            "line": {
             "colorbar": {
              "outlinewidth": 0,
              "ticks": ""
             }
            },
            "marker": {
             "colorbar": {
              "outlinewidth": 0,
              "ticks": ""
             }
            },
            "type": "scatter3d"
           }
          ],
          "scattercarpet": [
           {
            "marker": {
             "colorbar": {
              "outlinewidth": 0,
              "ticks": ""
             }
            },
            "type": "scattercarpet"
           }
          ],
          "scattergeo": [
           {
            "marker": {
             "colorbar": {
              "outlinewidth": 0,
              "ticks": ""
             }
            },
            "type": "scattergeo"
           }
          ],
          "scattergl": [
           {
            "marker": {
             "colorbar": {
              "outlinewidth": 0,
              "ticks": ""
             }
            },
            "type": "scattergl"
           }
          ],
          "scattermapbox": [
           {
            "marker": {
             "colorbar": {
              "outlinewidth": 0,
              "ticks": ""
             }
            },
            "type": "scattermapbox"
           }
          ],
          "scatterpolar": [
           {
            "marker": {
             "colorbar": {
              "outlinewidth": 0,
              "ticks": ""
             }
            },
            "type": "scatterpolar"
           }
          ],
          "scatterpolargl": [
           {
            "marker": {
             "colorbar": {
              "outlinewidth": 0,
              "ticks": ""
             }
            },
            "type": "scatterpolargl"
           }
          ],
          "scatterternary": [
           {
            "marker": {
             "colorbar": {
              "outlinewidth": 0,
              "ticks": ""
             }
            },
            "type": "scatterternary"
           }
          ],
          "surface": [
           {
            "colorbar": {
             "outlinewidth": 0,
             "ticks": ""
            },
            "colorscale": [
             [
              0,
              "#0d0887"
             ],
             [
              0.1111111111111111,
              "#46039f"
             ],
             [
              0.2222222222222222,
              "#7201a8"
             ],
             [
              0.3333333333333333,
              "#9c179e"
             ],
             [
              0.4444444444444444,
              "#bd3786"
             ],
             [
              0.5555555555555556,
              "#d8576b"
             ],
             [
              0.6666666666666666,
              "#ed7953"
             ],
             [
              0.7777777777777778,
              "#fb9f3a"
             ],
             [
              0.8888888888888888,
              "#fdca26"
             ],
             [
              1,
              "#f0f921"
             ]
            ],
            "type": "surface"
           }
          ],
          "table": [
           {
            "cells": {
             "fill": {
              "color": "#EBF0F8"
             },
             "line": {
              "color": "white"
             }
            },
            "header": {
             "fill": {
              "color": "#C8D4E3"
             },
             "line": {
              "color": "white"
             }
            },
            "type": "table"
           }
          ]
         },
         "layout": {
          "annotationdefaults": {
           "arrowcolor": "#2a3f5f",
           "arrowhead": 0,
           "arrowwidth": 1
          },
          "autotypenumbers": "strict",
          "coloraxis": {
           "colorbar": {
            "outlinewidth": 0,
            "ticks": ""
           }
          },
          "colorscale": {
           "diverging": [
            [
             0,
             "#8e0152"
            ],
            [
             0.1,
             "#c51b7d"
            ],
            [
             0.2,
             "#de77ae"
            ],
            [
             0.3,
             "#f1b6da"
            ],
            [
             0.4,
             "#fde0ef"
            ],
            [
             0.5,
             "#f7f7f7"
            ],
            [
             0.6,
             "#e6f5d0"
            ],
            [
             0.7,
             "#b8e186"
            ],
            [
             0.8,
             "#7fbc41"
            ],
            [
             0.9,
             "#4d9221"
            ],
            [
             1,
             "#276419"
            ]
           ],
           "sequential": [
            [
             0,
             "#0d0887"
            ],
            [
             0.1111111111111111,
             "#46039f"
            ],
            [
             0.2222222222222222,
             "#7201a8"
            ],
            [
             0.3333333333333333,
             "#9c179e"
            ],
            [
             0.4444444444444444,
             "#bd3786"
            ],
            [
             0.5555555555555556,
             "#d8576b"
            ],
            [
             0.6666666666666666,
             "#ed7953"
            ],
            [
             0.7777777777777778,
             "#fb9f3a"
            ],
            [
             0.8888888888888888,
             "#fdca26"
            ],
            [
             1,
             "#f0f921"
            ]
           ],
           "sequentialminus": [
            [
             0,
             "#0d0887"
            ],
            [
             0.1111111111111111,
             "#46039f"
            ],
            [
             0.2222222222222222,
             "#7201a8"
            ],
            [
             0.3333333333333333,
             "#9c179e"
            ],
            [
             0.4444444444444444,
             "#bd3786"
            ],
            [
             0.5555555555555556,
             "#d8576b"
            ],
            [
             0.6666666666666666,
             "#ed7953"
            ],
            [
             0.7777777777777778,
             "#fb9f3a"
            ],
            [
             0.8888888888888888,
             "#fdca26"
            ],
            [
             1,
             "#f0f921"
            ]
           ]
          },
          "colorway": [
           "#636efa",
           "#EF553B",
           "#00cc96",
           "#ab63fa",
           "#FFA15A",
           "#19d3f3",
           "#FF6692",
           "#B6E880",
           "#FF97FF",
           "#FECB52"
          ],
          "font": {
           "color": "#2a3f5f"
          },
          "geo": {
           "bgcolor": "white",
           "lakecolor": "white",
           "landcolor": "#E5ECF6",
           "showlakes": true,
           "showland": true,
           "subunitcolor": "white"
          },
          "hoverlabel": {
           "align": "left"
          },
          "hovermode": "closest",
          "mapbox": {
           "style": "light"
          },
          "paper_bgcolor": "white",
          "plot_bgcolor": "#E5ECF6",
          "polar": {
           "angularaxis": {
            "gridcolor": "white",
            "linecolor": "white",
            "ticks": ""
           },
           "bgcolor": "#E5ECF6",
           "radialaxis": {
            "gridcolor": "white",
            "linecolor": "white",
            "ticks": ""
           }
          },
          "scene": {
           "xaxis": {
            "backgroundcolor": "#E5ECF6",
            "gridcolor": "white",
            "gridwidth": 2,
            "linecolor": "white",
            "showbackground": true,
            "ticks": "",
            "zerolinecolor": "white"
           },
           "yaxis": {
            "backgroundcolor": "#E5ECF6",
            "gridcolor": "white",
            "gridwidth": 2,
            "linecolor": "white",
            "showbackground": true,
            "ticks": "",
            "zerolinecolor": "white"
           },
           "zaxis": {
            "backgroundcolor": "#E5ECF6",
            "gridcolor": "white",
            "gridwidth": 2,
            "linecolor": "white",
            "showbackground": true,
            "ticks": "",
            "zerolinecolor": "white"
           }
          },
          "shapedefaults": {
           "line": {
            "color": "#2a3f5f"
           }
          },
          "ternary": {
           "aaxis": {
            "gridcolor": "white",
            "linecolor": "white",
            "ticks": ""
           },
           "baxis": {
            "gridcolor": "white",
            "linecolor": "white",
            "ticks": ""
           },
           "bgcolor": "#E5ECF6",
           "caxis": {
            "gridcolor": "white",
            "linecolor": "white",
            "ticks": ""
           }
          },
          "title": {
           "x": 0.05
          },
          "xaxis": {
           "automargin": true,
           "gridcolor": "white",
           "linecolor": "white",
           "ticks": "",
           "title": {
            "standoff": 15
           },
           "zerolinecolor": "white",
           "zerolinewidth": 2
          },
          "yaxis": {
           "automargin": true,
           "gridcolor": "white",
           "linecolor": "white",
           "ticks": "",
           "title": {
            "standoff": 15
           },
           "zerolinecolor": "white",
           "zerolinewidth": 2
          }
         }
        },
        "title": {
         "text": "Probe score over layers and K-values for cheese_pos_y and model 1-Mouse"
        },
        "xaxis": {
         "anchor": "y",
         "domain": [
          0,
          1
         ],
         "title": {
          "text": "value_label"
         }
        },
        "yaxis": {
         "anchor": "x",
         "domain": [
          0,
          1
         ],
         "title": {
          "text": "score"
         }
        }
       }
      },
      "text/html": [
       "<div>                            <div id=\"624d95e5-29bb-4bc9-8502-716bd5e115fa\" class=\"plotly-graph-div\" style=\"height:525px; width:100%;\"></div>            <script type=\"text/javascript\">                require([\"plotly\"], function(Plotly) {                    window.PLOTLYENV=window.PLOTLYENV || {};                                    if (document.getElementById(\"624d95e5-29bb-4bc9-8502-716bd5e115fa\")) {                    Plotly.newPlot(                        \"624d95e5-29bb-4bc9-8502-716bd5e115fa\",                        [{\"hovertemplate\":\"K=1\\u003cbr\\u003evalue_label=%{x}\\u003cbr\\u003escore=%{y}\\u003cextra\\u003e\\u003c\\u002fextra\\u003e\",\"legendgroup\":\"1\",\"line\":{\"color\":\"#636efa\",\"dash\":\"solid\"},\"marker\":{\"symbol\":\"circle\"},\"mode\":\"lines\",\"name\":\"1\",\"orientation\":\"v\",\"showlegend\":true,\"x\":[\"embedder.block1.conv_in0\",\"embedder.block1.res1.relu1_out\",\"embedder.block1.res1.resadd_out\",\"embedder.block1.res1.relu2_out\",\"embedder.block1.res2.relu1_out\",\"embedder.block1.res2.resadd_out\",\"embedder.block1.res2.relu2_out\",\"embedder.block2.res1.relu1_out\",\"embedder.block2.res1.resadd_out\",\"embedder.block2.res1.relu2_out\",\"embedder.block2.res2.relu1_out\",\"embedder.block2.res2.resadd_out\",\"embedder.block2.res2.relu2_out\",\"embedder.block3.res1.relu1_out\",\"embedder.block3.res1.resadd_out\",\"embedder.block3.res1.relu2_out\",\"embedder.block3.res2.relu1_out\",\"embedder.block3.res2.resadd_out\",\"embedder.block3.res2.relu2_out\"],\"xaxis\":\"x\",\"y\":[-0.00433131101863049,-0.0048568596498039796,-0.004873994345929278,-0.004883172249930956,-0.004879805500881851,-0.00490231291521237,-0.004870258784235526,-0.004877554393580175,-0.005915034225807192,-0.004980581486969671,-0.004882227893002078,-0.010628855845229657,-0.002639829807923544,0.009421716386422752,0.1588178396815524,0.12831524085088608,0.14105313428107336,0.23847955647398544,0.15897120498076223],\"yaxis\":\"y\",\"type\":\"scatter\"},{\"hovertemplate\":\"K=10\\u003cbr\\u003evalue_label=%{x}\\u003cbr\\u003escore=%{y}\\u003cextra\\u003e\\u003c\\u002fextra\\u003e\",\"legendgroup\":\"10\",\"line\":{\"color\":\"#EF553B\",\"dash\":\"solid\"},\"marker\":{\"symbol\":\"circle\"},\"mode\":\"lines\",\"name\":\"10\",\"orientation\":\"v\",\"showlegend\":true,\"x\":[\"embedder.block1.conv_in0\",\"embedder.block1.res1.relu1_out\",\"embedder.block1.res1.resadd_out\",\"embedder.block1.res1.relu2_out\",\"embedder.block1.res2.relu1_out\",\"embedder.block1.res2.resadd_out\",\"embedder.block1.res2.relu2_out\",\"embedder.block2.res1.relu1_out\",\"embedder.block2.res1.resadd_out\",\"embedder.block2.res1.relu2_out\",\"embedder.block2.res2.relu1_out\",\"embedder.block2.res2.resadd_out\",\"embedder.block2.res2.relu2_out\",\"embedder.block3.res1.relu1_out\",\"embedder.block3.res1.resadd_out\",\"embedder.block3.res1.relu2_out\",\"embedder.block3.res2.relu1_out\",\"embedder.block3.res2.resadd_out\",\"embedder.block3.res2.relu2_out\"],\"xaxis\":\"x\",\"y\":[0.0044477005769641975,-0.00497831513933833,-0.004780655246124699,-0.004672806831321763,-0.004928652659406563,-0.0047416481895175,-0.005021309753293179,-0.005371434063889513,-0.00019448001053690156,-0.006880756841071145,-0.0027293409422946002,0.028228719124326007,0.012068928196281914,0.34640996001384405,0.3626937121875643,0.2771752111783815,0.33615720152343576,0.44374535331400067,0.33498376507081573],\"yaxis\":\"y\",\"type\":\"scatter\"},{\"hovertemplate\":\"K=100\\u003cbr\\u003evalue_label=%{x}\\u003cbr\\u003escore=%{y}\\u003cextra\\u003e\\u003c\\u002fextra\\u003e\",\"legendgroup\":\"100\",\"line\":{\"color\":\"#00cc96\",\"dash\":\"solid\"},\"marker\":{\"symbol\":\"circle\"},\"mode\":\"lines\",\"name\":\"100\",\"orientation\":\"v\",\"showlegend\":true,\"x\":[\"embedder.block1.conv_in0\",\"embedder.block1.res1.relu1_out\",\"embedder.block1.res1.resadd_out\",\"embedder.block1.res1.relu2_out\",\"embedder.block1.res2.relu1_out\",\"embedder.block1.res2.resadd_out\",\"embedder.block1.res2.relu2_out\",\"embedder.block2.res1.relu1_out\",\"embedder.block2.res1.resadd_out\",\"embedder.block2.res1.relu2_out\",\"embedder.block2.res2.relu1_out\",\"embedder.block2.res2.resadd_out\",\"embedder.block2.res2.relu2_out\",\"embedder.block3.res1.relu1_out\",\"embedder.block3.res1.resadd_out\",\"embedder.block3.res1.relu2_out\",\"embedder.block3.res2.relu1_out\",\"embedder.block3.res2.resadd_out\",\"embedder.block3.res2.relu2_out\"],\"xaxis\":\"x\",\"y\":[0.022697211460350974,-0.004664537024556381,-0.004929489837766088,-0.0064105910807537025,-0.004983529532079922,-0.010105675881532772,-0.005120900357319824,-0.01035170452191747,0.013585481240210195,-0.011948302849474235,0.011495908599063687,0.11449508386235174,0.05706959184756377,0.6116016889132853,0.4890480312616967,0.5080347992425263,0.5565032983909629,0.5636413450774217,0.48810453329536707],\"yaxis\":\"y\",\"type\":\"scatter\"},{\"hovertemplate\":\"K=1000\\u003cbr\\u003evalue_label=%{x}\\u003cbr\\u003escore=%{y}\\u003cextra\\u003e\\u003c\\u002fextra\\u003e\",\"legendgroup\":\"1000\",\"line\":{\"color\":\"#ab63fa\",\"dash\":\"solid\"},\"marker\":{\"symbol\":\"circle\"},\"mode\":\"lines\",\"name\":\"1000\",\"orientation\":\"v\",\"showlegend\":true,\"x\":[\"embedder.block1.conv_in0\",\"embedder.block1.res1.relu1_out\",\"embedder.block1.res1.resadd_out\",\"embedder.block1.res1.relu2_out\",\"embedder.block1.res2.relu1_out\",\"embedder.block1.res2.resadd_out\",\"embedder.block1.res2.relu2_out\",\"embedder.block2.res1.relu1_out\",\"embedder.block2.res1.resadd_out\",\"embedder.block2.res1.relu2_out\",\"embedder.block2.res2.relu1_out\",\"embedder.block2.res2.resadd_out\",\"embedder.block2.res2.relu2_out\",\"embedder.block3.res1.relu1_out\",\"embedder.block3.res1.resadd_out\",\"embedder.block3.res1.relu2_out\",\"embedder.block3.res2.relu1_out\",\"embedder.block3.res2.resadd_out\",\"embedder.block3.res2.relu2_out\"],\"xaxis\":\"x\",\"y\":[-0.0018193506943791071,-0.002061957887402821,-0.011796105279431535,0.006377785561101135,-0.0020818034517702255,-0.031245181434533587,-0.015703502400951308,-0.034903640078497444,0.092111679181762,-0.005480179678361452,0.10887289704191483,0.2433019234277628,0.1559047754136016,0.7703288144386236,0.7220765733759854,0.7144006648392107,0.7779612852457967,0.7349806075946008,0.7159863602057708],\"yaxis\":\"y\",\"type\":\"scatter\"},{\"hovertemplate\":\"K=10000\\u003cbr\\u003evalue_label=%{x}\\u003cbr\\u003escore=%{y}\\u003cextra\\u003e\\u003c\\u002fextra\\u003e\",\"legendgroup\":\"10000\",\"line\":{\"color\":\"#FFA15A\",\"dash\":\"solid\"},\"marker\":{\"symbol\":\"circle\"},\"mode\":\"lines\",\"name\":\"10000\",\"orientation\":\"v\",\"showlegend\":true,\"x\":[\"embedder.block1.conv_in0\",\"embedder.block1.res1.relu1_out\",\"embedder.block1.res1.resadd_out\",\"embedder.block1.res1.relu2_out\",\"embedder.block1.res2.relu1_out\",\"embedder.block1.res2.resadd_out\",\"embedder.block1.res2.relu2_out\",\"embedder.block2.res1.relu1_out\",\"embedder.block2.res1.resadd_out\",\"embedder.block2.res1.relu2_out\",\"embedder.block2.res2.relu1_out\",\"embedder.block2.res2.resadd_out\",\"embedder.block2.res2.relu2_out\",\"embedder.block3.res1.relu1_out\",\"embedder.block3.res1.resadd_out\",\"embedder.block3.res1.relu2_out\",\"embedder.block3.res2.relu1_out\",\"embedder.block3.res2.resadd_out\",\"embedder.block3.res2.relu2_out\"],\"xaxis\":\"x\",\"y\":[-0.07306315247460438,0.011493732340621343,-0.0430662945883622,0.03951636363553512,-0.005130481166240264,-0.07473326605909425,-0.045642988410871776,0.0017944776838073606,0.17508816078172207,0.026741873698684637,0.19261175380500184,0.3372992870014674,0.2563838460866942,0.7823820460448301,0.7721483522409827,0.774541672097667,0.7982213407136166,0.8227847885460083,0.7529421331884671],\"yaxis\":\"y\",\"type\":\"scatter\"},{\"hovertemplate\":\"K=100000\\u003cbr\\u003evalue_label=%{x}\\u003cbr\\u003escore=%{y}\\u003cextra\\u003e\\u003c\\u002fextra\\u003e\",\"legendgroup\":\"100000\",\"line\":{\"color\":\"#19d3f3\",\"dash\":\"solid\"},\"marker\":{\"symbol\":\"circle\"},\"mode\":\"lines\",\"name\":\"100000\",\"orientation\":\"v\",\"showlegend\":true,\"x\":[\"embedder.block1.conv_in0\",\"embedder.block1.res1.relu1_out\",\"embedder.block1.res1.resadd_out\",\"embedder.block1.res1.relu2_out\",\"embedder.block1.res2.relu1_out\",\"embedder.block1.res2.resadd_out\",\"embedder.block1.res2.relu2_out\",\"embedder.block2.res1.relu1_out\",\"embedder.block2.res1.resadd_out\",\"embedder.block2.res1.relu2_out\",\"embedder.block2.res2.relu1_out\",\"embedder.block2.res2.resadd_out\",\"embedder.block2.res2.relu2_out\",\"embedder.block3.res1.relu1_out\",\"embedder.block3.res1.resadd_out\",\"embedder.block3.res1.relu2_out\",\"embedder.block3.res2.relu1_out\",\"embedder.block3.res2.resadd_out\",\"embedder.block3.res2.relu2_out\"],\"xaxis\":\"x\",\"y\":[-0.07970630040989657,-0.013351516895259152,-0.08196886573096784,0.03740987003208052,-0.016191788785710592,-0.1432242984571821,-0.06411357727084077,-0.00853282206654904,0.18685370644557808,0.038665798093692305,0.19393441031153547,0.34524732458626495,0.2803819669271478,0.7823820460448301,0.7721483522409827,0.774541672097667,0.7982213407136166,0.8227847885460083,0.7529421331884671],\"yaxis\":\"y\",\"type\":\"scatter\"}],                        {\"template\":{\"data\":{\"histogram2dcontour\":[{\"type\":\"histogram2dcontour\",\"colorbar\":{\"outlinewidth\":0,\"ticks\":\"\"},\"colorscale\":[[0.0,\"#0d0887\"],[0.1111111111111111,\"#46039f\"],[0.2222222222222222,\"#7201a8\"],[0.3333333333333333,\"#9c179e\"],[0.4444444444444444,\"#bd3786\"],[0.5555555555555556,\"#d8576b\"],[0.6666666666666666,\"#ed7953\"],[0.7777777777777778,\"#fb9f3a\"],[0.8888888888888888,\"#fdca26\"],[1.0,\"#f0f921\"]]}],\"choropleth\":[{\"type\":\"choropleth\",\"colorbar\":{\"outlinewidth\":0,\"ticks\":\"\"}}],\"histogram2d\":[{\"type\":\"histogram2d\",\"colorbar\":{\"outlinewidth\":0,\"ticks\":\"\"},\"colorscale\":[[0.0,\"#0d0887\"],[0.1111111111111111,\"#46039f\"],[0.2222222222222222,\"#7201a8\"],[0.3333333333333333,\"#9c179e\"],[0.4444444444444444,\"#bd3786\"],[0.5555555555555556,\"#d8576b\"],[0.6666666666666666,\"#ed7953\"],[0.7777777777777778,\"#fb9f3a\"],[0.8888888888888888,\"#fdca26\"],[1.0,\"#f0f921\"]]}],\"heatmap\":[{\"type\":\"heatmap\",\"colorbar\":{\"outlinewidth\":0,\"ticks\":\"\"},\"colorscale\":[[0.0,\"#0d0887\"],[0.1111111111111111,\"#46039f\"],[0.2222222222222222,\"#7201a8\"],[0.3333333333333333,\"#9c179e\"],[0.4444444444444444,\"#bd3786\"],[0.5555555555555556,\"#d8576b\"],[0.6666666666666666,\"#ed7953\"],[0.7777777777777778,\"#fb9f3a\"],[0.8888888888888888,\"#fdca26\"],[1.0,\"#f0f921\"]]}],\"heatmapgl\":[{\"type\":\"heatmapgl\",\"colorbar\":{\"outlinewidth\":0,\"ticks\":\"\"},\"colorscale\":[[0.0,\"#0d0887\"],[0.1111111111111111,\"#46039f\"],[0.2222222222222222,\"#7201a8\"],[0.3333333333333333,\"#9c179e\"],[0.4444444444444444,\"#bd3786\"],[0.5555555555555556,\"#d8576b\"],[0.6666666666666666,\"#ed7953\"],[0.7777777777777778,\"#fb9f3a\"],[0.8888888888888888,\"#fdca26\"],[1.0,\"#f0f921\"]]}],\"contourcarpet\":[{\"type\":\"contourcarpet\",\"colorbar\":{\"outlinewidth\":0,\"ticks\":\"\"}}],\"contour\":[{\"type\":\"contour\",\"colorbar\":{\"outlinewidth\":0,\"ticks\":\"\"},\"colorscale\":[[0.0,\"#0d0887\"],[0.1111111111111111,\"#46039f\"],[0.2222222222222222,\"#7201a8\"],[0.3333333333333333,\"#9c179e\"],[0.4444444444444444,\"#bd3786\"],[0.5555555555555556,\"#d8576b\"],[0.6666666666666666,\"#ed7953\"],[0.7777777777777778,\"#fb9f3a\"],[0.8888888888888888,\"#fdca26\"],[1.0,\"#f0f921\"]]}],\"surface\":[{\"type\":\"surface\",\"colorbar\":{\"outlinewidth\":0,\"ticks\":\"\"},\"colorscale\":[[0.0,\"#0d0887\"],[0.1111111111111111,\"#46039f\"],[0.2222222222222222,\"#7201a8\"],[0.3333333333333333,\"#9c179e\"],[0.4444444444444444,\"#bd3786\"],[0.5555555555555556,\"#d8576b\"],[0.6666666666666666,\"#ed7953\"],[0.7777777777777778,\"#fb9f3a\"],[0.8888888888888888,\"#fdca26\"],[1.0,\"#f0f921\"]]}],\"mesh3d\":[{\"type\":\"mesh3d\",\"colorbar\":{\"outlinewidth\":0,\"ticks\":\"\"}}],\"scatter\":[{\"fillpattern\":{\"fillmode\":\"overlay\",\"size\":10,\"solidity\":0.2},\"type\":\"scatter\"}],\"parcoords\":[{\"type\":\"parcoords\",\"line\":{\"colorbar\":{\"outlinewidth\":0,\"ticks\":\"\"}}}],\"scatterpolargl\":[{\"type\":\"scatterpolargl\",\"marker\":{\"colorbar\":{\"outlinewidth\":0,\"ticks\":\"\"}}}],\"bar\":[{\"error_x\":{\"color\":\"#2a3f5f\"},\"error_y\":{\"color\":\"#2a3f5f\"},\"marker\":{\"line\":{\"color\":\"#E5ECF6\",\"width\":0.5},\"pattern\":{\"fillmode\":\"overlay\",\"size\":10,\"solidity\":0.2}},\"type\":\"bar\"}],\"scattergeo\":[{\"type\":\"scattergeo\",\"marker\":{\"colorbar\":{\"outlinewidth\":0,\"ticks\":\"\"}}}],\"scatterpolar\":[{\"type\":\"scatterpolar\",\"marker\":{\"colorbar\":{\"outlinewidth\":0,\"ticks\":\"\"}}}],\"histogram\":[{\"marker\":{\"pattern\":{\"fillmode\":\"overlay\",\"size\":10,\"solidity\":0.2}},\"type\":\"histogram\"}],\"scattergl\":[{\"type\":\"scattergl\",\"marker\":{\"colorbar\":{\"outlinewidth\":0,\"ticks\":\"\"}}}],\"scatter3d\":[{\"type\":\"scatter3d\",\"line\":{\"colorbar\":{\"outlinewidth\":0,\"ticks\":\"\"}},\"marker\":{\"colorbar\":{\"outlinewidth\":0,\"ticks\":\"\"}}}],\"scattermapbox\":[{\"type\":\"scattermapbox\",\"marker\":{\"colorbar\":{\"outlinewidth\":0,\"ticks\":\"\"}}}],\"scatterternary\":[{\"type\":\"scatterternary\",\"marker\":{\"colorbar\":{\"outlinewidth\":0,\"ticks\":\"\"}}}],\"scattercarpet\":[{\"type\":\"scattercarpet\",\"marker\":{\"colorbar\":{\"outlinewidth\":0,\"ticks\":\"\"}}}],\"carpet\":[{\"aaxis\":{\"endlinecolor\":\"#2a3f5f\",\"gridcolor\":\"white\",\"linecolor\":\"white\",\"minorgridcolor\":\"white\",\"startlinecolor\":\"#2a3f5f\"},\"baxis\":{\"endlinecolor\":\"#2a3f5f\",\"gridcolor\":\"white\",\"linecolor\":\"white\",\"minorgridcolor\":\"white\",\"startlinecolor\":\"#2a3f5f\"},\"type\":\"carpet\"}],\"table\":[{\"cells\":{\"fill\":{\"color\":\"#EBF0F8\"},\"line\":{\"color\":\"white\"}},\"header\":{\"fill\":{\"color\":\"#C8D4E3\"},\"line\":{\"color\":\"white\"}},\"type\":\"table\"}],\"barpolar\":[{\"marker\":{\"line\":{\"color\":\"#E5ECF6\",\"width\":0.5},\"pattern\":{\"fillmode\":\"overlay\",\"size\":10,\"solidity\":0.2}},\"type\":\"barpolar\"}],\"pie\":[{\"automargin\":true,\"type\":\"pie\"}]},\"layout\":{\"autotypenumbers\":\"strict\",\"colorway\":[\"#636efa\",\"#EF553B\",\"#00cc96\",\"#ab63fa\",\"#FFA15A\",\"#19d3f3\",\"#FF6692\",\"#B6E880\",\"#FF97FF\",\"#FECB52\"],\"font\":{\"color\":\"#2a3f5f\"},\"hovermode\":\"closest\",\"hoverlabel\":{\"align\":\"left\"},\"paper_bgcolor\":\"white\",\"plot_bgcolor\":\"#E5ECF6\",\"polar\":{\"bgcolor\":\"#E5ECF6\",\"angularaxis\":{\"gridcolor\":\"white\",\"linecolor\":\"white\",\"ticks\":\"\"},\"radialaxis\":{\"gridcolor\":\"white\",\"linecolor\":\"white\",\"ticks\":\"\"}},\"ternary\":{\"bgcolor\":\"#E5ECF6\",\"aaxis\":{\"gridcolor\":\"white\",\"linecolor\":\"white\",\"ticks\":\"\"},\"baxis\":{\"gridcolor\":\"white\",\"linecolor\":\"white\",\"ticks\":\"\"},\"caxis\":{\"gridcolor\":\"white\",\"linecolor\":\"white\",\"ticks\":\"\"}},\"coloraxis\":{\"colorbar\":{\"outlinewidth\":0,\"ticks\":\"\"}},\"colorscale\":{\"sequential\":[[0.0,\"#0d0887\"],[0.1111111111111111,\"#46039f\"],[0.2222222222222222,\"#7201a8\"],[0.3333333333333333,\"#9c179e\"],[0.4444444444444444,\"#bd3786\"],[0.5555555555555556,\"#d8576b\"],[0.6666666666666666,\"#ed7953\"],[0.7777777777777778,\"#fb9f3a\"],[0.8888888888888888,\"#fdca26\"],[1.0,\"#f0f921\"]],\"sequentialminus\":[[0.0,\"#0d0887\"],[0.1111111111111111,\"#46039f\"],[0.2222222222222222,\"#7201a8\"],[0.3333333333333333,\"#9c179e\"],[0.4444444444444444,\"#bd3786\"],[0.5555555555555556,\"#d8576b\"],[0.6666666666666666,\"#ed7953\"],[0.7777777777777778,\"#fb9f3a\"],[0.8888888888888888,\"#fdca26\"],[1.0,\"#f0f921\"]],\"diverging\":[[0,\"#8e0152\"],[0.1,\"#c51b7d\"],[0.2,\"#de77ae\"],[0.3,\"#f1b6da\"],[0.4,\"#fde0ef\"],[0.5,\"#f7f7f7\"],[0.6,\"#e6f5d0\"],[0.7,\"#b8e186\"],[0.8,\"#7fbc41\"],[0.9,\"#4d9221\"],[1,\"#276419\"]]},\"xaxis\":{\"gridcolor\":\"white\",\"linecolor\":\"white\",\"ticks\":\"\",\"title\":{\"standoff\":15},\"zerolinecolor\":\"white\",\"automargin\":true,\"zerolinewidth\":2},\"yaxis\":{\"gridcolor\":\"white\",\"linecolor\":\"white\",\"ticks\":\"\",\"title\":{\"standoff\":15},\"zerolinecolor\":\"white\",\"automargin\":true,\"zerolinewidth\":2},\"scene\":{\"xaxis\":{\"backgroundcolor\":\"#E5ECF6\",\"gridcolor\":\"white\",\"linecolor\":\"white\",\"showbackground\":true,\"ticks\":\"\",\"zerolinecolor\":\"white\",\"gridwidth\":2},\"yaxis\":{\"backgroundcolor\":\"#E5ECF6\",\"gridcolor\":\"white\",\"linecolor\":\"white\",\"showbackground\":true,\"ticks\":\"\",\"zerolinecolor\":\"white\",\"gridwidth\":2},\"zaxis\":{\"backgroundcolor\":\"#E5ECF6\",\"gridcolor\":\"white\",\"linecolor\":\"white\",\"showbackground\":true,\"ticks\":\"\",\"zerolinecolor\":\"white\",\"gridwidth\":2}},\"shapedefaults\":{\"line\":{\"color\":\"#2a3f5f\"}},\"annotationdefaults\":{\"arrowcolor\":\"#2a3f5f\",\"arrowhead\":0,\"arrowwidth\":1},\"geo\":{\"bgcolor\":\"white\",\"landcolor\":\"#E5ECF6\",\"subunitcolor\":\"white\",\"showland\":true,\"showlakes\":true,\"lakecolor\":\"white\"},\"title\":{\"x\":0.05},\"mapbox\":{\"style\":\"light\"}}},\"xaxis\":{\"anchor\":\"y\",\"domain\":[0.0,1.0],\"title\":{\"text\":\"value_label\"}},\"yaxis\":{\"anchor\":\"x\",\"domain\":[0.0,1.0],\"title\":{\"text\":\"score\"}},\"legend\":{\"title\":{\"text\":\"K\"},\"tracegroupgap\":0},\"title\":{\"text\":\"Probe score over layers and K-values for cheese_pos_y and model 1-Mouse\"}},                        {\"responsive\": true}                    ).then(function(){\n",
       "                            \n",
       "var gd = document.getElementById('624d95e5-29bb-4bc9-8502-716bd5e115fa');\n",
       "var x = new MutationObserver(function (mutations, observer) {{\n",
       "        var display = window.getComputedStyle(gd).display;\n",
       "        if (!display || display === 'none') {{\n",
       "            console.log([gd, 'removed!']);\n",
       "            Plotly.purge(gd);\n",
       "            observer.disconnect();\n",
       "        }}\n",
       "}});\n",
       "\n",
       "// Listen for the removal of the full notebook cells\n",
       "var notebookContainer = gd.closest('#notebook-container');\n",
       "if (notebookContainer) {{\n",
       "    x.observe(notebookContainer, {childList: true});\n",
       "}}\n",
       "\n",
       "// Listen for the clearing of the current output cell\n",
       "var outputEl = gd.closest('.output');\n",
       "if (outputEl) {{\n",
       "    x.observe(outputEl, {childList: true});\n",
       "}}\n",
       "\n",
       "                        })                };                });            </script>        </div>"
      ]
     },
     "metadata": {},
     "output_type": "display_data"
    },
    {
     "data": {
      "application/vnd.jupyter.widget-view+json": {
       "model_id": "9989f79520ed48d1b77273ee490d15f2",
       "version_major": 2,
       "version_minor": 0
      },
      "text/plain": [
       "  0%|          | 0/19 [00:00<?, ?it/s]"
      ]
     },
     "metadata": {},
     "output_type": "display_data"
    },
    {
     "data": {
      "application/vnd.plotly.v1+json": {
       "config": {
        "plotlyServerURL": "https://plot.ly"
       },
       "data": [
        {
         "hovertemplate": "K=1<br>value_label=%{x}<br>score=%{y}<extra></extra>",
         "legendgroup": "1",
         "line": {
          "color": "#636efa",
          "dash": "solid"
         },
         "marker": {
          "symbol": "circle"
         },
         "mode": "lines",
         "name": "1",
         "orientation": "v",
         "showlegend": true,
         "type": "scatter",
         "x": [
          "embedder.block1.conv_in0",
          "embedder.block1.res1.relu1_out",
          "embedder.block1.res1.resadd_out",
          "embedder.block1.res1.relu2_out",
          "embedder.block1.res2.relu1_out",
          "embedder.block1.res2.resadd_out",
          "embedder.block1.res2.relu2_out",
          "embedder.block2.res1.relu1_out",
          "embedder.block2.res1.resadd_out",
          "embedder.block2.res1.relu2_out",
          "embedder.block2.res2.relu1_out",
          "embedder.block2.res2.resadd_out",
          "embedder.block2.res2.relu2_out",
          "embedder.block3.res1.relu1_out",
          "embedder.block3.res1.resadd_out",
          "embedder.block3.res1.relu2_out",
          "embedder.block3.res2.relu1_out",
          "embedder.block3.res2.resadd_out",
          "embedder.block3.res2.relu2_out"
         ],
         "xaxis": "x",
         "y": [
          -0.00433131101863049,
          -0.0048745583113392055,
          -0.004890080806868147,
          -0.004954209620719796,
          -0.00486296482262305,
          -0.004834094839645919,
          -0.004912185082485365,
          -0.004966237890746239,
          -0.006419571053839723,
          -0.005074491530038472,
          -0.004893622922315988,
          -0.007445494975837796,
          -0.004891445093526903,
          -0.004578104724796805,
          -0.017649928697689443,
          -0.005105113584896737,
          -0.005119170503502968,
          0.008435565041562065,
          -0.013265572819379345
         ],
         "yaxis": "y"
        },
        {
         "hovertemplate": "K=10<br>value_label=%{x}<br>score=%{y}<extra></extra>",
         "legendgroup": "10",
         "line": {
          "color": "#EF553B",
          "dash": "solid"
         },
         "marker": {
          "symbol": "circle"
         },
         "mode": "lines",
         "name": "10",
         "orientation": "v",
         "showlegend": true,
         "type": "scatter",
         "x": [
          "embedder.block1.conv_in0",
          "embedder.block1.res1.relu1_out",
          "embedder.block1.res1.resadd_out",
          "embedder.block1.res1.relu2_out",
          "embedder.block1.res2.relu1_out",
          "embedder.block1.res2.resadd_out",
          "embedder.block1.res2.relu2_out",
          "embedder.block2.res1.relu1_out",
          "embedder.block2.res1.resadd_out",
          "embedder.block2.res1.relu2_out",
          "embedder.block2.res2.relu1_out",
          "embedder.block2.res2.resadd_out",
          "embedder.block2.res2.relu2_out",
          "embedder.block3.res1.relu1_out",
          "embedder.block3.res1.resadd_out",
          "embedder.block3.res1.relu2_out",
          "embedder.block3.res2.relu1_out",
          "embedder.block3.res2.resadd_out",
          "embedder.block3.res2.relu2_out"
         ],
         "xaxis": "x",
         "y": [
          0.0044477005769641975,
          -0.00489882853174417,
          -0.005480164310412983,
          -0.005116619720741289,
          -0.0049833520070146076,
          -0.005352607071868576,
          -0.004978091454709954,
          -0.005914187173678975,
          -0.009483102700373447,
          -0.00483416460535846,
          -0.005939092475589325,
          -0.011509466230150478,
          -0.004107579047287313,
          -0.01368394110722626,
          -0.08761760888873416,
          -0.03861590687421779,
          -0.020373533458414528,
          -0.05537590590653663,
          -0.0362641548887328
         ],
         "yaxis": "y"
        },
        {
         "hovertemplate": "K=100<br>value_label=%{x}<br>score=%{y}<extra></extra>",
         "legendgroup": "100",
         "line": {
          "color": "#00cc96",
          "dash": "solid"
         },
         "marker": {
          "symbol": "circle"
         },
         "mode": "lines",
         "name": "100",
         "orientation": "v",
         "showlegend": true,
         "type": "scatter",
         "x": [
          "embedder.block1.conv_in0",
          "embedder.block1.res1.relu1_out",
          "embedder.block1.res1.resadd_out",
          "embedder.block1.res1.relu2_out",
          "embedder.block1.res2.relu1_out",
          "embedder.block1.res2.resadd_out",
          "embedder.block1.res2.relu2_out",
          "embedder.block2.res1.relu1_out",
          "embedder.block2.res1.resadd_out",
          "embedder.block2.res1.relu2_out",
          "embedder.block2.res2.relu1_out",
          "embedder.block2.res2.resadd_out",
          "embedder.block2.res2.relu2_out",
          "embedder.block3.res1.relu1_out",
          "embedder.block3.res1.resadd_out",
          "embedder.block3.res1.relu2_out",
          "embedder.block3.res2.relu1_out",
          "embedder.block3.res2.resadd_out",
          "embedder.block3.res2.relu2_out"
         ],
         "xaxis": "x",
         "y": [
          0.022697211460350974,
          -0.005250980899130564,
          -0.0073337010017962,
          -0.0057277755143052556,
          -0.006730710010953267,
          -0.008407901646850124,
          -0.006298884020923046,
          -0.01101525067595488,
          -0.022262806179365935,
          -0.005171804627283283,
          -0.01448562393618591,
          -0.03259978550890619,
          -0.009391493738967416,
          -0.12216003003126796,
          -0.26747478356984544,
          -0.11251022104075448,
          -0.16516186236908226,
          -0.19574176298482038,
          -0.04269843176724075
         ],
         "yaxis": "y"
        },
        {
         "hovertemplate": "K=1000<br>value_label=%{x}<br>score=%{y}<extra></extra>",
         "legendgroup": "1000",
         "line": {
          "color": "#ab63fa",
          "dash": "solid"
         },
         "marker": {
          "symbol": "circle"
         },
         "mode": "lines",
         "name": "1000",
         "orientation": "v",
         "showlegend": true,
         "type": "scatter",
         "x": [
          "embedder.block1.conv_in0",
          "embedder.block1.res1.relu1_out",
          "embedder.block1.res1.resadd_out",
          "embedder.block1.res1.relu2_out",
          "embedder.block1.res2.relu1_out",
          "embedder.block1.res2.resadd_out",
          "embedder.block1.res2.relu2_out",
          "embedder.block2.res1.relu1_out",
          "embedder.block2.res1.resadd_out",
          "embedder.block2.res1.relu2_out",
          "embedder.block2.res2.relu1_out",
          "embedder.block2.res2.resadd_out",
          "embedder.block2.res2.relu2_out",
          "embedder.block3.res1.relu1_out",
          "embedder.block3.res1.resadd_out",
          "embedder.block3.res1.relu2_out",
          "embedder.block3.res2.relu1_out",
          "embedder.block3.res2.resadd_out",
          "embedder.block3.res2.relu2_out"
         ],
         "xaxis": "x",
         "y": [
          -0.0018193506943791071,
          0.0001415322745315084,
          -0.029239019253257004,
          -0.00014916781817198022,
          -0.015536046626731581,
          -0.031158843379828216,
          -0.012127712590447759,
          -0.05617399764561015,
          -0.09937172738368938,
          -0.04112317018924916,
          -0.06008011683537462,
          -0.10935952291399098,
          -0.04191536948959396,
          -0.1889070851376029,
          -0.42588438057013267,
          -0.16656946498984282,
          -0.33545522497429503,
          -0.34141828443573563,
          -0.28557936553129104
         ],
         "yaxis": "y"
        },
        {
         "hovertemplate": "K=10000<br>value_label=%{x}<br>score=%{y}<extra></extra>",
         "legendgroup": "10000",
         "line": {
          "color": "#FFA15A",
          "dash": "solid"
         },
         "marker": {
          "symbol": "circle"
         },
         "mode": "lines",
         "name": "10000",
         "orientation": "v",
         "showlegend": true,
         "type": "scatter",
         "x": [
          "embedder.block1.conv_in0",
          "embedder.block1.res1.relu1_out",
          "embedder.block1.res1.resadd_out",
          "embedder.block1.res1.relu2_out",
          "embedder.block1.res2.relu1_out",
          "embedder.block1.res2.resadd_out",
          "embedder.block1.res2.relu2_out",
          "embedder.block2.res1.relu1_out",
          "embedder.block2.res1.resadd_out",
          "embedder.block2.res1.relu2_out",
          "embedder.block2.res2.relu1_out",
          "embedder.block2.res2.resadd_out",
          "embedder.block2.res2.relu2_out",
          "embedder.block3.res1.relu1_out",
          "embedder.block3.res1.resadd_out",
          "embedder.block3.res1.relu2_out",
          "embedder.block3.res2.relu1_out",
          "embedder.block3.res2.resadd_out",
          "embedder.block3.res2.relu2_out"
         ],
         "xaxis": "x",
         "y": [
          -0.07306315247460438,
          0.0224978254274818,
          -0.08325022998913778,
          0.010618463294297498,
          -0.044957459042515246,
          -0.07780650534112565,
          -0.030001883662690743,
          -0.13437374877051056,
          -0.28060238728404574,
          -0.09180922054276852,
          -0.1399744622813197,
          -0.25298063606689825,
          -0.06374559622467824,
          -0.4501306610289919,
          -0.8087082708442219,
          -0.41309384612665134,
          -0.640404083464911,
          -0.7307607414134967,
          -0.4700486121564629
         ],
         "yaxis": "y"
        },
        {
         "hovertemplate": "K=100000<br>value_label=%{x}<br>score=%{y}<extra></extra>",
         "legendgroup": "100000",
         "line": {
          "color": "#19d3f3",
          "dash": "solid"
         },
         "marker": {
          "symbol": "circle"
         },
         "mode": "lines",
         "name": "100000",
         "orientation": "v",
         "showlegend": true,
         "type": "scatter",
         "x": [
          "embedder.block1.conv_in0",
          "embedder.block1.res1.relu1_out",
          "embedder.block1.res1.resadd_out",
          "embedder.block1.res1.relu2_out",
          "embedder.block1.res2.relu1_out",
          "embedder.block1.res2.resadd_out",
          "embedder.block1.res2.relu2_out",
          "embedder.block2.res1.relu1_out",
          "embedder.block2.res1.resadd_out",
          "embedder.block2.res1.relu2_out",
          "embedder.block2.res2.relu1_out",
          "embedder.block2.res2.resadd_out",
          "embedder.block2.res2.relu2_out",
          "embedder.block3.res1.relu1_out",
          "embedder.block3.res1.resadd_out",
          "embedder.block3.res1.relu2_out",
          "embedder.block3.res2.relu1_out",
          "embedder.block3.res2.resadd_out",
          "embedder.block3.res2.relu2_out"
         ],
         "xaxis": "x",
         "y": [
          -0.07970630040989657,
          0.01630211863348574,
          -0.11986387127694687,
          0.002940833135892773,
          -0.042809484818860266,
          -0.1357835131996874,
          -0.03175288999527415,
          -0.1790960537714319,
          -0.3849764850825024,
          -0.14377069654492036,
          -0.19001432206759294,
          -0.39338337780806487,
          -0.09373097798297292,
          -0.4501306610289919,
          -0.8087082708442219,
          -0.41309384612665134,
          -0.640404083464911,
          -0.7307607414134967,
          -0.4700486121564629
         ],
         "yaxis": "y"
        }
       ],
       "layout": {
        "legend": {
         "title": {
          "text": "K"
         },
         "tracegroupgap": 0
        },
        "template": {
         "data": {
          "bar": [
           {
            "error_x": {
             "color": "#2a3f5f"
            },
            "error_y": {
             "color": "#2a3f5f"
            },
            "marker": {
             "line": {
              "color": "#E5ECF6",
              "width": 0.5
             },
             "pattern": {
              "fillmode": "overlay",
              "size": 10,
              "solidity": 0.2
             }
            },
            "type": "bar"
           }
          ],
          "barpolar": [
           {
            "marker": {
             "line": {
              "color": "#E5ECF6",
              "width": 0.5
             },
             "pattern": {
              "fillmode": "overlay",
              "size": 10,
              "solidity": 0.2
             }
            },
            "type": "barpolar"
           }
          ],
          "carpet": [
           {
            "aaxis": {
             "endlinecolor": "#2a3f5f",
             "gridcolor": "white",
             "linecolor": "white",
             "minorgridcolor": "white",
             "startlinecolor": "#2a3f5f"
            },
            "baxis": {
             "endlinecolor": "#2a3f5f",
             "gridcolor": "white",
             "linecolor": "white",
             "minorgridcolor": "white",
             "startlinecolor": "#2a3f5f"
            },
            "type": "carpet"
           }
          ],
          "choropleth": [
           {
            "colorbar": {
             "outlinewidth": 0,
             "ticks": ""
            },
            "type": "choropleth"
           }
          ],
          "contour": [
           {
            "colorbar": {
             "outlinewidth": 0,
             "ticks": ""
            },
            "colorscale": [
             [
              0,
              "#0d0887"
             ],
             [
              0.1111111111111111,
              "#46039f"
             ],
             [
              0.2222222222222222,
              "#7201a8"
             ],
             [
              0.3333333333333333,
              "#9c179e"
             ],
             [
              0.4444444444444444,
              "#bd3786"
             ],
             [
              0.5555555555555556,
              "#d8576b"
             ],
             [
              0.6666666666666666,
              "#ed7953"
             ],
             [
              0.7777777777777778,
              "#fb9f3a"
             ],
             [
              0.8888888888888888,
              "#fdca26"
             ],
             [
              1,
              "#f0f921"
             ]
            ],
            "type": "contour"
           }
          ],
          "contourcarpet": [
           {
            "colorbar": {
             "outlinewidth": 0,
             "ticks": ""
            },
            "type": "contourcarpet"
           }
          ],
          "heatmap": [
           {
            "colorbar": {
             "outlinewidth": 0,
             "ticks": ""
            },
            "colorscale": [
             [
              0,
              "#0d0887"
             ],
             [
              0.1111111111111111,
              "#46039f"
             ],
             [
              0.2222222222222222,
              "#7201a8"
             ],
             [
              0.3333333333333333,
              "#9c179e"
             ],
             [
              0.4444444444444444,
              "#bd3786"
             ],
             [
              0.5555555555555556,
              "#d8576b"
             ],
             [
              0.6666666666666666,
              "#ed7953"
             ],
             [
              0.7777777777777778,
              "#fb9f3a"
             ],
             [
              0.8888888888888888,
              "#fdca26"
             ],
             [
              1,
              "#f0f921"
             ]
            ],
            "type": "heatmap"
           }
          ],
          "heatmapgl": [
           {
            "colorbar": {
             "outlinewidth": 0,
             "ticks": ""
            },
            "colorscale": [
             [
              0,
              "#0d0887"
             ],
             [
              0.1111111111111111,
              "#46039f"
             ],
             [
              0.2222222222222222,
              "#7201a8"
             ],
             [
              0.3333333333333333,
              "#9c179e"
             ],
             [
              0.4444444444444444,
              "#bd3786"
             ],
             [
              0.5555555555555556,
              "#d8576b"
             ],
             [
              0.6666666666666666,
              "#ed7953"
             ],
             [
              0.7777777777777778,
              "#fb9f3a"
             ],
             [
              0.8888888888888888,
              "#fdca26"
             ],
             [
              1,
              "#f0f921"
             ]
            ],
            "type": "heatmapgl"
           }
          ],
          "histogram": [
           {
            "marker": {
             "pattern": {
              "fillmode": "overlay",
              "size": 10,
              "solidity": 0.2
             }
            },
            "type": "histogram"
           }
          ],
          "histogram2d": [
           {
            "colorbar": {
             "outlinewidth": 0,
             "ticks": ""
            },
            "colorscale": [
             [
              0,
              "#0d0887"
             ],
             [
              0.1111111111111111,
              "#46039f"
             ],
             [
              0.2222222222222222,
              "#7201a8"
             ],
             [
              0.3333333333333333,
              "#9c179e"
             ],
             [
              0.4444444444444444,
              "#bd3786"
             ],
             [
              0.5555555555555556,
              "#d8576b"
             ],
             [
              0.6666666666666666,
              "#ed7953"
             ],
             [
              0.7777777777777778,
              "#fb9f3a"
             ],
             [
              0.8888888888888888,
              "#fdca26"
             ],
             [
              1,
              "#f0f921"
             ]
            ],
            "type": "histogram2d"
           }
          ],
          "histogram2dcontour": [
           {
            "colorbar": {
             "outlinewidth": 0,
             "ticks": ""
            },
            "colorscale": [
             [
              0,
              "#0d0887"
             ],
             [
              0.1111111111111111,
              "#46039f"
             ],
             [
              0.2222222222222222,
              "#7201a8"
             ],
             [
              0.3333333333333333,
              "#9c179e"
             ],
             [
              0.4444444444444444,
              "#bd3786"
             ],
             [
              0.5555555555555556,
              "#d8576b"
             ],
             [
              0.6666666666666666,
              "#ed7953"
             ],
             [
              0.7777777777777778,
              "#fb9f3a"
             ],
             [
              0.8888888888888888,
              "#fdca26"
             ],
             [
              1,
              "#f0f921"
             ]
            ],
            "type": "histogram2dcontour"
           }
          ],
          "mesh3d": [
           {
            "colorbar": {
             "outlinewidth": 0,
             "ticks": ""
            },
            "type": "mesh3d"
           }
          ],
          "parcoords": [
           {
            "line": {
             "colorbar": {
              "outlinewidth": 0,
              "ticks": ""
             }
            },
            "type": "parcoords"
           }
          ],
          "pie": [
           {
            "automargin": true,
            "type": "pie"
           }
          ],
          "scatter": [
           {
            "fillpattern": {
             "fillmode": "overlay",
             "size": 10,
             "solidity": 0.2
            },
            "type": "scatter"
           }
          ],
          "scatter3d": [
           {
            "line": {
             "colorbar": {
              "outlinewidth": 0,
              "ticks": ""
             }
            },
            "marker": {
             "colorbar": {
              "outlinewidth": 0,
              "ticks": ""
             }
            },
            "type": "scatter3d"
           }
          ],
          "scattercarpet": [
           {
            "marker": {
             "colorbar": {
              "outlinewidth": 0,
              "ticks": ""
             }
            },
            "type": "scattercarpet"
           }
          ],
          "scattergeo": [
           {
            "marker": {
             "colorbar": {
              "outlinewidth": 0,
              "ticks": ""
             }
            },
            "type": "scattergeo"
           }
          ],
          "scattergl": [
           {
            "marker": {
             "colorbar": {
              "outlinewidth": 0,
              "ticks": ""
             }
            },
            "type": "scattergl"
           }
          ],
          "scattermapbox": [
           {
            "marker": {
             "colorbar": {
              "outlinewidth": 0,
              "ticks": ""
             }
            },
            "type": "scattermapbox"
           }
          ],
          "scatterpolar": [
           {
            "marker": {
             "colorbar": {
              "outlinewidth": 0,
              "ticks": ""
             }
            },
            "type": "scatterpolar"
           }
          ],
          "scatterpolargl": [
           {
            "marker": {
             "colorbar": {
              "outlinewidth": 0,
              "ticks": ""
             }
            },
            "type": "scatterpolargl"
           }
          ],
          "scatterternary": [
           {
            "marker": {
             "colorbar": {
              "outlinewidth": 0,
              "ticks": ""
             }
            },
            "type": "scatterternary"
           }
          ],
          "surface": [
           {
            "colorbar": {
             "outlinewidth": 0,
             "ticks": ""
            },
            "colorscale": [
             [
              0,
              "#0d0887"
             ],
             [
              0.1111111111111111,
              "#46039f"
             ],
             [
              0.2222222222222222,
              "#7201a8"
             ],
             [
              0.3333333333333333,
              "#9c179e"
             ],
             [
              0.4444444444444444,
              "#bd3786"
             ],
             [
              0.5555555555555556,
              "#d8576b"
             ],
             [
              0.6666666666666666,
              "#ed7953"
             ],
             [
              0.7777777777777778,
              "#fb9f3a"
             ],
             [
              0.8888888888888888,
              "#fdca26"
             ],
             [
              1,
              "#f0f921"
             ]
            ],
            "type": "surface"
           }
          ],
          "table": [
           {
            "cells": {
             "fill": {
              "color": "#EBF0F8"
             },
             "line": {
              "color": "white"
             }
            },
            "header": {
             "fill": {
              "color": "#C8D4E3"
             },
             "line": {
              "color": "white"
             }
            },
            "type": "table"
           }
          ]
         },
         "layout": {
          "annotationdefaults": {
           "arrowcolor": "#2a3f5f",
           "arrowhead": 0,
           "arrowwidth": 1
          },
          "autotypenumbers": "strict",
          "coloraxis": {
           "colorbar": {
            "outlinewidth": 0,
            "ticks": ""
           }
          },
          "colorscale": {
           "diverging": [
            [
             0,
             "#8e0152"
            ],
            [
             0.1,
             "#c51b7d"
            ],
            [
             0.2,
             "#de77ae"
            ],
            [
             0.3,
             "#f1b6da"
            ],
            [
             0.4,
             "#fde0ef"
            ],
            [
             0.5,
             "#f7f7f7"
            ],
            [
             0.6,
             "#e6f5d0"
            ],
            [
             0.7,
             "#b8e186"
            ],
            [
             0.8,
             "#7fbc41"
            ],
            [
             0.9,
             "#4d9221"
            ],
            [
             1,
             "#276419"
            ]
           ],
           "sequential": [
            [
             0,
             "#0d0887"
            ],
            [
             0.1111111111111111,
             "#46039f"
            ],
            [
             0.2222222222222222,
             "#7201a8"
            ],
            [
             0.3333333333333333,
             "#9c179e"
            ],
            [
             0.4444444444444444,
             "#bd3786"
            ],
            [
             0.5555555555555556,
             "#d8576b"
            ],
            [
             0.6666666666666666,
             "#ed7953"
            ],
            [
             0.7777777777777778,
             "#fb9f3a"
            ],
            [
             0.8888888888888888,
             "#fdca26"
            ],
            [
             1,
             "#f0f921"
            ]
           ],
           "sequentialminus": [
            [
             0,
             "#0d0887"
            ],
            [
             0.1111111111111111,
             "#46039f"
            ],
            [
             0.2222222222222222,
             "#7201a8"
            ],
            [
             0.3333333333333333,
             "#9c179e"
            ],
            [
             0.4444444444444444,
             "#bd3786"
            ],
            [
             0.5555555555555556,
             "#d8576b"
            ],
            [
             0.6666666666666666,
             "#ed7953"
            ],
            [
             0.7777777777777778,
             "#fb9f3a"
            ],
            [
             0.8888888888888888,
             "#fdca26"
            ],
            [
             1,
             "#f0f921"
            ]
           ]
          },
          "colorway": [
           "#636efa",
           "#EF553B",
           "#00cc96",
           "#ab63fa",
           "#FFA15A",
           "#19d3f3",
           "#FF6692",
           "#B6E880",
           "#FF97FF",
           "#FECB52"
          ],
          "font": {
           "color": "#2a3f5f"
          },
          "geo": {
           "bgcolor": "white",
           "lakecolor": "white",
           "landcolor": "#E5ECF6",
           "showlakes": true,
           "showland": true,
           "subunitcolor": "white"
          },
          "hoverlabel": {
           "align": "left"
          },
          "hovermode": "closest",
          "mapbox": {
           "style": "light"
          },
          "paper_bgcolor": "white",
          "plot_bgcolor": "#E5ECF6",
          "polar": {
           "angularaxis": {
            "gridcolor": "white",
            "linecolor": "white",
            "ticks": ""
           },
           "bgcolor": "#E5ECF6",
           "radialaxis": {
            "gridcolor": "white",
            "linecolor": "white",
            "ticks": ""
           }
          },
          "scene": {
           "xaxis": {
            "backgroundcolor": "#E5ECF6",
            "gridcolor": "white",
            "gridwidth": 2,
            "linecolor": "white",
            "showbackground": true,
            "ticks": "",
            "zerolinecolor": "white"
           },
           "yaxis": {
            "backgroundcolor": "#E5ECF6",
            "gridcolor": "white",
            "gridwidth": 2,
            "linecolor": "white",
            "showbackground": true,
            "ticks": "",
            "zerolinecolor": "white"
           },
           "zaxis": {
            "backgroundcolor": "#E5ECF6",
            "gridcolor": "white",
            "gridwidth": 2,
            "linecolor": "white",
            "showbackground": true,
            "ticks": "",
            "zerolinecolor": "white"
           }
          },
          "shapedefaults": {
           "line": {
            "color": "#2a3f5f"
           }
          },
          "ternary": {
           "aaxis": {
            "gridcolor": "white",
            "linecolor": "white",
            "ticks": ""
           },
           "baxis": {
            "gridcolor": "white",
            "linecolor": "white",
            "ticks": ""
           },
           "bgcolor": "#E5ECF6",
           "caxis": {
            "gridcolor": "white",
            "linecolor": "white",
            "ticks": ""
           }
          },
          "title": {
           "x": 0.05
          },
          "xaxis": {
           "automargin": true,
           "gridcolor": "white",
           "linecolor": "white",
           "ticks": "",
           "title": {
            "standoff": 15
           },
           "zerolinecolor": "white",
           "zerolinewidth": 2
          },
          "yaxis": {
           "automargin": true,
           "gridcolor": "white",
           "linecolor": "white",
           "ticks": "",
           "title": {
            "standoff": 15
           },
           "zerolinecolor": "white",
           "zerolinewidth": 2
          }
         }
        },
        "title": {
         "text": "Probe score over layers and K-values for cheese_pos_y and model 1-Mouse"
        },
        "xaxis": {
         "anchor": "y",
         "domain": [
          0,
          1
         ],
         "title": {
          "text": "value_label"
         }
        },
        "yaxis": {
         "anchor": "x",
         "domain": [
          0,
          1
         ],
         "title": {
          "text": "score"
         }
        }
       }
      },
      "text/html": [
       "<div>                            <div id=\"0a4be63c-3879-4875-9429-319404b858e3\" class=\"plotly-graph-div\" style=\"height:525px; width:100%;\"></div>            <script type=\"text/javascript\">                require([\"plotly\"], function(Plotly) {                    window.PLOTLYENV=window.PLOTLYENV || {};                                    if (document.getElementById(\"0a4be63c-3879-4875-9429-319404b858e3\")) {                    Plotly.newPlot(                        \"0a4be63c-3879-4875-9429-319404b858e3\",                        [{\"hovertemplate\":\"K=1\\u003cbr\\u003evalue_label=%{x}\\u003cbr\\u003escore=%{y}\\u003cextra\\u003e\\u003c\\u002fextra\\u003e\",\"legendgroup\":\"1\",\"line\":{\"color\":\"#636efa\",\"dash\":\"solid\"},\"marker\":{\"symbol\":\"circle\"},\"mode\":\"lines\",\"name\":\"1\",\"orientation\":\"v\",\"showlegend\":true,\"x\":[\"embedder.block1.conv_in0\",\"embedder.block1.res1.relu1_out\",\"embedder.block1.res1.resadd_out\",\"embedder.block1.res1.relu2_out\",\"embedder.block1.res2.relu1_out\",\"embedder.block1.res2.resadd_out\",\"embedder.block1.res2.relu2_out\",\"embedder.block2.res1.relu1_out\",\"embedder.block2.res1.resadd_out\",\"embedder.block2.res1.relu2_out\",\"embedder.block2.res2.relu1_out\",\"embedder.block2.res2.resadd_out\",\"embedder.block2.res2.relu2_out\",\"embedder.block3.res1.relu1_out\",\"embedder.block3.res1.resadd_out\",\"embedder.block3.res1.relu2_out\",\"embedder.block3.res2.relu1_out\",\"embedder.block3.res2.resadd_out\",\"embedder.block3.res2.relu2_out\"],\"xaxis\":\"x\",\"y\":[-0.00433131101863049,-0.0048745583113392055,-0.004890080806868147,-0.004954209620719796,-0.00486296482262305,-0.004834094839645919,-0.004912185082485365,-0.004966237890746239,-0.006419571053839723,-0.005074491530038472,-0.004893622922315988,-0.007445494975837796,-0.004891445093526903,-0.004578104724796805,-0.017649928697689443,-0.005105113584896737,-0.005119170503502968,0.008435565041562065,-0.013265572819379345],\"yaxis\":\"y\",\"type\":\"scatter\"},{\"hovertemplate\":\"K=10\\u003cbr\\u003evalue_label=%{x}\\u003cbr\\u003escore=%{y}\\u003cextra\\u003e\\u003c\\u002fextra\\u003e\",\"legendgroup\":\"10\",\"line\":{\"color\":\"#EF553B\",\"dash\":\"solid\"},\"marker\":{\"symbol\":\"circle\"},\"mode\":\"lines\",\"name\":\"10\",\"orientation\":\"v\",\"showlegend\":true,\"x\":[\"embedder.block1.conv_in0\",\"embedder.block1.res1.relu1_out\",\"embedder.block1.res1.resadd_out\",\"embedder.block1.res1.relu2_out\",\"embedder.block1.res2.relu1_out\",\"embedder.block1.res2.resadd_out\",\"embedder.block1.res2.relu2_out\",\"embedder.block2.res1.relu1_out\",\"embedder.block2.res1.resadd_out\",\"embedder.block2.res1.relu2_out\",\"embedder.block2.res2.relu1_out\",\"embedder.block2.res2.resadd_out\",\"embedder.block2.res2.relu2_out\",\"embedder.block3.res1.relu1_out\",\"embedder.block3.res1.resadd_out\",\"embedder.block3.res1.relu2_out\",\"embedder.block3.res2.relu1_out\",\"embedder.block3.res2.resadd_out\",\"embedder.block3.res2.relu2_out\"],\"xaxis\":\"x\",\"y\":[0.0044477005769641975,-0.00489882853174417,-0.005480164310412983,-0.005116619720741289,-0.0049833520070146076,-0.005352607071868576,-0.004978091454709954,-0.005914187173678975,-0.009483102700373447,-0.00483416460535846,-0.005939092475589325,-0.011509466230150478,-0.004107579047287313,-0.01368394110722626,-0.08761760888873416,-0.03861590687421779,-0.020373533458414528,-0.05537590590653663,-0.0362641548887328],\"yaxis\":\"y\",\"type\":\"scatter\"},{\"hovertemplate\":\"K=100\\u003cbr\\u003evalue_label=%{x}\\u003cbr\\u003escore=%{y}\\u003cextra\\u003e\\u003c\\u002fextra\\u003e\",\"legendgroup\":\"100\",\"line\":{\"color\":\"#00cc96\",\"dash\":\"solid\"},\"marker\":{\"symbol\":\"circle\"},\"mode\":\"lines\",\"name\":\"100\",\"orientation\":\"v\",\"showlegend\":true,\"x\":[\"embedder.block1.conv_in0\",\"embedder.block1.res1.relu1_out\",\"embedder.block1.res1.resadd_out\",\"embedder.block1.res1.relu2_out\",\"embedder.block1.res2.relu1_out\",\"embedder.block1.res2.resadd_out\",\"embedder.block1.res2.relu2_out\",\"embedder.block2.res1.relu1_out\",\"embedder.block2.res1.resadd_out\",\"embedder.block2.res1.relu2_out\",\"embedder.block2.res2.relu1_out\",\"embedder.block2.res2.resadd_out\",\"embedder.block2.res2.relu2_out\",\"embedder.block3.res1.relu1_out\",\"embedder.block3.res1.resadd_out\",\"embedder.block3.res1.relu2_out\",\"embedder.block3.res2.relu1_out\",\"embedder.block3.res2.resadd_out\",\"embedder.block3.res2.relu2_out\"],\"xaxis\":\"x\",\"y\":[0.022697211460350974,-0.005250980899130564,-0.0073337010017962,-0.0057277755143052556,-0.006730710010953267,-0.008407901646850124,-0.006298884020923046,-0.01101525067595488,-0.022262806179365935,-0.005171804627283283,-0.01448562393618591,-0.03259978550890619,-0.009391493738967416,-0.12216003003126796,-0.26747478356984544,-0.11251022104075448,-0.16516186236908226,-0.19574176298482038,-0.04269843176724075],\"yaxis\":\"y\",\"type\":\"scatter\"},{\"hovertemplate\":\"K=1000\\u003cbr\\u003evalue_label=%{x}\\u003cbr\\u003escore=%{y}\\u003cextra\\u003e\\u003c\\u002fextra\\u003e\",\"legendgroup\":\"1000\",\"line\":{\"color\":\"#ab63fa\",\"dash\":\"solid\"},\"marker\":{\"symbol\":\"circle\"},\"mode\":\"lines\",\"name\":\"1000\",\"orientation\":\"v\",\"showlegend\":true,\"x\":[\"embedder.block1.conv_in0\",\"embedder.block1.res1.relu1_out\",\"embedder.block1.res1.resadd_out\",\"embedder.block1.res1.relu2_out\",\"embedder.block1.res2.relu1_out\",\"embedder.block1.res2.resadd_out\",\"embedder.block1.res2.relu2_out\",\"embedder.block2.res1.relu1_out\",\"embedder.block2.res1.resadd_out\",\"embedder.block2.res1.relu2_out\",\"embedder.block2.res2.relu1_out\",\"embedder.block2.res2.resadd_out\",\"embedder.block2.res2.relu2_out\",\"embedder.block3.res1.relu1_out\",\"embedder.block3.res1.resadd_out\",\"embedder.block3.res1.relu2_out\",\"embedder.block3.res2.relu1_out\",\"embedder.block3.res2.resadd_out\",\"embedder.block3.res2.relu2_out\"],\"xaxis\":\"x\",\"y\":[-0.0018193506943791071,0.0001415322745315084,-0.029239019253257004,-0.00014916781817198022,-0.015536046626731581,-0.031158843379828216,-0.012127712590447759,-0.05617399764561015,-0.09937172738368938,-0.04112317018924916,-0.06008011683537462,-0.10935952291399098,-0.04191536948959396,-0.1889070851376029,-0.42588438057013267,-0.16656946498984282,-0.33545522497429503,-0.34141828443573563,-0.28557936553129104],\"yaxis\":\"y\",\"type\":\"scatter\"},{\"hovertemplate\":\"K=10000\\u003cbr\\u003evalue_label=%{x}\\u003cbr\\u003escore=%{y}\\u003cextra\\u003e\\u003c\\u002fextra\\u003e\",\"legendgroup\":\"10000\",\"line\":{\"color\":\"#FFA15A\",\"dash\":\"solid\"},\"marker\":{\"symbol\":\"circle\"},\"mode\":\"lines\",\"name\":\"10000\",\"orientation\":\"v\",\"showlegend\":true,\"x\":[\"embedder.block1.conv_in0\",\"embedder.block1.res1.relu1_out\",\"embedder.block1.res1.resadd_out\",\"embedder.block1.res1.relu2_out\",\"embedder.block1.res2.relu1_out\",\"embedder.block1.res2.resadd_out\",\"embedder.block1.res2.relu2_out\",\"embedder.block2.res1.relu1_out\",\"embedder.block2.res1.resadd_out\",\"embedder.block2.res1.relu2_out\",\"embedder.block2.res2.relu1_out\",\"embedder.block2.res2.resadd_out\",\"embedder.block2.res2.relu2_out\",\"embedder.block3.res1.relu1_out\",\"embedder.block3.res1.resadd_out\",\"embedder.block3.res1.relu2_out\",\"embedder.block3.res2.relu1_out\",\"embedder.block3.res2.resadd_out\",\"embedder.block3.res2.relu2_out\"],\"xaxis\":\"x\",\"y\":[-0.07306315247460438,0.0224978254274818,-0.08325022998913778,0.010618463294297498,-0.044957459042515246,-0.07780650534112565,-0.030001883662690743,-0.13437374877051056,-0.28060238728404574,-0.09180922054276852,-0.1399744622813197,-0.25298063606689825,-0.06374559622467824,-0.4501306610289919,-0.8087082708442219,-0.41309384612665134,-0.640404083464911,-0.7307607414134967,-0.4700486121564629],\"yaxis\":\"y\",\"type\":\"scatter\"},{\"hovertemplate\":\"K=100000\\u003cbr\\u003evalue_label=%{x}\\u003cbr\\u003escore=%{y}\\u003cextra\\u003e\\u003c\\u002fextra\\u003e\",\"legendgroup\":\"100000\",\"line\":{\"color\":\"#19d3f3\",\"dash\":\"solid\"},\"marker\":{\"symbol\":\"circle\"},\"mode\":\"lines\",\"name\":\"100000\",\"orientation\":\"v\",\"showlegend\":true,\"x\":[\"embedder.block1.conv_in0\",\"embedder.block1.res1.relu1_out\",\"embedder.block1.res1.resadd_out\",\"embedder.block1.res1.relu2_out\",\"embedder.block1.res2.relu1_out\",\"embedder.block1.res2.resadd_out\",\"embedder.block1.res2.relu2_out\",\"embedder.block2.res1.relu1_out\",\"embedder.block2.res1.resadd_out\",\"embedder.block2.res1.relu2_out\",\"embedder.block2.res2.relu1_out\",\"embedder.block2.res2.resadd_out\",\"embedder.block2.res2.relu2_out\",\"embedder.block3.res1.relu1_out\",\"embedder.block3.res1.resadd_out\",\"embedder.block3.res1.relu2_out\",\"embedder.block3.res2.relu1_out\",\"embedder.block3.res2.resadd_out\",\"embedder.block3.res2.relu2_out\"],\"xaxis\":\"x\",\"y\":[-0.07970630040989657,0.01630211863348574,-0.11986387127694687,0.002940833135892773,-0.042809484818860266,-0.1357835131996874,-0.03175288999527415,-0.1790960537714319,-0.3849764850825024,-0.14377069654492036,-0.19001432206759294,-0.39338337780806487,-0.09373097798297292,-0.4501306610289919,-0.8087082708442219,-0.41309384612665134,-0.640404083464911,-0.7307607414134967,-0.4700486121564629],\"yaxis\":\"y\",\"type\":\"scatter\"}],                        {\"template\":{\"data\":{\"histogram2dcontour\":[{\"type\":\"histogram2dcontour\",\"colorbar\":{\"outlinewidth\":0,\"ticks\":\"\"},\"colorscale\":[[0.0,\"#0d0887\"],[0.1111111111111111,\"#46039f\"],[0.2222222222222222,\"#7201a8\"],[0.3333333333333333,\"#9c179e\"],[0.4444444444444444,\"#bd3786\"],[0.5555555555555556,\"#d8576b\"],[0.6666666666666666,\"#ed7953\"],[0.7777777777777778,\"#fb9f3a\"],[0.8888888888888888,\"#fdca26\"],[1.0,\"#f0f921\"]]}],\"choropleth\":[{\"type\":\"choropleth\",\"colorbar\":{\"outlinewidth\":0,\"ticks\":\"\"}}],\"histogram2d\":[{\"type\":\"histogram2d\",\"colorbar\":{\"outlinewidth\":0,\"ticks\":\"\"},\"colorscale\":[[0.0,\"#0d0887\"],[0.1111111111111111,\"#46039f\"],[0.2222222222222222,\"#7201a8\"],[0.3333333333333333,\"#9c179e\"],[0.4444444444444444,\"#bd3786\"],[0.5555555555555556,\"#d8576b\"],[0.6666666666666666,\"#ed7953\"],[0.7777777777777778,\"#fb9f3a\"],[0.8888888888888888,\"#fdca26\"],[1.0,\"#f0f921\"]]}],\"heatmap\":[{\"type\":\"heatmap\",\"colorbar\":{\"outlinewidth\":0,\"ticks\":\"\"},\"colorscale\":[[0.0,\"#0d0887\"],[0.1111111111111111,\"#46039f\"],[0.2222222222222222,\"#7201a8\"],[0.3333333333333333,\"#9c179e\"],[0.4444444444444444,\"#bd3786\"],[0.5555555555555556,\"#d8576b\"],[0.6666666666666666,\"#ed7953\"],[0.7777777777777778,\"#fb9f3a\"],[0.8888888888888888,\"#fdca26\"],[1.0,\"#f0f921\"]]}],\"heatmapgl\":[{\"type\":\"heatmapgl\",\"colorbar\":{\"outlinewidth\":0,\"ticks\":\"\"},\"colorscale\":[[0.0,\"#0d0887\"],[0.1111111111111111,\"#46039f\"],[0.2222222222222222,\"#7201a8\"],[0.3333333333333333,\"#9c179e\"],[0.4444444444444444,\"#bd3786\"],[0.5555555555555556,\"#d8576b\"],[0.6666666666666666,\"#ed7953\"],[0.7777777777777778,\"#fb9f3a\"],[0.8888888888888888,\"#fdca26\"],[1.0,\"#f0f921\"]]}],\"contourcarpet\":[{\"type\":\"contourcarpet\",\"colorbar\":{\"outlinewidth\":0,\"ticks\":\"\"}}],\"contour\":[{\"type\":\"contour\",\"colorbar\":{\"outlinewidth\":0,\"ticks\":\"\"},\"colorscale\":[[0.0,\"#0d0887\"],[0.1111111111111111,\"#46039f\"],[0.2222222222222222,\"#7201a8\"],[0.3333333333333333,\"#9c179e\"],[0.4444444444444444,\"#bd3786\"],[0.5555555555555556,\"#d8576b\"],[0.6666666666666666,\"#ed7953\"],[0.7777777777777778,\"#fb9f3a\"],[0.8888888888888888,\"#fdca26\"],[1.0,\"#f0f921\"]]}],\"surface\":[{\"type\":\"surface\",\"colorbar\":{\"outlinewidth\":0,\"ticks\":\"\"},\"colorscale\":[[0.0,\"#0d0887\"],[0.1111111111111111,\"#46039f\"],[0.2222222222222222,\"#7201a8\"],[0.3333333333333333,\"#9c179e\"],[0.4444444444444444,\"#bd3786\"],[0.5555555555555556,\"#d8576b\"],[0.6666666666666666,\"#ed7953\"],[0.7777777777777778,\"#fb9f3a\"],[0.8888888888888888,\"#fdca26\"],[1.0,\"#f0f921\"]]}],\"mesh3d\":[{\"type\":\"mesh3d\",\"colorbar\":{\"outlinewidth\":0,\"ticks\":\"\"}}],\"scatter\":[{\"fillpattern\":{\"fillmode\":\"overlay\",\"size\":10,\"solidity\":0.2},\"type\":\"scatter\"}],\"parcoords\":[{\"type\":\"parcoords\",\"line\":{\"colorbar\":{\"outlinewidth\":0,\"ticks\":\"\"}}}],\"scatterpolargl\":[{\"type\":\"scatterpolargl\",\"marker\":{\"colorbar\":{\"outlinewidth\":0,\"ticks\":\"\"}}}],\"bar\":[{\"error_x\":{\"color\":\"#2a3f5f\"},\"error_y\":{\"color\":\"#2a3f5f\"},\"marker\":{\"line\":{\"color\":\"#E5ECF6\",\"width\":0.5},\"pattern\":{\"fillmode\":\"overlay\",\"size\":10,\"solidity\":0.2}},\"type\":\"bar\"}],\"scattergeo\":[{\"type\":\"scattergeo\",\"marker\":{\"colorbar\":{\"outlinewidth\":0,\"ticks\":\"\"}}}],\"scatterpolar\":[{\"type\":\"scatterpolar\",\"marker\":{\"colorbar\":{\"outlinewidth\":0,\"ticks\":\"\"}}}],\"histogram\":[{\"marker\":{\"pattern\":{\"fillmode\":\"overlay\",\"size\":10,\"solidity\":0.2}},\"type\":\"histogram\"}],\"scattergl\":[{\"type\":\"scattergl\",\"marker\":{\"colorbar\":{\"outlinewidth\":0,\"ticks\":\"\"}}}],\"scatter3d\":[{\"type\":\"scatter3d\",\"line\":{\"colorbar\":{\"outlinewidth\":0,\"ticks\":\"\"}},\"marker\":{\"colorbar\":{\"outlinewidth\":0,\"ticks\":\"\"}}}],\"scattermapbox\":[{\"type\":\"scattermapbox\",\"marker\":{\"colorbar\":{\"outlinewidth\":0,\"ticks\":\"\"}}}],\"scatterternary\":[{\"type\":\"scatterternary\",\"marker\":{\"colorbar\":{\"outlinewidth\":0,\"ticks\":\"\"}}}],\"scattercarpet\":[{\"type\":\"scattercarpet\",\"marker\":{\"colorbar\":{\"outlinewidth\":0,\"ticks\":\"\"}}}],\"carpet\":[{\"aaxis\":{\"endlinecolor\":\"#2a3f5f\",\"gridcolor\":\"white\",\"linecolor\":\"white\",\"minorgridcolor\":\"white\",\"startlinecolor\":\"#2a3f5f\"},\"baxis\":{\"endlinecolor\":\"#2a3f5f\",\"gridcolor\":\"white\",\"linecolor\":\"white\",\"minorgridcolor\":\"white\",\"startlinecolor\":\"#2a3f5f\"},\"type\":\"carpet\"}],\"table\":[{\"cells\":{\"fill\":{\"color\":\"#EBF0F8\"},\"line\":{\"color\":\"white\"}},\"header\":{\"fill\":{\"color\":\"#C8D4E3\"},\"line\":{\"color\":\"white\"}},\"type\":\"table\"}],\"barpolar\":[{\"marker\":{\"line\":{\"color\":\"#E5ECF6\",\"width\":0.5},\"pattern\":{\"fillmode\":\"overlay\",\"size\":10,\"solidity\":0.2}},\"type\":\"barpolar\"}],\"pie\":[{\"automargin\":true,\"type\":\"pie\"}]},\"layout\":{\"autotypenumbers\":\"strict\",\"colorway\":[\"#636efa\",\"#EF553B\",\"#00cc96\",\"#ab63fa\",\"#FFA15A\",\"#19d3f3\",\"#FF6692\",\"#B6E880\",\"#FF97FF\",\"#FECB52\"],\"font\":{\"color\":\"#2a3f5f\"},\"hovermode\":\"closest\",\"hoverlabel\":{\"align\":\"left\"},\"paper_bgcolor\":\"white\",\"plot_bgcolor\":\"#E5ECF6\",\"polar\":{\"bgcolor\":\"#E5ECF6\",\"angularaxis\":{\"gridcolor\":\"white\",\"linecolor\":\"white\",\"ticks\":\"\"},\"radialaxis\":{\"gridcolor\":\"white\",\"linecolor\":\"white\",\"ticks\":\"\"}},\"ternary\":{\"bgcolor\":\"#E5ECF6\",\"aaxis\":{\"gridcolor\":\"white\",\"linecolor\":\"white\",\"ticks\":\"\"},\"baxis\":{\"gridcolor\":\"white\",\"linecolor\":\"white\",\"ticks\":\"\"},\"caxis\":{\"gridcolor\":\"white\",\"linecolor\":\"white\",\"ticks\":\"\"}},\"coloraxis\":{\"colorbar\":{\"outlinewidth\":0,\"ticks\":\"\"}},\"colorscale\":{\"sequential\":[[0.0,\"#0d0887\"],[0.1111111111111111,\"#46039f\"],[0.2222222222222222,\"#7201a8\"],[0.3333333333333333,\"#9c179e\"],[0.4444444444444444,\"#bd3786\"],[0.5555555555555556,\"#d8576b\"],[0.6666666666666666,\"#ed7953\"],[0.7777777777777778,\"#fb9f3a\"],[0.8888888888888888,\"#fdca26\"],[1.0,\"#f0f921\"]],\"sequentialminus\":[[0.0,\"#0d0887\"],[0.1111111111111111,\"#46039f\"],[0.2222222222222222,\"#7201a8\"],[0.3333333333333333,\"#9c179e\"],[0.4444444444444444,\"#bd3786\"],[0.5555555555555556,\"#d8576b\"],[0.6666666666666666,\"#ed7953\"],[0.7777777777777778,\"#fb9f3a\"],[0.8888888888888888,\"#fdca26\"],[1.0,\"#f0f921\"]],\"diverging\":[[0,\"#8e0152\"],[0.1,\"#c51b7d\"],[0.2,\"#de77ae\"],[0.3,\"#f1b6da\"],[0.4,\"#fde0ef\"],[0.5,\"#f7f7f7\"],[0.6,\"#e6f5d0\"],[0.7,\"#b8e186\"],[0.8,\"#7fbc41\"],[0.9,\"#4d9221\"],[1,\"#276419\"]]},\"xaxis\":{\"gridcolor\":\"white\",\"linecolor\":\"white\",\"ticks\":\"\",\"title\":{\"standoff\":15},\"zerolinecolor\":\"white\",\"automargin\":true,\"zerolinewidth\":2},\"yaxis\":{\"gridcolor\":\"white\",\"linecolor\":\"white\",\"ticks\":\"\",\"title\":{\"standoff\":15},\"zerolinecolor\":\"white\",\"automargin\":true,\"zerolinewidth\":2},\"scene\":{\"xaxis\":{\"backgroundcolor\":\"#E5ECF6\",\"gridcolor\":\"white\",\"linecolor\":\"white\",\"showbackground\":true,\"ticks\":\"\",\"zerolinecolor\":\"white\",\"gridwidth\":2},\"yaxis\":{\"backgroundcolor\":\"#E5ECF6\",\"gridcolor\":\"white\",\"linecolor\":\"white\",\"showbackground\":true,\"ticks\":\"\",\"zerolinecolor\":\"white\",\"gridwidth\":2},\"zaxis\":{\"backgroundcolor\":\"#E5ECF6\",\"gridcolor\":\"white\",\"linecolor\":\"white\",\"showbackground\":true,\"ticks\":\"\",\"zerolinecolor\":\"white\",\"gridwidth\":2}},\"shapedefaults\":{\"line\":{\"color\":\"#2a3f5f\"}},\"annotationdefaults\":{\"arrowcolor\":\"#2a3f5f\",\"arrowhead\":0,\"arrowwidth\":1},\"geo\":{\"bgcolor\":\"white\",\"landcolor\":\"#E5ECF6\",\"subunitcolor\":\"white\",\"showland\":true,\"showlakes\":true,\"lakecolor\":\"white\"},\"title\":{\"x\":0.05},\"mapbox\":{\"style\":\"light\"}}},\"xaxis\":{\"anchor\":\"y\",\"domain\":[0.0,1.0],\"title\":{\"text\":\"value_label\"}},\"yaxis\":{\"anchor\":\"x\",\"domain\":[0.0,1.0],\"title\":{\"text\":\"score\"}},\"legend\":{\"title\":{\"text\":\"K\"},\"tracegroupgap\":0},\"title\":{\"text\":\"Probe score over layers and K-values for cheese_pos_y and model 1-Mouse\"}},                        {\"responsive\": true}                    ).then(function(){\n",
       "                            \n",
       "var gd = document.getElementById('0a4be63c-3879-4875-9429-319404b858e3');\n",
       "var x = new MutationObserver(function (mutations, observer) {{\n",
       "        var display = window.getComputedStyle(gd).display;\n",
       "        if (!display || display === 'none') {{\n",
       "            console.log([gd, 'removed!']);\n",
       "            Plotly.purge(gd);\n",
       "            observer.disconnect();\n",
       "        }}\n",
       "}});\n",
       "\n",
       "// Listen for the removal of the full notebook cells\n",
       "var notebookContainer = gd.closest('#notebook-container');\n",
       "if (notebookContainer) {{\n",
       "    x.observe(notebookContainer, {childList: true});\n",
       "}}\n",
       "\n",
       "// Listen for the clearing of the current output cell\n",
       "var outputEl = gd.closest('.output');\n",
       "if (outputEl) {{\n",
       "    x.observe(outputEl, {childList: true});\n",
       "}}\n",
       "\n",
       "                        })                };                });            </script>        </div>"
      ]
     },
     "metadata": {},
     "output_type": "display_data"
    }
   ],
   "source": [
    "cheese_pos_x = cheese_pos.x.values.astype(float)\n",
    "cheese_pos_y = cheese_pos.y.values.astype(float)\n",
    "mouse_pos_x = mouse_pos.x.values.astype(float)\n",
    "mouse_pos_y = mouse_pos.y.values.astype(float)\n",
    "top_right_pos_x = top_right_pos.x.values.astype(float)\n",
    "\n",
    "\n",
    "index_nums = np.array([1, 10, 100, 1000, 10000, 100000])\n",
    "\n",
    "obj_pos = cheese_pos_y\n",
    "hook_to_use = hook1\n",
    "obj_pos_name = 'cheese_pos_y'\n",
    "model_name = '1-Mouse'\n",
    "\n",
    "results, _ = cpr.sparse_linear_probe(hook1, values_to_store, obj_pos, model_type='ridge',\n",
    "    index_nums = index_nums, random_state=42, max_iter=10000, alpha=100.)\n",
    "\n",
    "plot_sparse_probe_scores(results, obj_pos, index_nums, \n",
    "    f'Probe score over layers and K-values for {obj_pos_name} and model {model_name}',\n",
    "    include_limits=False)\n",
    "\n",
    "results, _ = cpr.sparse_linear_probe(hook2, values_to_store, obj_pos, model_type='ridge',\n",
    "    index_nums = index_nums, random_state=42, max_iter=10000, alpha=100.)\n",
    "\n",
    "plot_sparse_probe_scores(results, obj_pos, index_nums, \n",
    "    f'Probe score over layers and K-values for {obj_pos_name} and model {model_name}',\n",
    "    include_limits=False)\n",
    "\n"
   ]
  },
  {
   "cell_type": "code",
   "execution_count": 33,
   "metadata": {},
   "outputs": [
    {
     "name": "stderr",
     "output_type": "stream",
     "text": [
      "100%|██████████| 200/200 [00:00<00:00, 4367.88it/s]\n",
      "  0%|          | 0/200 [00:00<?, ?it/s]"
     ]
    },
    {
     "name": "stderr",
     "output_type": "stream",
     "text": [
      "100%|██████████| 200/200 [00:00<00:00, 4137.01it/s]\n",
      "100%|██████████| 200/200 [00:00<00:00, 4084.19it/s]\n",
      "100%|██████████| 200/200 [00:00<00:00, 4547.48it/s]\n",
      "100%|██████████| 200/200 [00:00<00:00, 4352.61it/s]\n",
      "100%|██████████| 200/200 [00:00<00:00, 4394.22it/s]\n",
      "100%|██████████| 200/200 [00:00<00:00, 4340.99it/s]\n",
      "100%|██████████| 200/200 [00:00<00:00, 4583.21it/s]\n",
      "100%|██████████| 200/200 [00:00<00:00, 4023.12it/s]\n",
      "100%|██████████| 200/200 [00:00<00:00, 4115.88it/s]\n",
      "100%|██████████| 200/200 [00:00<00:00, 4539.71it/s]\n",
      "100%|██████████| 200/200 [00:00<00:00, 4292.34it/s]\n",
      "100%|██████████| 200/200 [00:00<00:00, 4239.28it/s]\n",
      "100%|██████████| 200/200 [00:00<00:00, 4493.00it/s]\n",
      "100%|██████████| 200/200 [00:00<00:00, 3632.52it/s]\n",
      "100%|██████████| 200/200 [00:00<00:00, 3878.55it/s]\n",
      "100%|██████████| 200/200 [00:00<00:00, 3924.66it/s]\n",
      "100%|██████████| 200/200 [00:00<00:00, 4402.41it/s]\n",
      "100%|██████████| 200/200 [00:00<00:00, 4325.90it/s]\n",
      "100%|██████████| 200/200 [00:00<00:00, 4342.65it/s]\n",
      "100%|██████████| 200/200 [00:00<00:00, 4244.43it/s]\n",
      "100%|██████████| 200/200 [00:00<00:00, 4015.53it/s]\n",
      "100%|██████████| 200/200 [00:00<00:00, 3971.22it/s]\n",
      "100%|██████████| 200/200 [00:00<00:00, 3998.06it/s]\n",
      "100%|██████████| 200/200 [00:00<00:00, 4284.91it/s]\n",
      "100%|██████████| 200/200 [00:00<00:00, 3838.25it/s]\n",
      "100%|██████████| 200/200 [00:00<00:00, 3947.93it/s]\n",
      "100%|██████████| 200/200 [00:00<00:00, 4577.84it/s]\n",
      "100%|██████████| 200/200 [00:00<00:00, 4656.17it/s]\n",
      "100%|██████████| 200/200 [00:00<00:00, 4607.45it/s]\n",
      "100%|██████████| 200/200 [00:00<00:00, 4393.48it/s]\n",
      "100%|██████████| 200/200 [00:00<00:00, 4388.36it/s]\n",
      "100%|██████████| 200/200 [00:00<00:00, 4754.37it/s]\n",
      "100%|██████████| 200/200 [00:00<00:00, 4640.85it/s]\n",
      "100%|██████████| 200/200 [00:00<00:00, 4679.47it/s]\n",
      "100%|██████████| 200/200 [00:00<00:00, 4026.11it/s]\n",
      "100%|██████████| 200/200 [00:00<00:00, 4170.26it/s]\n",
      "100%|██████████| 200/200 [00:00<00:00, 4592.22it/s]\n",
      "100%|██████████| 200/200 [00:00<00:00, 3916.16it/s]\n",
      "100%|██████████| 200/200 [00:00<00:00, 4378.71it/s]\n",
      "100%|██████████| 200/200 [00:00<00:00, 3813.12it/s]\n",
      "100%|██████████| 200/200 [00:00<00:00, 4002.27it/s]\n",
      "100%|██████████| 200/200 [00:00<00:00, 4567.81it/s]\n",
      "100%|██████████| 200/200 [00:00<00:00, 4432.09it/s]\n",
      "100%|██████████| 200/200 [00:00<00:00, 4433.47it/s]\n",
      "100%|██████████| 200/200 [00:00<00:00, 4450.85it/s]\n",
      "100%|██████████| 200/200 [00:00<00:00, 4680.46it/s]\n",
      "100%|██████████| 200/200 [00:00<00:00, 4525.58it/s]\n",
      "100%|██████████| 200/200 [00:00<00:00, 4532.64it/s]\n",
      "100%|██████████| 200/200 [00:00<00:00, 4594.03it/s]\n",
      "100%|██████████| 200/200 [00:00<00:00, 4413.87it/s]\n",
      "100%|██████████| 200/200 [00:00<00:00, 4683.44it/s]\n",
      "100%|██████████| 200/200 [00:00<00:00, 4352.04it/s]\n",
      "100%|██████████| 200/200 [00:00<00:00, 4670.80it/s]\n",
      "100%|██████████| 200/200 [00:00<00:00, 4346.27it/s]\n",
      "100%|██████████| 200/200 [00:00<00:00, 4638.38it/s]\n",
      "100%|██████████| 200/200 [00:00<00:00, 4333.36it/s]\n",
      "100%|██████████| 200/200 [00:00<00:00, 4796.86it/s]\n",
      "100%|██████████| 200/200 [00:00<00:00, 4299.14it/s]\n",
      "100%|██████████| 200/200 [00:00<00:00, 4375.49it/s]\n",
      "100%|██████████| 200/200 [00:00<00:00, 4399.43it/s]\n",
      "100%|██████████| 200/200 [00:00<00:00, 4252.61it/s]\n",
      "100%|██████████| 200/200 [00:00<00:00, 4298.87it/s]\n",
      "100%|██████████| 200/200 [00:00<00:00, 4276.76it/s]\n",
      "100%|██████████| 200/200 [00:00<00:00, 4393.25it/s]\n",
      "100%|██████████| 200/200 [00:00<00:00, 3747.11it/s]\n",
      "100%|██████████| 200/200 [00:00<00:00, 4109.71it/s]\n",
      "100%|██████████| 200/200 [00:00<00:00, 4191.22it/s]\n",
      "100%|██████████| 200/200 [00:00<00:00, 4264.30it/s]\n",
      "100%|██████████| 200/200 [00:00<00:00, 3877.76it/s]\n",
      "100%|██████████| 200/200 [00:00<00:00, 4088.23it/s]\n",
      "100%|██████████| 200/200 [00:00<00:00, 4672.36it/s]\n",
      "100%|██████████| 200/200 [00:00<00:00, 4389.05it/s]\n",
      "100%|██████████| 200/200 [00:00<00:00, 4000.29it/s]\n",
      "100%|██████████| 200/200 [00:00<00:00, 4056.43it/s]\n",
      "100%|██████████| 200/200 [00:00<00:00, 3911.99it/s]\n"
     ]
    }
   ],
   "source": [
    "value_labels_conv = [\n",
    "    'embedder.block1.res1.resadd_out',\n",
    "    'embedder.block1.res2.resadd_out',\n",
    "    'embedder.block2.res1.resadd_out',\n",
    "    'embedder.block2.res2.resadd_out',\n",
    "    'embedder.block3.res1.resadd_out',\n",
    "    'embedder.block3.res2.resadd_out']\n",
    "\n",
    "\n",
    "\n",
    "value_labels_conv = [\n",
    "    'embedder.block1.conv_in0',\n",
    "    'embedder.block1.res1.relu1_out',\n",
    "    'embedder.block1.res1.resadd_out',\n",
    "    'embedder.block1.res1.relu2_out',\n",
    "    'embedder.block1.res2.relu1_out',\n",
    "    'embedder.block1.res2.resadd_out',\n",
    "    'embedder.block1.res2.relu2_out',\n",
    "    'embedder.block2.res1.relu1_out',\n",
    "    'embedder.block2.res1.resadd_out',\n",
    "    'embedder.block2.res1.relu2_out',\n",
    "    'embedder.block2.res2.relu1_out',\n",
    "    'embedder.block2.res2.resadd_out',\n",
    "    'embedder.block2.res2.relu2_out',\n",
    "    'embedder.block3.res1.relu1_out',\n",
    "    'embedder.block3.res1.resadd_out',\n",
    "    'embedder.block3.res1.relu2_out',\n",
    "    'embedder.block3.res2.relu1_out',\n",
    "    'embedder.block3.res2.resadd_out',\n",
    "    'embedder.block3.res2.relu2_out',\n",
    "    # 'embedder.flatten_out',\n",
    "    # 'embedder.relufc_out',\n",
    "    # 'fc_policy_out',\n",
    "]\n",
    "\n",
    "\n",
    "pixel_data = {}\n",
    "f_test_dfs = {}\n",
    "\n",
    "hook_to_use = hook1\n",
    "pixel_data['cheese1'], f_test_dfs['cheese'] = make_pixel_data(value_labels_conv, cheese_pos, hook1)\n",
    "pixel_data['mouse1'], f_test_dfs['mouse'] = make_pixel_data(value_labels_conv, mouse_pos, hook1)\n",
    "pixel_data['cheese2'], f_test_dfs['cheese'] = make_pixel_data(value_labels_conv, cheese_pos, hook2)\n",
    "pixel_data['mouse2'], f_test_dfs['mouse'] = make_pixel_data(value_labels_conv, mouse_pos, hook2)\n",
    "#pixel_data['dist_to_top_right, hook1'], f_test_dfs['dist_to_top_right'] = make_pixel_data(value_labels_conv, top_right_pos, hook_to_use)\n",
    "#pixel_data['dist_to_top_right, hook2'], f_test_dfs['dist_to_top_right'] = make_pixel_data(value_labels_conv, top_right_pos, hook2)"
   ]
  },
  {
   "cell_type": "code",
   "execution_count": 34,
   "metadata": {},
   "outputs": [
    {
     "name": "stderr",
     "output_type": "stream",
     "text": [
      "  0%|          | 0/19 [00:00<?, ?it/s]"
     ]
    },
    {
     "name": "stderr",
     "output_type": "stream",
     "text": [
      "100%|██████████| 19/19 [00:02<00:00,  7.96it/s]\n"
     ]
    },
    {
     "data": {
      "application/vnd.plotly.v1+json": {
       "config": {
        "plotlyServerURL": "https://plot.ly"
       },
       "data": [
        {
         "hovertemplate": "K=1<br>layer=%{x}<br>score=%{y}<extra></extra>",
         "legendgroup": "1",
         "line": {
          "color": "#636efa",
          "dash": "solid"
         },
         "marker": {
          "symbol": "circle"
         },
         "mode": "lines",
         "name": "1",
         "orientation": "v",
         "showlegend": true,
         "type": "scatter",
         "x": [
          "embedder.block1.conv_in0",
          "embedder.block1.res1.relu1_out",
          "embedder.block1.res1.resadd_out",
          "embedder.block1.res1.relu2_out",
          "embedder.block1.res2.relu1_out",
          "embedder.block1.res2.resadd_out",
          "embedder.block1.res2.relu2_out",
          "embedder.block2.res1.relu1_out",
          "embedder.block2.res1.resadd_out",
          "embedder.block2.res1.relu2_out",
          "embedder.block2.res2.relu1_out",
          "embedder.block2.res2.resadd_out",
          "embedder.block2.res2.relu2_out",
          "embedder.block3.res1.relu1_out",
          "embedder.block3.res1.resadd_out",
          "embedder.block3.res1.relu2_out",
          "embedder.block3.res2.relu1_out",
          "embedder.block3.res2.resadd_out",
          "embedder.block3.res2.relu2_out"
         ],
         "xaxis": "x",
         "y": [
          0.9,
          0.975,
          0.975,
          0.9125,
          0.925,
          0.9875,
          0.9,
          1,
          1,
          0.8625,
          0.9875,
          1,
          0.9125,
          0.8125,
          0.775,
          0.8,
          0.7625,
          0.85,
          0.725
         ],
         "yaxis": "y"
        },
        {
         "hovertemplate": "K=2<br>layer=%{x}<br>score=%{y}<extra></extra>",
         "legendgroup": "2",
         "line": {
          "color": "#EF553B",
          "dash": "solid"
         },
         "marker": {
          "symbol": "circle"
         },
         "mode": "lines",
         "name": "2",
         "orientation": "v",
         "showlegend": true,
         "type": "scatter",
         "x": [
          "embedder.block1.conv_in0",
          "embedder.block1.res1.relu1_out",
          "embedder.block1.res1.resadd_out",
          "embedder.block1.res1.relu2_out",
          "embedder.block1.res2.relu1_out",
          "embedder.block1.res2.resadd_out",
          "embedder.block1.res2.relu2_out",
          "embedder.block2.res1.relu1_out",
          "embedder.block2.res1.resadd_out",
          "embedder.block2.res1.relu2_out",
          "embedder.block2.res2.relu1_out",
          "embedder.block2.res2.resadd_out",
          "embedder.block2.res2.relu2_out",
          "embedder.block3.res1.relu1_out",
          "embedder.block3.res1.resadd_out",
          "embedder.block3.res1.relu2_out",
          "embedder.block3.res2.relu1_out",
          "embedder.block3.res2.resadd_out",
          "embedder.block3.res2.relu2_out"
         ],
         "xaxis": "x",
         "y": [
          0.8875,
          0.9875,
          0.9875,
          0.9125,
          0.975,
          0.9875,
          0.9125,
          1,
          1,
          0.8625,
          0.9875,
          0.9875,
          0.875,
          0.8125,
          0.8125,
          0.8125,
          0.775,
          0.875,
          0.7375
         ],
         "yaxis": "y"
        },
        {
         "hovertemplate": "K=3<br>layer=%{x}<br>score=%{y}<extra></extra>",
         "legendgroup": "3",
         "line": {
          "color": "#00cc96",
          "dash": "solid"
         },
         "marker": {
          "symbol": "circle"
         },
         "mode": "lines",
         "name": "3",
         "orientation": "v",
         "showlegend": true,
         "type": "scatter",
         "x": [
          "embedder.block1.conv_in0",
          "embedder.block1.res1.relu1_out",
          "embedder.block1.res1.resadd_out",
          "embedder.block1.res1.relu2_out",
          "embedder.block1.res2.relu1_out",
          "embedder.block1.res2.resadd_out",
          "embedder.block1.res2.relu2_out",
          "embedder.block2.res1.relu1_out",
          "embedder.block2.res1.resadd_out",
          "embedder.block2.res1.relu2_out",
          "embedder.block2.res2.relu1_out",
          "embedder.block2.res2.resadd_out",
          "embedder.block2.res2.relu2_out",
          "embedder.block3.res1.relu1_out",
          "embedder.block3.res1.resadd_out",
          "embedder.block3.res1.relu2_out",
          "embedder.block3.res2.relu1_out",
          "embedder.block3.res2.resadd_out",
          "embedder.block3.res2.relu2_out"
         ],
         "xaxis": "x",
         "y": [
          0.8875,
          1,
          0.975,
          0.85,
          0.975,
          0.975,
          0.925,
          1,
          0.9875,
          0.9,
          0.975,
          0.9875,
          0.8625,
          0.8375,
          0.825,
          0.7875,
          0.825,
          0.875,
          0.7375
         ],
         "yaxis": "y"
        },
        {
         "hovertemplate": "K=4<br>layer=%{x}<br>score=%{y}<extra></extra>",
         "legendgroup": "4",
         "line": {
          "color": "#ab63fa",
          "dash": "solid"
         },
         "marker": {
          "symbol": "circle"
         },
         "mode": "lines",
         "name": "4",
         "orientation": "v",
         "showlegend": true,
         "type": "scatter",
         "x": [
          "embedder.block1.conv_in0",
          "embedder.block1.res1.relu1_out",
          "embedder.block1.res1.resadd_out",
          "embedder.block1.res1.relu2_out",
          "embedder.block1.res2.relu1_out",
          "embedder.block1.res2.resadd_out",
          "embedder.block1.res2.relu2_out",
          "embedder.block2.res1.relu1_out",
          "embedder.block2.res1.resadd_out",
          "embedder.block2.res1.relu2_out",
          "embedder.block2.res2.relu1_out",
          "embedder.block2.res2.resadd_out",
          "embedder.block2.res2.relu2_out",
          "embedder.block3.res1.relu1_out",
          "embedder.block3.res1.resadd_out",
          "embedder.block3.res1.relu2_out",
          "embedder.block3.res2.relu1_out",
          "embedder.block3.res2.resadd_out",
          "embedder.block3.res2.relu2_out"
         ],
         "xaxis": "x",
         "y": [
          0.8875,
          1,
          0.9875,
          0.8625,
          0.975,
          0.975,
          0.9375,
          1,
          0.9875,
          0.9125,
          0.9875,
          0.9875,
          0.875,
          0.825,
          0.825,
          0.7875,
          0.8,
          0.85,
          0.775
         ],
         "yaxis": "y"
        },
        {
         "hovertemplate": "K=5<br>layer=%{x}<br>score=%{y}<extra></extra>",
         "legendgroup": "5",
         "line": {
          "color": "#FFA15A",
          "dash": "solid"
         },
         "marker": {
          "symbol": "circle"
         },
         "mode": "lines",
         "name": "5",
         "orientation": "v",
         "showlegend": true,
         "type": "scatter",
         "x": [
          "embedder.block1.conv_in0",
          "embedder.block1.res1.relu1_out",
          "embedder.block1.res1.resadd_out",
          "embedder.block1.res1.relu2_out",
          "embedder.block1.res2.relu1_out",
          "embedder.block1.res2.resadd_out",
          "embedder.block1.res2.relu2_out",
          "embedder.block2.res1.relu1_out",
          "embedder.block2.res1.resadd_out",
          "embedder.block2.res1.relu2_out",
          "embedder.block2.res2.relu1_out",
          "embedder.block2.res2.resadd_out",
          "embedder.block2.res2.relu2_out",
          "embedder.block3.res1.relu1_out",
          "embedder.block3.res1.resadd_out",
          "embedder.block3.res1.relu2_out",
          "embedder.block3.res2.relu1_out",
          "embedder.block3.res2.resadd_out",
          "embedder.block3.res2.relu2_out"
         ],
         "xaxis": "x",
         "y": [
          0.8875,
          1,
          0.9875,
          0.9125,
          0.9625,
          0.975,
          0.9625,
          1,
          0.9875,
          0.9,
          0.975,
          0.9875,
          0.8875,
          0.8375,
          0.8625,
          0.8125,
          0.8,
          0.85,
          0.8125
         ],
         "yaxis": "y"
        },
        {
         "hovertemplate": "K=6<br>layer=%{x}<br>score=%{y}<extra></extra>",
         "legendgroup": "6",
         "line": {
          "color": "#19d3f3",
          "dash": "solid"
         },
         "marker": {
          "symbol": "circle"
         },
         "mode": "lines",
         "name": "6",
         "orientation": "v",
         "showlegend": true,
         "type": "scatter",
         "x": [
          "embedder.block1.conv_in0",
          "embedder.block1.res1.relu1_out",
          "embedder.block1.res1.resadd_out",
          "embedder.block1.res1.relu2_out",
          "embedder.block1.res2.relu1_out",
          "embedder.block1.res2.resadd_out",
          "embedder.block1.res2.relu2_out",
          "embedder.block2.res1.relu1_out",
          "embedder.block2.res1.resadd_out",
          "embedder.block2.res1.relu2_out",
          "embedder.block2.res2.relu1_out",
          "embedder.block2.res2.resadd_out",
          "embedder.block2.res2.relu2_out",
          "embedder.block3.res1.relu1_out",
          "embedder.block3.res1.resadd_out",
          "embedder.block3.res1.relu2_out",
          "embedder.block3.res2.relu1_out",
          "embedder.block3.res2.resadd_out",
          "embedder.block3.res2.relu2_out"
         ],
         "xaxis": "x",
         "y": [
          0.8875,
          1,
          0.9875,
          0.9,
          0.9625,
          0.975,
          0.9625,
          1,
          0.9875,
          0.8875,
          0.975,
          0.9875,
          0.875,
          0.8375,
          0.8625,
          0.8125,
          0.825,
          0.8625,
          0.8375
         ],
         "yaxis": "y"
        },
        {
         "hovertemplate": "K=7<br>layer=%{x}<br>score=%{y}<extra></extra>",
         "legendgroup": "7",
         "line": {
          "color": "#FF6692",
          "dash": "solid"
         },
         "marker": {
          "symbol": "circle"
         },
         "mode": "lines",
         "name": "7",
         "orientation": "v",
         "showlegend": true,
         "type": "scatter",
         "x": [
          "embedder.block1.conv_in0",
          "embedder.block1.res1.relu1_out",
          "embedder.block1.res1.resadd_out",
          "embedder.block1.res1.relu2_out",
          "embedder.block1.res2.relu1_out",
          "embedder.block1.res2.resadd_out",
          "embedder.block1.res2.relu2_out",
          "embedder.block2.res1.relu1_out",
          "embedder.block2.res1.resadd_out",
          "embedder.block2.res1.relu2_out",
          "embedder.block2.res2.relu1_out",
          "embedder.block2.res2.resadd_out",
          "embedder.block2.res2.relu2_out",
          "embedder.block3.res1.relu1_out",
          "embedder.block3.res1.resadd_out",
          "embedder.block3.res1.relu2_out",
          "embedder.block3.res2.relu1_out",
          "embedder.block3.res2.resadd_out",
          "embedder.block3.res2.relu2_out"
         ],
         "xaxis": "x",
         "y": [
          0.8875,
          1,
          1,
          0.9,
          0.95,
          0.975,
          0.9625,
          1,
          0.9875,
          0.8875,
          0.975,
          0.9875,
          0.875,
          0.875,
          0.8875,
          0.825,
          0.825,
          0.85,
          0.8125
         ],
         "yaxis": "y"
        },
        {
         "hovertemplate": "K=8<br>layer=%{x}<br>score=%{y}<extra></extra>",
         "legendgroup": "8",
         "line": {
          "color": "#B6E880",
          "dash": "solid"
         },
         "marker": {
          "symbol": "circle"
         },
         "mode": "lines",
         "name": "8",
         "orientation": "v",
         "showlegend": true,
         "type": "scatter",
         "x": [
          "embedder.block1.conv_in0",
          "embedder.block1.res1.relu1_out",
          "embedder.block1.res1.resadd_out",
          "embedder.block1.res1.relu2_out",
          "embedder.block1.res2.relu1_out",
          "embedder.block1.res2.resadd_out",
          "embedder.block1.res2.relu2_out",
          "embedder.block2.res1.relu1_out",
          "embedder.block2.res1.resadd_out",
          "embedder.block2.res1.relu2_out",
          "embedder.block2.res2.relu1_out",
          "embedder.block2.res2.resadd_out",
          "embedder.block2.res2.relu2_out",
          "embedder.block3.res1.relu1_out",
          "embedder.block3.res1.resadd_out",
          "embedder.block3.res1.relu2_out",
          "embedder.block3.res2.relu1_out",
          "embedder.block3.res2.resadd_out",
          "embedder.block3.res2.relu2_out"
         ],
         "xaxis": "x",
         "y": [
          0.8875,
          1,
          1,
          0.9,
          0.9625,
          0.975,
          0.9625,
          1,
          1,
          0.875,
          0.975,
          0.9875,
          0.9,
          0.875,
          0.875,
          0.825,
          0.825,
          0.8625,
          0.8
         ],
         "yaxis": "y"
        },
        {
         "hovertemplate": "K=9<br>layer=%{x}<br>score=%{y}<extra></extra>",
         "legendgroup": "9",
         "line": {
          "color": "#FF97FF",
          "dash": "solid"
         },
         "marker": {
          "symbol": "circle"
         },
         "mode": "lines",
         "name": "9",
         "orientation": "v",
         "showlegend": true,
         "type": "scatter",
         "x": [
          "embedder.block1.conv_in0",
          "embedder.block1.res1.relu1_out",
          "embedder.block1.res1.resadd_out",
          "embedder.block1.res1.relu2_out",
          "embedder.block1.res2.relu1_out",
          "embedder.block1.res2.resadd_out",
          "embedder.block1.res2.relu2_out",
          "embedder.block2.res1.relu1_out",
          "embedder.block2.res1.resadd_out",
          "embedder.block2.res1.relu2_out",
          "embedder.block2.res2.relu1_out",
          "embedder.block2.res2.resadd_out",
          "embedder.block2.res2.relu2_out",
          "embedder.block3.res1.relu1_out",
          "embedder.block3.res1.resadd_out",
          "embedder.block3.res1.relu2_out",
          "embedder.block3.res2.relu1_out",
          "embedder.block3.res2.resadd_out",
          "embedder.block3.res2.relu2_out"
         ],
         "xaxis": "x",
         "y": [
          0.8875,
          1,
          1,
          0.9,
          0.95,
          0.9875,
          0.9625,
          1,
          0.9875,
          0.875,
          0.975,
          0.9875,
          0.8875,
          0.875,
          0.8625,
          0.825,
          0.8125,
          0.8625,
          0.85
         ],
         "yaxis": "y"
        },
        {
         "hovertemplate": "K=10<br>layer=%{x}<br>score=%{y}<extra></extra>",
         "legendgroup": "10",
         "line": {
          "color": "#FECB52",
          "dash": "solid"
         },
         "marker": {
          "symbol": "circle"
         },
         "mode": "lines",
         "name": "10",
         "orientation": "v",
         "showlegend": true,
         "type": "scatter",
         "x": [
          "embedder.block1.conv_in0",
          "embedder.block1.res1.relu1_out",
          "embedder.block1.res1.resadd_out",
          "embedder.block1.res1.relu2_out",
          "embedder.block1.res2.relu1_out",
          "embedder.block1.res2.resadd_out",
          "embedder.block1.res2.relu2_out",
          "embedder.block2.res1.relu1_out",
          "embedder.block2.res1.resadd_out",
          "embedder.block2.res1.relu2_out",
          "embedder.block2.res2.relu1_out",
          "embedder.block2.res2.resadd_out",
          "embedder.block2.res2.relu2_out",
          "embedder.block3.res1.relu1_out",
          "embedder.block3.res1.resadd_out",
          "embedder.block3.res1.relu2_out",
          "embedder.block3.res2.relu1_out",
          "embedder.block3.res2.resadd_out",
          "embedder.block3.res2.relu2_out"
         ],
         "xaxis": "x",
         "y": [
          0.8875,
          1,
          1,
          0.9,
          0.95,
          0.9875,
          0.9625,
          1,
          0.9875,
          0.8875,
          0.975,
          0.9875,
          0.8875,
          0.8875,
          0.8625,
          0.825,
          0.8125,
          0.8875,
          0.85
         ],
         "yaxis": "y"
        }
       ],
       "layout": {
        "annotations": [
         {
          "showarrow": false,
          "text": "perfect",
          "x": 1,
          "xanchor": "right",
          "xref": "x domain",
          "y": 1,
          "yanchor": "top",
          "yref": "y"
         },
         {
          "showarrow": false,
          "text": "baseline",
          "x": 1,
          "xanchor": "right",
          "xref": "x domain",
          "y": 0.5,
          "yanchor": "top",
          "yref": "y"
         }
        ],
        "legend": {
         "title": {
          "text": "K"
         },
         "tracegroupgap": 0
        },
        "shapes": [
         {
          "line": {
           "dash": "dot"
          },
          "type": "line",
          "x0": 0,
          "x1": 1,
          "xref": "x domain",
          "y0": 1,
          "y1": 1,
          "yref": "y"
         },
         {
          "line": {
           "dash": "dot"
          },
          "type": "line",
          "x0": 0,
          "x1": 1,
          "xref": "x domain",
          "y0": 0.5,
          "y1": 0.5,
          "yref": "y"
         }
        ],
        "template": {
         "data": {
          "bar": [
           {
            "error_x": {
             "color": "#2a3f5f"
            },
            "error_y": {
             "color": "#2a3f5f"
            },
            "marker": {
             "line": {
              "color": "#E5ECF6",
              "width": 0.5
             },
             "pattern": {
              "fillmode": "overlay",
              "size": 10,
              "solidity": 0.2
             }
            },
            "type": "bar"
           }
          ],
          "barpolar": [
           {
            "marker": {
             "line": {
              "color": "#E5ECF6",
              "width": 0.5
             },
             "pattern": {
              "fillmode": "overlay",
              "size": 10,
              "solidity": 0.2
             }
            },
            "type": "barpolar"
           }
          ],
          "carpet": [
           {
            "aaxis": {
             "endlinecolor": "#2a3f5f",
             "gridcolor": "white",
             "linecolor": "white",
             "minorgridcolor": "white",
             "startlinecolor": "#2a3f5f"
            },
            "baxis": {
             "endlinecolor": "#2a3f5f",
             "gridcolor": "white",
             "linecolor": "white",
             "minorgridcolor": "white",
             "startlinecolor": "#2a3f5f"
            },
            "type": "carpet"
           }
          ],
          "choropleth": [
           {
            "colorbar": {
             "outlinewidth": 0,
             "ticks": ""
            },
            "type": "choropleth"
           }
          ],
          "contour": [
           {
            "colorbar": {
             "outlinewidth": 0,
             "ticks": ""
            },
            "colorscale": [
             [
              0,
              "#0d0887"
             ],
             [
              0.1111111111111111,
              "#46039f"
             ],
             [
              0.2222222222222222,
              "#7201a8"
             ],
             [
              0.3333333333333333,
              "#9c179e"
             ],
             [
              0.4444444444444444,
              "#bd3786"
             ],
             [
              0.5555555555555556,
              "#d8576b"
             ],
             [
              0.6666666666666666,
              "#ed7953"
             ],
             [
              0.7777777777777778,
              "#fb9f3a"
             ],
             [
              0.8888888888888888,
              "#fdca26"
             ],
             [
              1,
              "#f0f921"
             ]
            ],
            "type": "contour"
           }
          ],
          "contourcarpet": [
           {
            "colorbar": {
             "outlinewidth": 0,
             "ticks": ""
            },
            "type": "contourcarpet"
           }
          ],
          "heatmap": [
           {
            "colorbar": {
             "outlinewidth": 0,
             "ticks": ""
            },
            "colorscale": [
             [
              0,
              "#0d0887"
             ],
             [
              0.1111111111111111,
              "#46039f"
             ],
             [
              0.2222222222222222,
              "#7201a8"
             ],
             [
              0.3333333333333333,
              "#9c179e"
             ],
             [
              0.4444444444444444,
              "#bd3786"
             ],
             [
              0.5555555555555556,
              "#d8576b"
             ],
             [
              0.6666666666666666,
              "#ed7953"
             ],
             [
              0.7777777777777778,
              "#fb9f3a"
             ],
             [
              0.8888888888888888,
              "#fdca26"
             ],
             [
              1,
              "#f0f921"
             ]
            ],
            "type": "heatmap"
           }
          ],
          "heatmapgl": [
           {
            "colorbar": {
             "outlinewidth": 0,
             "ticks": ""
            },
            "colorscale": [
             [
              0,
              "#0d0887"
             ],
             [
              0.1111111111111111,
              "#46039f"
             ],
             [
              0.2222222222222222,
              "#7201a8"
             ],
             [
              0.3333333333333333,
              "#9c179e"
             ],
             [
              0.4444444444444444,
              "#bd3786"
             ],
             [
              0.5555555555555556,
              "#d8576b"
             ],
             [
              0.6666666666666666,
              "#ed7953"
             ],
             [
              0.7777777777777778,
              "#fb9f3a"
             ],
             [
              0.8888888888888888,
              "#fdca26"
             ],
             [
              1,
              "#f0f921"
             ]
            ],
            "type": "heatmapgl"
           }
          ],
          "histogram": [
           {
            "marker": {
             "pattern": {
              "fillmode": "overlay",
              "size": 10,
              "solidity": 0.2
             }
            },
            "type": "histogram"
           }
          ],
          "histogram2d": [
           {
            "colorbar": {
             "outlinewidth": 0,
             "ticks": ""
            },
            "colorscale": [
             [
              0,
              "#0d0887"
             ],
             [
              0.1111111111111111,
              "#46039f"
             ],
             [
              0.2222222222222222,
              "#7201a8"
             ],
             [
              0.3333333333333333,
              "#9c179e"
             ],
             [
              0.4444444444444444,
              "#bd3786"
             ],
             [
              0.5555555555555556,
              "#d8576b"
             ],
             [
              0.6666666666666666,
              "#ed7953"
             ],
             [
              0.7777777777777778,
              "#fb9f3a"
             ],
             [
              0.8888888888888888,
              "#fdca26"
             ],
             [
              1,
              "#f0f921"
             ]
            ],
            "type": "histogram2d"
           }
          ],
          "histogram2dcontour": [
           {
            "colorbar": {
             "outlinewidth": 0,
             "ticks": ""
            },
            "colorscale": [
             [
              0,
              "#0d0887"
             ],
             [
              0.1111111111111111,
              "#46039f"
             ],
             [
              0.2222222222222222,
              "#7201a8"
             ],
             [
              0.3333333333333333,
              "#9c179e"
             ],
             [
              0.4444444444444444,
              "#bd3786"
             ],
             [
              0.5555555555555556,
              "#d8576b"
             ],
             [
              0.6666666666666666,
              "#ed7953"
             ],
             [
              0.7777777777777778,
              "#fb9f3a"
             ],
             [
              0.8888888888888888,
              "#fdca26"
             ],
             [
              1,
              "#f0f921"
             ]
            ],
            "type": "histogram2dcontour"
           }
          ],
          "mesh3d": [
           {
            "colorbar": {
             "outlinewidth": 0,
             "ticks": ""
            },
            "type": "mesh3d"
           }
          ],
          "parcoords": [
           {
            "line": {
             "colorbar": {
              "outlinewidth": 0,
              "ticks": ""
             }
            },
            "type": "parcoords"
           }
          ],
          "pie": [
           {
            "automargin": true,
            "type": "pie"
           }
          ],
          "scatter": [
           {
            "fillpattern": {
             "fillmode": "overlay",
             "size": 10,
             "solidity": 0.2
            },
            "type": "scatter"
           }
          ],
          "scatter3d": [
           {
            "line": {
             "colorbar": {
              "outlinewidth": 0,
              "ticks": ""
             }
            },
            "marker": {
             "colorbar": {
              "outlinewidth": 0,
              "ticks": ""
             }
            },
            "type": "scatter3d"
           }
          ],
          "scattercarpet": [
           {
            "marker": {
             "colorbar": {
              "outlinewidth": 0,
              "ticks": ""
             }
            },
            "type": "scattercarpet"
           }
          ],
          "scattergeo": [
           {
            "marker": {
             "colorbar": {
              "outlinewidth": 0,
              "ticks": ""
             }
            },
            "type": "scattergeo"
           }
          ],
          "scattergl": [
           {
            "marker": {
             "colorbar": {
              "outlinewidth": 0,
              "ticks": ""
             }
            },
            "type": "scattergl"
           }
          ],
          "scattermapbox": [
           {
            "marker": {
             "colorbar": {
              "outlinewidth": 0,
              "ticks": ""
             }
            },
            "type": "scattermapbox"
           }
          ],
          "scatterpolar": [
           {
            "marker": {
             "colorbar": {
              "outlinewidth": 0,
              "ticks": ""
             }
            },
            "type": "scatterpolar"
           }
          ],
          "scatterpolargl": [
           {
            "marker": {
             "colorbar": {
              "outlinewidth": 0,
              "ticks": ""
             }
            },
            "type": "scatterpolargl"
           }
          ],
          "scatterternary": [
           {
            "marker": {
             "colorbar": {
              "outlinewidth": 0,
              "ticks": ""
             }
            },
            "type": "scatterternary"
           }
          ],
          "surface": [
           {
            "colorbar": {
             "outlinewidth": 0,
             "ticks": ""
            },
            "colorscale": [
             [
              0,
              "#0d0887"
             ],
             [
              0.1111111111111111,
              "#46039f"
             ],
             [
              0.2222222222222222,
              "#7201a8"
             ],
             [
              0.3333333333333333,
              "#9c179e"
             ],
             [
              0.4444444444444444,
              "#bd3786"
             ],
             [
              0.5555555555555556,
              "#d8576b"
             ],
             [
              0.6666666666666666,
              "#ed7953"
             ],
             [
              0.7777777777777778,
              "#fb9f3a"
             ],
             [
              0.8888888888888888,
              "#fdca26"
             ],
             [
              1,
              "#f0f921"
             ]
            ],
            "type": "surface"
           }
          ],
          "table": [
           {
            "cells": {
             "fill": {
              "color": "#EBF0F8"
             },
             "line": {
              "color": "white"
             }
            },
            "header": {
             "fill": {
              "color": "#C8D4E3"
             },
             "line": {
              "color": "white"
             }
            },
            "type": "table"
           }
          ]
         },
         "layout": {
          "annotationdefaults": {
           "arrowcolor": "#2a3f5f",
           "arrowhead": 0,
           "arrowwidth": 1
          },
          "autotypenumbers": "strict",
          "coloraxis": {
           "colorbar": {
            "outlinewidth": 0,
            "ticks": ""
           }
          },
          "colorscale": {
           "diverging": [
            [
             0,
             "#8e0152"
            ],
            [
             0.1,
             "#c51b7d"
            ],
            [
             0.2,
             "#de77ae"
            ],
            [
             0.3,
             "#f1b6da"
            ],
            [
             0.4,
             "#fde0ef"
            ],
            [
             0.5,
             "#f7f7f7"
            ],
            [
             0.6,
             "#e6f5d0"
            ],
            [
             0.7,
             "#b8e186"
            ],
            [
             0.8,
             "#7fbc41"
            ],
            [
             0.9,
             "#4d9221"
            ],
            [
             1,
             "#276419"
            ]
           ],
           "sequential": [
            [
             0,
             "#0d0887"
            ],
            [
             0.1111111111111111,
             "#46039f"
            ],
            [
             0.2222222222222222,
             "#7201a8"
            ],
            [
             0.3333333333333333,
             "#9c179e"
            ],
            [
             0.4444444444444444,
             "#bd3786"
            ],
            [
             0.5555555555555556,
             "#d8576b"
            ],
            [
             0.6666666666666666,
             "#ed7953"
            ],
            [
             0.7777777777777778,
             "#fb9f3a"
            ],
            [
             0.8888888888888888,
             "#fdca26"
            ],
            [
             1,
             "#f0f921"
            ]
           ],
           "sequentialminus": [
            [
             0,
             "#0d0887"
            ],
            [
             0.1111111111111111,
             "#46039f"
            ],
            [
             0.2222222222222222,
             "#7201a8"
            ],
            [
             0.3333333333333333,
             "#9c179e"
            ],
            [
             0.4444444444444444,
             "#bd3786"
            ],
            [
             0.5555555555555556,
             "#d8576b"
            ],
            [
             0.6666666666666666,
             "#ed7953"
            ],
            [
             0.7777777777777778,
             "#fb9f3a"
            ],
            [
             0.8888888888888888,
             "#fdca26"
            ],
            [
             1,
             "#f0f921"
            ]
           ]
          },
          "colorway": [
           "#636efa",
           "#EF553B",
           "#00cc96",
           "#ab63fa",
           "#FFA15A",
           "#19d3f3",
           "#FF6692",
           "#B6E880",
           "#FF97FF",
           "#FECB52"
          ],
          "font": {
           "color": "#2a3f5f"
          },
          "geo": {
           "bgcolor": "white",
           "lakecolor": "white",
           "landcolor": "#E5ECF6",
           "showlakes": true,
           "showland": true,
           "subunitcolor": "white"
          },
          "hoverlabel": {
           "align": "left"
          },
          "hovermode": "closest",
          "mapbox": {
           "style": "light"
          },
          "paper_bgcolor": "white",
          "plot_bgcolor": "#E5ECF6",
          "polar": {
           "angularaxis": {
            "gridcolor": "white",
            "linecolor": "white",
            "ticks": ""
           },
           "bgcolor": "#E5ECF6",
           "radialaxis": {
            "gridcolor": "white",
            "linecolor": "white",
            "ticks": ""
           }
          },
          "scene": {
           "xaxis": {
            "backgroundcolor": "#E5ECF6",
            "gridcolor": "white",
            "gridwidth": 2,
            "linecolor": "white",
            "showbackground": true,
            "ticks": "",
            "zerolinecolor": "white"
           },
           "yaxis": {
            "backgroundcolor": "#E5ECF6",
            "gridcolor": "white",
            "gridwidth": 2,
            "linecolor": "white",
            "showbackground": true,
            "ticks": "",
            "zerolinecolor": "white"
           },
           "zaxis": {
            "backgroundcolor": "#E5ECF6",
            "gridcolor": "white",
            "gridwidth": 2,
            "linecolor": "white",
            "showbackground": true,
            "ticks": "",
            "zerolinecolor": "white"
           }
          },
          "shapedefaults": {
           "line": {
            "color": "#2a3f5f"
           }
          },
          "ternary": {
           "aaxis": {
            "gridcolor": "white",
            "linecolor": "white",
            "ticks": ""
           },
           "baxis": {
            "gridcolor": "white",
            "linecolor": "white",
            "ticks": ""
           },
           "bgcolor": "#E5ECF6",
           "caxis": {
            "gridcolor": "white",
            "linecolor": "white",
            "ticks": ""
           }
          },
          "title": {
           "x": 0.05
          },
          "xaxis": {
           "automargin": true,
           "gridcolor": "white",
           "linecolor": "white",
           "ticks": "",
           "title": {
            "standoff": 15
           },
           "zerolinecolor": "white",
           "zerolinewidth": 2
          },
          "yaxis": {
           "automargin": true,
           "gridcolor": "white",
           "linecolor": "white",
           "ticks": "",
           "title": {
            "standoff": 15
           },
           "zerolinecolor": "white",
           "zerolinewidth": 2
          }
         }
        },
        "title": {
         "text": "Sparse probe scores for \"conv pixel contains cheese1\" over resadd layers and K values"
        },
        "xaxis": {
         "anchor": "y",
         "domain": [
          0,
          1
         ],
         "title": {
          "text": "layer"
         }
        },
        "yaxis": {
         "anchor": "x",
         "domain": [
          0,
          1
         ],
         "title": {
          "text": "score"
         }
        }
       }
      },
      "text/html": [
       "<div>                            <div id=\"9cde2f83-f3a4-4489-b079-3e4ec8ad0ce2\" class=\"plotly-graph-div\" style=\"height:525px; width:100%;\"></div>            <script type=\"text/javascript\">                require([\"plotly\"], function(Plotly) {                    window.PLOTLYENV=window.PLOTLYENV || {};                                    if (document.getElementById(\"9cde2f83-f3a4-4489-b079-3e4ec8ad0ce2\")) {                    Plotly.newPlot(                        \"9cde2f83-f3a4-4489-b079-3e4ec8ad0ce2\",                        [{\"hovertemplate\":\"K=1\\u003cbr\\u003elayer=%{x}\\u003cbr\\u003escore=%{y}\\u003cextra\\u003e\\u003c\\u002fextra\\u003e\",\"legendgroup\":\"1\",\"line\":{\"color\":\"#636efa\",\"dash\":\"solid\"},\"marker\":{\"symbol\":\"circle\"},\"mode\":\"lines\",\"name\":\"1\",\"orientation\":\"v\",\"showlegend\":true,\"x\":[\"embedder.block1.conv_in0\",\"embedder.block1.res1.relu1_out\",\"embedder.block1.res1.resadd_out\",\"embedder.block1.res1.relu2_out\",\"embedder.block1.res2.relu1_out\",\"embedder.block1.res2.resadd_out\",\"embedder.block1.res2.relu2_out\",\"embedder.block2.res1.relu1_out\",\"embedder.block2.res1.resadd_out\",\"embedder.block2.res1.relu2_out\",\"embedder.block2.res2.relu1_out\",\"embedder.block2.res2.resadd_out\",\"embedder.block2.res2.relu2_out\",\"embedder.block3.res1.relu1_out\",\"embedder.block3.res1.resadd_out\",\"embedder.block3.res1.relu2_out\",\"embedder.block3.res2.relu1_out\",\"embedder.block3.res2.resadd_out\",\"embedder.block3.res2.relu2_out\"],\"xaxis\":\"x\",\"y\":[0.9,0.975,0.975,0.9125,0.925,0.9875,0.9,1.0,1.0,0.8625,0.9875,1.0,0.9125,0.8125,0.775,0.8,0.7625,0.85,0.725],\"yaxis\":\"y\",\"type\":\"scatter\"},{\"hovertemplate\":\"K=2\\u003cbr\\u003elayer=%{x}\\u003cbr\\u003escore=%{y}\\u003cextra\\u003e\\u003c\\u002fextra\\u003e\",\"legendgroup\":\"2\",\"line\":{\"color\":\"#EF553B\",\"dash\":\"solid\"},\"marker\":{\"symbol\":\"circle\"},\"mode\":\"lines\",\"name\":\"2\",\"orientation\":\"v\",\"showlegend\":true,\"x\":[\"embedder.block1.conv_in0\",\"embedder.block1.res1.relu1_out\",\"embedder.block1.res1.resadd_out\",\"embedder.block1.res1.relu2_out\",\"embedder.block1.res2.relu1_out\",\"embedder.block1.res2.resadd_out\",\"embedder.block1.res2.relu2_out\",\"embedder.block2.res1.relu1_out\",\"embedder.block2.res1.resadd_out\",\"embedder.block2.res1.relu2_out\",\"embedder.block2.res2.relu1_out\",\"embedder.block2.res2.resadd_out\",\"embedder.block2.res2.relu2_out\",\"embedder.block3.res1.relu1_out\",\"embedder.block3.res1.resadd_out\",\"embedder.block3.res1.relu2_out\",\"embedder.block3.res2.relu1_out\",\"embedder.block3.res2.resadd_out\",\"embedder.block3.res2.relu2_out\"],\"xaxis\":\"x\",\"y\":[0.8875,0.9875,0.9875,0.9125,0.975,0.9875,0.9125,1.0,1.0,0.8625,0.9875,0.9875,0.875,0.8125,0.8125,0.8125,0.775,0.875,0.7375],\"yaxis\":\"y\",\"type\":\"scatter\"},{\"hovertemplate\":\"K=3\\u003cbr\\u003elayer=%{x}\\u003cbr\\u003escore=%{y}\\u003cextra\\u003e\\u003c\\u002fextra\\u003e\",\"legendgroup\":\"3\",\"line\":{\"color\":\"#00cc96\",\"dash\":\"solid\"},\"marker\":{\"symbol\":\"circle\"},\"mode\":\"lines\",\"name\":\"3\",\"orientation\":\"v\",\"showlegend\":true,\"x\":[\"embedder.block1.conv_in0\",\"embedder.block1.res1.relu1_out\",\"embedder.block1.res1.resadd_out\",\"embedder.block1.res1.relu2_out\",\"embedder.block1.res2.relu1_out\",\"embedder.block1.res2.resadd_out\",\"embedder.block1.res2.relu2_out\",\"embedder.block2.res1.relu1_out\",\"embedder.block2.res1.resadd_out\",\"embedder.block2.res1.relu2_out\",\"embedder.block2.res2.relu1_out\",\"embedder.block2.res2.resadd_out\",\"embedder.block2.res2.relu2_out\",\"embedder.block3.res1.relu1_out\",\"embedder.block3.res1.resadd_out\",\"embedder.block3.res1.relu2_out\",\"embedder.block3.res2.relu1_out\",\"embedder.block3.res2.resadd_out\",\"embedder.block3.res2.relu2_out\"],\"xaxis\":\"x\",\"y\":[0.8875,1.0,0.975,0.85,0.975,0.975,0.925,1.0,0.9875,0.9,0.975,0.9875,0.8625,0.8375,0.825,0.7875,0.825,0.875,0.7375],\"yaxis\":\"y\",\"type\":\"scatter\"},{\"hovertemplate\":\"K=4\\u003cbr\\u003elayer=%{x}\\u003cbr\\u003escore=%{y}\\u003cextra\\u003e\\u003c\\u002fextra\\u003e\",\"legendgroup\":\"4\",\"line\":{\"color\":\"#ab63fa\",\"dash\":\"solid\"},\"marker\":{\"symbol\":\"circle\"},\"mode\":\"lines\",\"name\":\"4\",\"orientation\":\"v\",\"showlegend\":true,\"x\":[\"embedder.block1.conv_in0\",\"embedder.block1.res1.relu1_out\",\"embedder.block1.res1.resadd_out\",\"embedder.block1.res1.relu2_out\",\"embedder.block1.res2.relu1_out\",\"embedder.block1.res2.resadd_out\",\"embedder.block1.res2.relu2_out\",\"embedder.block2.res1.relu1_out\",\"embedder.block2.res1.resadd_out\",\"embedder.block2.res1.relu2_out\",\"embedder.block2.res2.relu1_out\",\"embedder.block2.res2.resadd_out\",\"embedder.block2.res2.relu2_out\",\"embedder.block3.res1.relu1_out\",\"embedder.block3.res1.resadd_out\",\"embedder.block3.res1.relu2_out\",\"embedder.block3.res2.relu1_out\",\"embedder.block3.res2.resadd_out\",\"embedder.block3.res2.relu2_out\"],\"xaxis\":\"x\",\"y\":[0.8875,1.0,0.9875,0.8625,0.975,0.975,0.9375,1.0,0.9875,0.9125,0.9875,0.9875,0.875,0.825,0.825,0.7875,0.8,0.85,0.775],\"yaxis\":\"y\",\"type\":\"scatter\"},{\"hovertemplate\":\"K=5\\u003cbr\\u003elayer=%{x}\\u003cbr\\u003escore=%{y}\\u003cextra\\u003e\\u003c\\u002fextra\\u003e\",\"legendgroup\":\"5\",\"line\":{\"color\":\"#FFA15A\",\"dash\":\"solid\"},\"marker\":{\"symbol\":\"circle\"},\"mode\":\"lines\",\"name\":\"5\",\"orientation\":\"v\",\"showlegend\":true,\"x\":[\"embedder.block1.conv_in0\",\"embedder.block1.res1.relu1_out\",\"embedder.block1.res1.resadd_out\",\"embedder.block1.res1.relu2_out\",\"embedder.block1.res2.relu1_out\",\"embedder.block1.res2.resadd_out\",\"embedder.block1.res2.relu2_out\",\"embedder.block2.res1.relu1_out\",\"embedder.block2.res1.resadd_out\",\"embedder.block2.res1.relu2_out\",\"embedder.block2.res2.relu1_out\",\"embedder.block2.res2.resadd_out\",\"embedder.block2.res2.relu2_out\",\"embedder.block3.res1.relu1_out\",\"embedder.block3.res1.resadd_out\",\"embedder.block3.res1.relu2_out\",\"embedder.block3.res2.relu1_out\",\"embedder.block3.res2.resadd_out\",\"embedder.block3.res2.relu2_out\"],\"xaxis\":\"x\",\"y\":[0.8875,1.0,0.9875,0.9125,0.9625,0.975,0.9625,1.0,0.9875,0.9,0.975,0.9875,0.8875,0.8375,0.8625,0.8125,0.8,0.85,0.8125],\"yaxis\":\"y\",\"type\":\"scatter\"},{\"hovertemplate\":\"K=6\\u003cbr\\u003elayer=%{x}\\u003cbr\\u003escore=%{y}\\u003cextra\\u003e\\u003c\\u002fextra\\u003e\",\"legendgroup\":\"6\",\"line\":{\"color\":\"#19d3f3\",\"dash\":\"solid\"},\"marker\":{\"symbol\":\"circle\"},\"mode\":\"lines\",\"name\":\"6\",\"orientation\":\"v\",\"showlegend\":true,\"x\":[\"embedder.block1.conv_in0\",\"embedder.block1.res1.relu1_out\",\"embedder.block1.res1.resadd_out\",\"embedder.block1.res1.relu2_out\",\"embedder.block1.res2.relu1_out\",\"embedder.block1.res2.resadd_out\",\"embedder.block1.res2.relu2_out\",\"embedder.block2.res1.relu1_out\",\"embedder.block2.res1.resadd_out\",\"embedder.block2.res1.relu2_out\",\"embedder.block2.res2.relu1_out\",\"embedder.block2.res2.resadd_out\",\"embedder.block2.res2.relu2_out\",\"embedder.block3.res1.relu1_out\",\"embedder.block3.res1.resadd_out\",\"embedder.block3.res1.relu2_out\",\"embedder.block3.res2.relu1_out\",\"embedder.block3.res2.resadd_out\",\"embedder.block3.res2.relu2_out\"],\"xaxis\":\"x\",\"y\":[0.8875,1.0,0.9875,0.9,0.9625,0.975,0.9625,1.0,0.9875,0.8875,0.975,0.9875,0.875,0.8375,0.8625,0.8125,0.825,0.8625,0.8375],\"yaxis\":\"y\",\"type\":\"scatter\"},{\"hovertemplate\":\"K=7\\u003cbr\\u003elayer=%{x}\\u003cbr\\u003escore=%{y}\\u003cextra\\u003e\\u003c\\u002fextra\\u003e\",\"legendgroup\":\"7\",\"line\":{\"color\":\"#FF6692\",\"dash\":\"solid\"},\"marker\":{\"symbol\":\"circle\"},\"mode\":\"lines\",\"name\":\"7\",\"orientation\":\"v\",\"showlegend\":true,\"x\":[\"embedder.block1.conv_in0\",\"embedder.block1.res1.relu1_out\",\"embedder.block1.res1.resadd_out\",\"embedder.block1.res1.relu2_out\",\"embedder.block1.res2.relu1_out\",\"embedder.block1.res2.resadd_out\",\"embedder.block1.res2.relu2_out\",\"embedder.block2.res1.relu1_out\",\"embedder.block2.res1.resadd_out\",\"embedder.block2.res1.relu2_out\",\"embedder.block2.res2.relu1_out\",\"embedder.block2.res2.resadd_out\",\"embedder.block2.res2.relu2_out\",\"embedder.block3.res1.relu1_out\",\"embedder.block3.res1.resadd_out\",\"embedder.block3.res1.relu2_out\",\"embedder.block3.res2.relu1_out\",\"embedder.block3.res2.resadd_out\",\"embedder.block3.res2.relu2_out\"],\"xaxis\":\"x\",\"y\":[0.8875,1.0,1.0,0.9,0.95,0.975,0.9625,1.0,0.9875,0.8875,0.975,0.9875,0.875,0.875,0.8875,0.825,0.825,0.85,0.8125],\"yaxis\":\"y\",\"type\":\"scatter\"},{\"hovertemplate\":\"K=8\\u003cbr\\u003elayer=%{x}\\u003cbr\\u003escore=%{y}\\u003cextra\\u003e\\u003c\\u002fextra\\u003e\",\"legendgroup\":\"8\",\"line\":{\"color\":\"#B6E880\",\"dash\":\"solid\"},\"marker\":{\"symbol\":\"circle\"},\"mode\":\"lines\",\"name\":\"8\",\"orientation\":\"v\",\"showlegend\":true,\"x\":[\"embedder.block1.conv_in0\",\"embedder.block1.res1.relu1_out\",\"embedder.block1.res1.resadd_out\",\"embedder.block1.res1.relu2_out\",\"embedder.block1.res2.relu1_out\",\"embedder.block1.res2.resadd_out\",\"embedder.block1.res2.relu2_out\",\"embedder.block2.res1.relu1_out\",\"embedder.block2.res1.resadd_out\",\"embedder.block2.res1.relu2_out\",\"embedder.block2.res2.relu1_out\",\"embedder.block2.res2.resadd_out\",\"embedder.block2.res2.relu2_out\",\"embedder.block3.res1.relu1_out\",\"embedder.block3.res1.resadd_out\",\"embedder.block3.res1.relu2_out\",\"embedder.block3.res2.relu1_out\",\"embedder.block3.res2.resadd_out\",\"embedder.block3.res2.relu2_out\"],\"xaxis\":\"x\",\"y\":[0.8875,1.0,1.0,0.9,0.9625,0.975,0.9625,1.0,1.0,0.875,0.975,0.9875,0.9,0.875,0.875,0.825,0.825,0.8625,0.8],\"yaxis\":\"y\",\"type\":\"scatter\"},{\"hovertemplate\":\"K=9\\u003cbr\\u003elayer=%{x}\\u003cbr\\u003escore=%{y}\\u003cextra\\u003e\\u003c\\u002fextra\\u003e\",\"legendgroup\":\"9\",\"line\":{\"color\":\"#FF97FF\",\"dash\":\"solid\"},\"marker\":{\"symbol\":\"circle\"},\"mode\":\"lines\",\"name\":\"9\",\"orientation\":\"v\",\"showlegend\":true,\"x\":[\"embedder.block1.conv_in0\",\"embedder.block1.res1.relu1_out\",\"embedder.block1.res1.resadd_out\",\"embedder.block1.res1.relu2_out\",\"embedder.block1.res2.relu1_out\",\"embedder.block1.res2.resadd_out\",\"embedder.block1.res2.relu2_out\",\"embedder.block2.res1.relu1_out\",\"embedder.block2.res1.resadd_out\",\"embedder.block2.res1.relu2_out\",\"embedder.block2.res2.relu1_out\",\"embedder.block2.res2.resadd_out\",\"embedder.block2.res2.relu2_out\",\"embedder.block3.res1.relu1_out\",\"embedder.block3.res1.resadd_out\",\"embedder.block3.res1.relu2_out\",\"embedder.block3.res2.relu1_out\",\"embedder.block3.res2.resadd_out\",\"embedder.block3.res2.relu2_out\"],\"xaxis\":\"x\",\"y\":[0.8875,1.0,1.0,0.9,0.95,0.9875,0.9625,1.0,0.9875,0.875,0.975,0.9875,0.8875,0.875,0.8625,0.825,0.8125,0.8625,0.85],\"yaxis\":\"y\",\"type\":\"scatter\"},{\"hovertemplate\":\"K=10\\u003cbr\\u003elayer=%{x}\\u003cbr\\u003escore=%{y}\\u003cextra\\u003e\\u003c\\u002fextra\\u003e\",\"legendgroup\":\"10\",\"line\":{\"color\":\"#FECB52\",\"dash\":\"solid\"},\"marker\":{\"symbol\":\"circle\"},\"mode\":\"lines\",\"name\":\"10\",\"orientation\":\"v\",\"showlegend\":true,\"x\":[\"embedder.block1.conv_in0\",\"embedder.block1.res1.relu1_out\",\"embedder.block1.res1.resadd_out\",\"embedder.block1.res1.relu2_out\",\"embedder.block1.res2.relu1_out\",\"embedder.block1.res2.resadd_out\",\"embedder.block1.res2.relu2_out\",\"embedder.block2.res1.relu1_out\",\"embedder.block2.res1.resadd_out\",\"embedder.block2.res1.relu2_out\",\"embedder.block2.res2.relu1_out\",\"embedder.block2.res2.resadd_out\",\"embedder.block2.res2.relu2_out\",\"embedder.block3.res1.relu1_out\",\"embedder.block3.res1.resadd_out\",\"embedder.block3.res1.relu2_out\",\"embedder.block3.res2.relu1_out\",\"embedder.block3.res2.resadd_out\",\"embedder.block3.res2.relu2_out\"],\"xaxis\":\"x\",\"y\":[0.8875,1.0,1.0,0.9,0.95,0.9875,0.9625,1.0,0.9875,0.8875,0.975,0.9875,0.8875,0.8875,0.8625,0.825,0.8125,0.8875,0.85],\"yaxis\":\"y\",\"type\":\"scatter\"}],                        {\"template\":{\"data\":{\"histogram2dcontour\":[{\"type\":\"histogram2dcontour\",\"colorbar\":{\"outlinewidth\":0,\"ticks\":\"\"},\"colorscale\":[[0.0,\"#0d0887\"],[0.1111111111111111,\"#46039f\"],[0.2222222222222222,\"#7201a8\"],[0.3333333333333333,\"#9c179e\"],[0.4444444444444444,\"#bd3786\"],[0.5555555555555556,\"#d8576b\"],[0.6666666666666666,\"#ed7953\"],[0.7777777777777778,\"#fb9f3a\"],[0.8888888888888888,\"#fdca26\"],[1.0,\"#f0f921\"]]}],\"choropleth\":[{\"type\":\"choropleth\",\"colorbar\":{\"outlinewidth\":0,\"ticks\":\"\"}}],\"histogram2d\":[{\"type\":\"histogram2d\",\"colorbar\":{\"outlinewidth\":0,\"ticks\":\"\"},\"colorscale\":[[0.0,\"#0d0887\"],[0.1111111111111111,\"#46039f\"],[0.2222222222222222,\"#7201a8\"],[0.3333333333333333,\"#9c179e\"],[0.4444444444444444,\"#bd3786\"],[0.5555555555555556,\"#d8576b\"],[0.6666666666666666,\"#ed7953\"],[0.7777777777777778,\"#fb9f3a\"],[0.8888888888888888,\"#fdca26\"],[1.0,\"#f0f921\"]]}],\"heatmap\":[{\"type\":\"heatmap\",\"colorbar\":{\"outlinewidth\":0,\"ticks\":\"\"},\"colorscale\":[[0.0,\"#0d0887\"],[0.1111111111111111,\"#46039f\"],[0.2222222222222222,\"#7201a8\"],[0.3333333333333333,\"#9c179e\"],[0.4444444444444444,\"#bd3786\"],[0.5555555555555556,\"#d8576b\"],[0.6666666666666666,\"#ed7953\"],[0.7777777777777778,\"#fb9f3a\"],[0.8888888888888888,\"#fdca26\"],[1.0,\"#f0f921\"]]}],\"heatmapgl\":[{\"type\":\"heatmapgl\",\"colorbar\":{\"outlinewidth\":0,\"ticks\":\"\"},\"colorscale\":[[0.0,\"#0d0887\"],[0.1111111111111111,\"#46039f\"],[0.2222222222222222,\"#7201a8\"],[0.3333333333333333,\"#9c179e\"],[0.4444444444444444,\"#bd3786\"],[0.5555555555555556,\"#d8576b\"],[0.6666666666666666,\"#ed7953\"],[0.7777777777777778,\"#fb9f3a\"],[0.8888888888888888,\"#fdca26\"],[1.0,\"#f0f921\"]]}],\"contourcarpet\":[{\"type\":\"contourcarpet\",\"colorbar\":{\"outlinewidth\":0,\"ticks\":\"\"}}],\"contour\":[{\"type\":\"contour\",\"colorbar\":{\"outlinewidth\":0,\"ticks\":\"\"},\"colorscale\":[[0.0,\"#0d0887\"],[0.1111111111111111,\"#46039f\"],[0.2222222222222222,\"#7201a8\"],[0.3333333333333333,\"#9c179e\"],[0.4444444444444444,\"#bd3786\"],[0.5555555555555556,\"#d8576b\"],[0.6666666666666666,\"#ed7953\"],[0.7777777777777778,\"#fb9f3a\"],[0.8888888888888888,\"#fdca26\"],[1.0,\"#f0f921\"]]}],\"surface\":[{\"type\":\"surface\",\"colorbar\":{\"outlinewidth\":0,\"ticks\":\"\"},\"colorscale\":[[0.0,\"#0d0887\"],[0.1111111111111111,\"#46039f\"],[0.2222222222222222,\"#7201a8\"],[0.3333333333333333,\"#9c179e\"],[0.4444444444444444,\"#bd3786\"],[0.5555555555555556,\"#d8576b\"],[0.6666666666666666,\"#ed7953\"],[0.7777777777777778,\"#fb9f3a\"],[0.8888888888888888,\"#fdca26\"],[1.0,\"#f0f921\"]]}],\"mesh3d\":[{\"type\":\"mesh3d\",\"colorbar\":{\"outlinewidth\":0,\"ticks\":\"\"}}],\"scatter\":[{\"fillpattern\":{\"fillmode\":\"overlay\",\"size\":10,\"solidity\":0.2},\"type\":\"scatter\"}],\"parcoords\":[{\"type\":\"parcoords\",\"line\":{\"colorbar\":{\"outlinewidth\":0,\"ticks\":\"\"}}}],\"scatterpolargl\":[{\"type\":\"scatterpolargl\",\"marker\":{\"colorbar\":{\"outlinewidth\":0,\"ticks\":\"\"}}}],\"bar\":[{\"error_x\":{\"color\":\"#2a3f5f\"},\"error_y\":{\"color\":\"#2a3f5f\"},\"marker\":{\"line\":{\"color\":\"#E5ECF6\",\"width\":0.5},\"pattern\":{\"fillmode\":\"overlay\",\"size\":10,\"solidity\":0.2}},\"type\":\"bar\"}],\"scattergeo\":[{\"type\":\"scattergeo\",\"marker\":{\"colorbar\":{\"outlinewidth\":0,\"ticks\":\"\"}}}],\"scatterpolar\":[{\"type\":\"scatterpolar\",\"marker\":{\"colorbar\":{\"outlinewidth\":0,\"ticks\":\"\"}}}],\"histogram\":[{\"marker\":{\"pattern\":{\"fillmode\":\"overlay\",\"size\":10,\"solidity\":0.2}},\"type\":\"histogram\"}],\"scattergl\":[{\"type\":\"scattergl\",\"marker\":{\"colorbar\":{\"outlinewidth\":0,\"ticks\":\"\"}}}],\"scatter3d\":[{\"type\":\"scatter3d\",\"line\":{\"colorbar\":{\"outlinewidth\":0,\"ticks\":\"\"}},\"marker\":{\"colorbar\":{\"outlinewidth\":0,\"ticks\":\"\"}}}],\"scattermapbox\":[{\"type\":\"scattermapbox\",\"marker\":{\"colorbar\":{\"outlinewidth\":0,\"ticks\":\"\"}}}],\"scatterternary\":[{\"type\":\"scatterternary\",\"marker\":{\"colorbar\":{\"outlinewidth\":0,\"ticks\":\"\"}}}],\"scattercarpet\":[{\"type\":\"scattercarpet\",\"marker\":{\"colorbar\":{\"outlinewidth\":0,\"ticks\":\"\"}}}],\"carpet\":[{\"aaxis\":{\"endlinecolor\":\"#2a3f5f\",\"gridcolor\":\"white\",\"linecolor\":\"white\",\"minorgridcolor\":\"white\",\"startlinecolor\":\"#2a3f5f\"},\"baxis\":{\"endlinecolor\":\"#2a3f5f\",\"gridcolor\":\"white\",\"linecolor\":\"white\",\"minorgridcolor\":\"white\",\"startlinecolor\":\"#2a3f5f\"},\"type\":\"carpet\"}],\"table\":[{\"cells\":{\"fill\":{\"color\":\"#EBF0F8\"},\"line\":{\"color\":\"white\"}},\"header\":{\"fill\":{\"color\":\"#C8D4E3\"},\"line\":{\"color\":\"white\"}},\"type\":\"table\"}],\"barpolar\":[{\"marker\":{\"line\":{\"color\":\"#E5ECF6\",\"width\":0.5},\"pattern\":{\"fillmode\":\"overlay\",\"size\":10,\"solidity\":0.2}},\"type\":\"barpolar\"}],\"pie\":[{\"automargin\":true,\"type\":\"pie\"}]},\"layout\":{\"autotypenumbers\":\"strict\",\"colorway\":[\"#636efa\",\"#EF553B\",\"#00cc96\",\"#ab63fa\",\"#FFA15A\",\"#19d3f3\",\"#FF6692\",\"#B6E880\",\"#FF97FF\",\"#FECB52\"],\"font\":{\"color\":\"#2a3f5f\"},\"hovermode\":\"closest\",\"hoverlabel\":{\"align\":\"left\"},\"paper_bgcolor\":\"white\",\"plot_bgcolor\":\"#E5ECF6\",\"polar\":{\"bgcolor\":\"#E5ECF6\",\"angularaxis\":{\"gridcolor\":\"white\",\"linecolor\":\"white\",\"ticks\":\"\"},\"radialaxis\":{\"gridcolor\":\"white\",\"linecolor\":\"white\",\"ticks\":\"\"}},\"ternary\":{\"bgcolor\":\"#E5ECF6\",\"aaxis\":{\"gridcolor\":\"white\",\"linecolor\":\"white\",\"ticks\":\"\"},\"baxis\":{\"gridcolor\":\"white\",\"linecolor\":\"white\",\"ticks\":\"\"},\"caxis\":{\"gridcolor\":\"white\",\"linecolor\":\"white\",\"ticks\":\"\"}},\"coloraxis\":{\"colorbar\":{\"outlinewidth\":0,\"ticks\":\"\"}},\"colorscale\":{\"sequential\":[[0.0,\"#0d0887\"],[0.1111111111111111,\"#46039f\"],[0.2222222222222222,\"#7201a8\"],[0.3333333333333333,\"#9c179e\"],[0.4444444444444444,\"#bd3786\"],[0.5555555555555556,\"#d8576b\"],[0.6666666666666666,\"#ed7953\"],[0.7777777777777778,\"#fb9f3a\"],[0.8888888888888888,\"#fdca26\"],[1.0,\"#f0f921\"]],\"sequentialminus\":[[0.0,\"#0d0887\"],[0.1111111111111111,\"#46039f\"],[0.2222222222222222,\"#7201a8\"],[0.3333333333333333,\"#9c179e\"],[0.4444444444444444,\"#bd3786\"],[0.5555555555555556,\"#d8576b\"],[0.6666666666666666,\"#ed7953\"],[0.7777777777777778,\"#fb9f3a\"],[0.8888888888888888,\"#fdca26\"],[1.0,\"#f0f921\"]],\"diverging\":[[0,\"#8e0152\"],[0.1,\"#c51b7d\"],[0.2,\"#de77ae\"],[0.3,\"#f1b6da\"],[0.4,\"#fde0ef\"],[0.5,\"#f7f7f7\"],[0.6,\"#e6f5d0\"],[0.7,\"#b8e186\"],[0.8,\"#7fbc41\"],[0.9,\"#4d9221\"],[1,\"#276419\"]]},\"xaxis\":{\"gridcolor\":\"white\",\"linecolor\":\"white\",\"ticks\":\"\",\"title\":{\"standoff\":15},\"zerolinecolor\":\"white\",\"automargin\":true,\"zerolinewidth\":2},\"yaxis\":{\"gridcolor\":\"white\",\"linecolor\":\"white\",\"ticks\":\"\",\"title\":{\"standoff\":15},\"zerolinecolor\":\"white\",\"automargin\":true,\"zerolinewidth\":2},\"scene\":{\"xaxis\":{\"backgroundcolor\":\"#E5ECF6\",\"gridcolor\":\"white\",\"linecolor\":\"white\",\"showbackground\":true,\"ticks\":\"\",\"zerolinecolor\":\"white\",\"gridwidth\":2},\"yaxis\":{\"backgroundcolor\":\"#E5ECF6\",\"gridcolor\":\"white\",\"linecolor\":\"white\",\"showbackground\":true,\"ticks\":\"\",\"zerolinecolor\":\"white\",\"gridwidth\":2},\"zaxis\":{\"backgroundcolor\":\"#E5ECF6\",\"gridcolor\":\"white\",\"linecolor\":\"white\",\"showbackground\":true,\"ticks\":\"\",\"zerolinecolor\":\"white\",\"gridwidth\":2}},\"shapedefaults\":{\"line\":{\"color\":\"#2a3f5f\"}},\"annotationdefaults\":{\"arrowcolor\":\"#2a3f5f\",\"arrowhead\":0,\"arrowwidth\":1},\"geo\":{\"bgcolor\":\"white\",\"landcolor\":\"#E5ECF6\",\"subunitcolor\":\"white\",\"showland\":true,\"showlakes\":true,\"lakecolor\":\"white\"},\"title\":{\"x\":0.05},\"mapbox\":{\"style\":\"light\"}}},\"xaxis\":{\"anchor\":\"y\",\"domain\":[0.0,1.0],\"title\":{\"text\":\"layer\"}},\"yaxis\":{\"anchor\":\"x\",\"domain\":[0.0,1.0],\"title\":{\"text\":\"score\"}},\"legend\":{\"title\":{\"text\":\"K\"},\"tracegroupgap\":0},\"title\":{\"text\":\"Sparse probe scores for \\\"conv pixel contains cheese1\\\" over resadd layers and K values\"},\"shapes\":[{\"line\":{\"dash\":\"dot\"},\"type\":\"line\",\"x0\":0,\"x1\":1,\"xref\":\"x domain\",\"y0\":1.0,\"y1\":1.0,\"yref\":\"y\"},{\"line\":{\"dash\":\"dot\"},\"type\":\"line\",\"x0\":0,\"x1\":1,\"xref\":\"x domain\",\"y0\":0.5,\"y1\":0.5,\"yref\":\"y\"}],\"annotations\":[{\"showarrow\":false,\"text\":\"perfect\",\"x\":1,\"xanchor\":\"right\",\"xref\":\"x domain\",\"y\":1.0,\"yanchor\":\"top\",\"yref\":\"y\"},{\"showarrow\":false,\"text\":\"baseline\",\"x\":1,\"xanchor\":\"right\",\"xref\":\"x domain\",\"y\":0.5,\"yanchor\":\"top\",\"yref\":\"y\"}]},                        {\"responsive\": true}                    ).then(function(){\n",
       "                            \n",
       "var gd = document.getElementById('9cde2f83-f3a4-4489-b079-3e4ec8ad0ce2');\n",
       "var x = new MutationObserver(function (mutations, observer) {{\n",
       "        var display = window.getComputedStyle(gd).display;\n",
       "        if (!display || display === 'none') {{\n",
       "            console.log([gd, 'removed!']);\n",
       "            Plotly.purge(gd);\n",
       "            observer.disconnect();\n",
       "        }}\n",
       "}});\n",
       "\n",
       "// Listen for the removal of the full notebook cells\n",
       "var notebookContainer = gd.closest('#notebook-container');\n",
       "if (notebookContainer) {{\n",
       "    x.observe(notebookContainer, {childList: true});\n",
       "}}\n",
       "\n",
       "// Listen for the clearing of the current output cell\n",
       "var outputEl = gd.closest('.output');\n",
       "if (outputEl) {{\n",
       "    x.observe(outputEl, {childList: true});\n",
       "}}\n",
       "\n",
       "                        })                };                });            </script>        </div>"
      ]
     },
     "metadata": {},
     "output_type": "display_data"
    },
    {
     "name": "stderr",
     "output_type": "stream",
     "text": [
      "100%|██████████| 19/19 [00:02<00:00,  8.02it/s]\n"
     ]
    },
    {
     "data": {
      "application/vnd.plotly.v1+json": {
       "config": {
        "plotlyServerURL": "https://plot.ly"
       },
       "data": [
        {
         "hovertemplate": "K=1<br>layer=%{x}<br>score=%{y}<extra></extra>",
         "legendgroup": "1",
         "line": {
          "color": "#636efa",
          "dash": "solid"
         },
         "marker": {
          "symbol": "circle"
         },
         "mode": "lines",
         "name": "1",
         "orientation": "v",
         "showlegend": true,
         "type": "scatter",
         "x": [
          "embedder.block1.conv_in0",
          "embedder.block1.res1.relu1_out",
          "embedder.block1.res1.resadd_out",
          "embedder.block1.res1.relu2_out",
          "embedder.block1.res2.relu1_out",
          "embedder.block1.res2.resadd_out",
          "embedder.block1.res2.relu2_out",
          "embedder.block2.res1.relu1_out",
          "embedder.block2.res1.resadd_out",
          "embedder.block2.res1.relu2_out",
          "embedder.block2.res2.relu1_out",
          "embedder.block2.res2.resadd_out",
          "embedder.block2.res2.relu2_out",
          "embedder.block3.res1.relu1_out",
          "embedder.block3.res1.resadd_out",
          "embedder.block3.res1.relu2_out",
          "embedder.block3.res2.relu1_out",
          "embedder.block3.res2.resadd_out",
          "embedder.block3.res2.relu2_out"
         ],
         "xaxis": "x",
         "y": [
          0.7125,
          0.95,
          0.9875,
          0.8625,
          0.9875,
          1,
          0.85,
          1,
          1,
          0.9375,
          1,
          0.9875,
          0.9,
          0.925,
          0.9375,
          0.8875,
          0.9125,
          0.925,
          0.9
         ],
         "yaxis": "y"
        },
        {
         "hovertemplate": "K=2<br>layer=%{x}<br>score=%{y}<extra></extra>",
         "legendgroup": "2",
         "line": {
          "color": "#EF553B",
          "dash": "solid"
         },
         "marker": {
          "symbol": "circle"
         },
         "mode": "lines",
         "name": "2",
         "orientation": "v",
         "showlegend": true,
         "type": "scatter",
         "x": [
          "embedder.block1.conv_in0",
          "embedder.block1.res1.relu1_out",
          "embedder.block1.res1.resadd_out",
          "embedder.block1.res1.relu2_out",
          "embedder.block1.res2.relu1_out",
          "embedder.block1.res2.resadd_out",
          "embedder.block1.res2.relu2_out",
          "embedder.block2.res1.relu1_out",
          "embedder.block2.res1.resadd_out",
          "embedder.block2.res1.relu2_out",
          "embedder.block2.res2.relu1_out",
          "embedder.block2.res2.resadd_out",
          "embedder.block2.res2.relu2_out",
          "embedder.block3.res1.relu1_out",
          "embedder.block3.res1.resadd_out",
          "embedder.block3.res1.relu2_out",
          "embedder.block3.res2.relu1_out",
          "embedder.block3.res2.resadd_out",
          "embedder.block3.res2.relu2_out"
         ],
         "xaxis": "x",
         "y": [
          0.8375,
          0.95,
          0.9875,
          0.9,
          1,
          1,
          0.975,
          1,
          1,
          0.9375,
          1,
          1,
          0.925,
          0.9625,
          0.9625,
          0.925,
          0.8875,
          0.9125,
          0.9125
         ],
         "yaxis": "y"
        },
        {
         "hovertemplate": "K=3<br>layer=%{x}<br>score=%{y}<extra></extra>",
         "legendgroup": "3",
         "line": {
          "color": "#00cc96",
          "dash": "solid"
         },
         "marker": {
          "symbol": "circle"
         },
         "mode": "lines",
         "name": "3",
         "orientation": "v",
         "showlegend": true,
         "type": "scatter",
         "x": [
          "embedder.block1.conv_in0",
          "embedder.block1.res1.relu1_out",
          "embedder.block1.res1.resadd_out",
          "embedder.block1.res1.relu2_out",
          "embedder.block1.res2.relu1_out",
          "embedder.block1.res2.resadd_out",
          "embedder.block1.res2.relu2_out",
          "embedder.block2.res1.relu1_out",
          "embedder.block2.res1.resadd_out",
          "embedder.block2.res1.relu2_out",
          "embedder.block2.res2.relu1_out",
          "embedder.block2.res2.resadd_out",
          "embedder.block2.res2.relu2_out",
          "embedder.block3.res1.relu1_out",
          "embedder.block3.res1.resadd_out",
          "embedder.block3.res1.relu2_out",
          "embedder.block3.res2.relu1_out",
          "embedder.block3.res2.resadd_out",
          "embedder.block3.res2.relu2_out"
         ],
         "xaxis": "x",
         "y": [
          0.85,
          0.975,
          0.9875,
          0.9,
          1,
          1,
          1,
          1,
          1,
          0.9375,
          1,
          1,
          0.9625,
          0.9625,
          0.95,
          0.925,
          0.8875,
          0.925,
          0.9
         ],
         "yaxis": "y"
        },
        {
         "hovertemplate": "K=4<br>layer=%{x}<br>score=%{y}<extra></extra>",
         "legendgroup": "4",
         "line": {
          "color": "#ab63fa",
          "dash": "solid"
         },
         "marker": {
          "symbol": "circle"
         },
         "mode": "lines",
         "name": "4",
         "orientation": "v",
         "showlegend": true,
         "type": "scatter",
         "x": [
          "embedder.block1.conv_in0",
          "embedder.block1.res1.relu1_out",
          "embedder.block1.res1.resadd_out",
          "embedder.block1.res1.relu2_out",
          "embedder.block1.res2.relu1_out",
          "embedder.block1.res2.resadd_out",
          "embedder.block1.res2.relu2_out",
          "embedder.block2.res1.relu1_out",
          "embedder.block2.res1.resadd_out",
          "embedder.block2.res1.relu2_out",
          "embedder.block2.res2.relu1_out",
          "embedder.block2.res2.resadd_out",
          "embedder.block2.res2.relu2_out",
          "embedder.block3.res1.relu1_out",
          "embedder.block3.res1.resadd_out",
          "embedder.block3.res1.relu2_out",
          "embedder.block3.res2.relu1_out",
          "embedder.block3.res2.resadd_out",
          "embedder.block3.res2.relu2_out"
         ],
         "xaxis": "x",
         "y": [
          0.85,
          0.9875,
          0.9875,
          0.875,
          0.9875,
          1,
          1,
          1,
          1,
          0.95,
          1,
          1,
          0.9875,
          0.9625,
          0.975,
          0.9125,
          0.9125,
          0.9375,
          0.9125
         ],
         "yaxis": "y"
        },
        {
         "hovertemplate": "K=5<br>layer=%{x}<br>score=%{y}<extra></extra>",
         "legendgroup": "5",
         "line": {
          "color": "#FFA15A",
          "dash": "solid"
         },
         "marker": {
          "symbol": "circle"
         },
         "mode": "lines",
         "name": "5",
         "orientation": "v",
         "showlegend": true,
         "type": "scatter",
         "x": [
          "embedder.block1.conv_in0",
          "embedder.block1.res1.relu1_out",
          "embedder.block1.res1.resadd_out",
          "embedder.block1.res1.relu2_out",
          "embedder.block1.res2.relu1_out",
          "embedder.block1.res2.resadd_out",
          "embedder.block1.res2.relu2_out",
          "embedder.block2.res1.relu1_out",
          "embedder.block2.res1.resadd_out",
          "embedder.block2.res1.relu2_out",
          "embedder.block2.res2.relu1_out",
          "embedder.block2.res2.resadd_out",
          "embedder.block2.res2.relu2_out",
          "embedder.block3.res1.relu1_out",
          "embedder.block3.res1.resadd_out",
          "embedder.block3.res1.relu2_out",
          "embedder.block3.res2.relu1_out",
          "embedder.block3.res2.resadd_out",
          "embedder.block3.res2.relu2_out"
         ],
         "xaxis": "x",
         "y": [
          0.85,
          0.9875,
          0.9875,
          0.9,
          1,
          1,
          1,
          1,
          1,
          0.95,
          1,
          1,
          0.9875,
          0.9625,
          0.9875,
          0.9375,
          0.9,
          0.925,
          0.9125
         ],
         "yaxis": "y"
        },
        {
         "hovertemplate": "K=6<br>layer=%{x}<br>score=%{y}<extra></extra>",
         "legendgroup": "6",
         "line": {
          "color": "#19d3f3",
          "dash": "solid"
         },
         "marker": {
          "symbol": "circle"
         },
         "mode": "lines",
         "name": "6",
         "orientation": "v",
         "showlegend": true,
         "type": "scatter",
         "x": [
          "embedder.block1.conv_in0",
          "embedder.block1.res1.relu1_out",
          "embedder.block1.res1.resadd_out",
          "embedder.block1.res1.relu2_out",
          "embedder.block1.res2.relu1_out",
          "embedder.block1.res2.resadd_out",
          "embedder.block1.res2.relu2_out",
          "embedder.block2.res1.relu1_out",
          "embedder.block2.res1.resadd_out",
          "embedder.block2.res1.relu2_out",
          "embedder.block2.res2.relu1_out",
          "embedder.block2.res2.resadd_out",
          "embedder.block2.res2.relu2_out",
          "embedder.block3.res1.relu1_out",
          "embedder.block3.res1.resadd_out",
          "embedder.block3.res1.relu2_out",
          "embedder.block3.res2.relu1_out",
          "embedder.block3.res2.resadd_out",
          "embedder.block3.res2.relu2_out"
         ],
         "xaxis": "x",
         "y": [
          0.85,
          0.9875,
          0.9875,
          0.8875,
          1,
          1,
          1,
          1,
          1,
          0.95,
          1,
          1,
          0.975,
          0.95,
          0.9875,
          0.925,
          0.9125,
          0.9375,
          0.9125
         ],
         "yaxis": "y"
        },
        {
         "hovertemplate": "K=7<br>layer=%{x}<br>score=%{y}<extra></extra>",
         "legendgroup": "7",
         "line": {
          "color": "#FF6692",
          "dash": "solid"
         },
         "marker": {
          "symbol": "circle"
         },
         "mode": "lines",
         "name": "7",
         "orientation": "v",
         "showlegend": true,
         "type": "scatter",
         "x": [
          "embedder.block1.conv_in0",
          "embedder.block1.res1.relu1_out",
          "embedder.block1.res1.resadd_out",
          "embedder.block1.res1.relu2_out",
          "embedder.block1.res2.relu1_out",
          "embedder.block1.res2.resadd_out",
          "embedder.block1.res2.relu2_out",
          "embedder.block2.res1.relu1_out",
          "embedder.block2.res1.resadd_out",
          "embedder.block2.res1.relu2_out",
          "embedder.block2.res2.relu1_out",
          "embedder.block2.res2.resadd_out",
          "embedder.block2.res2.relu2_out",
          "embedder.block3.res1.relu1_out",
          "embedder.block3.res1.resadd_out",
          "embedder.block3.res1.relu2_out",
          "embedder.block3.res2.relu1_out",
          "embedder.block3.res2.resadd_out",
          "embedder.block3.res2.relu2_out"
         ],
         "xaxis": "x",
         "y": [
          0.85,
          0.9875,
          0.9875,
          0.9,
          0.9875,
          1,
          1,
          1,
          1,
          0.95,
          1,
          1,
          0.975,
          0.95,
          0.9875,
          0.925,
          0.95,
          0.9375,
          0.9125
         ],
         "yaxis": "y"
        },
        {
         "hovertemplate": "K=8<br>layer=%{x}<br>score=%{y}<extra></extra>",
         "legendgroup": "8",
         "line": {
          "color": "#B6E880",
          "dash": "solid"
         },
         "marker": {
          "symbol": "circle"
         },
         "mode": "lines",
         "name": "8",
         "orientation": "v",
         "showlegend": true,
         "type": "scatter",
         "x": [
          "embedder.block1.conv_in0",
          "embedder.block1.res1.relu1_out",
          "embedder.block1.res1.resadd_out",
          "embedder.block1.res1.relu2_out",
          "embedder.block1.res2.relu1_out",
          "embedder.block1.res2.resadd_out",
          "embedder.block1.res2.relu2_out",
          "embedder.block2.res1.relu1_out",
          "embedder.block2.res1.resadd_out",
          "embedder.block2.res1.relu2_out",
          "embedder.block2.res2.relu1_out",
          "embedder.block2.res2.resadd_out",
          "embedder.block2.res2.relu2_out",
          "embedder.block3.res1.relu1_out",
          "embedder.block3.res1.resadd_out",
          "embedder.block3.res1.relu2_out",
          "embedder.block3.res2.relu1_out",
          "embedder.block3.res2.resadd_out",
          "embedder.block3.res2.relu2_out"
         ],
         "xaxis": "x",
         "y": [
          0.85,
          0.9875,
          0.9875,
          0.9,
          0.9875,
          1,
          1,
          1,
          1,
          0.95,
          1,
          1,
          0.975,
          0.95,
          0.9875,
          0.9375,
          0.95,
          0.9,
          0.9125
         ],
         "yaxis": "y"
        },
        {
         "hovertemplate": "K=9<br>layer=%{x}<br>score=%{y}<extra></extra>",
         "legendgroup": "9",
         "line": {
          "color": "#FF97FF",
          "dash": "solid"
         },
         "marker": {
          "symbol": "circle"
         },
         "mode": "lines",
         "name": "9",
         "orientation": "v",
         "showlegend": true,
         "type": "scatter",
         "x": [
          "embedder.block1.conv_in0",
          "embedder.block1.res1.relu1_out",
          "embedder.block1.res1.resadd_out",
          "embedder.block1.res1.relu2_out",
          "embedder.block1.res2.relu1_out",
          "embedder.block1.res2.resadd_out",
          "embedder.block1.res2.relu2_out",
          "embedder.block2.res1.relu1_out",
          "embedder.block2.res1.resadd_out",
          "embedder.block2.res1.relu2_out",
          "embedder.block2.res2.relu1_out",
          "embedder.block2.res2.resadd_out",
          "embedder.block2.res2.relu2_out",
          "embedder.block3.res1.relu1_out",
          "embedder.block3.res1.resadd_out",
          "embedder.block3.res1.relu2_out",
          "embedder.block3.res2.relu1_out",
          "embedder.block3.res2.resadd_out",
          "embedder.block3.res2.relu2_out"
         ],
         "xaxis": "x",
         "y": [
          0.85,
          0.9875,
          0.9875,
          0.9,
          0.9875,
          1,
          1,
          1,
          1,
          0.95,
          1,
          1,
          0.9875,
          0.9625,
          0.9875,
          0.95,
          0.925,
          0.9,
          0.9
         ],
         "yaxis": "y"
        },
        {
         "hovertemplate": "K=10<br>layer=%{x}<br>score=%{y}<extra></extra>",
         "legendgroup": "10",
         "line": {
          "color": "#FECB52",
          "dash": "solid"
         },
         "marker": {
          "symbol": "circle"
         },
         "mode": "lines",
         "name": "10",
         "orientation": "v",
         "showlegend": true,
         "type": "scatter",
         "x": [
          "embedder.block1.conv_in0",
          "embedder.block1.res1.relu1_out",
          "embedder.block1.res1.resadd_out",
          "embedder.block1.res1.relu2_out",
          "embedder.block1.res2.relu1_out",
          "embedder.block1.res2.resadd_out",
          "embedder.block1.res2.relu2_out",
          "embedder.block2.res1.relu1_out",
          "embedder.block2.res1.resadd_out",
          "embedder.block2.res1.relu2_out",
          "embedder.block2.res2.relu1_out",
          "embedder.block2.res2.resadd_out",
          "embedder.block2.res2.relu2_out",
          "embedder.block3.res1.relu1_out",
          "embedder.block3.res1.resadd_out",
          "embedder.block3.res1.relu2_out",
          "embedder.block3.res2.relu1_out",
          "embedder.block3.res2.resadd_out",
          "embedder.block3.res2.relu2_out"
         ],
         "xaxis": "x",
         "y": [
          0.85,
          0.9875,
          0.9875,
          0.9,
          0.9875,
          1,
          1,
          1,
          1,
          0.95,
          1,
          1,
          0.9875,
          0.95,
          0.9625,
          0.95,
          0.9375,
          0.9125,
          0.9
         ],
         "yaxis": "y"
        }
       ],
       "layout": {
        "annotations": [
         {
          "showarrow": false,
          "text": "perfect",
          "x": 1,
          "xanchor": "right",
          "xref": "x domain",
          "y": 1,
          "yanchor": "top",
          "yref": "y"
         },
         {
          "showarrow": false,
          "text": "baseline",
          "x": 1,
          "xanchor": "right",
          "xref": "x domain",
          "y": 0.5,
          "yanchor": "top",
          "yref": "y"
         }
        ],
        "legend": {
         "title": {
          "text": "K"
         },
         "tracegroupgap": 0
        },
        "shapes": [
         {
          "line": {
           "dash": "dot"
          },
          "type": "line",
          "x0": 0,
          "x1": 1,
          "xref": "x domain",
          "y0": 1,
          "y1": 1,
          "yref": "y"
         },
         {
          "line": {
           "dash": "dot"
          },
          "type": "line",
          "x0": 0,
          "x1": 1,
          "xref": "x domain",
          "y0": 0.5,
          "y1": 0.5,
          "yref": "y"
         }
        ],
        "template": {
         "data": {
          "bar": [
           {
            "error_x": {
             "color": "#2a3f5f"
            },
            "error_y": {
             "color": "#2a3f5f"
            },
            "marker": {
             "line": {
              "color": "#E5ECF6",
              "width": 0.5
             },
             "pattern": {
              "fillmode": "overlay",
              "size": 10,
              "solidity": 0.2
             }
            },
            "type": "bar"
           }
          ],
          "barpolar": [
           {
            "marker": {
             "line": {
              "color": "#E5ECF6",
              "width": 0.5
             },
             "pattern": {
              "fillmode": "overlay",
              "size": 10,
              "solidity": 0.2
             }
            },
            "type": "barpolar"
           }
          ],
          "carpet": [
           {
            "aaxis": {
             "endlinecolor": "#2a3f5f",
             "gridcolor": "white",
             "linecolor": "white",
             "minorgridcolor": "white",
             "startlinecolor": "#2a3f5f"
            },
            "baxis": {
             "endlinecolor": "#2a3f5f",
             "gridcolor": "white",
             "linecolor": "white",
             "minorgridcolor": "white",
             "startlinecolor": "#2a3f5f"
            },
            "type": "carpet"
           }
          ],
          "choropleth": [
           {
            "colorbar": {
             "outlinewidth": 0,
             "ticks": ""
            },
            "type": "choropleth"
           }
          ],
          "contour": [
           {
            "colorbar": {
             "outlinewidth": 0,
             "ticks": ""
            },
            "colorscale": [
             [
              0,
              "#0d0887"
             ],
             [
              0.1111111111111111,
              "#46039f"
             ],
             [
              0.2222222222222222,
              "#7201a8"
             ],
             [
              0.3333333333333333,
              "#9c179e"
             ],
             [
              0.4444444444444444,
              "#bd3786"
             ],
             [
              0.5555555555555556,
              "#d8576b"
             ],
             [
              0.6666666666666666,
              "#ed7953"
             ],
             [
              0.7777777777777778,
              "#fb9f3a"
             ],
             [
              0.8888888888888888,
              "#fdca26"
             ],
             [
              1,
              "#f0f921"
             ]
            ],
            "type": "contour"
           }
          ],
          "contourcarpet": [
           {
            "colorbar": {
             "outlinewidth": 0,
             "ticks": ""
            },
            "type": "contourcarpet"
           }
          ],
          "heatmap": [
           {
            "colorbar": {
             "outlinewidth": 0,
             "ticks": ""
            },
            "colorscale": [
             [
              0,
              "#0d0887"
             ],
             [
              0.1111111111111111,
              "#46039f"
             ],
             [
              0.2222222222222222,
              "#7201a8"
             ],
             [
              0.3333333333333333,
              "#9c179e"
             ],
             [
              0.4444444444444444,
              "#bd3786"
             ],
             [
              0.5555555555555556,
              "#d8576b"
             ],
             [
              0.6666666666666666,
              "#ed7953"
             ],
             [
              0.7777777777777778,
              "#fb9f3a"
             ],
             [
              0.8888888888888888,
              "#fdca26"
             ],
             [
              1,
              "#f0f921"
             ]
            ],
            "type": "heatmap"
           }
          ],
          "heatmapgl": [
           {
            "colorbar": {
             "outlinewidth": 0,
             "ticks": ""
            },
            "colorscale": [
             [
              0,
              "#0d0887"
             ],
             [
              0.1111111111111111,
              "#46039f"
             ],
             [
              0.2222222222222222,
              "#7201a8"
             ],
             [
              0.3333333333333333,
              "#9c179e"
             ],
             [
              0.4444444444444444,
              "#bd3786"
             ],
             [
              0.5555555555555556,
              "#d8576b"
             ],
             [
              0.6666666666666666,
              "#ed7953"
             ],
             [
              0.7777777777777778,
              "#fb9f3a"
             ],
             [
              0.8888888888888888,
              "#fdca26"
             ],
             [
              1,
              "#f0f921"
             ]
            ],
            "type": "heatmapgl"
           }
          ],
          "histogram": [
           {
            "marker": {
             "pattern": {
              "fillmode": "overlay",
              "size": 10,
              "solidity": 0.2
             }
            },
            "type": "histogram"
           }
          ],
          "histogram2d": [
           {
            "colorbar": {
             "outlinewidth": 0,
             "ticks": ""
            },
            "colorscale": [
             [
              0,
              "#0d0887"
             ],
             [
              0.1111111111111111,
              "#46039f"
             ],
             [
              0.2222222222222222,
              "#7201a8"
             ],
             [
              0.3333333333333333,
              "#9c179e"
             ],
             [
              0.4444444444444444,
              "#bd3786"
             ],
             [
              0.5555555555555556,
              "#d8576b"
             ],
             [
              0.6666666666666666,
              "#ed7953"
             ],
             [
              0.7777777777777778,
              "#fb9f3a"
             ],
             [
              0.8888888888888888,
              "#fdca26"
             ],
             [
              1,
              "#f0f921"
             ]
            ],
            "type": "histogram2d"
           }
          ],
          "histogram2dcontour": [
           {
            "colorbar": {
             "outlinewidth": 0,
             "ticks": ""
            },
            "colorscale": [
             [
              0,
              "#0d0887"
             ],
             [
              0.1111111111111111,
              "#46039f"
             ],
             [
              0.2222222222222222,
              "#7201a8"
             ],
             [
              0.3333333333333333,
              "#9c179e"
             ],
             [
              0.4444444444444444,
              "#bd3786"
             ],
             [
              0.5555555555555556,
              "#d8576b"
             ],
             [
              0.6666666666666666,
              "#ed7953"
             ],
             [
              0.7777777777777778,
              "#fb9f3a"
             ],
             [
              0.8888888888888888,
              "#fdca26"
             ],
             [
              1,
              "#f0f921"
             ]
            ],
            "type": "histogram2dcontour"
           }
          ],
          "mesh3d": [
           {
            "colorbar": {
             "outlinewidth": 0,
             "ticks": ""
            },
            "type": "mesh3d"
           }
          ],
          "parcoords": [
           {
            "line": {
             "colorbar": {
              "outlinewidth": 0,
              "ticks": ""
             }
            },
            "type": "parcoords"
           }
          ],
          "pie": [
           {
            "automargin": true,
            "type": "pie"
           }
          ],
          "scatter": [
           {
            "fillpattern": {
             "fillmode": "overlay",
             "size": 10,
             "solidity": 0.2
            },
            "type": "scatter"
           }
          ],
          "scatter3d": [
           {
            "line": {
             "colorbar": {
              "outlinewidth": 0,
              "ticks": ""
             }
            },
            "marker": {
             "colorbar": {
              "outlinewidth": 0,
              "ticks": ""
             }
            },
            "type": "scatter3d"
           }
          ],
          "scattercarpet": [
           {
            "marker": {
             "colorbar": {
              "outlinewidth": 0,
              "ticks": ""
             }
            },
            "type": "scattercarpet"
           }
          ],
          "scattergeo": [
           {
            "marker": {
             "colorbar": {
              "outlinewidth": 0,
              "ticks": ""
             }
            },
            "type": "scattergeo"
           }
          ],
          "scattergl": [
           {
            "marker": {
             "colorbar": {
              "outlinewidth": 0,
              "ticks": ""
             }
            },
            "type": "scattergl"
           }
          ],
          "scattermapbox": [
           {
            "marker": {
             "colorbar": {
              "outlinewidth": 0,
              "ticks": ""
             }
            },
            "type": "scattermapbox"
           }
          ],
          "scatterpolar": [
           {
            "marker": {
             "colorbar": {
              "outlinewidth": 0,
              "ticks": ""
             }
            },
            "type": "scatterpolar"
           }
          ],
          "scatterpolargl": [
           {
            "marker": {
             "colorbar": {
              "outlinewidth": 0,
              "ticks": ""
             }
            },
            "type": "scatterpolargl"
           }
          ],
          "scatterternary": [
           {
            "marker": {
             "colorbar": {
              "outlinewidth": 0,
              "ticks": ""
             }
            },
            "type": "scatterternary"
           }
          ],
          "surface": [
           {
            "colorbar": {
             "outlinewidth": 0,
             "ticks": ""
            },
            "colorscale": [
             [
              0,
              "#0d0887"
             ],
             [
              0.1111111111111111,
              "#46039f"
             ],
             [
              0.2222222222222222,
              "#7201a8"
             ],
             [
              0.3333333333333333,
              "#9c179e"
             ],
             [
              0.4444444444444444,
              "#bd3786"
             ],
             [
              0.5555555555555556,
              "#d8576b"
             ],
             [
              0.6666666666666666,
              "#ed7953"
             ],
             [
              0.7777777777777778,
              "#fb9f3a"
             ],
             [
              0.8888888888888888,
              "#fdca26"
             ],
             [
              1,
              "#f0f921"
             ]
            ],
            "type": "surface"
           }
          ],
          "table": [
           {
            "cells": {
             "fill": {
              "color": "#EBF0F8"
             },
             "line": {
              "color": "white"
             }
            },
            "header": {
             "fill": {
              "color": "#C8D4E3"
             },
             "line": {
              "color": "white"
             }
            },
            "type": "table"
           }
          ]
         },
         "layout": {
          "annotationdefaults": {
           "arrowcolor": "#2a3f5f",
           "arrowhead": 0,
           "arrowwidth": 1
          },
          "autotypenumbers": "strict",
          "coloraxis": {
           "colorbar": {
            "outlinewidth": 0,
            "ticks": ""
           }
          },
          "colorscale": {
           "diverging": [
            [
             0,
             "#8e0152"
            ],
            [
             0.1,
             "#c51b7d"
            ],
            [
             0.2,
             "#de77ae"
            ],
            [
             0.3,
             "#f1b6da"
            ],
            [
             0.4,
             "#fde0ef"
            ],
            [
             0.5,
             "#f7f7f7"
            ],
            [
             0.6,
             "#e6f5d0"
            ],
            [
             0.7,
             "#b8e186"
            ],
            [
             0.8,
             "#7fbc41"
            ],
            [
             0.9,
             "#4d9221"
            ],
            [
             1,
             "#276419"
            ]
           ],
           "sequential": [
            [
             0,
             "#0d0887"
            ],
            [
             0.1111111111111111,
             "#46039f"
            ],
            [
             0.2222222222222222,
             "#7201a8"
            ],
            [
             0.3333333333333333,
             "#9c179e"
            ],
            [
             0.4444444444444444,
             "#bd3786"
            ],
            [
             0.5555555555555556,
             "#d8576b"
            ],
            [
             0.6666666666666666,
             "#ed7953"
            ],
            [
             0.7777777777777778,
             "#fb9f3a"
            ],
            [
             0.8888888888888888,
             "#fdca26"
            ],
            [
             1,
             "#f0f921"
            ]
           ],
           "sequentialminus": [
            [
             0,
             "#0d0887"
            ],
            [
             0.1111111111111111,
             "#46039f"
            ],
            [
             0.2222222222222222,
             "#7201a8"
            ],
            [
             0.3333333333333333,
             "#9c179e"
            ],
            [
             0.4444444444444444,
             "#bd3786"
            ],
            [
             0.5555555555555556,
             "#d8576b"
            ],
            [
             0.6666666666666666,
             "#ed7953"
            ],
            [
             0.7777777777777778,
             "#fb9f3a"
            ],
            [
             0.8888888888888888,
             "#fdca26"
            ],
            [
             1,
             "#f0f921"
            ]
           ]
          },
          "colorway": [
           "#636efa",
           "#EF553B",
           "#00cc96",
           "#ab63fa",
           "#FFA15A",
           "#19d3f3",
           "#FF6692",
           "#B6E880",
           "#FF97FF",
           "#FECB52"
          ],
          "font": {
           "color": "#2a3f5f"
          },
          "geo": {
           "bgcolor": "white",
           "lakecolor": "white",
           "landcolor": "#E5ECF6",
           "showlakes": true,
           "showland": true,
           "subunitcolor": "white"
          },
          "hoverlabel": {
           "align": "left"
          },
          "hovermode": "closest",
          "mapbox": {
           "style": "light"
          },
          "paper_bgcolor": "white",
          "plot_bgcolor": "#E5ECF6",
          "polar": {
           "angularaxis": {
            "gridcolor": "white",
            "linecolor": "white",
            "ticks": ""
           },
           "bgcolor": "#E5ECF6",
           "radialaxis": {
            "gridcolor": "white",
            "linecolor": "white",
            "ticks": ""
           }
          },
          "scene": {
           "xaxis": {
            "backgroundcolor": "#E5ECF6",
            "gridcolor": "white",
            "gridwidth": 2,
            "linecolor": "white",
            "showbackground": true,
            "ticks": "",
            "zerolinecolor": "white"
           },
           "yaxis": {
            "backgroundcolor": "#E5ECF6",
            "gridcolor": "white",
            "gridwidth": 2,
            "linecolor": "white",
            "showbackground": true,
            "ticks": "",
            "zerolinecolor": "white"
           },
           "zaxis": {
            "backgroundcolor": "#E5ECF6",
            "gridcolor": "white",
            "gridwidth": 2,
            "linecolor": "white",
            "showbackground": true,
            "ticks": "",
            "zerolinecolor": "white"
           }
          },
          "shapedefaults": {
           "line": {
            "color": "#2a3f5f"
           }
          },
          "ternary": {
           "aaxis": {
            "gridcolor": "white",
            "linecolor": "white",
            "ticks": ""
           },
           "baxis": {
            "gridcolor": "white",
            "linecolor": "white",
            "ticks": ""
           },
           "bgcolor": "#E5ECF6",
           "caxis": {
            "gridcolor": "white",
            "linecolor": "white",
            "ticks": ""
           }
          },
          "title": {
           "x": 0.05
          },
          "xaxis": {
           "automargin": true,
           "gridcolor": "white",
           "linecolor": "white",
           "ticks": "",
           "title": {
            "standoff": 15
           },
           "zerolinecolor": "white",
           "zerolinewidth": 2
          },
          "yaxis": {
           "automargin": true,
           "gridcolor": "white",
           "linecolor": "white",
           "ticks": "",
           "title": {
            "standoff": 15
           },
           "zerolinecolor": "white",
           "zerolinewidth": 2
          }
         }
        },
        "title": {
         "text": "Sparse probe scores for \"conv pixel contains mouse1\" over resadd layers and K values"
        },
        "xaxis": {
         "anchor": "y",
         "domain": [
          0,
          1
         ],
         "title": {
          "text": "layer"
         }
        },
        "yaxis": {
         "anchor": "x",
         "domain": [
          0,
          1
         ],
         "title": {
          "text": "score"
         }
        }
       }
      },
      "text/html": [
       "<div>                            <div id=\"f02fa4bb-1df2-4cae-affc-fc6756ff2d44\" class=\"plotly-graph-div\" style=\"height:525px; width:100%;\"></div>            <script type=\"text/javascript\">                require([\"plotly\"], function(Plotly) {                    window.PLOTLYENV=window.PLOTLYENV || {};                                    if (document.getElementById(\"f02fa4bb-1df2-4cae-affc-fc6756ff2d44\")) {                    Plotly.newPlot(                        \"f02fa4bb-1df2-4cae-affc-fc6756ff2d44\",                        [{\"hovertemplate\":\"K=1\\u003cbr\\u003elayer=%{x}\\u003cbr\\u003escore=%{y}\\u003cextra\\u003e\\u003c\\u002fextra\\u003e\",\"legendgroup\":\"1\",\"line\":{\"color\":\"#636efa\",\"dash\":\"solid\"},\"marker\":{\"symbol\":\"circle\"},\"mode\":\"lines\",\"name\":\"1\",\"orientation\":\"v\",\"showlegend\":true,\"x\":[\"embedder.block1.conv_in0\",\"embedder.block1.res1.relu1_out\",\"embedder.block1.res1.resadd_out\",\"embedder.block1.res1.relu2_out\",\"embedder.block1.res2.relu1_out\",\"embedder.block1.res2.resadd_out\",\"embedder.block1.res2.relu2_out\",\"embedder.block2.res1.relu1_out\",\"embedder.block2.res1.resadd_out\",\"embedder.block2.res1.relu2_out\",\"embedder.block2.res2.relu1_out\",\"embedder.block2.res2.resadd_out\",\"embedder.block2.res2.relu2_out\",\"embedder.block3.res1.relu1_out\",\"embedder.block3.res1.resadd_out\",\"embedder.block3.res1.relu2_out\",\"embedder.block3.res2.relu1_out\",\"embedder.block3.res2.resadd_out\",\"embedder.block3.res2.relu2_out\"],\"xaxis\":\"x\",\"y\":[0.7125,0.95,0.9875,0.8625,0.9875,1.0,0.85,1.0,1.0,0.9375,1.0,0.9875,0.9,0.925,0.9375,0.8875,0.9125,0.925,0.9],\"yaxis\":\"y\",\"type\":\"scatter\"},{\"hovertemplate\":\"K=2\\u003cbr\\u003elayer=%{x}\\u003cbr\\u003escore=%{y}\\u003cextra\\u003e\\u003c\\u002fextra\\u003e\",\"legendgroup\":\"2\",\"line\":{\"color\":\"#EF553B\",\"dash\":\"solid\"},\"marker\":{\"symbol\":\"circle\"},\"mode\":\"lines\",\"name\":\"2\",\"orientation\":\"v\",\"showlegend\":true,\"x\":[\"embedder.block1.conv_in0\",\"embedder.block1.res1.relu1_out\",\"embedder.block1.res1.resadd_out\",\"embedder.block1.res1.relu2_out\",\"embedder.block1.res2.relu1_out\",\"embedder.block1.res2.resadd_out\",\"embedder.block1.res2.relu2_out\",\"embedder.block2.res1.relu1_out\",\"embedder.block2.res1.resadd_out\",\"embedder.block2.res1.relu2_out\",\"embedder.block2.res2.relu1_out\",\"embedder.block2.res2.resadd_out\",\"embedder.block2.res2.relu2_out\",\"embedder.block3.res1.relu1_out\",\"embedder.block3.res1.resadd_out\",\"embedder.block3.res1.relu2_out\",\"embedder.block3.res2.relu1_out\",\"embedder.block3.res2.resadd_out\",\"embedder.block3.res2.relu2_out\"],\"xaxis\":\"x\",\"y\":[0.8375,0.95,0.9875,0.9,1.0,1.0,0.975,1.0,1.0,0.9375,1.0,1.0,0.925,0.9625,0.9625,0.925,0.8875,0.9125,0.9125],\"yaxis\":\"y\",\"type\":\"scatter\"},{\"hovertemplate\":\"K=3\\u003cbr\\u003elayer=%{x}\\u003cbr\\u003escore=%{y}\\u003cextra\\u003e\\u003c\\u002fextra\\u003e\",\"legendgroup\":\"3\",\"line\":{\"color\":\"#00cc96\",\"dash\":\"solid\"},\"marker\":{\"symbol\":\"circle\"},\"mode\":\"lines\",\"name\":\"3\",\"orientation\":\"v\",\"showlegend\":true,\"x\":[\"embedder.block1.conv_in0\",\"embedder.block1.res1.relu1_out\",\"embedder.block1.res1.resadd_out\",\"embedder.block1.res1.relu2_out\",\"embedder.block1.res2.relu1_out\",\"embedder.block1.res2.resadd_out\",\"embedder.block1.res2.relu2_out\",\"embedder.block2.res1.relu1_out\",\"embedder.block2.res1.resadd_out\",\"embedder.block2.res1.relu2_out\",\"embedder.block2.res2.relu1_out\",\"embedder.block2.res2.resadd_out\",\"embedder.block2.res2.relu2_out\",\"embedder.block3.res1.relu1_out\",\"embedder.block3.res1.resadd_out\",\"embedder.block3.res1.relu2_out\",\"embedder.block3.res2.relu1_out\",\"embedder.block3.res2.resadd_out\",\"embedder.block3.res2.relu2_out\"],\"xaxis\":\"x\",\"y\":[0.85,0.975,0.9875,0.9,1.0,1.0,1.0,1.0,1.0,0.9375,1.0,1.0,0.9625,0.9625,0.95,0.925,0.8875,0.925,0.9],\"yaxis\":\"y\",\"type\":\"scatter\"},{\"hovertemplate\":\"K=4\\u003cbr\\u003elayer=%{x}\\u003cbr\\u003escore=%{y}\\u003cextra\\u003e\\u003c\\u002fextra\\u003e\",\"legendgroup\":\"4\",\"line\":{\"color\":\"#ab63fa\",\"dash\":\"solid\"},\"marker\":{\"symbol\":\"circle\"},\"mode\":\"lines\",\"name\":\"4\",\"orientation\":\"v\",\"showlegend\":true,\"x\":[\"embedder.block1.conv_in0\",\"embedder.block1.res1.relu1_out\",\"embedder.block1.res1.resadd_out\",\"embedder.block1.res1.relu2_out\",\"embedder.block1.res2.relu1_out\",\"embedder.block1.res2.resadd_out\",\"embedder.block1.res2.relu2_out\",\"embedder.block2.res1.relu1_out\",\"embedder.block2.res1.resadd_out\",\"embedder.block2.res1.relu2_out\",\"embedder.block2.res2.relu1_out\",\"embedder.block2.res2.resadd_out\",\"embedder.block2.res2.relu2_out\",\"embedder.block3.res1.relu1_out\",\"embedder.block3.res1.resadd_out\",\"embedder.block3.res1.relu2_out\",\"embedder.block3.res2.relu1_out\",\"embedder.block3.res2.resadd_out\",\"embedder.block3.res2.relu2_out\"],\"xaxis\":\"x\",\"y\":[0.85,0.9875,0.9875,0.875,0.9875,1.0,1.0,1.0,1.0,0.95,1.0,1.0,0.9875,0.9625,0.975,0.9125,0.9125,0.9375,0.9125],\"yaxis\":\"y\",\"type\":\"scatter\"},{\"hovertemplate\":\"K=5\\u003cbr\\u003elayer=%{x}\\u003cbr\\u003escore=%{y}\\u003cextra\\u003e\\u003c\\u002fextra\\u003e\",\"legendgroup\":\"5\",\"line\":{\"color\":\"#FFA15A\",\"dash\":\"solid\"},\"marker\":{\"symbol\":\"circle\"},\"mode\":\"lines\",\"name\":\"5\",\"orientation\":\"v\",\"showlegend\":true,\"x\":[\"embedder.block1.conv_in0\",\"embedder.block1.res1.relu1_out\",\"embedder.block1.res1.resadd_out\",\"embedder.block1.res1.relu2_out\",\"embedder.block1.res2.relu1_out\",\"embedder.block1.res2.resadd_out\",\"embedder.block1.res2.relu2_out\",\"embedder.block2.res1.relu1_out\",\"embedder.block2.res1.resadd_out\",\"embedder.block2.res1.relu2_out\",\"embedder.block2.res2.relu1_out\",\"embedder.block2.res2.resadd_out\",\"embedder.block2.res2.relu2_out\",\"embedder.block3.res1.relu1_out\",\"embedder.block3.res1.resadd_out\",\"embedder.block3.res1.relu2_out\",\"embedder.block3.res2.relu1_out\",\"embedder.block3.res2.resadd_out\",\"embedder.block3.res2.relu2_out\"],\"xaxis\":\"x\",\"y\":[0.85,0.9875,0.9875,0.9,1.0,1.0,1.0,1.0,1.0,0.95,1.0,1.0,0.9875,0.9625,0.9875,0.9375,0.9,0.925,0.9125],\"yaxis\":\"y\",\"type\":\"scatter\"},{\"hovertemplate\":\"K=6\\u003cbr\\u003elayer=%{x}\\u003cbr\\u003escore=%{y}\\u003cextra\\u003e\\u003c\\u002fextra\\u003e\",\"legendgroup\":\"6\",\"line\":{\"color\":\"#19d3f3\",\"dash\":\"solid\"},\"marker\":{\"symbol\":\"circle\"},\"mode\":\"lines\",\"name\":\"6\",\"orientation\":\"v\",\"showlegend\":true,\"x\":[\"embedder.block1.conv_in0\",\"embedder.block1.res1.relu1_out\",\"embedder.block1.res1.resadd_out\",\"embedder.block1.res1.relu2_out\",\"embedder.block1.res2.relu1_out\",\"embedder.block1.res2.resadd_out\",\"embedder.block1.res2.relu2_out\",\"embedder.block2.res1.relu1_out\",\"embedder.block2.res1.resadd_out\",\"embedder.block2.res1.relu2_out\",\"embedder.block2.res2.relu1_out\",\"embedder.block2.res2.resadd_out\",\"embedder.block2.res2.relu2_out\",\"embedder.block3.res1.relu1_out\",\"embedder.block3.res1.resadd_out\",\"embedder.block3.res1.relu2_out\",\"embedder.block3.res2.relu1_out\",\"embedder.block3.res2.resadd_out\",\"embedder.block3.res2.relu2_out\"],\"xaxis\":\"x\",\"y\":[0.85,0.9875,0.9875,0.8875,1.0,1.0,1.0,1.0,1.0,0.95,1.0,1.0,0.975,0.95,0.9875,0.925,0.9125,0.9375,0.9125],\"yaxis\":\"y\",\"type\":\"scatter\"},{\"hovertemplate\":\"K=7\\u003cbr\\u003elayer=%{x}\\u003cbr\\u003escore=%{y}\\u003cextra\\u003e\\u003c\\u002fextra\\u003e\",\"legendgroup\":\"7\",\"line\":{\"color\":\"#FF6692\",\"dash\":\"solid\"},\"marker\":{\"symbol\":\"circle\"},\"mode\":\"lines\",\"name\":\"7\",\"orientation\":\"v\",\"showlegend\":true,\"x\":[\"embedder.block1.conv_in0\",\"embedder.block1.res1.relu1_out\",\"embedder.block1.res1.resadd_out\",\"embedder.block1.res1.relu2_out\",\"embedder.block1.res2.relu1_out\",\"embedder.block1.res2.resadd_out\",\"embedder.block1.res2.relu2_out\",\"embedder.block2.res1.relu1_out\",\"embedder.block2.res1.resadd_out\",\"embedder.block2.res1.relu2_out\",\"embedder.block2.res2.relu1_out\",\"embedder.block2.res2.resadd_out\",\"embedder.block2.res2.relu2_out\",\"embedder.block3.res1.relu1_out\",\"embedder.block3.res1.resadd_out\",\"embedder.block3.res1.relu2_out\",\"embedder.block3.res2.relu1_out\",\"embedder.block3.res2.resadd_out\",\"embedder.block3.res2.relu2_out\"],\"xaxis\":\"x\",\"y\":[0.85,0.9875,0.9875,0.9,0.9875,1.0,1.0,1.0,1.0,0.95,1.0,1.0,0.975,0.95,0.9875,0.925,0.95,0.9375,0.9125],\"yaxis\":\"y\",\"type\":\"scatter\"},{\"hovertemplate\":\"K=8\\u003cbr\\u003elayer=%{x}\\u003cbr\\u003escore=%{y}\\u003cextra\\u003e\\u003c\\u002fextra\\u003e\",\"legendgroup\":\"8\",\"line\":{\"color\":\"#B6E880\",\"dash\":\"solid\"},\"marker\":{\"symbol\":\"circle\"},\"mode\":\"lines\",\"name\":\"8\",\"orientation\":\"v\",\"showlegend\":true,\"x\":[\"embedder.block1.conv_in0\",\"embedder.block1.res1.relu1_out\",\"embedder.block1.res1.resadd_out\",\"embedder.block1.res1.relu2_out\",\"embedder.block1.res2.relu1_out\",\"embedder.block1.res2.resadd_out\",\"embedder.block1.res2.relu2_out\",\"embedder.block2.res1.relu1_out\",\"embedder.block2.res1.resadd_out\",\"embedder.block2.res1.relu2_out\",\"embedder.block2.res2.relu1_out\",\"embedder.block2.res2.resadd_out\",\"embedder.block2.res2.relu2_out\",\"embedder.block3.res1.relu1_out\",\"embedder.block3.res1.resadd_out\",\"embedder.block3.res1.relu2_out\",\"embedder.block3.res2.relu1_out\",\"embedder.block3.res2.resadd_out\",\"embedder.block3.res2.relu2_out\"],\"xaxis\":\"x\",\"y\":[0.85,0.9875,0.9875,0.9,0.9875,1.0,1.0,1.0,1.0,0.95,1.0,1.0,0.975,0.95,0.9875,0.9375,0.95,0.9,0.9125],\"yaxis\":\"y\",\"type\":\"scatter\"},{\"hovertemplate\":\"K=9\\u003cbr\\u003elayer=%{x}\\u003cbr\\u003escore=%{y}\\u003cextra\\u003e\\u003c\\u002fextra\\u003e\",\"legendgroup\":\"9\",\"line\":{\"color\":\"#FF97FF\",\"dash\":\"solid\"},\"marker\":{\"symbol\":\"circle\"},\"mode\":\"lines\",\"name\":\"9\",\"orientation\":\"v\",\"showlegend\":true,\"x\":[\"embedder.block1.conv_in0\",\"embedder.block1.res1.relu1_out\",\"embedder.block1.res1.resadd_out\",\"embedder.block1.res1.relu2_out\",\"embedder.block1.res2.relu1_out\",\"embedder.block1.res2.resadd_out\",\"embedder.block1.res2.relu2_out\",\"embedder.block2.res1.relu1_out\",\"embedder.block2.res1.resadd_out\",\"embedder.block2.res1.relu2_out\",\"embedder.block2.res2.relu1_out\",\"embedder.block2.res2.resadd_out\",\"embedder.block2.res2.relu2_out\",\"embedder.block3.res1.relu1_out\",\"embedder.block3.res1.resadd_out\",\"embedder.block3.res1.relu2_out\",\"embedder.block3.res2.relu1_out\",\"embedder.block3.res2.resadd_out\",\"embedder.block3.res2.relu2_out\"],\"xaxis\":\"x\",\"y\":[0.85,0.9875,0.9875,0.9,0.9875,1.0,1.0,1.0,1.0,0.95,1.0,1.0,0.9875,0.9625,0.9875,0.95,0.925,0.9,0.9],\"yaxis\":\"y\",\"type\":\"scatter\"},{\"hovertemplate\":\"K=10\\u003cbr\\u003elayer=%{x}\\u003cbr\\u003escore=%{y}\\u003cextra\\u003e\\u003c\\u002fextra\\u003e\",\"legendgroup\":\"10\",\"line\":{\"color\":\"#FECB52\",\"dash\":\"solid\"},\"marker\":{\"symbol\":\"circle\"},\"mode\":\"lines\",\"name\":\"10\",\"orientation\":\"v\",\"showlegend\":true,\"x\":[\"embedder.block1.conv_in0\",\"embedder.block1.res1.relu1_out\",\"embedder.block1.res1.resadd_out\",\"embedder.block1.res1.relu2_out\",\"embedder.block1.res2.relu1_out\",\"embedder.block1.res2.resadd_out\",\"embedder.block1.res2.relu2_out\",\"embedder.block2.res1.relu1_out\",\"embedder.block2.res1.resadd_out\",\"embedder.block2.res1.relu2_out\",\"embedder.block2.res2.relu1_out\",\"embedder.block2.res2.resadd_out\",\"embedder.block2.res2.relu2_out\",\"embedder.block3.res1.relu1_out\",\"embedder.block3.res1.resadd_out\",\"embedder.block3.res1.relu2_out\",\"embedder.block3.res2.relu1_out\",\"embedder.block3.res2.resadd_out\",\"embedder.block3.res2.relu2_out\"],\"xaxis\":\"x\",\"y\":[0.85,0.9875,0.9875,0.9,0.9875,1.0,1.0,1.0,1.0,0.95,1.0,1.0,0.9875,0.95,0.9625,0.95,0.9375,0.9125,0.9],\"yaxis\":\"y\",\"type\":\"scatter\"}],                        {\"template\":{\"data\":{\"histogram2dcontour\":[{\"type\":\"histogram2dcontour\",\"colorbar\":{\"outlinewidth\":0,\"ticks\":\"\"},\"colorscale\":[[0.0,\"#0d0887\"],[0.1111111111111111,\"#46039f\"],[0.2222222222222222,\"#7201a8\"],[0.3333333333333333,\"#9c179e\"],[0.4444444444444444,\"#bd3786\"],[0.5555555555555556,\"#d8576b\"],[0.6666666666666666,\"#ed7953\"],[0.7777777777777778,\"#fb9f3a\"],[0.8888888888888888,\"#fdca26\"],[1.0,\"#f0f921\"]]}],\"choropleth\":[{\"type\":\"choropleth\",\"colorbar\":{\"outlinewidth\":0,\"ticks\":\"\"}}],\"histogram2d\":[{\"type\":\"histogram2d\",\"colorbar\":{\"outlinewidth\":0,\"ticks\":\"\"},\"colorscale\":[[0.0,\"#0d0887\"],[0.1111111111111111,\"#46039f\"],[0.2222222222222222,\"#7201a8\"],[0.3333333333333333,\"#9c179e\"],[0.4444444444444444,\"#bd3786\"],[0.5555555555555556,\"#d8576b\"],[0.6666666666666666,\"#ed7953\"],[0.7777777777777778,\"#fb9f3a\"],[0.8888888888888888,\"#fdca26\"],[1.0,\"#f0f921\"]]}],\"heatmap\":[{\"type\":\"heatmap\",\"colorbar\":{\"outlinewidth\":0,\"ticks\":\"\"},\"colorscale\":[[0.0,\"#0d0887\"],[0.1111111111111111,\"#46039f\"],[0.2222222222222222,\"#7201a8\"],[0.3333333333333333,\"#9c179e\"],[0.4444444444444444,\"#bd3786\"],[0.5555555555555556,\"#d8576b\"],[0.6666666666666666,\"#ed7953\"],[0.7777777777777778,\"#fb9f3a\"],[0.8888888888888888,\"#fdca26\"],[1.0,\"#f0f921\"]]}],\"heatmapgl\":[{\"type\":\"heatmapgl\",\"colorbar\":{\"outlinewidth\":0,\"ticks\":\"\"},\"colorscale\":[[0.0,\"#0d0887\"],[0.1111111111111111,\"#46039f\"],[0.2222222222222222,\"#7201a8\"],[0.3333333333333333,\"#9c179e\"],[0.4444444444444444,\"#bd3786\"],[0.5555555555555556,\"#d8576b\"],[0.6666666666666666,\"#ed7953\"],[0.7777777777777778,\"#fb9f3a\"],[0.8888888888888888,\"#fdca26\"],[1.0,\"#f0f921\"]]}],\"contourcarpet\":[{\"type\":\"contourcarpet\",\"colorbar\":{\"outlinewidth\":0,\"ticks\":\"\"}}],\"contour\":[{\"type\":\"contour\",\"colorbar\":{\"outlinewidth\":0,\"ticks\":\"\"},\"colorscale\":[[0.0,\"#0d0887\"],[0.1111111111111111,\"#46039f\"],[0.2222222222222222,\"#7201a8\"],[0.3333333333333333,\"#9c179e\"],[0.4444444444444444,\"#bd3786\"],[0.5555555555555556,\"#d8576b\"],[0.6666666666666666,\"#ed7953\"],[0.7777777777777778,\"#fb9f3a\"],[0.8888888888888888,\"#fdca26\"],[1.0,\"#f0f921\"]]}],\"surface\":[{\"type\":\"surface\",\"colorbar\":{\"outlinewidth\":0,\"ticks\":\"\"},\"colorscale\":[[0.0,\"#0d0887\"],[0.1111111111111111,\"#46039f\"],[0.2222222222222222,\"#7201a8\"],[0.3333333333333333,\"#9c179e\"],[0.4444444444444444,\"#bd3786\"],[0.5555555555555556,\"#d8576b\"],[0.6666666666666666,\"#ed7953\"],[0.7777777777777778,\"#fb9f3a\"],[0.8888888888888888,\"#fdca26\"],[1.0,\"#f0f921\"]]}],\"mesh3d\":[{\"type\":\"mesh3d\",\"colorbar\":{\"outlinewidth\":0,\"ticks\":\"\"}}],\"scatter\":[{\"fillpattern\":{\"fillmode\":\"overlay\",\"size\":10,\"solidity\":0.2},\"type\":\"scatter\"}],\"parcoords\":[{\"type\":\"parcoords\",\"line\":{\"colorbar\":{\"outlinewidth\":0,\"ticks\":\"\"}}}],\"scatterpolargl\":[{\"type\":\"scatterpolargl\",\"marker\":{\"colorbar\":{\"outlinewidth\":0,\"ticks\":\"\"}}}],\"bar\":[{\"error_x\":{\"color\":\"#2a3f5f\"},\"error_y\":{\"color\":\"#2a3f5f\"},\"marker\":{\"line\":{\"color\":\"#E5ECF6\",\"width\":0.5},\"pattern\":{\"fillmode\":\"overlay\",\"size\":10,\"solidity\":0.2}},\"type\":\"bar\"}],\"scattergeo\":[{\"type\":\"scattergeo\",\"marker\":{\"colorbar\":{\"outlinewidth\":0,\"ticks\":\"\"}}}],\"scatterpolar\":[{\"type\":\"scatterpolar\",\"marker\":{\"colorbar\":{\"outlinewidth\":0,\"ticks\":\"\"}}}],\"histogram\":[{\"marker\":{\"pattern\":{\"fillmode\":\"overlay\",\"size\":10,\"solidity\":0.2}},\"type\":\"histogram\"}],\"scattergl\":[{\"type\":\"scattergl\",\"marker\":{\"colorbar\":{\"outlinewidth\":0,\"ticks\":\"\"}}}],\"scatter3d\":[{\"type\":\"scatter3d\",\"line\":{\"colorbar\":{\"outlinewidth\":0,\"ticks\":\"\"}},\"marker\":{\"colorbar\":{\"outlinewidth\":0,\"ticks\":\"\"}}}],\"scattermapbox\":[{\"type\":\"scattermapbox\",\"marker\":{\"colorbar\":{\"outlinewidth\":0,\"ticks\":\"\"}}}],\"scatterternary\":[{\"type\":\"scatterternary\",\"marker\":{\"colorbar\":{\"outlinewidth\":0,\"ticks\":\"\"}}}],\"scattercarpet\":[{\"type\":\"scattercarpet\",\"marker\":{\"colorbar\":{\"outlinewidth\":0,\"ticks\":\"\"}}}],\"carpet\":[{\"aaxis\":{\"endlinecolor\":\"#2a3f5f\",\"gridcolor\":\"white\",\"linecolor\":\"white\",\"minorgridcolor\":\"white\",\"startlinecolor\":\"#2a3f5f\"},\"baxis\":{\"endlinecolor\":\"#2a3f5f\",\"gridcolor\":\"white\",\"linecolor\":\"white\",\"minorgridcolor\":\"white\",\"startlinecolor\":\"#2a3f5f\"},\"type\":\"carpet\"}],\"table\":[{\"cells\":{\"fill\":{\"color\":\"#EBF0F8\"},\"line\":{\"color\":\"white\"}},\"header\":{\"fill\":{\"color\":\"#C8D4E3\"},\"line\":{\"color\":\"white\"}},\"type\":\"table\"}],\"barpolar\":[{\"marker\":{\"line\":{\"color\":\"#E5ECF6\",\"width\":0.5},\"pattern\":{\"fillmode\":\"overlay\",\"size\":10,\"solidity\":0.2}},\"type\":\"barpolar\"}],\"pie\":[{\"automargin\":true,\"type\":\"pie\"}]},\"layout\":{\"autotypenumbers\":\"strict\",\"colorway\":[\"#636efa\",\"#EF553B\",\"#00cc96\",\"#ab63fa\",\"#FFA15A\",\"#19d3f3\",\"#FF6692\",\"#B6E880\",\"#FF97FF\",\"#FECB52\"],\"font\":{\"color\":\"#2a3f5f\"},\"hovermode\":\"closest\",\"hoverlabel\":{\"align\":\"left\"},\"paper_bgcolor\":\"white\",\"plot_bgcolor\":\"#E5ECF6\",\"polar\":{\"bgcolor\":\"#E5ECF6\",\"angularaxis\":{\"gridcolor\":\"white\",\"linecolor\":\"white\",\"ticks\":\"\"},\"radialaxis\":{\"gridcolor\":\"white\",\"linecolor\":\"white\",\"ticks\":\"\"}},\"ternary\":{\"bgcolor\":\"#E5ECF6\",\"aaxis\":{\"gridcolor\":\"white\",\"linecolor\":\"white\",\"ticks\":\"\"},\"baxis\":{\"gridcolor\":\"white\",\"linecolor\":\"white\",\"ticks\":\"\"},\"caxis\":{\"gridcolor\":\"white\",\"linecolor\":\"white\",\"ticks\":\"\"}},\"coloraxis\":{\"colorbar\":{\"outlinewidth\":0,\"ticks\":\"\"}},\"colorscale\":{\"sequential\":[[0.0,\"#0d0887\"],[0.1111111111111111,\"#46039f\"],[0.2222222222222222,\"#7201a8\"],[0.3333333333333333,\"#9c179e\"],[0.4444444444444444,\"#bd3786\"],[0.5555555555555556,\"#d8576b\"],[0.6666666666666666,\"#ed7953\"],[0.7777777777777778,\"#fb9f3a\"],[0.8888888888888888,\"#fdca26\"],[1.0,\"#f0f921\"]],\"sequentialminus\":[[0.0,\"#0d0887\"],[0.1111111111111111,\"#46039f\"],[0.2222222222222222,\"#7201a8\"],[0.3333333333333333,\"#9c179e\"],[0.4444444444444444,\"#bd3786\"],[0.5555555555555556,\"#d8576b\"],[0.6666666666666666,\"#ed7953\"],[0.7777777777777778,\"#fb9f3a\"],[0.8888888888888888,\"#fdca26\"],[1.0,\"#f0f921\"]],\"diverging\":[[0,\"#8e0152\"],[0.1,\"#c51b7d\"],[0.2,\"#de77ae\"],[0.3,\"#f1b6da\"],[0.4,\"#fde0ef\"],[0.5,\"#f7f7f7\"],[0.6,\"#e6f5d0\"],[0.7,\"#b8e186\"],[0.8,\"#7fbc41\"],[0.9,\"#4d9221\"],[1,\"#276419\"]]},\"xaxis\":{\"gridcolor\":\"white\",\"linecolor\":\"white\",\"ticks\":\"\",\"title\":{\"standoff\":15},\"zerolinecolor\":\"white\",\"automargin\":true,\"zerolinewidth\":2},\"yaxis\":{\"gridcolor\":\"white\",\"linecolor\":\"white\",\"ticks\":\"\",\"title\":{\"standoff\":15},\"zerolinecolor\":\"white\",\"automargin\":true,\"zerolinewidth\":2},\"scene\":{\"xaxis\":{\"backgroundcolor\":\"#E5ECF6\",\"gridcolor\":\"white\",\"linecolor\":\"white\",\"showbackground\":true,\"ticks\":\"\",\"zerolinecolor\":\"white\",\"gridwidth\":2},\"yaxis\":{\"backgroundcolor\":\"#E5ECF6\",\"gridcolor\":\"white\",\"linecolor\":\"white\",\"showbackground\":true,\"ticks\":\"\",\"zerolinecolor\":\"white\",\"gridwidth\":2},\"zaxis\":{\"backgroundcolor\":\"#E5ECF6\",\"gridcolor\":\"white\",\"linecolor\":\"white\",\"showbackground\":true,\"ticks\":\"\",\"zerolinecolor\":\"white\",\"gridwidth\":2}},\"shapedefaults\":{\"line\":{\"color\":\"#2a3f5f\"}},\"annotationdefaults\":{\"arrowcolor\":\"#2a3f5f\",\"arrowhead\":0,\"arrowwidth\":1},\"geo\":{\"bgcolor\":\"white\",\"landcolor\":\"#E5ECF6\",\"subunitcolor\":\"white\",\"showland\":true,\"showlakes\":true,\"lakecolor\":\"white\"},\"title\":{\"x\":0.05},\"mapbox\":{\"style\":\"light\"}}},\"xaxis\":{\"anchor\":\"y\",\"domain\":[0.0,1.0],\"title\":{\"text\":\"layer\"}},\"yaxis\":{\"anchor\":\"x\",\"domain\":[0.0,1.0],\"title\":{\"text\":\"score\"}},\"legend\":{\"title\":{\"text\":\"K\"},\"tracegroupgap\":0},\"title\":{\"text\":\"Sparse probe scores for \\\"conv pixel contains mouse1\\\" over resadd layers and K values\"},\"shapes\":[{\"line\":{\"dash\":\"dot\"},\"type\":\"line\",\"x0\":0,\"x1\":1,\"xref\":\"x domain\",\"y0\":1.0,\"y1\":1.0,\"yref\":\"y\"},{\"line\":{\"dash\":\"dot\"},\"type\":\"line\",\"x0\":0,\"x1\":1,\"xref\":\"x domain\",\"y0\":0.5,\"y1\":0.5,\"yref\":\"y\"}],\"annotations\":[{\"showarrow\":false,\"text\":\"perfect\",\"x\":1,\"xanchor\":\"right\",\"xref\":\"x domain\",\"y\":1.0,\"yanchor\":\"top\",\"yref\":\"y\"},{\"showarrow\":false,\"text\":\"baseline\",\"x\":1,\"xanchor\":\"right\",\"xref\":\"x domain\",\"y\":0.5,\"yanchor\":\"top\",\"yref\":\"y\"}]},                        {\"responsive\": true}                    ).then(function(){\n",
       "                            \n",
       "var gd = document.getElementById('f02fa4bb-1df2-4cae-affc-fc6756ff2d44');\n",
       "var x = new MutationObserver(function (mutations, observer) {{\n",
       "        var display = window.getComputedStyle(gd).display;\n",
       "        if (!display || display === 'none') {{\n",
       "            console.log([gd, 'removed!']);\n",
       "            Plotly.purge(gd);\n",
       "            observer.disconnect();\n",
       "        }}\n",
       "}});\n",
       "\n",
       "// Listen for the removal of the full notebook cells\n",
       "var notebookContainer = gd.closest('#notebook-container');\n",
       "if (notebookContainer) {{\n",
       "    x.observe(notebookContainer, {childList: true});\n",
       "}}\n",
       "\n",
       "// Listen for the clearing of the current output cell\n",
       "var outputEl = gd.closest('.output');\n",
       "if (outputEl) {{\n",
       "    x.observe(outputEl, {childList: true});\n",
       "}}\n",
       "\n",
       "                        })                };                });            </script>        </div>"
      ]
     },
     "metadata": {},
     "output_type": "display_data"
    },
    {
     "name": "stderr",
     "output_type": "stream",
     "text": [
      "100%|██████████| 19/19 [00:02<00:00,  8.19it/s]\n"
     ]
    },
    {
     "data": {
      "application/vnd.plotly.v1+json": {
       "config": {
        "plotlyServerURL": "https://plot.ly"
       },
       "data": [
        {
         "hovertemplate": "K=1<br>layer=%{x}<br>score=%{y}<extra></extra>",
         "legendgroup": "1",
         "line": {
          "color": "#636efa",
          "dash": "solid"
         },
         "marker": {
          "symbol": "circle"
         },
         "mode": "lines",
         "name": "1",
         "orientation": "v",
         "showlegend": true,
         "type": "scatter",
         "x": [
          "embedder.block1.conv_in0",
          "embedder.block1.res1.relu1_out",
          "embedder.block1.res1.resadd_out",
          "embedder.block1.res1.relu2_out",
          "embedder.block1.res2.relu1_out",
          "embedder.block1.res2.resadd_out",
          "embedder.block1.res2.relu2_out",
          "embedder.block2.res1.relu1_out",
          "embedder.block2.res1.resadd_out",
          "embedder.block2.res1.relu2_out",
          "embedder.block2.res2.relu1_out",
          "embedder.block2.res2.resadd_out",
          "embedder.block2.res2.relu2_out",
          "embedder.block3.res1.relu1_out",
          "embedder.block3.res1.resadd_out",
          "embedder.block3.res1.relu2_out",
          "embedder.block3.res2.relu1_out",
          "embedder.block3.res2.resadd_out",
          "embedder.block3.res2.relu2_out"
         ],
         "xaxis": "x",
         "y": [
          0.9,
          0.9,
          0.8875,
          0.7625,
          0.8875,
          0.8,
          0.725,
          0.7125,
          0.675,
          0.7875,
          0.6375,
          0.75,
          0.7,
          0.7,
          0.7,
          0.5875,
          0.7,
          0.7,
          0.675
         ],
         "yaxis": "y"
        },
        {
         "hovertemplate": "K=2<br>layer=%{x}<br>score=%{y}<extra></extra>",
         "legendgroup": "2",
         "line": {
          "color": "#EF553B",
          "dash": "solid"
         },
         "marker": {
          "symbol": "circle"
         },
         "mode": "lines",
         "name": "2",
         "orientation": "v",
         "showlegend": true,
         "type": "scatter",
         "x": [
          "embedder.block1.conv_in0",
          "embedder.block1.res1.relu1_out",
          "embedder.block1.res1.resadd_out",
          "embedder.block1.res1.relu2_out",
          "embedder.block1.res2.relu1_out",
          "embedder.block1.res2.resadd_out",
          "embedder.block1.res2.relu2_out",
          "embedder.block2.res1.relu1_out",
          "embedder.block2.res1.resadd_out",
          "embedder.block2.res1.relu2_out",
          "embedder.block2.res2.relu1_out",
          "embedder.block2.res2.resadd_out",
          "embedder.block2.res2.relu2_out",
          "embedder.block3.res1.relu1_out",
          "embedder.block3.res1.resadd_out",
          "embedder.block3.res1.relu2_out",
          "embedder.block3.res2.relu1_out",
          "embedder.block3.res2.resadd_out",
          "embedder.block3.res2.relu2_out"
         ],
         "xaxis": "x",
         "y": [
          0.8875,
          0.95,
          0.9125,
          0.7,
          0.8875,
          0.9,
          0.7625,
          0.7625,
          0.7125,
          0.775,
          0.7375,
          0.8,
          0.675,
          0.675,
          0.7125,
          0.675,
          0.75,
          0.7375,
          0.625
         ],
         "yaxis": "y"
        },
        {
         "hovertemplate": "K=3<br>layer=%{x}<br>score=%{y}<extra></extra>",
         "legendgroup": "3",
         "line": {
          "color": "#00cc96",
          "dash": "solid"
         },
         "marker": {
          "symbol": "circle"
         },
         "mode": "lines",
         "name": "3",
         "orientation": "v",
         "showlegend": true,
         "type": "scatter",
         "x": [
          "embedder.block1.conv_in0",
          "embedder.block1.res1.relu1_out",
          "embedder.block1.res1.resadd_out",
          "embedder.block1.res1.relu2_out",
          "embedder.block1.res2.relu1_out",
          "embedder.block1.res2.resadd_out",
          "embedder.block1.res2.relu2_out",
          "embedder.block2.res1.relu1_out",
          "embedder.block2.res1.resadd_out",
          "embedder.block2.res1.relu2_out",
          "embedder.block2.res2.relu1_out",
          "embedder.block2.res2.resadd_out",
          "embedder.block2.res2.relu2_out",
          "embedder.block3.res1.relu1_out",
          "embedder.block3.res1.resadd_out",
          "embedder.block3.res1.relu2_out",
          "embedder.block3.res2.relu1_out",
          "embedder.block3.res2.resadd_out",
          "embedder.block3.res2.relu2_out"
         ],
         "xaxis": "x",
         "y": [
          0.8875,
          0.9375,
          0.925,
          0.75,
          0.8875,
          0.9,
          0.8125,
          0.75,
          0.75,
          0.7875,
          0.7125,
          0.7375,
          0.5625,
          0.7125,
          0.725,
          0.7375,
          0.725,
          0.7,
          0.6375
         ],
         "yaxis": "y"
        },
        {
         "hovertemplate": "K=4<br>layer=%{x}<br>score=%{y}<extra></extra>",
         "legendgroup": "4",
         "line": {
          "color": "#ab63fa",
          "dash": "solid"
         },
         "marker": {
          "symbol": "circle"
         },
         "mode": "lines",
         "name": "4",
         "orientation": "v",
         "showlegend": true,
         "type": "scatter",
         "x": [
          "embedder.block1.conv_in0",
          "embedder.block1.res1.relu1_out",
          "embedder.block1.res1.resadd_out",
          "embedder.block1.res1.relu2_out",
          "embedder.block1.res2.relu1_out",
          "embedder.block1.res2.resadd_out",
          "embedder.block1.res2.relu2_out",
          "embedder.block2.res1.relu1_out",
          "embedder.block2.res1.resadd_out",
          "embedder.block2.res1.relu2_out",
          "embedder.block2.res2.relu1_out",
          "embedder.block2.res2.resadd_out",
          "embedder.block2.res2.relu2_out",
          "embedder.block3.res1.relu1_out",
          "embedder.block3.res1.resadd_out",
          "embedder.block3.res1.relu2_out",
          "embedder.block3.res2.relu1_out",
          "embedder.block3.res2.resadd_out",
          "embedder.block3.res2.relu2_out"
         ],
         "xaxis": "x",
         "y": [
          0.8875,
          0.9625,
          0.925,
          0.7625,
          0.875,
          0.925,
          0.7875,
          0.7625,
          0.7375,
          0.7875,
          0.75,
          0.7625,
          0.5375,
          0.7,
          0.725,
          0.725,
          0.725,
          0.7,
          0.6625
         ],
         "yaxis": "y"
        },
        {
         "hovertemplate": "K=5<br>layer=%{x}<br>score=%{y}<extra></extra>",
         "legendgroup": "5",
         "line": {
          "color": "#FFA15A",
          "dash": "solid"
         },
         "marker": {
          "symbol": "circle"
         },
         "mode": "lines",
         "name": "5",
         "orientation": "v",
         "showlegend": true,
         "type": "scatter",
         "x": [
          "embedder.block1.conv_in0",
          "embedder.block1.res1.relu1_out",
          "embedder.block1.res1.resadd_out",
          "embedder.block1.res1.relu2_out",
          "embedder.block1.res2.relu1_out",
          "embedder.block1.res2.resadd_out",
          "embedder.block1.res2.relu2_out",
          "embedder.block2.res1.relu1_out",
          "embedder.block2.res1.resadd_out",
          "embedder.block2.res1.relu2_out",
          "embedder.block2.res2.relu1_out",
          "embedder.block2.res2.resadd_out",
          "embedder.block2.res2.relu2_out",
          "embedder.block3.res1.relu1_out",
          "embedder.block3.res1.resadd_out",
          "embedder.block3.res1.relu2_out",
          "embedder.block3.res2.relu1_out",
          "embedder.block3.res2.resadd_out",
          "embedder.block3.res2.relu2_out"
         ],
         "xaxis": "x",
         "y": [
          0.8875,
          0.9625,
          0.925,
          0.75,
          0.8875,
          0.95,
          0.775,
          0.7625,
          0.7375,
          0.8,
          0.75,
          0.8125,
          0.6,
          0.7,
          0.7125,
          0.725,
          0.725,
          0.6875,
          0.675
         ],
         "yaxis": "y"
        },
        {
         "hovertemplate": "K=6<br>layer=%{x}<br>score=%{y}<extra></extra>",
         "legendgroup": "6",
         "line": {
          "color": "#19d3f3",
          "dash": "solid"
         },
         "marker": {
          "symbol": "circle"
         },
         "mode": "lines",
         "name": "6",
         "orientation": "v",
         "showlegend": true,
         "type": "scatter",
         "x": [
          "embedder.block1.conv_in0",
          "embedder.block1.res1.relu1_out",
          "embedder.block1.res1.resadd_out",
          "embedder.block1.res1.relu2_out",
          "embedder.block1.res2.relu1_out",
          "embedder.block1.res2.resadd_out",
          "embedder.block1.res2.relu2_out",
          "embedder.block2.res1.relu1_out",
          "embedder.block2.res1.resadd_out",
          "embedder.block2.res1.relu2_out",
          "embedder.block2.res2.relu1_out",
          "embedder.block2.res2.resadd_out",
          "embedder.block2.res2.relu2_out",
          "embedder.block3.res1.relu1_out",
          "embedder.block3.res1.resadd_out",
          "embedder.block3.res1.relu2_out",
          "embedder.block3.res2.relu1_out",
          "embedder.block3.res2.resadd_out",
          "embedder.block3.res2.relu2_out"
         ],
         "xaxis": "x",
         "y": [
          0.8875,
          0.975,
          0.9125,
          0.75,
          0.8875,
          0.95,
          0.775,
          0.7875,
          0.7375,
          0.8,
          0.75,
          0.7875,
          0.5875,
          0.7,
          0.7375,
          0.6875,
          0.7375,
          0.7,
          0.675
         ],
         "yaxis": "y"
        },
        {
         "hovertemplate": "K=7<br>layer=%{x}<br>score=%{y}<extra></extra>",
         "legendgroup": "7",
         "line": {
          "color": "#FF6692",
          "dash": "solid"
         },
         "marker": {
          "symbol": "circle"
         },
         "mode": "lines",
         "name": "7",
         "orientation": "v",
         "showlegend": true,
         "type": "scatter",
         "x": [
          "embedder.block1.conv_in0",
          "embedder.block1.res1.relu1_out",
          "embedder.block1.res1.resadd_out",
          "embedder.block1.res1.relu2_out",
          "embedder.block1.res2.relu1_out",
          "embedder.block1.res2.resadd_out",
          "embedder.block1.res2.relu2_out",
          "embedder.block2.res1.relu1_out",
          "embedder.block2.res1.resadd_out",
          "embedder.block2.res1.relu2_out",
          "embedder.block2.res2.relu1_out",
          "embedder.block2.res2.resadd_out",
          "embedder.block2.res2.relu2_out",
          "embedder.block3.res1.relu1_out",
          "embedder.block3.res1.resadd_out",
          "embedder.block3.res1.relu2_out",
          "embedder.block3.res2.relu1_out",
          "embedder.block3.res2.resadd_out",
          "embedder.block3.res2.relu2_out"
         ],
         "xaxis": "x",
         "y": [
          0.8875,
          0.95,
          0.9125,
          0.75,
          0.9125,
          0.925,
          0.7875,
          0.8,
          0.725,
          0.6375,
          0.7375,
          0.8,
          0.6,
          0.7125,
          0.6875,
          0.7,
          0.75,
          0.725,
          0.6875
         ],
         "yaxis": "y"
        },
        {
         "hovertemplate": "K=8<br>layer=%{x}<br>score=%{y}<extra></extra>",
         "legendgroup": "8",
         "line": {
          "color": "#B6E880",
          "dash": "solid"
         },
         "marker": {
          "symbol": "circle"
         },
         "mode": "lines",
         "name": "8",
         "orientation": "v",
         "showlegend": true,
         "type": "scatter",
         "x": [
          "embedder.block1.conv_in0",
          "embedder.block1.res1.relu1_out",
          "embedder.block1.res1.resadd_out",
          "embedder.block1.res1.relu2_out",
          "embedder.block1.res2.relu1_out",
          "embedder.block1.res2.resadd_out",
          "embedder.block1.res2.relu2_out",
          "embedder.block2.res1.relu1_out",
          "embedder.block2.res1.resadd_out",
          "embedder.block2.res1.relu2_out",
          "embedder.block2.res2.relu1_out",
          "embedder.block2.res2.resadd_out",
          "embedder.block2.res2.relu2_out",
          "embedder.block3.res1.relu1_out",
          "embedder.block3.res1.resadd_out",
          "embedder.block3.res1.relu2_out",
          "embedder.block3.res2.relu1_out",
          "embedder.block3.res2.resadd_out",
          "embedder.block3.res2.relu2_out"
         ],
         "xaxis": "x",
         "y": [
          0.8875,
          0.95,
          0.9,
          0.7375,
          0.9125,
          0.9125,
          0.8,
          0.8,
          0.725,
          0.7125,
          0.725,
          0.8,
          0.625,
          0.7125,
          0.725,
          0.725,
          0.75,
          0.6875,
          0.7
         ],
         "yaxis": "y"
        },
        {
         "hovertemplate": "K=9<br>layer=%{x}<br>score=%{y}<extra></extra>",
         "legendgroup": "9",
         "line": {
          "color": "#FF97FF",
          "dash": "solid"
         },
         "marker": {
          "symbol": "circle"
         },
         "mode": "lines",
         "name": "9",
         "orientation": "v",
         "showlegend": true,
         "type": "scatter",
         "x": [
          "embedder.block1.conv_in0",
          "embedder.block1.res1.relu1_out",
          "embedder.block1.res1.resadd_out",
          "embedder.block1.res1.relu2_out",
          "embedder.block1.res2.relu1_out",
          "embedder.block1.res2.resadd_out",
          "embedder.block1.res2.relu2_out",
          "embedder.block2.res1.relu1_out",
          "embedder.block2.res1.resadd_out",
          "embedder.block2.res1.relu2_out",
          "embedder.block2.res2.relu1_out",
          "embedder.block2.res2.resadd_out",
          "embedder.block2.res2.relu2_out",
          "embedder.block3.res1.relu1_out",
          "embedder.block3.res1.resadd_out",
          "embedder.block3.res1.relu2_out",
          "embedder.block3.res2.relu1_out",
          "embedder.block3.res2.resadd_out",
          "embedder.block3.res2.relu2_out"
         ],
         "xaxis": "x",
         "y": [
          0.8875,
          0.95,
          0.9,
          0.7625,
          0.9125,
          0.9,
          0.825,
          0.775,
          0.725,
          0.6625,
          0.725,
          0.85,
          0.625,
          0.725,
          0.7375,
          0.7,
          0.7375,
          0.7,
          0.6875
         ],
         "yaxis": "y"
        },
        {
         "hovertemplate": "K=10<br>layer=%{x}<br>score=%{y}<extra></extra>",
         "legendgroup": "10",
         "line": {
          "color": "#FECB52",
          "dash": "solid"
         },
         "marker": {
          "symbol": "circle"
         },
         "mode": "lines",
         "name": "10",
         "orientation": "v",
         "showlegend": true,
         "type": "scatter",
         "x": [
          "embedder.block1.conv_in0",
          "embedder.block1.res1.relu1_out",
          "embedder.block1.res1.resadd_out",
          "embedder.block1.res1.relu2_out",
          "embedder.block1.res2.relu1_out",
          "embedder.block1.res2.resadd_out",
          "embedder.block1.res2.relu2_out",
          "embedder.block2.res1.relu1_out",
          "embedder.block2.res1.resadd_out",
          "embedder.block2.res1.relu2_out",
          "embedder.block2.res2.relu1_out",
          "embedder.block2.res2.resadd_out",
          "embedder.block2.res2.relu2_out",
          "embedder.block3.res1.relu1_out",
          "embedder.block3.res1.resadd_out",
          "embedder.block3.res1.relu2_out",
          "embedder.block3.res2.relu1_out",
          "embedder.block3.res2.resadd_out",
          "embedder.block3.res2.relu2_out"
         ],
         "xaxis": "x",
         "y": [
          0.8875,
          0.95,
          0.9125,
          0.75,
          0.9125,
          0.9125,
          0.825,
          0.8125,
          0.725,
          0.6625,
          0.725,
          0.825,
          0.6375,
          0.7,
          0.7375,
          0.7375,
          0.7625,
          0.6875,
          0.675
         ],
         "yaxis": "y"
        }
       ],
       "layout": {
        "annotations": [
         {
          "showarrow": false,
          "text": "perfect",
          "x": 1,
          "xanchor": "right",
          "xref": "x domain",
          "y": 1,
          "yanchor": "top",
          "yref": "y"
         },
         {
          "showarrow": false,
          "text": "baseline",
          "x": 1,
          "xanchor": "right",
          "xref": "x domain",
          "y": 0.5,
          "yanchor": "top",
          "yref": "y"
         }
        ],
        "legend": {
         "title": {
          "text": "K"
         },
         "tracegroupgap": 0
        },
        "shapes": [
         {
          "line": {
           "dash": "dot"
          },
          "type": "line",
          "x0": 0,
          "x1": 1,
          "xref": "x domain",
          "y0": 1,
          "y1": 1,
          "yref": "y"
         },
         {
          "line": {
           "dash": "dot"
          },
          "type": "line",
          "x0": 0,
          "x1": 1,
          "xref": "x domain",
          "y0": 0.5,
          "y1": 0.5,
          "yref": "y"
         }
        ],
        "template": {
         "data": {
          "bar": [
           {
            "error_x": {
             "color": "#2a3f5f"
            },
            "error_y": {
             "color": "#2a3f5f"
            },
            "marker": {
             "line": {
              "color": "#E5ECF6",
              "width": 0.5
             },
             "pattern": {
              "fillmode": "overlay",
              "size": 10,
              "solidity": 0.2
             }
            },
            "type": "bar"
           }
          ],
          "barpolar": [
           {
            "marker": {
             "line": {
              "color": "#E5ECF6",
              "width": 0.5
             },
             "pattern": {
              "fillmode": "overlay",
              "size": 10,
              "solidity": 0.2
             }
            },
            "type": "barpolar"
           }
          ],
          "carpet": [
           {
            "aaxis": {
             "endlinecolor": "#2a3f5f",
             "gridcolor": "white",
             "linecolor": "white",
             "minorgridcolor": "white",
             "startlinecolor": "#2a3f5f"
            },
            "baxis": {
             "endlinecolor": "#2a3f5f",
             "gridcolor": "white",
             "linecolor": "white",
             "minorgridcolor": "white",
             "startlinecolor": "#2a3f5f"
            },
            "type": "carpet"
           }
          ],
          "choropleth": [
           {
            "colorbar": {
             "outlinewidth": 0,
             "ticks": ""
            },
            "type": "choropleth"
           }
          ],
          "contour": [
           {
            "colorbar": {
             "outlinewidth": 0,
             "ticks": ""
            },
            "colorscale": [
             [
              0,
              "#0d0887"
             ],
             [
              0.1111111111111111,
              "#46039f"
             ],
             [
              0.2222222222222222,
              "#7201a8"
             ],
             [
              0.3333333333333333,
              "#9c179e"
             ],
             [
              0.4444444444444444,
              "#bd3786"
             ],
             [
              0.5555555555555556,
              "#d8576b"
             ],
             [
              0.6666666666666666,
              "#ed7953"
             ],
             [
              0.7777777777777778,
              "#fb9f3a"
             ],
             [
              0.8888888888888888,
              "#fdca26"
             ],
             [
              1,
              "#f0f921"
             ]
            ],
            "type": "contour"
           }
          ],
          "contourcarpet": [
           {
            "colorbar": {
             "outlinewidth": 0,
             "ticks": ""
            },
            "type": "contourcarpet"
           }
          ],
          "heatmap": [
           {
            "colorbar": {
             "outlinewidth": 0,
             "ticks": ""
            },
            "colorscale": [
             [
              0,
              "#0d0887"
             ],
             [
              0.1111111111111111,
              "#46039f"
             ],
             [
              0.2222222222222222,
              "#7201a8"
             ],
             [
              0.3333333333333333,
              "#9c179e"
             ],
             [
              0.4444444444444444,
              "#bd3786"
             ],
             [
              0.5555555555555556,
              "#d8576b"
             ],
             [
              0.6666666666666666,
              "#ed7953"
             ],
             [
              0.7777777777777778,
              "#fb9f3a"
             ],
             [
              0.8888888888888888,
              "#fdca26"
             ],
             [
              1,
              "#f0f921"
             ]
            ],
            "type": "heatmap"
           }
          ],
          "heatmapgl": [
           {
            "colorbar": {
             "outlinewidth": 0,
             "ticks": ""
            },
            "colorscale": [
             [
              0,
              "#0d0887"
             ],
             [
              0.1111111111111111,
              "#46039f"
             ],
             [
              0.2222222222222222,
              "#7201a8"
             ],
             [
              0.3333333333333333,
              "#9c179e"
             ],
             [
              0.4444444444444444,
              "#bd3786"
             ],
             [
              0.5555555555555556,
              "#d8576b"
             ],
             [
              0.6666666666666666,
              "#ed7953"
             ],
             [
              0.7777777777777778,
              "#fb9f3a"
             ],
             [
              0.8888888888888888,
              "#fdca26"
             ],
             [
              1,
              "#f0f921"
             ]
            ],
            "type": "heatmapgl"
           }
          ],
          "histogram": [
           {
            "marker": {
             "pattern": {
              "fillmode": "overlay",
              "size": 10,
              "solidity": 0.2
             }
            },
            "type": "histogram"
           }
          ],
          "histogram2d": [
           {
            "colorbar": {
             "outlinewidth": 0,
             "ticks": ""
            },
            "colorscale": [
             [
              0,
              "#0d0887"
             ],
             [
              0.1111111111111111,
              "#46039f"
             ],
             [
              0.2222222222222222,
              "#7201a8"
             ],
             [
              0.3333333333333333,
              "#9c179e"
             ],
             [
              0.4444444444444444,
              "#bd3786"
             ],
             [
              0.5555555555555556,
              "#d8576b"
             ],
             [
              0.6666666666666666,
              "#ed7953"
             ],
             [
              0.7777777777777778,
              "#fb9f3a"
             ],
             [
              0.8888888888888888,
              "#fdca26"
             ],
             [
              1,
              "#f0f921"
             ]
            ],
            "type": "histogram2d"
           }
          ],
          "histogram2dcontour": [
           {
            "colorbar": {
             "outlinewidth": 0,
             "ticks": ""
            },
            "colorscale": [
             [
              0,
              "#0d0887"
             ],
             [
              0.1111111111111111,
              "#46039f"
             ],
             [
              0.2222222222222222,
              "#7201a8"
             ],
             [
              0.3333333333333333,
              "#9c179e"
             ],
             [
              0.4444444444444444,
              "#bd3786"
             ],
             [
              0.5555555555555556,
              "#d8576b"
             ],
             [
              0.6666666666666666,
              "#ed7953"
             ],
             [
              0.7777777777777778,
              "#fb9f3a"
             ],
             [
              0.8888888888888888,
              "#fdca26"
             ],
             [
              1,
              "#f0f921"
             ]
            ],
            "type": "histogram2dcontour"
           }
          ],
          "mesh3d": [
           {
            "colorbar": {
             "outlinewidth": 0,
             "ticks": ""
            },
            "type": "mesh3d"
           }
          ],
          "parcoords": [
           {
            "line": {
             "colorbar": {
              "outlinewidth": 0,
              "ticks": ""
             }
            },
            "type": "parcoords"
           }
          ],
          "pie": [
           {
            "automargin": true,
            "type": "pie"
           }
          ],
          "scatter": [
           {
            "fillpattern": {
             "fillmode": "overlay",
             "size": 10,
             "solidity": 0.2
            },
            "type": "scatter"
           }
          ],
          "scatter3d": [
           {
            "line": {
             "colorbar": {
              "outlinewidth": 0,
              "ticks": ""
             }
            },
            "marker": {
             "colorbar": {
              "outlinewidth": 0,
              "ticks": ""
             }
            },
            "type": "scatter3d"
           }
          ],
          "scattercarpet": [
           {
            "marker": {
             "colorbar": {
              "outlinewidth": 0,
              "ticks": ""
             }
            },
            "type": "scattercarpet"
           }
          ],
          "scattergeo": [
           {
            "marker": {
             "colorbar": {
              "outlinewidth": 0,
              "ticks": ""
             }
            },
            "type": "scattergeo"
           }
          ],
          "scattergl": [
           {
            "marker": {
             "colorbar": {
              "outlinewidth": 0,
              "ticks": ""
             }
            },
            "type": "scattergl"
           }
          ],
          "scattermapbox": [
           {
            "marker": {
             "colorbar": {
              "outlinewidth": 0,
              "ticks": ""
             }
            },
            "type": "scattermapbox"
           }
          ],
          "scatterpolar": [
           {
            "marker": {
             "colorbar": {
              "outlinewidth": 0,
              "ticks": ""
             }
            },
            "type": "scatterpolar"
           }
          ],
          "scatterpolargl": [
           {
            "marker": {
             "colorbar": {
              "outlinewidth": 0,
              "ticks": ""
             }
            },
            "type": "scatterpolargl"
           }
          ],
          "scatterternary": [
           {
            "marker": {
             "colorbar": {
              "outlinewidth": 0,
              "ticks": ""
             }
            },
            "type": "scatterternary"
           }
          ],
          "surface": [
           {
            "colorbar": {
             "outlinewidth": 0,
             "ticks": ""
            },
            "colorscale": [
             [
              0,
              "#0d0887"
             ],
             [
              0.1111111111111111,
              "#46039f"
             ],
             [
              0.2222222222222222,
              "#7201a8"
             ],
             [
              0.3333333333333333,
              "#9c179e"
             ],
             [
              0.4444444444444444,
              "#bd3786"
             ],
             [
              0.5555555555555556,
              "#d8576b"
             ],
             [
              0.6666666666666666,
              "#ed7953"
             ],
             [
              0.7777777777777778,
              "#fb9f3a"
             ],
             [
              0.8888888888888888,
              "#fdca26"
             ],
             [
              1,
              "#f0f921"
             ]
            ],
            "type": "surface"
           }
          ],
          "table": [
           {
            "cells": {
             "fill": {
              "color": "#EBF0F8"
             },
             "line": {
              "color": "white"
             }
            },
            "header": {
             "fill": {
              "color": "#C8D4E3"
             },
             "line": {
              "color": "white"
             }
            },
            "type": "table"
           }
          ]
         },
         "layout": {
          "annotationdefaults": {
           "arrowcolor": "#2a3f5f",
           "arrowhead": 0,
           "arrowwidth": 1
          },
          "autotypenumbers": "strict",
          "coloraxis": {
           "colorbar": {
            "outlinewidth": 0,
            "ticks": ""
           }
          },
          "colorscale": {
           "diverging": [
            [
             0,
             "#8e0152"
            ],
            [
             0.1,
             "#c51b7d"
            ],
            [
             0.2,
             "#de77ae"
            ],
            [
             0.3,
             "#f1b6da"
            ],
            [
             0.4,
             "#fde0ef"
            ],
            [
             0.5,
             "#f7f7f7"
            ],
            [
             0.6,
             "#e6f5d0"
            ],
            [
             0.7,
             "#b8e186"
            ],
            [
             0.8,
             "#7fbc41"
            ],
            [
             0.9,
             "#4d9221"
            ],
            [
             1,
             "#276419"
            ]
           ],
           "sequential": [
            [
             0,
             "#0d0887"
            ],
            [
             0.1111111111111111,
             "#46039f"
            ],
            [
             0.2222222222222222,
             "#7201a8"
            ],
            [
             0.3333333333333333,
             "#9c179e"
            ],
            [
             0.4444444444444444,
             "#bd3786"
            ],
            [
             0.5555555555555556,
             "#d8576b"
            ],
            [
             0.6666666666666666,
             "#ed7953"
            ],
            [
             0.7777777777777778,
             "#fb9f3a"
            ],
            [
             0.8888888888888888,
             "#fdca26"
            ],
            [
             1,
             "#f0f921"
            ]
           ],
           "sequentialminus": [
            [
             0,
             "#0d0887"
            ],
            [
             0.1111111111111111,
             "#46039f"
            ],
            [
             0.2222222222222222,
             "#7201a8"
            ],
            [
             0.3333333333333333,
             "#9c179e"
            ],
            [
             0.4444444444444444,
             "#bd3786"
            ],
            [
             0.5555555555555556,
             "#d8576b"
            ],
            [
             0.6666666666666666,
             "#ed7953"
            ],
            [
             0.7777777777777778,
             "#fb9f3a"
            ],
            [
             0.8888888888888888,
             "#fdca26"
            ],
            [
             1,
             "#f0f921"
            ]
           ]
          },
          "colorway": [
           "#636efa",
           "#EF553B",
           "#00cc96",
           "#ab63fa",
           "#FFA15A",
           "#19d3f3",
           "#FF6692",
           "#B6E880",
           "#FF97FF",
           "#FECB52"
          ],
          "font": {
           "color": "#2a3f5f"
          },
          "geo": {
           "bgcolor": "white",
           "lakecolor": "white",
           "landcolor": "#E5ECF6",
           "showlakes": true,
           "showland": true,
           "subunitcolor": "white"
          },
          "hoverlabel": {
           "align": "left"
          },
          "hovermode": "closest",
          "mapbox": {
           "style": "light"
          },
          "paper_bgcolor": "white",
          "plot_bgcolor": "#E5ECF6",
          "polar": {
           "angularaxis": {
            "gridcolor": "white",
            "linecolor": "white",
            "ticks": ""
           },
           "bgcolor": "#E5ECF6",
           "radialaxis": {
            "gridcolor": "white",
            "linecolor": "white",
            "ticks": ""
           }
          },
          "scene": {
           "xaxis": {
            "backgroundcolor": "#E5ECF6",
            "gridcolor": "white",
            "gridwidth": 2,
            "linecolor": "white",
            "showbackground": true,
            "ticks": "",
            "zerolinecolor": "white"
           },
           "yaxis": {
            "backgroundcolor": "#E5ECF6",
            "gridcolor": "white",
            "gridwidth": 2,
            "linecolor": "white",
            "showbackground": true,
            "ticks": "",
            "zerolinecolor": "white"
           },
           "zaxis": {
            "backgroundcolor": "#E5ECF6",
            "gridcolor": "white",
            "gridwidth": 2,
            "linecolor": "white",
            "showbackground": true,
            "ticks": "",
            "zerolinecolor": "white"
           }
          },
          "shapedefaults": {
           "line": {
            "color": "#2a3f5f"
           }
          },
          "ternary": {
           "aaxis": {
            "gridcolor": "white",
            "linecolor": "white",
            "ticks": ""
           },
           "baxis": {
            "gridcolor": "white",
            "linecolor": "white",
            "ticks": ""
           },
           "bgcolor": "#E5ECF6",
           "caxis": {
            "gridcolor": "white",
            "linecolor": "white",
            "ticks": ""
           }
          },
          "title": {
           "x": 0.05
          },
          "xaxis": {
           "automargin": true,
           "gridcolor": "white",
           "linecolor": "white",
           "ticks": "",
           "title": {
            "standoff": 15
           },
           "zerolinecolor": "white",
           "zerolinewidth": 2
          },
          "yaxis": {
           "automargin": true,
           "gridcolor": "white",
           "linecolor": "white",
           "ticks": "",
           "title": {
            "standoff": 15
           },
           "zerolinecolor": "white",
           "zerolinewidth": 2
          }
         }
        },
        "title": {
         "text": "Sparse probe scores for \"conv pixel contains cheese2\" over resadd layers and K values"
        },
        "xaxis": {
         "anchor": "y",
         "domain": [
          0,
          1
         ],
         "title": {
          "text": "layer"
         }
        },
        "yaxis": {
         "anchor": "x",
         "domain": [
          0,
          1
         ],
         "title": {
          "text": "score"
         }
        }
       }
      },
      "text/html": [
       "<div>                            <div id=\"8144e6e7-8189-4509-8902-a498167aee54\" class=\"plotly-graph-div\" style=\"height:525px; width:100%;\"></div>            <script type=\"text/javascript\">                require([\"plotly\"], function(Plotly) {                    window.PLOTLYENV=window.PLOTLYENV || {};                                    if (document.getElementById(\"8144e6e7-8189-4509-8902-a498167aee54\")) {                    Plotly.newPlot(                        \"8144e6e7-8189-4509-8902-a498167aee54\",                        [{\"hovertemplate\":\"K=1\\u003cbr\\u003elayer=%{x}\\u003cbr\\u003escore=%{y}\\u003cextra\\u003e\\u003c\\u002fextra\\u003e\",\"legendgroup\":\"1\",\"line\":{\"color\":\"#636efa\",\"dash\":\"solid\"},\"marker\":{\"symbol\":\"circle\"},\"mode\":\"lines\",\"name\":\"1\",\"orientation\":\"v\",\"showlegend\":true,\"x\":[\"embedder.block1.conv_in0\",\"embedder.block1.res1.relu1_out\",\"embedder.block1.res1.resadd_out\",\"embedder.block1.res1.relu2_out\",\"embedder.block1.res2.relu1_out\",\"embedder.block1.res2.resadd_out\",\"embedder.block1.res2.relu2_out\",\"embedder.block2.res1.relu1_out\",\"embedder.block2.res1.resadd_out\",\"embedder.block2.res1.relu2_out\",\"embedder.block2.res2.relu1_out\",\"embedder.block2.res2.resadd_out\",\"embedder.block2.res2.relu2_out\",\"embedder.block3.res1.relu1_out\",\"embedder.block3.res1.resadd_out\",\"embedder.block3.res1.relu2_out\",\"embedder.block3.res2.relu1_out\",\"embedder.block3.res2.resadd_out\",\"embedder.block3.res2.relu2_out\"],\"xaxis\":\"x\",\"y\":[0.9,0.9,0.8875,0.7625,0.8875,0.8,0.725,0.7125,0.675,0.7875,0.6375,0.75,0.7,0.7,0.7,0.5875,0.7,0.7,0.675],\"yaxis\":\"y\",\"type\":\"scatter\"},{\"hovertemplate\":\"K=2\\u003cbr\\u003elayer=%{x}\\u003cbr\\u003escore=%{y}\\u003cextra\\u003e\\u003c\\u002fextra\\u003e\",\"legendgroup\":\"2\",\"line\":{\"color\":\"#EF553B\",\"dash\":\"solid\"},\"marker\":{\"symbol\":\"circle\"},\"mode\":\"lines\",\"name\":\"2\",\"orientation\":\"v\",\"showlegend\":true,\"x\":[\"embedder.block1.conv_in0\",\"embedder.block1.res1.relu1_out\",\"embedder.block1.res1.resadd_out\",\"embedder.block1.res1.relu2_out\",\"embedder.block1.res2.relu1_out\",\"embedder.block1.res2.resadd_out\",\"embedder.block1.res2.relu2_out\",\"embedder.block2.res1.relu1_out\",\"embedder.block2.res1.resadd_out\",\"embedder.block2.res1.relu2_out\",\"embedder.block2.res2.relu1_out\",\"embedder.block2.res2.resadd_out\",\"embedder.block2.res2.relu2_out\",\"embedder.block3.res1.relu1_out\",\"embedder.block3.res1.resadd_out\",\"embedder.block3.res1.relu2_out\",\"embedder.block3.res2.relu1_out\",\"embedder.block3.res2.resadd_out\",\"embedder.block3.res2.relu2_out\"],\"xaxis\":\"x\",\"y\":[0.8875,0.95,0.9125,0.7,0.8875,0.9,0.7625,0.7625,0.7125,0.775,0.7375,0.8,0.675,0.675,0.7125,0.675,0.75,0.7375,0.625],\"yaxis\":\"y\",\"type\":\"scatter\"},{\"hovertemplate\":\"K=3\\u003cbr\\u003elayer=%{x}\\u003cbr\\u003escore=%{y}\\u003cextra\\u003e\\u003c\\u002fextra\\u003e\",\"legendgroup\":\"3\",\"line\":{\"color\":\"#00cc96\",\"dash\":\"solid\"},\"marker\":{\"symbol\":\"circle\"},\"mode\":\"lines\",\"name\":\"3\",\"orientation\":\"v\",\"showlegend\":true,\"x\":[\"embedder.block1.conv_in0\",\"embedder.block1.res1.relu1_out\",\"embedder.block1.res1.resadd_out\",\"embedder.block1.res1.relu2_out\",\"embedder.block1.res2.relu1_out\",\"embedder.block1.res2.resadd_out\",\"embedder.block1.res2.relu2_out\",\"embedder.block2.res1.relu1_out\",\"embedder.block2.res1.resadd_out\",\"embedder.block2.res1.relu2_out\",\"embedder.block2.res2.relu1_out\",\"embedder.block2.res2.resadd_out\",\"embedder.block2.res2.relu2_out\",\"embedder.block3.res1.relu1_out\",\"embedder.block3.res1.resadd_out\",\"embedder.block3.res1.relu2_out\",\"embedder.block3.res2.relu1_out\",\"embedder.block3.res2.resadd_out\",\"embedder.block3.res2.relu2_out\"],\"xaxis\":\"x\",\"y\":[0.8875,0.9375,0.925,0.75,0.8875,0.9,0.8125,0.75,0.75,0.7875,0.7125,0.7375,0.5625,0.7125,0.725,0.7375,0.725,0.7,0.6375],\"yaxis\":\"y\",\"type\":\"scatter\"},{\"hovertemplate\":\"K=4\\u003cbr\\u003elayer=%{x}\\u003cbr\\u003escore=%{y}\\u003cextra\\u003e\\u003c\\u002fextra\\u003e\",\"legendgroup\":\"4\",\"line\":{\"color\":\"#ab63fa\",\"dash\":\"solid\"},\"marker\":{\"symbol\":\"circle\"},\"mode\":\"lines\",\"name\":\"4\",\"orientation\":\"v\",\"showlegend\":true,\"x\":[\"embedder.block1.conv_in0\",\"embedder.block1.res1.relu1_out\",\"embedder.block1.res1.resadd_out\",\"embedder.block1.res1.relu2_out\",\"embedder.block1.res2.relu1_out\",\"embedder.block1.res2.resadd_out\",\"embedder.block1.res2.relu2_out\",\"embedder.block2.res1.relu1_out\",\"embedder.block2.res1.resadd_out\",\"embedder.block2.res1.relu2_out\",\"embedder.block2.res2.relu1_out\",\"embedder.block2.res2.resadd_out\",\"embedder.block2.res2.relu2_out\",\"embedder.block3.res1.relu1_out\",\"embedder.block3.res1.resadd_out\",\"embedder.block3.res1.relu2_out\",\"embedder.block3.res2.relu1_out\",\"embedder.block3.res2.resadd_out\",\"embedder.block3.res2.relu2_out\"],\"xaxis\":\"x\",\"y\":[0.8875,0.9625,0.925,0.7625,0.875,0.925,0.7875,0.7625,0.7375,0.7875,0.75,0.7625,0.5375,0.7,0.725,0.725,0.725,0.7,0.6625],\"yaxis\":\"y\",\"type\":\"scatter\"},{\"hovertemplate\":\"K=5\\u003cbr\\u003elayer=%{x}\\u003cbr\\u003escore=%{y}\\u003cextra\\u003e\\u003c\\u002fextra\\u003e\",\"legendgroup\":\"5\",\"line\":{\"color\":\"#FFA15A\",\"dash\":\"solid\"},\"marker\":{\"symbol\":\"circle\"},\"mode\":\"lines\",\"name\":\"5\",\"orientation\":\"v\",\"showlegend\":true,\"x\":[\"embedder.block1.conv_in0\",\"embedder.block1.res1.relu1_out\",\"embedder.block1.res1.resadd_out\",\"embedder.block1.res1.relu2_out\",\"embedder.block1.res2.relu1_out\",\"embedder.block1.res2.resadd_out\",\"embedder.block1.res2.relu2_out\",\"embedder.block2.res1.relu1_out\",\"embedder.block2.res1.resadd_out\",\"embedder.block2.res1.relu2_out\",\"embedder.block2.res2.relu1_out\",\"embedder.block2.res2.resadd_out\",\"embedder.block2.res2.relu2_out\",\"embedder.block3.res1.relu1_out\",\"embedder.block3.res1.resadd_out\",\"embedder.block3.res1.relu2_out\",\"embedder.block3.res2.relu1_out\",\"embedder.block3.res2.resadd_out\",\"embedder.block3.res2.relu2_out\"],\"xaxis\":\"x\",\"y\":[0.8875,0.9625,0.925,0.75,0.8875,0.95,0.775,0.7625,0.7375,0.8,0.75,0.8125,0.6,0.7,0.7125,0.725,0.725,0.6875,0.675],\"yaxis\":\"y\",\"type\":\"scatter\"},{\"hovertemplate\":\"K=6\\u003cbr\\u003elayer=%{x}\\u003cbr\\u003escore=%{y}\\u003cextra\\u003e\\u003c\\u002fextra\\u003e\",\"legendgroup\":\"6\",\"line\":{\"color\":\"#19d3f3\",\"dash\":\"solid\"},\"marker\":{\"symbol\":\"circle\"},\"mode\":\"lines\",\"name\":\"6\",\"orientation\":\"v\",\"showlegend\":true,\"x\":[\"embedder.block1.conv_in0\",\"embedder.block1.res1.relu1_out\",\"embedder.block1.res1.resadd_out\",\"embedder.block1.res1.relu2_out\",\"embedder.block1.res2.relu1_out\",\"embedder.block1.res2.resadd_out\",\"embedder.block1.res2.relu2_out\",\"embedder.block2.res1.relu1_out\",\"embedder.block2.res1.resadd_out\",\"embedder.block2.res1.relu2_out\",\"embedder.block2.res2.relu1_out\",\"embedder.block2.res2.resadd_out\",\"embedder.block2.res2.relu2_out\",\"embedder.block3.res1.relu1_out\",\"embedder.block3.res1.resadd_out\",\"embedder.block3.res1.relu2_out\",\"embedder.block3.res2.relu1_out\",\"embedder.block3.res2.resadd_out\",\"embedder.block3.res2.relu2_out\"],\"xaxis\":\"x\",\"y\":[0.8875,0.975,0.9125,0.75,0.8875,0.95,0.775,0.7875,0.7375,0.8,0.75,0.7875,0.5875,0.7,0.7375,0.6875,0.7375,0.7,0.675],\"yaxis\":\"y\",\"type\":\"scatter\"},{\"hovertemplate\":\"K=7\\u003cbr\\u003elayer=%{x}\\u003cbr\\u003escore=%{y}\\u003cextra\\u003e\\u003c\\u002fextra\\u003e\",\"legendgroup\":\"7\",\"line\":{\"color\":\"#FF6692\",\"dash\":\"solid\"},\"marker\":{\"symbol\":\"circle\"},\"mode\":\"lines\",\"name\":\"7\",\"orientation\":\"v\",\"showlegend\":true,\"x\":[\"embedder.block1.conv_in0\",\"embedder.block1.res1.relu1_out\",\"embedder.block1.res1.resadd_out\",\"embedder.block1.res1.relu2_out\",\"embedder.block1.res2.relu1_out\",\"embedder.block1.res2.resadd_out\",\"embedder.block1.res2.relu2_out\",\"embedder.block2.res1.relu1_out\",\"embedder.block2.res1.resadd_out\",\"embedder.block2.res1.relu2_out\",\"embedder.block2.res2.relu1_out\",\"embedder.block2.res2.resadd_out\",\"embedder.block2.res2.relu2_out\",\"embedder.block3.res1.relu1_out\",\"embedder.block3.res1.resadd_out\",\"embedder.block3.res1.relu2_out\",\"embedder.block3.res2.relu1_out\",\"embedder.block3.res2.resadd_out\",\"embedder.block3.res2.relu2_out\"],\"xaxis\":\"x\",\"y\":[0.8875,0.95,0.9125,0.75,0.9125,0.925,0.7875,0.8,0.725,0.6375,0.7375,0.8,0.6,0.7125,0.6875,0.7,0.75,0.725,0.6875],\"yaxis\":\"y\",\"type\":\"scatter\"},{\"hovertemplate\":\"K=8\\u003cbr\\u003elayer=%{x}\\u003cbr\\u003escore=%{y}\\u003cextra\\u003e\\u003c\\u002fextra\\u003e\",\"legendgroup\":\"8\",\"line\":{\"color\":\"#B6E880\",\"dash\":\"solid\"},\"marker\":{\"symbol\":\"circle\"},\"mode\":\"lines\",\"name\":\"8\",\"orientation\":\"v\",\"showlegend\":true,\"x\":[\"embedder.block1.conv_in0\",\"embedder.block1.res1.relu1_out\",\"embedder.block1.res1.resadd_out\",\"embedder.block1.res1.relu2_out\",\"embedder.block1.res2.relu1_out\",\"embedder.block1.res2.resadd_out\",\"embedder.block1.res2.relu2_out\",\"embedder.block2.res1.relu1_out\",\"embedder.block2.res1.resadd_out\",\"embedder.block2.res1.relu2_out\",\"embedder.block2.res2.relu1_out\",\"embedder.block2.res2.resadd_out\",\"embedder.block2.res2.relu2_out\",\"embedder.block3.res1.relu1_out\",\"embedder.block3.res1.resadd_out\",\"embedder.block3.res1.relu2_out\",\"embedder.block3.res2.relu1_out\",\"embedder.block3.res2.resadd_out\",\"embedder.block3.res2.relu2_out\"],\"xaxis\":\"x\",\"y\":[0.8875,0.95,0.9,0.7375,0.9125,0.9125,0.8,0.8,0.725,0.7125,0.725,0.8,0.625,0.7125,0.725,0.725,0.75,0.6875,0.7],\"yaxis\":\"y\",\"type\":\"scatter\"},{\"hovertemplate\":\"K=9\\u003cbr\\u003elayer=%{x}\\u003cbr\\u003escore=%{y}\\u003cextra\\u003e\\u003c\\u002fextra\\u003e\",\"legendgroup\":\"9\",\"line\":{\"color\":\"#FF97FF\",\"dash\":\"solid\"},\"marker\":{\"symbol\":\"circle\"},\"mode\":\"lines\",\"name\":\"9\",\"orientation\":\"v\",\"showlegend\":true,\"x\":[\"embedder.block1.conv_in0\",\"embedder.block1.res1.relu1_out\",\"embedder.block1.res1.resadd_out\",\"embedder.block1.res1.relu2_out\",\"embedder.block1.res2.relu1_out\",\"embedder.block1.res2.resadd_out\",\"embedder.block1.res2.relu2_out\",\"embedder.block2.res1.relu1_out\",\"embedder.block2.res1.resadd_out\",\"embedder.block2.res1.relu2_out\",\"embedder.block2.res2.relu1_out\",\"embedder.block2.res2.resadd_out\",\"embedder.block2.res2.relu2_out\",\"embedder.block3.res1.relu1_out\",\"embedder.block3.res1.resadd_out\",\"embedder.block3.res1.relu2_out\",\"embedder.block3.res2.relu1_out\",\"embedder.block3.res2.resadd_out\",\"embedder.block3.res2.relu2_out\"],\"xaxis\":\"x\",\"y\":[0.8875,0.95,0.9,0.7625,0.9125,0.9,0.825,0.775,0.725,0.6625,0.725,0.85,0.625,0.725,0.7375,0.7,0.7375,0.7,0.6875],\"yaxis\":\"y\",\"type\":\"scatter\"},{\"hovertemplate\":\"K=10\\u003cbr\\u003elayer=%{x}\\u003cbr\\u003escore=%{y}\\u003cextra\\u003e\\u003c\\u002fextra\\u003e\",\"legendgroup\":\"10\",\"line\":{\"color\":\"#FECB52\",\"dash\":\"solid\"},\"marker\":{\"symbol\":\"circle\"},\"mode\":\"lines\",\"name\":\"10\",\"orientation\":\"v\",\"showlegend\":true,\"x\":[\"embedder.block1.conv_in0\",\"embedder.block1.res1.relu1_out\",\"embedder.block1.res1.resadd_out\",\"embedder.block1.res1.relu2_out\",\"embedder.block1.res2.relu1_out\",\"embedder.block1.res2.resadd_out\",\"embedder.block1.res2.relu2_out\",\"embedder.block2.res1.relu1_out\",\"embedder.block2.res1.resadd_out\",\"embedder.block2.res1.relu2_out\",\"embedder.block2.res2.relu1_out\",\"embedder.block2.res2.resadd_out\",\"embedder.block2.res2.relu2_out\",\"embedder.block3.res1.relu1_out\",\"embedder.block3.res1.resadd_out\",\"embedder.block3.res1.relu2_out\",\"embedder.block3.res2.relu1_out\",\"embedder.block3.res2.resadd_out\",\"embedder.block3.res2.relu2_out\"],\"xaxis\":\"x\",\"y\":[0.8875,0.95,0.9125,0.75,0.9125,0.9125,0.825,0.8125,0.725,0.6625,0.725,0.825,0.6375,0.7,0.7375,0.7375,0.7625,0.6875,0.675],\"yaxis\":\"y\",\"type\":\"scatter\"}],                        {\"template\":{\"data\":{\"histogram2dcontour\":[{\"type\":\"histogram2dcontour\",\"colorbar\":{\"outlinewidth\":0,\"ticks\":\"\"},\"colorscale\":[[0.0,\"#0d0887\"],[0.1111111111111111,\"#46039f\"],[0.2222222222222222,\"#7201a8\"],[0.3333333333333333,\"#9c179e\"],[0.4444444444444444,\"#bd3786\"],[0.5555555555555556,\"#d8576b\"],[0.6666666666666666,\"#ed7953\"],[0.7777777777777778,\"#fb9f3a\"],[0.8888888888888888,\"#fdca26\"],[1.0,\"#f0f921\"]]}],\"choropleth\":[{\"type\":\"choropleth\",\"colorbar\":{\"outlinewidth\":0,\"ticks\":\"\"}}],\"histogram2d\":[{\"type\":\"histogram2d\",\"colorbar\":{\"outlinewidth\":0,\"ticks\":\"\"},\"colorscale\":[[0.0,\"#0d0887\"],[0.1111111111111111,\"#46039f\"],[0.2222222222222222,\"#7201a8\"],[0.3333333333333333,\"#9c179e\"],[0.4444444444444444,\"#bd3786\"],[0.5555555555555556,\"#d8576b\"],[0.6666666666666666,\"#ed7953\"],[0.7777777777777778,\"#fb9f3a\"],[0.8888888888888888,\"#fdca26\"],[1.0,\"#f0f921\"]]}],\"heatmap\":[{\"type\":\"heatmap\",\"colorbar\":{\"outlinewidth\":0,\"ticks\":\"\"},\"colorscale\":[[0.0,\"#0d0887\"],[0.1111111111111111,\"#46039f\"],[0.2222222222222222,\"#7201a8\"],[0.3333333333333333,\"#9c179e\"],[0.4444444444444444,\"#bd3786\"],[0.5555555555555556,\"#d8576b\"],[0.6666666666666666,\"#ed7953\"],[0.7777777777777778,\"#fb9f3a\"],[0.8888888888888888,\"#fdca26\"],[1.0,\"#f0f921\"]]}],\"heatmapgl\":[{\"type\":\"heatmapgl\",\"colorbar\":{\"outlinewidth\":0,\"ticks\":\"\"},\"colorscale\":[[0.0,\"#0d0887\"],[0.1111111111111111,\"#46039f\"],[0.2222222222222222,\"#7201a8\"],[0.3333333333333333,\"#9c179e\"],[0.4444444444444444,\"#bd3786\"],[0.5555555555555556,\"#d8576b\"],[0.6666666666666666,\"#ed7953\"],[0.7777777777777778,\"#fb9f3a\"],[0.8888888888888888,\"#fdca26\"],[1.0,\"#f0f921\"]]}],\"contourcarpet\":[{\"type\":\"contourcarpet\",\"colorbar\":{\"outlinewidth\":0,\"ticks\":\"\"}}],\"contour\":[{\"type\":\"contour\",\"colorbar\":{\"outlinewidth\":0,\"ticks\":\"\"},\"colorscale\":[[0.0,\"#0d0887\"],[0.1111111111111111,\"#46039f\"],[0.2222222222222222,\"#7201a8\"],[0.3333333333333333,\"#9c179e\"],[0.4444444444444444,\"#bd3786\"],[0.5555555555555556,\"#d8576b\"],[0.6666666666666666,\"#ed7953\"],[0.7777777777777778,\"#fb9f3a\"],[0.8888888888888888,\"#fdca26\"],[1.0,\"#f0f921\"]]}],\"surface\":[{\"type\":\"surface\",\"colorbar\":{\"outlinewidth\":0,\"ticks\":\"\"},\"colorscale\":[[0.0,\"#0d0887\"],[0.1111111111111111,\"#46039f\"],[0.2222222222222222,\"#7201a8\"],[0.3333333333333333,\"#9c179e\"],[0.4444444444444444,\"#bd3786\"],[0.5555555555555556,\"#d8576b\"],[0.6666666666666666,\"#ed7953\"],[0.7777777777777778,\"#fb9f3a\"],[0.8888888888888888,\"#fdca26\"],[1.0,\"#f0f921\"]]}],\"mesh3d\":[{\"type\":\"mesh3d\",\"colorbar\":{\"outlinewidth\":0,\"ticks\":\"\"}}],\"scatter\":[{\"fillpattern\":{\"fillmode\":\"overlay\",\"size\":10,\"solidity\":0.2},\"type\":\"scatter\"}],\"parcoords\":[{\"type\":\"parcoords\",\"line\":{\"colorbar\":{\"outlinewidth\":0,\"ticks\":\"\"}}}],\"scatterpolargl\":[{\"type\":\"scatterpolargl\",\"marker\":{\"colorbar\":{\"outlinewidth\":0,\"ticks\":\"\"}}}],\"bar\":[{\"error_x\":{\"color\":\"#2a3f5f\"},\"error_y\":{\"color\":\"#2a3f5f\"},\"marker\":{\"line\":{\"color\":\"#E5ECF6\",\"width\":0.5},\"pattern\":{\"fillmode\":\"overlay\",\"size\":10,\"solidity\":0.2}},\"type\":\"bar\"}],\"scattergeo\":[{\"type\":\"scattergeo\",\"marker\":{\"colorbar\":{\"outlinewidth\":0,\"ticks\":\"\"}}}],\"scatterpolar\":[{\"type\":\"scatterpolar\",\"marker\":{\"colorbar\":{\"outlinewidth\":0,\"ticks\":\"\"}}}],\"histogram\":[{\"marker\":{\"pattern\":{\"fillmode\":\"overlay\",\"size\":10,\"solidity\":0.2}},\"type\":\"histogram\"}],\"scattergl\":[{\"type\":\"scattergl\",\"marker\":{\"colorbar\":{\"outlinewidth\":0,\"ticks\":\"\"}}}],\"scatter3d\":[{\"type\":\"scatter3d\",\"line\":{\"colorbar\":{\"outlinewidth\":0,\"ticks\":\"\"}},\"marker\":{\"colorbar\":{\"outlinewidth\":0,\"ticks\":\"\"}}}],\"scattermapbox\":[{\"type\":\"scattermapbox\",\"marker\":{\"colorbar\":{\"outlinewidth\":0,\"ticks\":\"\"}}}],\"scatterternary\":[{\"type\":\"scatterternary\",\"marker\":{\"colorbar\":{\"outlinewidth\":0,\"ticks\":\"\"}}}],\"scattercarpet\":[{\"type\":\"scattercarpet\",\"marker\":{\"colorbar\":{\"outlinewidth\":0,\"ticks\":\"\"}}}],\"carpet\":[{\"aaxis\":{\"endlinecolor\":\"#2a3f5f\",\"gridcolor\":\"white\",\"linecolor\":\"white\",\"minorgridcolor\":\"white\",\"startlinecolor\":\"#2a3f5f\"},\"baxis\":{\"endlinecolor\":\"#2a3f5f\",\"gridcolor\":\"white\",\"linecolor\":\"white\",\"minorgridcolor\":\"white\",\"startlinecolor\":\"#2a3f5f\"},\"type\":\"carpet\"}],\"table\":[{\"cells\":{\"fill\":{\"color\":\"#EBF0F8\"},\"line\":{\"color\":\"white\"}},\"header\":{\"fill\":{\"color\":\"#C8D4E3\"},\"line\":{\"color\":\"white\"}},\"type\":\"table\"}],\"barpolar\":[{\"marker\":{\"line\":{\"color\":\"#E5ECF6\",\"width\":0.5},\"pattern\":{\"fillmode\":\"overlay\",\"size\":10,\"solidity\":0.2}},\"type\":\"barpolar\"}],\"pie\":[{\"automargin\":true,\"type\":\"pie\"}]},\"layout\":{\"autotypenumbers\":\"strict\",\"colorway\":[\"#636efa\",\"#EF553B\",\"#00cc96\",\"#ab63fa\",\"#FFA15A\",\"#19d3f3\",\"#FF6692\",\"#B6E880\",\"#FF97FF\",\"#FECB52\"],\"font\":{\"color\":\"#2a3f5f\"},\"hovermode\":\"closest\",\"hoverlabel\":{\"align\":\"left\"},\"paper_bgcolor\":\"white\",\"plot_bgcolor\":\"#E5ECF6\",\"polar\":{\"bgcolor\":\"#E5ECF6\",\"angularaxis\":{\"gridcolor\":\"white\",\"linecolor\":\"white\",\"ticks\":\"\"},\"radialaxis\":{\"gridcolor\":\"white\",\"linecolor\":\"white\",\"ticks\":\"\"}},\"ternary\":{\"bgcolor\":\"#E5ECF6\",\"aaxis\":{\"gridcolor\":\"white\",\"linecolor\":\"white\",\"ticks\":\"\"},\"baxis\":{\"gridcolor\":\"white\",\"linecolor\":\"white\",\"ticks\":\"\"},\"caxis\":{\"gridcolor\":\"white\",\"linecolor\":\"white\",\"ticks\":\"\"}},\"coloraxis\":{\"colorbar\":{\"outlinewidth\":0,\"ticks\":\"\"}},\"colorscale\":{\"sequential\":[[0.0,\"#0d0887\"],[0.1111111111111111,\"#46039f\"],[0.2222222222222222,\"#7201a8\"],[0.3333333333333333,\"#9c179e\"],[0.4444444444444444,\"#bd3786\"],[0.5555555555555556,\"#d8576b\"],[0.6666666666666666,\"#ed7953\"],[0.7777777777777778,\"#fb9f3a\"],[0.8888888888888888,\"#fdca26\"],[1.0,\"#f0f921\"]],\"sequentialminus\":[[0.0,\"#0d0887\"],[0.1111111111111111,\"#46039f\"],[0.2222222222222222,\"#7201a8\"],[0.3333333333333333,\"#9c179e\"],[0.4444444444444444,\"#bd3786\"],[0.5555555555555556,\"#d8576b\"],[0.6666666666666666,\"#ed7953\"],[0.7777777777777778,\"#fb9f3a\"],[0.8888888888888888,\"#fdca26\"],[1.0,\"#f0f921\"]],\"diverging\":[[0,\"#8e0152\"],[0.1,\"#c51b7d\"],[0.2,\"#de77ae\"],[0.3,\"#f1b6da\"],[0.4,\"#fde0ef\"],[0.5,\"#f7f7f7\"],[0.6,\"#e6f5d0\"],[0.7,\"#b8e186\"],[0.8,\"#7fbc41\"],[0.9,\"#4d9221\"],[1,\"#276419\"]]},\"xaxis\":{\"gridcolor\":\"white\",\"linecolor\":\"white\",\"ticks\":\"\",\"title\":{\"standoff\":15},\"zerolinecolor\":\"white\",\"automargin\":true,\"zerolinewidth\":2},\"yaxis\":{\"gridcolor\":\"white\",\"linecolor\":\"white\",\"ticks\":\"\",\"title\":{\"standoff\":15},\"zerolinecolor\":\"white\",\"automargin\":true,\"zerolinewidth\":2},\"scene\":{\"xaxis\":{\"backgroundcolor\":\"#E5ECF6\",\"gridcolor\":\"white\",\"linecolor\":\"white\",\"showbackground\":true,\"ticks\":\"\",\"zerolinecolor\":\"white\",\"gridwidth\":2},\"yaxis\":{\"backgroundcolor\":\"#E5ECF6\",\"gridcolor\":\"white\",\"linecolor\":\"white\",\"showbackground\":true,\"ticks\":\"\",\"zerolinecolor\":\"white\",\"gridwidth\":2},\"zaxis\":{\"backgroundcolor\":\"#E5ECF6\",\"gridcolor\":\"white\",\"linecolor\":\"white\",\"showbackground\":true,\"ticks\":\"\",\"zerolinecolor\":\"white\",\"gridwidth\":2}},\"shapedefaults\":{\"line\":{\"color\":\"#2a3f5f\"}},\"annotationdefaults\":{\"arrowcolor\":\"#2a3f5f\",\"arrowhead\":0,\"arrowwidth\":1},\"geo\":{\"bgcolor\":\"white\",\"landcolor\":\"#E5ECF6\",\"subunitcolor\":\"white\",\"showland\":true,\"showlakes\":true,\"lakecolor\":\"white\"},\"title\":{\"x\":0.05},\"mapbox\":{\"style\":\"light\"}}},\"xaxis\":{\"anchor\":\"y\",\"domain\":[0.0,1.0],\"title\":{\"text\":\"layer\"}},\"yaxis\":{\"anchor\":\"x\",\"domain\":[0.0,1.0],\"title\":{\"text\":\"score\"}},\"legend\":{\"title\":{\"text\":\"K\"},\"tracegroupgap\":0},\"title\":{\"text\":\"Sparse probe scores for \\\"conv pixel contains cheese2\\\" over resadd layers and K values\"},\"shapes\":[{\"line\":{\"dash\":\"dot\"},\"type\":\"line\",\"x0\":0,\"x1\":1,\"xref\":\"x domain\",\"y0\":1.0,\"y1\":1.0,\"yref\":\"y\"},{\"line\":{\"dash\":\"dot\"},\"type\":\"line\",\"x0\":0,\"x1\":1,\"xref\":\"x domain\",\"y0\":0.5,\"y1\":0.5,\"yref\":\"y\"}],\"annotations\":[{\"showarrow\":false,\"text\":\"perfect\",\"x\":1,\"xanchor\":\"right\",\"xref\":\"x domain\",\"y\":1.0,\"yanchor\":\"top\",\"yref\":\"y\"},{\"showarrow\":false,\"text\":\"baseline\",\"x\":1,\"xanchor\":\"right\",\"xref\":\"x domain\",\"y\":0.5,\"yanchor\":\"top\",\"yref\":\"y\"}]},                        {\"responsive\": true}                    ).then(function(){\n",
       "                            \n",
       "var gd = document.getElementById('8144e6e7-8189-4509-8902-a498167aee54');\n",
       "var x = new MutationObserver(function (mutations, observer) {{\n",
       "        var display = window.getComputedStyle(gd).display;\n",
       "        if (!display || display === 'none') {{\n",
       "            console.log([gd, 'removed!']);\n",
       "            Plotly.purge(gd);\n",
       "            observer.disconnect();\n",
       "        }}\n",
       "}});\n",
       "\n",
       "// Listen for the removal of the full notebook cells\n",
       "var notebookContainer = gd.closest('#notebook-container');\n",
       "if (notebookContainer) {{\n",
       "    x.observe(notebookContainer, {childList: true});\n",
       "}}\n",
       "\n",
       "// Listen for the clearing of the current output cell\n",
       "var outputEl = gd.closest('.output');\n",
       "if (outputEl) {{\n",
       "    x.observe(outputEl, {childList: true});\n",
       "}}\n",
       "\n",
       "                        })                };                });            </script>        </div>"
      ]
     },
     "metadata": {},
     "output_type": "display_data"
    },
    {
     "name": "stderr",
     "output_type": "stream",
     "text": [
      "100%|██████████| 19/19 [00:02<00:00,  8.08it/s]\n"
     ]
    },
    {
     "data": {
      "application/vnd.plotly.v1+json": {
       "config": {
        "plotlyServerURL": "https://plot.ly"
       },
       "data": [
        {
         "hovertemplate": "K=1<br>layer=%{x}<br>score=%{y}<extra></extra>",
         "legendgroup": "1",
         "line": {
          "color": "#636efa",
          "dash": "solid"
         },
         "marker": {
          "symbol": "circle"
         },
         "mode": "lines",
         "name": "1",
         "orientation": "v",
         "showlegend": true,
         "type": "scatter",
         "x": [
          "embedder.block1.conv_in0",
          "embedder.block1.res1.relu1_out",
          "embedder.block1.res1.resadd_out",
          "embedder.block1.res1.relu2_out",
          "embedder.block1.res2.relu1_out",
          "embedder.block1.res2.resadd_out",
          "embedder.block1.res2.relu2_out",
          "embedder.block2.res1.relu1_out",
          "embedder.block2.res1.resadd_out",
          "embedder.block2.res1.relu2_out",
          "embedder.block2.res2.relu1_out",
          "embedder.block2.res2.resadd_out",
          "embedder.block2.res2.relu2_out",
          "embedder.block3.res1.relu1_out",
          "embedder.block3.res1.resadd_out",
          "embedder.block3.res1.relu2_out",
          "embedder.block3.res2.relu1_out",
          "embedder.block3.res2.resadd_out",
          "embedder.block3.res2.relu2_out"
         ],
         "xaxis": "x",
         "y": [
          0.7125,
          1,
          1,
          0.9875,
          0.975,
          1,
          1,
          1,
          1,
          0.9375,
          1,
          1,
          0.8875,
          0.975,
          0.9625,
          0.8,
          0.925,
          0.8625,
          0.925
         ],
         "yaxis": "y"
        },
        {
         "hovertemplate": "K=2<br>layer=%{x}<br>score=%{y}<extra></extra>",
         "legendgroup": "2",
         "line": {
          "color": "#EF553B",
          "dash": "solid"
         },
         "marker": {
          "symbol": "circle"
         },
         "mode": "lines",
         "name": "2",
         "orientation": "v",
         "showlegend": true,
         "type": "scatter",
         "x": [
          "embedder.block1.conv_in0",
          "embedder.block1.res1.relu1_out",
          "embedder.block1.res1.resadd_out",
          "embedder.block1.res1.relu2_out",
          "embedder.block1.res2.relu1_out",
          "embedder.block1.res2.resadd_out",
          "embedder.block1.res2.relu2_out",
          "embedder.block2.res1.relu1_out",
          "embedder.block2.res1.resadd_out",
          "embedder.block2.res1.relu2_out",
          "embedder.block2.res2.relu1_out",
          "embedder.block2.res2.resadd_out",
          "embedder.block2.res2.relu2_out",
          "embedder.block3.res1.relu1_out",
          "embedder.block3.res1.resadd_out",
          "embedder.block3.res1.relu2_out",
          "embedder.block3.res2.relu1_out",
          "embedder.block3.res2.resadd_out",
          "embedder.block3.res2.relu2_out"
         ],
         "xaxis": "x",
         "y": [
          0.8375,
          0.9875,
          0.9875,
          0.9875,
          0.9875,
          1,
          0.9875,
          1,
          1,
          0.9375,
          1,
          0.9875,
          0.9,
          0.975,
          0.975,
          0.825,
          0.975,
          0.8375,
          0.8875
         ],
         "yaxis": "y"
        },
        {
         "hovertemplate": "K=3<br>layer=%{x}<br>score=%{y}<extra></extra>",
         "legendgroup": "3",
         "line": {
          "color": "#00cc96",
          "dash": "solid"
         },
         "marker": {
          "symbol": "circle"
         },
         "mode": "lines",
         "name": "3",
         "orientation": "v",
         "showlegend": true,
         "type": "scatter",
         "x": [
          "embedder.block1.conv_in0",
          "embedder.block1.res1.relu1_out",
          "embedder.block1.res1.resadd_out",
          "embedder.block1.res1.relu2_out",
          "embedder.block1.res2.relu1_out",
          "embedder.block1.res2.resadd_out",
          "embedder.block1.res2.relu2_out",
          "embedder.block2.res1.relu1_out",
          "embedder.block2.res1.resadd_out",
          "embedder.block2.res1.relu2_out",
          "embedder.block2.res2.relu1_out",
          "embedder.block2.res2.resadd_out",
          "embedder.block2.res2.relu2_out",
          "embedder.block3.res1.relu1_out",
          "embedder.block3.res1.resadd_out",
          "embedder.block3.res1.relu2_out",
          "embedder.block3.res2.relu1_out",
          "embedder.block3.res2.resadd_out",
          "embedder.block3.res2.relu2_out"
         ],
         "xaxis": "x",
         "y": [
          0.85,
          0.9875,
          1,
          0.9875,
          1,
          0.9875,
          0.9875,
          1,
          1,
          0.95,
          1,
          0.9875,
          0.9,
          0.975,
          0.975,
          0.85,
          0.975,
          0.8375,
          0.8875
         ],
         "yaxis": "y"
        },
        {
         "hovertemplate": "K=4<br>layer=%{x}<br>score=%{y}<extra></extra>",
         "legendgroup": "4",
         "line": {
          "color": "#ab63fa",
          "dash": "solid"
         },
         "marker": {
          "symbol": "circle"
         },
         "mode": "lines",
         "name": "4",
         "orientation": "v",
         "showlegend": true,
         "type": "scatter",
         "x": [
          "embedder.block1.conv_in0",
          "embedder.block1.res1.relu1_out",
          "embedder.block1.res1.resadd_out",
          "embedder.block1.res1.relu2_out",
          "embedder.block1.res2.relu1_out",
          "embedder.block1.res2.resadd_out",
          "embedder.block1.res2.relu2_out",
          "embedder.block2.res1.relu1_out",
          "embedder.block2.res1.resadd_out",
          "embedder.block2.res1.relu2_out",
          "embedder.block2.res2.relu1_out",
          "embedder.block2.res2.resadd_out",
          "embedder.block2.res2.relu2_out",
          "embedder.block3.res1.relu1_out",
          "embedder.block3.res1.resadd_out",
          "embedder.block3.res1.relu2_out",
          "embedder.block3.res2.relu1_out",
          "embedder.block3.res2.resadd_out",
          "embedder.block3.res2.relu2_out"
         ],
         "xaxis": "x",
         "y": [
          0.85,
          0.9875,
          1,
          1,
          1,
          0.9875,
          0.9875,
          1,
          1,
          0.9625,
          1,
          0.9875,
          0.9,
          0.975,
          0.9875,
          0.85,
          0.975,
          0.8375,
          0.8875
         ],
         "yaxis": "y"
        },
        {
         "hovertemplate": "K=5<br>layer=%{x}<br>score=%{y}<extra></extra>",
         "legendgroup": "5",
         "line": {
          "color": "#FFA15A",
          "dash": "solid"
         },
         "marker": {
          "symbol": "circle"
         },
         "mode": "lines",
         "name": "5",
         "orientation": "v",
         "showlegend": true,
         "type": "scatter",
         "x": [
          "embedder.block1.conv_in0",
          "embedder.block1.res1.relu1_out",
          "embedder.block1.res1.resadd_out",
          "embedder.block1.res1.relu2_out",
          "embedder.block1.res2.relu1_out",
          "embedder.block1.res2.resadd_out",
          "embedder.block1.res2.relu2_out",
          "embedder.block2.res1.relu1_out",
          "embedder.block2.res1.resadd_out",
          "embedder.block2.res1.relu2_out",
          "embedder.block2.res2.relu1_out",
          "embedder.block2.res2.resadd_out",
          "embedder.block2.res2.relu2_out",
          "embedder.block3.res1.relu1_out",
          "embedder.block3.res1.resadd_out",
          "embedder.block3.res1.relu2_out",
          "embedder.block3.res2.relu1_out",
          "embedder.block3.res2.resadd_out",
          "embedder.block3.res2.relu2_out"
         ],
         "xaxis": "x",
         "y": [
          0.85,
          0.9875,
          1,
          1,
          1,
          1,
          0.9875,
          1,
          1,
          0.95,
          1,
          1,
          0.9125,
          0.975,
          0.9875,
          0.8625,
          0.975,
          0.8375,
          0.9375
         ],
         "yaxis": "y"
        },
        {
         "hovertemplate": "K=6<br>layer=%{x}<br>score=%{y}<extra></extra>",
         "legendgroup": "6",
         "line": {
          "color": "#19d3f3",
          "dash": "solid"
         },
         "marker": {
          "symbol": "circle"
         },
         "mode": "lines",
         "name": "6",
         "orientation": "v",
         "showlegend": true,
         "type": "scatter",
         "x": [
          "embedder.block1.conv_in0",
          "embedder.block1.res1.relu1_out",
          "embedder.block1.res1.resadd_out",
          "embedder.block1.res1.relu2_out",
          "embedder.block1.res2.relu1_out",
          "embedder.block1.res2.resadd_out",
          "embedder.block1.res2.relu2_out",
          "embedder.block2.res1.relu1_out",
          "embedder.block2.res1.resadd_out",
          "embedder.block2.res1.relu2_out",
          "embedder.block2.res2.relu1_out",
          "embedder.block2.res2.resadd_out",
          "embedder.block2.res2.relu2_out",
          "embedder.block3.res1.relu1_out",
          "embedder.block3.res1.resadd_out",
          "embedder.block3.res1.relu2_out",
          "embedder.block3.res2.relu1_out",
          "embedder.block3.res2.resadd_out",
          "embedder.block3.res2.relu2_out"
         ],
         "xaxis": "x",
         "y": [
          0.85,
          0.9875,
          0.9875,
          1,
          1,
          1,
          0.9875,
          1,
          1,
          0.9625,
          1,
          1,
          0.9375,
          0.975,
          0.975,
          0.8625,
          0.9875,
          0.8375,
          0.925
         ],
         "yaxis": "y"
        },
        {
         "hovertemplate": "K=7<br>layer=%{x}<br>score=%{y}<extra></extra>",
         "legendgroup": "7",
         "line": {
          "color": "#FF6692",
          "dash": "solid"
         },
         "marker": {
          "symbol": "circle"
         },
         "mode": "lines",
         "name": "7",
         "orientation": "v",
         "showlegend": true,
         "type": "scatter",
         "x": [
          "embedder.block1.conv_in0",
          "embedder.block1.res1.relu1_out",
          "embedder.block1.res1.resadd_out",
          "embedder.block1.res1.relu2_out",
          "embedder.block1.res2.relu1_out",
          "embedder.block1.res2.resadd_out",
          "embedder.block1.res2.relu2_out",
          "embedder.block2.res1.relu1_out",
          "embedder.block2.res1.resadd_out",
          "embedder.block2.res1.relu2_out",
          "embedder.block2.res2.relu1_out",
          "embedder.block2.res2.resadd_out",
          "embedder.block2.res2.relu2_out",
          "embedder.block3.res1.relu1_out",
          "embedder.block3.res1.resadd_out",
          "embedder.block3.res1.relu2_out",
          "embedder.block3.res2.relu1_out",
          "embedder.block3.res2.resadd_out",
          "embedder.block3.res2.relu2_out"
         ],
         "xaxis": "x",
         "y": [
          0.85,
          0.9875,
          0.9875,
          1,
          1,
          0.9875,
          0.9875,
          1,
          1,
          0.975,
          1,
          1,
          0.9375,
          0.975,
          0.9625,
          0.875,
          0.9875,
          0.8625,
          0.9625
         ],
         "yaxis": "y"
        },
        {
         "hovertemplate": "K=8<br>layer=%{x}<br>score=%{y}<extra></extra>",
         "legendgroup": "8",
         "line": {
          "color": "#B6E880",
          "dash": "solid"
         },
         "marker": {
          "symbol": "circle"
         },
         "mode": "lines",
         "name": "8",
         "orientation": "v",
         "showlegend": true,
         "type": "scatter",
         "x": [
          "embedder.block1.conv_in0",
          "embedder.block1.res1.relu1_out",
          "embedder.block1.res1.resadd_out",
          "embedder.block1.res1.relu2_out",
          "embedder.block1.res2.relu1_out",
          "embedder.block1.res2.resadd_out",
          "embedder.block1.res2.relu2_out",
          "embedder.block2.res1.relu1_out",
          "embedder.block2.res1.resadd_out",
          "embedder.block2.res1.relu2_out",
          "embedder.block2.res2.relu1_out",
          "embedder.block2.res2.resadd_out",
          "embedder.block2.res2.relu2_out",
          "embedder.block3.res1.relu1_out",
          "embedder.block3.res1.resadd_out",
          "embedder.block3.res1.relu2_out",
          "embedder.block3.res2.relu1_out",
          "embedder.block3.res2.resadd_out",
          "embedder.block3.res2.relu2_out"
         ],
         "xaxis": "x",
         "y": [
          0.85,
          0.9875,
          1,
          1,
          1,
          0.9875,
          0.9875,
          1,
          1,
          0.975,
          1,
          1,
          0.9125,
          0.975,
          0.975,
          0.925,
          0.9875,
          0.875,
          0.9625
         ],
         "yaxis": "y"
        },
        {
         "hovertemplate": "K=9<br>layer=%{x}<br>score=%{y}<extra></extra>",
         "legendgroup": "9",
         "line": {
          "color": "#FF97FF",
          "dash": "solid"
         },
         "marker": {
          "symbol": "circle"
         },
         "mode": "lines",
         "name": "9",
         "orientation": "v",
         "showlegend": true,
         "type": "scatter",
         "x": [
          "embedder.block1.conv_in0",
          "embedder.block1.res1.relu1_out",
          "embedder.block1.res1.resadd_out",
          "embedder.block1.res1.relu2_out",
          "embedder.block1.res2.relu1_out",
          "embedder.block1.res2.resadd_out",
          "embedder.block1.res2.relu2_out",
          "embedder.block2.res1.relu1_out",
          "embedder.block2.res1.resadd_out",
          "embedder.block2.res1.relu2_out",
          "embedder.block2.res2.relu1_out",
          "embedder.block2.res2.resadd_out",
          "embedder.block2.res2.relu2_out",
          "embedder.block3.res1.relu1_out",
          "embedder.block3.res1.resadd_out",
          "embedder.block3.res1.relu2_out",
          "embedder.block3.res2.relu1_out",
          "embedder.block3.res2.resadd_out",
          "embedder.block3.res2.relu2_out"
         ],
         "xaxis": "x",
         "y": [
          0.85,
          0.975,
          0.9875,
          1,
          1,
          0.9875,
          0.9875,
          1,
          1,
          0.975,
          1,
          1,
          0.9125,
          0.975,
          0.9625,
          0.925,
          0.975,
          0.875,
          0.9625
         ],
         "yaxis": "y"
        },
        {
         "hovertemplate": "K=10<br>layer=%{x}<br>score=%{y}<extra></extra>",
         "legendgroup": "10",
         "line": {
          "color": "#FECB52",
          "dash": "solid"
         },
         "marker": {
          "symbol": "circle"
         },
         "mode": "lines",
         "name": "10",
         "orientation": "v",
         "showlegend": true,
         "type": "scatter",
         "x": [
          "embedder.block1.conv_in0",
          "embedder.block1.res1.relu1_out",
          "embedder.block1.res1.resadd_out",
          "embedder.block1.res1.relu2_out",
          "embedder.block1.res2.relu1_out",
          "embedder.block1.res2.resadd_out",
          "embedder.block1.res2.relu2_out",
          "embedder.block2.res1.relu1_out",
          "embedder.block2.res1.resadd_out",
          "embedder.block2.res1.relu2_out",
          "embedder.block2.res2.relu1_out",
          "embedder.block2.res2.resadd_out",
          "embedder.block2.res2.relu2_out",
          "embedder.block3.res1.relu1_out",
          "embedder.block3.res1.resadd_out",
          "embedder.block3.res1.relu2_out",
          "embedder.block3.res2.relu1_out",
          "embedder.block3.res2.resadd_out",
          "embedder.block3.res2.relu2_out"
         ],
         "xaxis": "x",
         "y": [
          0.85,
          0.9875,
          0.9875,
          1,
          1,
          1,
          1,
          1,
          1,
          1,
          1,
          1,
          0.925,
          0.975,
          0.9875,
          0.9125,
          0.975,
          0.9,
          0.95
         ],
         "yaxis": "y"
        }
       ],
       "layout": {
        "annotations": [
         {
          "showarrow": false,
          "text": "perfect",
          "x": 1,
          "xanchor": "right",
          "xref": "x domain",
          "y": 1,
          "yanchor": "top",
          "yref": "y"
         },
         {
          "showarrow": false,
          "text": "baseline",
          "x": 1,
          "xanchor": "right",
          "xref": "x domain",
          "y": 0.5,
          "yanchor": "top",
          "yref": "y"
         }
        ],
        "legend": {
         "title": {
          "text": "K"
         },
         "tracegroupgap": 0
        },
        "shapes": [
         {
          "line": {
           "dash": "dot"
          },
          "type": "line",
          "x0": 0,
          "x1": 1,
          "xref": "x domain",
          "y0": 1,
          "y1": 1,
          "yref": "y"
         },
         {
          "line": {
           "dash": "dot"
          },
          "type": "line",
          "x0": 0,
          "x1": 1,
          "xref": "x domain",
          "y0": 0.5,
          "y1": 0.5,
          "yref": "y"
         }
        ],
        "template": {
         "data": {
          "bar": [
           {
            "error_x": {
             "color": "#2a3f5f"
            },
            "error_y": {
             "color": "#2a3f5f"
            },
            "marker": {
             "line": {
              "color": "#E5ECF6",
              "width": 0.5
             },
             "pattern": {
              "fillmode": "overlay",
              "size": 10,
              "solidity": 0.2
             }
            },
            "type": "bar"
           }
          ],
          "barpolar": [
           {
            "marker": {
             "line": {
              "color": "#E5ECF6",
              "width": 0.5
             },
             "pattern": {
              "fillmode": "overlay",
              "size": 10,
              "solidity": 0.2
             }
            },
            "type": "barpolar"
           }
          ],
          "carpet": [
           {
            "aaxis": {
             "endlinecolor": "#2a3f5f",
             "gridcolor": "white",
             "linecolor": "white",
             "minorgridcolor": "white",
             "startlinecolor": "#2a3f5f"
            },
            "baxis": {
             "endlinecolor": "#2a3f5f",
             "gridcolor": "white",
             "linecolor": "white",
             "minorgridcolor": "white",
             "startlinecolor": "#2a3f5f"
            },
            "type": "carpet"
           }
          ],
          "choropleth": [
           {
            "colorbar": {
             "outlinewidth": 0,
             "ticks": ""
            },
            "type": "choropleth"
           }
          ],
          "contour": [
           {
            "colorbar": {
             "outlinewidth": 0,
             "ticks": ""
            },
            "colorscale": [
             [
              0,
              "#0d0887"
             ],
             [
              0.1111111111111111,
              "#46039f"
             ],
             [
              0.2222222222222222,
              "#7201a8"
             ],
             [
              0.3333333333333333,
              "#9c179e"
             ],
             [
              0.4444444444444444,
              "#bd3786"
             ],
             [
              0.5555555555555556,
              "#d8576b"
             ],
             [
              0.6666666666666666,
              "#ed7953"
             ],
             [
              0.7777777777777778,
              "#fb9f3a"
             ],
             [
              0.8888888888888888,
              "#fdca26"
             ],
             [
              1,
              "#f0f921"
             ]
            ],
            "type": "contour"
           }
          ],
          "contourcarpet": [
           {
            "colorbar": {
             "outlinewidth": 0,
             "ticks": ""
            },
            "type": "contourcarpet"
           }
          ],
          "heatmap": [
           {
            "colorbar": {
             "outlinewidth": 0,
             "ticks": ""
            },
            "colorscale": [
             [
              0,
              "#0d0887"
             ],
             [
              0.1111111111111111,
              "#46039f"
             ],
             [
              0.2222222222222222,
              "#7201a8"
             ],
             [
              0.3333333333333333,
              "#9c179e"
             ],
             [
              0.4444444444444444,
              "#bd3786"
             ],
             [
              0.5555555555555556,
              "#d8576b"
             ],
             [
              0.6666666666666666,
              "#ed7953"
             ],
             [
              0.7777777777777778,
              "#fb9f3a"
             ],
             [
              0.8888888888888888,
              "#fdca26"
             ],
             [
              1,
              "#f0f921"
             ]
            ],
            "type": "heatmap"
           }
          ],
          "heatmapgl": [
           {
            "colorbar": {
             "outlinewidth": 0,
             "ticks": ""
            },
            "colorscale": [
             [
              0,
              "#0d0887"
             ],
             [
              0.1111111111111111,
              "#46039f"
             ],
             [
              0.2222222222222222,
              "#7201a8"
             ],
             [
              0.3333333333333333,
              "#9c179e"
             ],
             [
              0.4444444444444444,
              "#bd3786"
             ],
             [
              0.5555555555555556,
              "#d8576b"
             ],
             [
              0.6666666666666666,
              "#ed7953"
             ],
             [
              0.7777777777777778,
              "#fb9f3a"
             ],
             [
              0.8888888888888888,
              "#fdca26"
             ],
             [
              1,
              "#f0f921"
             ]
            ],
            "type": "heatmapgl"
           }
          ],
          "histogram": [
           {
            "marker": {
             "pattern": {
              "fillmode": "overlay",
              "size": 10,
              "solidity": 0.2
             }
            },
            "type": "histogram"
           }
          ],
          "histogram2d": [
           {
            "colorbar": {
             "outlinewidth": 0,
             "ticks": ""
            },
            "colorscale": [
             [
              0,
              "#0d0887"
             ],
             [
              0.1111111111111111,
              "#46039f"
             ],
             [
              0.2222222222222222,
              "#7201a8"
             ],
             [
              0.3333333333333333,
              "#9c179e"
             ],
             [
              0.4444444444444444,
              "#bd3786"
             ],
             [
              0.5555555555555556,
              "#d8576b"
             ],
             [
              0.6666666666666666,
              "#ed7953"
             ],
             [
              0.7777777777777778,
              "#fb9f3a"
             ],
             [
              0.8888888888888888,
              "#fdca26"
             ],
             [
              1,
              "#f0f921"
             ]
            ],
            "type": "histogram2d"
           }
          ],
          "histogram2dcontour": [
           {
            "colorbar": {
             "outlinewidth": 0,
             "ticks": ""
            },
            "colorscale": [
             [
              0,
              "#0d0887"
             ],
             [
              0.1111111111111111,
              "#46039f"
             ],
             [
              0.2222222222222222,
              "#7201a8"
             ],
             [
              0.3333333333333333,
              "#9c179e"
             ],
             [
              0.4444444444444444,
              "#bd3786"
             ],
             [
              0.5555555555555556,
              "#d8576b"
             ],
             [
              0.6666666666666666,
              "#ed7953"
             ],
             [
              0.7777777777777778,
              "#fb9f3a"
             ],
             [
              0.8888888888888888,
              "#fdca26"
             ],
             [
              1,
              "#f0f921"
             ]
            ],
            "type": "histogram2dcontour"
           }
          ],
          "mesh3d": [
           {
            "colorbar": {
             "outlinewidth": 0,
             "ticks": ""
            },
            "type": "mesh3d"
           }
          ],
          "parcoords": [
           {
            "line": {
             "colorbar": {
              "outlinewidth": 0,
              "ticks": ""
             }
            },
            "type": "parcoords"
           }
          ],
          "pie": [
           {
            "automargin": true,
            "type": "pie"
           }
          ],
          "scatter": [
           {
            "fillpattern": {
             "fillmode": "overlay",
             "size": 10,
             "solidity": 0.2
            },
            "type": "scatter"
           }
          ],
          "scatter3d": [
           {
            "line": {
             "colorbar": {
              "outlinewidth": 0,
              "ticks": ""
             }
            },
            "marker": {
             "colorbar": {
              "outlinewidth": 0,
              "ticks": ""
             }
            },
            "type": "scatter3d"
           }
          ],
          "scattercarpet": [
           {
            "marker": {
             "colorbar": {
              "outlinewidth": 0,
              "ticks": ""
             }
            },
            "type": "scattercarpet"
           }
          ],
          "scattergeo": [
           {
            "marker": {
             "colorbar": {
              "outlinewidth": 0,
              "ticks": ""
             }
            },
            "type": "scattergeo"
           }
          ],
          "scattergl": [
           {
            "marker": {
             "colorbar": {
              "outlinewidth": 0,
              "ticks": ""
             }
            },
            "type": "scattergl"
           }
          ],
          "scattermapbox": [
           {
            "marker": {
             "colorbar": {
              "outlinewidth": 0,
              "ticks": ""
             }
            },
            "type": "scattermapbox"
           }
          ],
          "scatterpolar": [
           {
            "marker": {
             "colorbar": {
              "outlinewidth": 0,
              "ticks": ""
             }
            },
            "type": "scatterpolar"
           }
          ],
          "scatterpolargl": [
           {
            "marker": {
             "colorbar": {
              "outlinewidth": 0,
              "ticks": ""
             }
            },
            "type": "scatterpolargl"
           }
          ],
          "scatterternary": [
           {
            "marker": {
             "colorbar": {
              "outlinewidth": 0,
              "ticks": ""
             }
            },
            "type": "scatterternary"
           }
          ],
          "surface": [
           {
            "colorbar": {
             "outlinewidth": 0,
             "ticks": ""
            },
            "colorscale": [
             [
              0,
              "#0d0887"
             ],
             [
              0.1111111111111111,
              "#46039f"
             ],
             [
              0.2222222222222222,
              "#7201a8"
             ],
             [
              0.3333333333333333,
              "#9c179e"
             ],
             [
              0.4444444444444444,
              "#bd3786"
             ],
             [
              0.5555555555555556,
              "#d8576b"
             ],
             [
              0.6666666666666666,
              "#ed7953"
             ],
             [
              0.7777777777777778,
              "#fb9f3a"
             ],
             [
              0.8888888888888888,
              "#fdca26"
             ],
             [
              1,
              "#f0f921"
             ]
            ],
            "type": "surface"
           }
          ],
          "table": [
           {
            "cells": {
             "fill": {
              "color": "#EBF0F8"
             },
             "line": {
              "color": "white"
             }
            },
            "header": {
             "fill": {
              "color": "#C8D4E3"
             },
             "line": {
              "color": "white"
             }
            },
            "type": "table"
           }
          ]
         },
         "layout": {
          "annotationdefaults": {
           "arrowcolor": "#2a3f5f",
           "arrowhead": 0,
           "arrowwidth": 1
          },
          "autotypenumbers": "strict",
          "coloraxis": {
           "colorbar": {
            "outlinewidth": 0,
            "ticks": ""
           }
          },
          "colorscale": {
           "diverging": [
            [
             0,
             "#8e0152"
            ],
            [
             0.1,
             "#c51b7d"
            ],
            [
             0.2,
             "#de77ae"
            ],
            [
             0.3,
             "#f1b6da"
            ],
            [
             0.4,
             "#fde0ef"
            ],
            [
             0.5,
             "#f7f7f7"
            ],
            [
             0.6,
             "#e6f5d0"
            ],
            [
             0.7,
             "#b8e186"
            ],
            [
             0.8,
             "#7fbc41"
            ],
            [
             0.9,
             "#4d9221"
            ],
            [
             1,
             "#276419"
            ]
           ],
           "sequential": [
            [
             0,
             "#0d0887"
            ],
            [
             0.1111111111111111,
             "#46039f"
            ],
            [
             0.2222222222222222,
             "#7201a8"
            ],
            [
             0.3333333333333333,
             "#9c179e"
            ],
            [
             0.4444444444444444,
             "#bd3786"
            ],
            [
             0.5555555555555556,
             "#d8576b"
            ],
            [
             0.6666666666666666,
             "#ed7953"
            ],
            [
             0.7777777777777778,
             "#fb9f3a"
            ],
            [
             0.8888888888888888,
             "#fdca26"
            ],
            [
             1,
             "#f0f921"
            ]
           ],
           "sequentialminus": [
            [
             0,
             "#0d0887"
            ],
            [
             0.1111111111111111,
             "#46039f"
            ],
            [
             0.2222222222222222,
             "#7201a8"
            ],
            [
             0.3333333333333333,
             "#9c179e"
            ],
            [
             0.4444444444444444,
             "#bd3786"
            ],
            [
             0.5555555555555556,
             "#d8576b"
            ],
            [
             0.6666666666666666,
             "#ed7953"
            ],
            [
             0.7777777777777778,
             "#fb9f3a"
            ],
            [
             0.8888888888888888,
             "#fdca26"
            ],
            [
             1,
             "#f0f921"
            ]
           ]
          },
          "colorway": [
           "#636efa",
           "#EF553B",
           "#00cc96",
           "#ab63fa",
           "#FFA15A",
           "#19d3f3",
           "#FF6692",
           "#B6E880",
           "#FF97FF",
           "#FECB52"
          ],
          "font": {
           "color": "#2a3f5f"
          },
          "geo": {
           "bgcolor": "white",
           "lakecolor": "white",
           "landcolor": "#E5ECF6",
           "showlakes": true,
           "showland": true,
           "subunitcolor": "white"
          },
          "hoverlabel": {
           "align": "left"
          },
          "hovermode": "closest",
          "mapbox": {
           "style": "light"
          },
          "paper_bgcolor": "white",
          "plot_bgcolor": "#E5ECF6",
          "polar": {
           "angularaxis": {
            "gridcolor": "white",
            "linecolor": "white",
            "ticks": ""
           },
           "bgcolor": "#E5ECF6",
           "radialaxis": {
            "gridcolor": "white",
            "linecolor": "white",
            "ticks": ""
           }
          },
          "scene": {
           "xaxis": {
            "backgroundcolor": "#E5ECF6",
            "gridcolor": "white",
            "gridwidth": 2,
            "linecolor": "white",
            "showbackground": true,
            "ticks": "",
            "zerolinecolor": "white"
           },
           "yaxis": {
            "backgroundcolor": "#E5ECF6",
            "gridcolor": "white",
            "gridwidth": 2,
            "linecolor": "white",
            "showbackground": true,
            "ticks": "",
            "zerolinecolor": "white"
           },
           "zaxis": {
            "backgroundcolor": "#E5ECF6",
            "gridcolor": "white",
            "gridwidth": 2,
            "linecolor": "white",
            "showbackground": true,
            "ticks": "",
            "zerolinecolor": "white"
           }
          },
          "shapedefaults": {
           "line": {
            "color": "#2a3f5f"
           }
          },
          "ternary": {
           "aaxis": {
            "gridcolor": "white",
            "linecolor": "white",
            "ticks": ""
           },
           "baxis": {
            "gridcolor": "white",
            "linecolor": "white",
            "ticks": ""
           },
           "bgcolor": "#E5ECF6",
           "caxis": {
            "gridcolor": "white",
            "linecolor": "white",
            "ticks": ""
           }
          },
          "title": {
           "x": 0.05
          },
          "xaxis": {
           "automargin": true,
           "gridcolor": "white",
           "linecolor": "white",
           "ticks": "",
           "title": {
            "standoff": 15
           },
           "zerolinecolor": "white",
           "zerolinewidth": 2
          },
          "yaxis": {
           "automargin": true,
           "gridcolor": "white",
           "linecolor": "white",
           "ticks": "",
           "title": {
            "standoff": 15
           },
           "zerolinecolor": "white",
           "zerolinewidth": 2
          }
         }
        },
        "title": {
         "text": "Sparse probe scores for \"conv pixel contains mouse2\" over resadd layers and K values"
        },
        "xaxis": {
         "anchor": "y",
         "domain": [
          0,
          1
         ],
         "title": {
          "text": "layer"
         }
        },
        "yaxis": {
         "anchor": "x",
         "domain": [
          0,
          1
         ],
         "title": {
          "text": "score"
         }
        }
       }
      },
      "text/html": [
       "<div>                            <div id=\"46cdcfe7-6b6c-4cbe-9b95-5a8772363e63\" class=\"plotly-graph-div\" style=\"height:525px; width:100%;\"></div>            <script type=\"text/javascript\">                require([\"plotly\"], function(Plotly) {                    window.PLOTLYENV=window.PLOTLYENV || {};                                    if (document.getElementById(\"46cdcfe7-6b6c-4cbe-9b95-5a8772363e63\")) {                    Plotly.newPlot(                        \"46cdcfe7-6b6c-4cbe-9b95-5a8772363e63\",                        [{\"hovertemplate\":\"K=1\\u003cbr\\u003elayer=%{x}\\u003cbr\\u003escore=%{y}\\u003cextra\\u003e\\u003c\\u002fextra\\u003e\",\"legendgroup\":\"1\",\"line\":{\"color\":\"#636efa\",\"dash\":\"solid\"},\"marker\":{\"symbol\":\"circle\"},\"mode\":\"lines\",\"name\":\"1\",\"orientation\":\"v\",\"showlegend\":true,\"x\":[\"embedder.block1.conv_in0\",\"embedder.block1.res1.relu1_out\",\"embedder.block1.res1.resadd_out\",\"embedder.block1.res1.relu2_out\",\"embedder.block1.res2.relu1_out\",\"embedder.block1.res2.resadd_out\",\"embedder.block1.res2.relu2_out\",\"embedder.block2.res1.relu1_out\",\"embedder.block2.res1.resadd_out\",\"embedder.block2.res1.relu2_out\",\"embedder.block2.res2.relu1_out\",\"embedder.block2.res2.resadd_out\",\"embedder.block2.res2.relu2_out\",\"embedder.block3.res1.relu1_out\",\"embedder.block3.res1.resadd_out\",\"embedder.block3.res1.relu2_out\",\"embedder.block3.res2.relu1_out\",\"embedder.block3.res2.resadd_out\",\"embedder.block3.res2.relu2_out\"],\"xaxis\":\"x\",\"y\":[0.7125,1.0,1.0,0.9875,0.975,1.0,1.0,1.0,1.0,0.9375,1.0,1.0,0.8875,0.975,0.9625,0.8,0.925,0.8625,0.925],\"yaxis\":\"y\",\"type\":\"scatter\"},{\"hovertemplate\":\"K=2\\u003cbr\\u003elayer=%{x}\\u003cbr\\u003escore=%{y}\\u003cextra\\u003e\\u003c\\u002fextra\\u003e\",\"legendgroup\":\"2\",\"line\":{\"color\":\"#EF553B\",\"dash\":\"solid\"},\"marker\":{\"symbol\":\"circle\"},\"mode\":\"lines\",\"name\":\"2\",\"orientation\":\"v\",\"showlegend\":true,\"x\":[\"embedder.block1.conv_in0\",\"embedder.block1.res1.relu1_out\",\"embedder.block1.res1.resadd_out\",\"embedder.block1.res1.relu2_out\",\"embedder.block1.res2.relu1_out\",\"embedder.block1.res2.resadd_out\",\"embedder.block1.res2.relu2_out\",\"embedder.block2.res1.relu1_out\",\"embedder.block2.res1.resadd_out\",\"embedder.block2.res1.relu2_out\",\"embedder.block2.res2.relu1_out\",\"embedder.block2.res2.resadd_out\",\"embedder.block2.res2.relu2_out\",\"embedder.block3.res1.relu1_out\",\"embedder.block3.res1.resadd_out\",\"embedder.block3.res1.relu2_out\",\"embedder.block3.res2.relu1_out\",\"embedder.block3.res2.resadd_out\",\"embedder.block3.res2.relu2_out\"],\"xaxis\":\"x\",\"y\":[0.8375,0.9875,0.9875,0.9875,0.9875,1.0,0.9875,1.0,1.0,0.9375,1.0,0.9875,0.9,0.975,0.975,0.825,0.975,0.8375,0.8875],\"yaxis\":\"y\",\"type\":\"scatter\"},{\"hovertemplate\":\"K=3\\u003cbr\\u003elayer=%{x}\\u003cbr\\u003escore=%{y}\\u003cextra\\u003e\\u003c\\u002fextra\\u003e\",\"legendgroup\":\"3\",\"line\":{\"color\":\"#00cc96\",\"dash\":\"solid\"},\"marker\":{\"symbol\":\"circle\"},\"mode\":\"lines\",\"name\":\"3\",\"orientation\":\"v\",\"showlegend\":true,\"x\":[\"embedder.block1.conv_in0\",\"embedder.block1.res1.relu1_out\",\"embedder.block1.res1.resadd_out\",\"embedder.block1.res1.relu2_out\",\"embedder.block1.res2.relu1_out\",\"embedder.block1.res2.resadd_out\",\"embedder.block1.res2.relu2_out\",\"embedder.block2.res1.relu1_out\",\"embedder.block2.res1.resadd_out\",\"embedder.block2.res1.relu2_out\",\"embedder.block2.res2.relu1_out\",\"embedder.block2.res2.resadd_out\",\"embedder.block2.res2.relu2_out\",\"embedder.block3.res1.relu1_out\",\"embedder.block3.res1.resadd_out\",\"embedder.block3.res1.relu2_out\",\"embedder.block3.res2.relu1_out\",\"embedder.block3.res2.resadd_out\",\"embedder.block3.res2.relu2_out\"],\"xaxis\":\"x\",\"y\":[0.85,0.9875,1.0,0.9875,1.0,0.9875,0.9875,1.0,1.0,0.95,1.0,0.9875,0.9,0.975,0.975,0.85,0.975,0.8375,0.8875],\"yaxis\":\"y\",\"type\":\"scatter\"},{\"hovertemplate\":\"K=4\\u003cbr\\u003elayer=%{x}\\u003cbr\\u003escore=%{y}\\u003cextra\\u003e\\u003c\\u002fextra\\u003e\",\"legendgroup\":\"4\",\"line\":{\"color\":\"#ab63fa\",\"dash\":\"solid\"},\"marker\":{\"symbol\":\"circle\"},\"mode\":\"lines\",\"name\":\"4\",\"orientation\":\"v\",\"showlegend\":true,\"x\":[\"embedder.block1.conv_in0\",\"embedder.block1.res1.relu1_out\",\"embedder.block1.res1.resadd_out\",\"embedder.block1.res1.relu2_out\",\"embedder.block1.res2.relu1_out\",\"embedder.block1.res2.resadd_out\",\"embedder.block1.res2.relu2_out\",\"embedder.block2.res1.relu1_out\",\"embedder.block2.res1.resadd_out\",\"embedder.block2.res1.relu2_out\",\"embedder.block2.res2.relu1_out\",\"embedder.block2.res2.resadd_out\",\"embedder.block2.res2.relu2_out\",\"embedder.block3.res1.relu1_out\",\"embedder.block3.res1.resadd_out\",\"embedder.block3.res1.relu2_out\",\"embedder.block3.res2.relu1_out\",\"embedder.block3.res2.resadd_out\",\"embedder.block3.res2.relu2_out\"],\"xaxis\":\"x\",\"y\":[0.85,0.9875,1.0,1.0,1.0,0.9875,0.9875,1.0,1.0,0.9625,1.0,0.9875,0.9,0.975,0.9875,0.85,0.975,0.8375,0.8875],\"yaxis\":\"y\",\"type\":\"scatter\"},{\"hovertemplate\":\"K=5\\u003cbr\\u003elayer=%{x}\\u003cbr\\u003escore=%{y}\\u003cextra\\u003e\\u003c\\u002fextra\\u003e\",\"legendgroup\":\"5\",\"line\":{\"color\":\"#FFA15A\",\"dash\":\"solid\"},\"marker\":{\"symbol\":\"circle\"},\"mode\":\"lines\",\"name\":\"5\",\"orientation\":\"v\",\"showlegend\":true,\"x\":[\"embedder.block1.conv_in0\",\"embedder.block1.res1.relu1_out\",\"embedder.block1.res1.resadd_out\",\"embedder.block1.res1.relu2_out\",\"embedder.block1.res2.relu1_out\",\"embedder.block1.res2.resadd_out\",\"embedder.block1.res2.relu2_out\",\"embedder.block2.res1.relu1_out\",\"embedder.block2.res1.resadd_out\",\"embedder.block2.res1.relu2_out\",\"embedder.block2.res2.relu1_out\",\"embedder.block2.res2.resadd_out\",\"embedder.block2.res2.relu2_out\",\"embedder.block3.res1.relu1_out\",\"embedder.block3.res1.resadd_out\",\"embedder.block3.res1.relu2_out\",\"embedder.block3.res2.relu1_out\",\"embedder.block3.res2.resadd_out\",\"embedder.block3.res2.relu2_out\"],\"xaxis\":\"x\",\"y\":[0.85,0.9875,1.0,1.0,1.0,1.0,0.9875,1.0,1.0,0.95,1.0,1.0,0.9125,0.975,0.9875,0.8625,0.975,0.8375,0.9375],\"yaxis\":\"y\",\"type\":\"scatter\"},{\"hovertemplate\":\"K=6\\u003cbr\\u003elayer=%{x}\\u003cbr\\u003escore=%{y}\\u003cextra\\u003e\\u003c\\u002fextra\\u003e\",\"legendgroup\":\"6\",\"line\":{\"color\":\"#19d3f3\",\"dash\":\"solid\"},\"marker\":{\"symbol\":\"circle\"},\"mode\":\"lines\",\"name\":\"6\",\"orientation\":\"v\",\"showlegend\":true,\"x\":[\"embedder.block1.conv_in0\",\"embedder.block1.res1.relu1_out\",\"embedder.block1.res1.resadd_out\",\"embedder.block1.res1.relu2_out\",\"embedder.block1.res2.relu1_out\",\"embedder.block1.res2.resadd_out\",\"embedder.block1.res2.relu2_out\",\"embedder.block2.res1.relu1_out\",\"embedder.block2.res1.resadd_out\",\"embedder.block2.res1.relu2_out\",\"embedder.block2.res2.relu1_out\",\"embedder.block2.res2.resadd_out\",\"embedder.block2.res2.relu2_out\",\"embedder.block3.res1.relu1_out\",\"embedder.block3.res1.resadd_out\",\"embedder.block3.res1.relu2_out\",\"embedder.block3.res2.relu1_out\",\"embedder.block3.res2.resadd_out\",\"embedder.block3.res2.relu2_out\"],\"xaxis\":\"x\",\"y\":[0.85,0.9875,0.9875,1.0,1.0,1.0,0.9875,1.0,1.0,0.9625,1.0,1.0,0.9375,0.975,0.975,0.8625,0.9875,0.8375,0.925],\"yaxis\":\"y\",\"type\":\"scatter\"},{\"hovertemplate\":\"K=7\\u003cbr\\u003elayer=%{x}\\u003cbr\\u003escore=%{y}\\u003cextra\\u003e\\u003c\\u002fextra\\u003e\",\"legendgroup\":\"7\",\"line\":{\"color\":\"#FF6692\",\"dash\":\"solid\"},\"marker\":{\"symbol\":\"circle\"},\"mode\":\"lines\",\"name\":\"7\",\"orientation\":\"v\",\"showlegend\":true,\"x\":[\"embedder.block1.conv_in0\",\"embedder.block1.res1.relu1_out\",\"embedder.block1.res1.resadd_out\",\"embedder.block1.res1.relu2_out\",\"embedder.block1.res2.relu1_out\",\"embedder.block1.res2.resadd_out\",\"embedder.block1.res2.relu2_out\",\"embedder.block2.res1.relu1_out\",\"embedder.block2.res1.resadd_out\",\"embedder.block2.res1.relu2_out\",\"embedder.block2.res2.relu1_out\",\"embedder.block2.res2.resadd_out\",\"embedder.block2.res2.relu2_out\",\"embedder.block3.res1.relu1_out\",\"embedder.block3.res1.resadd_out\",\"embedder.block3.res1.relu2_out\",\"embedder.block3.res2.relu1_out\",\"embedder.block3.res2.resadd_out\",\"embedder.block3.res2.relu2_out\"],\"xaxis\":\"x\",\"y\":[0.85,0.9875,0.9875,1.0,1.0,0.9875,0.9875,1.0,1.0,0.975,1.0,1.0,0.9375,0.975,0.9625,0.875,0.9875,0.8625,0.9625],\"yaxis\":\"y\",\"type\":\"scatter\"},{\"hovertemplate\":\"K=8\\u003cbr\\u003elayer=%{x}\\u003cbr\\u003escore=%{y}\\u003cextra\\u003e\\u003c\\u002fextra\\u003e\",\"legendgroup\":\"8\",\"line\":{\"color\":\"#B6E880\",\"dash\":\"solid\"},\"marker\":{\"symbol\":\"circle\"},\"mode\":\"lines\",\"name\":\"8\",\"orientation\":\"v\",\"showlegend\":true,\"x\":[\"embedder.block1.conv_in0\",\"embedder.block1.res1.relu1_out\",\"embedder.block1.res1.resadd_out\",\"embedder.block1.res1.relu2_out\",\"embedder.block1.res2.relu1_out\",\"embedder.block1.res2.resadd_out\",\"embedder.block1.res2.relu2_out\",\"embedder.block2.res1.relu1_out\",\"embedder.block2.res1.resadd_out\",\"embedder.block2.res1.relu2_out\",\"embedder.block2.res2.relu1_out\",\"embedder.block2.res2.resadd_out\",\"embedder.block2.res2.relu2_out\",\"embedder.block3.res1.relu1_out\",\"embedder.block3.res1.resadd_out\",\"embedder.block3.res1.relu2_out\",\"embedder.block3.res2.relu1_out\",\"embedder.block3.res2.resadd_out\",\"embedder.block3.res2.relu2_out\"],\"xaxis\":\"x\",\"y\":[0.85,0.9875,1.0,1.0,1.0,0.9875,0.9875,1.0,1.0,0.975,1.0,1.0,0.9125,0.975,0.975,0.925,0.9875,0.875,0.9625],\"yaxis\":\"y\",\"type\":\"scatter\"},{\"hovertemplate\":\"K=9\\u003cbr\\u003elayer=%{x}\\u003cbr\\u003escore=%{y}\\u003cextra\\u003e\\u003c\\u002fextra\\u003e\",\"legendgroup\":\"9\",\"line\":{\"color\":\"#FF97FF\",\"dash\":\"solid\"},\"marker\":{\"symbol\":\"circle\"},\"mode\":\"lines\",\"name\":\"9\",\"orientation\":\"v\",\"showlegend\":true,\"x\":[\"embedder.block1.conv_in0\",\"embedder.block1.res1.relu1_out\",\"embedder.block1.res1.resadd_out\",\"embedder.block1.res1.relu2_out\",\"embedder.block1.res2.relu1_out\",\"embedder.block1.res2.resadd_out\",\"embedder.block1.res2.relu2_out\",\"embedder.block2.res1.relu1_out\",\"embedder.block2.res1.resadd_out\",\"embedder.block2.res1.relu2_out\",\"embedder.block2.res2.relu1_out\",\"embedder.block2.res2.resadd_out\",\"embedder.block2.res2.relu2_out\",\"embedder.block3.res1.relu1_out\",\"embedder.block3.res1.resadd_out\",\"embedder.block3.res1.relu2_out\",\"embedder.block3.res2.relu1_out\",\"embedder.block3.res2.resadd_out\",\"embedder.block3.res2.relu2_out\"],\"xaxis\":\"x\",\"y\":[0.85,0.975,0.9875,1.0,1.0,0.9875,0.9875,1.0,1.0,0.975,1.0,1.0,0.9125,0.975,0.9625,0.925,0.975,0.875,0.9625],\"yaxis\":\"y\",\"type\":\"scatter\"},{\"hovertemplate\":\"K=10\\u003cbr\\u003elayer=%{x}\\u003cbr\\u003escore=%{y}\\u003cextra\\u003e\\u003c\\u002fextra\\u003e\",\"legendgroup\":\"10\",\"line\":{\"color\":\"#FECB52\",\"dash\":\"solid\"},\"marker\":{\"symbol\":\"circle\"},\"mode\":\"lines\",\"name\":\"10\",\"orientation\":\"v\",\"showlegend\":true,\"x\":[\"embedder.block1.conv_in0\",\"embedder.block1.res1.relu1_out\",\"embedder.block1.res1.resadd_out\",\"embedder.block1.res1.relu2_out\",\"embedder.block1.res2.relu1_out\",\"embedder.block1.res2.resadd_out\",\"embedder.block1.res2.relu2_out\",\"embedder.block2.res1.relu1_out\",\"embedder.block2.res1.resadd_out\",\"embedder.block2.res1.relu2_out\",\"embedder.block2.res2.relu1_out\",\"embedder.block2.res2.resadd_out\",\"embedder.block2.res2.relu2_out\",\"embedder.block3.res1.relu1_out\",\"embedder.block3.res1.resadd_out\",\"embedder.block3.res1.relu2_out\",\"embedder.block3.res2.relu1_out\",\"embedder.block3.res2.resadd_out\",\"embedder.block3.res2.relu2_out\"],\"xaxis\":\"x\",\"y\":[0.85,0.9875,0.9875,1.0,1.0,1.0,1.0,1.0,1.0,1.0,1.0,1.0,0.925,0.975,0.9875,0.9125,0.975,0.9,0.95],\"yaxis\":\"y\",\"type\":\"scatter\"}],                        {\"template\":{\"data\":{\"histogram2dcontour\":[{\"type\":\"histogram2dcontour\",\"colorbar\":{\"outlinewidth\":0,\"ticks\":\"\"},\"colorscale\":[[0.0,\"#0d0887\"],[0.1111111111111111,\"#46039f\"],[0.2222222222222222,\"#7201a8\"],[0.3333333333333333,\"#9c179e\"],[0.4444444444444444,\"#bd3786\"],[0.5555555555555556,\"#d8576b\"],[0.6666666666666666,\"#ed7953\"],[0.7777777777777778,\"#fb9f3a\"],[0.8888888888888888,\"#fdca26\"],[1.0,\"#f0f921\"]]}],\"choropleth\":[{\"type\":\"choropleth\",\"colorbar\":{\"outlinewidth\":0,\"ticks\":\"\"}}],\"histogram2d\":[{\"type\":\"histogram2d\",\"colorbar\":{\"outlinewidth\":0,\"ticks\":\"\"},\"colorscale\":[[0.0,\"#0d0887\"],[0.1111111111111111,\"#46039f\"],[0.2222222222222222,\"#7201a8\"],[0.3333333333333333,\"#9c179e\"],[0.4444444444444444,\"#bd3786\"],[0.5555555555555556,\"#d8576b\"],[0.6666666666666666,\"#ed7953\"],[0.7777777777777778,\"#fb9f3a\"],[0.8888888888888888,\"#fdca26\"],[1.0,\"#f0f921\"]]}],\"heatmap\":[{\"type\":\"heatmap\",\"colorbar\":{\"outlinewidth\":0,\"ticks\":\"\"},\"colorscale\":[[0.0,\"#0d0887\"],[0.1111111111111111,\"#46039f\"],[0.2222222222222222,\"#7201a8\"],[0.3333333333333333,\"#9c179e\"],[0.4444444444444444,\"#bd3786\"],[0.5555555555555556,\"#d8576b\"],[0.6666666666666666,\"#ed7953\"],[0.7777777777777778,\"#fb9f3a\"],[0.8888888888888888,\"#fdca26\"],[1.0,\"#f0f921\"]]}],\"heatmapgl\":[{\"type\":\"heatmapgl\",\"colorbar\":{\"outlinewidth\":0,\"ticks\":\"\"},\"colorscale\":[[0.0,\"#0d0887\"],[0.1111111111111111,\"#46039f\"],[0.2222222222222222,\"#7201a8\"],[0.3333333333333333,\"#9c179e\"],[0.4444444444444444,\"#bd3786\"],[0.5555555555555556,\"#d8576b\"],[0.6666666666666666,\"#ed7953\"],[0.7777777777777778,\"#fb9f3a\"],[0.8888888888888888,\"#fdca26\"],[1.0,\"#f0f921\"]]}],\"contourcarpet\":[{\"type\":\"contourcarpet\",\"colorbar\":{\"outlinewidth\":0,\"ticks\":\"\"}}],\"contour\":[{\"type\":\"contour\",\"colorbar\":{\"outlinewidth\":0,\"ticks\":\"\"},\"colorscale\":[[0.0,\"#0d0887\"],[0.1111111111111111,\"#46039f\"],[0.2222222222222222,\"#7201a8\"],[0.3333333333333333,\"#9c179e\"],[0.4444444444444444,\"#bd3786\"],[0.5555555555555556,\"#d8576b\"],[0.6666666666666666,\"#ed7953\"],[0.7777777777777778,\"#fb9f3a\"],[0.8888888888888888,\"#fdca26\"],[1.0,\"#f0f921\"]]}],\"surface\":[{\"type\":\"surface\",\"colorbar\":{\"outlinewidth\":0,\"ticks\":\"\"},\"colorscale\":[[0.0,\"#0d0887\"],[0.1111111111111111,\"#46039f\"],[0.2222222222222222,\"#7201a8\"],[0.3333333333333333,\"#9c179e\"],[0.4444444444444444,\"#bd3786\"],[0.5555555555555556,\"#d8576b\"],[0.6666666666666666,\"#ed7953\"],[0.7777777777777778,\"#fb9f3a\"],[0.8888888888888888,\"#fdca26\"],[1.0,\"#f0f921\"]]}],\"mesh3d\":[{\"type\":\"mesh3d\",\"colorbar\":{\"outlinewidth\":0,\"ticks\":\"\"}}],\"scatter\":[{\"fillpattern\":{\"fillmode\":\"overlay\",\"size\":10,\"solidity\":0.2},\"type\":\"scatter\"}],\"parcoords\":[{\"type\":\"parcoords\",\"line\":{\"colorbar\":{\"outlinewidth\":0,\"ticks\":\"\"}}}],\"scatterpolargl\":[{\"type\":\"scatterpolargl\",\"marker\":{\"colorbar\":{\"outlinewidth\":0,\"ticks\":\"\"}}}],\"bar\":[{\"error_x\":{\"color\":\"#2a3f5f\"},\"error_y\":{\"color\":\"#2a3f5f\"},\"marker\":{\"line\":{\"color\":\"#E5ECF6\",\"width\":0.5},\"pattern\":{\"fillmode\":\"overlay\",\"size\":10,\"solidity\":0.2}},\"type\":\"bar\"}],\"scattergeo\":[{\"type\":\"scattergeo\",\"marker\":{\"colorbar\":{\"outlinewidth\":0,\"ticks\":\"\"}}}],\"scatterpolar\":[{\"type\":\"scatterpolar\",\"marker\":{\"colorbar\":{\"outlinewidth\":0,\"ticks\":\"\"}}}],\"histogram\":[{\"marker\":{\"pattern\":{\"fillmode\":\"overlay\",\"size\":10,\"solidity\":0.2}},\"type\":\"histogram\"}],\"scattergl\":[{\"type\":\"scattergl\",\"marker\":{\"colorbar\":{\"outlinewidth\":0,\"ticks\":\"\"}}}],\"scatter3d\":[{\"type\":\"scatter3d\",\"line\":{\"colorbar\":{\"outlinewidth\":0,\"ticks\":\"\"}},\"marker\":{\"colorbar\":{\"outlinewidth\":0,\"ticks\":\"\"}}}],\"scattermapbox\":[{\"type\":\"scattermapbox\",\"marker\":{\"colorbar\":{\"outlinewidth\":0,\"ticks\":\"\"}}}],\"scatterternary\":[{\"type\":\"scatterternary\",\"marker\":{\"colorbar\":{\"outlinewidth\":0,\"ticks\":\"\"}}}],\"scattercarpet\":[{\"type\":\"scattercarpet\",\"marker\":{\"colorbar\":{\"outlinewidth\":0,\"ticks\":\"\"}}}],\"carpet\":[{\"aaxis\":{\"endlinecolor\":\"#2a3f5f\",\"gridcolor\":\"white\",\"linecolor\":\"white\",\"minorgridcolor\":\"white\",\"startlinecolor\":\"#2a3f5f\"},\"baxis\":{\"endlinecolor\":\"#2a3f5f\",\"gridcolor\":\"white\",\"linecolor\":\"white\",\"minorgridcolor\":\"white\",\"startlinecolor\":\"#2a3f5f\"},\"type\":\"carpet\"}],\"table\":[{\"cells\":{\"fill\":{\"color\":\"#EBF0F8\"},\"line\":{\"color\":\"white\"}},\"header\":{\"fill\":{\"color\":\"#C8D4E3\"},\"line\":{\"color\":\"white\"}},\"type\":\"table\"}],\"barpolar\":[{\"marker\":{\"line\":{\"color\":\"#E5ECF6\",\"width\":0.5},\"pattern\":{\"fillmode\":\"overlay\",\"size\":10,\"solidity\":0.2}},\"type\":\"barpolar\"}],\"pie\":[{\"automargin\":true,\"type\":\"pie\"}]},\"layout\":{\"autotypenumbers\":\"strict\",\"colorway\":[\"#636efa\",\"#EF553B\",\"#00cc96\",\"#ab63fa\",\"#FFA15A\",\"#19d3f3\",\"#FF6692\",\"#B6E880\",\"#FF97FF\",\"#FECB52\"],\"font\":{\"color\":\"#2a3f5f\"},\"hovermode\":\"closest\",\"hoverlabel\":{\"align\":\"left\"},\"paper_bgcolor\":\"white\",\"plot_bgcolor\":\"#E5ECF6\",\"polar\":{\"bgcolor\":\"#E5ECF6\",\"angularaxis\":{\"gridcolor\":\"white\",\"linecolor\":\"white\",\"ticks\":\"\"},\"radialaxis\":{\"gridcolor\":\"white\",\"linecolor\":\"white\",\"ticks\":\"\"}},\"ternary\":{\"bgcolor\":\"#E5ECF6\",\"aaxis\":{\"gridcolor\":\"white\",\"linecolor\":\"white\",\"ticks\":\"\"},\"baxis\":{\"gridcolor\":\"white\",\"linecolor\":\"white\",\"ticks\":\"\"},\"caxis\":{\"gridcolor\":\"white\",\"linecolor\":\"white\",\"ticks\":\"\"}},\"coloraxis\":{\"colorbar\":{\"outlinewidth\":0,\"ticks\":\"\"}},\"colorscale\":{\"sequential\":[[0.0,\"#0d0887\"],[0.1111111111111111,\"#46039f\"],[0.2222222222222222,\"#7201a8\"],[0.3333333333333333,\"#9c179e\"],[0.4444444444444444,\"#bd3786\"],[0.5555555555555556,\"#d8576b\"],[0.6666666666666666,\"#ed7953\"],[0.7777777777777778,\"#fb9f3a\"],[0.8888888888888888,\"#fdca26\"],[1.0,\"#f0f921\"]],\"sequentialminus\":[[0.0,\"#0d0887\"],[0.1111111111111111,\"#46039f\"],[0.2222222222222222,\"#7201a8\"],[0.3333333333333333,\"#9c179e\"],[0.4444444444444444,\"#bd3786\"],[0.5555555555555556,\"#d8576b\"],[0.6666666666666666,\"#ed7953\"],[0.7777777777777778,\"#fb9f3a\"],[0.8888888888888888,\"#fdca26\"],[1.0,\"#f0f921\"]],\"diverging\":[[0,\"#8e0152\"],[0.1,\"#c51b7d\"],[0.2,\"#de77ae\"],[0.3,\"#f1b6da\"],[0.4,\"#fde0ef\"],[0.5,\"#f7f7f7\"],[0.6,\"#e6f5d0\"],[0.7,\"#b8e186\"],[0.8,\"#7fbc41\"],[0.9,\"#4d9221\"],[1,\"#276419\"]]},\"xaxis\":{\"gridcolor\":\"white\",\"linecolor\":\"white\",\"ticks\":\"\",\"title\":{\"standoff\":15},\"zerolinecolor\":\"white\",\"automargin\":true,\"zerolinewidth\":2},\"yaxis\":{\"gridcolor\":\"white\",\"linecolor\":\"white\",\"ticks\":\"\",\"title\":{\"standoff\":15},\"zerolinecolor\":\"white\",\"automargin\":true,\"zerolinewidth\":2},\"scene\":{\"xaxis\":{\"backgroundcolor\":\"#E5ECF6\",\"gridcolor\":\"white\",\"linecolor\":\"white\",\"showbackground\":true,\"ticks\":\"\",\"zerolinecolor\":\"white\",\"gridwidth\":2},\"yaxis\":{\"backgroundcolor\":\"#E5ECF6\",\"gridcolor\":\"white\",\"linecolor\":\"white\",\"showbackground\":true,\"ticks\":\"\",\"zerolinecolor\":\"white\",\"gridwidth\":2},\"zaxis\":{\"backgroundcolor\":\"#E5ECF6\",\"gridcolor\":\"white\",\"linecolor\":\"white\",\"showbackground\":true,\"ticks\":\"\",\"zerolinecolor\":\"white\",\"gridwidth\":2}},\"shapedefaults\":{\"line\":{\"color\":\"#2a3f5f\"}},\"annotationdefaults\":{\"arrowcolor\":\"#2a3f5f\",\"arrowhead\":0,\"arrowwidth\":1},\"geo\":{\"bgcolor\":\"white\",\"landcolor\":\"#E5ECF6\",\"subunitcolor\":\"white\",\"showland\":true,\"showlakes\":true,\"lakecolor\":\"white\"},\"title\":{\"x\":0.05},\"mapbox\":{\"style\":\"light\"}}},\"xaxis\":{\"anchor\":\"y\",\"domain\":[0.0,1.0],\"title\":{\"text\":\"layer\"}},\"yaxis\":{\"anchor\":\"x\",\"domain\":[0.0,1.0],\"title\":{\"text\":\"score\"}},\"legend\":{\"title\":{\"text\":\"K\"},\"tracegroupgap\":0},\"title\":{\"text\":\"Sparse probe scores for \\\"conv pixel contains mouse2\\\" over resadd layers and K values\"},\"shapes\":[{\"line\":{\"dash\":\"dot\"},\"type\":\"line\",\"x0\":0,\"x1\":1,\"xref\":\"x domain\",\"y0\":1.0,\"y1\":1.0,\"yref\":\"y\"},{\"line\":{\"dash\":\"dot\"},\"type\":\"line\",\"x0\":0,\"x1\":1,\"xref\":\"x domain\",\"y0\":0.5,\"y1\":0.5,\"yref\":\"y\"}],\"annotations\":[{\"showarrow\":false,\"text\":\"perfect\",\"x\":1,\"xanchor\":\"right\",\"xref\":\"x domain\",\"y\":1.0,\"yanchor\":\"top\",\"yref\":\"y\"},{\"showarrow\":false,\"text\":\"baseline\",\"x\":1,\"xanchor\":\"right\",\"xref\":\"x domain\",\"y\":0.5,\"yanchor\":\"top\",\"yref\":\"y\"}]},                        {\"responsive\": true}                    ).then(function(){\n",
       "                            \n",
       "var gd = document.getElementById('46cdcfe7-6b6c-4cbe-9b95-5a8772363e63');\n",
       "var x = new MutationObserver(function (mutations, observer) {{\n",
       "        var display = window.getComputedStyle(gd).display;\n",
       "        if (!display || display === 'none') {{\n",
       "            console.log([gd, 'removed!']);\n",
       "            Plotly.purge(gd);\n",
       "            observer.disconnect();\n",
       "        }}\n",
       "}});\n",
       "\n",
       "// Listen for the removal of the full notebook cells\n",
       "var notebookContainer = gd.closest('#notebook-container');\n",
       "if (notebookContainer) {{\n",
       "    x.observe(notebookContainer, {childList: true});\n",
       "}}\n",
       "\n",
       "// Listen for the clearing of the current output cell\n",
       "var outputEl = gd.closest('.output');\n",
       "if (outputEl) {{\n",
       "    x.observe(outputEl, {childList: true});\n",
       "}}\n",
       "\n",
       "                        })                };                });            </script>        </div>"
      ]
     },
     "metadata": {},
     "output_type": "display_data"
    }
   ],
   "source": [
    "\n",
    "\n",
    "# Train probes and show results\n",
    "index_nums = np.arange(10)+1\n",
    "for obj_name, pixel_data_this in pixel_data.items():\n",
    "    scores_list = []\n",
    "    for value_label, (pixels, is_obj, rows_in_value, cols_in_value, f_test, sort_inds) in tqdm(pixel_data_this.items()):\n",
    "        for K in index_nums:\n",
    "            results = cpr.linear_probe(pixels[:,sort_inds[:K]], is_obj, C=10, random_state=42)\n",
    "            scores_list.append({'layer': value_label, 'K': K, 'score': results['test_score']})\n",
    "    scores_df = pd.DataFrame(scores_list)\n",
    "\n",
    "    fig = px.line(scores_df, x='layer', y='score', color='K',\n",
    "        title=f'Sparse probe scores for \"conv pixel contains {obj_name}\" over resadd layers and K values')\n",
    "    fig.add_hline(y=1.,  line_dash=\"dot\", annotation_text=\"perfect\",  annotation_position=\"bottom right\")\n",
    "    fig.add_hline(y=0.5, line_dash=\"dot\", annotation_text=\"baseline\", annotation_position=\"bottom right\")\n",
    "    fig.show()\n",
    "\n"
   ]
  },
  {
   "cell_type": "code",
   "execution_count": 26,
   "metadata": {},
   "outputs": [
    {
     "data": {
      "text/plain": [
       "{'': CategoricalPolicy(\n",
       "   (embedder): InterpretableImpalaModel(\n",
       "     (block1): InterpretableImpalaBlock(\n",
       "       (conv): Conv2d(3, 64, kernel_size=(3, 3), stride=(1, 1), padding=(1, 1))\n",
       "       (maxpool): MaxPool2d(kernel_size=3, stride=2, padding=1, dilation=1, ceil_mode=False)\n",
       "       (res1): InterpretableResidualBlock(\n",
       "         (relu1): ReLU()\n",
       "         (conv1): Conv2d(64, 64, kernel_size=(3, 3), stride=(1, 1), padding=(1, 1))\n",
       "         (relu2): ReLU()\n",
       "         (conv2): Conv2d(64, 64, kernel_size=(3, 3), stride=(1, 1), padding=(1, 1))\n",
       "         (resadd): ResidualAdd()\n",
       "       )\n",
       "       (res2): InterpretableResidualBlock(\n",
       "         (relu1): ReLU()\n",
       "         (conv1): Conv2d(64, 64, kernel_size=(3, 3), stride=(1, 1), padding=(1, 1))\n",
       "         (relu2): ReLU()\n",
       "         (conv2): Conv2d(64, 64, kernel_size=(3, 3), stride=(1, 1), padding=(1, 1))\n",
       "         (resadd): ResidualAdd()\n",
       "       )\n",
       "     )\n",
       "     (block2): InterpretableImpalaBlock(\n",
       "       (conv): Conv2d(64, 128, kernel_size=(3, 3), stride=(1, 1), padding=(1, 1))\n",
       "       (maxpool): MaxPool2d(kernel_size=3, stride=2, padding=1, dilation=1, ceil_mode=False)\n",
       "       (res1): InterpretableResidualBlock(\n",
       "         (relu1): ReLU()\n",
       "         (conv1): Conv2d(128, 128, kernel_size=(3, 3), stride=(1, 1), padding=(1, 1))\n",
       "         (relu2): ReLU()\n",
       "         (conv2): Conv2d(128, 128, kernel_size=(3, 3), stride=(1, 1), padding=(1, 1))\n",
       "         (resadd): ResidualAdd()\n",
       "       )\n",
       "       (res2): InterpretableResidualBlock(\n",
       "         (relu1): ReLU()\n",
       "         (conv1): Conv2d(128, 128, kernel_size=(3, 3), stride=(1, 1), padding=(1, 1))\n",
       "         (relu2): ReLU()\n",
       "         (conv2): Conv2d(128, 128, kernel_size=(3, 3), stride=(1, 1), padding=(1, 1))\n",
       "         (resadd): ResidualAdd()\n",
       "       )\n",
       "     )\n",
       "     (block3): InterpretableImpalaBlock(\n",
       "       (conv): Conv2d(128, 128, kernel_size=(3, 3), stride=(1, 1), padding=(1, 1))\n",
       "       (maxpool): MaxPool2d(kernel_size=3, stride=2, padding=1, dilation=1, ceil_mode=False)\n",
       "       (res1): InterpretableResidualBlock(\n",
       "         (relu1): ReLU()\n",
       "         (conv1): Conv2d(128, 128, kernel_size=(3, 3), stride=(1, 1), padding=(1, 1))\n",
       "         (relu2): ReLU()\n",
       "         (conv2): Conv2d(128, 128, kernel_size=(3, 3), stride=(1, 1), padding=(1, 1))\n",
       "         (resadd): ResidualAdd()\n",
       "       )\n",
       "       (res2): InterpretableResidualBlock(\n",
       "         (relu1): ReLU()\n",
       "         (conv1): Conv2d(128, 128, kernel_size=(3, 3), stride=(1, 1), padding=(1, 1))\n",
       "         (relu2): ReLU()\n",
       "         (conv2): Conv2d(128, 128, kernel_size=(3, 3), stride=(1, 1), padding=(1, 1))\n",
       "         (resadd): ResidualAdd()\n",
       "       )\n",
       "     )\n",
       "     (relu3): ReLU()\n",
       "     (flatten): Flatten()\n",
       "     (fc): Linear(in_features=8192, out_features=256, bias=True)\n",
       "     (relufc): ReLU()\n",
       "   )\n",
       "   (fc_policy): Linear(in_features=256, out_features=15, bias=True)\n",
       "   (fc_value): Linear(in_features=256, out_features=1, bias=True)\n",
       " ),\n",
       " 'embedder': InterpretableImpalaModel(\n",
       "   (block1): InterpretableImpalaBlock(\n",
       "     (conv): Conv2d(3, 64, kernel_size=(3, 3), stride=(1, 1), padding=(1, 1))\n",
       "     (maxpool): MaxPool2d(kernel_size=3, stride=2, padding=1, dilation=1, ceil_mode=False)\n",
       "     (res1): InterpretableResidualBlock(\n",
       "       (relu1): ReLU()\n",
       "       (conv1): Conv2d(64, 64, kernel_size=(3, 3), stride=(1, 1), padding=(1, 1))\n",
       "       (relu2): ReLU()\n",
       "       (conv2): Conv2d(64, 64, kernel_size=(3, 3), stride=(1, 1), padding=(1, 1))\n",
       "       (resadd): ResidualAdd()\n",
       "     )\n",
       "     (res2): InterpretableResidualBlock(\n",
       "       (relu1): ReLU()\n",
       "       (conv1): Conv2d(64, 64, kernel_size=(3, 3), stride=(1, 1), padding=(1, 1))\n",
       "       (relu2): ReLU()\n",
       "       (conv2): Conv2d(64, 64, kernel_size=(3, 3), stride=(1, 1), padding=(1, 1))\n",
       "       (resadd): ResidualAdd()\n",
       "     )\n",
       "   )\n",
       "   (block2): InterpretableImpalaBlock(\n",
       "     (conv): Conv2d(64, 128, kernel_size=(3, 3), stride=(1, 1), padding=(1, 1))\n",
       "     (maxpool): MaxPool2d(kernel_size=3, stride=2, padding=1, dilation=1, ceil_mode=False)\n",
       "     (res1): InterpretableResidualBlock(\n",
       "       (relu1): ReLU()\n",
       "       (conv1): Conv2d(128, 128, kernel_size=(3, 3), stride=(1, 1), padding=(1, 1))\n",
       "       (relu2): ReLU()\n",
       "       (conv2): Conv2d(128, 128, kernel_size=(3, 3), stride=(1, 1), padding=(1, 1))\n",
       "       (resadd): ResidualAdd()\n",
       "     )\n",
       "     (res2): InterpretableResidualBlock(\n",
       "       (relu1): ReLU()\n",
       "       (conv1): Conv2d(128, 128, kernel_size=(3, 3), stride=(1, 1), padding=(1, 1))\n",
       "       (relu2): ReLU()\n",
       "       (conv2): Conv2d(128, 128, kernel_size=(3, 3), stride=(1, 1), padding=(1, 1))\n",
       "       (resadd): ResidualAdd()\n",
       "     )\n",
       "   )\n",
       "   (block3): InterpretableImpalaBlock(\n",
       "     (conv): Conv2d(128, 128, kernel_size=(3, 3), stride=(1, 1), padding=(1, 1))\n",
       "     (maxpool): MaxPool2d(kernel_size=3, stride=2, padding=1, dilation=1, ceil_mode=False)\n",
       "     (res1): InterpretableResidualBlock(\n",
       "       (relu1): ReLU()\n",
       "       (conv1): Conv2d(128, 128, kernel_size=(3, 3), stride=(1, 1), padding=(1, 1))\n",
       "       (relu2): ReLU()\n",
       "       (conv2): Conv2d(128, 128, kernel_size=(3, 3), stride=(1, 1), padding=(1, 1))\n",
       "       (resadd): ResidualAdd()\n",
       "     )\n",
       "     (res2): InterpretableResidualBlock(\n",
       "       (relu1): ReLU()\n",
       "       (conv1): Conv2d(128, 128, kernel_size=(3, 3), stride=(1, 1), padding=(1, 1))\n",
       "       (relu2): ReLU()\n",
       "       (conv2): Conv2d(128, 128, kernel_size=(3, 3), stride=(1, 1), padding=(1, 1))\n",
       "       (resadd): ResidualAdd()\n",
       "     )\n",
       "   )\n",
       "   (relu3): ReLU()\n",
       "   (flatten): Flatten()\n",
       "   (fc): Linear(in_features=8192, out_features=256, bias=True)\n",
       "   (relufc): ReLU()\n",
       " ),\n",
       " 'embedder.block1': InterpretableImpalaBlock(\n",
       "   (conv): Conv2d(3, 64, kernel_size=(3, 3), stride=(1, 1), padding=(1, 1))\n",
       "   (maxpool): MaxPool2d(kernel_size=3, stride=2, padding=1, dilation=1, ceil_mode=False)\n",
       "   (res1): InterpretableResidualBlock(\n",
       "     (relu1): ReLU()\n",
       "     (conv1): Conv2d(64, 64, kernel_size=(3, 3), stride=(1, 1), padding=(1, 1))\n",
       "     (relu2): ReLU()\n",
       "     (conv2): Conv2d(64, 64, kernel_size=(3, 3), stride=(1, 1), padding=(1, 1))\n",
       "     (resadd): ResidualAdd()\n",
       "   )\n",
       "   (res2): InterpretableResidualBlock(\n",
       "     (relu1): ReLU()\n",
       "     (conv1): Conv2d(64, 64, kernel_size=(3, 3), stride=(1, 1), padding=(1, 1))\n",
       "     (relu2): ReLU()\n",
       "     (conv2): Conv2d(64, 64, kernel_size=(3, 3), stride=(1, 1), padding=(1, 1))\n",
       "     (resadd): ResidualAdd()\n",
       "   )\n",
       " ),\n",
       " 'embedder.block1.conv': Conv2d(3, 64, kernel_size=(3, 3), stride=(1, 1), padding=(1, 1)),\n",
       " 'embedder.block1.maxpool': MaxPool2d(kernel_size=3, stride=2, padding=1, dilation=1, ceil_mode=False),\n",
       " 'embedder.block1.res1': InterpretableResidualBlock(\n",
       "   (relu1): ReLU()\n",
       "   (conv1): Conv2d(64, 64, kernel_size=(3, 3), stride=(1, 1), padding=(1, 1))\n",
       "   (relu2): ReLU()\n",
       "   (conv2): Conv2d(64, 64, kernel_size=(3, 3), stride=(1, 1), padding=(1, 1))\n",
       "   (resadd): ResidualAdd()\n",
       " ),\n",
       " 'embedder.block1.res1.relu1': ReLU(),\n",
       " 'embedder.block1.res1.conv1': Conv2d(64, 64, kernel_size=(3, 3), stride=(1, 1), padding=(1, 1)),\n",
       " 'embedder.block1.res1.relu2': ReLU(),\n",
       " 'embedder.block1.res1.conv2': Conv2d(64, 64, kernel_size=(3, 3), stride=(1, 1), padding=(1, 1)),\n",
       " 'embedder.block1.res1.resadd': ResidualAdd(),\n",
       " 'embedder.block1.res2': InterpretableResidualBlock(\n",
       "   (relu1): ReLU()\n",
       "   (conv1): Conv2d(64, 64, kernel_size=(3, 3), stride=(1, 1), padding=(1, 1))\n",
       "   (relu2): ReLU()\n",
       "   (conv2): Conv2d(64, 64, kernel_size=(3, 3), stride=(1, 1), padding=(1, 1))\n",
       "   (resadd): ResidualAdd()\n",
       " ),\n",
       " 'embedder.block1.res2.relu1': ReLU(),\n",
       " 'embedder.block1.res2.conv1': Conv2d(64, 64, kernel_size=(3, 3), stride=(1, 1), padding=(1, 1)),\n",
       " 'embedder.block1.res2.relu2': ReLU(),\n",
       " 'embedder.block1.res2.conv2': Conv2d(64, 64, kernel_size=(3, 3), stride=(1, 1), padding=(1, 1)),\n",
       " 'embedder.block1.res2.resadd': ResidualAdd(),\n",
       " 'embedder.block2': InterpretableImpalaBlock(\n",
       "   (conv): Conv2d(64, 128, kernel_size=(3, 3), stride=(1, 1), padding=(1, 1))\n",
       "   (maxpool): MaxPool2d(kernel_size=3, stride=2, padding=1, dilation=1, ceil_mode=False)\n",
       "   (res1): InterpretableResidualBlock(\n",
       "     (relu1): ReLU()\n",
       "     (conv1): Conv2d(128, 128, kernel_size=(3, 3), stride=(1, 1), padding=(1, 1))\n",
       "     (relu2): ReLU()\n",
       "     (conv2): Conv2d(128, 128, kernel_size=(3, 3), stride=(1, 1), padding=(1, 1))\n",
       "     (resadd): ResidualAdd()\n",
       "   )\n",
       "   (res2): InterpretableResidualBlock(\n",
       "     (relu1): ReLU()\n",
       "     (conv1): Conv2d(128, 128, kernel_size=(3, 3), stride=(1, 1), padding=(1, 1))\n",
       "     (relu2): ReLU()\n",
       "     (conv2): Conv2d(128, 128, kernel_size=(3, 3), stride=(1, 1), padding=(1, 1))\n",
       "     (resadd): ResidualAdd()\n",
       "   )\n",
       " ),\n",
       " 'embedder.block2.conv': Conv2d(64, 128, kernel_size=(3, 3), stride=(1, 1), padding=(1, 1)),\n",
       " 'embedder.block2.maxpool': MaxPool2d(kernel_size=3, stride=2, padding=1, dilation=1, ceil_mode=False),\n",
       " 'embedder.block2.res1': InterpretableResidualBlock(\n",
       "   (relu1): ReLU()\n",
       "   (conv1): Conv2d(128, 128, kernel_size=(3, 3), stride=(1, 1), padding=(1, 1))\n",
       "   (relu2): ReLU()\n",
       "   (conv2): Conv2d(128, 128, kernel_size=(3, 3), stride=(1, 1), padding=(1, 1))\n",
       "   (resadd): ResidualAdd()\n",
       " ),\n",
       " 'embedder.block2.res1.relu1': ReLU(),\n",
       " 'embedder.block2.res1.conv1': Conv2d(128, 128, kernel_size=(3, 3), stride=(1, 1), padding=(1, 1)),\n",
       " 'embedder.block2.res1.relu2': ReLU(),\n",
       " 'embedder.block2.res1.conv2': Conv2d(128, 128, kernel_size=(3, 3), stride=(1, 1), padding=(1, 1)),\n",
       " 'embedder.block2.res1.resadd': ResidualAdd(),\n",
       " 'embedder.block2.res2': InterpretableResidualBlock(\n",
       "   (relu1): ReLU()\n",
       "   (conv1): Conv2d(128, 128, kernel_size=(3, 3), stride=(1, 1), padding=(1, 1))\n",
       "   (relu2): ReLU()\n",
       "   (conv2): Conv2d(128, 128, kernel_size=(3, 3), stride=(1, 1), padding=(1, 1))\n",
       "   (resadd): ResidualAdd()\n",
       " ),\n",
       " 'embedder.block2.res2.relu1': ReLU(),\n",
       " 'embedder.block2.res2.conv1': Conv2d(128, 128, kernel_size=(3, 3), stride=(1, 1), padding=(1, 1)),\n",
       " 'embedder.block2.res2.relu2': ReLU(),\n",
       " 'embedder.block2.res2.conv2': Conv2d(128, 128, kernel_size=(3, 3), stride=(1, 1), padding=(1, 1)),\n",
       " 'embedder.block2.res2.resadd': ResidualAdd(),\n",
       " 'embedder.block3': InterpretableImpalaBlock(\n",
       "   (conv): Conv2d(128, 128, kernel_size=(3, 3), stride=(1, 1), padding=(1, 1))\n",
       "   (maxpool): MaxPool2d(kernel_size=3, stride=2, padding=1, dilation=1, ceil_mode=False)\n",
       "   (res1): InterpretableResidualBlock(\n",
       "     (relu1): ReLU()\n",
       "     (conv1): Conv2d(128, 128, kernel_size=(3, 3), stride=(1, 1), padding=(1, 1))\n",
       "     (relu2): ReLU()\n",
       "     (conv2): Conv2d(128, 128, kernel_size=(3, 3), stride=(1, 1), padding=(1, 1))\n",
       "     (resadd): ResidualAdd()\n",
       "   )\n",
       "   (res2): InterpretableResidualBlock(\n",
       "     (relu1): ReLU()\n",
       "     (conv1): Conv2d(128, 128, kernel_size=(3, 3), stride=(1, 1), padding=(1, 1))\n",
       "     (relu2): ReLU()\n",
       "     (conv2): Conv2d(128, 128, kernel_size=(3, 3), stride=(1, 1), padding=(1, 1))\n",
       "     (resadd): ResidualAdd()\n",
       "   )\n",
       " ),\n",
       " 'embedder.block3.conv': Conv2d(128, 128, kernel_size=(3, 3), stride=(1, 1), padding=(1, 1)),\n",
       " 'embedder.block3.maxpool': MaxPool2d(kernel_size=3, stride=2, padding=1, dilation=1, ceil_mode=False),\n",
       " 'embedder.block3.res1': InterpretableResidualBlock(\n",
       "   (relu1): ReLU()\n",
       "   (conv1): Conv2d(128, 128, kernel_size=(3, 3), stride=(1, 1), padding=(1, 1))\n",
       "   (relu2): ReLU()\n",
       "   (conv2): Conv2d(128, 128, kernel_size=(3, 3), stride=(1, 1), padding=(1, 1))\n",
       "   (resadd): ResidualAdd()\n",
       " ),\n",
       " 'embedder.block3.res1.relu1': ReLU(),\n",
       " 'embedder.block3.res1.conv1': Conv2d(128, 128, kernel_size=(3, 3), stride=(1, 1), padding=(1, 1)),\n",
       " 'embedder.block3.res1.relu2': ReLU(),\n",
       " 'embedder.block3.res1.conv2': Conv2d(128, 128, kernel_size=(3, 3), stride=(1, 1), padding=(1, 1)),\n",
       " 'embedder.block3.res1.resadd': ResidualAdd(),\n",
       " 'embedder.block3.res2': InterpretableResidualBlock(\n",
       "   (relu1): ReLU()\n",
       "   (conv1): Conv2d(128, 128, kernel_size=(3, 3), stride=(1, 1), padding=(1, 1))\n",
       "   (relu2): ReLU()\n",
       "   (conv2): Conv2d(128, 128, kernel_size=(3, 3), stride=(1, 1), padding=(1, 1))\n",
       "   (resadd): ResidualAdd()\n",
       " ),\n",
       " 'embedder.block3.res2.relu1': ReLU(),\n",
       " 'embedder.block3.res2.conv1': Conv2d(128, 128, kernel_size=(3, 3), stride=(1, 1), padding=(1, 1)),\n",
       " 'embedder.block3.res2.relu2': ReLU(),\n",
       " 'embedder.block3.res2.conv2': Conv2d(128, 128, kernel_size=(3, 3), stride=(1, 1), padding=(1, 1)),\n",
       " 'embedder.block3.res2.resadd': ResidualAdd(),\n",
       " 'embedder.relu3': ReLU(),\n",
       " 'embedder.flatten': Flatten(),\n",
       " 'embedder.fc': Linear(in_features=8192, out_features=256, bias=True),\n",
       " 'embedder.relufc': ReLU(),\n",
       " 'fc_policy': Linear(in_features=256, out_features=15, bias=True),\n",
       " 'fc_value': Linear(in_features=256, out_features=1, bias=True)}"
      ]
     },
     "execution_count": 26,
     "metadata": {},
     "output_type": "execute_result"
    }
   ],
   "source": [
    "hook.modules_by_label\n"
   ]
  },
  {
   "cell_type": "code",
   "execution_count": null,
   "metadata": {},
   "outputs": [],
   "source": []
  }
 ],
 "metadata": {
  "kernelspec": {
   "display_name": "procgen_env",
   "language": "python",
   "name": "python3"
  },
  "language_info": {
   "codemirror_mode": {
    "name": "ipython",
    "version": 3
   },
   "file_extension": ".py",
   "mimetype": "text/x-python",
   "name": "python",
   "nbconvert_exporter": "python",
   "pygments_lexer": "ipython3",
   "version": "3.9.16"
  },
  "orig_nbformat": 4
 },
 "nbformat": 4,
 "nbformat_minor": 2
}
