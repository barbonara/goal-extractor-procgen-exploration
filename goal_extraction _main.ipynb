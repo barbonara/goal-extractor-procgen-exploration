{
 "cells": [
  {
   "attachments": {},
   "cell_type": "markdown",
   "metadata": {},
   "source": [
    "Infrastructure based on:\n",
    "https://s3.us-west-2.amazonaws.com/montemac.share/probing_main.html\n"
   ]
  },
  {
   "cell_type": "code",
   "execution_count": 1,
   "metadata": {},
   "outputs": [
    {
     "data": {
      "application/javascript": "(function(root) {\n  function now() {\n    return new Date();\n  }\n\n  var force = true;\n  var py_version = '3.1.1'.replace('rc', '-rc.').replace('.dev', '-dev.');\n  var is_dev = py_version.indexOf(\"+\") !== -1 || py_version.indexOf(\"-\") !== -1;\n  var reloading = false;\n  var Bokeh = root.Bokeh;\n  var bokeh_loaded = Bokeh != null && (Bokeh.version === py_version || (Bokeh.versions !== undefined && Bokeh.versions.has(py_version)));\n\n  if (typeof (root._bokeh_timeout) === \"undefined\" || force) {\n    root._bokeh_timeout = Date.now() + 5000;\n    root._bokeh_failed_load = false;\n  }\n\n  function run_callbacks() {\n    try {\n      root._bokeh_onload_callbacks.forEach(function(callback) {\n        if (callback != null)\n          callback();\n      });\n    } finally {\n      delete root._bokeh_onload_callbacks;\n    }\n    console.debug(\"Bokeh: all callbacks have finished\");\n  }\n\n  function load_libs(css_urls, js_urls, js_modules, js_exports, callback) {\n    if (css_urls == null) css_urls = [];\n    if (js_urls == null) js_urls = [];\n    if (js_modules == null) js_modules = [];\n    if (js_exports == null) js_exports = {};\n\n    root._bokeh_onload_callbacks.push(callback);\n\n    if (root._bokeh_is_loading > 0) {\n      console.debug(\"Bokeh: BokehJS is being loaded, scheduling callback at\", now());\n      return null;\n    }\n    if (js_urls.length === 0 && js_modules.length === 0 && Object.keys(js_exports).length === 0) {\n      run_callbacks();\n      return null;\n    }\n    if (!reloading) {\n      console.debug(\"Bokeh: BokehJS not loaded, scheduling load and callback at\", now());\n    }\n\n    function on_load() {\n      root._bokeh_is_loading--;\n      if (root._bokeh_is_loading === 0) {\n        console.debug(\"Bokeh: all BokehJS libraries/stylesheets loaded\");\n        run_callbacks()\n      }\n    }\n    window._bokeh_on_load = on_load\n\n    function on_error() {\n      console.error(\"failed to load \" + url);\n    }\n\n    var skip = [];\n    if (window.requirejs) {\n      window.requirejs.config({'packages': {}, 'paths': {'jspanel': 'https://cdn.jsdelivr.net/npm/jspanel4@4.12.0/dist/jspanel', 'jspanel-modal': 'https://cdn.jsdelivr.net/npm/jspanel4@4.12.0/dist/extensions/modal/jspanel.modal', 'jspanel-tooltip': 'https://cdn.jsdelivr.net/npm/jspanel4@4.12.0/dist/extensions/tooltip/jspanel.tooltip', 'jspanel-hint': 'https://cdn.jsdelivr.net/npm/jspanel4@4.12.0/dist/extensions/hint/jspanel.hint', 'jspanel-layout': 'https://cdn.jsdelivr.net/npm/jspanel4@4.12.0/dist/extensions/layout/jspanel.layout', 'jspanel-contextmenu': 'https://cdn.jsdelivr.net/npm/jspanel4@4.12.0/dist/extensions/contextmenu/jspanel.contextmenu', 'jspanel-dock': 'https://cdn.jsdelivr.net/npm/jspanel4@4.12.0/dist/extensions/dock/jspanel.dock', 'gridstack': 'https://cdn.jsdelivr.net/npm/gridstack@7.2.3/dist/gridstack-all', 'notyf': 'https://cdn.jsdelivr.net/npm/notyf@3/notyf.min'}, 'shim': {'jspanel': {'exports': 'jsPanel'}, 'gridstack': {'exports': 'GridStack'}}});\n      require([\"jspanel\"], function(jsPanel) {\n\twindow.jsPanel = jsPanel\n\ton_load()\n      })\n      require([\"jspanel-modal\"], function() {\n\ton_load()\n      })\n      require([\"jspanel-tooltip\"], function() {\n\ton_load()\n      })\n      require([\"jspanel-hint\"], function() {\n\ton_load()\n      })\n      require([\"jspanel-layout\"], function() {\n\ton_load()\n      })\n      require([\"jspanel-contextmenu\"], function() {\n\ton_load()\n      })\n      require([\"jspanel-dock\"], function() {\n\ton_load()\n      })\n      require([\"gridstack\"], function(GridStack) {\n\twindow.GridStack = GridStack\n\ton_load()\n      })\n      require([\"notyf\"], function() {\n\ton_load()\n      })\n      root._bokeh_is_loading = css_urls.length + 9;\n    } else {\n      root._bokeh_is_loading = css_urls.length + js_urls.length + js_modules.length + Object.keys(js_exports).length;\n    }\n\n    var existing_stylesheets = []\n    var links = document.getElementsByTagName('link')\n    for (var i = 0; i < links.length; i++) {\n      var link = links[i]\n      if (link.href != null) {\n\texisting_stylesheets.push(link.href)\n      }\n    }\n    for (var i = 0; i < css_urls.length; i++) {\n      var url = css_urls[i];\n      if (existing_stylesheets.indexOf(url) !== -1) {\n\ton_load()\n\tcontinue;\n      }\n      const element = document.createElement(\"link\");\n      element.onload = on_load;\n      element.onerror = on_error;\n      element.rel = \"stylesheet\";\n      element.type = \"text/css\";\n      element.href = url;\n      console.debug(\"Bokeh: injecting link tag for BokehJS stylesheet: \", url);\n      document.body.appendChild(element);\n    }    if (((window['jsPanel'] !== undefined) && (!(window['jsPanel'] instanceof HTMLElement))) || window.requirejs) {\n      var urls = ['https://cdn.holoviz.org/panel/1.1.1/dist/bundled/floatpanel/jspanel4@4.12.0/dist/jspanel.js', 'https://cdn.holoviz.org/panel/1.1.1/dist/bundled/floatpanel/jspanel4@4.12.0/dist/extensions/modal/jspanel.modal.js', 'https://cdn.holoviz.org/panel/1.1.1/dist/bundled/floatpanel/jspanel4@4.12.0/dist/extensions/tooltip/jspanel.tooltip.js', 'https://cdn.holoviz.org/panel/1.1.1/dist/bundled/floatpanel/jspanel4@4.12.0/dist/extensions/hint/jspanel.hint.js', 'https://cdn.holoviz.org/panel/1.1.1/dist/bundled/floatpanel/jspanel4@4.12.0/dist/extensions/layout/jspanel.layout.js', 'https://cdn.holoviz.org/panel/1.1.1/dist/bundled/floatpanel/jspanel4@4.12.0/dist/extensions/contextmenu/jspanel.contextmenu.js', 'https://cdn.holoviz.org/panel/1.1.1/dist/bundled/floatpanel/jspanel4@4.12.0/dist/extensions/dock/jspanel.dock.js'];\n      for (var i = 0; i < urls.length; i++) {\n        skip.push(urls[i])\n      }\n    }    if (((window['GridStack'] !== undefined) && (!(window['GridStack'] instanceof HTMLElement))) || window.requirejs) {\n      var urls = ['https://cdn.holoviz.org/panel/1.1.1/dist/bundled/gridstack/gridstack@7.2.3/dist/gridstack-all.js'];\n      for (var i = 0; i < urls.length; i++) {\n        skip.push(urls[i])\n      }\n    }    if (((window['Notyf'] !== undefined) && (!(window['Notyf'] instanceof HTMLElement))) || window.requirejs) {\n      var urls = ['https://cdn.holoviz.org/panel/1.1.1/dist/bundled/notificationarea/notyf@3/notyf.min.js'];\n      for (var i = 0; i < urls.length; i++) {\n        skip.push(urls[i])\n      }\n    }    var existing_scripts = []\n    var scripts = document.getElementsByTagName('script')\n    for (var i = 0; i < scripts.length; i++) {\n      var script = scripts[i]\n      if (script.src != null) {\n\texisting_scripts.push(script.src)\n      }\n    }\n    for (var i = 0; i < js_urls.length; i++) {\n      var url = js_urls[i];\n      if (skip.indexOf(url) !== -1 || existing_scripts.indexOf(url) !== -1) {\n\tif (!window.requirejs) {\n\t  on_load();\n\t}\n\tcontinue;\n      }\n      var element = document.createElement('script');\n      element.onload = on_load;\n      element.onerror = on_error;\n      element.async = false;\n      element.src = url;\n      console.debug(\"Bokeh: injecting script tag for BokehJS library: \", url);\n      document.head.appendChild(element);\n    }\n    for (var i = 0; i < js_modules.length; i++) {\n      var url = js_modules[i];\n      if (skip.indexOf(url) !== -1 || existing_scripts.indexOf(url) !== -1) {\n\tif (!window.requirejs) {\n\t  on_load();\n\t}\n\tcontinue;\n      }\n      var element = document.createElement('script');\n      element.onload = on_load;\n      element.onerror = on_error;\n      element.async = false;\n      element.src = url;\n      element.type = \"module\";\n      console.debug(\"Bokeh: injecting script tag for BokehJS library: \", url);\n      document.head.appendChild(element);\n    }\n    for (const name in js_exports) {\n      var url = js_exports[name];\n      if (skip.indexOf(url) >= 0 || root[name] != null) {\n\tif (!window.requirejs) {\n\t  on_load();\n\t}\n\tcontinue;\n      }\n      var element = document.createElement('script');\n      element.onerror = on_error;\n      element.async = false;\n      element.type = \"module\";\n      console.debug(\"Bokeh: injecting script tag for BokehJS library: \", url);\n      element.textContent = `\n      import ${name} from \"${url}\"\n      window.${name} = ${name}\n      window._bokeh_on_load()\n      `\n      document.head.appendChild(element);\n    }\n    if (!js_urls.length && !js_modules.length) {\n      on_load()\n    }\n  };\n\n  function inject_raw_css(css) {\n    const element = document.createElement(\"style\");\n    element.appendChild(document.createTextNode(css));\n    document.body.appendChild(element);\n  }\n\n  var js_urls = [\"https://cdn.bokeh.org/bokeh/release/bokeh-3.1.1.min.js\", \"https://cdn.bokeh.org/bokeh/release/bokeh-gl-3.1.1.min.js\", \"https://cdn.bokeh.org/bokeh/release/bokeh-widgets-3.1.1.min.js\", \"https://cdn.bokeh.org/bokeh/release/bokeh-tables-3.1.1.min.js\", \"https://cdn.holoviz.org/panel/1.1.1/dist/panel.min.js\"];\n  var js_modules = [];\n  var js_exports = {};\n  var css_urls = [];\n  var inline_js = [    function(Bokeh) {\n      Bokeh.set_log_level(\"info\");\n    },\nfunction(Bokeh) {} // ensure no trailing comma for IE\n  ];\n\n  function run_inline_js() {\n    if ((root.Bokeh !== undefined) || (force === true)) {\n      for (var i = 0; i < inline_js.length; i++) {\n        inline_js[i].call(root, root.Bokeh);\n      }\n      // Cache old bokeh versions\n      if (Bokeh != undefined && !reloading) {\n\tvar NewBokeh = root.Bokeh;\n\tif (Bokeh.versions === undefined) {\n\t  Bokeh.versions = new Map();\n\t}\n\tif (NewBokeh.version !== Bokeh.version) {\n\t  Bokeh.versions.set(NewBokeh.version, NewBokeh)\n\t}\n\troot.Bokeh = Bokeh;\n      }} else if (Date.now() < root._bokeh_timeout) {\n      setTimeout(run_inline_js, 100);\n    } else if (!root._bokeh_failed_load) {\n      console.log(\"Bokeh: BokehJS failed to load within specified timeout.\");\n      root._bokeh_failed_load = true;\n    }\n    root._bokeh_is_initializing = false\n  }\n\n  function load_or_wait() {\n    // Implement a backoff loop that tries to ensure we do not load multiple\n    // versions of Bokeh and its dependencies at the same time.\n    // In recent versions we use the root._bokeh_is_initializing flag\n    // to determine whether there is an ongoing attempt to initialize\n    // bokeh, however for backward compatibility we also try to ensure\n    // that we do not start loading a newer (Panel>=1.0 and Bokeh>3) version\n    // before older versions are fully initialized.\n    if (root._bokeh_is_initializing && Date.now() > root._bokeh_timeout) {\n      root._bokeh_is_initializing = false;\n      root._bokeh_onload_callbacks = undefined;\n      console.log(\"Bokeh: BokehJS was loaded multiple times but one version failed to initialize.\");\n      load_or_wait();\n    } else if (root._bokeh_is_initializing || (typeof root._bokeh_is_initializing === \"undefined\" && root._bokeh_onload_callbacks !== undefined)) {\n      setTimeout(load_or_wait, 100);\n    } else {\n      Bokeh = root.Bokeh;\n      bokeh_loaded = Bokeh != null && (Bokeh.version === py_version || (Bokeh.versions !== undefined && Bokeh.versions.has(py_version)));\n      root._bokeh_is_initializing = true\n      root._bokeh_onload_callbacks = []\n      if (!reloading && (!bokeh_loaded || is_dev)) {\n\troot.Bokeh = undefined;\n      }\n      load_libs(css_urls, js_urls, js_modules, js_exports, function() {\n\tconsole.debug(\"Bokeh: BokehJS plotting callback run at\", now());\n\trun_inline_js();\n      });\n    }\n  }\n  // Give older versions of the autoload script a head-start to ensure\n  // they initialize before we start loading newer version.\n  setTimeout(load_or_wait, 100)\n}(window));",
      "application/vnd.holoviews_load.v0+json": ""
     },
     "metadata": {},
     "output_type": "display_data"
    },
    {
     "data": {
      "application/javascript": "\nif ((window.PyViz === undefined) || (window.PyViz instanceof HTMLElement)) {\n  window.PyViz = {comms: {}, comm_status:{}, kernels:{}, receivers: {}, plot_index: []}\n}\n\n\n    function JupyterCommManager() {\n    }\n\n    JupyterCommManager.prototype.register_target = function(plot_id, comm_id, msg_handler) {\n      if (window.comm_manager || ((window.Jupyter !== undefined) && (Jupyter.notebook.kernel != null))) {\n        var comm_manager = window.comm_manager || Jupyter.notebook.kernel.comm_manager;\n        comm_manager.register_target(comm_id, function(comm) {\n          comm.on_msg(msg_handler);\n        });\n      } else if ((plot_id in window.PyViz.kernels) && (window.PyViz.kernels[plot_id])) {\n        window.PyViz.kernels[plot_id].registerCommTarget(comm_id, function(comm) {\n          comm.onMsg = msg_handler;\n        });\n      } else if (typeof google != 'undefined' && google.colab.kernel != null) {\n        google.colab.kernel.comms.registerTarget(comm_id, (comm) => {\n          var messages = comm.messages[Symbol.asyncIterator]();\n          function processIteratorResult(result) {\n            var message = result.value;\n            console.log(message)\n            var content = {data: message.data, comm_id};\n            var buffers = []\n            for (var buffer of message.buffers || []) {\n              buffers.push(new DataView(buffer))\n            }\n            var metadata = message.metadata || {};\n            var msg = {content, buffers, metadata}\n            msg_handler(msg);\n            return messages.next().then(processIteratorResult);\n          }\n          return messages.next().then(processIteratorResult);\n        })\n      }\n    }\n\n    JupyterCommManager.prototype.get_client_comm = function(plot_id, comm_id, msg_handler) {\n      if (comm_id in window.PyViz.comms) {\n        return window.PyViz.comms[comm_id];\n      } else if (window.comm_manager || ((window.Jupyter !== undefined) && (Jupyter.notebook.kernel != null))) {\n        var comm_manager = window.comm_manager || Jupyter.notebook.kernel.comm_manager;\n        var comm = comm_manager.new_comm(comm_id, {}, {}, {}, comm_id);\n        if (msg_handler) {\n          comm.on_msg(msg_handler);\n        }\n      } else if ((plot_id in window.PyViz.kernels) && (window.PyViz.kernels[plot_id])) {\n        var comm = window.PyViz.kernels[plot_id].connectToComm(comm_id);\n        comm.open();\n        if (msg_handler) {\n          comm.onMsg = msg_handler;\n        }\n      } else if (typeof google != 'undefined' && google.colab.kernel != null) {\n        var comm_promise = google.colab.kernel.comms.open(comm_id)\n        comm_promise.then((comm) => {\n          window.PyViz.comms[comm_id] = comm;\n          if (msg_handler) {\n            var messages = comm.messages[Symbol.asyncIterator]();\n            function processIteratorResult(result) {\n              var message = result.value;\n              var content = {data: message.data};\n              var metadata = message.metadata || {comm_id};\n              var msg = {content, metadata}\n              msg_handler(msg);\n              return messages.next().then(processIteratorResult);\n            }\n            return messages.next().then(processIteratorResult);\n          }\n        }) \n        var sendClosure = (data, metadata, buffers, disposeOnDone) => {\n          return comm_promise.then((comm) => {\n            comm.send(data, metadata, buffers, disposeOnDone);\n          });\n        };\n        var comm = {\n          send: sendClosure\n        };\n      }\n      window.PyViz.comms[comm_id] = comm;\n      return comm;\n    }\n    window.PyViz.comm_manager = new JupyterCommManager();\n    \n\n\nvar JS_MIME_TYPE = 'application/javascript';\nvar HTML_MIME_TYPE = 'text/html';\nvar EXEC_MIME_TYPE = 'application/vnd.holoviews_exec.v0+json';\nvar CLASS_NAME = 'output';\n\n/**\n * Render data to the DOM node\n */\nfunction render(props, node) {\n  var div = document.createElement(\"div\");\n  var script = document.createElement(\"script\");\n  node.appendChild(div);\n  node.appendChild(script);\n}\n\n/**\n * Handle when a new output is added\n */\nfunction handle_add_output(event, handle) {\n  var output_area = handle.output_area;\n  var output = handle.output;\n  if ((output.data == undefined) || (!output.data.hasOwnProperty(EXEC_MIME_TYPE))) {\n    return\n  }\n  var id = output.metadata[EXEC_MIME_TYPE][\"id\"];\n  var toinsert = output_area.element.find(\".\" + CLASS_NAME.split(' ')[0]);\n  if (id !== undefined) {\n    var nchildren = toinsert.length;\n    var html_node = toinsert[nchildren-1].children[0];\n    html_node.innerHTML = output.data[HTML_MIME_TYPE];\n    var scripts = [];\n    var nodelist = html_node.querySelectorAll(\"script\");\n    for (var i in nodelist) {\n      if (nodelist.hasOwnProperty(i)) {\n        scripts.push(nodelist[i])\n      }\n    }\n\n    scripts.forEach( function (oldScript) {\n      var newScript = document.createElement(\"script\");\n      var attrs = [];\n      var nodemap = oldScript.attributes;\n      for (var j in nodemap) {\n        if (nodemap.hasOwnProperty(j)) {\n          attrs.push(nodemap[j])\n        }\n      }\n      attrs.forEach(function(attr) { newScript.setAttribute(attr.name, attr.value) });\n      newScript.appendChild(document.createTextNode(oldScript.innerHTML));\n      oldScript.parentNode.replaceChild(newScript, oldScript);\n    });\n    if (JS_MIME_TYPE in output.data) {\n      toinsert[nchildren-1].children[1].textContent = output.data[JS_MIME_TYPE];\n    }\n    output_area._hv_plot_id = id;\n    if ((window.Bokeh !== undefined) && (id in Bokeh.index)) {\n      window.PyViz.plot_index[id] = Bokeh.index[id];\n    } else {\n      window.PyViz.plot_index[id] = null;\n    }\n  } else if (output.metadata[EXEC_MIME_TYPE][\"server_id\"] !== undefined) {\n    var bk_div = document.createElement(\"div\");\n    bk_div.innerHTML = output.data[HTML_MIME_TYPE];\n    var script_attrs = bk_div.children[0].attributes;\n    for (var i = 0; i < script_attrs.length; i++) {\n      toinsert[toinsert.length - 1].childNodes[1].setAttribute(script_attrs[i].name, script_attrs[i].value);\n    }\n    // store reference to server id on output_area\n    output_area._bokeh_server_id = output.metadata[EXEC_MIME_TYPE][\"server_id\"];\n  }\n}\n\n/**\n * Handle when an output is cleared or removed\n */\nfunction handle_clear_output(event, handle) {\n  var id = handle.cell.output_area._hv_plot_id;\n  var server_id = handle.cell.output_area._bokeh_server_id;\n  if (((id === undefined) || !(id in PyViz.plot_index)) && (server_id !== undefined)) { return; }\n  var comm = window.PyViz.comm_manager.get_client_comm(\"hv-extension-comm\", \"hv-extension-comm\", function () {});\n  if (server_id !== null) {\n    comm.send({event_type: 'server_delete', 'id': server_id});\n    return;\n  } else if (comm !== null) {\n    comm.send({event_type: 'delete', 'id': id});\n  }\n  delete PyViz.plot_index[id];\n  if ((window.Bokeh !== undefined) & (id in window.Bokeh.index)) {\n    var doc = window.Bokeh.index[id].model.document\n    doc.clear();\n    const i = window.Bokeh.documents.indexOf(doc);\n    if (i > -1) {\n      window.Bokeh.documents.splice(i, 1);\n    }\n  }\n}\n\n/**\n * Handle kernel restart event\n */\nfunction handle_kernel_cleanup(event, handle) {\n  delete PyViz.comms[\"hv-extension-comm\"];\n  window.PyViz.plot_index = {}\n}\n\n/**\n * Handle update_display_data messages\n */\nfunction handle_update_output(event, handle) {\n  handle_clear_output(event, {cell: {output_area: handle.output_area}})\n  handle_add_output(event, handle)\n}\n\nfunction register_renderer(events, OutputArea) {\n  function append_mime(data, metadata, element) {\n    // create a DOM node to render to\n    var toinsert = this.create_output_subarea(\n    metadata,\n    CLASS_NAME,\n    EXEC_MIME_TYPE\n    );\n    this.keyboard_manager.register_events(toinsert);\n    // Render to node\n    var props = {data: data, metadata: metadata[EXEC_MIME_TYPE]};\n    render(props, toinsert[0]);\n    element.append(toinsert);\n    return toinsert\n  }\n\n  events.on('output_added.OutputArea', handle_add_output);\n  events.on('output_updated.OutputArea', handle_update_output);\n  events.on('clear_output.CodeCell', handle_clear_output);\n  events.on('delete.Cell', handle_clear_output);\n  events.on('kernel_ready.Kernel', handle_kernel_cleanup);\n\n  OutputArea.prototype.register_mime_type(EXEC_MIME_TYPE, append_mime, {\n    safe: true,\n    index: 0\n  });\n}\n\nif (window.Jupyter !== undefined) {\n  try {\n    var events = require('base/js/events');\n    var OutputArea = require('notebook/js/outputarea').OutputArea;\n    if (OutputArea.prototype.mime_types().indexOf(EXEC_MIME_TYPE) == -1) {\n      register_renderer(events, OutputArea);\n    }\n  } catch(err) {\n  }\n}\n",
      "application/vnd.holoviews_load.v0+json": ""
     },
     "metadata": {},
     "output_type": "display_data"
    },
    {
     "data": {
      "text/html": [
       "<style>*[data-root-id],\n",
       "*[data-root-id] > * {\n",
       "  box-sizing: border-box;\n",
       "  font-family: var(--jp-ui-font-family);\n",
       "  font-size: var(--jp-ui-font-size1);\n",
       "  color: var(--vscode-editor-foreground, var(--jp-ui-font-color1));\n",
       "}\n",
       "\n",
       "/* Override VSCode background color */\n",
       ".cell-output-ipywidget-background:has(> .cell-output-ipywidget-background\n",
       "    > .lm-Widget\n",
       "    > *[data-root-id]),\n",
       ".cell-output-ipywidget-background:has(> .lm-Widget > *[data-root-id]) {\n",
       "  background-color: transparent !important;\n",
       "}\n",
       "</style>"
      ]
     },
     "metadata": {},
     "output_type": "display_data"
    }
   ],
   "source": [
    "# Imports\n",
    "%reload_ext autoreload\n",
    "%autoreload 2\n",
    "\n",
    "import os\n",
    "import pickle\n",
    "\n",
    "import numpy as np\n",
    "import pandas as pd\n",
    "import scipy as sp\n",
    "from sklearn.feature_selection import f_classif\n",
    "import torch as t\n",
    "import torch.nn.functional as f\n",
    "import xarray as xr\n",
    "import plotly.express as px\n",
    "import plotly as py\n",
    "import plotly.subplots\n",
    "import plotly.graph_objects as go\n",
    "from einops import rearrange, repeat\n",
    "from IPython.display import Video, display\n",
    "from tqdm.auto import tqdm\n",
    "import warnings\n",
    "\n",
    "# NOTE: this is Monte's RL hooking code (and other stuff will be added in the future)\n",
    "# Install normally with: pip install circrl\n",
    "import circrl.module_hook as cmh\n",
    "import circrl.rollouts as cro\n",
    "import circrl.probing as cpr\n",
    "\n",
    "import procgen_tools.models as models\n",
    "import procgen_tools.maze as maze\n",
    "\n",
    "warnings.filterwarnings(\"ignore\", message=r'.*labels with no predicted samples.*')\n",
    "\n",
    "# Hack to make sure cwd is the script folder\n",
    "os.chdir(globals()['_dh'][0])\n",
    "\n",
    "import procgen_tools\n",
    "import matplotlib.pyplot as plt\n",
    "from procgen_tools.imports import *\n",
    "from procgen_tools import visualization, maze, vfield, patch_utils\n",
    "\n"
   ]
  },
  {
   "cell_type": "code",
   "execution_count": 2,
   "metadata": {},
   "outputs": [],
   "source": [
    "# Number of mazes to work with\n",
    "\n",
    "num_batch = 200"
   ]
  },
  {
   "cell_type": "code",
   "execution_count": 3,
   "metadata": {},
   "outputs": [],
   "source": [
    "# Functions\n",
    "\n",
    "# Takes in a maze object, position in maze, venv (collection of environments), and returns labels regarding whether the position contains object\n",
    "def is_obj_in_pos(obj, pos, venv):\n",
    "    square_is_obj = []\n",
    "\n",
    "    for env_idx in range(venv.num_envs):\n",
    "        #maze.EnvState(dd[state_bytes_key])\n",
    "\n",
    "        square_is_obj.append(maze.state_from_venv(venv, env_idx).full_grid()[pos] == obj)\n",
    "\n",
    "    square_is_obj = np.array(square_is_obj, dtype=bool)\n",
    "    return square_is_obj\n",
    "\n",
    "# Train sparse linear probes on observation of model as a baseline\n",
    "\n",
    "def test_probes_on_obs( obj_is_in_pos_array, hook_to_use, index_nums = np.array([1, 2, 3, 4, 5, 6, 7, 8, 9, 10])):\n",
    "    results, _ = cpr.sparse_linear_probe(hook_to_use, ['embedder.block1.conv_in0'], obj_is_in_pos_array, \n",
    "        index_nums=index_nums, random_state=42, class_weight='balanced', max_iter=1000, C=10.)\n",
    "    #px.line(x=index_nums, y=results.score.isel(value_label=0)).show()\n",
    "    x = pd.DataFrame({'num_activations': index_nums, 'test_score': results.score.isel(value_label=0).values}).set_index('num_activations')\n",
    "    print(x)\n",
    "\n",
    "# Plot the sparse probe scores\n",
    "def plot_sparse_probe_scores(results, y, index_nums, title, include_limits=True):\n",
    "    scores_df = results.score.to_dataframe().reset_index()\n",
    "    scores_df['K'] = index_nums[scores_df['index_num_step']]\n",
    "    fig = px.line(scores_df, x='value_label', y='score', color='K', title=title)\n",
    "    if include_limits:\n",
    "        fig.add_hline(y=1., line_dash=\"dot\", annotation_text=\"perfect\", annotation_position=\"bottom right\")\n",
    "        baseline_score = abs(y.mean()-0.5) + 0.5\n",
    "        fig.add_hline(y=baseline_score, line_dash=\"dot\", annotation_text=\"baseline\", \n",
    "                annotation_position=\"bottom right\")\n",
    "    fig.show()\n",
    "\n",
    "# Apply probes to various layers in the network\n",
    "def test_probes_layers(obj_is_in_pos_array, hook_to_use, pos, index_nums = np.array([1, 2, 10, 50, 100]),\n",
    "    value_labels_to_plot = [\n",
    "        'embedder.block1.conv_in0',\n",
    "        'embedder.block1.res1.resadd_out',\n",
    "        'embedder.block1.res2.resadd_out',\n",
    "        'embedder.block2.res1.resadd_out',\n",
    "        'embedder.block2.res2.resadd_out',\n",
    "        'embedder.block3.res1.resadd_out',\n",
    "        'embedder.block3.res2.resadd_out']\n",
    "    ):\n",
    "\n",
    "\n",
    "    results, _ = cpr.sparse_linear_probe(hook_to_use, value_labels_to_plot, obj_is_in_pos_array,\n",
    "        index_nums = index_nums, random_state=42, class_weight='balanced', max_iter=10000, C=10.)\n",
    "\n",
    "\n",
    "    plot_sparse_probe_scores(results, obj_is_in_pos_array, index_nums, \n",
    "        f'Probe score over layers and K-values for {pos} \"is open\"')\n",
    "    \n",
    "\n",
    "# Get the probe target for object location\n",
    "def get_obj_loc_targets(venv, obj_value):\n",
    "    '''Get potential probe targets for y,x (row, col) location of an\n",
    "    object, where the object is specified by obj_value as the value\n",
    "    to match on in the maze grid array.'''\n",
    "    pos_arr = maze.get_object_pos_from_seq_of_states(\n",
    "        [maze.state_from_venv(venv, env_idx).state_bytes for env_idx in range(num_batch)], obj_value)\n",
    "    pos = xr.Dataset({\n",
    "        'y': xr.DataArray(pos_arr[:,0], dims=['batch']),\n",
    "        'x': xr.DataArray(pos_arr[:,1], dims=['batch'])}).assign_coords(\n",
    "            {'batch': np.arange(num_batch)})\n",
    "    return pos\n",
    "\n",
    "# Get the probe target for top right corner\n",
    "def get_top_right_loc_targets(venv):\n",
    "    '''Get potential probe targets for y,x (row, col) location of an\n",
    "    object, where the object is specified by obj_value as the value\n",
    "    to match on in the maze grid array.'''\n",
    "    # pos_arr is array of length len(state_bytes_seq) with (y,x) locations of object\n",
    "    # pos_arr = maze.get_object_pos_from_seq_of_states(\n",
    "    #     [maze.state_from_venv(venv, env_idx).state_bytes for env_idx in range(num_batch)], obj_value)\n",
    "    # Replace with top right corner coords\n",
    "    pos_arr = np.array([[maze.state_from_venv(venv,env_idx).inner_grid().shape[0]-1, maze.state_from_venv(venv,env_idx).inner_grid().shape[0]-1] for env_idx in range(num_batch)])\n",
    "    pos = xr.Dataset({\n",
    "        'y': xr.DataArray(pos_arr[:,0], dims=['batch']),\n",
    "        'x': xr.DataArray(pos_arr[:,1], dims=['batch'])}).assign_coords(\n",
    "            {'batch': np.arange(num_batch)})\n",
    "    return pos\n",
    "\n",
    "\n",
    "def euclidian_mouse_dist_to_top_right(grid: np.ndarray) -> float:\n",
    "    \"\"\"\n",
    "    Euclidian distance from (x,y) to the cheese. default heuristic for A*\n",
    "    \"\"\"\n",
    "    #print(grid)\n",
    "    grid_size = grid.shape[0]\n",
    "    \n",
    "\n",
    "    # venv = maze.venv_from_grid(grid)\n",
    "    # visualization.visualize_venv(\n",
    "    #     venv\n",
    "    # )\n",
    "    cx, cy = maze.get_mouse_pos(grid)\n",
    "    # print(grid_size-1, grid_size-1)\n",
    "    # print(cx,cy)\n",
    "    return np.sqrt((grid_size-1 - cx) ** 2 + (grid_size-1 - cy) ** 2)\n",
    "\n",
    "def get_mouse_dist_to_top_right(venv):\n",
    "    '''Get potential probe targets for y,x (row, col) location of an\n",
    "    object, where the object is specified by obj_value as the value\n",
    "    to match on in the maze grid array.'''\n",
    "    #print(euclidian_mouse_dist_to_top_right(maze.state_from_venv(venv, 0).inner_grid()))\n",
    "    dist = [euclidian_mouse_dist_to_top_right(maze.state_from_venv(venv, env_idx).inner_grid()) for env_idx in range(num_batch)]\n",
    "    dist_arr = np.array(dist)\n",
    "    return dist_arr\n",
    "\n",
    "def visualize_maze(state: maze.EnvState) -> None:\n",
    "    venv = maze.venv_from_grid(state.inner_grid())\n",
    "    visualization.visualize_venv(venv, render_padding=False)\n",
    "\n",
    "# Helper functions for conv probes\n",
    "# \n",
    "# Some helper functions\n",
    "def grid_coord_to_value_ind(full_grid_coord, value_size):\n",
    "    '''Pick the value index that covers the majority of the grid coord pixel'''\n",
    "    # TODO: I'm pretty sure this is the best groudned approach, but ch 55 responds better to the approach in probing_main.py\n",
    "    return np.floor((full_grid_coord+0.5) * value_size/maze.WORLD_DIM).astype(int)\n",
    "\n",
    "def value_ind_to_grid_coord(value_ind, value_size):\n",
    "    '''Pick the grid coordinate index whose center is closest to the center of the value pixel'''\n",
    "    return np.floor((value_ind+0.5) * maze.WORLD_DIM/value_size).astype(int)\n",
    "\n",
    "def get_obj_pos_data(value_label, object_pos, hook_to_use):\n",
    "    '''Pick the object location and a random other location without the object so we have a\n",
    "    balanced dataset of pixels 2x the original size.'''\n",
    "    rng = np.random.default_rng(15)\n",
    "    # TODO: vectorize this!    \n",
    "    value = hook_to_use.get_value_by_label(value_label)\n",
    "    value_size = value.shape[-1]\n",
    "    num_pixels = num_batch * 2\n",
    "    pixels = np.zeros((num_pixels, value.shape[1]))\n",
    "    is_obj = np.zeros(num_pixels, dtype=bool)\n",
    "    rows_in_value = np.zeros(num_pixels, dtype=int)\n",
    "    cols_in_value = np.zeros(num_pixels, dtype=int)\n",
    "    for bb in tqdm(range(obs_all.shape[0])):\n",
    "        # Cheese location (transform from full grid row/col to row/col in this value)\n",
    "        obj_pos_value = (grid_coord_to_value_ind(\n",
    "                maze.WORLD_DIM-1 - object_pos.y[bb].item(), value_size),\n",
    "            grid_coord_to_value_ind(object_pos.x[bb].item(), value_size))\n",
    "        pixels[bb,:] = value[bb,:,obj_pos_value[0],obj_pos_value[1]]\n",
    "        is_obj[bb] = True\n",
    "        rows_in_value[bb] = obj_pos_value[0]\n",
    "        cols_in_value[bb] = obj_pos_value[1]\n",
    "        # Random pixel that isn't the object location\n",
    "        bb_rand = bb + num_batch\n",
    "        random_pos = obj_pos_value\n",
    "        while random_pos == obj_pos_value:\n",
    "            random_pos = (rng.integers(value_size), rng.integers(value_size))\n",
    "        pixels[bb_rand,:] = value[bb,:,random_pos[0],random_pos[1]]\n",
    "        is_obj[bb_rand] = False\n",
    "        rows_in_value[bb_rand] = random_pos[0]\n",
    "        cols_in_value[bb_rand] = random_pos[1]\n",
    "    return pixels, is_obj, rows_in_value, cols_in_value\n",
    "\n",
    "# def show_f_test_results(pixels, target, target_name, rows_in_value, cols_in_value):\n",
    "#     f_test, _ = cpr.f_classif_fixed(pixels, target)\n",
    "#     f_test_df = pd.Series(f_test).sort_values(ascending=False)\n",
    "\n",
    "#     fig = px.line(y=f_test_df, title=f'Sorted {target_name} f-test scores for channels of<br>{value_label}',\n",
    "#         hover_data={'channel': f_test_df.index})\n",
    "#     fig.update_layout(\n",
    "#         xaxis_title=\"channel rank\",\n",
    "#         yaxis_title=\"f-test score\",)\n",
    "#     fig.show()\n",
    "\n",
    "#     print(list(f_test_df.index[:20]))\n",
    "\n",
    "#     for ch_ind in f_test_df.index[:2]:\n",
    "#         show_pixel_histogram(pixels, target, target_name, ch_ind)\n",
    "\n",
    "def make_pixel_data(value_labels, obj_pos, hook_to_use):\n",
    "    f_test_list = []\n",
    "    pixel_data = {}\n",
    "    for value_label in value_labels:\n",
    "        pixels, is_obj, rows_in_value, cols_in_value = get_obj_pos_data(value_label, obj_pos, hook_to_use)\n",
    "        f_test, _ = cpr.f_classif_fixed(pixels, is_obj)\n",
    "        sort_inds = np.argsort(f_test)[::-1]\n",
    "        pixel_data[value_label] = (pixels, is_obj, rows_in_value, cols_in_value, f_test, sort_inds)\n",
    "        f_test_list.append(pd.DataFrame(\n",
    "            {'layer': np.full(sort_inds.shape, value_label), 'rank': np.arange(len(sort_inds)),\n",
    "            'channel': sort_inds, 'f-score': f_test[sort_inds]}))\n",
    "        #show_f_test_results(pixels, is_obj, 'cheese', rows_in_value, cols_in_value)\n",
    "    f_test_df = pd.concat(f_test_list, axis='index')\n",
    "    return pixel_data, f_test_df\n",
    "    # px.line(f_test_df, x='rank', y='f-score', color='layer', hover_data=['channel'],\n",
    "    #     title='Ranked f-test scores for \"conv pixel contains cheese\" over resadd layers').show()\n",
    "\n"
   ]
  },
  {
   "cell_type": "code",
   "execution_count": 4,
   "metadata": {},
   "outputs": [],
   "source": [
    "# Generate mazes:\n",
    "venv = maze.create_venv(num=num_batch, start_level=0, num_levels=0)\n",
    "\n"
   ]
  },
  {
   "cell_type": "code",
   "execution_count": null,
   "metadata": {},
   "outputs": [],
   "source": []
  },
  {
   "cell_type": "code",
   "execution_count": 5,
   "metadata": {},
   "outputs": [],
   "source": [
    "# Load models:\n",
    "policy1, hook1 = load_model('15', 15)\n",
    "policy2, hook2 = load_model('1', 15)\n",
    "AX_SIZE = 2"
   ]
  },
  {
   "cell_type": "code",
   "execution_count": 6,
   "metadata": {},
   "outputs": [],
   "source": [
    "# Collect activations\n",
    "\n",
    "# Just resadd layers\n",
    "values_to_store = [\n",
    "    'embedder.block1.conv_in0',\n",
    "    'embedder.block1.res1.resadd_out',\n",
    "    'embedder.block1.res2.resadd_out',\n",
    "    'embedder.block2.res1.resadd_out',\n",
    "    'embedder.block2.res2.resadd_out',\n",
    "    'embedder.block3.res1.resadd_out',\n",
    "    'embedder.block3.res2.resadd_out',\n",
    "    # 'embedder.flatten_out',\n",
    "    # 'embedder.relufc_out',\n",
    "    # 'fc_policy_out',\n",
    "]\n",
    "\n",
    "# ReLU layers as well\n",
    "\n",
    "values_to_store = [\n",
    "    'embedder.block1.conv_in0',\n",
    "    'embedder.block1.res1.relu1_out',\n",
    "    'embedder.block1.res1.resadd_out',\n",
    "    'embedder.block1.res1.relu2_out',\n",
    "    'embedder.block1.res2.relu1_out',\n",
    "    'embedder.block1.res2.resadd_out',\n",
    "    'embedder.block1.res2.relu2_out',\n",
    "    'embedder.block2.res1.relu1_out',\n",
    "    'embedder.block2.res1.resadd_out',\n",
    "    'embedder.block2.res1.relu2_out',\n",
    "    'embedder.block2.res2.relu1_out',\n",
    "    'embedder.block2.res2.resadd_out',\n",
    "    'embedder.block2.res2.relu2_out',\n",
    "    'embedder.block3.res1.relu1_out',\n",
    "    'embedder.block3.res1.resadd_out',\n",
    "    'embedder.block3.res1.relu2_out',\n",
    "    'embedder.block3.res2.relu1_out',\n",
    "    'embedder.block3.res2.resadd_out',\n",
    "    'embedder.block3.res2.relu2_out',\n",
    "    'embedder.flatten_out',\n",
    "    'embedder.relufc_out',\n",
    "    'fc_policy_out',\n",
    "]\n",
    "\n",
    "\n",
    "\n",
    "# Run obs through model to get all the activations\n",
    "obs_all = venv.reset().astype('float32')\n",
    "\n",
    "_ = hook.run_with_input(obs_all, values_to_store=values_to_store)\n",
    "_ = hook1.run_with_input(obs_all, values_to_store=values_to_store)\n",
    "_ = hook2.run_with_input(obs_all, values_to_store=values_to_store)"
   ]
  },
  {
   "cell_type": "code",
   "execution_count": null,
   "metadata": {},
   "outputs": [],
   "source": []
  },
  {
   "cell_type": "code",
   "execution_count": 7,
   "metadata": {},
   "outputs": [],
   "source": [
    "# Get the cheese, mouse, and top-right positions for all mazes\n",
    "cheese_pos = get_obj_loc_targets(venv, maze.CHEESE)\n",
    "mouse_pos = get_obj_loc_targets(venv, maze.MOUSE)\n",
    "top_right_pos = get_top_right_loc_targets(venv)\n",
    "\n"
   ]
  },
  {
   "cell_type": "code",
   "execution_count": 8,
   "metadata": {},
   "outputs": [
    {
     "name": "stdout",
     "output_type": "stream",
     "text": [
      "[ 4.  2. 17. 17. 13. 13. 16. 15. 13. 18. 19. 16. 15.  7.  8. 14.  7.  9.\n",
      " 13. 12. 14. 17. 12. 13. 15. 21. 16.  3. 17. 18. 14. 13. 12. 14. 12. 11.\n",
      "  9. 13. 17. 16. 22. 23.  8. 12. 10.  9. 13.  8. 13. 17. 15. 17. 14. 15.\n",
      "  7.  6. 11. 13.  8. 10. 15. 10. 12. 16. 15. 10. 23. 15. 13. 11.  9. 13.\n",
      "  3.  8. 12. 12. 11.  9. 10. 14. 23. 10. 17. 22. 12. 15. 13. 21. 20.  9.\n",
      " 11. 10. 15.  9. 11.  5.  9.  8.  5. 19. 11.  9.  9.  9. 17. 17. 18. 10.\n",
      "  5. 12. 12. 12. 11. 10. 24. 13. 18. 11.  7.  9. 13. 18. 10.  7. 10.  5.\n",
      "  1. 22. 21.  3. 24. 11. 14. 12. 13. 10. 13.  7.  9. 13. 17. 17.  8. 12.\n",
      " 13.  6. 15. 10. 11.  7.  8.  9.  9. 13.  6. 11. 11. 15. 14.  4. 18. 14.\n",
      " 15. 14.  8. 14. 11. 12. 13. 20. 10. 12. 20. 13.  3. 23. 12.  8. 19. 15.\n",
      " 13. 14.  9. 18.  3. 10. 13. 11. 11. 15.  4. 10. 16. 17.  0. 11. 13. 16.\n",
      " 13.  3.]\n"
     ]
    }
   ],
   "source": [
    "cheese_pos_x = cheese_pos.x.values.astype(float)\n",
    "print(cheese_pos_x)"
   ]
  },
  {
   "cell_type": "code",
   "execution_count": 11,
   "metadata": {},
   "outputs": [
    {
     "name": "stdout",
     "output_type": "stream",
     "text": [
      "22\n"
     ]
    },
    {
     "data": {
      "application/vnd.jupyter.widget-view+json": {
       "model_id": "11a57acfbb334ea0b258089a7483d124",
       "version_major": 2,
       "version_minor": 0
      },
      "text/plain": [
       "  0%|          | 0/22 [00:00<?, ?it/s]"
      ]
     },
     "metadata": {},
     "output_type": "display_data"
    },
    {
     "data": {
      "application/vnd.plotly.v1+json": {
       "config": {
        "plotlyServerURL": "https://plot.ly"
       },
       "data": [
        {
         "hovertemplate": "K=1<br>value_label=%{x}<br>score=%{y}<extra></extra>",
         "legendgroup": "1",
         "line": {
          "color": "#636efa",
          "dash": "solid"
         },
         "marker": {
          "symbol": "circle"
         },
         "mode": "lines",
         "name": "1",
         "orientation": "v",
         "showlegend": true,
         "type": "scatter",
         "x": [
          "embedder.block1.conv_in0",
          "embedder.block1.res1.relu1_out",
          "embedder.block1.res1.resadd_out",
          "embedder.block1.res1.relu2_out",
          "embedder.block1.res2.relu1_out",
          "embedder.block1.res2.resadd_out",
          "embedder.block1.res2.relu2_out",
          "embedder.block2.res1.relu1_out",
          "embedder.block2.res1.resadd_out",
          "embedder.block2.res1.relu2_out",
          "embedder.block2.res2.relu1_out",
          "embedder.block2.res2.resadd_out",
          "embedder.block2.res2.relu2_out",
          "embedder.block3.res1.relu1_out",
          "embedder.block3.res1.resadd_out",
          "embedder.block3.res1.relu2_out",
          "embedder.block3.res2.relu1_out",
          "embedder.block3.res2.resadd_out",
          "embedder.block3.res2.relu2_out",
          "embedder.flatten_out",
          "embedder.relufc_out",
          "fc_policy_out"
         ],
         "xaxis": "x",
         "y": [
          -0.13504487944442967,
          -0.13557271498928425,
          -0.13595225002497768,
          -0.13554210093008545,
          -0.13560270625434612,
          -0.1351045595316791,
          -0.1355546005670598,
          -0.1358113655795996,
          -0.128442635209278,
          -0.13555866981212694,
          -0.13420432447266095,
          -0.13357468742381284,
          -0.13489101115544622,
          -0.013726013687751726,
          -0.045397724858072586,
          -0.08142974156609317,
          -0.0043584042896918085,
          0.14839469956012097,
          -0.004781193435868136,
          -0.04104019203691944,
          0.2619342917594395,
          -0.12233994230480816
         ],
         "yaxis": "y"
        },
        {
         "hovertemplate": "K=10<br>value_label=%{x}<br>score=%{y}<extra></extra>",
         "legendgroup": "10",
         "line": {
          "color": "#EF553B",
          "dash": "solid"
         },
         "marker": {
          "symbol": "circle"
         },
         "mode": "lines",
         "name": "10",
         "orientation": "v",
         "showlegend": true,
         "type": "scatter",
         "x": [
          "embedder.block1.conv_in0",
          "embedder.block1.res1.relu1_out",
          "embedder.block1.res1.resadd_out",
          "embedder.block1.res1.relu2_out",
          "embedder.block1.res2.relu1_out",
          "embedder.block1.res2.resadd_out",
          "embedder.block1.res2.relu2_out",
          "embedder.block2.res1.relu1_out",
          "embedder.block2.res1.resadd_out",
          "embedder.block2.res1.relu2_out",
          "embedder.block2.res2.relu1_out",
          "embedder.block2.res2.resadd_out",
          "embedder.block2.res2.relu2_out",
          "embedder.block3.res1.relu1_out",
          "embedder.block3.res1.resadd_out",
          "embedder.block3.res1.relu2_out",
          "embedder.block3.res2.relu1_out",
          "embedder.block3.res2.resadd_out",
          "embedder.block3.res2.relu2_out",
          "embedder.flatten_out",
          "embedder.relufc_out",
          "fc_policy_out"
         ],
         "xaxis": "x",
         "y": [
          -0.13965900240144724,
          -0.13547955610561035,
          -0.13698251815403562,
          -0.13626848510315903,
          -0.1356829457369766,
          -0.13545349792239603,
          -0.1360906639421655,
          -0.13664263232508045,
          -0.07429543835768082,
          -0.1266241127947776,
          -0.11996564047081604,
          -0.1004943831124272,
          -0.11147686990181316,
          0.20924545091468383,
          0.341946205456907,
          0.0974456083491837,
          0.29281129910181514,
          0.33361970594546764,
          0.19006261997986706,
          0.28690243544497995,
          0.4750252020488639,
          -0.03611246911920718
         ],
         "yaxis": "y"
        },
        {
         "hovertemplate": "K=100<br>value_label=%{x}<br>score=%{y}<extra></extra>",
         "legendgroup": "100",
         "line": {
          "color": "#00cc96",
          "dash": "solid"
         },
         "marker": {
          "symbol": "circle"
         },
         "mode": "lines",
         "name": "100",
         "orientation": "v",
         "showlegend": true,
         "type": "scatter",
         "x": [
          "embedder.block1.conv_in0",
          "embedder.block1.res1.relu1_out",
          "embedder.block1.res1.resadd_out",
          "embedder.block1.res1.relu2_out",
          "embedder.block1.res2.relu1_out",
          "embedder.block1.res2.resadd_out",
          "embedder.block1.res2.relu2_out",
          "embedder.block2.res1.relu1_out",
          "embedder.block2.res1.resadd_out",
          "embedder.block2.res1.relu2_out",
          "embedder.block2.res2.relu1_out",
          "embedder.block2.res2.resadd_out",
          "embedder.block2.res2.relu2_out",
          "embedder.block3.res1.relu1_out",
          "embedder.block3.res1.resadd_out",
          "embedder.block3.res1.relu2_out",
          "embedder.block3.res2.relu1_out",
          "embedder.block3.res2.resadd_out",
          "embedder.block3.res2.relu2_out",
          "embedder.flatten_out",
          "embedder.relufc_out",
          "fc_policy_out"
         ],
         "xaxis": "x",
         "y": [
          -0.15840831395862875,
          -0.1355772780102511,
          -0.13970295184568715,
          -0.137375626566679,
          -0.13766710285873107,
          -0.13812393196484773,
          -0.13747665142121357,
          -0.12489486420481222,
          0.12010451363835806,
          -0.09628358519218994,
          -0.03659789997485863,
          0.10755228501729763,
          -0.03703071960009563,
          0.519427970959648,
          0.5396808838375579,
          0.5007971545207945,
          0.5744492708795943,
          0.5261288077851265,
          0.4392566101934592,
          0.5295896909512847,
          0.5728187870940978,
          -0.03143542480045669
         ],
         "yaxis": "y"
        },
        {
         "hovertemplate": "K=1000<br>value_label=%{x}<br>score=%{y}<extra></extra>",
         "legendgroup": "1000",
         "line": {
          "color": "#ab63fa",
          "dash": "solid"
         },
         "marker": {
          "symbol": "circle"
         },
         "mode": "lines",
         "name": "1000",
         "orientation": "v",
         "showlegend": true,
         "type": "scatter",
         "x": [
          "embedder.block1.conv_in0",
          "embedder.block1.res1.relu1_out",
          "embedder.block1.res1.resadd_out",
          "embedder.block1.res1.relu2_out",
          "embedder.block1.res2.relu1_out",
          "embedder.block1.res2.resadd_out",
          "embedder.block1.res2.relu2_out",
          "embedder.block2.res1.relu1_out",
          "embedder.block2.res1.resadd_out",
          "embedder.block2.res1.relu2_out",
          "embedder.block2.res2.relu1_out",
          "embedder.block2.res2.resadd_out",
          "embedder.block2.res2.relu2_out",
          "embedder.block3.res1.relu1_out",
          "embedder.block3.res1.resadd_out",
          "embedder.block3.res1.relu2_out",
          "embedder.block3.res2.relu1_out",
          "embedder.block3.res2.resadd_out",
          "embedder.block3.res2.relu2_out",
          "embedder.flatten_out",
          "embedder.relufc_out",
          "fc_policy_out"
         ],
         "xaxis": "x",
         "y": [
          -0.23412921637642725,
          -0.1355057934285131,
          -0.1480007553337661,
          -0.1335450946239336,
          -0.14002699632403592,
          -0.15625578981865362,
          -0.14290116726021873,
          -0.05440743676899107,
          0.24738104943724148,
          -0.030344105308789615,
          0.11035482635594462,
          0.425922057403724,
          0.09721882519128988,
          0.6630222263202028,
          0.7027746291607974,
          0.6065383016716948,
          0.663128400636807,
          0.6766804351364695,
          0.5687918441147594,
          0.6145911150713412,
          0.5818355823439185,
          -0.03143542480045669
         ],
         "yaxis": "y"
        },
        {
         "hovertemplate": "K=10000<br>value_label=%{x}<br>score=%{y}<extra></extra>",
         "legendgroup": "10000",
         "line": {
          "color": "#FFA15A",
          "dash": "solid"
         },
         "marker": {
          "symbol": "circle"
         },
         "mode": "lines",
         "name": "10000",
         "orientation": "v",
         "showlegend": true,
         "type": "scatter",
         "x": [
          "embedder.block1.conv_in0",
          "embedder.block1.res1.relu1_out",
          "embedder.block1.res1.resadd_out",
          "embedder.block1.res1.relu2_out",
          "embedder.block1.res2.relu1_out",
          "embedder.block1.res2.resadd_out",
          "embedder.block1.res2.relu2_out",
          "embedder.block2.res1.relu1_out",
          "embedder.block2.res1.resadd_out",
          "embedder.block2.res1.relu2_out",
          "embedder.block2.res2.relu1_out",
          "embedder.block2.res2.resadd_out",
          "embedder.block2.res2.relu2_out",
          "embedder.block3.res1.relu1_out",
          "embedder.block3.res1.resadd_out",
          "embedder.block3.res1.relu2_out",
          "embedder.block3.res2.relu1_out",
          "embedder.block3.res2.resadd_out",
          "embedder.block3.res2.relu2_out",
          "embedder.flatten_out",
          "embedder.relufc_out",
          "fc_policy_out"
         ],
         "xaxis": "x",
         "y": [
          -0.2251626762084631,
          -0.168625293065644,
          -0.18050355762669623,
          -0.14747315858092658,
          -0.14831664011515922,
          -0.20940741526125106,
          -0.16149815821736624,
          0.027977648311566905,
          0.25266529796868376,
          0.08042153658479778,
          0.21248203622684791,
          0.5046059511300715,
          0.2265364909666827,
          0.6741161574332587,
          0.703652996073385,
          0.627784501762384,
          0.6540924257968582,
          0.7070602609824561,
          0.6024666013699498,
          0.6028333090590768,
          0.5818355823439185,
          -0.03143542480045669
         ],
         "yaxis": "y"
        },
        {
         "hovertemplate": "K=100000<br>value_label=%{x}<br>score=%{y}<extra></extra>",
         "legendgroup": "100000",
         "line": {
          "color": "#19d3f3",
          "dash": "solid"
         },
         "marker": {
          "symbol": "circle"
         },
         "mode": "lines",
         "name": "100000",
         "orientation": "v",
         "showlegend": true,
         "type": "scatter",
         "x": [
          "embedder.block1.conv_in0",
          "embedder.block1.res1.relu1_out",
          "embedder.block1.res1.resadd_out",
          "embedder.block1.res1.relu2_out",
          "embedder.block1.res2.relu1_out",
          "embedder.block1.res2.resadd_out",
          "embedder.block1.res2.relu2_out",
          "embedder.block2.res1.relu1_out",
          "embedder.block2.res1.resadd_out",
          "embedder.block2.res1.relu2_out",
          "embedder.block2.res2.relu1_out",
          "embedder.block2.res2.resadd_out",
          "embedder.block2.res2.relu2_out",
          "embedder.block3.res1.relu1_out",
          "embedder.block3.res1.resadd_out",
          "embedder.block3.res1.relu2_out",
          "embedder.block3.res2.relu1_out",
          "embedder.block3.res2.resadd_out",
          "embedder.block3.res2.relu2_out",
          "embedder.flatten_out",
          "embedder.relufc_out",
          "fc_policy_out"
         ],
         "xaxis": "x",
         "y": [
          -0.21654798965587418,
          -0.1756133660142707,
          -0.1939902693773503,
          -0.14732765257163316,
          -0.15390290118857886,
          -0.23498583626746328,
          -0.15938295831728477,
          0.022002046095139782,
          0.23631774117314175,
          0.0830392052744291,
          0.21101033424240145,
          0.482194883970959,
          0.24183752694065574,
          0.6741161574332587,
          0.703652996073385,
          0.627784501762384,
          0.6540924257968582,
          0.7070602609824561,
          0.6024666013699498,
          0.6028333090590768,
          0.5818355823439185,
          -0.03143542480045669
         ],
         "yaxis": "y"
        }
       ],
       "layout": {
        "legend": {
         "title": {
          "text": "K"
         },
         "tracegroupgap": 0
        },
        "template": {
         "data": {
          "bar": [
           {
            "error_x": {
             "color": "#2a3f5f"
            },
            "error_y": {
             "color": "#2a3f5f"
            },
            "marker": {
             "line": {
              "color": "#E5ECF6",
              "width": 0.5
             },
             "pattern": {
              "fillmode": "overlay",
              "size": 10,
              "solidity": 0.2
             }
            },
            "type": "bar"
           }
          ],
          "barpolar": [
           {
            "marker": {
             "line": {
              "color": "#E5ECF6",
              "width": 0.5
             },
             "pattern": {
              "fillmode": "overlay",
              "size": 10,
              "solidity": 0.2
             }
            },
            "type": "barpolar"
           }
          ],
          "carpet": [
           {
            "aaxis": {
             "endlinecolor": "#2a3f5f",
             "gridcolor": "white",
             "linecolor": "white",
             "minorgridcolor": "white",
             "startlinecolor": "#2a3f5f"
            },
            "baxis": {
             "endlinecolor": "#2a3f5f",
             "gridcolor": "white",
             "linecolor": "white",
             "minorgridcolor": "white",
             "startlinecolor": "#2a3f5f"
            },
            "type": "carpet"
           }
          ],
          "choropleth": [
           {
            "colorbar": {
             "outlinewidth": 0,
             "ticks": ""
            },
            "type": "choropleth"
           }
          ],
          "contour": [
           {
            "colorbar": {
             "outlinewidth": 0,
             "ticks": ""
            },
            "colorscale": [
             [
              0,
              "#0d0887"
             ],
             [
              0.1111111111111111,
              "#46039f"
             ],
             [
              0.2222222222222222,
              "#7201a8"
             ],
             [
              0.3333333333333333,
              "#9c179e"
             ],
             [
              0.4444444444444444,
              "#bd3786"
             ],
             [
              0.5555555555555556,
              "#d8576b"
             ],
             [
              0.6666666666666666,
              "#ed7953"
             ],
             [
              0.7777777777777778,
              "#fb9f3a"
             ],
             [
              0.8888888888888888,
              "#fdca26"
             ],
             [
              1,
              "#f0f921"
             ]
            ],
            "type": "contour"
           }
          ],
          "contourcarpet": [
           {
            "colorbar": {
             "outlinewidth": 0,
             "ticks": ""
            },
            "type": "contourcarpet"
           }
          ],
          "heatmap": [
           {
            "colorbar": {
             "outlinewidth": 0,
             "ticks": ""
            },
            "colorscale": [
             [
              0,
              "#0d0887"
             ],
             [
              0.1111111111111111,
              "#46039f"
             ],
             [
              0.2222222222222222,
              "#7201a8"
             ],
             [
              0.3333333333333333,
              "#9c179e"
             ],
             [
              0.4444444444444444,
              "#bd3786"
             ],
             [
              0.5555555555555556,
              "#d8576b"
             ],
             [
              0.6666666666666666,
              "#ed7953"
             ],
             [
              0.7777777777777778,
              "#fb9f3a"
             ],
             [
              0.8888888888888888,
              "#fdca26"
             ],
             [
              1,
              "#f0f921"
             ]
            ],
            "type": "heatmap"
           }
          ],
          "heatmapgl": [
           {
            "colorbar": {
             "outlinewidth": 0,
             "ticks": ""
            },
            "colorscale": [
             [
              0,
              "#0d0887"
             ],
             [
              0.1111111111111111,
              "#46039f"
             ],
             [
              0.2222222222222222,
              "#7201a8"
             ],
             [
              0.3333333333333333,
              "#9c179e"
             ],
             [
              0.4444444444444444,
              "#bd3786"
             ],
             [
              0.5555555555555556,
              "#d8576b"
             ],
             [
              0.6666666666666666,
              "#ed7953"
             ],
             [
              0.7777777777777778,
              "#fb9f3a"
             ],
             [
              0.8888888888888888,
              "#fdca26"
             ],
             [
              1,
              "#f0f921"
             ]
            ],
            "type": "heatmapgl"
           }
          ],
          "histogram": [
           {
            "marker": {
             "pattern": {
              "fillmode": "overlay",
              "size": 10,
              "solidity": 0.2
             }
            },
            "type": "histogram"
           }
          ],
          "histogram2d": [
           {
            "colorbar": {
             "outlinewidth": 0,
             "ticks": ""
            },
            "colorscale": [
             [
              0,
              "#0d0887"
             ],
             [
              0.1111111111111111,
              "#46039f"
             ],
             [
              0.2222222222222222,
              "#7201a8"
             ],
             [
              0.3333333333333333,
              "#9c179e"
             ],
             [
              0.4444444444444444,
              "#bd3786"
             ],
             [
              0.5555555555555556,
              "#d8576b"
             ],
             [
              0.6666666666666666,
              "#ed7953"
             ],
             [
              0.7777777777777778,
              "#fb9f3a"
             ],
             [
              0.8888888888888888,
              "#fdca26"
             ],
             [
              1,
              "#f0f921"
             ]
            ],
            "type": "histogram2d"
           }
          ],
          "histogram2dcontour": [
           {
            "colorbar": {
             "outlinewidth": 0,
             "ticks": ""
            },
            "colorscale": [
             [
              0,
              "#0d0887"
             ],
             [
              0.1111111111111111,
              "#46039f"
             ],
             [
              0.2222222222222222,
              "#7201a8"
             ],
             [
              0.3333333333333333,
              "#9c179e"
             ],
             [
              0.4444444444444444,
              "#bd3786"
             ],
             [
              0.5555555555555556,
              "#d8576b"
             ],
             [
              0.6666666666666666,
              "#ed7953"
             ],
             [
              0.7777777777777778,
              "#fb9f3a"
             ],
             [
              0.8888888888888888,
              "#fdca26"
             ],
             [
              1,
              "#f0f921"
             ]
            ],
            "type": "histogram2dcontour"
           }
          ],
          "mesh3d": [
           {
            "colorbar": {
             "outlinewidth": 0,
             "ticks": ""
            },
            "type": "mesh3d"
           }
          ],
          "parcoords": [
           {
            "line": {
             "colorbar": {
              "outlinewidth": 0,
              "ticks": ""
             }
            },
            "type": "parcoords"
           }
          ],
          "pie": [
           {
            "automargin": true,
            "type": "pie"
           }
          ],
          "scatter": [
           {
            "fillpattern": {
             "fillmode": "overlay",
             "size": 10,
             "solidity": 0.2
            },
            "type": "scatter"
           }
          ],
          "scatter3d": [
           {
            "line": {
             "colorbar": {
              "outlinewidth": 0,
              "ticks": ""
             }
            },
            "marker": {
             "colorbar": {
              "outlinewidth": 0,
              "ticks": ""
             }
            },
            "type": "scatter3d"
           }
          ],
          "scattercarpet": [
           {
            "marker": {
             "colorbar": {
              "outlinewidth": 0,
              "ticks": ""
             }
            },
            "type": "scattercarpet"
           }
          ],
          "scattergeo": [
           {
            "marker": {
             "colorbar": {
              "outlinewidth": 0,
              "ticks": ""
             }
            },
            "type": "scattergeo"
           }
          ],
          "scattergl": [
           {
            "marker": {
             "colorbar": {
              "outlinewidth": 0,
              "ticks": ""
             }
            },
            "type": "scattergl"
           }
          ],
          "scattermapbox": [
           {
            "marker": {
             "colorbar": {
              "outlinewidth": 0,
              "ticks": ""
             }
            },
            "type": "scattermapbox"
           }
          ],
          "scatterpolar": [
           {
            "marker": {
             "colorbar": {
              "outlinewidth": 0,
              "ticks": ""
             }
            },
            "type": "scatterpolar"
           }
          ],
          "scatterpolargl": [
           {
            "marker": {
             "colorbar": {
              "outlinewidth": 0,
              "ticks": ""
             }
            },
            "type": "scatterpolargl"
           }
          ],
          "scatterternary": [
           {
            "marker": {
             "colorbar": {
              "outlinewidth": 0,
              "ticks": ""
             }
            },
            "type": "scatterternary"
           }
          ],
          "surface": [
           {
            "colorbar": {
             "outlinewidth": 0,
             "ticks": ""
            },
            "colorscale": [
             [
              0,
              "#0d0887"
             ],
             [
              0.1111111111111111,
              "#46039f"
             ],
             [
              0.2222222222222222,
              "#7201a8"
             ],
             [
              0.3333333333333333,
              "#9c179e"
             ],
             [
              0.4444444444444444,
              "#bd3786"
             ],
             [
              0.5555555555555556,
              "#d8576b"
             ],
             [
              0.6666666666666666,
              "#ed7953"
             ],
             [
              0.7777777777777778,
              "#fb9f3a"
             ],
             [
              0.8888888888888888,
              "#fdca26"
             ],
             [
              1,
              "#f0f921"
             ]
            ],
            "type": "surface"
           }
          ],
          "table": [
           {
            "cells": {
             "fill": {
              "color": "#EBF0F8"
             },
             "line": {
              "color": "white"
             }
            },
            "header": {
             "fill": {
              "color": "#C8D4E3"
             },
             "line": {
              "color": "white"
             }
            },
            "type": "table"
           }
          ]
         },
         "layout": {
          "annotationdefaults": {
           "arrowcolor": "#2a3f5f",
           "arrowhead": 0,
           "arrowwidth": 1
          },
          "autotypenumbers": "strict",
          "coloraxis": {
           "colorbar": {
            "outlinewidth": 0,
            "ticks": ""
           }
          },
          "colorscale": {
           "diverging": [
            [
             0,
             "#8e0152"
            ],
            [
             0.1,
             "#c51b7d"
            ],
            [
             0.2,
             "#de77ae"
            ],
            [
             0.3,
             "#f1b6da"
            ],
            [
             0.4,
             "#fde0ef"
            ],
            [
             0.5,
             "#f7f7f7"
            ],
            [
             0.6,
             "#e6f5d0"
            ],
            [
             0.7,
             "#b8e186"
            ],
            [
             0.8,
             "#7fbc41"
            ],
            [
             0.9,
             "#4d9221"
            ],
            [
             1,
             "#276419"
            ]
           ],
           "sequential": [
            [
             0,
             "#0d0887"
            ],
            [
             0.1111111111111111,
             "#46039f"
            ],
            [
             0.2222222222222222,
             "#7201a8"
            ],
            [
             0.3333333333333333,
             "#9c179e"
            ],
            [
             0.4444444444444444,
             "#bd3786"
            ],
            [
             0.5555555555555556,
             "#d8576b"
            ],
            [
             0.6666666666666666,
             "#ed7953"
            ],
            [
             0.7777777777777778,
             "#fb9f3a"
            ],
            [
             0.8888888888888888,
             "#fdca26"
            ],
            [
             1,
             "#f0f921"
            ]
           ],
           "sequentialminus": [
            [
             0,
             "#0d0887"
            ],
            [
             0.1111111111111111,
             "#46039f"
            ],
            [
             0.2222222222222222,
             "#7201a8"
            ],
            [
             0.3333333333333333,
             "#9c179e"
            ],
            [
             0.4444444444444444,
             "#bd3786"
            ],
            [
             0.5555555555555556,
             "#d8576b"
            ],
            [
             0.6666666666666666,
             "#ed7953"
            ],
            [
             0.7777777777777778,
             "#fb9f3a"
            ],
            [
             0.8888888888888888,
             "#fdca26"
            ],
            [
             1,
             "#f0f921"
            ]
           ]
          },
          "colorway": [
           "#636efa",
           "#EF553B",
           "#00cc96",
           "#ab63fa",
           "#FFA15A",
           "#19d3f3",
           "#FF6692",
           "#B6E880",
           "#FF97FF",
           "#FECB52"
          ],
          "font": {
           "color": "#2a3f5f"
          },
          "geo": {
           "bgcolor": "white",
           "lakecolor": "white",
           "landcolor": "#E5ECF6",
           "showlakes": true,
           "showland": true,
           "subunitcolor": "white"
          },
          "hoverlabel": {
           "align": "left"
          },
          "hovermode": "closest",
          "mapbox": {
           "style": "light"
          },
          "paper_bgcolor": "white",
          "plot_bgcolor": "#E5ECF6",
          "polar": {
           "angularaxis": {
            "gridcolor": "white",
            "linecolor": "white",
            "ticks": ""
           },
           "bgcolor": "#E5ECF6",
           "radialaxis": {
            "gridcolor": "white",
            "linecolor": "white",
            "ticks": ""
           }
          },
          "scene": {
           "xaxis": {
            "backgroundcolor": "#E5ECF6",
            "gridcolor": "white",
            "gridwidth": 2,
            "linecolor": "white",
            "showbackground": true,
            "ticks": "",
            "zerolinecolor": "white"
           },
           "yaxis": {
            "backgroundcolor": "#E5ECF6",
            "gridcolor": "white",
            "gridwidth": 2,
            "linecolor": "white",
            "showbackground": true,
            "ticks": "",
            "zerolinecolor": "white"
           },
           "zaxis": {
            "backgroundcolor": "#E5ECF6",
            "gridcolor": "white",
            "gridwidth": 2,
            "linecolor": "white",
            "showbackground": true,
            "ticks": "",
            "zerolinecolor": "white"
           }
          },
          "shapedefaults": {
           "line": {
            "color": "#2a3f5f"
           }
          },
          "ternary": {
           "aaxis": {
            "gridcolor": "white",
            "linecolor": "white",
            "ticks": ""
           },
           "baxis": {
            "gridcolor": "white",
            "linecolor": "white",
            "ticks": ""
           },
           "bgcolor": "#E5ECF6",
           "caxis": {
            "gridcolor": "white",
            "linecolor": "white",
            "ticks": ""
           }
          },
          "title": {
           "x": 0.05
          },
          "xaxis": {
           "automargin": true,
           "gridcolor": "white",
           "linecolor": "white",
           "ticks": "",
           "title": {
            "standoff": 15
           },
           "zerolinecolor": "white",
           "zerolinewidth": 2
          },
          "yaxis": {
           "automargin": true,
           "gridcolor": "white",
           "linecolor": "white",
           "ticks": "",
           "title": {
            "standoff": 15
           },
           "zerolinecolor": "white",
           "zerolinewidth": 2
          }
         }
        },
        "title": {
         "text": "Probe score over layers and K-values for Cheese, Cheese Mouse model"
        },
        "xaxis": {
         "anchor": "y",
         "domain": [
          0,
          1
         ],
         "title": {
          "text": "value_label"
         }
        },
        "yaxis": {
         "anchor": "x",
         "domain": [
          0,
          1
         ],
         "title": {
          "text": "score"
         }
        }
       }
      },
      "text/html": [
       "<div>                            <div id=\"7c5fcee1-a7e3-4a1f-ae64-6b20d05a8b14\" class=\"plotly-graph-div\" style=\"height:525px; width:100%;\"></div>            <script type=\"text/javascript\">                require([\"plotly\"], function(Plotly) {                    window.PLOTLYENV=window.PLOTLYENV || {};                                    if (document.getElementById(\"7c5fcee1-a7e3-4a1f-ae64-6b20d05a8b14\")) {                    Plotly.newPlot(                        \"7c5fcee1-a7e3-4a1f-ae64-6b20d05a8b14\",                        [{\"hovertemplate\":\"K=1\\u003cbr\\u003evalue_label=%{x}\\u003cbr\\u003escore=%{y}\\u003cextra\\u003e\\u003c\\u002fextra\\u003e\",\"legendgroup\":\"1\",\"line\":{\"color\":\"#636efa\",\"dash\":\"solid\"},\"marker\":{\"symbol\":\"circle\"},\"mode\":\"lines\",\"name\":\"1\",\"orientation\":\"v\",\"showlegend\":true,\"x\":[\"embedder.block1.conv_in0\",\"embedder.block1.res1.relu1_out\",\"embedder.block1.res1.resadd_out\",\"embedder.block1.res1.relu2_out\",\"embedder.block1.res2.relu1_out\",\"embedder.block1.res2.resadd_out\",\"embedder.block1.res2.relu2_out\",\"embedder.block2.res1.relu1_out\",\"embedder.block2.res1.resadd_out\",\"embedder.block2.res1.relu2_out\",\"embedder.block2.res2.relu1_out\",\"embedder.block2.res2.resadd_out\",\"embedder.block2.res2.relu2_out\",\"embedder.block3.res1.relu1_out\",\"embedder.block3.res1.resadd_out\",\"embedder.block3.res1.relu2_out\",\"embedder.block3.res2.relu1_out\",\"embedder.block3.res2.resadd_out\",\"embedder.block3.res2.relu2_out\",\"embedder.flatten_out\",\"embedder.relufc_out\",\"fc_policy_out\"],\"xaxis\":\"x\",\"y\":[-0.13504487944442967,-0.13557271498928425,-0.13595225002497768,-0.13554210093008545,-0.13560270625434612,-0.1351045595316791,-0.1355546005670598,-0.1358113655795996,-0.128442635209278,-0.13555866981212694,-0.13420432447266095,-0.13357468742381284,-0.13489101115544622,-0.013726013687751726,-0.045397724858072586,-0.08142974156609317,-0.0043584042896918085,0.14839469956012097,-0.004781193435868136,-0.04104019203691944,0.2619342917594395,-0.12233994230480816],\"yaxis\":\"y\",\"type\":\"scatter\"},{\"hovertemplate\":\"K=10\\u003cbr\\u003evalue_label=%{x}\\u003cbr\\u003escore=%{y}\\u003cextra\\u003e\\u003c\\u002fextra\\u003e\",\"legendgroup\":\"10\",\"line\":{\"color\":\"#EF553B\",\"dash\":\"solid\"},\"marker\":{\"symbol\":\"circle\"},\"mode\":\"lines\",\"name\":\"10\",\"orientation\":\"v\",\"showlegend\":true,\"x\":[\"embedder.block1.conv_in0\",\"embedder.block1.res1.relu1_out\",\"embedder.block1.res1.resadd_out\",\"embedder.block1.res1.relu2_out\",\"embedder.block1.res2.relu1_out\",\"embedder.block1.res2.resadd_out\",\"embedder.block1.res2.relu2_out\",\"embedder.block2.res1.relu1_out\",\"embedder.block2.res1.resadd_out\",\"embedder.block2.res1.relu2_out\",\"embedder.block2.res2.relu1_out\",\"embedder.block2.res2.resadd_out\",\"embedder.block2.res2.relu2_out\",\"embedder.block3.res1.relu1_out\",\"embedder.block3.res1.resadd_out\",\"embedder.block3.res1.relu2_out\",\"embedder.block3.res2.relu1_out\",\"embedder.block3.res2.resadd_out\",\"embedder.block3.res2.relu2_out\",\"embedder.flatten_out\",\"embedder.relufc_out\",\"fc_policy_out\"],\"xaxis\":\"x\",\"y\":[-0.13965900240144724,-0.13547955610561035,-0.13698251815403562,-0.13626848510315903,-0.1356829457369766,-0.13545349792239603,-0.1360906639421655,-0.13664263232508045,-0.07429543835768082,-0.1266241127947776,-0.11996564047081604,-0.1004943831124272,-0.11147686990181316,0.20924545091468383,0.341946205456907,0.0974456083491837,0.29281129910181514,0.33361970594546764,0.19006261997986706,0.28690243544497995,0.4750252020488639,-0.03611246911920718],\"yaxis\":\"y\",\"type\":\"scatter\"},{\"hovertemplate\":\"K=100\\u003cbr\\u003evalue_label=%{x}\\u003cbr\\u003escore=%{y}\\u003cextra\\u003e\\u003c\\u002fextra\\u003e\",\"legendgroup\":\"100\",\"line\":{\"color\":\"#00cc96\",\"dash\":\"solid\"},\"marker\":{\"symbol\":\"circle\"},\"mode\":\"lines\",\"name\":\"100\",\"orientation\":\"v\",\"showlegend\":true,\"x\":[\"embedder.block1.conv_in0\",\"embedder.block1.res1.relu1_out\",\"embedder.block1.res1.resadd_out\",\"embedder.block1.res1.relu2_out\",\"embedder.block1.res2.relu1_out\",\"embedder.block1.res2.resadd_out\",\"embedder.block1.res2.relu2_out\",\"embedder.block2.res1.relu1_out\",\"embedder.block2.res1.resadd_out\",\"embedder.block2.res1.relu2_out\",\"embedder.block2.res2.relu1_out\",\"embedder.block2.res2.resadd_out\",\"embedder.block2.res2.relu2_out\",\"embedder.block3.res1.relu1_out\",\"embedder.block3.res1.resadd_out\",\"embedder.block3.res1.relu2_out\",\"embedder.block3.res2.relu1_out\",\"embedder.block3.res2.resadd_out\",\"embedder.block3.res2.relu2_out\",\"embedder.flatten_out\",\"embedder.relufc_out\",\"fc_policy_out\"],\"xaxis\":\"x\",\"y\":[-0.15840831395862875,-0.1355772780102511,-0.13970295184568715,-0.137375626566679,-0.13766710285873107,-0.13812393196484773,-0.13747665142121357,-0.12489486420481222,0.12010451363835806,-0.09628358519218994,-0.03659789997485863,0.10755228501729763,-0.03703071960009563,0.519427970959648,0.5396808838375579,0.5007971545207945,0.5744492708795943,0.5261288077851265,0.4392566101934592,0.5295896909512847,0.5728187870940978,-0.03143542480045669],\"yaxis\":\"y\",\"type\":\"scatter\"},{\"hovertemplate\":\"K=1000\\u003cbr\\u003evalue_label=%{x}\\u003cbr\\u003escore=%{y}\\u003cextra\\u003e\\u003c\\u002fextra\\u003e\",\"legendgroup\":\"1000\",\"line\":{\"color\":\"#ab63fa\",\"dash\":\"solid\"},\"marker\":{\"symbol\":\"circle\"},\"mode\":\"lines\",\"name\":\"1000\",\"orientation\":\"v\",\"showlegend\":true,\"x\":[\"embedder.block1.conv_in0\",\"embedder.block1.res1.relu1_out\",\"embedder.block1.res1.resadd_out\",\"embedder.block1.res1.relu2_out\",\"embedder.block1.res2.relu1_out\",\"embedder.block1.res2.resadd_out\",\"embedder.block1.res2.relu2_out\",\"embedder.block2.res1.relu1_out\",\"embedder.block2.res1.resadd_out\",\"embedder.block2.res1.relu2_out\",\"embedder.block2.res2.relu1_out\",\"embedder.block2.res2.resadd_out\",\"embedder.block2.res2.relu2_out\",\"embedder.block3.res1.relu1_out\",\"embedder.block3.res1.resadd_out\",\"embedder.block3.res1.relu2_out\",\"embedder.block3.res2.relu1_out\",\"embedder.block3.res2.resadd_out\",\"embedder.block3.res2.relu2_out\",\"embedder.flatten_out\",\"embedder.relufc_out\",\"fc_policy_out\"],\"xaxis\":\"x\",\"y\":[-0.23412921637642725,-0.1355057934285131,-0.1480007553337661,-0.1335450946239336,-0.14002699632403592,-0.15625578981865362,-0.14290116726021873,-0.05440743676899107,0.24738104943724148,-0.030344105308789615,0.11035482635594462,0.425922057403724,0.09721882519128988,0.6630222263202028,0.7027746291607974,0.6065383016716948,0.663128400636807,0.6766804351364695,0.5687918441147594,0.6145911150713412,0.5818355823439185,-0.03143542480045669],\"yaxis\":\"y\",\"type\":\"scatter\"},{\"hovertemplate\":\"K=10000\\u003cbr\\u003evalue_label=%{x}\\u003cbr\\u003escore=%{y}\\u003cextra\\u003e\\u003c\\u002fextra\\u003e\",\"legendgroup\":\"10000\",\"line\":{\"color\":\"#FFA15A\",\"dash\":\"solid\"},\"marker\":{\"symbol\":\"circle\"},\"mode\":\"lines\",\"name\":\"10000\",\"orientation\":\"v\",\"showlegend\":true,\"x\":[\"embedder.block1.conv_in0\",\"embedder.block1.res1.relu1_out\",\"embedder.block1.res1.resadd_out\",\"embedder.block1.res1.relu2_out\",\"embedder.block1.res2.relu1_out\",\"embedder.block1.res2.resadd_out\",\"embedder.block1.res2.relu2_out\",\"embedder.block2.res1.relu1_out\",\"embedder.block2.res1.resadd_out\",\"embedder.block2.res1.relu2_out\",\"embedder.block2.res2.relu1_out\",\"embedder.block2.res2.resadd_out\",\"embedder.block2.res2.relu2_out\",\"embedder.block3.res1.relu1_out\",\"embedder.block3.res1.resadd_out\",\"embedder.block3.res1.relu2_out\",\"embedder.block3.res2.relu1_out\",\"embedder.block3.res2.resadd_out\",\"embedder.block3.res2.relu2_out\",\"embedder.flatten_out\",\"embedder.relufc_out\",\"fc_policy_out\"],\"xaxis\":\"x\",\"y\":[-0.2251626762084631,-0.168625293065644,-0.18050355762669623,-0.14747315858092658,-0.14831664011515922,-0.20940741526125106,-0.16149815821736624,0.027977648311566905,0.25266529796868376,0.08042153658479778,0.21248203622684791,0.5046059511300715,0.2265364909666827,0.6741161574332587,0.703652996073385,0.627784501762384,0.6540924257968582,0.7070602609824561,0.6024666013699498,0.6028333090590768,0.5818355823439185,-0.03143542480045669],\"yaxis\":\"y\",\"type\":\"scatter\"},{\"hovertemplate\":\"K=100000\\u003cbr\\u003evalue_label=%{x}\\u003cbr\\u003escore=%{y}\\u003cextra\\u003e\\u003c\\u002fextra\\u003e\",\"legendgroup\":\"100000\",\"line\":{\"color\":\"#19d3f3\",\"dash\":\"solid\"},\"marker\":{\"symbol\":\"circle\"},\"mode\":\"lines\",\"name\":\"100000\",\"orientation\":\"v\",\"showlegend\":true,\"x\":[\"embedder.block1.conv_in0\",\"embedder.block1.res1.relu1_out\",\"embedder.block1.res1.resadd_out\",\"embedder.block1.res1.relu2_out\",\"embedder.block1.res2.relu1_out\",\"embedder.block1.res2.resadd_out\",\"embedder.block1.res2.relu2_out\",\"embedder.block2.res1.relu1_out\",\"embedder.block2.res1.resadd_out\",\"embedder.block2.res1.relu2_out\",\"embedder.block2.res2.relu1_out\",\"embedder.block2.res2.resadd_out\",\"embedder.block2.res2.relu2_out\",\"embedder.block3.res1.relu1_out\",\"embedder.block3.res1.resadd_out\",\"embedder.block3.res1.relu2_out\",\"embedder.block3.res2.relu1_out\",\"embedder.block3.res2.resadd_out\",\"embedder.block3.res2.relu2_out\",\"embedder.flatten_out\",\"embedder.relufc_out\",\"fc_policy_out\"],\"xaxis\":\"x\",\"y\":[-0.21654798965587418,-0.1756133660142707,-0.1939902693773503,-0.14732765257163316,-0.15390290118857886,-0.23498583626746328,-0.15938295831728477,0.022002046095139782,0.23631774117314175,0.0830392052744291,0.21101033424240145,0.482194883970959,0.24183752694065574,0.6741161574332587,0.703652996073385,0.627784501762384,0.6540924257968582,0.7070602609824561,0.6024666013699498,0.6028333090590768,0.5818355823439185,-0.03143542480045669],\"yaxis\":\"y\",\"type\":\"scatter\"}],                        {\"template\":{\"data\":{\"histogram2dcontour\":[{\"type\":\"histogram2dcontour\",\"colorbar\":{\"outlinewidth\":0,\"ticks\":\"\"},\"colorscale\":[[0.0,\"#0d0887\"],[0.1111111111111111,\"#46039f\"],[0.2222222222222222,\"#7201a8\"],[0.3333333333333333,\"#9c179e\"],[0.4444444444444444,\"#bd3786\"],[0.5555555555555556,\"#d8576b\"],[0.6666666666666666,\"#ed7953\"],[0.7777777777777778,\"#fb9f3a\"],[0.8888888888888888,\"#fdca26\"],[1.0,\"#f0f921\"]]}],\"choropleth\":[{\"type\":\"choropleth\",\"colorbar\":{\"outlinewidth\":0,\"ticks\":\"\"}}],\"histogram2d\":[{\"type\":\"histogram2d\",\"colorbar\":{\"outlinewidth\":0,\"ticks\":\"\"},\"colorscale\":[[0.0,\"#0d0887\"],[0.1111111111111111,\"#46039f\"],[0.2222222222222222,\"#7201a8\"],[0.3333333333333333,\"#9c179e\"],[0.4444444444444444,\"#bd3786\"],[0.5555555555555556,\"#d8576b\"],[0.6666666666666666,\"#ed7953\"],[0.7777777777777778,\"#fb9f3a\"],[0.8888888888888888,\"#fdca26\"],[1.0,\"#f0f921\"]]}],\"heatmap\":[{\"type\":\"heatmap\",\"colorbar\":{\"outlinewidth\":0,\"ticks\":\"\"},\"colorscale\":[[0.0,\"#0d0887\"],[0.1111111111111111,\"#46039f\"],[0.2222222222222222,\"#7201a8\"],[0.3333333333333333,\"#9c179e\"],[0.4444444444444444,\"#bd3786\"],[0.5555555555555556,\"#d8576b\"],[0.6666666666666666,\"#ed7953\"],[0.7777777777777778,\"#fb9f3a\"],[0.8888888888888888,\"#fdca26\"],[1.0,\"#f0f921\"]]}],\"heatmapgl\":[{\"type\":\"heatmapgl\",\"colorbar\":{\"outlinewidth\":0,\"ticks\":\"\"},\"colorscale\":[[0.0,\"#0d0887\"],[0.1111111111111111,\"#46039f\"],[0.2222222222222222,\"#7201a8\"],[0.3333333333333333,\"#9c179e\"],[0.4444444444444444,\"#bd3786\"],[0.5555555555555556,\"#d8576b\"],[0.6666666666666666,\"#ed7953\"],[0.7777777777777778,\"#fb9f3a\"],[0.8888888888888888,\"#fdca26\"],[1.0,\"#f0f921\"]]}],\"contourcarpet\":[{\"type\":\"contourcarpet\",\"colorbar\":{\"outlinewidth\":0,\"ticks\":\"\"}}],\"contour\":[{\"type\":\"contour\",\"colorbar\":{\"outlinewidth\":0,\"ticks\":\"\"},\"colorscale\":[[0.0,\"#0d0887\"],[0.1111111111111111,\"#46039f\"],[0.2222222222222222,\"#7201a8\"],[0.3333333333333333,\"#9c179e\"],[0.4444444444444444,\"#bd3786\"],[0.5555555555555556,\"#d8576b\"],[0.6666666666666666,\"#ed7953\"],[0.7777777777777778,\"#fb9f3a\"],[0.8888888888888888,\"#fdca26\"],[1.0,\"#f0f921\"]]}],\"surface\":[{\"type\":\"surface\",\"colorbar\":{\"outlinewidth\":0,\"ticks\":\"\"},\"colorscale\":[[0.0,\"#0d0887\"],[0.1111111111111111,\"#46039f\"],[0.2222222222222222,\"#7201a8\"],[0.3333333333333333,\"#9c179e\"],[0.4444444444444444,\"#bd3786\"],[0.5555555555555556,\"#d8576b\"],[0.6666666666666666,\"#ed7953\"],[0.7777777777777778,\"#fb9f3a\"],[0.8888888888888888,\"#fdca26\"],[1.0,\"#f0f921\"]]}],\"mesh3d\":[{\"type\":\"mesh3d\",\"colorbar\":{\"outlinewidth\":0,\"ticks\":\"\"}}],\"scatter\":[{\"fillpattern\":{\"fillmode\":\"overlay\",\"size\":10,\"solidity\":0.2},\"type\":\"scatter\"}],\"parcoords\":[{\"type\":\"parcoords\",\"line\":{\"colorbar\":{\"outlinewidth\":0,\"ticks\":\"\"}}}],\"scatterpolargl\":[{\"type\":\"scatterpolargl\",\"marker\":{\"colorbar\":{\"outlinewidth\":0,\"ticks\":\"\"}}}],\"bar\":[{\"error_x\":{\"color\":\"#2a3f5f\"},\"error_y\":{\"color\":\"#2a3f5f\"},\"marker\":{\"line\":{\"color\":\"#E5ECF6\",\"width\":0.5},\"pattern\":{\"fillmode\":\"overlay\",\"size\":10,\"solidity\":0.2}},\"type\":\"bar\"}],\"scattergeo\":[{\"type\":\"scattergeo\",\"marker\":{\"colorbar\":{\"outlinewidth\":0,\"ticks\":\"\"}}}],\"scatterpolar\":[{\"type\":\"scatterpolar\",\"marker\":{\"colorbar\":{\"outlinewidth\":0,\"ticks\":\"\"}}}],\"histogram\":[{\"marker\":{\"pattern\":{\"fillmode\":\"overlay\",\"size\":10,\"solidity\":0.2}},\"type\":\"histogram\"}],\"scattergl\":[{\"type\":\"scattergl\",\"marker\":{\"colorbar\":{\"outlinewidth\":0,\"ticks\":\"\"}}}],\"scatter3d\":[{\"type\":\"scatter3d\",\"line\":{\"colorbar\":{\"outlinewidth\":0,\"ticks\":\"\"}},\"marker\":{\"colorbar\":{\"outlinewidth\":0,\"ticks\":\"\"}}}],\"scattermapbox\":[{\"type\":\"scattermapbox\",\"marker\":{\"colorbar\":{\"outlinewidth\":0,\"ticks\":\"\"}}}],\"scatterternary\":[{\"type\":\"scatterternary\",\"marker\":{\"colorbar\":{\"outlinewidth\":0,\"ticks\":\"\"}}}],\"scattercarpet\":[{\"type\":\"scattercarpet\",\"marker\":{\"colorbar\":{\"outlinewidth\":0,\"ticks\":\"\"}}}],\"carpet\":[{\"aaxis\":{\"endlinecolor\":\"#2a3f5f\",\"gridcolor\":\"white\",\"linecolor\":\"white\",\"minorgridcolor\":\"white\",\"startlinecolor\":\"#2a3f5f\"},\"baxis\":{\"endlinecolor\":\"#2a3f5f\",\"gridcolor\":\"white\",\"linecolor\":\"white\",\"minorgridcolor\":\"white\",\"startlinecolor\":\"#2a3f5f\"},\"type\":\"carpet\"}],\"table\":[{\"cells\":{\"fill\":{\"color\":\"#EBF0F8\"},\"line\":{\"color\":\"white\"}},\"header\":{\"fill\":{\"color\":\"#C8D4E3\"},\"line\":{\"color\":\"white\"}},\"type\":\"table\"}],\"barpolar\":[{\"marker\":{\"line\":{\"color\":\"#E5ECF6\",\"width\":0.5},\"pattern\":{\"fillmode\":\"overlay\",\"size\":10,\"solidity\":0.2}},\"type\":\"barpolar\"}],\"pie\":[{\"automargin\":true,\"type\":\"pie\"}]},\"layout\":{\"autotypenumbers\":\"strict\",\"colorway\":[\"#636efa\",\"#EF553B\",\"#00cc96\",\"#ab63fa\",\"#FFA15A\",\"#19d3f3\",\"#FF6692\",\"#B6E880\",\"#FF97FF\",\"#FECB52\"],\"font\":{\"color\":\"#2a3f5f\"},\"hovermode\":\"closest\",\"hoverlabel\":{\"align\":\"left\"},\"paper_bgcolor\":\"white\",\"plot_bgcolor\":\"#E5ECF6\",\"polar\":{\"bgcolor\":\"#E5ECF6\",\"angularaxis\":{\"gridcolor\":\"white\",\"linecolor\":\"white\",\"ticks\":\"\"},\"radialaxis\":{\"gridcolor\":\"white\",\"linecolor\":\"white\",\"ticks\":\"\"}},\"ternary\":{\"bgcolor\":\"#E5ECF6\",\"aaxis\":{\"gridcolor\":\"white\",\"linecolor\":\"white\",\"ticks\":\"\"},\"baxis\":{\"gridcolor\":\"white\",\"linecolor\":\"white\",\"ticks\":\"\"},\"caxis\":{\"gridcolor\":\"white\",\"linecolor\":\"white\",\"ticks\":\"\"}},\"coloraxis\":{\"colorbar\":{\"outlinewidth\":0,\"ticks\":\"\"}},\"colorscale\":{\"sequential\":[[0.0,\"#0d0887\"],[0.1111111111111111,\"#46039f\"],[0.2222222222222222,\"#7201a8\"],[0.3333333333333333,\"#9c179e\"],[0.4444444444444444,\"#bd3786\"],[0.5555555555555556,\"#d8576b\"],[0.6666666666666666,\"#ed7953\"],[0.7777777777777778,\"#fb9f3a\"],[0.8888888888888888,\"#fdca26\"],[1.0,\"#f0f921\"]],\"sequentialminus\":[[0.0,\"#0d0887\"],[0.1111111111111111,\"#46039f\"],[0.2222222222222222,\"#7201a8\"],[0.3333333333333333,\"#9c179e\"],[0.4444444444444444,\"#bd3786\"],[0.5555555555555556,\"#d8576b\"],[0.6666666666666666,\"#ed7953\"],[0.7777777777777778,\"#fb9f3a\"],[0.8888888888888888,\"#fdca26\"],[1.0,\"#f0f921\"]],\"diverging\":[[0,\"#8e0152\"],[0.1,\"#c51b7d\"],[0.2,\"#de77ae\"],[0.3,\"#f1b6da\"],[0.4,\"#fde0ef\"],[0.5,\"#f7f7f7\"],[0.6,\"#e6f5d0\"],[0.7,\"#b8e186\"],[0.8,\"#7fbc41\"],[0.9,\"#4d9221\"],[1,\"#276419\"]]},\"xaxis\":{\"gridcolor\":\"white\",\"linecolor\":\"white\",\"ticks\":\"\",\"title\":{\"standoff\":15},\"zerolinecolor\":\"white\",\"automargin\":true,\"zerolinewidth\":2},\"yaxis\":{\"gridcolor\":\"white\",\"linecolor\":\"white\",\"ticks\":\"\",\"title\":{\"standoff\":15},\"zerolinecolor\":\"white\",\"automargin\":true,\"zerolinewidth\":2},\"scene\":{\"xaxis\":{\"backgroundcolor\":\"#E5ECF6\",\"gridcolor\":\"white\",\"linecolor\":\"white\",\"showbackground\":true,\"ticks\":\"\",\"zerolinecolor\":\"white\",\"gridwidth\":2},\"yaxis\":{\"backgroundcolor\":\"#E5ECF6\",\"gridcolor\":\"white\",\"linecolor\":\"white\",\"showbackground\":true,\"ticks\":\"\",\"zerolinecolor\":\"white\",\"gridwidth\":2},\"zaxis\":{\"backgroundcolor\":\"#E5ECF6\",\"gridcolor\":\"white\",\"linecolor\":\"white\",\"showbackground\":true,\"ticks\":\"\",\"zerolinecolor\":\"white\",\"gridwidth\":2}},\"shapedefaults\":{\"line\":{\"color\":\"#2a3f5f\"}},\"annotationdefaults\":{\"arrowcolor\":\"#2a3f5f\",\"arrowhead\":0,\"arrowwidth\":1},\"geo\":{\"bgcolor\":\"white\",\"landcolor\":\"#E5ECF6\",\"subunitcolor\":\"white\",\"showland\":true,\"showlakes\":true,\"lakecolor\":\"white\"},\"title\":{\"x\":0.05},\"mapbox\":{\"style\":\"light\"}}},\"xaxis\":{\"anchor\":\"y\",\"domain\":[0.0,1.0],\"title\":{\"text\":\"value_label\"}},\"yaxis\":{\"anchor\":\"x\",\"domain\":[0.0,1.0],\"title\":{\"text\":\"score\"}},\"legend\":{\"title\":{\"text\":\"K\"},\"tracegroupgap\":0},\"title\":{\"text\":\"Probe score over layers and K-values for Cheese, Cheese Mouse model\"}},                        {\"responsive\": true}                    ).then(function(){\n",
       "                            \n",
       "var gd = document.getElementById('7c5fcee1-a7e3-4a1f-ae64-6b20d05a8b14');\n",
       "var x = new MutationObserver(function (mutations, observer) {{\n",
       "        var display = window.getComputedStyle(gd).display;\n",
       "        if (!display || display === 'none') {{\n",
       "            console.log([gd, 'removed!']);\n",
       "            Plotly.purge(gd);\n",
       "            observer.disconnect();\n",
       "        }}\n",
       "}});\n",
       "\n",
       "// Listen for the removal of the full notebook cells\n",
       "var notebookContainer = gd.closest('#notebook-container');\n",
       "if (notebookContainer) {{\n",
       "    x.observe(notebookContainer, {childList: true});\n",
       "}}\n",
       "\n",
       "// Listen for the clearing of the current output cell\n",
       "var outputEl = gd.closest('.output');\n",
       "if (outputEl) {{\n",
       "    x.observe(outputEl, {childList: true});\n",
       "}}\n",
       "\n",
       "                        })                };                });            </script>        </div>"
      ]
     },
     "metadata": {},
     "output_type": "display_data"
    },
    {
     "name": "stdout",
     "output_type": "stream",
     "text": [
      "22\n"
     ]
    },
    {
     "data": {
      "application/vnd.jupyter.widget-view+json": {
       "model_id": "e1fb6083cf864c17952c71e9e803f425",
       "version_major": 2,
       "version_minor": 0
      },
      "text/plain": [
       "  0%|          | 0/22 [00:00<?, ?it/s]"
      ]
     },
     "metadata": {},
     "output_type": "display_data"
    },
    {
     "data": {
      "application/vnd.plotly.v1+json": {
       "config": {
        "plotlyServerURL": "https://plot.ly"
       },
       "data": [
        {
         "hovertemplate": "K=1<br>value_label=%{x}<br>score=%{y}<extra></extra>",
         "legendgroup": "1",
         "line": {
          "color": "#636efa",
          "dash": "solid"
         },
         "marker": {
          "symbol": "circle"
         },
         "mode": "lines",
         "name": "1",
         "orientation": "v",
         "showlegend": true,
         "type": "scatter",
         "x": [
          "embedder.block1.conv_in0",
          "embedder.block1.res1.relu1_out",
          "embedder.block1.res1.resadd_out",
          "embedder.block1.res1.relu2_out",
          "embedder.block1.res2.relu1_out",
          "embedder.block1.res2.resadd_out",
          "embedder.block1.res2.relu2_out",
          "embedder.block2.res1.relu1_out",
          "embedder.block2.res1.resadd_out",
          "embedder.block2.res1.relu2_out",
          "embedder.block2.res2.relu1_out",
          "embedder.block2.res2.resadd_out",
          "embedder.block2.res2.relu2_out",
          "embedder.block3.res1.relu1_out",
          "embedder.block3.res1.resadd_out",
          "embedder.block3.res1.relu2_out",
          "embedder.block3.res2.relu1_out",
          "embedder.block3.res2.resadd_out",
          "embedder.block3.res2.relu2_out",
          "embedder.flatten_out",
          "embedder.relufc_out",
          "fc_policy_out"
         ],
         "xaxis": "x",
         "y": [
          -0.13504487944442967,
          -0.1356088272425362,
          -0.13561508510696751,
          -0.13558746717425119,
          -0.13560941664979298,
          -0.1363038784250643,
          -0.1357335466901337,
          -0.13556571811176443,
          -0.1367447338973442,
          -0.13550966830176892,
          -0.13592452515217146,
          -0.1344830321655417,
          -0.1356523882475953,
          -0.13632697514882608,
          -0.10284733131709878,
          -0.1417756247032529,
          -0.1359697792314467,
          -0.1418149152596362,
          -0.1349540757628651,
          -0.1358265459367365,
          -0.13526444189778175,
          -0.1675219593234054
         ],
         "yaxis": "y"
        },
        {
         "hovertemplate": "K=10<br>value_label=%{x}<br>score=%{y}<extra></extra>",
         "legendgroup": "10",
         "line": {
          "color": "#EF553B",
          "dash": "solid"
         },
         "marker": {
          "symbol": "circle"
         },
         "mode": "lines",
         "name": "10",
         "orientation": "v",
         "showlegend": true,
         "type": "scatter",
         "x": [
          "embedder.block1.conv_in0",
          "embedder.block1.res1.relu1_out",
          "embedder.block1.res1.resadd_out",
          "embedder.block1.res1.relu2_out",
          "embedder.block1.res2.relu1_out",
          "embedder.block1.res2.resadd_out",
          "embedder.block1.res2.relu2_out",
          "embedder.block2.res1.relu1_out",
          "embedder.block2.res1.resadd_out",
          "embedder.block2.res1.relu2_out",
          "embedder.block2.res2.relu1_out",
          "embedder.block2.res2.resadd_out",
          "embedder.block2.res2.relu2_out",
          "embedder.block3.res1.relu1_out",
          "embedder.block3.res1.resadd_out",
          "embedder.block3.res1.relu2_out",
          "embedder.block3.res2.relu1_out",
          "embedder.block3.res2.resadd_out",
          "embedder.block3.res2.relu2_out",
          "embedder.flatten_out",
          "embedder.relufc_out",
          "fc_policy_out"
         ],
         "xaxis": "x",
         "y": [
          -0.13965900240144724,
          -0.13559495491504747,
          -0.1355129431621951,
          -0.1356290099664743,
          -0.1356902865309948,
          -0.13719719891837134,
          -0.1359989275783413,
          -0.13563199781929636,
          -0.14276187306287125,
          -0.13414897464568165,
          -0.13699406859324115,
          -0.13510956682371544,
          -0.13637233421739436,
          -0.12489939661424199,
          -0.11712233200161393,
          -0.14301605436021192,
          -0.12040965832056783,
          -0.12091559985657208,
          -0.12774002704294318,
          -0.1346259669393366,
          -0.12036814791237016,
          -0.10565490642190722
         ],
         "yaxis": "y"
        },
        {
         "hovertemplate": "K=100<br>value_label=%{x}<br>score=%{y}<extra></extra>",
         "legendgroup": "100",
         "line": {
          "color": "#00cc96",
          "dash": "solid"
         },
         "marker": {
          "symbol": "circle"
         },
         "mode": "lines",
         "name": "100",
         "orientation": "v",
         "showlegend": true,
         "type": "scatter",
         "x": [
          "embedder.block1.conv_in0",
          "embedder.block1.res1.relu1_out",
          "embedder.block1.res1.resadd_out",
          "embedder.block1.res1.relu2_out",
          "embedder.block1.res2.relu1_out",
          "embedder.block1.res2.resadd_out",
          "embedder.block1.res2.relu2_out",
          "embedder.block2.res1.relu1_out",
          "embedder.block2.res1.resadd_out",
          "embedder.block2.res1.relu2_out",
          "embedder.block2.res2.relu1_out",
          "embedder.block2.res2.resadd_out",
          "embedder.block2.res2.relu2_out",
          "embedder.block3.res1.relu1_out",
          "embedder.block3.res1.resadd_out",
          "embedder.block3.res1.relu2_out",
          "embedder.block3.res2.relu1_out",
          "embedder.block3.res2.resadd_out",
          "embedder.block3.res2.relu2_out",
          "embedder.flatten_out",
          "embedder.relufc_out",
          "fc_policy_out"
         ],
         "xaxis": "x",
         "y": [
          -0.15840831395862875,
          -0.1365613909829082,
          -0.13740407159827606,
          -0.13640574726863197,
          -0.13679386471189736,
          -0.1426273229526287,
          -0.1377713445556077,
          -0.1322243124220568,
          -0.1594864762783652,
          -0.14047666354183885,
          -0.14209406905616495,
          -0.12486105614957377,
          -0.1418001596631846,
          -0.14529244969479893,
          -0.074465992085337,
          -0.15932857071860496,
          -0.06518898863553213,
          -0.12784625692142915,
          -0.13185492859482806,
          -0.12610023005055182,
          -0.034517882886716755,
          -0.10823542195359237
         ],
         "yaxis": "y"
        },
        {
         "hovertemplate": "K=1000<br>value_label=%{x}<br>score=%{y}<extra></extra>",
         "legendgroup": "1000",
         "line": {
          "color": "#ab63fa",
          "dash": "solid"
         },
         "marker": {
          "symbol": "circle"
         },
         "mode": "lines",
         "name": "1000",
         "orientation": "v",
         "showlegend": true,
         "type": "scatter",
         "x": [
          "embedder.block1.conv_in0",
          "embedder.block1.res1.relu1_out",
          "embedder.block1.res1.resadd_out",
          "embedder.block1.res1.relu2_out",
          "embedder.block1.res2.relu1_out",
          "embedder.block1.res2.resadd_out",
          "embedder.block1.res2.relu2_out",
          "embedder.block2.res1.relu1_out",
          "embedder.block2.res1.resadd_out",
          "embedder.block2.res1.relu2_out",
          "embedder.block2.res2.relu1_out",
          "embedder.block2.res2.resadd_out",
          "embedder.block2.res2.relu2_out",
          "embedder.block3.res1.relu1_out",
          "embedder.block3.res1.resadd_out",
          "embedder.block3.res1.relu2_out",
          "embedder.block3.res2.relu1_out",
          "embedder.block3.res2.resadd_out",
          "embedder.block3.res2.relu2_out",
          "embedder.flatten_out",
          "embedder.relufc_out",
          "fc_policy_out"
         ],
         "xaxis": "x",
         "y": [
          -0.23412921637642725,
          -0.14080386513605525,
          -0.1446285677239434,
          -0.1417778074215965,
          -0.1417381342888142,
          -0.14918879557950082,
          -0.1451866067061114,
          -0.11945637752727967,
          -0.27405614269343403,
          -0.166385870811963,
          -0.1608195926715763,
          -0.2187099047632255,
          -0.1622545594608822,
          -0.22460679774562076,
          -0.16850842699474988,
          -0.34928120940128804,
          -0.22667209588886883,
          -0.3614259103202113,
          -0.25308119063813916,
          -0.10026698613706664,
          -0.052105552345400596,
          -0.10823542195359237
         ],
         "yaxis": "y"
        },
        {
         "hovertemplate": "K=10000<br>value_label=%{x}<br>score=%{y}<extra></extra>",
         "legendgroup": "10000",
         "line": {
          "color": "#FFA15A",
          "dash": "solid"
         },
         "marker": {
          "symbol": "circle"
         },
         "mode": "lines",
         "name": "10000",
         "orientation": "v",
         "showlegend": true,
         "type": "scatter",
         "x": [
          "embedder.block1.conv_in0",
          "embedder.block1.res1.relu1_out",
          "embedder.block1.res1.resadd_out",
          "embedder.block1.res1.relu2_out",
          "embedder.block1.res2.relu1_out",
          "embedder.block1.res2.resadd_out",
          "embedder.block1.res2.relu2_out",
          "embedder.block2.res1.relu1_out",
          "embedder.block2.res1.resadd_out",
          "embedder.block2.res1.relu2_out",
          "embedder.block2.res2.relu1_out",
          "embedder.block2.res2.resadd_out",
          "embedder.block2.res2.relu2_out",
          "embedder.block3.res1.relu1_out",
          "embedder.block3.res1.resadd_out",
          "embedder.block3.res1.relu2_out",
          "embedder.block3.res2.relu1_out",
          "embedder.block3.res2.resadd_out",
          "embedder.block3.res2.relu2_out",
          "embedder.flatten_out",
          "embedder.relufc_out",
          "fc_policy_out"
         ],
         "xaxis": "x",
         "y": [
          -0.2251626762084631,
          -0.16244878252100814,
          -0.16068405201736313,
          -0.16448513598860415,
          -0.14327424789018184,
          -0.1899810888512592,
          -0.15353879030334228,
          -0.1508975315848904,
          -0.40213583095497896,
          -0.2270519809695688,
          -0.23837013495439008,
          -0.3138204145848682,
          -0.21556830660585535,
          -0.4359892590953416,
          -0.5695296960171012,
          -0.5220552838951809,
          -0.34284700385540745,
          -0.6669153570272617,
          -0.42306838895395127,
          -0.24854636912801364,
          -0.052105552345400596,
          -0.10823542195359237
         ],
         "yaxis": "y"
        },
        {
         "hovertemplate": "K=100000<br>value_label=%{x}<br>score=%{y}<extra></extra>",
         "legendgroup": "100000",
         "line": {
          "color": "#19d3f3",
          "dash": "solid"
         },
         "marker": {
          "symbol": "circle"
         },
         "mode": "lines",
         "name": "100000",
         "orientation": "v",
         "showlegend": true,
         "type": "scatter",
         "x": [
          "embedder.block1.conv_in0",
          "embedder.block1.res1.relu1_out",
          "embedder.block1.res1.resadd_out",
          "embedder.block1.res1.relu2_out",
          "embedder.block1.res2.relu1_out",
          "embedder.block1.res2.resadd_out",
          "embedder.block1.res2.relu2_out",
          "embedder.block2.res1.relu1_out",
          "embedder.block2.res1.resadd_out",
          "embedder.block2.res1.relu2_out",
          "embedder.block2.res2.relu1_out",
          "embedder.block2.res2.resadd_out",
          "embedder.block2.res2.relu2_out",
          "embedder.block3.res1.relu1_out",
          "embedder.block3.res1.resadd_out",
          "embedder.block3.res1.relu2_out",
          "embedder.block3.res2.relu1_out",
          "embedder.block3.res2.resadd_out",
          "embedder.block3.res2.relu2_out",
          "embedder.flatten_out",
          "embedder.relufc_out",
          "fc_policy_out"
         ],
         "xaxis": "x",
         "y": [
          -0.21654798965587418,
          -0.1729053239933538,
          -0.1792688075664377,
          -0.16300057133917045,
          -0.1473911086783286,
          -0.20786620909570352,
          -0.1506755405453688,
          -0.1753100012718205,
          -0.42215162963211883,
          -0.2330967965637989,
          -0.2588069708335523,
          -0.36621675251802044,
          -0.23896041088826347,
          -0.4359892590953416,
          -0.5695296960171012,
          -0.5220552838951809,
          -0.34284700385540745,
          -0.6669153570272617,
          -0.42306838895395127,
          -0.24854636912801364,
          -0.052105552345400596,
          -0.10823542195359237
         ],
         "yaxis": "y"
        }
       ],
       "layout": {
        "legend": {
         "title": {
          "text": "K"
         },
         "tracegroupgap": 0
        },
        "template": {
         "data": {
          "bar": [
           {
            "error_x": {
             "color": "#2a3f5f"
            },
            "error_y": {
             "color": "#2a3f5f"
            },
            "marker": {
             "line": {
              "color": "#E5ECF6",
              "width": 0.5
             },
             "pattern": {
              "fillmode": "overlay",
              "size": 10,
              "solidity": 0.2
             }
            },
            "type": "bar"
           }
          ],
          "barpolar": [
           {
            "marker": {
             "line": {
              "color": "#E5ECF6",
              "width": 0.5
             },
             "pattern": {
              "fillmode": "overlay",
              "size": 10,
              "solidity": 0.2
             }
            },
            "type": "barpolar"
           }
          ],
          "carpet": [
           {
            "aaxis": {
             "endlinecolor": "#2a3f5f",
             "gridcolor": "white",
             "linecolor": "white",
             "minorgridcolor": "white",
             "startlinecolor": "#2a3f5f"
            },
            "baxis": {
             "endlinecolor": "#2a3f5f",
             "gridcolor": "white",
             "linecolor": "white",
             "minorgridcolor": "white",
             "startlinecolor": "#2a3f5f"
            },
            "type": "carpet"
           }
          ],
          "choropleth": [
           {
            "colorbar": {
             "outlinewidth": 0,
             "ticks": ""
            },
            "type": "choropleth"
           }
          ],
          "contour": [
           {
            "colorbar": {
             "outlinewidth": 0,
             "ticks": ""
            },
            "colorscale": [
             [
              0,
              "#0d0887"
             ],
             [
              0.1111111111111111,
              "#46039f"
             ],
             [
              0.2222222222222222,
              "#7201a8"
             ],
             [
              0.3333333333333333,
              "#9c179e"
             ],
             [
              0.4444444444444444,
              "#bd3786"
             ],
             [
              0.5555555555555556,
              "#d8576b"
             ],
             [
              0.6666666666666666,
              "#ed7953"
             ],
             [
              0.7777777777777778,
              "#fb9f3a"
             ],
             [
              0.8888888888888888,
              "#fdca26"
             ],
             [
              1,
              "#f0f921"
             ]
            ],
            "type": "contour"
           }
          ],
          "contourcarpet": [
           {
            "colorbar": {
             "outlinewidth": 0,
             "ticks": ""
            },
            "type": "contourcarpet"
           }
          ],
          "heatmap": [
           {
            "colorbar": {
             "outlinewidth": 0,
             "ticks": ""
            },
            "colorscale": [
             [
              0,
              "#0d0887"
             ],
             [
              0.1111111111111111,
              "#46039f"
             ],
             [
              0.2222222222222222,
              "#7201a8"
             ],
             [
              0.3333333333333333,
              "#9c179e"
             ],
             [
              0.4444444444444444,
              "#bd3786"
             ],
             [
              0.5555555555555556,
              "#d8576b"
             ],
             [
              0.6666666666666666,
              "#ed7953"
             ],
             [
              0.7777777777777778,
              "#fb9f3a"
             ],
             [
              0.8888888888888888,
              "#fdca26"
             ],
             [
              1,
              "#f0f921"
             ]
            ],
            "type": "heatmap"
           }
          ],
          "heatmapgl": [
           {
            "colorbar": {
             "outlinewidth": 0,
             "ticks": ""
            },
            "colorscale": [
             [
              0,
              "#0d0887"
             ],
             [
              0.1111111111111111,
              "#46039f"
             ],
             [
              0.2222222222222222,
              "#7201a8"
             ],
             [
              0.3333333333333333,
              "#9c179e"
             ],
             [
              0.4444444444444444,
              "#bd3786"
             ],
             [
              0.5555555555555556,
              "#d8576b"
             ],
             [
              0.6666666666666666,
              "#ed7953"
             ],
             [
              0.7777777777777778,
              "#fb9f3a"
             ],
             [
              0.8888888888888888,
              "#fdca26"
             ],
             [
              1,
              "#f0f921"
             ]
            ],
            "type": "heatmapgl"
           }
          ],
          "histogram": [
           {
            "marker": {
             "pattern": {
              "fillmode": "overlay",
              "size": 10,
              "solidity": 0.2
             }
            },
            "type": "histogram"
           }
          ],
          "histogram2d": [
           {
            "colorbar": {
             "outlinewidth": 0,
             "ticks": ""
            },
            "colorscale": [
             [
              0,
              "#0d0887"
             ],
             [
              0.1111111111111111,
              "#46039f"
             ],
             [
              0.2222222222222222,
              "#7201a8"
             ],
             [
              0.3333333333333333,
              "#9c179e"
             ],
             [
              0.4444444444444444,
              "#bd3786"
             ],
             [
              0.5555555555555556,
              "#d8576b"
             ],
             [
              0.6666666666666666,
              "#ed7953"
             ],
             [
              0.7777777777777778,
              "#fb9f3a"
             ],
             [
              0.8888888888888888,
              "#fdca26"
             ],
             [
              1,
              "#f0f921"
             ]
            ],
            "type": "histogram2d"
           }
          ],
          "histogram2dcontour": [
           {
            "colorbar": {
             "outlinewidth": 0,
             "ticks": ""
            },
            "colorscale": [
             [
              0,
              "#0d0887"
             ],
             [
              0.1111111111111111,
              "#46039f"
             ],
             [
              0.2222222222222222,
              "#7201a8"
             ],
             [
              0.3333333333333333,
              "#9c179e"
             ],
             [
              0.4444444444444444,
              "#bd3786"
             ],
             [
              0.5555555555555556,
              "#d8576b"
             ],
             [
              0.6666666666666666,
              "#ed7953"
             ],
             [
              0.7777777777777778,
              "#fb9f3a"
             ],
             [
              0.8888888888888888,
              "#fdca26"
             ],
             [
              1,
              "#f0f921"
             ]
            ],
            "type": "histogram2dcontour"
           }
          ],
          "mesh3d": [
           {
            "colorbar": {
             "outlinewidth": 0,
             "ticks": ""
            },
            "type": "mesh3d"
           }
          ],
          "parcoords": [
           {
            "line": {
             "colorbar": {
              "outlinewidth": 0,
              "ticks": ""
             }
            },
            "type": "parcoords"
           }
          ],
          "pie": [
           {
            "automargin": true,
            "type": "pie"
           }
          ],
          "scatter": [
           {
            "fillpattern": {
             "fillmode": "overlay",
             "size": 10,
             "solidity": 0.2
            },
            "type": "scatter"
           }
          ],
          "scatter3d": [
           {
            "line": {
             "colorbar": {
              "outlinewidth": 0,
              "ticks": ""
             }
            },
            "marker": {
             "colorbar": {
              "outlinewidth": 0,
              "ticks": ""
             }
            },
            "type": "scatter3d"
           }
          ],
          "scattercarpet": [
           {
            "marker": {
             "colorbar": {
              "outlinewidth": 0,
              "ticks": ""
             }
            },
            "type": "scattercarpet"
           }
          ],
          "scattergeo": [
           {
            "marker": {
             "colorbar": {
              "outlinewidth": 0,
              "ticks": ""
             }
            },
            "type": "scattergeo"
           }
          ],
          "scattergl": [
           {
            "marker": {
             "colorbar": {
              "outlinewidth": 0,
              "ticks": ""
             }
            },
            "type": "scattergl"
           }
          ],
          "scattermapbox": [
           {
            "marker": {
             "colorbar": {
              "outlinewidth": 0,
              "ticks": ""
             }
            },
            "type": "scattermapbox"
           }
          ],
          "scatterpolar": [
           {
            "marker": {
             "colorbar": {
              "outlinewidth": 0,
              "ticks": ""
             }
            },
            "type": "scatterpolar"
           }
          ],
          "scatterpolargl": [
           {
            "marker": {
             "colorbar": {
              "outlinewidth": 0,
              "ticks": ""
             }
            },
            "type": "scatterpolargl"
           }
          ],
          "scatterternary": [
           {
            "marker": {
             "colorbar": {
              "outlinewidth": 0,
              "ticks": ""
             }
            },
            "type": "scatterternary"
           }
          ],
          "surface": [
           {
            "colorbar": {
             "outlinewidth": 0,
             "ticks": ""
            },
            "colorscale": [
             [
              0,
              "#0d0887"
             ],
             [
              0.1111111111111111,
              "#46039f"
             ],
             [
              0.2222222222222222,
              "#7201a8"
             ],
             [
              0.3333333333333333,
              "#9c179e"
             ],
             [
              0.4444444444444444,
              "#bd3786"
             ],
             [
              0.5555555555555556,
              "#d8576b"
             ],
             [
              0.6666666666666666,
              "#ed7953"
             ],
             [
              0.7777777777777778,
              "#fb9f3a"
             ],
             [
              0.8888888888888888,
              "#fdca26"
             ],
             [
              1,
              "#f0f921"
             ]
            ],
            "type": "surface"
           }
          ],
          "table": [
           {
            "cells": {
             "fill": {
              "color": "#EBF0F8"
             },
             "line": {
              "color": "white"
             }
            },
            "header": {
             "fill": {
              "color": "#C8D4E3"
             },
             "line": {
              "color": "white"
             }
            },
            "type": "table"
           }
          ]
         },
         "layout": {
          "annotationdefaults": {
           "arrowcolor": "#2a3f5f",
           "arrowhead": 0,
           "arrowwidth": 1
          },
          "autotypenumbers": "strict",
          "coloraxis": {
           "colorbar": {
            "outlinewidth": 0,
            "ticks": ""
           }
          },
          "colorscale": {
           "diverging": [
            [
             0,
             "#8e0152"
            ],
            [
             0.1,
             "#c51b7d"
            ],
            [
             0.2,
             "#de77ae"
            ],
            [
             0.3,
             "#f1b6da"
            ],
            [
             0.4,
             "#fde0ef"
            ],
            [
             0.5,
             "#f7f7f7"
            ],
            [
             0.6,
             "#e6f5d0"
            ],
            [
             0.7,
             "#b8e186"
            ],
            [
             0.8,
             "#7fbc41"
            ],
            [
             0.9,
             "#4d9221"
            ],
            [
             1,
             "#276419"
            ]
           ],
           "sequential": [
            [
             0,
             "#0d0887"
            ],
            [
             0.1111111111111111,
             "#46039f"
            ],
            [
             0.2222222222222222,
             "#7201a8"
            ],
            [
             0.3333333333333333,
             "#9c179e"
            ],
            [
             0.4444444444444444,
             "#bd3786"
            ],
            [
             0.5555555555555556,
             "#d8576b"
            ],
            [
             0.6666666666666666,
             "#ed7953"
            ],
            [
             0.7777777777777778,
             "#fb9f3a"
            ],
            [
             0.8888888888888888,
             "#fdca26"
            ],
            [
             1,
             "#f0f921"
            ]
           ],
           "sequentialminus": [
            [
             0,
             "#0d0887"
            ],
            [
             0.1111111111111111,
             "#46039f"
            ],
            [
             0.2222222222222222,
             "#7201a8"
            ],
            [
             0.3333333333333333,
             "#9c179e"
            ],
            [
             0.4444444444444444,
             "#bd3786"
            ],
            [
             0.5555555555555556,
             "#d8576b"
            ],
            [
             0.6666666666666666,
             "#ed7953"
            ],
            [
             0.7777777777777778,
             "#fb9f3a"
            ],
            [
             0.8888888888888888,
             "#fdca26"
            ],
            [
             1,
             "#f0f921"
            ]
           ]
          },
          "colorway": [
           "#636efa",
           "#EF553B",
           "#00cc96",
           "#ab63fa",
           "#FFA15A",
           "#19d3f3",
           "#FF6692",
           "#B6E880",
           "#FF97FF",
           "#FECB52"
          ],
          "font": {
           "color": "#2a3f5f"
          },
          "geo": {
           "bgcolor": "white",
           "lakecolor": "white",
           "landcolor": "#E5ECF6",
           "showlakes": true,
           "showland": true,
           "subunitcolor": "white"
          },
          "hoverlabel": {
           "align": "left"
          },
          "hovermode": "closest",
          "mapbox": {
           "style": "light"
          },
          "paper_bgcolor": "white",
          "plot_bgcolor": "#E5ECF6",
          "polar": {
           "angularaxis": {
            "gridcolor": "white",
            "linecolor": "white",
            "ticks": ""
           },
           "bgcolor": "#E5ECF6",
           "radialaxis": {
            "gridcolor": "white",
            "linecolor": "white",
            "ticks": ""
           }
          },
          "scene": {
           "xaxis": {
            "backgroundcolor": "#E5ECF6",
            "gridcolor": "white",
            "gridwidth": 2,
            "linecolor": "white",
            "showbackground": true,
            "ticks": "",
            "zerolinecolor": "white"
           },
           "yaxis": {
            "backgroundcolor": "#E5ECF6",
            "gridcolor": "white",
            "gridwidth": 2,
            "linecolor": "white",
            "showbackground": true,
            "ticks": "",
            "zerolinecolor": "white"
           },
           "zaxis": {
            "backgroundcolor": "#E5ECF6",
            "gridcolor": "white",
            "gridwidth": 2,
            "linecolor": "white",
            "showbackground": true,
            "ticks": "",
            "zerolinecolor": "white"
           }
          },
          "shapedefaults": {
           "line": {
            "color": "#2a3f5f"
           }
          },
          "ternary": {
           "aaxis": {
            "gridcolor": "white",
            "linecolor": "white",
            "ticks": ""
           },
           "baxis": {
            "gridcolor": "white",
            "linecolor": "white",
            "ticks": ""
           },
           "bgcolor": "#E5ECF6",
           "caxis": {
            "gridcolor": "white",
            "linecolor": "white",
            "ticks": ""
           }
          },
          "title": {
           "x": 0.05
          },
          "xaxis": {
           "automargin": true,
           "gridcolor": "white",
           "linecolor": "white",
           "ticks": "",
           "title": {
            "standoff": 15
           },
           "zerolinecolor": "white",
           "zerolinewidth": 2
          },
          "yaxis": {
           "automargin": true,
           "gridcolor": "white",
           "linecolor": "white",
           "ticks": "",
           "title": {
            "standoff": 15
           },
           "zerolinecolor": "white",
           "zerolinewidth": 2
          }
         }
        },
        "title": {
         "text": "Probe score over layers and K-values for Cheese, Top-right model"
        },
        "xaxis": {
         "anchor": "y",
         "domain": [
          0,
          1
         ],
         "title": {
          "text": "value_label"
         }
        },
        "yaxis": {
         "anchor": "x",
         "domain": [
          0,
          1
         ],
         "title": {
          "text": "score"
         }
        }
       }
      },
      "text/html": [
       "<div>                            <div id=\"6f648e1c-1e20-4884-8ee1-87a1e699325c\" class=\"plotly-graph-div\" style=\"height:525px; width:100%;\"></div>            <script type=\"text/javascript\">                require([\"plotly\"], function(Plotly) {                    window.PLOTLYENV=window.PLOTLYENV || {};                                    if (document.getElementById(\"6f648e1c-1e20-4884-8ee1-87a1e699325c\")) {                    Plotly.newPlot(                        \"6f648e1c-1e20-4884-8ee1-87a1e699325c\",                        [{\"hovertemplate\":\"K=1\\u003cbr\\u003evalue_label=%{x}\\u003cbr\\u003escore=%{y}\\u003cextra\\u003e\\u003c\\u002fextra\\u003e\",\"legendgroup\":\"1\",\"line\":{\"color\":\"#636efa\",\"dash\":\"solid\"},\"marker\":{\"symbol\":\"circle\"},\"mode\":\"lines\",\"name\":\"1\",\"orientation\":\"v\",\"showlegend\":true,\"x\":[\"embedder.block1.conv_in0\",\"embedder.block1.res1.relu1_out\",\"embedder.block1.res1.resadd_out\",\"embedder.block1.res1.relu2_out\",\"embedder.block1.res2.relu1_out\",\"embedder.block1.res2.resadd_out\",\"embedder.block1.res2.relu2_out\",\"embedder.block2.res1.relu1_out\",\"embedder.block2.res1.resadd_out\",\"embedder.block2.res1.relu2_out\",\"embedder.block2.res2.relu1_out\",\"embedder.block2.res2.resadd_out\",\"embedder.block2.res2.relu2_out\",\"embedder.block3.res1.relu1_out\",\"embedder.block3.res1.resadd_out\",\"embedder.block3.res1.relu2_out\",\"embedder.block3.res2.relu1_out\",\"embedder.block3.res2.resadd_out\",\"embedder.block3.res2.relu2_out\",\"embedder.flatten_out\",\"embedder.relufc_out\",\"fc_policy_out\"],\"xaxis\":\"x\",\"y\":[-0.13504487944442967,-0.1356088272425362,-0.13561508510696751,-0.13558746717425119,-0.13560941664979298,-0.1363038784250643,-0.1357335466901337,-0.13556571811176443,-0.1367447338973442,-0.13550966830176892,-0.13592452515217146,-0.1344830321655417,-0.1356523882475953,-0.13632697514882608,-0.10284733131709878,-0.1417756247032529,-0.1359697792314467,-0.1418149152596362,-0.1349540757628651,-0.1358265459367365,-0.13526444189778175,-0.1675219593234054],\"yaxis\":\"y\",\"type\":\"scatter\"},{\"hovertemplate\":\"K=10\\u003cbr\\u003evalue_label=%{x}\\u003cbr\\u003escore=%{y}\\u003cextra\\u003e\\u003c\\u002fextra\\u003e\",\"legendgroup\":\"10\",\"line\":{\"color\":\"#EF553B\",\"dash\":\"solid\"},\"marker\":{\"symbol\":\"circle\"},\"mode\":\"lines\",\"name\":\"10\",\"orientation\":\"v\",\"showlegend\":true,\"x\":[\"embedder.block1.conv_in0\",\"embedder.block1.res1.relu1_out\",\"embedder.block1.res1.resadd_out\",\"embedder.block1.res1.relu2_out\",\"embedder.block1.res2.relu1_out\",\"embedder.block1.res2.resadd_out\",\"embedder.block1.res2.relu2_out\",\"embedder.block2.res1.relu1_out\",\"embedder.block2.res1.resadd_out\",\"embedder.block2.res1.relu2_out\",\"embedder.block2.res2.relu1_out\",\"embedder.block2.res2.resadd_out\",\"embedder.block2.res2.relu2_out\",\"embedder.block3.res1.relu1_out\",\"embedder.block3.res1.resadd_out\",\"embedder.block3.res1.relu2_out\",\"embedder.block3.res2.relu1_out\",\"embedder.block3.res2.resadd_out\",\"embedder.block3.res2.relu2_out\",\"embedder.flatten_out\",\"embedder.relufc_out\",\"fc_policy_out\"],\"xaxis\":\"x\",\"y\":[-0.13965900240144724,-0.13559495491504747,-0.1355129431621951,-0.1356290099664743,-0.1356902865309948,-0.13719719891837134,-0.1359989275783413,-0.13563199781929636,-0.14276187306287125,-0.13414897464568165,-0.13699406859324115,-0.13510956682371544,-0.13637233421739436,-0.12489939661424199,-0.11712233200161393,-0.14301605436021192,-0.12040965832056783,-0.12091559985657208,-0.12774002704294318,-0.1346259669393366,-0.12036814791237016,-0.10565490642190722],\"yaxis\":\"y\",\"type\":\"scatter\"},{\"hovertemplate\":\"K=100\\u003cbr\\u003evalue_label=%{x}\\u003cbr\\u003escore=%{y}\\u003cextra\\u003e\\u003c\\u002fextra\\u003e\",\"legendgroup\":\"100\",\"line\":{\"color\":\"#00cc96\",\"dash\":\"solid\"},\"marker\":{\"symbol\":\"circle\"},\"mode\":\"lines\",\"name\":\"100\",\"orientation\":\"v\",\"showlegend\":true,\"x\":[\"embedder.block1.conv_in0\",\"embedder.block1.res1.relu1_out\",\"embedder.block1.res1.resadd_out\",\"embedder.block1.res1.relu2_out\",\"embedder.block1.res2.relu1_out\",\"embedder.block1.res2.resadd_out\",\"embedder.block1.res2.relu2_out\",\"embedder.block2.res1.relu1_out\",\"embedder.block2.res1.resadd_out\",\"embedder.block2.res1.relu2_out\",\"embedder.block2.res2.relu1_out\",\"embedder.block2.res2.resadd_out\",\"embedder.block2.res2.relu2_out\",\"embedder.block3.res1.relu1_out\",\"embedder.block3.res1.resadd_out\",\"embedder.block3.res1.relu2_out\",\"embedder.block3.res2.relu1_out\",\"embedder.block3.res2.resadd_out\",\"embedder.block3.res2.relu2_out\",\"embedder.flatten_out\",\"embedder.relufc_out\",\"fc_policy_out\"],\"xaxis\":\"x\",\"y\":[-0.15840831395862875,-0.1365613909829082,-0.13740407159827606,-0.13640574726863197,-0.13679386471189736,-0.1426273229526287,-0.1377713445556077,-0.1322243124220568,-0.1594864762783652,-0.14047666354183885,-0.14209406905616495,-0.12486105614957377,-0.1418001596631846,-0.14529244969479893,-0.074465992085337,-0.15932857071860496,-0.06518898863553213,-0.12784625692142915,-0.13185492859482806,-0.12610023005055182,-0.034517882886716755,-0.10823542195359237],\"yaxis\":\"y\",\"type\":\"scatter\"},{\"hovertemplate\":\"K=1000\\u003cbr\\u003evalue_label=%{x}\\u003cbr\\u003escore=%{y}\\u003cextra\\u003e\\u003c\\u002fextra\\u003e\",\"legendgroup\":\"1000\",\"line\":{\"color\":\"#ab63fa\",\"dash\":\"solid\"},\"marker\":{\"symbol\":\"circle\"},\"mode\":\"lines\",\"name\":\"1000\",\"orientation\":\"v\",\"showlegend\":true,\"x\":[\"embedder.block1.conv_in0\",\"embedder.block1.res1.relu1_out\",\"embedder.block1.res1.resadd_out\",\"embedder.block1.res1.relu2_out\",\"embedder.block1.res2.relu1_out\",\"embedder.block1.res2.resadd_out\",\"embedder.block1.res2.relu2_out\",\"embedder.block2.res1.relu1_out\",\"embedder.block2.res1.resadd_out\",\"embedder.block2.res1.relu2_out\",\"embedder.block2.res2.relu1_out\",\"embedder.block2.res2.resadd_out\",\"embedder.block2.res2.relu2_out\",\"embedder.block3.res1.relu1_out\",\"embedder.block3.res1.resadd_out\",\"embedder.block3.res1.relu2_out\",\"embedder.block3.res2.relu1_out\",\"embedder.block3.res2.resadd_out\",\"embedder.block3.res2.relu2_out\",\"embedder.flatten_out\",\"embedder.relufc_out\",\"fc_policy_out\"],\"xaxis\":\"x\",\"y\":[-0.23412921637642725,-0.14080386513605525,-0.1446285677239434,-0.1417778074215965,-0.1417381342888142,-0.14918879557950082,-0.1451866067061114,-0.11945637752727967,-0.27405614269343403,-0.166385870811963,-0.1608195926715763,-0.2187099047632255,-0.1622545594608822,-0.22460679774562076,-0.16850842699474988,-0.34928120940128804,-0.22667209588886883,-0.3614259103202113,-0.25308119063813916,-0.10026698613706664,-0.052105552345400596,-0.10823542195359237],\"yaxis\":\"y\",\"type\":\"scatter\"},{\"hovertemplate\":\"K=10000\\u003cbr\\u003evalue_label=%{x}\\u003cbr\\u003escore=%{y}\\u003cextra\\u003e\\u003c\\u002fextra\\u003e\",\"legendgroup\":\"10000\",\"line\":{\"color\":\"#FFA15A\",\"dash\":\"solid\"},\"marker\":{\"symbol\":\"circle\"},\"mode\":\"lines\",\"name\":\"10000\",\"orientation\":\"v\",\"showlegend\":true,\"x\":[\"embedder.block1.conv_in0\",\"embedder.block1.res1.relu1_out\",\"embedder.block1.res1.resadd_out\",\"embedder.block1.res1.relu2_out\",\"embedder.block1.res2.relu1_out\",\"embedder.block1.res2.resadd_out\",\"embedder.block1.res2.relu2_out\",\"embedder.block2.res1.relu1_out\",\"embedder.block2.res1.resadd_out\",\"embedder.block2.res1.relu2_out\",\"embedder.block2.res2.relu1_out\",\"embedder.block2.res2.resadd_out\",\"embedder.block2.res2.relu2_out\",\"embedder.block3.res1.relu1_out\",\"embedder.block3.res1.resadd_out\",\"embedder.block3.res1.relu2_out\",\"embedder.block3.res2.relu1_out\",\"embedder.block3.res2.resadd_out\",\"embedder.block3.res2.relu2_out\",\"embedder.flatten_out\",\"embedder.relufc_out\",\"fc_policy_out\"],\"xaxis\":\"x\",\"y\":[-0.2251626762084631,-0.16244878252100814,-0.16068405201736313,-0.16448513598860415,-0.14327424789018184,-0.1899810888512592,-0.15353879030334228,-0.1508975315848904,-0.40213583095497896,-0.2270519809695688,-0.23837013495439008,-0.3138204145848682,-0.21556830660585535,-0.4359892590953416,-0.5695296960171012,-0.5220552838951809,-0.34284700385540745,-0.6669153570272617,-0.42306838895395127,-0.24854636912801364,-0.052105552345400596,-0.10823542195359237],\"yaxis\":\"y\",\"type\":\"scatter\"},{\"hovertemplate\":\"K=100000\\u003cbr\\u003evalue_label=%{x}\\u003cbr\\u003escore=%{y}\\u003cextra\\u003e\\u003c\\u002fextra\\u003e\",\"legendgroup\":\"100000\",\"line\":{\"color\":\"#19d3f3\",\"dash\":\"solid\"},\"marker\":{\"symbol\":\"circle\"},\"mode\":\"lines\",\"name\":\"100000\",\"orientation\":\"v\",\"showlegend\":true,\"x\":[\"embedder.block1.conv_in0\",\"embedder.block1.res1.relu1_out\",\"embedder.block1.res1.resadd_out\",\"embedder.block1.res1.relu2_out\",\"embedder.block1.res2.relu1_out\",\"embedder.block1.res2.resadd_out\",\"embedder.block1.res2.relu2_out\",\"embedder.block2.res1.relu1_out\",\"embedder.block2.res1.resadd_out\",\"embedder.block2.res1.relu2_out\",\"embedder.block2.res2.relu1_out\",\"embedder.block2.res2.resadd_out\",\"embedder.block2.res2.relu2_out\",\"embedder.block3.res1.relu1_out\",\"embedder.block3.res1.resadd_out\",\"embedder.block3.res1.relu2_out\",\"embedder.block3.res2.relu1_out\",\"embedder.block3.res2.resadd_out\",\"embedder.block3.res2.relu2_out\",\"embedder.flatten_out\",\"embedder.relufc_out\",\"fc_policy_out\"],\"xaxis\":\"x\",\"y\":[-0.21654798965587418,-0.1729053239933538,-0.1792688075664377,-0.16300057133917045,-0.1473911086783286,-0.20786620909570352,-0.1506755405453688,-0.1753100012718205,-0.42215162963211883,-0.2330967965637989,-0.2588069708335523,-0.36621675251802044,-0.23896041088826347,-0.4359892590953416,-0.5695296960171012,-0.5220552838951809,-0.34284700385540745,-0.6669153570272617,-0.42306838895395127,-0.24854636912801364,-0.052105552345400596,-0.10823542195359237],\"yaxis\":\"y\",\"type\":\"scatter\"}],                        {\"template\":{\"data\":{\"histogram2dcontour\":[{\"type\":\"histogram2dcontour\",\"colorbar\":{\"outlinewidth\":0,\"ticks\":\"\"},\"colorscale\":[[0.0,\"#0d0887\"],[0.1111111111111111,\"#46039f\"],[0.2222222222222222,\"#7201a8\"],[0.3333333333333333,\"#9c179e\"],[0.4444444444444444,\"#bd3786\"],[0.5555555555555556,\"#d8576b\"],[0.6666666666666666,\"#ed7953\"],[0.7777777777777778,\"#fb9f3a\"],[0.8888888888888888,\"#fdca26\"],[1.0,\"#f0f921\"]]}],\"choropleth\":[{\"type\":\"choropleth\",\"colorbar\":{\"outlinewidth\":0,\"ticks\":\"\"}}],\"histogram2d\":[{\"type\":\"histogram2d\",\"colorbar\":{\"outlinewidth\":0,\"ticks\":\"\"},\"colorscale\":[[0.0,\"#0d0887\"],[0.1111111111111111,\"#46039f\"],[0.2222222222222222,\"#7201a8\"],[0.3333333333333333,\"#9c179e\"],[0.4444444444444444,\"#bd3786\"],[0.5555555555555556,\"#d8576b\"],[0.6666666666666666,\"#ed7953\"],[0.7777777777777778,\"#fb9f3a\"],[0.8888888888888888,\"#fdca26\"],[1.0,\"#f0f921\"]]}],\"heatmap\":[{\"type\":\"heatmap\",\"colorbar\":{\"outlinewidth\":0,\"ticks\":\"\"},\"colorscale\":[[0.0,\"#0d0887\"],[0.1111111111111111,\"#46039f\"],[0.2222222222222222,\"#7201a8\"],[0.3333333333333333,\"#9c179e\"],[0.4444444444444444,\"#bd3786\"],[0.5555555555555556,\"#d8576b\"],[0.6666666666666666,\"#ed7953\"],[0.7777777777777778,\"#fb9f3a\"],[0.8888888888888888,\"#fdca26\"],[1.0,\"#f0f921\"]]}],\"heatmapgl\":[{\"type\":\"heatmapgl\",\"colorbar\":{\"outlinewidth\":0,\"ticks\":\"\"},\"colorscale\":[[0.0,\"#0d0887\"],[0.1111111111111111,\"#46039f\"],[0.2222222222222222,\"#7201a8\"],[0.3333333333333333,\"#9c179e\"],[0.4444444444444444,\"#bd3786\"],[0.5555555555555556,\"#d8576b\"],[0.6666666666666666,\"#ed7953\"],[0.7777777777777778,\"#fb9f3a\"],[0.8888888888888888,\"#fdca26\"],[1.0,\"#f0f921\"]]}],\"contourcarpet\":[{\"type\":\"contourcarpet\",\"colorbar\":{\"outlinewidth\":0,\"ticks\":\"\"}}],\"contour\":[{\"type\":\"contour\",\"colorbar\":{\"outlinewidth\":0,\"ticks\":\"\"},\"colorscale\":[[0.0,\"#0d0887\"],[0.1111111111111111,\"#46039f\"],[0.2222222222222222,\"#7201a8\"],[0.3333333333333333,\"#9c179e\"],[0.4444444444444444,\"#bd3786\"],[0.5555555555555556,\"#d8576b\"],[0.6666666666666666,\"#ed7953\"],[0.7777777777777778,\"#fb9f3a\"],[0.8888888888888888,\"#fdca26\"],[1.0,\"#f0f921\"]]}],\"surface\":[{\"type\":\"surface\",\"colorbar\":{\"outlinewidth\":0,\"ticks\":\"\"},\"colorscale\":[[0.0,\"#0d0887\"],[0.1111111111111111,\"#46039f\"],[0.2222222222222222,\"#7201a8\"],[0.3333333333333333,\"#9c179e\"],[0.4444444444444444,\"#bd3786\"],[0.5555555555555556,\"#d8576b\"],[0.6666666666666666,\"#ed7953\"],[0.7777777777777778,\"#fb9f3a\"],[0.8888888888888888,\"#fdca26\"],[1.0,\"#f0f921\"]]}],\"mesh3d\":[{\"type\":\"mesh3d\",\"colorbar\":{\"outlinewidth\":0,\"ticks\":\"\"}}],\"scatter\":[{\"fillpattern\":{\"fillmode\":\"overlay\",\"size\":10,\"solidity\":0.2},\"type\":\"scatter\"}],\"parcoords\":[{\"type\":\"parcoords\",\"line\":{\"colorbar\":{\"outlinewidth\":0,\"ticks\":\"\"}}}],\"scatterpolargl\":[{\"type\":\"scatterpolargl\",\"marker\":{\"colorbar\":{\"outlinewidth\":0,\"ticks\":\"\"}}}],\"bar\":[{\"error_x\":{\"color\":\"#2a3f5f\"},\"error_y\":{\"color\":\"#2a3f5f\"},\"marker\":{\"line\":{\"color\":\"#E5ECF6\",\"width\":0.5},\"pattern\":{\"fillmode\":\"overlay\",\"size\":10,\"solidity\":0.2}},\"type\":\"bar\"}],\"scattergeo\":[{\"type\":\"scattergeo\",\"marker\":{\"colorbar\":{\"outlinewidth\":0,\"ticks\":\"\"}}}],\"scatterpolar\":[{\"type\":\"scatterpolar\",\"marker\":{\"colorbar\":{\"outlinewidth\":0,\"ticks\":\"\"}}}],\"histogram\":[{\"marker\":{\"pattern\":{\"fillmode\":\"overlay\",\"size\":10,\"solidity\":0.2}},\"type\":\"histogram\"}],\"scattergl\":[{\"type\":\"scattergl\",\"marker\":{\"colorbar\":{\"outlinewidth\":0,\"ticks\":\"\"}}}],\"scatter3d\":[{\"type\":\"scatter3d\",\"line\":{\"colorbar\":{\"outlinewidth\":0,\"ticks\":\"\"}},\"marker\":{\"colorbar\":{\"outlinewidth\":0,\"ticks\":\"\"}}}],\"scattermapbox\":[{\"type\":\"scattermapbox\",\"marker\":{\"colorbar\":{\"outlinewidth\":0,\"ticks\":\"\"}}}],\"scatterternary\":[{\"type\":\"scatterternary\",\"marker\":{\"colorbar\":{\"outlinewidth\":0,\"ticks\":\"\"}}}],\"scattercarpet\":[{\"type\":\"scattercarpet\",\"marker\":{\"colorbar\":{\"outlinewidth\":0,\"ticks\":\"\"}}}],\"carpet\":[{\"aaxis\":{\"endlinecolor\":\"#2a3f5f\",\"gridcolor\":\"white\",\"linecolor\":\"white\",\"minorgridcolor\":\"white\",\"startlinecolor\":\"#2a3f5f\"},\"baxis\":{\"endlinecolor\":\"#2a3f5f\",\"gridcolor\":\"white\",\"linecolor\":\"white\",\"minorgridcolor\":\"white\",\"startlinecolor\":\"#2a3f5f\"},\"type\":\"carpet\"}],\"table\":[{\"cells\":{\"fill\":{\"color\":\"#EBF0F8\"},\"line\":{\"color\":\"white\"}},\"header\":{\"fill\":{\"color\":\"#C8D4E3\"},\"line\":{\"color\":\"white\"}},\"type\":\"table\"}],\"barpolar\":[{\"marker\":{\"line\":{\"color\":\"#E5ECF6\",\"width\":0.5},\"pattern\":{\"fillmode\":\"overlay\",\"size\":10,\"solidity\":0.2}},\"type\":\"barpolar\"}],\"pie\":[{\"automargin\":true,\"type\":\"pie\"}]},\"layout\":{\"autotypenumbers\":\"strict\",\"colorway\":[\"#636efa\",\"#EF553B\",\"#00cc96\",\"#ab63fa\",\"#FFA15A\",\"#19d3f3\",\"#FF6692\",\"#B6E880\",\"#FF97FF\",\"#FECB52\"],\"font\":{\"color\":\"#2a3f5f\"},\"hovermode\":\"closest\",\"hoverlabel\":{\"align\":\"left\"},\"paper_bgcolor\":\"white\",\"plot_bgcolor\":\"#E5ECF6\",\"polar\":{\"bgcolor\":\"#E5ECF6\",\"angularaxis\":{\"gridcolor\":\"white\",\"linecolor\":\"white\",\"ticks\":\"\"},\"radialaxis\":{\"gridcolor\":\"white\",\"linecolor\":\"white\",\"ticks\":\"\"}},\"ternary\":{\"bgcolor\":\"#E5ECF6\",\"aaxis\":{\"gridcolor\":\"white\",\"linecolor\":\"white\",\"ticks\":\"\"},\"baxis\":{\"gridcolor\":\"white\",\"linecolor\":\"white\",\"ticks\":\"\"},\"caxis\":{\"gridcolor\":\"white\",\"linecolor\":\"white\",\"ticks\":\"\"}},\"coloraxis\":{\"colorbar\":{\"outlinewidth\":0,\"ticks\":\"\"}},\"colorscale\":{\"sequential\":[[0.0,\"#0d0887\"],[0.1111111111111111,\"#46039f\"],[0.2222222222222222,\"#7201a8\"],[0.3333333333333333,\"#9c179e\"],[0.4444444444444444,\"#bd3786\"],[0.5555555555555556,\"#d8576b\"],[0.6666666666666666,\"#ed7953\"],[0.7777777777777778,\"#fb9f3a\"],[0.8888888888888888,\"#fdca26\"],[1.0,\"#f0f921\"]],\"sequentialminus\":[[0.0,\"#0d0887\"],[0.1111111111111111,\"#46039f\"],[0.2222222222222222,\"#7201a8\"],[0.3333333333333333,\"#9c179e\"],[0.4444444444444444,\"#bd3786\"],[0.5555555555555556,\"#d8576b\"],[0.6666666666666666,\"#ed7953\"],[0.7777777777777778,\"#fb9f3a\"],[0.8888888888888888,\"#fdca26\"],[1.0,\"#f0f921\"]],\"diverging\":[[0,\"#8e0152\"],[0.1,\"#c51b7d\"],[0.2,\"#de77ae\"],[0.3,\"#f1b6da\"],[0.4,\"#fde0ef\"],[0.5,\"#f7f7f7\"],[0.6,\"#e6f5d0\"],[0.7,\"#b8e186\"],[0.8,\"#7fbc41\"],[0.9,\"#4d9221\"],[1,\"#276419\"]]},\"xaxis\":{\"gridcolor\":\"white\",\"linecolor\":\"white\",\"ticks\":\"\",\"title\":{\"standoff\":15},\"zerolinecolor\":\"white\",\"automargin\":true,\"zerolinewidth\":2},\"yaxis\":{\"gridcolor\":\"white\",\"linecolor\":\"white\",\"ticks\":\"\",\"title\":{\"standoff\":15},\"zerolinecolor\":\"white\",\"automargin\":true,\"zerolinewidth\":2},\"scene\":{\"xaxis\":{\"backgroundcolor\":\"#E5ECF6\",\"gridcolor\":\"white\",\"linecolor\":\"white\",\"showbackground\":true,\"ticks\":\"\",\"zerolinecolor\":\"white\",\"gridwidth\":2},\"yaxis\":{\"backgroundcolor\":\"#E5ECF6\",\"gridcolor\":\"white\",\"linecolor\":\"white\",\"showbackground\":true,\"ticks\":\"\",\"zerolinecolor\":\"white\",\"gridwidth\":2},\"zaxis\":{\"backgroundcolor\":\"#E5ECF6\",\"gridcolor\":\"white\",\"linecolor\":\"white\",\"showbackground\":true,\"ticks\":\"\",\"zerolinecolor\":\"white\",\"gridwidth\":2}},\"shapedefaults\":{\"line\":{\"color\":\"#2a3f5f\"}},\"annotationdefaults\":{\"arrowcolor\":\"#2a3f5f\",\"arrowhead\":0,\"arrowwidth\":1},\"geo\":{\"bgcolor\":\"white\",\"landcolor\":\"#E5ECF6\",\"subunitcolor\":\"white\",\"showland\":true,\"showlakes\":true,\"lakecolor\":\"white\"},\"title\":{\"x\":0.05},\"mapbox\":{\"style\":\"light\"}}},\"xaxis\":{\"anchor\":\"y\",\"domain\":[0.0,1.0],\"title\":{\"text\":\"value_label\"}},\"yaxis\":{\"anchor\":\"x\",\"domain\":[0.0,1.0],\"title\":{\"text\":\"score\"}},\"legend\":{\"title\":{\"text\":\"K\"},\"tracegroupgap\":0},\"title\":{\"text\":\"Probe score over layers and K-values for Cheese, Top-right model\"}},                        {\"responsive\": true}                    ).then(function(){\n",
       "                            \n",
       "var gd = document.getElementById('6f648e1c-1e20-4884-8ee1-87a1e699325c');\n",
       "var x = new MutationObserver(function (mutations, observer) {{\n",
       "        var display = window.getComputedStyle(gd).display;\n",
       "        if (!display || display === 'none') {{\n",
       "            console.log([gd, 'removed!']);\n",
       "            Plotly.purge(gd);\n",
       "            observer.disconnect();\n",
       "        }}\n",
       "}});\n",
       "\n",
       "// Listen for the removal of the full notebook cells\n",
       "var notebookContainer = gd.closest('#notebook-container');\n",
       "if (notebookContainer) {{\n",
       "    x.observe(notebookContainer, {childList: true});\n",
       "}}\n",
       "\n",
       "// Listen for the clearing of the current output cell\n",
       "var outputEl = gd.closest('.output');\n",
       "if (outputEl) {{\n",
       "    x.observe(outputEl, {childList: true});\n",
       "}}\n",
       "\n",
       "                        })                };                });            </script>        </div>"
      ]
     },
     "metadata": {},
     "output_type": "display_data"
    }
   ],
   "source": [
    "cheese_pos_x = cheese_pos.x.values.astype(float)\n",
    "cheese_pos_y = cheese_pos.y.values.astype(float)\n",
    "mouse_pos_x = mouse_pos.x.values.astype(float)\n",
    "mouse_pos_y = mouse_pos.y.values.astype(float)\n",
    "top_right_pos_x = top_right_pos.x.values.astype(float)\n",
    "\n",
    "\n",
    "index_nums = np.array([1, 10, 100, 1000, 10000, 100000])\n",
    "\n",
    "obj_pos = cheese_pos_y\n",
    "hook_to_use = hook1\n",
    "obj_pos_name = 'cheese_pos_y'\n",
    "model_name = '1-Mouse'\n",
    "\n",
    "results, _ = cpr.sparse_linear_probe(hook1, values_to_store, obj_pos, model_type='ridge',\n",
    "    index_nums = index_nums, random_state=42, max_iter=10000, alpha=100.)\n",
    "\n",
    "plot_sparse_probe_scores(results, obj_pos, index_nums, \n",
    "    f'Probe score over layers and K-values for Cheese, Cheese Mouse model',\n",
    "    include_limits=False)\n",
    "\n",
    "results, _ = cpr.sparse_linear_probe(hook2, values_to_store, obj_pos, model_type='ridge',\n",
    "    index_nums = index_nums, random_state=42, max_iter=10000, alpha=100.)\n",
    "\n",
    "plot_sparse_probe_scores(results, obj_pos, index_nums, \n",
    "    f'Probe score over layers and K-values for Cheese, Top-right model',\n",
    "    include_limits=False)\n",
    "\n"
   ]
  },
  {
   "cell_type": "code",
   "execution_count": 9,
   "metadata": {},
   "outputs": [
    {
     "name": "stderr",
     "output_type": "stream",
     "text": [
      "100%|██████████| 200/200 [00:00<00:00, 4444.39it/s]\n",
      "  0%|          | 0/200 [00:00<?, ?it/s]"
     ]
    },
    {
     "name": "stderr",
     "output_type": "stream",
     "text": [
      "100%|██████████| 200/200 [00:00<00:00, 4334.12it/s]\n",
      "100%|██████████| 200/200 [00:00<00:00, 4620.80it/s]\n",
      "100%|██████████| 200/200 [00:00<00:00, 4409.21it/s]\n",
      "100%|██████████| 200/200 [00:00<00:00, 4239.84it/s]\n",
      "100%|██████████| 200/200 [00:00<00:00, 4387.55it/s]\n",
      "100%|██████████| 200/200 [00:00<00:00, 4581.03it/s]\n",
      "100%|██████████| 200/200 [00:00<00:00, 4677.36it/s]\n",
      "100%|██████████| 200/200 [00:00<00:00, 4693.98it/s]\n",
      "100%|██████████| 200/200 [00:00<00:00, 4644.73it/s]\n",
      "100%|██████████| 200/200 [00:00<00:00, 4641.21it/s]\n",
      "100%|██████████| 200/200 [00:00<00:00, 4419.92it/s]\n",
      "100%|██████████| 200/200 [00:00<00:00, 4223.17it/s]\n",
      "100%|██████████| 200/200 [00:00<00:00, 4180.22it/s]\n",
      "100%|██████████| 200/200 [00:00<00:00, 4351.34it/s]\n",
      "100%|██████████| 200/200 [00:00<00:00, 4320.22it/s]\n",
      "100%|██████████| 200/200 [00:00<00:00, 4477.53it/s]\n",
      "100%|██████████| 200/200 [00:00<00:00, 3254.86it/s]\n",
      "100%|██████████| 200/200 [00:00<00:00, 3746.10it/s]\n",
      "100%|██████████| 200/200 [00:00<00:00, 4487.23it/s]\n",
      "100%|██████████| 200/200 [00:00<00:00, 3546.50it/s]\n",
      "100%|██████████| 200/200 [00:00<00:00, 3978.45it/s]\n",
      "100%|██████████| 200/200 [00:00<00:00, 4439.33it/s]\n",
      "100%|██████████| 200/200 [00:00<00:00, 4134.68it/s]\n",
      "100%|██████████| 200/200 [00:00<00:00, 4338.99it/s]\n",
      "100%|██████████| 200/200 [00:00<00:00, 3334.56it/s]\n",
      "100%|██████████| 200/200 [00:00<00:00, 3108.37it/s]\n",
      "100%|██████████| 200/200 [00:00<00:00, 4123.04it/s]\n",
      "100%|██████████| 200/200 [00:00<00:00, 4201.21it/s]\n",
      "100%|██████████| 200/200 [00:00<00:00, 4271.62it/s]\n",
      "100%|██████████| 200/200 [00:00<00:00, 4171.88it/s]\n",
      "100%|██████████| 200/200 [00:00<00:00, 4541.43it/s]\n",
      "100%|██████████| 200/200 [00:00<00:00, 4738.34it/s]\n",
      "100%|██████████| 200/200 [00:00<00:00, 4577.14it/s]\n",
      "100%|██████████| 200/200 [00:00<00:00, 4293.70it/s]\n",
      "100%|██████████| 200/200 [00:00<00:00, 4273.03it/s]\n",
      "100%|██████████| 200/200 [00:00<00:00, 4357.24it/s]\n",
      "100%|██████████| 200/200 [00:00<00:00, 4273.82it/s]\n",
      "100%|██████████| 200/200 [00:00<00:00, 3446.24it/s]\n",
      "100%|██████████| 200/200 [00:00<00:00, 4510.83it/s]\n",
      "100%|██████████| 200/200 [00:00<00:00, 3461.32it/s]\n",
      "100%|██████████| 200/200 [00:00<00:00, 4533.40it/s]\n",
      "100%|██████████| 200/200 [00:00<00:00, 4336.72it/s]\n",
      "100%|██████████| 200/200 [00:00<00:00, 4050.53it/s]\n",
      "100%|██████████| 200/200 [00:00<00:00, 4128.46it/s]\n",
      "100%|██████████| 200/200 [00:00<00:00, 4528.53it/s]\n",
      "100%|██████████| 200/200 [00:00<00:00, 4412.76it/s]\n",
      "100%|██████████| 200/200 [00:00<00:00, 4530.32it/s]\n",
      "100%|██████████| 200/200 [00:00<00:00, 4573.19it/s]\n",
      "100%|██████████| 200/200 [00:00<00:00, 4349.16it/s]\n",
      "100%|██████████| 200/200 [00:00<00:00, 3992.88it/s]\n",
      "100%|██████████| 200/200 [00:00<00:00, 4129.02it/s]\n",
      "100%|██████████| 200/200 [00:00<00:00, 4293.57it/s]\n",
      "100%|██████████| 200/200 [00:00<00:00, 4553.11it/s]\n",
      "100%|██████████| 200/200 [00:00<00:00, 4119.39it/s]\n",
      "100%|██████████| 200/200 [00:00<00:00, 4386.38it/s]\n",
      "100%|██████████| 200/200 [00:00<00:00, 3871.43it/s]\n",
      "100%|██████████| 200/200 [00:00<00:00, 4064.84it/s]\n",
      "100%|██████████| 200/200 [00:00<00:00, 3867.25it/s]\n",
      "100%|██████████| 200/200 [00:00<00:00, 4095.86it/s]\n",
      "100%|██████████| 200/200 [00:00<00:00, 4029.38it/s]\n",
      "100%|██████████| 200/200 [00:00<00:00, 3517.53it/s]\n",
      "100%|██████████| 200/200 [00:00<00:00, 3625.42it/s]\n",
      "100%|██████████| 200/200 [00:00<00:00, 3921.30it/s]\n",
      "100%|██████████| 200/200 [00:00<00:00, 3944.89it/s]\n",
      "100%|██████████| 200/200 [00:00<00:00, 3953.35it/s]\n",
      "100%|██████████| 200/200 [00:00<00:00, 3586.67it/s]\n",
      "100%|██████████| 200/200 [00:00<00:00, 3358.10it/s]\n",
      "100%|██████████| 200/200 [00:00<00:00, 3986.58it/s]\n",
      "100%|██████████| 200/200 [00:00<00:00, 3705.49it/s]\n",
      "100%|██████████| 200/200 [00:00<00:00, 3772.33it/s]\n",
      "100%|██████████| 200/200 [00:00<00:00, 3730.16it/s]\n",
      "100%|██████████| 200/200 [00:00<00:00, 4201.30it/s]\n",
      "100%|██████████| 200/200 [00:00<00:00, 4090.85it/s]\n",
      "100%|██████████| 200/200 [00:00<00:00, 4371.59it/s]\n",
      "100%|██████████| 200/200 [00:00<00:00, 3192.01it/s]\n"
     ]
    }
   ],
   "source": [
    "value_labels_conv = [\n",
    "    'embedder.block1.res1.resadd_out',\n",
    "    'embedder.block1.res2.resadd_out',\n",
    "    'embedder.block2.res1.resadd_out',\n",
    "    'embedder.block2.res2.resadd_out',\n",
    "    'embedder.block3.res1.resadd_out',\n",
    "    'embedder.block3.res2.resadd_out']\n",
    "\n",
    "\n",
    "\n",
    "value_labels_conv = [\n",
    "    'embedder.block1.conv_in0',\n",
    "    'embedder.block1.res1.relu1_out',\n",
    "    'embedder.block1.res1.resadd_out',\n",
    "    'embedder.block1.res1.relu2_out',\n",
    "    'embedder.block1.res2.relu1_out',\n",
    "    'embedder.block1.res2.resadd_out',\n",
    "    'embedder.block1.res2.relu2_out',\n",
    "    'embedder.block2.res1.relu1_out',\n",
    "    'embedder.block2.res1.resadd_out',\n",
    "    'embedder.block2.res1.relu2_out',\n",
    "    'embedder.block2.res2.relu1_out',\n",
    "    'embedder.block2.res2.resadd_out',\n",
    "    'embedder.block2.res2.relu2_out',\n",
    "    'embedder.block3.res1.relu1_out',\n",
    "    'embedder.block3.res1.resadd_out',\n",
    "    'embedder.block3.res1.relu2_out',\n",
    "    'embedder.block3.res2.relu1_out',\n",
    "    'embedder.block3.res2.resadd_out',\n",
    "    'embedder.block3.res2.relu2_out',\n",
    "    # 'embedder.flatten_out',\n",
    "    # 'embedder.relufc_out',\n",
    "    # 'fc_policy_out',\n",
    "]\n",
    "\n",
    "\n",
    "\n",
    "\n",
    "pixel_data = {}\n",
    "f_test_dfs = {}\n",
    "\n",
    "hook_to_use = hook1\n",
    "pixel_data['cheese1'], f_test_dfs['cheese'] = make_pixel_data(value_labels_conv, cheese_pos, hook1)\n",
    "pixel_data['mouse1'], f_test_dfs['mouse'] = make_pixel_data(value_labels_conv, mouse_pos, hook1)\n",
    "pixel_data['cheese2'], f_test_dfs['cheese'] = make_pixel_data(value_labels_conv, cheese_pos, hook2)\n",
    "pixel_data['mouse2'], f_test_dfs['mouse'] = make_pixel_data(value_labels_conv, mouse_pos, hook2)\n",
    "#pixel_data['dist_to_top_right, hook1'], f_test_dfs['dist_to_top_right'] = make_pixel_data(value_labels_conv, top_right_pos, hook_to_use)\n",
    "#pixel_data['dist_to_top_right, hook2'], f_test_dfs['dist_to_top_right'] = make_pixel_data(value_labels_conv, top_right_pos, hook2)"
   ]
  },
  {
   "cell_type": "code",
   "execution_count": 10,
   "metadata": {},
   "outputs": [
    {
     "name": "stderr",
     "output_type": "stream",
     "text": [
      "  0%|          | 0/19 [00:00<?, ?it/s]"
     ]
    },
    {
     "name": "stderr",
     "output_type": "stream",
     "text": [
      "100%|██████████| 19/19 [00:02<00:00,  7.46it/s]\n"
     ]
    },
    {
     "data": {
      "application/vnd.plotly.v1+json": {
       "config": {
        "plotlyServerURL": "https://plot.ly"
       },
       "data": [
        {
         "hovertemplate": "K=1<br>layer=%{x}<br>score=%{y}<extra></extra>",
         "legendgroup": "1",
         "line": {
          "color": "#636efa",
          "dash": "solid"
         },
         "marker": {
          "symbol": "circle"
         },
         "mode": "lines",
         "name": "1",
         "orientation": "v",
         "showlegend": true,
         "type": "scatter",
         "x": [
          "embedder.block1.conv_in0",
          "embedder.block1.res1.relu1_out",
          "embedder.block1.res1.resadd_out",
          "embedder.block1.res1.relu2_out",
          "embedder.block1.res2.relu1_out",
          "embedder.block1.res2.resadd_out",
          "embedder.block1.res2.relu2_out",
          "embedder.block2.res1.relu1_out",
          "embedder.block2.res1.resadd_out",
          "embedder.block2.res1.relu2_out",
          "embedder.block2.res2.relu1_out",
          "embedder.block2.res2.resadd_out",
          "embedder.block2.res2.relu2_out",
          "embedder.block3.res1.relu1_out",
          "embedder.block3.res1.resadd_out",
          "embedder.block3.res1.relu2_out",
          "embedder.block3.res2.relu1_out",
          "embedder.block3.res2.resadd_out",
          "embedder.block3.res2.relu2_out"
         ],
         "xaxis": "x",
         "y": [
          0.975,
          1,
          1,
          0.8875,
          0.975,
          1,
          0.8875,
          0.975,
          1,
          0.8125,
          0.9625,
          0.95,
          0.9,
          0.825,
          0.85,
          0.85,
          0.8125,
          0.8375,
          0.8125
         ],
         "yaxis": "y"
        },
        {
         "hovertemplate": "K=2<br>layer=%{x}<br>score=%{y}<extra></extra>",
         "legendgroup": "2",
         "line": {
          "color": "#EF553B",
          "dash": "solid"
         },
         "marker": {
          "symbol": "circle"
         },
         "mode": "lines",
         "name": "2",
         "orientation": "v",
         "showlegend": true,
         "type": "scatter",
         "x": [
          "embedder.block1.conv_in0",
          "embedder.block1.res1.relu1_out",
          "embedder.block1.res1.resadd_out",
          "embedder.block1.res1.relu2_out",
          "embedder.block1.res2.relu1_out",
          "embedder.block1.res2.resadd_out",
          "embedder.block1.res2.relu2_out",
          "embedder.block2.res1.relu1_out",
          "embedder.block2.res1.resadd_out",
          "embedder.block2.res1.relu2_out",
          "embedder.block2.res2.relu1_out",
          "embedder.block2.res2.resadd_out",
          "embedder.block2.res2.relu2_out",
          "embedder.block3.res1.relu1_out",
          "embedder.block3.res1.resadd_out",
          "embedder.block3.res1.relu2_out",
          "embedder.block3.res2.relu1_out",
          "embedder.block3.res2.resadd_out",
          "embedder.block3.res2.relu2_out"
         ],
         "xaxis": "x",
         "y": [
          0.975,
          1,
          0.9875,
          0.9,
          0.9875,
          1,
          0.9375,
          0.975,
          0.9875,
          0.8875,
          0.9875,
          0.975,
          0.875,
          0.8375,
          0.8375,
          0.85,
          0.8125,
          0.8125,
          0.8125
         ],
         "yaxis": "y"
        },
        {
         "hovertemplate": "K=3<br>layer=%{x}<br>score=%{y}<extra></extra>",
         "legendgroup": "3",
         "line": {
          "color": "#00cc96",
          "dash": "solid"
         },
         "marker": {
          "symbol": "circle"
         },
         "mode": "lines",
         "name": "3",
         "orientation": "v",
         "showlegend": true,
         "type": "scatter",
         "x": [
          "embedder.block1.conv_in0",
          "embedder.block1.res1.relu1_out",
          "embedder.block1.res1.resadd_out",
          "embedder.block1.res1.relu2_out",
          "embedder.block1.res2.relu1_out",
          "embedder.block1.res2.resadd_out",
          "embedder.block1.res2.relu2_out",
          "embedder.block2.res1.relu1_out",
          "embedder.block2.res1.resadd_out",
          "embedder.block2.res1.relu2_out",
          "embedder.block2.res2.relu1_out",
          "embedder.block2.res2.resadd_out",
          "embedder.block2.res2.relu2_out",
          "embedder.block3.res1.relu1_out",
          "embedder.block3.res1.resadd_out",
          "embedder.block3.res1.relu2_out",
          "embedder.block3.res2.relu1_out",
          "embedder.block3.res2.resadd_out",
          "embedder.block3.res2.relu2_out"
         ],
         "xaxis": "x",
         "y": [
          0.975,
          1,
          0.9875,
          0.9125,
          0.975,
          1,
          0.95,
          0.975,
          0.9875,
          0.9,
          0.9875,
          0.975,
          0.875,
          0.8625,
          0.8375,
          0.85,
          0.8375,
          0.8125,
          0.8
         ],
         "yaxis": "y"
        },
        {
         "hovertemplate": "K=4<br>layer=%{x}<br>score=%{y}<extra></extra>",
         "legendgroup": "4",
         "line": {
          "color": "#ab63fa",
          "dash": "solid"
         },
         "marker": {
          "symbol": "circle"
         },
         "mode": "lines",
         "name": "4",
         "orientation": "v",
         "showlegend": true,
         "type": "scatter",
         "x": [
          "embedder.block1.conv_in0",
          "embedder.block1.res1.relu1_out",
          "embedder.block1.res1.resadd_out",
          "embedder.block1.res1.relu2_out",
          "embedder.block1.res2.relu1_out",
          "embedder.block1.res2.resadd_out",
          "embedder.block1.res2.relu2_out",
          "embedder.block2.res1.relu1_out",
          "embedder.block2.res1.resadd_out",
          "embedder.block2.res1.relu2_out",
          "embedder.block2.res2.relu1_out",
          "embedder.block2.res2.resadd_out",
          "embedder.block2.res2.relu2_out",
          "embedder.block3.res1.relu1_out",
          "embedder.block3.res1.resadd_out",
          "embedder.block3.res1.relu2_out",
          "embedder.block3.res2.relu1_out",
          "embedder.block3.res2.resadd_out",
          "embedder.block3.res2.relu2_out"
         ],
         "xaxis": "x",
         "y": [
          0.975,
          1,
          1,
          0.9375,
          0.975,
          1,
          0.9625,
          0.975,
          0.975,
          0.9375,
          0.9625,
          0.975,
          0.875,
          0.8625,
          0.8375,
          0.85,
          0.8,
          0.8125,
          0.8
         ],
         "yaxis": "y"
        },
        {
         "hovertemplate": "K=5<br>layer=%{x}<br>score=%{y}<extra></extra>",
         "legendgroup": "5",
         "line": {
          "color": "#FFA15A",
          "dash": "solid"
         },
         "marker": {
          "symbol": "circle"
         },
         "mode": "lines",
         "name": "5",
         "orientation": "v",
         "showlegend": true,
         "type": "scatter",
         "x": [
          "embedder.block1.conv_in0",
          "embedder.block1.res1.relu1_out",
          "embedder.block1.res1.resadd_out",
          "embedder.block1.res1.relu2_out",
          "embedder.block1.res2.relu1_out",
          "embedder.block1.res2.resadd_out",
          "embedder.block1.res2.relu2_out",
          "embedder.block2.res1.relu1_out",
          "embedder.block2.res1.resadd_out",
          "embedder.block2.res1.relu2_out",
          "embedder.block2.res2.relu1_out",
          "embedder.block2.res2.resadd_out",
          "embedder.block2.res2.relu2_out",
          "embedder.block3.res1.relu1_out",
          "embedder.block3.res1.resadd_out",
          "embedder.block3.res1.relu2_out",
          "embedder.block3.res2.relu1_out",
          "embedder.block3.res2.resadd_out",
          "embedder.block3.res2.relu2_out"
         ],
         "xaxis": "x",
         "y": [
          0.975,
          1,
          1,
          0.975,
          0.975,
          1,
          0.9625,
          0.975,
          0.975,
          0.9375,
          0.9625,
          0.975,
          0.8875,
          0.875,
          0.8375,
          0.85,
          0.8125,
          0.825,
          0.8
         ],
         "yaxis": "y"
        },
        {
         "hovertemplate": "K=6<br>layer=%{x}<br>score=%{y}<extra></extra>",
         "legendgroup": "6",
         "line": {
          "color": "#19d3f3",
          "dash": "solid"
         },
         "marker": {
          "symbol": "circle"
         },
         "mode": "lines",
         "name": "6",
         "orientation": "v",
         "showlegend": true,
         "type": "scatter",
         "x": [
          "embedder.block1.conv_in0",
          "embedder.block1.res1.relu1_out",
          "embedder.block1.res1.resadd_out",
          "embedder.block1.res1.relu2_out",
          "embedder.block1.res2.relu1_out",
          "embedder.block1.res2.resadd_out",
          "embedder.block1.res2.relu2_out",
          "embedder.block2.res1.relu1_out",
          "embedder.block2.res1.resadd_out",
          "embedder.block2.res1.relu2_out",
          "embedder.block2.res2.relu1_out",
          "embedder.block2.res2.resadd_out",
          "embedder.block2.res2.relu2_out",
          "embedder.block3.res1.relu1_out",
          "embedder.block3.res1.resadd_out",
          "embedder.block3.res1.relu2_out",
          "embedder.block3.res2.relu1_out",
          "embedder.block3.res2.resadd_out",
          "embedder.block3.res2.relu2_out"
         ],
         "xaxis": "x",
         "y": [
          0.975,
          1,
          1,
          0.975,
          1,
          1,
          0.95,
          0.975,
          0.975,
          0.95,
          0.9625,
          0.975,
          0.8875,
          0.9,
          0.85,
          0.8625,
          0.825,
          0.8125,
          0.8125
         ],
         "yaxis": "y"
        },
        {
         "hovertemplate": "K=7<br>layer=%{x}<br>score=%{y}<extra></extra>",
         "legendgroup": "7",
         "line": {
          "color": "#FF6692",
          "dash": "solid"
         },
         "marker": {
          "symbol": "circle"
         },
         "mode": "lines",
         "name": "7",
         "orientation": "v",
         "showlegend": true,
         "type": "scatter",
         "x": [
          "embedder.block1.conv_in0",
          "embedder.block1.res1.relu1_out",
          "embedder.block1.res1.resadd_out",
          "embedder.block1.res1.relu2_out",
          "embedder.block1.res2.relu1_out",
          "embedder.block1.res2.resadd_out",
          "embedder.block1.res2.relu2_out",
          "embedder.block2.res1.relu1_out",
          "embedder.block2.res1.resadd_out",
          "embedder.block2.res1.relu2_out",
          "embedder.block2.res2.relu1_out",
          "embedder.block2.res2.resadd_out",
          "embedder.block2.res2.relu2_out",
          "embedder.block3.res1.relu1_out",
          "embedder.block3.res1.resadd_out",
          "embedder.block3.res1.relu2_out",
          "embedder.block3.res2.relu1_out",
          "embedder.block3.res2.resadd_out",
          "embedder.block3.res2.relu2_out"
         ],
         "xaxis": "x",
         "y": [
          0.975,
          1,
          1,
          0.975,
          1,
          1,
          0.95,
          0.9875,
          0.975,
          0.95,
          0.9625,
          0.975,
          0.925,
          0.8875,
          0.8875,
          0.85,
          0.8125,
          0.825,
          0.825
         ],
         "yaxis": "y"
        },
        {
         "hovertemplate": "K=8<br>layer=%{x}<br>score=%{y}<extra></extra>",
         "legendgroup": "8",
         "line": {
          "color": "#B6E880",
          "dash": "solid"
         },
         "marker": {
          "symbol": "circle"
         },
         "mode": "lines",
         "name": "8",
         "orientation": "v",
         "showlegend": true,
         "type": "scatter",
         "x": [
          "embedder.block1.conv_in0",
          "embedder.block1.res1.relu1_out",
          "embedder.block1.res1.resadd_out",
          "embedder.block1.res1.relu2_out",
          "embedder.block1.res2.relu1_out",
          "embedder.block1.res2.resadd_out",
          "embedder.block1.res2.relu2_out",
          "embedder.block2.res1.relu1_out",
          "embedder.block2.res1.resadd_out",
          "embedder.block2.res1.relu2_out",
          "embedder.block2.res2.relu1_out",
          "embedder.block2.res2.resadd_out",
          "embedder.block2.res2.relu2_out",
          "embedder.block3.res1.relu1_out",
          "embedder.block3.res1.resadd_out",
          "embedder.block3.res1.relu2_out",
          "embedder.block3.res2.relu1_out",
          "embedder.block3.res2.resadd_out",
          "embedder.block3.res2.relu2_out"
         ],
         "xaxis": "x",
         "y": [
          0.975,
          1,
          1,
          0.975,
          0.9875,
          1,
          0.95,
          0.9875,
          0.975,
          0.95,
          0.9625,
          0.975,
          0.925,
          0.9125,
          0.9,
          0.8375,
          0.8625,
          0.8,
          0.8375
         ],
         "yaxis": "y"
        },
        {
         "hovertemplate": "K=9<br>layer=%{x}<br>score=%{y}<extra></extra>",
         "legendgroup": "9",
         "line": {
          "color": "#FF97FF",
          "dash": "solid"
         },
         "marker": {
          "symbol": "circle"
         },
         "mode": "lines",
         "name": "9",
         "orientation": "v",
         "showlegend": true,
         "type": "scatter",
         "x": [
          "embedder.block1.conv_in0",
          "embedder.block1.res1.relu1_out",
          "embedder.block1.res1.resadd_out",
          "embedder.block1.res1.relu2_out",
          "embedder.block1.res2.relu1_out",
          "embedder.block1.res2.resadd_out",
          "embedder.block1.res2.relu2_out",
          "embedder.block2.res1.relu1_out",
          "embedder.block2.res1.resadd_out",
          "embedder.block2.res1.relu2_out",
          "embedder.block2.res2.relu1_out",
          "embedder.block2.res2.resadd_out",
          "embedder.block2.res2.relu2_out",
          "embedder.block3.res1.relu1_out",
          "embedder.block3.res1.resadd_out",
          "embedder.block3.res1.relu2_out",
          "embedder.block3.res2.relu1_out",
          "embedder.block3.res2.resadd_out",
          "embedder.block3.res2.relu2_out"
         ],
         "xaxis": "x",
         "y": [
          0.975,
          1,
          1,
          0.975,
          0.9875,
          1,
          0.95,
          0.9875,
          0.975,
          0.95,
          0.9625,
          0.975,
          0.925,
          0.9,
          0.8875,
          0.8375,
          0.8625,
          0.875,
          0.8375
         ],
         "yaxis": "y"
        },
        {
         "hovertemplate": "K=10<br>layer=%{x}<br>score=%{y}<extra></extra>",
         "legendgroup": "10",
         "line": {
          "color": "#FECB52",
          "dash": "solid"
         },
         "marker": {
          "symbol": "circle"
         },
         "mode": "lines",
         "name": "10",
         "orientation": "v",
         "showlegend": true,
         "type": "scatter",
         "x": [
          "embedder.block1.conv_in0",
          "embedder.block1.res1.relu1_out",
          "embedder.block1.res1.resadd_out",
          "embedder.block1.res1.relu2_out",
          "embedder.block1.res2.relu1_out",
          "embedder.block1.res2.resadd_out",
          "embedder.block1.res2.relu2_out",
          "embedder.block2.res1.relu1_out",
          "embedder.block2.res1.resadd_out",
          "embedder.block2.res1.relu2_out",
          "embedder.block2.res2.relu1_out",
          "embedder.block2.res2.resadd_out",
          "embedder.block2.res2.relu2_out",
          "embedder.block3.res1.relu1_out",
          "embedder.block3.res1.resadd_out",
          "embedder.block3.res1.relu2_out",
          "embedder.block3.res2.relu1_out",
          "embedder.block3.res2.resadd_out",
          "embedder.block3.res2.relu2_out"
         ],
         "xaxis": "x",
         "y": [
          0.975,
          1,
          1,
          0.975,
          0.9875,
          1,
          0.95,
          0.9875,
          0.975,
          0.95,
          0.9625,
          0.975,
          0.9375,
          0.9,
          0.875,
          0.8375,
          0.8625,
          0.8875,
          0.8375
         ],
         "yaxis": "y"
        }
       ],
       "layout": {
        "annotations": [
         {
          "showarrow": false,
          "text": "perfect",
          "x": 1,
          "xanchor": "right",
          "xref": "x domain",
          "y": 1,
          "yanchor": "top",
          "yref": "y"
         },
         {
          "showarrow": false,
          "text": "baseline",
          "x": 1,
          "xanchor": "right",
          "xref": "x domain",
          "y": 0.5,
          "yanchor": "top",
          "yref": "y"
         }
        ],
        "legend": {
         "title": {
          "text": "K"
         },
         "tracegroupgap": 0
        },
        "shapes": [
         {
          "line": {
           "dash": "dot"
          },
          "type": "line",
          "x0": 0,
          "x1": 1,
          "xref": "x domain",
          "y0": 1,
          "y1": 1,
          "yref": "y"
         },
         {
          "line": {
           "dash": "dot"
          },
          "type": "line",
          "x0": 0,
          "x1": 1,
          "xref": "x domain",
          "y0": 0.5,
          "y1": 0.5,
          "yref": "y"
         }
        ],
        "template": {
         "data": {
          "bar": [
           {
            "error_x": {
             "color": "#2a3f5f"
            },
            "error_y": {
             "color": "#2a3f5f"
            },
            "marker": {
             "line": {
              "color": "#E5ECF6",
              "width": 0.5
             },
             "pattern": {
              "fillmode": "overlay",
              "size": 10,
              "solidity": 0.2
             }
            },
            "type": "bar"
           }
          ],
          "barpolar": [
           {
            "marker": {
             "line": {
              "color": "#E5ECF6",
              "width": 0.5
             },
             "pattern": {
              "fillmode": "overlay",
              "size": 10,
              "solidity": 0.2
             }
            },
            "type": "barpolar"
           }
          ],
          "carpet": [
           {
            "aaxis": {
             "endlinecolor": "#2a3f5f",
             "gridcolor": "white",
             "linecolor": "white",
             "minorgridcolor": "white",
             "startlinecolor": "#2a3f5f"
            },
            "baxis": {
             "endlinecolor": "#2a3f5f",
             "gridcolor": "white",
             "linecolor": "white",
             "minorgridcolor": "white",
             "startlinecolor": "#2a3f5f"
            },
            "type": "carpet"
           }
          ],
          "choropleth": [
           {
            "colorbar": {
             "outlinewidth": 0,
             "ticks": ""
            },
            "type": "choropleth"
           }
          ],
          "contour": [
           {
            "colorbar": {
             "outlinewidth": 0,
             "ticks": ""
            },
            "colorscale": [
             [
              0,
              "#0d0887"
             ],
             [
              0.1111111111111111,
              "#46039f"
             ],
             [
              0.2222222222222222,
              "#7201a8"
             ],
             [
              0.3333333333333333,
              "#9c179e"
             ],
             [
              0.4444444444444444,
              "#bd3786"
             ],
             [
              0.5555555555555556,
              "#d8576b"
             ],
             [
              0.6666666666666666,
              "#ed7953"
             ],
             [
              0.7777777777777778,
              "#fb9f3a"
             ],
             [
              0.8888888888888888,
              "#fdca26"
             ],
             [
              1,
              "#f0f921"
             ]
            ],
            "type": "contour"
           }
          ],
          "contourcarpet": [
           {
            "colorbar": {
             "outlinewidth": 0,
             "ticks": ""
            },
            "type": "contourcarpet"
           }
          ],
          "heatmap": [
           {
            "colorbar": {
             "outlinewidth": 0,
             "ticks": ""
            },
            "colorscale": [
             [
              0,
              "#0d0887"
             ],
             [
              0.1111111111111111,
              "#46039f"
             ],
             [
              0.2222222222222222,
              "#7201a8"
             ],
             [
              0.3333333333333333,
              "#9c179e"
             ],
             [
              0.4444444444444444,
              "#bd3786"
             ],
             [
              0.5555555555555556,
              "#d8576b"
             ],
             [
              0.6666666666666666,
              "#ed7953"
             ],
             [
              0.7777777777777778,
              "#fb9f3a"
             ],
             [
              0.8888888888888888,
              "#fdca26"
             ],
             [
              1,
              "#f0f921"
             ]
            ],
            "type": "heatmap"
           }
          ],
          "heatmapgl": [
           {
            "colorbar": {
             "outlinewidth": 0,
             "ticks": ""
            },
            "colorscale": [
             [
              0,
              "#0d0887"
             ],
             [
              0.1111111111111111,
              "#46039f"
             ],
             [
              0.2222222222222222,
              "#7201a8"
             ],
             [
              0.3333333333333333,
              "#9c179e"
             ],
             [
              0.4444444444444444,
              "#bd3786"
             ],
             [
              0.5555555555555556,
              "#d8576b"
             ],
             [
              0.6666666666666666,
              "#ed7953"
             ],
             [
              0.7777777777777778,
              "#fb9f3a"
             ],
             [
              0.8888888888888888,
              "#fdca26"
             ],
             [
              1,
              "#f0f921"
             ]
            ],
            "type": "heatmapgl"
           }
          ],
          "histogram": [
           {
            "marker": {
             "pattern": {
              "fillmode": "overlay",
              "size": 10,
              "solidity": 0.2
             }
            },
            "type": "histogram"
           }
          ],
          "histogram2d": [
           {
            "colorbar": {
             "outlinewidth": 0,
             "ticks": ""
            },
            "colorscale": [
             [
              0,
              "#0d0887"
             ],
             [
              0.1111111111111111,
              "#46039f"
             ],
             [
              0.2222222222222222,
              "#7201a8"
             ],
             [
              0.3333333333333333,
              "#9c179e"
             ],
             [
              0.4444444444444444,
              "#bd3786"
             ],
             [
              0.5555555555555556,
              "#d8576b"
             ],
             [
              0.6666666666666666,
              "#ed7953"
             ],
             [
              0.7777777777777778,
              "#fb9f3a"
             ],
             [
              0.8888888888888888,
              "#fdca26"
             ],
             [
              1,
              "#f0f921"
             ]
            ],
            "type": "histogram2d"
           }
          ],
          "histogram2dcontour": [
           {
            "colorbar": {
             "outlinewidth": 0,
             "ticks": ""
            },
            "colorscale": [
             [
              0,
              "#0d0887"
             ],
             [
              0.1111111111111111,
              "#46039f"
             ],
             [
              0.2222222222222222,
              "#7201a8"
             ],
             [
              0.3333333333333333,
              "#9c179e"
             ],
             [
              0.4444444444444444,
              "#bd3786"
             ],
             [
              0.5555555555555556,
              "#d8576b"
             ],
             [
              0.6666666666666666,
              "#ed7953"
             ],
             [
              0.7777777777777778,
              "#fb9f3a"
             ],
             [
              0.8888888888888888,
              "#fdca26"
             ],
             [
              1,
              "#f0f921"
             ]
            ],
            "type": "histogram2dcontour"
           }
          ],
          "mesh3d": [
           {
            "colorbar": {
             "outlinewidth": 0,
             "ticks": ""
            },
            "type": "mesh3d"
           }
          ],
          "parcoords": [
           {
            "line": {
             "colorbar": {
              "outlinewidth": 0,
              "ticks": ""
             }
            },
            "type": "parcoords"
           }
          ],
          "pie": [
           {
            "automargin": true,
            "type": "pie"
           }
          ],
          "scatter": [
           {
            "fillpattern": {
             "fillmode": "overlay",
             "size": 10,
             "solidity": 0.2
            },
            "type": "scatter"
           }
          ],
          "scatter3d": [
           {
            "line": {
             "colorbar": {
              "outlinewidth": 0,
              "ticks": ""
             }
            },
            "marker": {
             "colorbar": {
              "outlinewidth": 0,
              "ticks": ""
             }
            },
            "type": "scatter3d"
           }
          ],
          "scattercarpet": [
           {
            "marker": {
             "colorbar": {
              "outlinewidth": 0,
              "ticks": ""
             }
            },
            "type": "scattercarpet"
           }
          ],
          "scattergeo": [
           {
            "marker": {
             "colorbar": {
              "outlinewidth": 0,
              "ticks": ""
             }
            },
            "type": "scattergeo"
           }
          ],
          "scattergl": [
           {
            "marker": {
             "colorbar": {
              "outlinewidth": 0,
              "ticks": ""
             }
            },
            "type": "scattergl"
           }
          ],
          "scattermapbox": [
           {
            "marker": {
             "colorbar": {
              "outlinewidth": 0,
              "ticks": ""
             }
            },
            "type": "scattermapbox"
           }
          ],
          "scatterpolar": [
           {
            "marker": {
             "colorbar": {
              "outlinewidth": 0,
              "ticks": ""
             }
            },
            "type": "scatterpolar"
           }
          ],
          "scatterpolargl": [
           {
            "marker": {
             "colorbar": {
              "outlinewidth": 0,
              "ticks": ""
             }
            },
            "type": "scatterpolargl"
           }
          ],
          "scatterternary": [
           {
            "marker": {
             "colorbar": {
              "outlinewidth": 0,
              "ticks": ""
             }
            },
            "type": "scatterternary"
           }
          ],
          "surface": [
           {
            "colorbar": {
             "outlinewidth": 0,
             "ticks": ""
            },
            "colorscale": [
             [
              0,
              "#0d0887"
             ],
             [
              0.1111111111111111,
              "#46039f"
             ],
             [
              0.2222222222222222,
              "#7201a8"
             ],
             [
              0.3333333333333333,
              "#9c179e"
             ],
             [
              0.4444444444444444,
              "#bd3786"
             ],
             [
              0.5555555555555556,
              "#d8576b"
             ],
             [
              0.6666666666666666,
              "#ed7953"
             ],
             [
              0.7777777777777778,
              "#fb9f3a"
             ],
             [
              0.8888888888888888,
              "#fdca26"
             ],
             [
              1,
              "#f0f921"
             ]
            ],
            "type": "surface"
           }
          ],
          "table": [
           {
            "cells": {
             "fill": {
              "color": "#EBF0F8"
             },
             "line": {
              "color": "white"
             }
            },
            "header": {
             "fill": {
              "color": "#C8D4E3"
             },
             "line": {
              "color": "white"
             }
            },
            "type": "table"
           }
          ]
         },
         "layout": {
          "annotationdefaults": {
           "arrowcolor": "#2a3f5f",
           "arrowhead": 0,
           "arrowwidth": 1
          },
          "autotypenumbers": "strict",
          "coloraxis": {
           "colorbar": {
            "outlinewidth": 0,
            "ticks": ""
           }
          },
          "colorscale": {
           "diverging": [
            [
             0,
             "#8e0152"
            ],
            [
             0.1,
             "#c51b7d"
            ],
            [
             0.2,
             "#de77ae"
            ],
            [
             0.3,
             "#f1b6da"
            ],
            [
             0.4,
             "#fde0ef"
            ],
            [
             0.5,
             "#f7f7f7"
            ],
            [
             0.6,
             "#e6f5d0"
            ],
            [
             0.7,
             "#b8e186"
            ],
            [
             0.8,
             "#7fbc41"
            ],
            [
             0.9,
             "#4d9221"
            ],
            [
             1,
             "#276419"
            ]
           ],
           "sequential": [
            [
             0,
             "#0d0887"
            ],
            [
             0.1111111111111111,
             "#46039f"
            ],
            [
             0.2222222222222222,
             "#7201a8"
            ],
            [
             0.3333333333333333,
             "#9c179e"
            ],
            [
             0.4444444444444444,
             "#bd3786"
            ],
            [
             0.5555555555555556,
             "#d8576b"
            ],
            [
             0.6666666666666666,
             "#ed7953"
            ],
            [
             0.7777777777777778,
             "#fb9f3a"
            ],
            [
             0.8888888888888888,
             "#fdca26"
            ],
            [
             1,
             "#f0f921"
            ]
           ],
           "sequentialminus": [
            [
             0,
             "#0d0887"
            ],
            [
             0.1111111111111111,
             "#46039f"
            ],
            [
             0.2222222222222222,
             "#7201a8"
            ],
            [
             0.3333333333333333,
             "#9c179e"
            ],
            [
             0.4444444444444444,
             "#bd3786"
            ],
            [
             0.5555555555555556,
             "#d8576b"
            ],
            [
             0.6666666666666666,
             "#ed7953"
            ],
            [
             0.7777777777777778,
             "#fb9f3a"
            ],
            [
             0.8888888888888888,
             "#fdca26"
            ],
            [
             1,
             "#f0f921"
            ]
           ]
          },
          "colorway": [
           "#636efa",
           "#EF553B",
           "#00cc96",
           "#ab63fa",
           "#FFA15A",
           "#19d3f3",
           "#FF6692",
           "#B6E880",
           "#FF97FF",
           "#FECB52"
          ],
          "font": {
           "color": "#2a3f5f"
          },
          "geo": {
           "bgcolor": "white",
           "lakecolor": "white",
           "landcolor": "#E5ECF6",
           "showlakes": true,
           "showland": true,
           "subunitcolor": "white"
          },
          "hoverlabel": {
           "align": "left"
          },
          "hovermode": "closest",
          "mapbox": {
           "style": "light"
          },
          "paper_bgcolor": "white",
          "plot_bgcolor": "#E5ECF6",
          "polar": {
           "angularaxis": {
            "gridcolor": "white",
            "linecolor": "white",
            "ticks": ""
           },
           "bgcolor": "#E5ECF6",
           "radialaxis": {
            "gridcolor": "white",
            "linecolor": "white",
            "ticks": ""
           }
          },
          "scene": {
           "xaxis": {
            "backgroundcolor": "#E5ECF6",
            "gridcolor": "white",
            "gridwidth": 2,
            "linecolor": "white",
            "showbackground": true,
            "ticks": "",
            "zerolinecolor": "white"
           },
           "yaxis": {
            "backgroundcolor": "#E5ECF6",
            "gridcolor": "white",
            "gridwidth": 2,
            "linecolor": "white",
            "showbackground": true,
            "ticks": "",
            "zerolinecolor": "white"
           },
           "zaxis": {
            "backgroundcolor": "#E5ECF6",
            "gridcolor": "white",
            "gridwidth": 2,
            "linecolor": "white",
            "showbackground": true,
            "ticks": "",
            "zerolinecolor": "white"
           }
          },
          "shapedefaults": {
           "line": {
            "color": "#2a3f5f"
           }
          },
          "ternary": {
           "aaxis": {
            "gridcolor": "white",
            "linecolor": "white",
            "ticks": ""
           },
           "baxis": {
            "gridcolor": "white",
            "linecolor": "white",
            "ticks": ""
           },
           "bgcolor": "#E5ECF6",
           "caxis": {
            "gridcolor": "white",
            "linecolor": "white",
            "ticks": ""
           }
          },
          "title": {
           "x": 0.05
          },
          "xaxis": {
           "automargin": true,
           "gridcolor": "white",
           "linecolor": "white",
           "ticks": "",
           "title": {
            "standoff": 15
           },
           "zerolinecolor": "white",
           "zerolinewidth": 2
          },
          "yaxis": {
           "automargin": true,
           "gridcolor": "white",
           "linecolor": "white",
           "ticks": "",
           "title": {
            "standoff": 15
           },
           "zerolinecolor": "white",
           "zerolinewidth": 2
          }
         }
        },
        "title": {
         "text": "Sparse probe scores for \"conv pixel contains cheese1\" over resadd layers and K values"
        },
        "xaxis": {
         "anchor": "y",
         "domain": [
          0,
          1
         ],
         "title": {
          "text": "layer"
         }
        },
        "yaxis": {
         "anchor": "x",
         "domain": [
          0,
          1
         ],
         "title": {
          "text": "score"
         }
        }
       }
      },
      "text/html": [
       "<div>                            <div id=\"9285e628-41b7-4d4e-90e4-1b13c3f3194c\" class=\"plotly-graph-div\" style=\"height:525px; width:100%;\"></div>            <script type=\"text/javascript\">                require([\"plotly\"], function(Plotly) {                    window.PLOTLYENV=window.PLOTLYENV || {};                                    if (document.getElementById(\"9285e628-41b7-4d4e-90e4-1b13c3f3194c\")) {                    Plotly.newPlot(                        \"9285e628-41b7-4d4e-90e4-1b13c3f3194c\",                        [{\"hovertemplate\":\"K=1\\u003cbr\\u003elayer=%{x}\\u003cbr\\u003escore=%{y}\\u003cextra\\u003e\\u003c\\u002fextra\\u003e\",\"legendgroup\":\"1\",\"line\":{\"color\":\"#636efa\",\"dash\":\"solid\"},\"marker\":{\"symbol\":\"circle\"},\"mode\":\"lines\",\"name\":\"1\",\"orientation\":\"v\",\"showlegend\":true,\"x\":[\"embedder.block1.conv_in0\",\"embedder.block1.res1.relu1_out\",\"embedder.block1.res1.resadd_out\",\"embedder.block1.res1.relu2_out\",\"embedder.block1.res2.relu1_out\",\"embedder.block1.res2.resadd_out\",\"embedder.block1.res2.relu2_out\",\"embedder.block2.res1.relu1_out\",\"embedder.block2.res1.resadd_out\",\"embedder.block2.res1.relu2_out\",\"embedder.block2.res2.relu1_out\",\"embedder.block2.res2.resadd_out\",\"embedder.block2.res2.relu2_out\",\"embedder.block3.res1.relu1_out\",\"embedder.block3.res1.resadd_out\",\"embedder.block3.res1.relu2_out\",\"embedder.block3.res2.relu1_out\",\"embedder.block3.res2.resadd_out\",\"embedder.block3.res2.relu2_out\"],\"xaxis\":\"x\",\"y\":[0.975,1.0,1.0,0.8875,0.975,1.0,0.8875,0.975,1.0,0.8125,0.9625,0.95,0.9,0.825,0.85,0.85,0.8125,0.8375,0.8125],\"yaxis\":\"y\",\"type\":\"scatter\"},{\"hovertemplate\":\"K=2\\u003cbr\\u003elayer=%{x}\\u003cbr\\u003escore=%{y}\\u003cextra\\u003e\\u003c\\u002fextra\\u003e\",\"legendgroup\":\"2\",\"line\":{\"color\":\"#EF553B\",\"dash\":\"solid\"},\"marker\":{\"symbol\":\"circle\"},\"mode\":\"lines\",\"name\":\"2\",\"orientation\":\"v\",\"showlegend\":true,\"x\":[\"embedder.block1.conv_in0\",\"embedder.block1.res1.relu1_out\",\"embedder.block1.res1.resadd_out\",\"embedder.block1.res1.relu2_out\",\"embedder.block1.res2.relu1_out\",\"embedder.block1.res2.resadd_out\",\"embedder.block1.res2.relu2_out\",\"embedder.block2.res1.relu1_out\",\"embedder.block2.res1.resadd_out\",\"embedder.block2.res1.relu2_out\",\"embedder.block2.res2.relu1_out\",\"embedder.block2.res2.resadd_out\",\"embedder.block2.res2.relu2_out\",\"embedder.block3.res1.relu1_out\",\"embedder.block3.res1.resadd_out\",\"embedder.block3.res1.relu2_out\",\"embedder.block3.res2.relu1_out\",\"embedder.block3.res2.resadd_out\",\"embedder.block3.res2.relu2_out\"],\"xaxis\":\"x\",\"y\":[0.975,1.0,0.9875,0.9,0.9875,1.0,0.9375,0.975,0.9875,0.8875,0.9875,0.975,0.875,0.8375,0.8375,0.85,0.8125,0.8125,0.8125],\"yaxis\":\"y\",\"type\":\"scatter\"},{\"hovertemplate\":\"K=3\\u003cbr\\u003elayer=%{x}\\u003cbr\\u003escore=%{y}\\u003cextra\\u003e\\u003c\\u002fextra\\u003e\",\"legendgroup\":\"3\",\"line\":{\"color\":\"#00cc96\",\"dash\":\"solid\"},\"marker\":{\"symbol\":\"circle\"},\"mode\":\"lines\",\"name\":\"3\",\"orientation\":\"v\",\"showlegend\":true,\"x\":[\"embedder.block1.conv_in0\",\"embedder.block1.res1.relu1_out\",\"embedder.block1.res1.resadd_out\",\"embedder.block1.res1.relu2_out\",\"embedder.block1.res2.relu1_out\",\"embedder.block1.res2.resadd_out\",\"embedder.block1.res2.relu2_out\",\"embedder.block2.res1.relu1_out\",\"embedder.block2.res1.resadd_out\",\"embedder.block2.res1.relu2_out\",\"embedder.block2.res2.relu1_out\",\"embedder.block2.res2.resadd_out\",\"embedder.block2.res2.relu2_out\",\"embedder.block3.res1.relu1_out\",\"embedder.block3.res1.resadd_out\",\"embedder.block3.res1.relu2_out\",\"embedder.block3.res2.relu1_out\",\"embedder.block3.res2.resadd_out\",\"embedder.block3.res2.relu2_out\"],\"xaxis\":\"x\",\"y\":[0.975,1.0,0.9875,0.9125,0.975,1.0,0.95,0.975,0.9875,0.9,0.9875,0.975,0.875,0.8625,0.8375,0.85,0.8375,0.8125,0.8],\"yaxis\":\"y\",\"type\":\"scatter\"},{\"hovertemplate\":\"K=4\\u003cbr\\u003elayer=%{x}\\u003cbr\\u003escore=%{y}\\u003cextra\\u003e\\u003c\\u002fextra\\u003e\",\"legendgroup\":\"4\",\"line\":{\"color\":\"#ab63fa\",\"dash\":\"solid\"},\"marker\":{\"symbol\":\"circle\"},\"mode\":\"lines\",\"name\":\"4\",\"orientation\":\"v\",\"showlegend\":true,\"x\":[\"embedder.block1.conv_in0\",\"embedder.block1.res1.relu1_out\",\"embedder.block1.res1.resadd_out\",\"embedder.block1.res1.relu2_out\",\"embedder.block1.res2.relu1_out\",\"embedder.block1.res2.resadd_out\",\"embedder.block1.res2.relu2_out\",\"embedder.block2.res1.relu1_out\",\"embedder.block2.res1.resadd_out\",\"embedder.block2.res1.relu2_out\",\"embedder.block2.res2.relu1_out\",\"embedder.block2.res2.resadd_out\",\"embedder.block2.res2.relu2_out\",\"embedder.block3.res1.relu1_out\",\"embedder.block3.res1.resadd_out\",\"embedder.block3.res1.relu2_out\",\"embedder.block3.res2.relu1_out\",\"embedder.block3.res2.resadd_out\",\"embedder.block3.res2.relu2_out\"],\"xaxis\":\"x\",\"y\":[0.975,1.0,1.0,0.9375,0.975,1.0,0.9625,0.975,0.975,0.9375,0.9625,0.975,0.875,0.8625,0.8375,0.85,0.8,0.8125,0.8],\"yaxis\":\"y\",\"type\":\"scatter\"},{\"hovertemplate\":\"K=5\\u003cbr\\u003elayer=%{x}\\u003cbr\\u003escore=%{y}\\u003cextra\\u003e\\u003c\\u002fextra\\u003e\",\"legendgroup\":\"5\",\"line\":{\"color\":\"#FFA15A\",\"dash\":\"solid\"},\"marker\":{\"symbol\":\"circle\"},\"mode\":\"lines\",\"name\":\"5\",\"orientation\":\"v\",\"showlegend\":true,\"x\":[\"embedder.block1.conv_in0\",\"embedder.block1.res1.relu1_out\",\"embedder.block1.res1.resadd_out\",\"embedder.block1.res1.relu2_out\",\"embedder.block1.res2.relu1_out\",\"embedder.block1.res2.resadd_out\",\"embedder.block1.res2.relu2_out\",\"embedder.block2.res1.relu1_out\",\"embedder.block2.res1.resadd_out\",\"embedder.block2.res1.relu2_out\",\"embedder.block2.res2.relu1_out\",\"embedder.block2.res2.resadd_out\",\"embedder.block2.res2.relu2_out\",\"embedder.block3.res1.relu1_out\",\"embedder.block3.res1.resadd_out\",\"embedder.block3.res1.relu2_out\",\"embedder.block3.res2.relu1_out\",\"embedder.block3.res2.resadd_out\",\"embedder.block3.res2.relu2_out\"],\"xaxis\":\"x\",\"y\":[0.975,1.0,1.0,0.975,0.975,1.0,0.9625,0.975,0.975,0.9375,0.9625,0.975,0.8875,0.875,0.8375,0.85,0.8125,0.825,0.8],\"yaxis\":\"y\",\"type\":\"scatter\"},{\"hovertemplate\":\"K=6\\u003cbr\\u003elayer=%{x}\\u003cbr\\u003escore=%{y}\\u003cextra\\u003e\\u003c\\u002fextra\\u003e\",\"legendgroup\":\"6\",\"line\":{\"color\":\"#19d3f3\",\"dash\":\"solid\"},\"marker\":{\"symbol\":\"circle\"},\"mode\":\"lines\",\"name\":\"6\",\"orientation\":\"v\",\"showlegend\":true,\"x\":[\"embedder.block1.conv_in0\",\"embedder.block1.res1.relu1_out\",\"embedder.block1.res1.resadd_out\",\"embedder.block1.res1.relu2_out\",\"embedder.block1.res2.relu1_out\",\"embedder.block1.res2.resadd_out\",\"embedder.block1.res2.relu2_out\",\"embedder.block2.res1.relu1_out\",\"embedder.block2.res1.resadd_out\",\"embedder.block2.res1.relu2_out\",\"embedder.block2.res2.relu1_out\",\"embedder.block2.res2.resadd_out\",\"embedder.block2.res2.relu2_out\",\"embedder.block3.res1.relu1_out\",\"embedder.block3.res1.resadd_out\",\"embedder.block3.res1.relu2_out\",\"embedder.block3.res2.relu1_out\",\"embedder.block3.res2.resadd_out\",\"embedder.block3.res2.relu2_out\"],\"xaxis\":\"x\",\"y\":[0.975,1.0,1.0,0.975,1.0,1.0,0.95,0.975,0.975,0.95,0.9625,0.975,0.8875,0.9,0.85,0.8625,0.825,0.8125,0.8125],\"yaxis\":\"y\",\"type\":\"scatter\"},{\"hovertemplate\":\"K=7\\u003cbr\\u003elayer=%{x}\\u003cbr\\u003escore=%{y}\\u003cextra\\u003e\\u003c\\u002fextra\\u003e\",\"legendgroup\":\"7\",\"line\":{\"color\":\"#FF6692\",\"dash\":\"solid\"},\"marker\":{\"symbol\":\"circle\"},\"mode\":\"lines\",\"name\":\"7\",\"orientation\":\"v\",\"showlegend\":true,\"x\":[\"embedder.block1.conv_in0\",\"embedder.block1.res1.relu1_out\",\"embedder.block1.res1.resadd_out\",\"embedder.block1.res1.relu2_out\",\"embedder.block1.res2.relu1_out\",\"embedder.block1.res2.resadd_out\",\"embedder.block1.res2.relu2_out\",\"embedder.block2.res1.relu1_out\",\"embedder.block2.res1.resadd_out\",\"embedder.block2.res1.relu2_out\",\"embedder.block2.res2.relu1_out\",\"embedder.block2.res2.resadd_out\",\"embedder.block2.res2.relu2_out\",\"embedder.block3.res1.relu1_out\",\"embedder.block3.res1.resadd_out\",\"embedder.block3.res1.relu2_out\",\"embedder.block3.res2.relu1_out\",\"embedder.block3.res2.resadd_out\",\"embedder.block3.res2.relu2_out\"],\"xaxis\":\"x\",\"y\":[0.975,1.0,1.0,0.975,1.0,1.0,0.95,0.9875,0.975,0.95,0.9625,0.975,0.925,0.8875,0.8875,0.85,0.8125,0.825,0.825],\"yaxis\":\"y\",\"type\":\"scatter\"},{\"hovertemplate\":\"K=8\\u003cbr\\u003elayer=%{x}\\u003cbr\\u003escore=%{y}\\u003cextra\\u003e\\u003c\\u002fextra\\u003e\",\"legendgroup\":\"8\",\"line\":{\"color\":\"#B6E880\",\"dash\":\"solid\"},\"marker\":{\"symbol\":\"circle\"},\"mode\":\"lines\",\"name\":\"8\",\"orientation\":\"v\",\"showlegend\":true,\"x\":[\"embedder.block1.conv_in0\",\"embedder.block1.res1.relu1_out\",\"embedder.block1.res1.resadd_out\",\"embedder.block1.res1.relu2_out\",\"embedder.block1.res2.relu1_out\",\"embedder.block1.res2.resadd_out\",\"embedder.block1.res2.relu2_out\",\"embedder.block2.res1.relu1_out\",\"embedder.block2.res1.resadd_out\",\"embedder.block2.res1.relu2_out\",\"embedder.block2.res2.relu1_out\",\"embedder.block2.res2.resadd_out\",\"embedder.block2.res2.relu2_out\",\"embedder.block3.res1.relu1_out\",\"embedder.block3.res1.resadd_out\",\"embedder.block3.res1.relu2_out\",\"embedder.block3.res2.relu1_out\",\"embedder.block3.res2.resadd_out\",\"embedder.block3.res2.relu2_out\"],\"xaxis\":\"x\",\"y\":[0.975,1.0,1.0,0.975,0.9875,1.0,0.95,0.9875,0.975,0.95,0.9625,0.975,0.925,0.9125,0.9,0.8375,0.8625,0.8,0.8375],\"yaxis\":\"y\",\"type\":\"scatter\"},{\"hovertemplate\":\"K=9\\u003cbr\\u003elayer=%{x}\\u003cbr\\u003escore=%{y}\\u003cextra\\u003e\\u003c\\u002fextra\\u003e\",\"legendgroup\":\"9\",\"line\":{\"color\":\"#FF97FF\",\"dash\":\"solid\"},\"marker\":{\"symbol\":\"circle\"},\"mode\":\"lines\",\"name\":\"9\",\"orientation\":\"v\",\"showlegend\":true,\"x\":[\"embedder.block1.conv_in0\",\"embedder.block1.res1.relu1_out\",\"embedder.block1.res1.resadd_out\",\"embedder.block1.res1.relu2_out\",\"embedder.block1.res2.relu1_out\",\"embedder.block1.res2.resadd_out\",\"embedder.block1.res2.relu2_out\",\"embedder.block2.res1.relu1_out\",\"embedder.block2.res1.resadd_out\",\"embedder.block2.res1.relu2_out\",\"embedder.block2.res2.relu1_out\",\"embedder.block2.res2.resadd_out\",\"embedder.block2.res2.relu2_out\",\"embedder.block3.res1.relu1_out\",\"embedder.block3.res1.resadd_out\",\"embedder.block3.res1.relu2_out\",\"embedder.block3.res2.relu1_out\",\"embedder.block3.res2.resadd_out\",\"embedder.block3.res2.relu2_out\"],\"xaxis\":\"x\",\"y\":[0.975,1.0,1.0,0.975,0.9875,1.0,0.95,0.9875,0.975,0.95,0.9625,0.975,0.925,0.9,0.8875,0.8375,0.8625,0.875,0.8375],\"yaxis\":\"y\",\"type\":\"scatter\"},{\"hovertemplate\":\"K=10\\u003cbr\\u003elayer=%{x}\\u003cbr\\u003escore=%{y}\\u003cextra\\u003e\\u003c\\u002fextra\\u003e\",\"legendgroup\":\"10\",\"line\":{\"color\":\"#FECB52\",\"dash\":\"solid\"},\"marker\":{\"symbol\":\"circle\"},\"mode\":\"lines\",\"name\":\"10\",\"orientation\":\"v\",\"showlegend\":true,\"x\":[\"embedder.block1.conv_in0\",\"embedder.block1.res1.relu1_out\",\"embedder.block1.res1.resadd_out\",\"embedder.block1.res1.relu2_out\",\"embedder.block1.res2.relu1_out\",\"embedder.block1.res2.resadd_out\",\"embedder.block1.res2.relu2_out\",\"embedder.block2.res1.relu1_out\",\"embedder.block2.res1.resadd_out\",\"embedder.block2.res1.relu2_out\",\"embedder.block2.res2.relu1_out\",\"embedder.block2.res2.resadd_out\",\"embedder.block2.res2.relu2_out\",\"embedder.block3.res1.relu1_out\",\"embedder.block3.res1.resadd_out\",\"embedder.block3.res1.relu2_out\",\"embedder.block3.res2.relu1_out\",\"embedder.block3.res2.resadd_out\",\"embedder.block3.res2.relu2_out\"],\"xaxis\":\"x\",\"y\":[0.975,1.0,1.0,0.975,0.9875,1.0,0.95,0.9875,0.975,0.95,0.9625,0.975,0.9375,0.9,0.875,0.8375,0.8625,0.8875,0.8375],\"yaxis\":\"y\",\"type\":\"scatter\"}],                        {\"template\":{\"data\":{\"histogram2dcontour\":[{\"type\":\"histogram2dcontour\",\"colorbar\":{\"outlinewidth\":0,\"ticks\":\"\"},\"colorscale\":[[0.0,\"#0d0887\"],[0.1111111111111111,\"#46039f\"],[0.2222222222222222,\"#7201a8\"],[0.3333333333333333,\"#9c179e\"],[0.4444444444444444,\"#bd3786\"],[0.5555555555555556,\"#d8576b\"],[0.6666666666666666,\"#ed7953\"],[0.7777777777777778,\"#fb9f3a\"],[0.8888888888888888,\"#fdca26\"],[1.0,\"#f0f921\"]]}],\"choropleth\":[{\"type\":\"choropleth\",\"colorbar\":{\"outlinewidth\":0,\"ticks\":\"\"}}],\"histogram2d\":[{\"type\":\"histogram2d\",\"colorbar\":{\"outlinewidth\":0,\"ticks\":\"\"},\"colorscale\":[[0.0,\"#0d0887\"],[0.1111111111111111,\"#46039f\"],[0.2222222222222222,\"#7201a8\"],[0.3333333333333333,\"#9c179e\"],[0.4444444444444444,\"#bd3786\"],[0.5555555555555556,\"#d8576b\"],[0.6666666666666666,\"#ed7953\"],[0.7777777777777778,\"#fb9f3a\"],[0.8888888888888888,\"#fdca26\"],[1.0,\"#f0f921\"]]}],\"heatmap\":[{\"type\":\"heatmap\",\"colorbar\":{\"outlinewidth\":0,\"ticks\":\"\"},\"colorscale\":[[0.0,\"#0d0887\"],[0.1111111111111111,\"#46039f\"],[0.2222222222222222,\"#7201a8\"],[0.3333333333333333,\"#9c179e\"],[0.4444444444444444,\"#bd3786\"],[0.5555555555555556,\"#d8576b\"],[0.6666666666666666,\"#ed7953\"],[0.7777777777777778,\"#fb9f3a\"],[0.8888888888888888,\"#fdca26\"],[1.0,\"#f0f921\"]]}],\"heatmapgl\":[{\"type\":\"heatmapgl\",\"colorbar\":{\"outlinewidth\":0,\"ticks\":\"\"},\"colorscale\":[[0.0,\"#0d0887\"],[0.1111111111111111,\"#46039f\"],[0.2222222222222222,\"#7201a8\"],[0.3333333333333333,\"#9c179e\"],[0.4444444444444444,\"#bd3786\"],[0.5555555555555556,\"#d8576b\"],[0.6666666666666666,\"#ed7953\"],[0.7777777777777778,\"#fb9f3a\"],[0.8888888888888888,\"#fdca26\"],[1.0,\"#f0f921\"]]}],\"contourcarpet\":[{\"type\":\"contourcarpet\",\"colorbar\":{\"outlinewidth\":0,\"ticks\":\"\"}}],\"contour\":[{\"type\":\"contour\",\"colorbar\":{\"outlinewidth\":0,\"ticks\":\"\"},\"colorscale\":[[0.0,\"#0d0887\"],[0.1111111111111111,\"#46039f\"],[0.2222222222222222,\"#7201a8\"],[0.3333333333333333,\"#9c179e\"],[0.4444444444444444,\"#bd3786\"],[0.5555555555555556,\"#d8576b\"],[0.6666666666666666,\"#ed7953\"],[0.7777777777777778,\"#fb9f3a\"],[0.8888888888888888,\"#fdca26\"],[1.0,\"#f0f921\"]]}],\"surface\":[{\"type\":\"surface\",\"colorbar\":{\"outlinewidth\":0,\"ticks\":\"\"},\"colorscale\":[[0.0,\"#0d0887\"],[0.1111111111111111,\"#46039f\"],[0.2222222222222222,\"#7201a8\"],[0.3333333333333333,\"#9c179e\"],[0.4444444444444444,\"#bd3786\"],[0.5555555555555556,\"#d8576b\"],[0.6666666666666666,\"#ed7953\"],[0.7777777777777778,\"#fb9f3a\"],[0.8888888888888888,\"#fdca26\"],[1.0,\"#f0f921\"]]}],\"mesh3d\":[{\"type\":\"mesh3d\",\"colorbar\":{\"outlinewidth\":0,\"ticks\":\"\"}}],\"scatter\":[{\"fillpattern\":{\"fillmode\":\"overlay\",\"size\":10,\"solidity\":0.2},\"type\":\"scatter\"}],\"parcoords\":[{\"type\":\"parcoords\",\"line\":{\"colorbar\":{\"outlinewidth\":0,\"ticks\":\"\"}}}],\"scatterpolargl\":[{\"type\":\"scatterpolargl\",\"marker\":{\"colorbar\":{\"outlinewidth\":0,\"ticks\":\"\"}}}],\"bar\":[{\"error_x\":{\"color\":\"#2a3f5f\"},\"error_y\":{\"color\":\"#2a3f5f\"},\"marker\":{\"line\":{\"color\":\"#E5ECF6\",\"width\":0.5},\"pattern\":{\"fillmode\":\"overlay\",\"size\":10,\"solidity\":0.2}},\"type\":\"bar\"}],\"scattergeo\":[{\"type\":\"scattergeo\",\"marker\":{\"colorbar\":{\"outlinewidth\":0,\"ticks\":\"\"}}}],\"scatterpolar\":[{\"type\":\"scatterpolar\",\"marker\":{\"colorbar\":{\"outlinewidth\":0,\"ticks\":\"\"}}}],\"histogram\":[{\"marker\":{\"pattern\":{\"fillmode\":\"overlay\",\"size\":10,\"solidity\":0.2}},\"type\":\"histogram\"}],\"scattergl\":[{\"type\":\"scattergl\",\"marker\":{\"colorbar\":{\"outlinewidth\":0,\"ticks\":\"\"}}}],\"scatter3d\":[{\"type\":\"scatter3d\",\"line\":{\"colorbar\":{\"outlinewidth\":0,\"ticks\":\"\"}},\"marker\":{\"colorbar\":{\"outlinewidth\":0,\"ticks\":\"\"}}}],\"scattermapbox\":[{\"type\":\"scattermapbox\",\"marker\":{\"colorbar\":{\"outlinewidth\":0,\"ticks\":\"\"}}}],\"scatterternary\":[{\"type\":\"scatterternary\",\"marker\":{\"colorbar\":{\"outlinewidth\":0,\"ticks\":\"\"}}}],\"scattercarpet\":[{\"type\":\"scattercarpet\",\"marker\":{\"colorbar\":{\"outlinewidth\":0,\"ticks\":\"\"}}}],\"carpet\":[{\"aaxis\":{\"endlinecolor\":\"#2a3f5f\",\"gridcolor\":\"white\",\"linecolor\":\"white\",\"minorgridcolor\":\"white\",\"startlinecolor\":\"#2a3f5f\"},\"baxis\":{\"endlinecolor\":\"#2a3f5f\",\"gridcolor\":\"white\",\"linecolor\":\"white\",\"minorgridcolor\":\"white\",\"startlinecolor\":\"#2a3f5f\"},\"type\":\"carpet\"}],\"table\":[{\"cells\":{\"fill\":{\"color\":\"#EBF0F8\"},\"line\":{\"color\":\"white\"}},\"header\":{\"fill\":{\"color\":\"#C8D4E3\"},\"line\":{\"color\":\"white\"}},\"type\":\"table\"}],\"barpolar\":[{\"marker\":{\"line\":{\"color\":\"#E5ECF6\",\"width\":0.5},\"pattern\":{\"fillmode\":\"overlay\",\"size\":10,\"solidity\":0.2}},\"type\":\"barpolar\"}],\"pie\":[{\"automargin\":true,\"type\":\"pie\"}]},\"layout\":{\"autotypenumbers\":\"strict\",\"colorway\":[\"#636efa\",\"#EF553B\",\"#00cc96\",\"#ab63fa\",\"#FFA15A\",\"#19d3f3\",\"#FF6692\",\"#B6E880\",\"#FF97FF\",\"#FECB52\"],\"font\":{\"color\":\"#2a3f5f\"},\"hovermode\":\"closest\",\"hoverlabel\":{\"align\":\"left\"},\"paper_bgcolor\":\"white\",\"plot_bgcolor\":\"#E5ECF6\",\"polar\":{\"bgcolor\":\"#E5ECF6\",\"angularaxis\":{\"gridcolor\":\"white\",\"linecolor\":\"white\",\"ticks\":\"\"},\"radialaxis\":{\"gridcolor\":\"white\",\"linecolor\":\"white\",\"ticks\":\"\"}},\"ternary\":{\"bgcolor\":\"#E5ECF6\",\"aaxis\":{\"gridcolor\":\"white\",\"linecolor\":\"white\",\"ticks\":\"\"},\"baxis\":{\"gridcolor\":\"white\",\"linecolor\":\"white\",\"ticks\":\"\"},\"caxis\":{\"gridcolor\":\"white\",\"linecolor\":\"white\",\"ticks\":\"\"}},\"coloraxis\":{\"colorbar\":{\"outlinewidth\":0,\"ticks\":\"\"}},\"colorscale\":{\"sequential\":[[0.0,\"#0d0887\"],[0.1111111111111111,\"#46039f\"],[0.2222222222222222,\"#7201a8\"],[0.3333333333333333,\"#9c179e\"],[0.4444444444444444,\"#bd3786\"],[0.5555555555555556,\"#d8576b\"],[0.6666666666666666,\"#ed7953\"],[0.7777777777777778,\"#fb9f3a\"],[0.8888888888888888,\"#fdca26\"],[1.0,\"#f0f921\"]],\"sequentialminus\":[[0.0,\"#0d0887\"],[0.1111111111111111,\"#46039f\"],[0.2222222222222222,\"#7201a8\"],[0.3333333333333333,\"#9c179e\"],[0.4444444444444444,\"#bd3786\"],[0.5555555555555556,\"#d8576b\"],[0.6666666666666666,\"#ed7953\"],[0.7777777777777778,\"#fb9f3a\"],[0.8888888888888888,\"#fdca26\"],[1.0,\"#f0f921\"]],\"diverging\":[[0,\"#8e0152\"],[0.1,\"#c51b7d\"],[0.2,\"#de77ae\"],[0.3,\"#f1b6da\"],[0.4,\"#fde0ef\"],[0.5,\"#f7f7f7\"],[0.6,\"#e6f5d0\"],[0.7,\"#b8e186\"],[0.8,\"#7fbc41\"],[0.9,\"#4d9221\"],[1,\"#276419\"]]},\"xaxis\":{\"gridcolor\":\"white\",\"linecolor\":\"white\",\"ticks\":\"\",\"title\":{\"standoff\":15},\"zerolinecolor\":\"white\",\"automargin\":true,\"zerolinewidth\":2},\"yaxis\":{\"gridcolor\":\"white\",\"linecolor\":\"white\",\"ticks\":\"\",\"title\":{\"standoff\":15},\"zerolinecolor\":\"white\",\"automargin\":true,\"zerolinewidth\":2},\"scene\":{\"xaxis\":{\"backgroundcolor\":\"#E5ECF6\",\"gridcolor\":\"white\",\"linecolor\":\"white\",\"showbackground\":true,\"ticks\":\"\",\"zerolinecolor\":\"white\",\"gridwidth\":2},\"yaxis\":{\"backgroundcolor\":\"#E5ECF6\",\"gridcolor\":\"white\",\"linecolor\":\"white\",\"showbackground\":true,\"ticks\":\"\",\"zerolinecolor\":\"white\",\"gridwidth\":2},\"zaxis\":{\"backgroundcolor\":\"#E5ECF6\",\"gridcolor\":\"white\",\"linecolor\":\"white\",\"showbackground\":true,\"ticks\":\"\",\"zerolinecolor\":\"white\",\"gridwidth\":2}},\"shapedefaults\":{\"line\":{\"color\":\"#2a3f5f\"}},\"annotationdefaults\":{\"arrowcolor\":\"#2a3f5f\",\"arrowhead\":0,\"arrowwidth\":1},\"geo\":{\"bgcolor\":\"white\",\"landcolor\":\"#E5ECF6\",\"subunitcolor\":\"white\",\"showland\":true,\"showlakes\":true,\"lakecolor\":\"white\"},\"title\":{\"x\":0.05},\"mapbox\":{\"style\":\"light\"}}},\"xaxis\":{\"anchor\":\"y\",\"domain\":[0.0,1.0],\"title\":{\"text\":\"layer\"}},\"yaxis\":{\"anchor\":\"x\",\"domain\":[0.0,1.0],\"title\":{\"text\":\"score\"}},\"legend\":{\"title\":{\"text\":\"K\"},\"tracegroupgap\":0},\"title\":{\"text\":\"Sparse probe scores for \\\"conv pixel contains cheese1\\\" over resadd layers and K values\"},\"shapes\":[{\"line\":{\"dash\":\"dot\"},\"type\":\"line\",\"x0\":0,\"x1\":1,\"xref\":\"x domain\",\"y0\":1.0,\"y1\":1.0,\"yref\":\"y\"},{\"line\":{\"dash\":\"dot\"},\"type\":\"line\",\"x0\":0,\"x1\":1,\"xref\":\"x domain\",\"y0\":0.5,\"y1\":0.5,\"yref\":\"y\"}],\"annotations\":[{\"showarrow\":false,\"text\":\"perfect\",\"x\":1,\"xanchor\":\"right\",\"xref\":\"x domain\",\"y\":1.0,\"yanchor\":\"top\",\"yref\":\"y\"},{\"showarrow\":false,\"text\":\"baseline\",\"x\":1,\"xanchor\":\"right\",\"xref\":\"x domain\",\"y\":0.5,\"yanchor\":\"top\",\"yref\":\"y\"}]},                        {\"responsive\": true}                    ).then(function(){\n",
       "                            \n",
       "var gd = document.getElementById('9285e628-41b7-4d4e-90e4-1b13c3f3194c');\n",
       "var x = new MutationObserver(function (mutations, observer) {{\n",
       "        var display = window.getComputedStyle(gd).display;\n",
       "        if (!display || display === 'none') {{\n",
       "            console.log([gd, 'removed!']);\n",
       "            Plotly.purge(gd);\n",
       "            observer.disconnect();\n",
       "        }}\n",
       "}});\n",
       "\n",
       "// Listen for the removal of the full notebook cells\n",
       "var notebookContainer = gd.closest('#notebook-container');\n",
       "if (notebookContainer) {{\n",
       "    x.observe(notebookContainer, {childList: true});\n",
       "}}\n",
       "\n",
       "// Listen for the clearing of the current output cell\n",
       "var outputEl = gd.closest('.output');\n",
       "if (outputEl) {{\n",
       "    x.observe(outputEl, {childList: true});\n",
       "}}\n",
       "\n",
       "                        })                };                });            </script>        </div>"
      ]
     },
     "metadata": {},
     "output_type": "display_data"
    },
    {
     "name": "stderr",
     "output_type": "stream",
     "text": [
      "100%|██████████| 19/19 [00:02<00:00,  7.59it/s]\n"
     ]
    },
    {
     "data": {
      "application/vnd.plotly.v1+json": {
       "config": {
        "plotlyServerURL": "https://plot.ly"
       },
       "data": [
        {
         "hovertemplate": "K=1<br>layer=%{x}<br>score=%{y}<extra></extra>",
         "legendgroup": "1",
         "line": {
          "color": "#636efa",
          "dash": "solid"
         },
         "marker": {
          "symbol": "circle"
         },
         "mode": "lines",
         "name": "1",
         "orientation": "v",
         "showlegend": true,
         "type": "scatter",
         "x": [
          "embedder.block1.conv_in0",
          "embedder.block1.res1.relu1_out",
          "embedder.block1.res1.resadd_out",
          "embedder.block1.res1.relu2_out",
          "embedder.block1.res2.relu1_out",
          "embedder.block1.res2.resadd_out",
          "embedder.block1.res2.relu2_out",
          "embedder.block2.res1.relu1_out",
          "embedder.block2.res1.resadd_out",
          "embedder.block2.res1.relu2_out",
          "embedder.block2.res2.relu1_out",
          "embedder.block2.res2.resadd_out",
          "embedder.block2.res2.relu2_out",
          "embedder.block3.res1.relu1_out",
          "embedder.block3.res1.resadd_out",
          "embedder.block3.res1.relu2_out",
          "embedder.block3.res2.relu1_out",
          "embedder.block3.res2.resadd_out",
          "embedder.block3.res2.relu2_out"
         ],
         "xaxis": "x",
         "y": [
          0.7125,
          0.9125,
          1,
          0.825,
          0.9875,
          1,
          0.8875,
          0.9875,
          0.9875,
          0.8875,
          0.9875,
          0.9625,
          0.875,
          0.9625,
          0.9875,
          0.95,
          0.925,
          0.8625,
          0.9
         ],
         "yaxis": "y"
        },
        {
         "hovertemplate": "K=2<br>layer=%{x}<br>score=%{y}<extra></extra>",
         "legendgroup": "2",
         "line": {
          "color": "#EF553B",
          "dash": "solid"
         },
         "marker": {
          "symbol": "circle"
         },
         "mode": "lines",
         "name": "2",
         "orientation": "v",
         "showlegend": true,
         "type": "scatter",
         "x": [
          "embedder.block1.conv_in0",
          "embedder.block1.res1.relu1_out",
          "embedder.block1.res1.resadd_out",
          "embedder.block1.res1.relu2_out",
          "embedder.block1.res2.relu1_out",
          "embedder.block1.res2.resadd_out",
          "embedder.block1.res2.relu2_out",
          "embedder.block2.res1.relu1_out",
          "embedder.block2.res1.resadd_out",
          "embedder.block2.res1.relu2_out",
          "embedder.block2.res2.relu1_out",
          "embedder.block2.res2.resadd_out",
          "embedder.block2.res2.relu2_out",
          "embedder.block3.res1.relu1_out",
          "embedder.block3.res1.resadd_out",
          "embedder.block3.res1.relu2_out",
          "embedder.block3.res2.relu1_out",
          "embedder.block3.res2.resadd_out",
          "embedder.block3.res2.relu2_out"
         ],
         "xaxis": "x",
         "y": [
          0.85,
          0.95,
          1,
          0.775,
          0.9875,
          0.9875,
          0.85,
          0.9875,
          1,
          0.8625,
          0.9875,
          0.975,
          0.95,
          0.9625,
          1,
          0.9625,
          0.9375,
          0.85,
          0.85
         ],
         "yaxis": "y"
        },
        {
         "hovertemplate": "K=3<br>layer=%{x}<br>score=%{y}<extra></extra>",
         "legendgroup": "3",
         "line": {
          "color": "#00cc96",
          "dash": "solid"
         },
         "marker": {
          "symbol": "circle"
         },
         "mode": "lines",
         "name": "3",
         "orientation": "v",
         "showlegend": true,
         "type": "scatter",
         "x": [
          "embedder.block1.conv_in0",
          "embedder.block1.res1.relu1_out",
          "embedder.block1.res1.resadd_out",
          "embedder.block1.res1.relu2_out",
          "embedder.block1.res2.relu1_out",
          "embedder.block1.res2.resadd_out",
          "embedder.block1.res2.relu2_out",
          "embedder.block2.res1.relu1_out",
          "embedder.block2.res1.resadd_out",
          "embedder.block2.res1.relu2_out",
          "embedder.block2.res2.relu1_out",
          "embedder.block2.res2.resadd_out",
          "embedder.block2.res2.relu2_out",
          "embedder.block3.res1.relu1_out",
          "embedder.block3.res1.resadd_out",
          "embedder.block3.res1.relu2_out",
          "embedder.block3.res2.relu1_out",
          "embedder.block3.res2.resadd_out",
          "embedder.block3.res2.relu2_out"
         ],
         "xaxis": "x",
         "y": [
          0.8875,
          0.975,
          1,
          0.825,
          0.9875,
          0.9875,
          0.9625,
          1,
          1,
          0.95,
          1,
          0.9875,
          0.9375,
          0.975,
          0.9875,
          0.95,
          0.975,
          0.925,
          0.8625
         ],
         "yaxis": "y"
        },
        {
         "hovertemplate": "K=4<br>layer=%{x}<br>score=%{y}<extra></extra>",
         "legendgroup": "4",
         "line": {
          "color": "#ab63fa",
          "dash": "solid"
         },
         "marker": {
          "symbol": "circle"
         },
         "mode": "lines",
         "name": "4",
         "orientation": "v",
         "showlegend": true,
         "type": "scatter",
         "x": [
          "embedder.block1.conv_in0",
          "embedder.block1.res1.relu1_out",
          "embedder.block1.res1.resadd_out",
          "embedder.block1.res1.relu2_out",
          "embedder.block1.res2.relu1_out",
          "embedder.block1.res2.resadd_out",
          "embedder.block1.res2.relu2_out",
          "embedder.block2.res1.relu1_out",
          "embedder.block2.res1.resadd_out",
          "embedder.block2.res1.relu2_out",
          "embedder.block2.res2.relu1_out",
          "embedder.block2.res2.resadd_out",
          "embedder.block2.res2.relu2_out",
          "embedder.block3.res1.relu1_out",
          "embedder.block3.res1.resadd_out",
          "embedder.block3.res1.relu2_out",
          "embedder.block3.res2.relu1_out",
          "embedder.block3.res2.resadd_out",
          "embedder.block3.res2.relu2_out"
         ],
         "xaxis": "x",
         "y": [
          0.8875,
          1,
          1,
          0.8375,
          1,
          1,
          0.9625,
          1,
          1,
          0.9625,
          1,
          0.9875,
          0.95,
          0.975,
          0.9875,
          0.9625,
          0.9625,
          0.95,
          0.875
         ],
         "yaxis": "y"
        },
        {
         "hovertemplate": "K=5<br>layer=%{x}<br>score=%{y}<extra></extra>",
         "legendgroup": "5",
         "line": {
          "color": "#FFA15A",
          "dash": "solid"
         },
         "marker": {
          "symbol": "circle"
         },
         "mode": "lines",
         "name": "5",
         "orientation": "v",
         "showlegend": true,
         "type": "scatter",
         "x": [
          "embedder.block1.conv_in0",
          "embedder.block1.res1.relu1_out",
          "embedder.block1.res1.resadd_out",
          "embedder.block1.res1.relu2_out",
          "embedder.block1.res2.relu1_out",
          "embedder.block1.res2.resadd_out",
          "embedder.block1.res2.relu2_out",
          "embedder.block2.res1.relu1_out",
          "embedder.block2.res1.resadd_out",
          "embedder.block2.res1.relu2_out",
          "embedder.block2.res2.relu1_out",
          "embedder.block2.res2.resadd_out",
          "embedder.block2.res2.relu2_out",
          "embedder.block3.res1.relu1_out",
          "embedder.block3.res1.resadd_out",
          "embedder.block3.res1.relu2_out",
          "embedder.block3.res2.relu1_out",
          "embedder.block3.res2.resadd_out",
          "embedder.block3.res2.relu2_out"
         ],
         "xaxis": "x",
         "y": [
          0.8875,
          1,
          0.9875,
          0.8625,
          1,
          1,
          0.9625,
          1,
          1,
          0.9625,
          1,
          0.9875,
          0.9625,
          0.975,
          0.9875,
          0.9375,
          0.975,
          0.9625,
          0.8625
         ],
         "yaxis": "y"
        },
        {
         "hovertemplate": "K=6<br>layer=%{x}<br>score=%{y}<extra></extra>",
         "legendgroup": "6",
         "line": {
          "color": "#19d3f3",
          "dash": "solid"
         },
         "marker": {
          "symbol": "circle"
         },
         "mode": "lines",
         "name": "6",
         "orientation": "v",
         "showlegend": true,
         "type": "scatter",
         "x": [
          "embedder.block1.conv_in0",
          "embedder.block1.res1.relu1_out",
          "embedder.block1.res1.resadd_out",
          "embedder.block1.res1.relu2_out",
          "embedder.block1.res2.relu1_out",
          "embedder.block1.res2.resadd_out",
          "embedder.block1.res2.relu2_out",
          "embedder.block2.res1.relu1_out",
          "embedder.block2.res1.resadd_out",
          "embedder.block2.res1.relu2_out",
          "embedder.block2.res2.relu1_out",
          "embedder.block2.res2.resadd_out",
          "embedder.block2.res2.relu2_out",
          "embedder.block3.res1.relu1_out",
          "embedder.block3.res1.resadd_out",
          "embedder.block3.res1.relu2_out",
          "embedder.block3.res2.relu1_out",
          "embedder.block3.res2.resadd_out",
          "embedder.block3.res2.relu2_out"
         ],
         "xaxis": "x",
         "y": [
          0.8875,
          1,
          0.9875,
          0.8625,
          1,
          1,
          0.9625,
          1,
          1,
          0.9625,
          1,
          1,
          0.975,
          0.975,
          0.975,
          0.95,
          0.975,
          0.9375,
          0.8625
         ],
         "yaxis": "y"
        },
        {
         "hovertemplate": "K=7<br>layer=%{x}<br>score=%{y}<extra></extra>",
         "legendgroup": "7",
         "line": {
          "color": "#FF6692",
          "dash": "solid"
         },
         "marker": {
          "symbol": "circle"
         },
         "mode": "lines",
         "name": "7",
         "orientation": "v",
         "showlegend": true,
         "type": "scatter",
         "x": [
          "embedder.block1.conv_in0",
          "embedder.block1.res1.relu1_out",
          "embedder.block1.res1.resadd_out",
          "embedder.block1.res1.relu2_out",
          "embedder.block1.res2.relu1_out",
          "embedder.block1.res2.resadd_out",
          "embedder.block1.res2.relu2_out",
          "embedder.block2.res1.relu1_out",
          "embedder.block2.res1.resadd_out",
          "embedder.block2.res1.relu2_out",
          "embedder.block2.res2.relu1_out",
          "embedder.block2.res2.resadd_out",
          "embedder.block2.res2.relu2_out",
          "embedder.block3.res1.relu1_out",
          "embedder.block3.res1.resadd_out",
          "embedder.block3.res1.relu2_out",
          "embedder.block3.res2.relu1_out",
          "embedder.block3.res2.resadd_out",
          "embedder.block3.res2.relu2_out"
         ],
         "xaxis": "x",
         "y": [
          0.8875,
          1,
          1,
          0.8625,
          1,
          1,
          0.95,
          1,
          1,
          0.9625,
          1,
          1,
          0.975,
          0.975,
          0.975,
          0.925,
          0.975,
          0.925,
          0.875
         ],
         "yaxis": "y"
        },
        {
         "hovertemplate": "K=8<br>layer=%{x}<br>score=%{y}<extra></extra>",
         "legendgroup": "8",
         "line": {
          "color": "#B6E880",
          "dash": "solid"
         },
         "marker": {
          "symbol": "circle"
         },
         "mode": "lines",
         "name": "8",
         "orientation": "v",
         "showlegend": true,
         "type": "scatter",
         "x": [
          "embedder.block1.conv_in0",
          "embedder.block1.res1.relu1_out",
          "embedder.block1.res1.resadd_out",
          "embedder.block1.res1.relu2_out",
          "embedder.block1.res2.relu1_out",
          "embedder.block1.res2.resadd_out",
          "embedder.block1.res2.relu2_out",
          "embedder.block2.res1.relu1_out",
          "embedder.block2.res1.resadd_out",
          "embedder.block2.res1.relu2_out",
          "embedder.block2.res2.relu1_out",
          "embedder.block2.res2.resadd_out",
          "embedder.block2.res2.relu2_out",
          "embedder.block3.res1.relu1_out",
          "embedder.block3.res1.resadd_out",
          "embedder.block3.res1.relu2_out",
          "embedder.block3.res2.relu1_out",
          "embedder.block3.res2.resadd_out",
          "embedder.block3.res2.relu2_out"
         ],
         "xaxis": "x",
         "y": [
          0.8875,
          1,
          1,
          0.9125,
          1,
          1,
          1,
          1,
          1,
          0.9625,
          1,
          1,
          0.9875,
          0.975,
          0.975,
          0.9625,
          0.9625,
          0.925,
          0.9375
         ],
         "yaxis": "y"
        },
        {
         "hovertemplate": "K=9<br>layer=%{x}<br>score=%{y}<extra></extra>",
         "legendgroup": "9",
         "line": {
          "color": "#FF97FF",
          "dash": "solid"
         },
         "marker": {
          "symbol": "circle"
         },
         "mode": "lines",
         "name": "9",
         "orientation": "v",
         "showlegend": true,
         "type": "scatter",
         "x": [
          "embedder.block1.conv_in0",
          "embedder.block1.res1.relu1_out",
          "embedder.block1.res1.resadd_out",
          "embedder.block1.res1.relu2_out",
          "embedder.block1.res2.relu1_out",
          "embedder.block1.res2.resadd_out",
          "embedder.block1.res2.relu2_out",
          "embedder.block2.res1.relu1_out",
          "embedder.block2.res1.resadd_out",
          "embedder.block2.res1.relu2_out",
          "embedder.block2.res2.relu1_out",
          "embedder.block2.res2.resadd_out",
          "embedder.block2.res2.relu2_out",
          "embedder.block3.res1.relu1_out",
          "embedder.block3.res1.resadd_out",
          "embedder.block3.res1.relu2_out",
          "embedder.block3.res2.relu1_out",
          "embedder.block3.res2.resadd_out",
          "embedder.block3.res2.relu2_out"
         ],
         "xaxis": "x",
         "y": [
          0.8875,
          1,
          1,
          0.9125,
          1,
          1,
          1,
          1,
          1,
          0.975,
          1,
          1,
          1,
          0.975,
          0.975,
          0.95,
          0.9625,
          0.9375,
          0.9375
         ],
         "yaxis": "y"
        },
        {
         "hovertemplate": "K=10<br>layer=%{x}<br>score=%{y}<extra></extra>",
         "legendgroup": "10",
         "line": {
          "color": "#FECB52",
          "dash": "solid"
         },
         "marker": {
          "symbol": "circle"
         },
         "mode": "lines",
         "name": "10",
         "orientation": "v",
         "showlegend": true,
         "type": "scatter",
         "x": [
          "embedder.block1.conv_in0",
          "embedder.block1.res1.relu1_out",
          "embedder.block1.res1.resadd_out",
          "embedder.block1.res1.relu2_out",
          "embedder.block1.res2.relu1_out",
          "embedder.block1.res2.resadd_out",
          "embedder.block1.res2.relu2_out",
          "embedder.block2.res1.relu1_out",
          "embedder.block2.res1.resadd_out",
          "embedder.block2.res1.relu2_out",
          "embedder.block2.res2.relu1_out",
          "embedder.block2.res2.resadd_out",
          "embedder.block2.res2.relu2_out",
          "embedder.block3.res1.relu1_out",
          "embedder.block3.res1.resadd_out",
          "embedder.block3.res1.relu2_out",
          "embedder.block3.res2.relu1_out",
          "embedder.block3.res2.resadd_out",
          "embedder.block3.res2.relu2_out"
         ],
         "xaxis": "x",
         "y": [
          0.8875,
          1,
          1,
          0.9125,
          1,
          1,
          1,
          1,
          1,
          0.975,
          1,
          1,
          1,
          0.975,
          0.9875,
          0.9625,
          0.9625,
          0.925,
          0.9375
         ],
         "yaxis": "y"
        }
       ],
       "layout": {
        "annotations": [
         {
          "showarrow": false,
          "text": "perfect",
          "x": 1,
          "xanchor": "right",
          "xref": "x domain",
          "y": 1,
          "yanchor": "top",
          "yref": "y"
         },
         {
          "showarrow": false,
          "text": "baseline",
          "x": 1,
          "xanchor": "right",
          "xref": "x domain",
          "y": 0.5,
          "yanchor": "top",
          "yref": "y"
         }
        ],
        "legend": {
         "title": {
          "text": "K"
         },
         "tracegroupgap": 0
        },
        "shapes": [
         {
          "line": {
           "dash": "dot"
          },
          "type": "line",
          "x0": 0,
          "x1": 1,
          "xref": "x domain",
          "y0": 1,
          "y1": 1,
          "yref": "y"
         },
         {
          "line": {
           "dash": "dot"
          },
          "type": "line",
          "x0": 0,
          "x1": 1,
          "xref": "x domain",
          "y0": 0.5,
          "y1": 0.5,
          "yref": "y"
         }
        ],
        "template": {
         "data": {
          "bar": [
           {
            "error_x": {
             "color": "#2a3f5f"
            },
            "error_y": {
             "color": "#2a3f5f"
            },
            "marker": {
             "line": {
              "color": "#E5ECF6",
              "width": 0.5
             },
             "pattern": {
              "fillmode": "overlay",
              "size": 10,
              "solidity": 0.2
             }
            },
            "type": "bar"
           }
          ],
          "barpolar": [
           {
            "marker": {
             "line": {
              "color": "#E5ECF6",
              "width": 0.5
             },
             "pattern": {
              "fillmode": "overlay",
              "size": 10,
              "solidity": 0.2
             }
            },
            "type": "barpolar"
           }
          ],
          "carpet": [
           {
            "aaxis": {
             "endlinecolor": "#2a3f5f",
             "gridcolor": "white",
             "linecolor": "white",
             "minorgridcolor": "white",
             "startlinecolor": "#2a3f5f"
            },
            "baxis": {
             "endlinecolor": "#2a3f5f",
             "gridcolor": "white",
             "linecolor": "white",
             "minorgridcolor": "white",
             "startlinecolor": "#2a3f5f"
            },
            "type": "carpet"
           }
          ],
          "choropleth": [
           {
            "colorbar": {
             "outlinewidth": 0,
             "ticks": ""
            },
            "type": "choropleth"
           }
          ],
          "contour": [
           {
            "colorbar": {
             "outlinewidth": 0,
             "ticks": ""
            },
            "colorscale": [
             [
              0,
              "#0d0887"
             ],
             [
              0.1111111111111111,
              "#46039f"
             ],
             [
              0.2222222222222222,
              "#7201a8"
             ],
             [
              0.3333333333333333,
              "#9c179e"
             ],
             [
              0.4444444444444444,
              "#bd3786"
             ],
             [
              0.5555555555555556,
              "#d8576b"
             ],
             [
              0.6666666666666666,
              "#ed7953"
             ],
             [
              0.7777777777777778,
              "#fb9f3a"
             ],
             [
              0.8888888888888888,
              "#fdca26"
             ],
             [
              1,
              "#f0f921"
             ]
            ],
            "type": "contour"
           }
          ],
          "contourcarpet": [
           {
            "colorbar": {
             "outlinewidth": 0,
             "ticks": ""
            },
            "type": "contourcarpet"
           }
          ],
          "heatmap": [
           {
            "colorbar": {
             "outlinewidth": 0,
             "ticks": ""
            },
            "colorscale": [
             [
              0,
              "#0d0887"
             ],
             [
              0.1111111111111111,
              "#46039f"
             ],
             [
              0.2222222222222222,
              "#7201a8"
             ],
             [
              0.3333333333333333,
              "#9c179e"
             ],
             [
              0.4444444444444444,
              "#bd3786"
             ],
             [
              0.5555555555555556,
              "#d8576b"
             ],
             [
              0.6666666666666666,
              "#ed7953"
             ],
             [
              0.7777777777777778,
              "#fb9f3a"
             ],
             [
              0.8888888888888888,
              "#fdca26"
             ],
             [
              1,
              "#f0f921"
             ]
            ],
            "type": "heatmap"
           }
          ],
          "heatmapgl": [
           {
            "colorbar": {
             "outlinewidth": 0,
             "ticks": ""
            },
            "colorscale": [
             [
              0,
              "#0d0887"
             ],
             [
              0.1111111111111111,
              "#46039f"
             ],
             [
              0.2222222222222222,
              "#7201a8"
             ],
             [
              0.3333333333333333,
              "#9c179e"
             ],
             [
              0.4444444444444444,
              "#bd3786"
             ],
             [
              0.5555555555555556,
              "#d8576b"
             ],
             [
              0.6666666666666666,
              "#ed7953"
             ],
             [
              0.7777777777777778,
              "#fb9f3a"
             ],
             [
              0.8888888888888888,
              "#fdca26"
             ],
             [
              1,
              "#f0f921"
             ]
            ],
            "type": "heatmapgl"
           }
          ],
          "histogram": [
           {
            "marker": {
             "pattern": {
              "fillmode": "overlay",
              "size": 10,
              "solidity": 0.2
             }
            },
            "type": "histogram"
           }
          ],
          "histogram2d": [
           {
            "colorbar": {
             "outlinewidth": 0,
             "ticks": ""
            },
            "colorscale": [
             [
              0,
              "#0d0887"
             ],
             [
              0.1111111111111111,
              "#46039f"
             ],
             [
              0.2222222222222222,
              "#7201a8"
             ],
             [
              0.3333333333333333,
              "#9c179e"
             ],
             [
              0.4444444444444444,
              "#bd3786"
             ],
             [
              0.5555555555555556,
              "#d8576b"
             ],
             [
              0.6666666666666666,
              "#ed7953"
             ],
             [
              0.7777777777777778,
              "#fb9f3a"
             ],
             [
              0.8888888888888888,
              "#fdca26"
             ],
             [
              1,
              "#f0f921"
             ]
            ],
            "type": "histogram2d"
           }
          ],
          "histogram2dcontour": [
           {
            "colorbar": {
             "outlinewidth": 0,
             "ticks": ""
            },
            "colorscale": [
             [
              0,
              "#0d0887"
             ],
             [
              0.1111111111111111,
              "#46039f"
             ],
             [
              0.2222222222222222,
              "#7201a8"
             ],
             [
              0.3333333333333333,
              "#9c179e"
             ],
             [
              0.4444444444444444,
              "#bd3786"
             ],
             [
              0.5555555555555556,
              "#d8576b"
             ],
             [
              0.6666666666666666,
              "#ed7953"
             ],
             [
              0.7777777777777778,
              "#fb9f3a"
             ],
             [
              0.8888888888888888,
              "#fdca26"
             ],
             [
              1,
              "#f0f921"
             ]
            ],
            "type": "histogram2dcontour"
           }
          ],
          "mesh3d": [
           {
            "colorbar": {
             "outlinewidth": 0,
             "ticks": ""
            },
            "type": "mesh3d"
           }
          ],
          "parcoords": [
           {
            "line": {
             "colorbar": {
              "outlinewidth": 0,
              "ticks": ""
             }
            },
            "type": "parcoords"
           }
          ],
          "pie": [
           {
            "automargin": true,
            "type": "pie"
           }
          ],
          "scatter": [
           {
            "fillpattern": {
             "fillmode": "overlay",
             "size": 10,
             "solidity": 0.2
            },
            "type": "scatter"
           }
          ],
          "scatter3d": [
           {
            "line": {
             "colorbar": {
              "outlinewidth": 0,
              "ticks": ""
             }
            },
            "marker": {
             "colorbar": {
              "outlinewidth": 0,
              "ticks": ""
             }
            },
            "type": "scatter3d"
           }
          ],
          "scattercarpet": [
           {
            "marker": {
             "colorbar": {
              "outlinewidth": 0,
              "ticks": ""
             }
            },
            "type": "scattercarpet"
           }
          ],
          "scattergeo": [
           {
            "marker": {
             "colorbar": {
              "outlinewidth": 0,
              "ticks": ""
             }
            },
            "type": "scattergeo"
           }
          ],
          "scattergl": [
           {
            "marker": {
             "colorbar": {
              "outlinewidth": 0,
              "ticks": ""
             }
            },
            "type": "scattergl"
           }
          ],
          "scattermapbox": [
           {
            "marker": {
             "colorbar": {
              "outlinewidth": 0,
              "ticks": ""
             }
            },
            "type": "scattermapbox"
           }
          ],
          "scatterpolar": [
           {
            "marker": {
             "colorbar": {
              "outlinewidth": 0,
              "ticks": ""
             }
            },
            "type": "scatterpolar"
           }
          ],
          "scatterpolargl": [
           {
            "marker": {
             "colorbar": {
              "outlinewidth": 0,
              "ticks": ""
             }
            },
            "type": "scatterpolargl"
           }
          ],
          "scatterternary": [
           {
            "marker": {
             "colorbar": {
              "outlinewidth": 0,
              "ticks": ""
             }
            },
            "type": "scatterternary"
           }
          ],
          "surface": [
           {
            "colorbar": {
             "outlinewidth": 0,
             "ticks": ""
            },
            "colorscale": [
             [
              0,
              "#0d0887"
             ],
             [
              0.1111111111111111,
              "#46039f"
             ],
             [
              0.2222222222222222,
              "#7201a8"
             ],
             [
              0.3333333333333333,
              "#9c179e"
             ],
             [
              0.4444444444444444,
              "#bd3786"
             ],
             [
              0.5555555555555556,
              "#d8576b"
             ],
             [
              0.6666666666666666,
              "#ed7953"
             ],
             [
              0.7777777777777778,
              "#fb9f3a"
             ],
             [
              0.8888888888888888,
              "#fdca26"
             ],
             [
              1,
              "#f0f921"
             ]
            ],
            "type": "surface"
           }
          ],
          "table": [
           {
            "cells": {
             "fill": {
              "color": "#EBF0F8"
             },
             "line": {
              "color": "white"
             }
            },
            "header": {
             "fill": {
              "color": "#C8D4E3"
             },
             "line": {
              "color": "white"
             }
            },
            "type": "table"
           }
          ]
         },
         "layout": {
          "annotationdefaults": {
           "arrowcolor": "#2a3f5f",
           "arrowhead": 0,
           "arrowwidth": 1
          },
          "autotypenumbers": "strict",
          "coloraxis": {
           "colorbar": {
            "outlinewidth": 0,
            "ticks": ""
           }
          },
          "colorscale": {
           "diverging": [
            [
             0,
             "#8e0152"
            ],
            [
             0.1,
             "#c51b7d"
            ],
            [
             0.2,
             "#de77ae"
            ],
            [
             0.3,
             "#f1b6da"
            ],
            [
             0.4,
             "#fde0ef"
            ],
            [
             0.5,
             "#f7f7f7"
            ],
            [
             0.6,
             "#e6f5d0"
            ],
            [
             0.7,
             "#b8e186"
            ],
            [
             0.8,
             "#7fbc41"
            ],
            [
             0.9,
             "#4d9221"
            ],
            [
             1,
             "#276419"
            ]
           ],
           "sequential": [
            [
             0,
             "#0d0887"
            ],
            [
             0.1111111111111111,
             "#46039f"
            ],
            [
             0.2222222222222222,
             "#7201a8"
            ],
            [
             0.3333333333333333,
             "#9c179e"
            ],
            [
             0.4444444444444444,
             "#bd3786"
            ],
            [
             0.5555555555555556,
             "#d8576b"
            ],
            [
             0.6666666666666666,
             "#ed7953"
            ],
            [
             0.7777777777777778,
             "#fb9f3a"
            ],
            [
             0.8888888888888888,
             "#fdca26"
            ],
            [
             1,
             "#f0f921"
            ]
           ],
           "sequentialminus": [
            [
             0,
             "#0d0887"
            ],
            [
             0.1111111111111111,
             "#46039f"
            ],
            [
             0.2222222222222222,
             "#7201a8"
            ],
            [
             0.3333333333333333,
             "#9c179e"
            ],
            [
             0.4444444444444444,
             "#bd3786"
            ],
            [
             0.5555555555555556,
             "#d8576b"
            ],
            [
             0.6666666666666666,
             "#ed7953"
            ],
            [
             0.7777777777777778,
             "#fb9f3a"
            ],
            [
             0.8888888888888888,
             "#fdca26"
            ],
            [
             1,
             "#f0f921"
            ]
           ]
          },
          "colorway": [
           "#636efa",
           "#EF553B",
           "#00cc96",
           "#ab63fa",
           "#FFA15A",
           "#19d3f3",
           "#FF6692",
           "#B6E880",
           "#FF97FF",
           "#FECB52"
          ],
          "font": {
           "color": "#2a3f5f"
          },
          "geo": {
           "bgcolor": "white",
           "lakecolor": "white",
           "landcolor": "#E5ECF6",
           "showlakes": true,
           "showland": true,
           "subunitcolor": "white"
          },
          "hoverlabel": {
           "align": "left"
          },
          "hovermode": "closest",
          "mapbox": {
           "style": "light"
          },
          "paper_bgcolor": "white",
          "plot_bgcolor": "#E5ECF6",
          "polar": {
           "angularaxis": {
            "gridcolor": "white",
            "linecolor": "white",
            "ticks": ""
           },
           "bgcolor": "#E5ECF6",
           "radialaxis": {
            "gridcolor": "white",
            "linecolor": "white",
            "ticks": ""
           }
          },
          "scene": {
           "xaxis": {
            "backgroundcolor": "#E5ECF6",
            "gridcolor": "white",
            "gridwidth": 2,
            "linecolor": "white",
            "showbackground": true,
            "ticks": "",
            "zerolinecolor": "white"
           },
           "yaxis": {
            "backgroundcolor": "#E5ECF6",
            "gridcolor": "white",
            "gridwidth": 2,
            "linecolor": "white",
            "showbackground": true,
            "ticks": "",
            "zerolinecolor": "white"
           },
           "zaxis": {
            "backgroundcolor": "#E5ECF6",
            "gridcolor": "white",
            "gridwidth": 2,
            "linecolor": "white",
            "showbackground": true,
            "ticks": "",
            "zerolinecolor": "white"
           }
          },
          "shapedefaults": {
           "line": {
            "color": "#2a3f5f"
           }
          },
          "ternary": {
           "aaxis": {
            "gridcolor": "white",
            "linecolor": "white",
            "ticks": ""
           },
           "baxis": {
            "gridcolor": "white",
            "linecolor": "white",
            "ticks": ""
           },
           "bgcolor": "#E5ECF6",
           "caxis": {
            "gridcolor": "white",
            "linecolor": "white",
            "ticks": ""
           }
          },
          "title": {
           "x": 0.05
          },
          "xaxis": {
           "automargin": true,
           "gridcolor": "white",
           "linecolor": "white",
           "ticks": "",
           "title": {
            "standoff": 15
           },
           "zerolinecolor": "white",
           "zerolinewidth": 2
          },
          "yaxis": {
           "automargin": true,
           "gridcolor": "white",
           "linecolor": "white",
           "ticks": "",
           "title": {
            "standoff": 15
           },
           "zerolinecolor": "white",
           "zerolinewidth": 2
          }
         }
        },
        "title": {
         "text": "Sparse probe scores for \"conv pixel contains mouse1\" over resadd layers and K values"
        },
        "xaxis": {
         "anchor": "y",
         "domain": [
          0,
          1
         ],
         "title": {
          "text": "layer"
         }
        },
        "yaxis": {
         "anchor": "x",
         "domain": [
          0,
          1
         ],
         "title": {
          "text": "score"
         }
        }
       }
      },
      "text/html": [
       "<div>                            <div id=\"5ade7545-e032-4fd1-8557-f8b6bfbd0ff2\" class=\"plotly-graph-div\" style=\"height:525px; width:100%;\"></div>            <script type=\"text/javascript\">                require([\"plotly\"], function(Plotly) {                    window.PLOTLYENV=window.PLOTLYENV || {};                                    if (document.getElementById(\"5ade7545-e032-4fd1-8557-f8b6bfbd0ff2\")) {                    Plotly.newPlot(                        \"5ade7545-e032-4fd1-8557-f8b6bfbd0ff2\",                        [{\"hovertemplate\":\"K=1\\u003cbr\\u003elayer=%{x}\\u003cbr\\u003escore=%{y}\\u003cextra\\u003e\\u003c\\u002fextra\\u003e\",\"legendgroup\":\"1\",\"line\":{\"color\":\"#636efa\",\"dash\":\"solid\"},\"marker\":{\"symbol\":\"circle\"},\"mode\":\"lines\",\"name\":\"1\",\"orientation\":\"v\",\"showlegend\":true,\"x\":[\"embedder.block1.conv_in0\",\"embedder.block1.res1.relu1_out\",\"embedder.block1.res1.resadd_out\",\"embedder.block1.res1.relu2_out\",\"embedder.block1.res2.relu1_out\",\"embedder.block1.res2.resadd_out\",\"embedder.block1.res2.relu2_out\",\"embedder.block2.res1.relu1_out\",\"embedder.block2.res1.resadd_out\",\"embedder.block2.res1.relu2_out\",\"embedder.block2.res2.relu1_out\",\"embedder.block2.res2.resadd_out\",\"embedder.block2.res2.relu2_out\",\"embedder.block3.res1.relu1_out\",\"embedder.block3.res1.resadd_out\",\"embedder.block3.res1.relu2_out\",\"embedder.block3.res2.relu1_out\",\"embedder.block3.res2.resadd_out\",\"embedder.block3.res2.relu2_out\"],\"xaxis\":\"x\",\"y\":[0.7125,0.9125,1.0,0.825,0.9875,1.0,0.8875,0.9875,0.9875,0.8875,0.9875,0.9625,0.875,0.9625,0.9875,0.95,0.925,0.8625,0.9],\"yaxis\":\"y\",\"type\":\"scatter\"},{\"hovertemplate\":\"K=2\\u003cbr\\u003elayer=%{x}\\u003cbr\\u003escore=%{y}\\u003cextra\\u003e\\u003c\\u002fextra\\u003e\",\"legendgroup\":\"2\",\"line\":{\"color\":\"#EF553B\",\"dash\":\"solid\"},\"marker\":{\"symbol\":\"circle\"},\"mode\":\"lines\",\"name\":\"2\",\"orientation\":\"v\",\"showlegend\":true,\"x\":[\"embedder.block1.conv_in0\",\"embedder.block1.res1.relu1_out\",\"embedder.block1.res1.resadd_out\",\"embedder.block1.res1.relu2_out\",\"embedder.block1.res2.relu1_out\",\"embedder.block1.res2.resadd_out\",\"embedder.block1.res2.relu2_out\",\"embedder.block2.res1.relu1_out\",\"embedder.block2.res1.resadd_out\",\"embedder.block2.res1.relu2_out\",\"embedder.block2.res2.relu1_out\",\"embedder.block2.res2.resadd_out\",\"embedder.block2.res2.relu2_out\",\"embedder.block3.res1.relu1_out\",\"embedder.block3.res1.resadd_out\",\"embedder.block3.res1.relu2_out\",\"embedder.block3.res2.relu1_out\",\"embedder.block3.res2.resadd_out\",\"embedder.block3.res2.relu2_out\"],\"xaxis\":\"x\",\"y\":[0.85,0.95,1.0,0.775,0.9875,0.9875,0.85,0.9875,1.0,0.8625,0.9875,0.975,0.95,0.9625,1.0,0.9625,0.9375,0.85,0.85],\"yaxis\":\"y\",\"type\":\"scatter\"},{\"hovertemplate\":\"K=3\\u003cbr\\u003elayer=%{x}\\u003cbr\\u003escore=%{y}\\u003cextra\\u003e\\u003c\\u002fextra\\u003e\",\"legendgroup\":\"3\",\"line\":{\"color\":\"#00cc96\",\"dash\":\"solid\"},\"marker\":{\"symbol\":\"circle\"},\"mode\":\"lines\",\"name\":\"3\",\"orientation\":\"v\",\"showlegend\":true,\"x\":[\"embedder.block1.conv_in0\",\"embedder.block1.res1.relu1_out\",\"embedder.block1.res1.resadd_out\",\"embedder.block1.res1.relu2_out\",\"embedder.block1.res2.relu1_out\",\"embedder.block1.res2.resadd_out\",\"embedder.block1.res2.relu2_out\",\"embedder.block2.res1.relu1_out\",\"embedder.block2.res1.resadd_out\",\"embedder.block2.res1.relu2_out\",\"embedder.block2.res2.relu1_out\",\"embedder.block2.res2.resadd_out\",\"embedder.block2.res2.relu2_out\",\"embedder.block3.res1.relu1_out\",\"embedder.block3.res1.resadd_out\",\"embedder.block3.res1.relu2_out\",\"embedder.block3.res2.relu1_out\",\"embedder.block3.res2.resadd_out\",\"embedder.block3.res2.relu2_out\"],\"xaxis\":\"x\",\"y\":[0.8875,0.975,1.0,0.825,0.9875,0.9875,0.9625,1.0,1.0,0.95,1.0,0.9875,0.9375,0.975,0.9875,0.95,0.975,0.925,0.8625],\"yaxis\":\"y\",\"type\":\"scatter\"},{\"hovertemplate\":\"K=4\\u003cbr\\u003elayer=%{x}\\u003cbr\\u003escore=%{y}\\u003cextra\\u003e\\u003c\\u002fextra\\u003e\",\"legendgroup\":\"4\",\"line\":{\"color\":\"#ab63fa\",\"dash\":\"solid\"},\"marker\":{\"symbol\":\"circle\"},\"mode\":\"lines\",\"name\":\"4\",\"orientation\":\"v\",\"showlegend\":true,\"x\":[\"embedder.block1.conv_in0\",\"embedder.block1.res1.relu1_out\",\"embedder.block1.res1.resadd_out\",\"embedder.block1.res1.relu2_out\",\"embedder.block1.res2.relu1_out\",\"embedder.block1.res2.resadd_out\",\"embedder.block1.res2.relu2_out\",\"embedder.block2.res1.relu1_out\",\"embedder.block2.res1.resadd_out\",\"embedder.block2.res1.relu2_out\",\"embedder.block2.res2.relu1_out\",\"embedder.block2.res2.resadd_out\",\"embedder.block2.res2.relu2_out\",\"embedder.block3.res1.relu1_out\",\"embedder.block3.res1.resadd_out\",\"embedder.block3.res1.relu2_out\",\"embedder.block3.res2.relu1_out\",\"embedder.block3.res2.resadd_out\",\"embedder.block3.res2.relu2_out\"],\"xaxis\":\"x\",\"y\":[0.8875,1.0,1.0,0.8375,1.0,1.0,0.9625,1.0,1.0,0.9625,1.0,0.9875,0.95,0.975,0.9875,0.9625,0.9625,0.95,0.875],\"yaxis\":\"y\",\"type\":\"scatter\"},{\"hovertemplate\":\"K=5\\u003cbr\\u003elayer=%{x}\\u003cbr\\u003escore=%{y}\\u003cextra\\u003e\\u003c\\u002fextra\\u003e\",\"legendgroup\":\"5\",\"line\":{\"color\":\"#FFA15A\",\"dash\":\"solid\"},\"marker\":{\"symbol\":\"circle\"},\"mode\":\"lines\",\"name\":\"5\",\"orientation\":\"v\",\"showlegend\":true,\"x\":[\"embedder.block1.conv_in0\",\"embedder.block1.res1.relu1_out\",\"embedder.block1.res1.resadd_out\",\"embedder.block1.res1.relu2_out\",\"embedder.block1.res2.relu1_out\",\"embedder.block1.res2.resadd_out\",\"embedder.block1.res2.relu2_out\",\"embedder.block2.res1.relu1_out\",\"embedder.block2.res1.resadd_out\",\"embedder.block2.res1.relu2_out\",\"embedder.block2.res2.relu1_out\",\"embedder.block2.res2.resadd_out\",\"embedder.block2.res2.relu2_out\",\"embedder.block3.res1.relu1_out\",\"embedder.block3.res1.resadd_out\",\"embedder.block3.res1.relu2_out\",\"embedder.block3.res2.relu1_out\",\"embedder.block3.res2.resadd_out\",\"embedder.block3.res2.relu2_out\"],\"xaxis\":\"x\",\"y\":[0.8875,1.0,0.9875,0.8625,1.0,1.0,0.9625,1.0,1.0,0.9625,1.0,0.9875,0.9625,0.975,0.9875,0.9375,0.975,0.9625,0.8625],\"yaxis\":\"y\",\"type\":\"scatter\"},{\"hovertemplate\":\"K=6\\u003cbr\\u003elayer=%{x}\\u003cbr\\u003escore=%{y}\\u003cextra\\u003e\\u003c\\u002fextra\\u003e\",\"legendgroup\":\"6\",\"line\":{\"color\":\"#19d3f3\",\"dash\":\"solid\"},\"marker\":{\"symbol\":\"circle\"},\"mode\":\"lines\",\"name\":\"6\",\"orientation\":\"v\",\"showlegend\":true,\"x\":[\"embedder.block1.conv_in0\",\"embedder.block1.res1.relu1_out\",\"embedder.block1.res1.resadd_out\",\"embedder.block1.res1.relu2_out\",\"embedder.block1.res2.relu1_out\",\"embedder.block1.res2.resadd_out\",\"embedder.block1.res2.relu2_out\",\"embedder.block2.res1.relu1_out\",\"embedder.block2.res1.resadd_out\",\"embedder.block2.res1.relu2_out\",\"embedder.block2.res2.relu1_out\",\"embedder.block2.res2.resadd_out\",\"embedder.block2.res2.relu2_out\",\"embedder.block3.res1.relu1_out\",\"embedder.block3.res1.resadd_out\",\"embedder.block3.res1.relu2_out\",\"embedder.block3.res2.relu1_out\",\"embedder.block3.res2.resadd_out\",\"embedder.block3.res2.relu2_out\"],\"xaxis\":\"x\",\"y\":[0.8875,1.0,0.9875,0.8625,1.0,1.0,0.9625,1.0,1.0,0.9625,1.0,1.0,0.975,0.975,0.975,0.95,0.975,0.9375,0.8625],\"yaxis\":\"y\",\"type\":\"scatter\"},{\"hovertemplate\":\"K=7\\u003cbr\\u003elayer=%{x}\\u003cbr\\u003escore=%{y}\\u003cextra\\u003e\\u003c\\u002fextra\\u003e\",\"legendgroup\":\"7\",\"line\":{\"color\":\"#FF6692\",\"dash\":\"solid\"},\"marker\":{\"symbol\":\"circle\"},\"mode\":\"lines\",\"name\":\"7\",\"orientation\":\"v\",\"showlegend\":true,\"x\":[\"embedder.block1.conv_in0\",\"embedder.block1.res1.relu1_out\",\"embedder.block1.res1.resadd_out\",\"embedder.block1.res1.relu2_out\",\"embedder.block1.res2.relu1_out\",\"embedder.block1.res2.resadd_out\",\"embedder.block1.res2.relu2_out\",\"embedder.block2.res1.relu1_out\",\"embedder.block2.res1.resadd_out\",\"embedder.block2.res1.relu2_out\",\"embedder.block2.res2.relu1_out\",\"embedder.block2.res2.resadd_out\",\"embedder.block2.res2.relu2_out\",\"embedder.block3.res1.relu1_out\",\"embedder.block3.res1.resadd_out\",\"embedder.block3.res1.relu2_out\",\"embedder.block3.res2.relu1_out\",\"embedder.block3.res2.resadd_out\",\"embedder.block3.res2.relu2_out\"],\"xaxis\":\"x\",\"y\":[0.8875,1.0,1.0,0.8625,1.0,1.0,0.95,1.0,1.0,0.9625,1.0,1.0,0.975,0.975,0.975,0.925,0.975,0.925,0.875],\"yaxis\":\"y\",\"type\":\"scatter\"},{\"hovertemplate\":\"K=8\\u003cbr\\u003elayer=%{x}\\u003cbr\\u003escore=%{y}\\u003cextra\\u003e\\u003c\\u002fextra\\u003e\",\"legendgroup\":\"8\",\"line\":{\"color\":\"#B6E880\",\"dash\":\"solid\"},\"marker\":{\"symbol\":\"circle\"},\"mode\":\"lines\",\"name\":\"8\",\"orientation\":\"v\",\"showlegend\":true,\"x\":[\"embedder.block1.conv_in0\",\"embedder.block1.res1.relu1_out\",\"embedder.block1.res1.resadd_out\",\"embedder.block1.res1.relu2_out\",\"embedder.block1.res2.relu1_out\",\"embedder.block1.res2.resadd_out\",\"embedder.block1.res2.relu2_out\",\"embedder.block2.res1.relu1_out\",\"embedder.block2.res1.resadd_out\",\"embedder.block2.res1.relu2_out\",\"embedder.block2.res2.relu1_out\",\"embedder.block2.res2.resadd_out\",\"embedder.block2.res2.relu2_out\",\"embedder.block3.res1.relu1_out\",\"embedder.block3.res1.resadd_out\",\"embedder.block3.res1.relu2_out\",\"embedder.block3.res2.relu1_out\",\"embedder.block3.res2.resadd_out\",\"embedder.block3.res2.relu2_out\"],\"xaxis\":\"x\",\"y\":[0.8875,1.0,1.0,0.9125,1.0,1.0,1.0,1.0,1.0,0.9625,1.0,1.0,0.9875,0.975,0.975,0.9625,0.9625,0.925,0.9375],\"yaxis\":\"y\",\"type\":\"scatter\"},{\"hovertemplate\":\"K=9\\u003cbr\\u003elayer=%{x}\\u003cbr\\u003escore=%{y}\\u003cextra\\u003e\\u003c\\u002fextra\\u003e\",\"legendgroup\":\"9\",\"line\":{\"color\":\"#FF97FF\",\"dash\":\"solid\"},\"marker\":{\"symbol\":\"circle\"},\"mode\":\"lines\",\"name\":\"9\",\"orientation\":\"v\",\"showlegend\":true,\"x\":[\"embedder.block1.conv_in0\",\"embedder.block1.res1.relu1_out\",\"embedder.block1.res1.resadd_out\",\"embedder.block1.res1.relu2_out\",\"embedder.block1.res2.relu1_out\",\"embedder.block1.res2.resadd_out\",\"embedder.block1.res2.relu2_out\",\"embedder.block2.res1.relu1_out\",\"embedder.block2.res1.resadd_out\",\"embedder.block2.res1.relu2_out\",\"embedder.block2.res2.relu1_out\",\"embedder.block2.res2.resadd_out\",\"embedder.block2.res2.relu2_out\",\"embedder.block3.res1.relu1_out\",\"embedder.block3.res1.resadd_out\",\"embedder.block3.res1.relu2_out\",\"embedder.block3.res2.relu1_out\",\"embedder.block3.res2.resadd_out\",\"embedder.block3.res2.relu2_out\"],\"xaxis\":\"x\",\"y\":[0.8875,1.0,1.0,0.9125,1.0,1.0,1.0,1.0,1.0,0.975,1.0,1.0,1.0,0.975,0.975,0.95,0.9625,0.9375,0.9375],\"yaxis\":\"y\",\"type\":\"scatter\"},{\"hovertemplate\":\"K=10\\u003cbr\\u003elayer=%{x}\\u003cbr\\u003escore=%{y}\\u003cextra\\u003e\\u003c\\u002fextra\\u003e\",\"legendgroup\":\"10\",\"line\":{\"color\":\"#FECB52\",\"dash\":\"solid\"},\"marker\":{\"symbol\":\"circle\"},\"mode\":\"lines\",\"name\":\"10\",\"orientation\":\"v\",\"showlegend\":true,\"x\":[\"embedder.block1.conv_in0\",\"embedder.block1.res1.relu1_out\",\"embedder.block1.res1.resadd_out\",\"embedder.block1.res1.relu2_out\",\"embedder.block1.res2.relu1_out\",\"embedder.block1.res2.resadd_out\",\"embedder.block1.res2.relu2_out\",\"embedder.block2.res1.relu1_out\",\"embedder.block2.res1.resadd_out\",\"embedder.block2.res1.relu2_out\",\"embedder.block2.res2.relu1_out\",\"embedder.block2.res2.resadd_out\",\"embedder.block2.res2.relu2_out\",\"embedder.block3.res1.relu1_out\",\"embedder.block3.res1.resadd_out\",\"embedder.block3.res1.relu2_out\",\"embedder.block3.res2.relu1_out\",\"embedder.block3.res2.resadd_out\",\"embedder.block3.res2.relu2_out\"],\"xaxis\":\"x\",\"y\":[0.8875,1.0,1.0,0.9125,1.0,1.0,1.0,1.0,1.0,0.975,1.0,1.0,1.0,0.975,0.9875,0.9625,0.9625,0.925,0.9375],\"yaxis\":\"y\",\"type\":\"scatter\"}],                        {\"template\":{\"data\":{\"histogram2dcontour\":[{\"type\":\"histogram2dcontour\",\"colorbar\":{\"outlinewidth\":0,\"ticks\":\"\"},\"colorscale\":[[0.0,\"#0d0887\"],[0.1111111111111111,\"#46039f\"],[0.2222222222222222,\"#7201a8\"],[0.3333333333333333,\"#9c179e\"],[0.4444444444444444,\"#bd3786\"],[0.5555555555555556,\"#d8576b\"],[0.6666666666666666,\"#ed7953\"],[0.7777777777777778,\"#fb9f3a\"],[0.8888888888888888,\"#fdca26\"],[1.0,\"#f0f921\"]]}],\"choropleth\":[{\"type\":\"choropleth\",\"colorbar\":{\"outlinewidth\":0,\"ticks\":\"\"}}],\"histogram2d\":[{\"type\":\"histogram2d\",\"colorbar\":{\"outlinewidth\":0,\"ticks\":\"\"},\"colorscale\":[[0.0,\"#0d0887\"],[0.1111111111111111,\"#46039f\"],[0.2222222222222222,\"#7201a8\"],[0.3333333333333333,\"#9c179e\"],[0.4444444444444444,\"#bd3786\"],[0.5555555555555556,\"#d8576b\"],[0.6666666666666666,\"#ed7953\"],[0.7777777777777778,\"#fb9f3a\"],[0.8888888888888888,\"#fdca26\"],[1.0,\"#f0f921\"]]}],\"heatmap\":[{\"type\":\"heatmap\",\"colorbar\":{\"outlinewidth\":0,\"ticks\":\"\"},\"colorscale\":[[0.0,\"#0d0887\"],[0.1111111111111111,\"#46039f\"],[0.2222222222222222,\"#7201a8\"],[0.3333333333333333,\"#9c179e\"],[0.4444444444444444,\"#bd3786\"],[0.5555555555555556,\"#d8576b\"],[0.6666666666666666,\"#ed7953\"],[0.7777777777777778,\"#fb9f3a\"],[0.8888888888888888,\"#fdca26\"],[1.0,\"#f0f921\"]]}],\"heatmapgl\":[{\"type\":\"heatmapgl\",\"colorbar\":{\"outlinewidth\":0,\"ticks\":\"\"},\"colorscale\":[[0.0,\"#0d0887\"],[0.1111111111111111,\"#46039f\"],[0.2222222222222222,\"#7201a8\"],[0.3333333333333333,\"#9c179e\"],[0.4444444444444444,\"#bd3786\"],[0.5555555555555556,\"#d8576b\"],[0.6666666666666666,\"#ed7953\"],[0.7777777777777778,\"#fb9f3a\"],[0.8888888888888888,\"#fdca26\"],[1.0,\"#f0f921\"]]}],\"contourcarpet\":[{\"type\":\"contourcarpet\",\"colorbar\":{\"outlinewidth\":0,\"ticks\":\"\"}}],\"contour\":[{\"type\":\"contour\",\"colorbar\":{\"outlinewidth\":0,\"ticks\":\"\"},\"colorscale\":[[0.0,\"#0d0887\"],[0.1111111111111111,\"#46039f\"],[0.2222222222222222,\"#7201a8\"],[0.3333333333333333,\"#9c179e\"],[0.4444444444444444,\"#bd3786\"],[0.5555555555555556,\"#d8576b\"],[0.6666666666666666,\"#ed7953\"],[0.7777777777777778,\"#fb9f3a\"],[0.8888888888888888,\"#fdca26\"],[1.0,\"#f0f921\"]]}],\"surface\":[{\"type\":\"surface\",\"colorbar\":{\"outlinewidth\":0,\"ticks\":\"\"},\"colorscale\":[[0.0,\"#0d0887\"],[0.1111111111111111,\"#46039f\"],[0.2222222222222222,\"#7201a8\"],[0.3333333333333333,\"#9c179e\"],[0.4444444444444444,\"#bd3786\"],[0.5555555555555556,\"#d8576b\"],[0.6666666666666666,\"#ed7953\"],[0.7777777777777778,\"#fb9f3a\"],[0.8888888888888888,\"#fdca26\"],[1.0,\"#f0f921\"]]}],\"mesh3d\":[{\"type\":\"mesh3d\",\"colorbar\":{\"outlinewidth\":0,\"ticks\":\"\"}}],\"scatter\":[{\"fillpattern\":{\"fillmode\":\"overlay\",\"size\":10,\"solidity\":0.2},\"type\":\"scatter\"}],\"parcoords\":[{\"type\":\"parcoords\",\"line\":{\"colorbar\":{\"outlinewidth\":0,\"ticks\":\"\"}}}],\"scatterpolargl\":[{\"type\":\"scatterpolargl\",\"marker\":{\"colorbar\":{\"outlinewidth\":0,\"ticks\":\"\"}}}],\"bar\":[{\"error_x\":{\"color\":\"#2a3f5f\"},\"error_y\":{\"color\":\"#2a3f5f\"},\"marker\":{\"line\":{\"color\":\"#E5ECF6\",\"width\":0.5},\"pattern\":{\"fillmode\":\"overlay\",\"size\":10,\"solidity\":0.2}},\"type\":\"bar\"}],\"scattergeo\":[{\"type\":\"scattergeo\",\"marker\":{\"colorbar\":{\"outlinewidth\":0,\"ticks\":\"\"}}}],\"scatterpolar\":[{\"type\":\"scatterpolar\",\"marker\":{\"colorbar\":{\"outlinewidth\":0,\"ticks\":\"\"}}}],\"histogram\":[{\"marker\":{\"pattern\":{\"fillmode\":\"overlay\",\"size\":10,\"solidity\":0.2}},\"type\":\"histogram\"}],\"scattergl\":[{\"type\":\"scattergl\",\"marker\":{\"colorbar\":{\"outlinewidth\":0,\"ticks\":\"\"}}}],\"scatter3d\":[{\"type\":\"scatter3d\",\"line\":{\"colorbar\":{\"outlinewidth\":0,\"ticks\":\"\"}},\"marker\":{\"colorbar\":{\"outlinewidth\":0,\"ticks\":\"\"}}}],\"scattermapbox\":[{\"type\":\"scattermapbox\",\"marker\":{\"colorbar\":{\"outlinewidth\":0,\"ticks\":\"\"}}}],\"scatterternary\":[{\"type\":\"scatterternary\",\"marker\":{\"colorbar\":{\"outlinewidth\":0,\"ticks\":\"\"}}}],\"scattercarpet\":[{\"type\":\"scattercarpet\",\"marker\":{\"colorbar\":{\"outlinewidth\":0,\"ticks\":\"\"}}}],\"carpet\":[{\"aaxis\":{\"endlinecolor\":\"#2a3f5f\",\"gridcolor\":\"white\",\"linecolor\":\"white\",\"minorgridcolor\":\"white\",\"startlinecolor\":\"#2a3f5f\"},\"baxis\":{\"endlinecolor\":\"#2a3f5f\",\"gridcolor\":\"white\",\"linecolor\":\"white\",\"minorgridcolor\":\"white\",\"startlinecolor\":\"#2a3f5f\"},\"type\":\"carpet\"}],\"table\":[{\"cells\":{\"fill\":{\"color\":\"#EBF0F8\"},\"line\":{\"color\":\"white\"}},\"header\":{\"fill\":{\"color\":\"#C8D4E3\"},\"line\":{\"color\":\"white\"}},\"type\":\"table\"}],\"barpolar\":[{\"marker\":{\"line\":{\"color\":\"#E5ECF6\",\"width\":0.5},\"pattern\":{\"fillmode\":\"overlay\",\"size\":10,\"solidity\":0.2}},\"type\":\"barpolar\"}],\"pie\":[{\"automargin\":true,\"type\":\"pie\"}]},\"layout\":{\"autotypenumbers\":\"strict\",\"colorway\":[\"#636efa\",\"#EF553B\",\"#00cc96\",\"#ab63fa\",\"#FFA15A\",\"#19d3f3\",\"#FF6692\",\"#B6E880\",\"#FF97FF\",\"#FECB52\"],\"font\":{\"color\":\"#2a3f5f\"},\"hovermode\":\"closest\",\"hoverlabel\":{\"align\":\"left\"},\"paper_bgcolor\":\"white\",\"plot_bgcolor\":\"#E5ECF6\",\"polar\":{\"bgcolor\":\"#E5ECF6\",\"angularaxis\":{\"gridcolor\":\"white\",\"linecolor\":\"white\",\"ticks\":\"\"},\"radialaxis\":{\"gridcolor\":\"white\",\"linecolor\":\"white\",\"ticks\":\"\"}},\"ternary\":{\"bgcolor\":\"#E5ECF6\",\"aaxis\":{\"gridcolor\":\"white\",\"linecolor\":\"white\",\"ticks\":\"\"},\"baxis\":{\"gridcolor\":\"white\",\"linecolor\":\"white\",\"ticks\":\"\"},\"caxis\":{\"gridcolor\":\"white\",\"linecolor\":\"white\",\"ticks\":\"\"}},\"coloraxis\":{\"colorbar\":{\"outlinewidth\":0,\"ticks\":\"\"}},\"colorscale\":{\"sequential\":[[0.0,\"#0d0887\"],[0.1111111111111111,\"#46039f\"],[0.2222222222222222,\"#7201a8\"],[0.3333333333333333,\"#9c179e\"],[0.4444444444444444,\"#bd3786\"],[0.5555555555555556,\"#d8576b\"],[0.6666666666666666,\"#ed7953\"],[0.7777777777777778,\"#fb9f3a\"],[0.8888888888888888,\"#fdca26\"],[1.0,\"#f0f921\"]],\"sequentialminus\":[[0.0,\"#0d0887\"],[0.1111111111111111,\"#46039f\"],[0.2222222222222222,\"#7201a8\"],[0.3333333333333333,\"#9c179e\"],[0.4444444444444444,\"#bd3786\"],[0.5555555555555556,\"#d8576b\"],[0.6666666666666666,\"#ed7953\"],[0.7777777777777778,\"#fb9f3a\"],[0.8888888888888888,\"#fdca26\"],[1.0,\"#f0f921\"]],\"diverging\":[[0,\"#8e0152\"],[0.1,\"#c51b7d\"],[0.2,\"#de77ae\"],[0.3,\"#f1b6da\"],[0.4,\"#fde0ef\"],[0.5,\"#f7f7f7\"],[0.6,\"#e6f5d0\"],[0.7,\"#b8e186\"],[0.8,\"#7fbc41\"],[0.9,\"#4d9221\"],[1,\"#276419\"]]},\"xaxis\":{\"gridcolor\":\"white\",\"linecolor\":\"white\",\"ticks\":\"\",\"title\":{\"standoff\":15},\"zerolinecolor\":\"white\",\"automargin\":true,\"zerolinewidth\":2},\"yaxis\":{\"gridcolor\":\"white\",\"linecolor\":\"white\",\"ticks\":\"\",\"title\":{\"standoff\":15},\"zerolinecolor\":\"white\",\"automargin\":true,\"zerolinewidth\":2},\"scene\":{\"xaxis\":{\"backgroundcolor\":\"#E5ECF6\",\"gridcolor\":\"white\",\"linecolor\":\"white\",\"showbackground\":true,\"ticks\":\"\",\"zerolinecolor\":\"white\",\"gridwidth\":2},\"yaxis\":{\"backgroundcolor\":\"#E5ECF6\",\"gridcolor\":\"white\",\"linecolor\":\"white\",\"showbackground\":true,\"ticks\":\"\",\"zerolinecolor\":\"white\",\"gridwidth\":2},\"zaxis\":{\"backgroundcolor\":\"#E5ECF6\",\"gridcolor\":\"white\",\"linecolor\":\"white\",\"showbackground\":true,\"ticks\":\"\",\"zerolinecolor\":\"white\",\"gridwidth\":2}},\"shapedefaults\":{\"line\":{\"color\":\"#2a3f5f\"}},\"annotationdefaults\":{\"arrowcolor\":\"#2a3f5f\",\"arrowhead\":0,\"arrowwidth\":1},\"geo\":{\"bgcolor\":\"white\",\"landcolor\":\"#E5ECF6\",\"subunitcolor\":\"white\",\"showland\":true,\"showlakes\":true,\"lakecolor\":\"white\"},\"title\":{\"x\":0.05},\"mapbox\":{\"style\":\"light\"}}},\"xaxis\":{\"anchor\":\"y\",\"domain\":[0.0,1.0],\"title\":{\"text\":\"layer\"}},\"yaxis\":{\"anchor\":\"x\",\"domain\":[0.0,1.0],\"title\":{\"text\":\"score\"}},\"legend\":{\"title\":{\"text\":\"K\"},\"tracegroupgap\":0},\"title\":{\"text\":\"Sparse probe scores for \\\"conv pixel contains mouse1\\\" over resadd layers and K values\"},\"shapes\":[{\"line\":{\"dash\":\"dot\"},\"type\":\"line\",\"x0\":0,\"x1\":1,\"xref\":\"x domain\",\"y0\":1.0,\"y1\":1.0,\"yref\":\"y\"},{\"line\":{\"dash\":\"dot\"},\"type\":\"line\",\"x0\":0,\"x1\":1,\"xref\":\"x domain\",\"y0\":0.5,\"y1\":0.5,\"yref\":\"y\"}],\"annotations\":[{\"showarrow\":false,\"text\":\"perfect\",\"x\":1,\"xanchor\":\"right\",\"xref\":\"x domain\",\"y\":1.0,\"yanchor\":\"top\",\"yref\":\"y\"},{\"showarrow\":false,\"text\":\"baseline\",\"x\":1,\"xanchor\":\"right\",\"xref\":\"x domain\",\"y\":0.5,\"yanchor\":\"top\",\"yref\":\"y\"}]},                        {\"responsive\": true}                    ).then(function(){\n",
       "                            \n",
       "var gd = document.getElementById('5ade7545-e032-4fd1-8557-f8b6bfbd0ff2');\n",
       "var x = new MutationObserver(function (mutations, observer) {{\n",
       "        var display = window.getComputedStyle(gd).display;\n",
       "        if (!display || display === 'none') {{\n",
       "            console.log([gd, 'removed!']);\n",
       "            Plotly.purge(gd);\n",
       "            observer.disconnect();\n",
       "        }}\n",
       "}});\n",
       "\n",
       "// Listen for the removal of the full notebook cells\n",
       "var notebookContainer = gd.closest('#notebook-container');\n",
       "if (notebookContainer) {{\n",
       "    x.observe(notebookContainer, {childList: true});\n",
       "}}\n",
       "\n",
       "// Listen for the clearing of the current output cell\n",
       "var outputEl = gd.closest('.output');\n",
       "if (outputEl) {{\n",
       "    x.observe(outputEl, {childList: true});\n",
       "}}\n",
       "\n",
       "                        })                };                });            </script>        </div>"
      ]
     },
     "metadata": {},
     "output_type": "display_data"
    },
    {
     "name": "stderr",
     "output_type": "stream",
     "text": [
      "100%|██████████| 19/19 [00:02<00:00,  7.69it/s]\n"
     ]
    },
    {
     "data": {
      "application/vnd.plotly.v1+json": {
       "config": {
        "plotlyServerURL": "https://plot.ly"
       },
       "data": [
        {
         "hovertemplate": "K=1<br>layer=%{x}<br>score=%{y}<extra></extra>",
         "legendgroup": "1",
         "line": {
          "color": "#636efa",
          "dash": "solid"
         },
         "marker": {
          "symbol": "circle"
         },
         "mode": "lines",
         "name": "1",
         "orientation": "v",
         "showlegend": true,
         "type": "scatter",
         "x": [
          "embedder.block1.conv_in0",
          "embedder.block1.res1.relu1_out",
          "embedder.block1.res1.resadd_out",
          "embedder.block1.res1.relu2_out",
          "embedder.block1.res2.relu1_out",
          "embedder.block1.res2.resadd_out",
          "embedder.block1.res2.relu2_out",
          "embedder.block2.res1.relu1_out",
          "embedder.block2.res1.resadd_out",
          "embedder.block2.res1.relu2_out",
          "embedder.block2.res2.relu1_out",
          "embedder.block2.res2.resadd_out",
          "embedder.block2.res2.relu2_out",
          "embedder.block3.res1.relu1_out",
          "embedder.block3.res1.resadd_out",
          "embedder.block3.res1.relu2_out",
          "embedder.block3.res2.relu1_out",
          "embedder.block3.res2.resadd_out",
          "embedder.block3.res2.relu2_out"
         ],
         "xaxis": "x",
         "y": [
          0.975,
          0.9125,
          0.8625,
          0.6375,
          0.875,
          0.875,
          0.7,
          0.7625,
          0.675,
          0.725,
          0.75,
          0.6,
          0.45,
          0.6875,
          0.7125,
          0.6,
          0.65,
          0.625,
          0.65
         ],
         "yaxis": "y"
        },
        {
         "hovertemplate": "K=2<br>layer=%{x}<br>score=%{y}<extra></extra>",
         "legendgroup": "2",
         "line": {
          "color": "#EF553B",
          "dash": "solid"
         },
         "marker": {
          "symbol": "circle"
         },
         "mode": "lines",
         "name": "2",
         "orientation": "v",
         "showlegend": true,
         "type": "scatter",
         "x": [
          "embedder.block1.conv_in0",
          "embedder.block1.res1.relu1_out",
          "embedder.block1.res1.resadd_out",
          "embedder.block1.res1.relu2_out",
          "embedder.block1.res2.relu1_out",
          "embedder.block1.res2.resadd_out",
          "embedder.block1.res2.relu2_out",
          "embedder.block2.res1.relu1_out",
          "embedder.block2.res1.resadd_out",
          "embedder.block2.res1.relu2_out",
          "embedder.block2.res2.relu1_out",
          "embedder.block2.res2.resadd_out",
          "embedder.block2.res2.relu2_out",
          "embedder.block3.res1.relu1_out",
          "embedder.block3.res1.resadd_out",
          "embedder.block3.res1.relu2_out",
          "embedder.block3.res2.relu1_out",
          "embedder.block3.res2.resadd_out",
          "embedder.block3.res2.relu2_out"
         ],
         "xaxis": "x",
         "y": [
          0.975,
          0.9625,
          0.925,
          0.7,
          0.9375,
          0.925,
          0.775,
          0.7875,
          0.675,
          0.75,
          0.775,
          0.65,
          0.725,
          0.725,
          0.75,
          0.7,
          0.6375,
          0.5875,
          0.6625
         ],
         "yaxis": "y"
        },
        {
         "hovertemplate": "K=3<br>layer=%{x}<br>score=%{y}<extra></extra>",
         "legendgroup": "3",
         "line": {
          "color": "#00cc96",
          "dash": "solid"
         },
         "marker": {
          "symbol": "circle"
         },
         "mode": "lines",
         "name": "3",
         "orientation": "v",
         "showlegend": true,
         "type": "scatter",
         "x": [
          "embedder.block1.conv_in0",
          "embedder.block1.res1.relu1_out",
          "embedder.block1.res1.resadd_out",
          "embedder.block1.res1.relu2_out",
          "embedder.block1.res2.relu1_out",
          "embedder.block1.res2.resadd_out",
          "embedder.block1.res2.relu2_out",
          "embedder.block2.res1.relu1_out",
          "embedder.block2.res1.resadd_out",
          "embedder.block2.res1.relu2_out",
          "embedder.block2.res2.relu1_out",
          "embedder.block2.res2.resadd_out",
          "embedder.block2.res2.relu2_out",
          "embedder.block3.res1.relu1_out",
          "embedder.block3.res1.resadd_out",
          "embedder.block3.res1.relu2_out",
          "embedder.block3.res2.relu1_out",
          "embedder.block3.res2.resadd_out",
          "embedder.block3.res2.relu2_out"
         ],
         "xaxis": "x",
         "y": [
          0.975,
          0.9625,
          0.9375,
          0.7,
          0.9375,
          0.9625,
          0.825,
          0.8,
          0.6875,
          0.725,
          0.7125,
          0.7125,
          0.525,
          0.6875,
          0.7125,
          0.7,
          0.6625,
          0.65,
          0.675
         ],
         "yaxis": "y"
        },
        {
         "hovertemplate": "K=4<br>layer=%{x}<br>score=%{y}<extra></extra>",
         "legendgroup": "4",
         "line": {
          "color": "#ab63fa",
          "dash": "solid"
         },
         "marker": {
          "symbol": "circle"
         },
         "mode": "lines",
         "name": "4",
         "orientation": "v",
         "showlegend": true,
         "type": "scatter",
         "x": [
          "embedder.block1.conv_in0",
          "embedder.block1.res1.relu1_out",
          "embedder.block1.res1.resadd_out",
          "embedder.block1.res1.relu2_out",
          "embedder.block1.res2.relu1_out",
          "embedder.block1.res2.resadd_out",
          "embedder.block1.res2.relu2_out",
          "embedder.block2.res1.relu1_out",
          "embedder.block2.res1.resadd_out",
          "embedder.block2.res1.relu2_out",
          "embedder.block2.res2.relu1_out",
          "embedder.block2.res2.resadd_out",
          "embedder.block2.res2.relu2_out",
          "embedder.block3.res1.relu1_out",
          "embedder.block3.res1.resadd_out",
          "embedder.block3.res1.relu2_out",
          "embedder.block3.res2.relu1_out",
          "embedder.block3.res2.resadd_out",
          "embedder.block3.res2.relu2_out"
         ],
         "xaxis": "x",
         "y": [
          0.975,
          0.9625,
          0.95,
          0.7,
          0.95,
          0.9625,
          0.8375,
          0.8,
          0.675,
          0.75,
          0.725,
          0.6125,
          0.5875,
          0.7,
          0.675,
          0.75,
          0.7,
          0.6375,
          0.675
         ],
         "yaxis": "y"
        },
        {
         "hovertemplate": "K=5<br>layer=%{x}<br>score=%{y}<extra></extra>",
         "legendgroup": "5",
         "line": {
          "color": "#FFA15A",
          "dash": "solid"
         },
         "marker": {
          "symbol": "circle"
         },
         "mode": "lines",
         "name": "5",
         "orientation": "v",
         "showlegend": true,
         "type": "scatter",
         "x": [
          "embedder.block1.conv_in0",
          "embedder.block1.res1.relu1_out",
          "embedder.block1.res1.resadd_out",
          "embedder.block1.res1.relu2_out",
          "embedder.block1.res2.relu1_out",
          "embedder.block1.res2.resadd_out",
          "embedder.block1.res2.relu2_out",
          "embedder.block2.res1.relu1_out",
          "embedder.block2.res1.resadd_out",
          "embedder.block2.res1.relu2_out",
          "embedder.block2.res2.relu1_out",
          "embedder.block2.res2.resadd_out",
          "embedder.block2.res2.relu2_out",
          "embedder.block3.res1.relu1_out",
          "embedder.block3.res1.resadd_out",
          "embedder.block3.res1.relu2_out",
          "embedder.block3.res2.relu1_out",
          "embedder.block3.res2.resadd_out",
          "embedder.block3.res2.relu2_out"
         ],
         "xaxis": "x",
         "y": [
          0.975,
          0.9625,
          0.95,
          0.75,
          0.95,
          0.95,
          0.8625,
          0.85,
          0.675,
          0.75,
          0.7125,
          0.65,
          0.625,
          0.7125,
          0.675,
          0.7625,
          0.725,
          0.7125,
          0.6375
         ],
         "yaxis": "y"
        },
        {
         "hovertemplate": "K=6<br>layer=%{x}<br>score=%{y}<extra></extra>",
         "legendgroup": "6",
         "line": {
          "color": "#19d3f3",
          "dash": "solid"
         },
         "marker": {
          "symbol": "circle"
         },
         "mode": "lines",
         "name": "6",
         "orientation": "v",
         "showlegend": true,
         "type": "scatter",
         "x": [
          "embedder.block1.conv_in0",
          "embedder.block1.res1.relu1_out",
          "embedder.block1.res1.resadd_out",
          "embedder.block1.res1.relu2_out",
          "embedder.block1.res2.relu1_out",
          "embedder.block1.res2.resadd_out",
          "embedder.block1.res2.relu2_out",
          "embedder.block2.res1.relu1_out",
          "embedder.block2.res1.resadd_out",
          "embedder.block2.res1.relu2_out",
          "embedder.block2.res2.relu1_out",
          "embedder.block2.res2.resadd_out",
          "embedder.block2.res2.relu2_out",
          "embedder.block3.res1.relu1_out",
          "embedder.block3.res1.resadd_out",
          "embedder.block3.res1.relu2_out",
          "embedder.block3.res2.relu1_out",
          "embedder.block3.res2.resadd_out",
          "embedder.block3.res2.relu2_out"
         ],
         "xaxis": "x",
         "y": [
          0.975,
          0.9625,
          0.95,
          0.75,
          0.95,
          0.95,
          0.875,
          0.8125,
          0.6875,
          0.75,
          0.7125,
          0.6375,
          0.6375,
          0.7,
          0.7125,
          0.775,
          0.7125,
          0.7375,
          0.6625
         ],
         "yaxis": "y"
        },
        {
         "hovertemplate": "K=7<br>layer=%{x}<br>score=%{y}<extra></extra>",
         "legendgroup": "7",
         "line": {
          "color": "#FF6692",
          "dash": "solid"
         },
         "marker": {
          "symbol": "circle"
         },
         "mode": "lines",
         "name": "7",
         "orientation": "v",
         "showlegend": true,
         "type": "scatter",
         "x": [
          "embedder.block1.conv_in0",
          "embedder.block1.res1.relu1_out",
          "embedder.block1.res1.resadd_out",
          "embedder.block1.res1.relu2_out",
          "embedder.block1.res2.relu1_out",
          "embedder.block1.res2.resadd_out",
          "embedder.block1.res2.relu2_out",
          "embedder.block2.res1.relu1_out",
          "embedder.block2.res1.resadd_out",
          "embedder.block2.res1.relu2_out",
          "embedder.block2.res2.relu1_out",
          "embedder.block2.res2.resadd_out",
          "embedder.block2.res2.relu2_out",
          "embedder.block3.res1.relu1_out",
          "embedder.block3.res1.resadd_out",
          "embedder.block3.res1.relu2_out",
          "embedder.block3.res2.relu1_out",
          "embedder.block3.res2.resadd_out",
          "embedder.block3.res2.relu2_out"
         ],
         "xaxis": "x",
         "y": [
          0.975,
          0.975,
          0.9375,
          0.7375,
          0.9625,
          0.95,
          0.8875,
          0.825,
          0.75,
          0.75,
          0.7125,
          0.6375,
          0.6625,
          0.675,
          0.7375,
          0.7875,
          0.7125,
          0.725,
          0.65
         ],
         "yaxis": "y"
        },
        {
         "hovertemplate": "K=8<br>layer=%{x}<br>score=%{y}<extra></extra>",
         "legendgroup": "8",
         "line": {
          "color": "#B6E880",
          "dash": "solid"
         },
         "marker": {
          "symbol": "circle"
         },
         "mode": "lines",
         "name": "8",
         "orientation": "v",
         "showlegend": true,
         "type": "scatter",
         "x": [
          "embedder.block1.conv_in0",
          "embedder.block1.res1.relu1_out",
          "embedder.block1.res1.resadd_out",
          "embedder.block1.res1.relu2_out",
          "embedder.block1.res2.relu1_out",
          "embedder.block1.res2.resadd_out",
          "embedder.block1.res2.relu2_out",
          "embedder.block2.res1.relu1_out",
          "embedder.block2.res1.resadd_out",
          "embedder.block2.res1.relu2_out",
          "embedder.block2.res2.relu1_out",
          "embedder.block2.res2.resadd_out",
          "embedder.block2.res2.relu2_out",
          "embedder.block3.res1.relu1_out",
          "embedder.block3.res1.resadd_out",
          "embedder.block3.res1.relu2_out",
          "embedder.block3.res2.relu1_out",
          "embedder.block3.res2.resadd_out",
          "embedder.block3.res2.relu2_out"
         ],
         "xaxis": "x",
         "y": [
          0.975,
          0.9875,
          0.925,
          0.7375,
          0.9625,
          0.95,
          0.8875,
          0.8375,
          0.7625,
          0.75,
          0.6875,
          0.725,
          0.625,
          0.675,
          0.725,
          0.7625,
          0.7125,
          0.725,
          0.6625
         ],
         "yaxis": "y"
        },
        {
         "hovertemplate": "K=9<br>layer=%{x}<br>score=%{y}<extra></extra>",
         "legendgroup": "9",
         "line": {
          "color": "#FF97FF",
          "dash": "solid"
         },
         "marker": {
          "symbol": "circle"
         },
         "mode": "lines",
         "name": "9",
         "orientation": "v",
         "showlegend": true,
         "type": "scatter",
         "x": [
          "embedder.block1.conv_in0",
          "embedder.block1.res1.relu1_out",
          "embedder.block1.res1.resadd_out",
          "embedder.block1.res1.relu2_out",
          "embedder.block1.res2.relu1_out",
          "embedder.block1.res2.resadd_out",
          "embedder.block1.res2.relu2_out",
          "embedder.block2.res1.relu1_out",
          "embedder.block2.res1.resadd_out",
          "embedder.block2.res1.relu2_out",
          "embedder.block2.res2.relu1_out",
          "embedder.block2.res2.resadd_out",
          "embedder.block2.res2.relu2_out",
          "embedder.block3.res1.relu1_out",
          "embedder.block3.res1.resadd_out",
          "embedder.block3.res1.relu2_out",
          "embedder.block3.res2.relu1_out",
          "embedder.block3.res2.resadd_out",
          "embedder.block3.res2.relu2_out"
         ],
         "xaxis": "x",
         "y": [
          0.975,
          0.9875,
          0.9375,
          0.75,
          0.95,
          0.95,
          0.875,
          0.8125,
          0.7625,
          0.75,
          0.725,
          0.7125,
          0.625,
          0.6875,
          0.7125,
          0.7375,
          0.75,
          0.725,
          0.6625
         ],
         "yaxis": "y"
        },
        {
         "hovertemplate": "K=10<br>layer=%{x}<br>score=%{y}<extra></extra>",
         "legendgroup": "10",
         "line": {
          "color": "#FECB52",
          "dash": "solid"
         },
         "marker": {
          "symbol": "circle"
         },
         "mode": "lines",
         "name": "10",
         "orientation": "v",
         "showlegend": true,
         "type": "scatter",
         "x": [
          "embedder.block1.conv_in0",
          "embedder.block1.res1.relu1_out",
          "embedder.block1.res1.resadd_out",
          "embedder.block1.res1.relu2_out",
          "embedder.block1.res2.relu1_out",
          "embedder.block1.res2.resadd_out",
          "embedder.block1.res2.relu2_out",
          "embedder.block2.res1.relu1_out",
          "embedder.block2.res1.resadd_out",
          "embedder.block2.res1.relu2_out",
          "embedder.block2.res2.relu1_out",
          "embedder.block2.res2.resadd_out",
          "embedder.block2.res2.relu2_out",
          "embedder.block3.res1.relu1_out",
          "embedder.block3.res1.resadd_out",
          "embedder.block3.res1.relu2_out",
          "embedder.block3.res2.relu1_out",
          "embedder.block3.res2.resadd_out",
          "embedder.block3.res2.relu2_out"
         ],
         "xaxis": "x",
         "y": [
          0.975,
          1,
          0.9625,
          0.75,
          0.975,
          0.95,
          0.875,
          0.825,
          0.7375,
          0.7375,
          0.725,
          0.675,
          0.625,
          0.6875,
          0.7375,
          0.7375,
          0.7,
          0.725,
          0.7125
         ],
         "yaxis": "y"
        }
       ],
       "layout": {
        "annotations": [
         {
          "showarrow": false,
          "text": "perfect",
          "x": 1,
          "xanchor": "right",
          "xref": "x domain",
          "y": 1,
          "yanchor": "top",
          "yref": "y"
         },
         {
          "showarrow": false,
          "text": "baseline",
          "x": 1,
          "xanchor": "right",
          "xref": "x domain",
          "y": 0.5,
          "yanchor": "top",
          "yref": "y"
         }
        ],
        "legend": {
         "title": {
          "text": "K"
         },
         "tracegroupgap": 0
        },
        "shapes": [
         {
          "line": {
           "dash": "dot"
          },
          "type": "line",
          "x0": 0,
          "x1": 1,
          "xref": "x domain",
          "y0": 1,
          "y1": 1,
          "yref": "y"
         },
         {
          "line": {
           "dash": "dot"
          },
          "type": "line",
          "x0": 0,
          "x1": 1,
          "xref": "x domain",
          "y0": 0.5,
          "y1": 0.5,
          "yref": "y"
         }
        ],
        "template": {
         "data": {
          "bar": [
           {
            "error_x": {
             "color": "#2a3f5f"
            },
            "error_y": {
             "color": "#2a3f5f"
            },
            "marker": {
             "line": {
              "color": "#E5ECF6",
              "width": 0.5
             },
             "pattern": {
              "fillmode": "overlay",
              "size": 10,
              "solidity": 0.2
             }
            },
            "type": "bar"
           }
          ],
          "barpolar": [
           {
            "marker": {
             "line": {
              "color": "#E5ECF6",
              "width": 0.5
             },
             "pattern": {
              "fillmode": "overlay",
              "size": 10,
              "solidity": 0.2
             }
            },
            "type": "barpolar"
           }
          ],
          "carpet": [
           {
            "aaxis": {
             "endlinecolor": "#2a3f5f",
             "gridcolor": "white",
             "linecolor": "white",
             "minorgridcolor": "white",
             "startlinecolor": "#2a3f5f"
            },
            "baxis": {
             "endlinecolor": "#2a3f5f",
             "gridcolor": "white",
             "linecolor": "white",
             "minorgridcolor": "white",
             "startlinecolor": "#2a3f5f"
            },
            "type": "carpet"
           }
          ],
          "choropleth": [
           {
            "colorbar": {
             "outlinewidth": 0,
             "ticks": ""
            },
            "type": "choropleth"
           }
          ],
          "contour": [
           {
            "colorbar": {
             "outlinewidth": 0,
             "ticks": ""
            },
            "colorscale": [
             [
              0,
              "#0d0887"
             ],
             [
              0.1111111111111111,
              "#46039f"
             ],
             [
              0.2222222222222222,
              "#7201a8"
             ],
             [
              0.3333333333333333,
              "#9c179e"
             ],
             [
              0.4444444444444444,
              "#bd3786"
             ],
             [
              0.5555555555555556,
              "#d8576b"
             ],
             [
              0.6666666666666666,
              "#ed7953"
             ],
             [
              0.7777777777777778,
              "#fb9f3a"
             ],
             [
              0.8888888888888888,
              "#fdca26"
             ],
             [
              1,
              "#f0f921"
             ]
            ],
            "type": "contour"
           }
          ],
          "contourcarpet": [
           {
            "colorbar": {
             "outlinewidth": 0,
             "ticks": ""
            },
            "type": "contourcarpet"
           }
          ],
          "heatmap": [
           {
            "colorbar": {
             "outlinewidth": 0,
             "ticks": ""
            },
            "colorscale": [
             [
              0,
              "#0d0887"
             ],
             [
              0.1111111111111111,
              "#46039f"
             ],
             [
              0.2222222222222222,
              "#7201a8"
             ],
             [
              0.3333333333333333,
              "#9c179e"
             ],
             [
              0.4444444444444444,
              "#bd3786"
             ],
             [
              0.5555555555555556,
              "#d8576b"
             ],
             [
              0.6666666666666666,
              "#ed7953"
             ],
             [
              0.7777777777777778,
              "#fb9f3a"
             ],
             [
              0.8888888888888888,
              "#fdca26"
             ],
             [
              1,
              "#f0f921"
             ]
            ],
            "type": "heatmap"
           }
          ],
          "heatmapgl": [
           {
            "colorbar": {
             "outlinewidth": 0,
             "ticks": ""
            },
            "colorscale": [
             [
              0,
              "#0d0887"
             ],
             [
              0.1111111111111111,
              "#46039f"
             ],
             [
              0.2222222222222222,
              "#7201a8"
             ],
             [
              0.3333333333333333,
              "#9c179e"
             ],
             [
              0.4444444444444444,
              "#bd3786"
             ],
             [
              0.5555555555555556,
              "#d8576b"
             ],
             [
              0.6666666666666666,
              "#ed7953"
             ],
             [
              0.7777777777777778,
              "#fb9f3a"
             ],
             [
              0.8888888888888888,
              "#fdca26"
             ],
             [
              1,
              "#f0f921"
             ]
            ],
            "type": "heatmapgl"
           }
          ],
          "histogram": [
           {
            "marker": {
             "pattern": {
              "fillmode": "overlay",
              "size": 10,
              "solidity": 0.2
             }
            },
            "type": "histogram"
           }
          ],
          "histogram2d": [
           {
            "colorbar": {
             "outlinewidth": 0,
             "ticks": ""
            },
            "colorscale": [
             [
              0,
              "#0d0887"
             ],
             [
              0.1111111111111111,
              "#46039f"
             ],
             [
              0.2222222222222222,
              "#7201a8"
             ],
             [
              0.3333333333333333,
              "#9c179e"
             ],
             [
              0.4444444444444444,
              "#bd3786"
             ],
             [
              0.5555555555555556,
              "#d8576b"
             ],
             [
              0.6666666666666666,
              "#ed7953"
             ],
             [
              0.7777777777777778,
              "#fb9f3a"
             ],
             [
              0.8888888888888888,
              "#fdca26"
             ],
             [
              1,
              "#f0f921"
             ]
            ],
            "type": "histogram2d"
           }
          ],
          "histogram2dcontour": [
           {
            "colorbar": {
             "outlinewidth": 0,
             "ticks": ""
            },
            "colorscale": [
             [
              0,
              "#0d0887"
             ],
             [
              0.1111111111111111,
              "#46039f"
             ],
             [
              0.2222222222222222,
              "#7201a8"
             ],
             [
              0.3333333333333333,
              "#9c179e"
             ],
             [
              0.4444444444444444,
              "#bd3786"
             ],
             [
              0.5555555555555556,
              "#d8576b"
             ],
             [
              0.6666666666666666,
              "#ed7953"
             ],
             [
              0.7777777777777778,
              "#fb9f3a"
             ],
             [
              0.8888888888888888,
              "#fdca26"
             ],
             [
              1,
              "#f0f921"
             ]
            ],
            "type": "histogram2dcontour"
           }
          ],
          "mesh3d": [
           {
            "colorbar": {
             "outlinewidth": 0,
             "ticks": ""
            },
            "type": "mesh3d"
           }
          ],
          "parcoords": [
           {
            "line": {
             "colorbar": {
              "outlinewidth": 0,
              "ticks": ""
             }
            },
            "type": "parcoords"
           }
          ],
          "pie": [
           {
            "automargin": true,
            "type": "pie"
           }
          ],
          "scatter": [
           {
            "fillpattern": {
             "fillmode": "overlay",
             "size": 10,
             "solidity": 0.2
            },
            "type": "scatter"
           }
          ],
          "scatter3d": [
           {
            "line": {
             "colorbar": {
              "outlinewidth": 0,
              "ticks": ""
             }
            },
            "marker": {
             "colorbar": {
              "outlinewidth": 0,
              "ticks": ""
             }
            },
            "type": "scatter3d"
           }
          ],
          "scattercarpet": [
           {
            "marker": {
             "colorbar": {
              "outlinewidth": 0,
              "ticks": ""
             }
            },
            "type": "scattercarpet"
           }
          ],
          "scattergeo": [
           {
            "marker": {
             "colorbar": {
              "outlinewidth": 0,
              "ticks": ""
             }
            },
            "type": "scattergeo"
           }
          ],
          "scattergl": [
           {
            "marker": {
             "colorbar": {
              "outlinewidth": 0,
              "ticks": ""
             }
            },
            "type": "scattergl"
           }
          ],
          "scattermapbox": [
           {
            "marker": {
             "colorbar": {
              "outlinewidth": 0,
              "ticks": ""
             }
            },
            "type": "scattermapbox"
           }
          ],
          "scatterpolar": [
           {
            "marker": {
             "colorbar": {
              "outlinewidth": 0,
              "ticks": ""
             }
            },
            "type": "scatterpolar"
           }
          ],
          "scatterpolargl": [
           {
            "marker": {
             "colorbar": {
              "outlinewidth": 0,
              "ticks": ""
             }
            },
            "type": "scatterpolargl"
           }
          ],
          "scatterternary": [
           {
            "marker": {
             "colorbar": {
              "outlinewidth": 0,
              "ticks": ""
             }
            },
            "type": "scatterternary"
           }
          ],
          "surface": [
           {
            "colorbar": {
             "outlinewidth": 0,
             "ticks": ""
            },
            "colorscale": [
             [
              0,
              "#0d0887"
             ],
             [
              0.1111111111111111,
              "#46039f"
             ],
             [
              0.2222222222222222,
              "#7201a8"
             ],
             [
              0.3333333333333333,
              "#9c179e"
             ],
             [
              0.4444444444444444,
              "#bd3786"
             ],
             [
              0.5555555555555556,
              "#d8576b"
             ],
             [
              0.6666666666666666,
              "#ed7953"
             ],
             [
              0.7777777777777778,
              "#fb9f3a"
             ],
             [
              0.8888888888888888,
              "#fdca26"
             ],
             [
              1,
              "#f0f921"
             ]
            ],
            "type": "surface"
           }
          ],
          "table": [
           {
            "cells": {
             "fill": {
              "color": "#EBF0F8"
             },
             "line": {
              "color": "white"
             }
            },
            "header": {
             "fill": {
              "color": "#C8D4E3"
             },
             "line": {
              "color": "white"
             }
            },
            "type": "table"
           }
          ]
         },
         "layout": {
          "annotationdefaults": {
           "arrowcolor": "#2a3f5f",
           "arrowhead": 0,
           "arrowwidth": 1
          },
          "autotypenumbers": "strict",
          "coloraxis": {
           "colorbar": {
            "outlinewidth": 0,
            "ticks": ""
           }
          },
          "colorscale": {
           "diverging": [
            [
             0,
             "#8e0152"
            ],
            [
             0.1,
             "#c51b7d"
            ],
            [
             0.2,
             "#de77ae"
            ],
            [
             0.3,
             "#f1b6da"
            ],
            [
             0.4,
             "#fde0ef"
            ],
            [
             0.5,
             "#f7f7f7"
            ],
            [
             0.6,
             "#e6f5d0"
            ],
            [
             0.7,
             "#b8e186"
            ],
            [
             0.8,
             "#7fbc41"
            ],
            [
             0.9,
             "#4d9221"
            ],
            [
             1,
             "#276419"
            ]
           ],
           "sequential": [
            [
             0,
             "#0d0887"
            ],
            [
             0.1111111111111111,
             "#46039f"
            ],
            [
             0.2222222222222222,
             "#7201a8"
            ],
            [
             0.3333333333333333,
             "#9c179e"
            ],
            [
             0.4444444444444444,
             "#bd3786"
            ],
            [
             0.5555555555555556,
             "#d8576b"
            ],
            [
             0.6666666666666666,
             "#ed7953"
            ],
            [
             0.7777777777777778,
             "#fb9f3a"
            ],
            [
             0.8888888888888888,
             "#fdca26"
            ],
            [
             1,
             "#f0f921"
            ]
           ],
           "sequentialminus": [
            [
             0,
             "#0d0887"
            ],
            [
             0.1111111111111111,
             "#46039f"
            ],
            [
             0.2222222222222222,
             "#7201a8"
            ],
            [
             0.3333333333333333,
             "#9c179e"
            ],
            [
             0.4444444444444444,
             "#bd3786"
            ],
            [
             0.5555555555555556,
             "#d8576b"
            ],
            [
             0.6666666666666666,
             "#ed7953"
            ],
            [
             0.7777777777777778,
             "#fb9f3a"
            ],
            [
             0.8888888888888888,
             "#fdca26"
            ],
            [
             1,
             "#f0f921"
            ]
           ]
          },
          "colorway": [
           "#636efa",
           "#EF553B",
           "#00cc96",
           "#ab63fa",
           "#FFA15A",
           "#19d3f3",
           "#FF6692",
           "#B6E880",
           "#FF97FF",
           "#FECB52"
          ],
          "font": {
           "color": "#2a3f5f"
          },
          "geo": {
           "bgcolor": "white",
           "lakecolor": "white",
           "landcolor": "#E5ECF6",
           "showlakes": true,
           "showland": true,
           "subunitcolor": "white"
          },
          "hoverlabel": {
           "align": "left"
          },
          "hovermode": "closest",
          "mapbox": {
           "style": "light"
          },
          "paper_bgcolor": "white",
          "plot_bgcolor": "#E5ECF6",
          "polar": {
           "angularaxis": {
            "gridcolor": "white",
            "linecolor": "white",
            "ticks": ""
           },
           "bgcolor": "#E5ECF6",
           "radialaxis": {
            "gridcolor": "white",
            "linecolor": "white",
            "ticks": ""
           }
          },
          "scene": {
           "xaxis": {
            "backgroundcolor": "#E5ECF6",
            "gridcolor": "white",
            "gridwidth": 2,
            "linecolor": "white",
            "showbackground": true,
            "ticks": "",
            "zerolinecolor": "white"
           },
           "yaxis": {
            "backgroundcolor": "#E5ECF6",
            "gridcolor": "white",
            "gridwidth": 2,
            "linecolor": "white",
            "showbackground": true,
            "ticks": "",
            "zerolinecolor": "white"
           },
           "zaxis": {
            "backgroundcolor": "#E5ECF6",
            "gridcolor": "white",
            "gridwidth": 2,
            "linecolor": "white",
            "showbackground": true,
            "ticks": "",
            "zerolinecolor": "white"
           }
          },
          "shapedefaults": {
           "line": {
            "color": "#2a3f5f"
           }
          },
          "ternary": {
           "aaxis": {
            "gridcolor": "white",
            "linecolor": "white",
            "ticks": ""
           },
           "baxis": {
            "gridcolor": "white",
            "linecolor": "white",
            "ticks": ""
           },
           "bgcolor": "#E5ECF6",
           "caxis": {
            "gridcolor": "white",
            "linecolor": "white",
            "ticks": ""
           }
          },
          "title": {
           "x": 0.05
          },
          "xaxis": {
           "automargin": true,
           "gridcolor": "white",
           "linecolor": "white",
           "ticks": "",
           "title": {
            "standoff": 15
           },
           "zerolinecolor": "white",
           "zerolinewidth": 2
          },
          "yaxis": {
           "automargin": true,
           "gridcolor": "white",
           "linecolor": "white",
           "ticks": "",
           "title": {
            "standoff": 15
           },
           "zerolinecolor": "white",
           "zerolinewidth": 2
          }
         }
        },
        "title": {
         "text": "Sparse probe scores for \"conv pixel contains cheese2\" over resadd layers and K values"
        },
        "xaxis": {
         "anchor": "y",
         "domain": [
          0,
          1
         ],
         "title": {
          "text": "layer"
         }
        },
        "yaxis": {
         "anchor": "x",
         "domain": [
          0,
          1
         ],
         "title": {
          "text": "score"
         }
        }
       }
      },
      "text/html": [
       "<div>                            <div id=\"c8356ac3-9044-4456-9d30-4c7e8beefdab\" class=\"plotly-graph-div\" style=\"height:525px; width:100%;\"></div>            <script type=\"text/javascript\">                require([\"plotly\"], function(Plotly) {                    window.PLOTLYENV=window.PLOTLYENV || {};                                    if (document.getElementById(\"c8356ac3-9044-4456-9d30-4c7e8beefdab\")) {                    Plotly.newPlot(                        \"c8356ac3-9044-4456-9d30-4c7e8beefdab\",                        [{\"hovertemplate\":\"K=1\\u003cbr\\u003elayer=%{x}\\u003cbr\\u003escore=%{y}\\u003cextra\\u003e\\u003c\\u002fextra\\u003e\",\"legendgroup\":\"1\",\"line\":{\"color\":\"#636efa\",\"dash\":\"solid\"},\"marker\":{\"symbol\":\"circle\"},\"mode\":\"lines\",\"name\":\"1\",\"orientation\":\"v\",\"showlegend\":true,\"x\":[\"embedder.block1.conv_in0\",\"embedder.block1.res1.relu1_out\",\"embedder.block1.res1.resadd_out\",\"embedder.block1.res1.relu2_out\",\"embedder.block1.res2.relu1_out\",\"embedder.block1.res2.resadd_out\",\"embedder.block1.res2.relu2_out\",\"embedder.block2.res1.relu1_out\",\"embedder.block2.res1.resadd_out\",\"embedder.block2.res1.relu2_out\",\"embedder.block2.res2.relu1_out\",\"embedder.block2.res2.resadd_out\",\"embedder.block2.res2.relu2_out\",\"embedder.block3.res1.relu1_out\",\"embedder.block3.res1.resadd_out\",\"embedder.block3.res1.relu2_out\",\"embedder.block3.res2.relu1_out\",\"embedder.block3.res2.resadd_out\",\"embedder.block3.res2.relu2_out\"],\"xaxis\":\"x\",\"y\":[0.975,0.9125,0.8625,0.6375,0.875,0.875,0.7,0.7625,0.675,0.725,0.75,0.6,0.45,0.6875,0.7125,0.6,0.65,0.625,0.65],\"yaxis\":\"y\",\"type\":\"scatter\"},{\"hovertemplate\":\"K=2\\u003cbr\\u003elayer=%{x}\\u003cbr\\u003escore=%{y}\\u003cextra\\u003e\\u003c\\u002fextra\\u003e\",\"legendgroup\":\"2\",\"line\":{\"color\":\"#EF553B\",\"dash\":\"solid\"},\"marker\":{\"symbol\":\"circle\"},\"mode\":\"lines\",\"name\":\"2\",\"orientation\":\"v\",\"showlegend\":true,\"x\":[\"embedder.block1.conv_in0\",\"embedder.block1.res1.relu1_out\",\"embedder.block1.res1.resadd_out\",\"embedder.block1.res1.relu2_out\",\"embedder.block1.res2.relu1_out\",\"embedder.block1.res2.resadd_out\",\"embedder.block1.res2.relu2_out\",\"embedder.block2.res1.relu1_out\",\"embedder.block2.res1.resadd_out\",\"embedder.block2.res1.relu2_out\",\"embedder.block2.res2.relu1_out\",\"embedder.block2.res2.resadd_out\",\"embedder.block2.res2.relu2_out\",\"embedder.block3.res1.relu1_out\",\"embedder.block3.res1.resadd_out\",\"embedder.block3.res1.relu2_out\",\"embedder.block3.res2.relu1_out\",\"embedder.block3.res2.resadd_out\",\"embedder.block3.res2.relu2_out\"],\"xaxis\":\"x\",\"y\":[0.975,0.9625,0.925,0.7,0.9375,0.925,0.775,0.7875,0.675,0.75,0.775,0.65,0.725,0.725,0.75,0.7,0.6375,0.5875,0.6625],\"yaxis\":\"y\",\"type\":\"scatter\"},{\"hovertemplate\":\"K=3\\u003cbr\\u003elayer=%{x}\\u003cbr\\u003escore=%{y}\\u003cextra\\u003e\\u003c\\u002fextra\\u003e\",\"legendgroup\":\"3\",\"line\":{\"color\":\"#00cc96\",\"dash\":\"solid\"},\"marker\":{\"symbol\":\"circle\"},\"mode\":\"lines\",\"name\":\"3\",\"orientation\":\"v\",\"showlegend\":true,\"x\":[\"embedder.block1.conv_in0\",\"embedder.block1.res1.relu1_out\",\"embedder.block1.res1.resadd_out\",\"embedder.block1.res1.relu2_out\",\"embedder.block1.res2.relu1_out\",\"embedder.block1.res2.resadd_out\",\"embedder.block1.res2.relu2_out\",\"embedder.block2.res1.relu1_out\",\"embedder.block2.res1.resadd_out\",\"embedder.block2.res1.relu2_out\",\"embedder.block2.res2.relu1_out\",\"embedder.block2.res2.resadd_out\",\"embedder.block2.res2.relu2_out\",\"embedder.block3.res1.relu1_out\",\"embedder.block3.res1.resadd_out\",\"embedder.block3.res1.relu2_out\",\"embedder.block3.res2.relu1_out\",\"embedder.block3.res2.resadd_out\",\"embedder.block3.res2.relu2_out\"],\"xaxis\":\"x\",\"y\":[0.975,0.9625,0.9375,0.7,0.9375,0.9625,0.825,0.8,0.6875,0.725,0.7125,0.7125,0.525,0.6875,0.7125,0.7,0.6625,0.65,0.675],\"yaxis\":\"y\",\"type\":\"scatter\"},{\"hovertemplate\":\"K=4\\u003cbr\\u003elayer=%{x}\\u003cbr\\u003escore=%{y}\\u003cextra\\u003e\\u003c\\u002fextra\\u003e\",\"legendgroup\":\"4\",\"line\":{\"color\":\"#ab63fa\",\"dash\":\"solid\"},\"marker\":{\"symbol\":\"circle\"},\"mode\":\"lines\",\"name\":\"4\",\"orientation\":\"v\",\"showlegend\":true,\"x\":[\"embedder.block1.conv_in0\",\"embedder.block1.res1.relu1_out\",\"embedder.block1.res1.resadd_out\",\"embedder.block1.res1.relu2_out\",\"embedder.block1.res2.relu1_out\",\"embedder.block1.res2.resadd_out\",\"embedder.block1.res2.relu2_out\",\"embedder.block2.res1.relu1_out\",\"embedder.block2.res1.resadd_out\",\"embedder.block2.res1.relu2_out\",\"embedder.block2.res2.relu1_out\",\"embedder.block2.res2.resadd_out\",\"embedder.block2.res2.relu2_out\",\"embedder.block3.res1.relu1_out\",\"embedder.block3.res1.resadd_out\",\"embedder.block3.res1.relu2_out\",\"embedder.block3.res2.relu1_out\",\"embedder.block3.res2.resadd_out\",\"embedder.block3.res2.relu2_out\"],\"xaxis\":\"x\",\"y\":[0.975,0.9625,0.95,0.7,0.95,0.9625,0.8375,0.8,0.675,0.75,0.725,0.6125,0.5875,0.7,0.675,0.75,0.7,0.6375,0.675],\"yaxis\":\"y\",\"type\":\"scatter\"},{\"hovertemplate\":\"K=5\\u003cbr\\u003elayer=%{x}\\u003cbr\\u003escore=%{y}\\u003cextra\\u003e\\u003c\\u002fextra\\u003e\",\"legendgroup\":\"5\",\"line\":{\"color\":\"#FFA15A\",\"dash\":\"solid\"},\"marker\":{\"symbol\":\"circle\"},\"mode\":\"lines\",\"name\":\"5\",\"orientation\":\"v\",\"showlegend\":true,\"x\":[\"embedder.block1.conv_in0\",\"embedder.block1.res1.relu1_out\",\"embedder.block1.res1.resadd_out\",\"embedder.block1.res1.relu2_out\",\"embedder.block1.res2.relu1_out\",\"embedder.block1.res2.resadd_out\",\"embedder.block1.res2.relu2_out\",\"embedder.block2.res1.relu1_out\",\"embedder.block2.res1.resadd_out\",\"embedder.block2.res1.relu2_out\",\"embedder.block2.res2.relu1_out\",\"embedder.block2.res2.resadd_out\",\"embedder.block2.res2.relu2_out\",\"embedder.block3.res1.relu1_out\",\"embedder.block3.res1.resadd_out\",\"embedder.block3.res1.relu2_out\",\"embedder.block3.res2.relu1_out\",\"embedder.block3.res2.resadd_out\",\"embedder.block3.res2.relu2_out\"],\"xaxis\":\"x\",\"y\":[0.975,0.9625,0.95,0.75,0.95,0.95,0.8625,0.85,0.675,0.75,0.7125,0.65,0.625,0.7125,0.675,0.7625,0.725,0.7125,0.6375],\"yaxis\":\"y\",\"type\":\"scatter\"},{\"hovertemplate\":\"K=6\\u003cbr\\u003elayer=%{x}\\u003cbr\\u003escore=%{y}\\u003cextra\\u003e\\u003c\\u002fextra\\u003e\",\"legendgroup\":\"6\",\"line\":{\"color\":\"#19d3f3\",\"dash\":\"solid\"},\"marker\":{\"symbol\":\"circle\"},\"mode\":\"lines\",\"name\":\"6\",\"orientation\":\"v\",\"showlegend\":true,\"x\":[\"embedder.block1.conv_in0\",\"embedder.block1.res1.relu1_out\",\"embedder.block1.res1.resadd_out\",\"embedder.block1.res1.relu2_out\",\"embedder.block1.res2.relu1_out\",\"embedder.block1.res2.resadd_out\",\"embedder.block1.res2.relu2_out\",\"embedder.block2.res1.relu1_out\",\"embedder.block2.res1.resadd_out\",\"embedder.block2.res1.relu2_out\",\"embedder.block2.res2.relu1_out\",\"embedder.block2.res2.resadd_out\",\"embedder.block2.res2.relu2_out\",\"embedder.block3.res1.relu1_out\",\"embedder.block3.res1.resadd_out\",\"embedder.block3.res1.relu2_out\",\"embedder.block3.res2.relu1_out\",\"embedder.block3.res2.resadd_out\",\"embedder.block3.res2.relu2_out\"],\"xaxis\":\"x\",\"y\":[0.975,0.9625,0.95,0.75,0.95,0.95,0.875,0.8125,0.6875,0.75,0.7125,0.6375,0.6375,0.7,0.7125,0.775,0.7125,0.7375,0.6625],\"yaxis\":\"y\",\"type\":\"scatter\"},{\"hovertemplate\":\"K=7\\u003cbr\\u003elayer=%{x}\\u003cbr\\u003escore=%{y}\\u003cextra\\u003e\\u003c\\u002fextra\\u003e\",\"legendgroup\":\"7\",\"line\":{\"color\":\"#FF6692\",\"dash\":\"solid\"},\"marker\":{\"symbol\":\"circle\"},\"mode\":\"lines\",\"name\":\"7\",\"orientation\":\"v\",\"showlegend\":true,\"x\":[\"embedder.block1.conv_in0\",\"embedder.block1.res1.relu1_out\",\"embedder.block1.res1.resadd_out\",\"embedder.block1.res1.relu2_out\",\"embedder.block1.res2.relu1_out\",\"embedder.block1.res2.resadd_out\",\"embedder.block1.res2.relu2_out\",\"embedder.block2.res1.relu1_out\",\"embedder.block2.res1.resadd_out\",\"embedder.block2.res1.relu2_out\",\"embedder.block2.res2.relu1_out\",\"embedder.block2.res2.resadd_out\",\"embedder.block2.res2.relu2_out\",\"embedder.block3.res1.relu1_out\",\"embedder.block3.res1.resadd_out\",\"embedder.block3.res1.relu2_out\",\"embedder.block3.res2.relu1_out\",\"embedder.block3.res2.resadd_out\",\"embedder.block3.res2.relu2_out\"],\"xaxis\":\"x\",\"y\":[0.975,0.975,0.9375,0.7375,0.9625,0.95,0.8875,0.825,0.75,0.75,0.7125,0.6375,0.6625,0.675,0.7375,0.7875,0.7125,0.725,0.65],\"yaxis\":\"y\",\"type\":\"scatter\"},{\"hovertemplate\":\"K=8\\u003cbr\\u003elayer=%{x}\\u003cbr\\u003escore=%{y}\\u003cextra\\u003e\\u003c\\u002fextra\\u003e\",\"legendgroup\":\"8\",\"line\":{\"color\":\"#B6E880\",\"dash\":\"solid\"},\"marker\":{\"symbol\":\"circle\"},\"mode\":\"lines\",\"name\":\"8\",\"orientation\":\"v\",\"showlegend\":true,\"x\":[\"embedder.block1.conv_in0\",\"embedder.block1.res1.relu1_out\",\"embedder.block1.res1.resadd_out\",\"embedder.block1.res1.relu2_out\",\"embedder.block1.res2.relu1_out\",\"embedder.block1.res2.resadd_out\",\"embedder.block1.res2.relu2_out\",\"embedder.block2.res1.relu1_out\",\"embedder.block2.res1.resadd_out\",\"embedder.block2.res1.relu2_out\",\"embedder.block2.res2.relu1_out\",\"embedder.block2.res2.resadd_out\",\"embedder.block2.res2.relu2_out\",\"embedder.block3.res1.relu1_out\",\"embedder.block3.res1.resadd_out\",\"embedder.block3.res1.relu2_out\",\"embedder.block3.res2.relu1_out\",\"embedder.block3.res2.resadd_out\",\"embedder.block3.res2.relu2_out\"],\"xaxis\":\"x\",\"y\":[0.975,0.9875,0.925,0.7375,0.9625,0.95,0.8875,0.8375,0.7625,0.75,0.6875,0.725,0.625,0.675,0.725,0.7625,0.7125,0.725,0.6625],\"yaxis\":\"y\",\"type\":\"scatter\"},{\"hovertemplate\":\"K=9\\u003cbr\\u003elayer=%{x}\\u003cbr\\u003escore=%{y}\\u003cextra\\u003e\\u003c\\u002fextra\\u003e\",\"legendgroup\":\"9\",\"line\":{\"color\":\"#FF97FF\",\"dash\":\"solid\"},\"marker\":{\"symbol\":\"circle\"},\"mode\":\"lines\",\"name\":\"9\",\"orientation\":\"v\",\"showlegend\":true,\"x\":[\"embedder.block1.conv_in0\",\"embedder.block1.res1.relu1_out\",\"embedder.block1.res1.resadd_out\",\"embedder.block1.res1.relu2_out\",\"embedder.block1.res2.relu1_out\",\"embedder.block1.res2.resadd_out\",\"embedder.block1.res2.relu2_out\",\"embedder.block2.res1.relu1_out\",\"embedder.block2.res1.resadd_out\",\"embedder.block2.res1.relu2_out\",\"embedder.block2.res2.relu1_out\",\"embedder.block2.res2.resadd_out\",\"embedder.block2.res2.relu2_out\",\"embedder.block3.res1.relu1_out\",\"embedder.block3.res1.resadd_out\",\"embedder.block3.res1.relu2_out\",\"embedder.block3.res2.relu1_out\",\"embedder.block3.res2.resadd_out\",\"embedder.block3.res2.relu2_out\"],\"xaxis\":\"x\",\"y\":[0.975,0.9875,0.9375,0.75,0.95,0.95,0.875,0.8125,0.7625,0.75,0.725,0.7125,0.625,0.6875,0.7125,0.7375,0.75,0.725,0.6625],\"yaxis\":\"y\",\"type\":\"scatter\"},{\"hovertemplate\":\"K=10\\u003cbr\\u003elayer=%{x}\\u003cbr\\u003escore=%{y}\\u003cextra\\u003e\\u003c\\u002fextra\\u003e\",\"legendgroup\":\"10\",\"line\":{\"color\":\"#FECB52\",\"dash\":\"solid\"},\"marker\":{\"symbol\":\"circle\"},\"mode\":\"lines\",\"name\":\"10\",\"orientation\":\"v\",\"showlegend\":true,\"x\":[\"embedder.block1.conv_in0\",\"embedder.block1.res1.relu1_out\",\"embedder.block1.res1.resadd_out\",\"embedder.block1.res1.relu2_out\",\"embedder.block1.res2.relu1_out\",\"embedder.block1.res2.resadd_out\",\"embedder.block1.res2.relu2_out\",\"embedder.block2.res1.relu1_out\",\"embedder.block2.res1.resadd_out\",\"embedder.block2.res1.relu2_out\",\"embedder.block2.res2.relu1_out\",\"embedder.block2.res2.resadd_out\",\"embedder.block2.res2.relu2_out\",\"embedder.block3.res1.relu1_out\",\"embedder.block3.res1.resadd_out\",\"embedder.block3.res1.relu2_out\",\"embedder.block3.res2.relu1_out\",\"embedder.block3.res2.resadd_out\",\"embedder.block3.res2.relu2_out\"],\"xaxis\":\"x\",\"y\":[0.975,1.0,0.9625,0.75,0.975,0.95,0.875,0.825,0.7375,0.7375,0.725,0.675,0.625,0.6875,0.7375,0.7375,0.7,0.725,0.7125],\"yaxis\":\"y\",\"type\":\"scatter\"}],                        {\"template\":{\"data\":{\"histogram2dcontour\":[{\"type\":\"histogram2dcontour\",\"colorbar\":{\"outlinewidth\":0,\"ticks\":\"\"},\"colorscale\":[[0.0,\"#0d0887\"],[0.1111111111111111,\"#46039f\"],[0.2222222222222222,\"#7201a8\"],[0.3333333333333333,\"#9c179e\"],[0.4444444444444444,\"#bd3786\"],[0.5555555555555556,\"#d8576b\"],[0.6666666666666666,\"#ed7953\"],[0.7777777777777778,\"#fb9f3a\"],[0.8888888888888888,\"#fdca26\"],[1.0,\"#f0f921\"]]}],\"choropleth\":[{\"type\":\"choropleth\",\"colorbar\":{\"outlinewidth\":0,\"ticks\":\"\"}}],\"histogram2d\":[{\"type\":\"histogram2d\",\"colorbar\":{\"outlinewidth\":0,\"ticks\":\"\"},\"colorscale\":[[0.0,\"#0d0887\"],[0.1111111111111111,\"#46039f\"],[0.2222222222222222,\"#7201a8\"],[0.3333333333333333,\"#9c179e\"],[0.4444444444444444,\"#bd3786\"],[0.5555555555555556,\"#d8576b\"],[0.6666666666666666,\"#ed7953\"],[0.7777777777777778,\"#fb9f3a\"],[0.8888888888888888,\"#fdca26\"],[1.0,\"#f0f921\"]]}],\"heatmap\":[{\"type\":\"heatmap\",\"colorbar\":{\"outlinewidth\":0,\"ticks\":\"\"},\"colorscale\":[[0.0,\"#0d0887\"],[0.1111111111111111,\"#46039f\"],[0.2222222222222222,\"#7201a8\"],[0.3333333333333333,\"#9c179e\"],[0.4444444444444444,\"#bd3786\"],[0.5555555555555556,\"#d8576b\"],[0.6666666666666666,\"#ed7953\"],[0.7777777777777778,\"#fb9f3a\"],[0.8888888888888888,\"#fdca26\"],[1.0,\"#f0f921\"]]}],\"heatmapgl\":[{\"type\":\"heatmapgl\",\"colorbar\":{\"outlinewidth\":0,\"ticks\":\"\"},\"colorscale\":[[0.0,\"#0d0887\"],[0.1111111111111111,\"#46039f\"],[0.2222222222222222,\"#7201a8\"],[0.3333333333333333,\"#9c179e\"],[0.4444444444444444,\"#bd3786\"],[0.5555555555555556,\"#d8576b\"],[0.6666666666666666,\"#ed7953\"],[0.7777777777777778,\"#fb9f3a\"],[0.8888888888888888,\"#fdca26\"],[1.0,\"#f0f921\"]]}],\"contourcarpet\":[{\"type\":\"contourcarpet\",\"colorbar\":{\"outlinewidth\":0,\"ticks\":\"\"}}],\"contour\":[{\"type\":\"contour\",\"colorbar\":{\"outlinewidth\":0,\"ticks\":\"\"},\"colorscale\":[[0.0,\"#0d0887\"],[0.1111111111111111,\"#46039f\"],[0.2222222222222222,\"#7201a8\"],[0.3333333333333333,\"#9c179e\"],[0.4444444444444444,\"#bd3786\"],[0.5555555555555556,\"#d8576b\"],[0.6666666666666666,\"#ed7953\"],[0.7777777777777778,\"#fb9f3a\"],[0.8888888888888888,\"#fdca26\"],[1.0,\"#f0f921\"]]}],\"surface\":[{\"type\":\"surface\",\"colorbar\":{\"outlinewidth\":0,\"ticks\":\"\"},\"colorscale\":[[0.0,\"#0d0887\"],[0.1111111111111111,\"#46039f\"],[0.2222222222222222,\"#7201a8\"],[0.3333333333333333,\"#9c179e\"],[0.4444444444444444,\"#bd3786\"],[0.5555555555555556,\"#d8576b\"],[0.6666666666666666,\"#ed7953\"],[0.7777777777777778,\"#fb9f3a\"],[0.8888888888888888,\"#fdca26\"],[1.0,\"#f0f921\"]]}],\"mesh3d\":[{\"type\":\"mesh3d\",\"colorbar\":{\"outlinewidth\":0,\"ticks\":\"\"}}],\"scatter\":[{\"fillpattern\":{\"fillmode\":\"overlay\",\"size\":10,\"solidity\":0.2},\"type\":\"scatter\"}],\"parcoords\":[{\"type\":\"parcoords\",\"line\":{\"colorbar\":{\"outlinewidth\":0,\"ticks\":\"\"}}}],\"scatterpolargl\":[{\"type\":\"scatterpolargl\",\"marker\":{\"colorbar\":{\"outlinewidth\":0,\"ticks\":\"\"}}}],\"bar\":[{\"error_x\":{\"color\":\"#2a3f5f\"},\"error_y\":{\"color\":\"#2a3f5f\"},\"marker\":{\"line\":{\"color\":\"#E5ECF6\",\"width\":0.5},\"pattern\":{\"fillmode\":\"overlay\",\"size\":10,\"solidity\":0.2}},\"type\":\"bar\"}],\"scattergeo\":[{\"type\":\"scattergeo\",\"marker\":{\"colorbar\":{\"outlinewidth\":0,\"ticks\":\"\"}}}],\"scatterpolar\":[{\"type\":\"scatterpolar\",\"marker\":{\"colorbar\":{\"outlinewidth\":0,\"ticks\":\"\"}}}],\"histogram\":[{\"marker\":{\"pattern\":{\"fillmode\":\"overlay\",\"size\":10,\"solidity\":0.2}},\"type\":\"histogram\"}],\"scattergl\":[{\"type\":\"scattergl\",\"marker\":{\"colorbar\":{\"outlinewidth\":0,\"ticks\":\"\"}}}],\"scatter3d\":[{\"type\":\"scatter3d\",\"line\":{\"colorbar\":{\"outlinewidth\":0,\"ticks\":\"\"}},\"marker\":{\"colorbar\":{\"outlinewidth\":0,\"ticks\":\"\"}}}],\"scattermapbox\":[{\"type\":\"scattermapbox\",\"marker\":{\"colorbar\":{\"outlinewidth\":0,\"ticks\":\"\"}}}],\"scatterternary\":[{\"type\":\"scatterternary\",\"marker\":{\"colorbar\":{\"outlinewidth\":0,\"ticks\":\"\"}}}],\"scattercarpet\":[{\"type\":\"scattercarpet\",\"marker\":{\"colorbar\":{\"outlinewidth\":0,\"ticks\":\"\"}}}],\"carpet\":[{\"aaxis\":{\"endlinecolor\":\"#2a3f5f\",\"gridcolor\":\"white\",\"linecolor\":\"white\",\"minorgridcolor\":\"white\",\"startlinecolor\":\"#2a3f5f\"},\"baxis\":{\"endlinecolor\":\"#2a3f5f\",\"gridcolor\":\"white\",\"linecolor\":\"white\",\"minorgridcolor\":\"white\",\"startlinecolor\":\"#2a3f5f\"},\"type\":\"carpet\"}],\"table\":[{\"cells\":{\"fill\":{\"color\":\"#EBF0F8\"},\"line\":{\"color\":\"white\"}},\"header\":{\"fill\":{\"color\":\"#C8D4E3\"},\"line\":{\"color\":\"white\"}},\"type\":\"table\"}],\"barpolar\":[{\"marker\":{\"line\":{\"color\":\"#E5ECF6\",\"width\":0.5},\"pattern\":{\"fillmode\":\"overlay\",\"size\":10,\"solidity\":0.2}},\"type\":\"barpolar\"}],\"pie\":[{\"automargin\":true,\"type\":\"pie\"}]},\"layout\":{\"autotypenumbers\":\"strict\",\"colorway\":[\"#636efa\",\"#EF553B\",\"#00cc96\",\"#ab63fa\",\"#FFA15A\",\"#19d3f3\",\"#FF6692\",\"#B6E880\",\"#FF97FF\",\"#FECB52\"],\"font\":{\"color\":\"#2a3f5f\"},\"hovermode\":\"closest\",\"hoverlabel\":{\"align\":\"left\"},\"paper_bgcolor\":\"white\",\"plot_bgcolor\":\"#E5ECF6\",\"polar\":{\"bgcolor\":\"#E5ECF6\",\"angularaxis\":{\"gridcolor\":\"white\",\"linecolor\":\"white\",\"ticks\":\"\"},\"radialaxis\":{\"gridcolor\":\"white\",\"linecolor\":\"white\",\"ticks\":\"\"}},\"ternary\":{\"bgcolor\":\"#E5ECF6\",\"aaxis\":{\"gridcolor\":\"white\",\"linecolor\":\"white\",\"ticks\":\"\"},\"baxis\":{\"gridcolor\":\"white\",\"linecolor\":\"white\",\"ticks\":\"\"},\"caxis\":{\"gridcolor\":\"white\",\"linecolor\":\"white\",\"ticks\":\"\"}},\"coloraxis\":{\"colorbar\":{\"outlinewidth\":0,\"ticks\":\"\"}},\"colorscale\":{\"sequential\":[[0.0,\"#0d0887\"],[0.1111111111111111,\"#46039f\"],[0.2222222222222222,\"#7201a8\"],[0.3333333333333333,\"#9c179e\"],[0.4444444444444444,\"#bd3786\"],[0.5555555555555556,\"#d8576b\"],[0.6666666666666666,\"#ed7953\"],[0.7777777777777778,\"#fb9f3a\"],[0.8888888888888888,\"#fdca26\"],[1.0,\"#f0f921\"]],\"sequentialminus\":[[0.0,\"#0d0887\"],[0.1111111111111111,\"#46039f\"],[0.2222222222222222,\"#7201a8\"],[0.3333333333333333,\"#9c179e\"],[0.4444444444444444,\"#bd3786\"],[0.5555555555555556,\"#d8576b\"],[0.6666666666666666,\"#ed7953\"],[0.7777777777777778,\"#fb9f3a\"],[0.8888888888888888,\"#fdca26\"],[1.0,\"#f0f921\"]],\"diverging\":[[0,\"#8e0152\"],[0.1,\"#c51b7d\"],[0.2,\"#de77ae\"],[0.3,\"#f1b6da\"],[0.4,\"#fde0ef\"],[0.5,\"#f7f7f7\"],[0.6,\"#e6f5d0\"],[0.7,\"#b8e186\"],[0.8,\"#7fbc41\"],[0.9,\"#4d9221\"],[1,\"#276419\"]]},\"xaxis\":{\"gridcolor\":\"white\",\"linecolor\":\"white\",\"ticks\":\"\",\"title\":{\"standoff\":15},\"zerolinecolor\":\"white\",\"automargin\":true,\"zerolinewidth\":2},\"yaxis\":{\"gridcolor\":\"white\",\"linecolor\":\"white\",\"ticks\":\"\",\"title\":{\"standoff\":15},\"zerolinecolor\":\"white\",\"automargin\":true,\"zerolinewidth\":2},\"scene\":{\"xaxis\":{\"backgroundcolor\":\"#E5ECF6\",\"gridcolor\":\"white\",\"linecolor\":\"white\",\"showbackground\":true,\"ticks\":\"\",\"zerolinecolor\":\"white\",\"gridwidth\":2},\"yaxis\":{\"backgroundcolor\":\"#E5ECF6\",\"gridcolor\":\"white\",\"linecolor\":\"white\",\"showbackground\":true,\"ticks\":\"\",\"zerolinecolor\":\"white\",\"gridwidth\":2},\"zaxis\":{\"backgroundcolor\":\"#E5ECF6\",\"gridcolor\":\"white\",\"linecolor\":\"white\",\"showbackground\":true,\"ticks\":\"\",\"zerolinecolor\":\"white\",\"gridwidth\":2}},\"shapedefaults\":{\"line\":{\"color\":\"#2a3f5f\"}},\"annotationdefaults\":{\"arrowcolor\":\"#2a3f5f\",\"arrowhead\":0,\"arrowwidth\":1},\"geo\":{\"bgcolor\":\"white\",\"landcolor\":\"#E5ECF6\",\"subunitcolor\":\"white\",\"showland\":true,\"showlakes\":true,\"lakecolor\":\"white\"},\"title\":{\"x\":0.05},\"mapbox\":{\"style\":\"light\"}}},\"xaxis\":{\"anchor\":\"y\",\"domain\":[0.0,1.0],\"title\":{\"text\":\"layer\"}},\"yaxis\":{\"anchor\":\"x\",\"domain\":[0.0,1.0],\"title\":{\"text\":\"score\"}},\"legend\":{\"title\":{\"text\":\"K\"},\"tracegroupgap\":0},\"title\":{\"text\":\"Sparse probe scores for \\\"conv pixel contains cheese2\\\" over resadd layers and K values\"},\"shapes\":[{\"line\":{\"dash\":\"dot\"},\"type\":\"line\",\"x0\":0,\"x1\":1,\"xref\":\"x domain\",\"y0\":1.0,\"y1\":1.0,\"yref\":\"y\"},{\"line\":{\"dash\":\"dot\"},\"type\":\"line\",\"x0\":0,\"x1\":1,\"xref\":\"x domain\",\"y0\":0.5,\"y1\":0.5,\"yref\":\"y\"}],\"annotations\":[{\"showarrow\":false,\"text\":\"perfect\",\"x\":1,\"xanchor\":\"right\",\"xref\":\"x domain\",\"y\":1.0,\"yanchor\":\"top\",\"yref\":\"y\"},{\"showarrow\":false,\"text\":\"baseline\",\"x\":1,\"xanchor\":\"right\",\"xref\":\"x domain\",\"y\":0.5,\"yanchor\":\"top\",\"yref\":\"y\"}]},                        {\"responsive\": true}                    ).then(function(){\n",
       "                            \n",
       "var gd = document.getElementById('c8356ac3-9044-4456-9d30-4c7e8beefdab');\n",
       "var x = new MutationObserver(function (mutations, observer) {{\n",
       "        var display = window.getComputedStyle(gd).display;\n",
       "        if (!display || display === 'none') {{\n",
       "            console.log([gd, 'removed!']);\n",
       "            Plotly.purge(gd);\n",
       "            observer.disconnect();\n",
       "        }}\n",
       "}});\n",
       "\n",
       "// Listen for the removal of the full notebook cells\n",
       "var notebookContainer = gd.closest('#notebook-container');\n",
       "if (notebookContainer) {{\n",
       "    x.observe(notebookContainer, {childList: true});\n",
       "}}\n",
       "\n",
       "// Listen for the clearing of the current output cell\n",
       "var outputEl = gd.closest('.output');\n",
       "if (outputEl) {{\n",
       "    x.observe(outputEl, {childList: true});\n",
       "}}\n",
       "\n",
       "                        })                };                });            </script>        </div>"
      ]
     },
     "metadata": {},
     "output_type": "display_data"
    },
    {
     "name": "stderr",
     "output_type": "stream",
     "text": [
      "100%|██████████| 19/19 [00:02<00:00,  7.39it/s]\n"
     ]
    },
    {
     "data": {
      "application/vnd.plotly.v1+json": {
       "config": {
        "plotlyServerURL": "https://plot.ly"
       },
       "data": [
        {
         "hovertemplate": "K=1<br>layer=%{x}<br>score=%{y}<extra></extra>",
         "legendgroup": "1",
         "line": {
          "color": "#636efa",
          "dash": "solid"
         },
         "marker": {
          "symbol": "circle"
         },
         "mode": "lines",
         "name": "1",
         "orientation": "v",
         "showlegend": true,
         "type": "scatter",
         "x": [
          "embedder.block1.conv_in0",
          "embedder.block1.res1.relu1_out",
          "embedder.block1.res1.resadd_out",
          "embedder.block1.res1.relu2_out",
          "embedder.block1.res2.relu1_out",
          "embedder.block1.res2.resadd_out",
          "embedder.block1.res2.relu2_out",
          "embedder.block2.res1.relu1_out",
          "embedder.block2.res1.resadd_out",
          "embedder.block2.res1.relu2_out",
          "embedder.block2.res2.relu1_out",
          "embedder.block2.res2.resadd_out",
          "embedder.block2.res2.relu2_out",
          "embedder.block3.res1.relu1_out",
          "embedder.block3.res1.resadd_out",
          "embedder.block3.res1.relu2_out",
          "embedder.block3.res2.relu1_out",
          "embedder.block3.res2.resadd_out",
          "embedder.block3.res2.relu2_out"
         ],
         "xaxis": "x",
         "y": [
          0.7125,
          1,
          1,
          0.95,
          1,
          1,
          0.9625,
          1,
          0.975,
          0.8875,
          0.9375,
          0.9375,
          0.8125,
          0.9625,
          0.95,
          0.7875,
          0.95,
          0.8875,
          0.925
         ],
         "yaxis": "y"
        },
        {
         "hovertemplate": "K=2<br>layer=%{x}<br>score=%{y}<extra></extra>",
         "legendgroup": "2",
         "line": {
          "color": "#EF553B",
          "dash": "solid"
         },
         "marker": {
          "symbol": "circle"
         },
         "mode": "lines",
         "name": "2",
         "orientation": "v",
         "showlegend": true,
         "type": "scatter",
         "x": [
          "embedder.block1.conv_in0",
          "embedder.block1.res1.relu1_out",
          "embedder.block1.res1.resadd_out",
          "embedder.block1.res1.relu2_out",
          "embedder.block1.res2.relu1_out",
          "embedder.block1.res2.resadd_out",
          "embedder.block1.res2.relu2_out",
          "embedder.block2.res1.relu1_out",
          "embedder.block2.res1.resadd_out",
          "embedder.block2.res1.relu2_out",
          "embedder.block2.res2.relu1_out",
          "embedder.block2.res2.resadd_out",
          "embedder.block2.res2.relu2_out",
          "embedder.block3.res1.relu1_out",
          "embedder.block3.res1.resadd_out",
          "embedder.block3.res1.relu2_out",
          "embedder.block3.res2.relu1_out",
          "embedder.block3.res2.resadd_out",
          "embedder.block3.res2.relu2_out"
         ],
         "xaxis": "x",
         "y": [
          0.85,
          1,
          1,
          0.9375,
          1,
          1,
          0.975,
          1,
          0.975,
          0.8375,
          0.95,
          0.9625,
          0.8,
          0.9625,
          0.9625,
          0.85,
          0.9625,
          0.9125,
          0.95
         ],
         "yaxis": "y"
        },
        {
         "hovertemplate": "K=3<br>layer=%{x}<br>score=%{y}<extra></extra>",
         "legendgroup": "3",
         "line": {
          "color": "#00cc96",
          "dash": "solid"
         },
         "marker": {
          "symbol": "circle"
         },
         "mode": "lines",
         "name": "3",
         "orientation": "v",
         "showlegend": true,
         "type": "scatter",
         "x": [
          "embedder.block1.conv_in0",
          "embedder.block1.res1.relu1_out",
          "embedder.block1.res1.resadd_out",
          "embedder.block1.res1.relu2_out",
          "embedder.block1.res2.relu1_out",
          "embedder.block1.res2.resadd_out",
          "embedder.block1.res2.relu2_out",
          "embedder.block2.res1.relu1_out",
          "embedder.block2.res1.resadd_out",
          "embedder.block2.res1.relu2_out",
          "embedder.block2.res2.relu1_out",
          "embedder.block2.res2.resadd_out",
          "embedder.block2.res2.relu2_out",
          "embedder.block3.res1.relu1_out",
          "embedder.block3.res1.resadd_out",
          "embedder.block3.res1.relu2_out",
          "embedder.block3.res2.relu1_out",
          "embedder.block3.res2.resadd_out",
          "embedder.block3.res2.relu2_out"
         ],
         "xaxis": "x",
         "y": [
          0.8875,
          1,
          1,
          0.975,
          0.9875,
          0.9875,
          0.975,
          1,
          0.975,
          0.8625,
          0.975,
          0.9625,
          0.8125,
          0.9625,
          0.9625,
          0.875,
          0.925,
          0.9125,
          0.9375
         ],
         "yaxis": "y"
        },
        {
         "hovertemplate": "K=4<br>layer=%{x}<br>score=%{y}<extra></extra>",
         "legendgroup": "4",
         "line": {
          "color": "#ab63fa",
          "dash": "solid"
         },
         "marker": {
          "symbol": "circle"
         },
         "mode": "lines",
         "name": "4",
         "orientation": "v",
         "showlegend": true,
         "type": "scatter",
         "x": [
          "embedder.block1.conv_in0",
          "embedder.block1.res1.relu1_out",
          "embedder.block1.res1.resadd_out",
          "embedder.block1.res1.relu2_out",
          "embedder.block1.res2.relu1_out",
          "embedder.block1.res2.resadd_out",
          "embedder.block1.res2.relu2_out",
          "embedder.block2.res1.relu1_out",
          "embedder.block2.res1.resadd_out",
          "embedder.block2.res1.relu2_out",
          "embedder.block2.res2.relu1_out",
          "embedder.block2.res2.resadd_out",
          "embedder.block2.res2.relu2_out",
          "embedder.block3.res1.relu1_out",
          "embedder.block3.res1.resadd_out",
          "embedder.block3.res1.relu2_out",
          "embedder.block3.res2.relu1_out",
          "embedder.block3.res2.resadd_out",
          "embedder.block3.res2.relu2_out"
         ],
         "xaxis": "x",
         "y": [
          0.8875,
          1,
          1,
          0.975,
          0.9875,
          1,
          0.975,
          1,
          0.975,
          0.9125,
          0.975,
          0.9625,
          0.8125,
          0.9625,
          0.9625,
          0.8875,
          0.975,
          0.9,
          0.9375
         ],
         "yaxis": "y"
        },
        {
         "hovertemplate": "K=5<br>layer=%{x}<br>score=%{y}<extra></extra>",
         "legendgroup": "5",
         "line": {
          "color": "#FFA15A",
          "dash": "solid"
         },
         "marker": {
          "symbol": "circle"
         },
         "mode": "lines",
         "name": "5",
         "orientation": "v",
         "showlegend": true,
         "type": "scatter",
         "x": [
          "embedder.block1.conv_in0",
          "embedder.block1.res1.relu1_out",
          "embedder.block1.res1.resadd_out",
          "embedder.block1.res1.relu2_out",
          "embedder.block1.res2.relu1_out",
          "embedder.block1.res2.resadd_out",
          "embedder.block1.res2.relu2_out",
          "embedder.block2.res1.relu1_out",
          "embedder.block2.res1.resadd_out",
          "embedder.block2.res1.relu2_out",
          "embedder.block2.res2.relu1_out",
          "embedder.block2.res2.resadd_out",
          "embedder.block2.res2.relu2_out",
          "embedder.block3.res1.relu1_out",
          "embedder.block3.res1.resadd_out",
          "embedder.block3.res1.relu2_out",
          "embedder.block3.res2.relu1_out",
          "embedder.block3.res2.resadd_out",
          "embedder.block3.res2.relu2_out"
         ],
         "xaxis": "x",
         "y": [
          0.8875,
          1,
          0.9875,
          0.975,
          1,
          1,
          0.975,
          1,
          0.9875,
          0.925,
          0.975,
          0.9625,
          0.8125,
          0.9625,
          0.9625,
          0.9125,
          0.975,
          0.925,
          0.95
         ],
         "yaxis": "y"
        },
        {
         "hovertemplate": "K=6<br>layer=%{x}<br>score=%{y}<extra></extra>",
         "legendgroup": "6",
         "line": {
          "color": "#19d3f3",
          "dash": "solid"
         },
         "marker": {
          "symbol": "circle"
         },
         "mode": "lines",
         "name": "6",
         "orientation": "v",
         "showlegend": true,
         "type": "scatter",
         "x": [
          "embedder.block1.conv_in0",
          "embedder.block1.res1.relu1_out",
          "embedder.block1.res1.resadd_out",
          "embedder.block1.res1.relu2_out",
          "embedder.block1.res2.relu1_out",
          "embedder.block1.res2.resadd_out",
          "embedder.block1.res2.relu2_out",
          "embedder.block2.res1.relu1_out",
          "embedder.block2.res1.resadd_out",
          "embedder.block2.res1.relu2_out",
          "embedder.block2.res2.relu1_out",
          "embedder.block2.res2.resadd_out",
          "embedder.block2.res2.relu2_out",
          "embedder.block3.res1.relu1_out",
          "embedder.block3.res1.resadd_out",
          "embedder.block3.res1.relu2_out",
          "embedder.block3.res2.relu1_out",
          "embedder.block3.res2.resadd_out",
          "embedder.block3.res2.relu2_out"
         ],
         "xaxis": "x",
         "y": [
          0.8875,
          1,
          0.9875,
          0.975,
          0.9875,
          0.9875,
          0.975,
          1,
          1,
          0.9375,
          0.9875,
          0.9625,
          0.825,
          0.95,
          0.9625,
          0.9125,
          0.975,
          0.9125,
          0.9625
         ],
         "yaxis": "y"
        },
        {
         "hovertemplate": "K=7<br>layer=%{x}<br>score=%{y}<extra></extra>",
         "legendgroup": "7",
         "line": {
          "color": "#FF6692",
          "dash": "solid"
         },
         "marker": {
          "symbol": "circle"
         },
         "mode": "lines",
         "name": "7",
         "orientation": "v",
         "showlegend": true,
         "type": "scatter",
         "x": [
          "embedder.block1.conv_in0",
          "embedder.block1.res1.relu1_out",
          "embedder.block1.res1.resadd_out",
          "embedder.block1.res1.relu2_out",
          "embedder.block1.res2.relu1_out",
          "embedder.block1.res2.resadd_out",
          "embedder.block1.res2.relu2_out",
          "embedder.block2.res1.relu1_out",
          "embedder.block2.res1.resadd_out",
          "embedder.block2.res1.relu2_out",
          "embedder.block2.res2.relu1_out",
          "embedder.block2.res2.resadd_out",
          "embedder.block2.res2.relu2_out",
          "embedder.block3.res1.relu1_out",
          "embedder.block3.res1.resadd_out",
          "embedder.block3.res1.relu2_out",
          "embedder.block3.res2.relu1_out",
          "embedder.block3.res2.resadd_out",
          "embedder.block3.res2.relu2_out"
         ],
         "xaxis": "x",
         "y": [
          0.8875,
          1,
          0.9875,
          0.975,
          1,
          1,
          0.975,
          1,
          1,
          0.95,
          0.9875,
          0.975,
          0.825,
          0.9375,
          0.9625,
          0.9125,
          0.975,
          0.9125,
          0.9625
         ],
         "yaxis": "y"
        },
        {
         "hovertemplate": "K=8<br>layer=%{x}<br>score=%{y}<extra></extra>",
         "legendgroup": "8",
         "line": {
          "color": "#B6E880",
          "dash": "solid"
         },
         "marker": {
          "symbol": "circle"
         },
         "mode": "lines",
         "name": "8",
         "orientation": "v",
         "showlegend": true,
         "type": "scatter",
         "x": [
          "embedder.block1.conv_in0",
          "embedder.block1.res1.relu1_out",
          "embedder.block1.res1.resadd_out",
          "embedder.block1.res1.relu2_out",
          "embedder.block1.res2.relu1_out",
          "embedder.block1.res2.resadd_out",
          "embedder.block1.res2.relu2_out",
          "embedder.block2.res1.relu1_out",
          "embedder.block2.res1.resadd_out",
          "embedder.block2.res1.relu2_out",
          "embedder.block2.res2.relu1_out",
          "embedder.block2.res2.resadd_out",
          "embedder.block2.res2.relu2_out",
          "embedder.block3.res1.relu1_out",
          "embedder.block3.res1.resadd_out",
          "embedder.block3.res1.relu2_out",
          "embedder.block3.res2.relu1_out",
          "embedder.block3.res2.resadd_out",
          "embedder.block3.res2.relu2_out"
         ],
         "xaxis": "x",
         "y": [
          0.8875,
          1,
          1,
          0.975,
          1,
          1,
          0.975,
          1,
          0.9875,
          0.9375,
          0.9875,
          0.975,
          0.8375,
          0.9375,
          0.975,
          0.9125,
          0.975,
          0.9125,
          0.9625
         ],
         "yaxis": "y"
        },
        {
         "hovertemplate": "K=9<br>layer=%{x}<br>score=%{y}<extra></extra>",
         "legendgroup": "9",
         "line": {
          "color": "#FF97FF",
          "dash": "solid"
         },
         "marker": {
          "symbol": "circle"
         },
         "mode": "lines",
         "name": "9",
         "orientation": "v",
         "showlegend": true,
         "type": "scatter",
         "x": [
          "embedder.block1.conv_in0",
          "embedder.block1.res1.relu1_out",
          "embedder.block1.res1.resadd_out",
          "embedder.block1.res1.relu2_out",
          "embedder.block1.res2.relu1_out",
          "embedder.block1.res2.resadd_out",
          "embedder.block1.res2.relu2_out",
          "embedder.block2.res1.relu1_out",
          "embedder.block2.res1.resadd_out",
          "embedder.block2.res1.relu2_out",
          "embedder.block2.res2.relu1_out",
          "embedder.block2.res2.resadd_out",
          "embedder.block2.res2.relu2_out",
          "embedder.block3.res1.relu1_out",
          "embedder.block3.res1.resadd_out",
          "embedder.block3.res1.relu2_out",
          "embedder.block3.res2.relu1_out",
          "embedder.block3.res2.resadd_out",
          "embedder.block3.res2.relu2_out"
         ],
         "xaxis": "x",
         "y": [
          0.8875,
          1,
          1,
          0.975,
          1,
          1,
          0.975,
          1,
          0.9875,
          0.975,
          0.9875,
          0.975,
          0.8375,
          0.95,
          0.9875,
          0.9,
          0.975,
          0.9125,
          0.9625
         ],
         "yaxis": "y"
        },
        {
         "hovertemplate": "K=10<br>layer=%{x}<br>score=%{y}<extra></extra>",
         "legendgroup": "10",
         "line": {
          "color": "#FECB52",
          "dash": "solid"
         },
         "marker": {
          "symbol": "circle"
         },
         "mode": "lines",
         "name": "10",
         "orientation": "v",
         "showlegend": true,
         "type": "scatter",
         "x": [
          "embedder.block1.conv_in0",
          "embedder.block1.res1.relu1_out",
          "embedder.block1.res1.resadd_out",
          "embedder.block1.res1.relu2_out",
          "embedder.block1.res2.relu1_out",
          "embedder.block1.res2.resadd_out",
          "embedder.block1.res2.relu2_out",
          "embedder.block2.res1.relu1_out",
          "embedder.block2.res1.resadd_out",
          "embedder.block2.res1.relu2_out",
          "embedder.block2.res2.relu1_out",
          "embedder.block2.res2.resadd_out",
          "embedder.block2.res2.relu2_out",
          "embedder.block3.res1.relu1_out",
          "embedder.block3.res1.resadd_out",
          "embedder.block3.res1.relu2_out",
          "embedder.block3.res2.relu1_out",
          "embedder.block3.res2.resadd_out",
          "embedder.block3.res2.relu2_out"
         ],
         "xaxis": "x",
         "y": [
          0.8875,
          1,
          1,
          0.975,
          0.9875,
          1,
          0.975,
          1,
          0.9875,
          0.975,
          0.9875,
          0.975,
          0.8375,
          0.9625,
          0.9875,
          0.9625,
          0.975,
          0.9125,
          0.9625
         ],
         "yaxis": "y"
        }
       ],
       "layout": {
        "annotations": [
         {
          "showarrow": false,
          "text": "perfect",
          "x": 1,
          "xanchor": "right",
          "xref": "x domain",
          "y": 1,
          "yanchor": "top",
          "yref": "y"
         },
         {
          "showarrow": false,
          "text": "baseline",
          "x": 1,
          "xanchor": "right",
          "xref": "x domain",
          "y": 0.5,
          "yanchor": "top",
          "yref": "y"
         }
        ],
        "legend": {
         "title": {
          "text": "K"
         },
         "tracegroupgap": 0
        },
        "shapes": [
         {
          "line": {
           "dash": "dot"
          },
          "type": "line",
          "x0": 0,
          "x1": 1,
          "xref": "x domain",
          "y0": 1,
          "y1": 1,
          "yref": "y"
         },
         {
          "line": {
           "dash": "dot"
          },
          "type": "line",
          "x0": 0,
          "x1": 1,
          "xref": "x domain",
          "y0": 0.5,
          "y1": 0.5,
          "yref": "y"
         }
        ],
        "template": {
         "data": {
          "bar": [
           {
            "error_x": {
             "color": "#2a3f5f"
            },
            "error_y": {
             "color": "#2a3f5f"
            },
            "marker": {
             "line": {
              "color": "#E5ECF6",
              "width": 0.5
             },
             "pattern": {
              "fillmode": "overlay",
              "size": 10,
              "solidity": 0.2
             }
            },
            "type": "bar"
           }
          ],
          "barpolar": [
           {
            "marker": {
             "line": {
              "color": "#E5ECF6",
              "width": 0.5
             },
             "pattern": {
              "fillmode": "overlay",
              "size": 10,
              "solidity": 0.2
             }
            },
            "type": "barpolar"
           }
          ],
          "carpet": [
           {
            "aaxis": {
             "endlinecolor": "#2a3f5f",
             "gridcolor": "white",
             "linecolor": "white",
             "minorgridcolor": "white",
             "startlinecolor": "#2a3f5f"
            },
            "baxis": {
             "endlinecolor": "#2a3f5f",
             "gridcolor": "white",
             "linecolor": "white",
             "minorgridcolor": "white",
             "startlinecolor": "#2a3f5f"
            },
            "type": "carpet"
           }
          ],
          "choropleth": [
           {
            "colorbar": {
             "outlinewidth": 0,
             "ticks": ""
            },
            "type": "choropleth"
           }
          ],
          "contour": [
           {
            "colorbar": {
             "outlinewidth": 0,
             "ticks": ""
            },
            "colorscale": [
             [
              0,
              "#0d0887"
             ],
             [
              0.1111111111111111,
              "#46039f"
             ],
             [
              0.2222222222222222,
              "#7201a8"
             ],
             [
              0.3333333333333333,
              "#9c179e"
             ],
             [
              0.4444444444444444,
              "#bd3786"
             ],
             [
              0.5555555555555556,
              "#d8576b"
             ],
             [
              0.6666666666666666,
              "#ed7953"
             ],
             [
              0.7777777777777778,
              "#fb9f3a"
             ],
             [
              0.8888888888888888,
              "#fdca26"
             ],
             [
              1,
              "#f0f921"
             ]
            ],
            "type": "contour"
           }
          ],
          "contourcarpet": [
           {
            "colorbar": {
             "outlinewidth": 0,
             "ticks": ""
            },
            "type": "contourcarpet"
           }
          ],
          "heatmap": [
           {
            "colorbar": {
             "outlinewidth": 0,
             "ticks": ""
            },
            "colorscale": [
             [
              0,
              "#0d0887"
             ],
             [
              0.1111111111111111,
              "#46039f"
             ],
             [
              0.2222222222222222,
              "#7201a8"
             ],
             [
              0.3333333333333333,
              "#9c179e"
             ],
             [
              0.4444444444444444,
              "#bd3786"
             ],
             [
              0.5555555555555556,
              "#d8576b"
             ],
             [
              0.6666666666666666,
              "#ed7953"
             ],
             [
              0.7777777777777778,
              "#fb9f3a"
             ],
             [
              0.8888888888888888,
              "#fdca26"
             ],
             [
              1,
              "#f0f921"
             ]
            ],
            "type": "heatmap"
           }
          ],
          "heatmapgl": [
           {
            "colorbar": {
             "outlinewidth": 0,
             "ticks": ""
            },
            "colorscale": [
             [
              0,
              "#0d0887"
             ],
             [
              0.1111111111111111,
              "#46039f"
             ],
             [
              0.2222222222222222,
              "#7201a8"
             ],
             [
              0.3333333333333333,
              "#9c179e"
             ],
             [
              0.4444444444444444,
              "#bd3786"
             ],
             [
              0.5555555555555556,
              "#d8576b"
             ],
             [
              0.6666666666666666,
              "#ed7953"
             ],
             [
              0.7777777777777778,
              "#fb9f3a"
             ],
             [
              0.8888888888888888,
              "#fdca26"
             ],
             [
              1,
              "#f0f921"
             ]
            ],
            "type": "heatmapgl"
           }
          ],
          "histogram": [
           {
            "marker": {
             "pattern": {
              "fillmode": "overlay",
              "size": 10,
              "solidity": 0.2
             }
            },
            "type": "histogram"
           }
          ],
          "histogram2d": [
           {
            "colorbar": {
             "outlinewidth": 0,
             "ticks": ""
            },
            "colorscale": [
             [
              0,
              "#0d0887"
             ],
             [
              0.1111111111111111,
              "#46039f"
             ],
             [
              0.2222222222222222,
              "#7201a8"
             ],
             [
              0.3333333333333333,
              "#9c179e"
             ],
             [
              0.4444444444444444,
              "#bd3786"
             ],
             [
              0.5555555555555556,
              "#d8576b"
             ],
             [
              0.6666666666666666,
              "#ed7953"
             ],
             [
              0.7777777777777778,
              "#fb9f3a"
             ],
             [
              0.8888888888888888,
              "#fdca26"
             ],
             [
              1,
              "#f0f921"
             ]
            ],
            "type": "histogram2d"
           }
          ],
          "histogram2dcontour": [
           {
            "colorbar": {
             "outlinewidth": 0,
             "ticks": ""
            },
            "colorscale": [
             [
              0,
              "#0d0887"
             ],
             [
              0.1111111111111111,
              "#46039f"
             ],
             [
              0.2222222222222222,
              "#7201a8"
             ],
             [
              0.3333333333333333,
              "#9c179e"
             ],
             [
              0.4444444444444444,
              "#bd3786"
             ],
             [
              0.5555555555555556,
              "#d8576b"
             ],
             [
              0.6666666666666666,
              "#ed7953"
             ],
             [
              0.7777777777777778,
              "#fb9f3a"
             ],
             [
              0.8888888888888888,
              "#fdca26"
             ],
             [
              1,
              "#f0f921"
             ]
            ],
            "type": "histogram2dcontour"
           }
          ],
          "mesh3d": [
           {
            "colorbar": {
             "outlinewidth": 0,
             "ticks": ""
            },
            "type": "mesh3d"
           }
          ],
          "parcoords": [
           {
            "line": {
             "colorbar": {
              "outlinewidth": 0,
              "ticks": ""
             }
            },
            "type": "parcoords"
           }
          ],
          "pie": [
           {
            "automargin": true,
            "type": "pie"
           }
          ],
          "scatter": [
           {
            "fillpattern": {
             "fillmode": "overlay",
             "size": 10,
             "solidity": 0.2
            },
            "type": "scatter"
           }
          ],
          "scatter3d": [
           {
            "line": {
             "colorbar": {
              "outlinewidth": 0,
              "ticks": ""
             }
            },
            "marker": {
             "colorbar": {
              "outlinewidth": 0,
              "ticks": ""
             }
            },
            "type": "scatter3d"
           }
          ],
          "scattercarpet": [
           {
            "marker": {
             "colorbar": {
              "outlinewidth": 0,
              "ticks": ""
             }
            },
            "type": "scattercarpet"
           }
          ],
          "scattergeo": [
           {
            "marker": {
             "colorbar": {
              "outlinewidth": 0,
              "ticks": ""
             }
            },
            "type": "scattergeo"
           }
          ],
          "scattergl": [
           {
            "marker": {
             "colorbar": {
              "outlinewidth": 0,
              "ticks": ""
             }
            },
            "type": "scattergl"
           }
          ],
          "scattermapbox": [
           {
            "marker": {
             "colorbar": {
              "outlinewidth": 0,
              "ticks": ""
             }
            },
            "type": "scattermapbox"
           }
          ],
          "scatterpolar": [
           {
            "marker": {
             "colorbar": {
              "outlinewidth": 0,
              "ticks": ""
             }
            },
            "type": "scatterpolar"
           }
          ],
          "scatterpolargl": [
           {
            "marker": {
             "colorbar": {
              "outlinewidth": 0,
              "ticks": ""
             }
            },
            "type": "scatterpolargl"
           }
          ],
          "scatterternary": [
           {
            "marker": {
             "colorbar": {
              "outlinewidth": 0,
              "ticks": ""
             }
            },
            "type": "scatterternary"
           }
          ],
          "surface": [
           {
            "colorbar": {
             "outlinewidth": 0,
             "ticks": ""
            },
            "colorscale": [
             [
              0,
              "#0d0887"
             ],
             [
              0.1111111111111111,
              "#46039f"
             ],
             [
              0.2222222222222222,
              "#7201a8"
             ],
             [
              0.3333333333333333,
              "#9c179e"
             ],
             [
              0.4444444444444444,
              "#bd3786"
             ],
             [
              0.5555555555555556,
              "#d8576b"
             ],
             [
              0.6666666666666666,
              "#ed7953"
             ],
             [
              0.7777777777777778,
              "#fb9f3a"
             ],
             [
              0.8888888888888888,
              "#fdca26"
             ],
             [
              1,
              "#f0f921"
             ]
            ],
            "type": "surface"
           }
          ],
          "table": [
           {
            "cells": {
             "fill": {
              "color": "#EBF0F8"
             },
             "line": {
              "color": "white"
             }
            },
            "header": {
             "fill": {
              "color": "#C8D4E3"
             },
             "line": {
              "color": "white"
             }
            },
            "type": "table"
           }
          ]
         },
         "layout": {
          "annotationdefaults": {
           "arrowcolor": "#2a3f5f",
           "arrowhead": 0,
           "arrowwidth": 1
          },
          "autotypenumbers": "strict",
          "coloraxis": {
           "colorbar": {
            "outlinewidth": 0,
            "ticks": ""
           }
          },
          "colorscale": {
           "diverging": [
            [
             0,
             "#8e0152"
            ],
            [
             0.1,
             "#c51b7d"
            ],
            [
             0.2,
             "#de77ae"
            ],
            [
             0.3,
             "#f1b6da"
            ],
            [
             0.4,
             "#fde0ef"
            ],
            [
             0.5,
             "#f7f7f7"
            ],
            [
             0.6,
             "#e6f5d0"
            ],
            [
             0.7,
             "#b8e186"
            ],
            [
             0.8,
             "#7fbc41"
            ],
            [
             0.9,
             "#4d9221"
            ],
            [
             1,
             "#276419"
            ]
           ],
           "sequential": [
            [
             0,
             "#0d0887"
            ],
            [
             0.1111111111111111,
             "#46039f"
            ],
            [
             0.2222222222222222,
             "#7201a8"
            ],
            [
             0.3333333333333333,
             "#9c179e"
            ],
            [
             0.4444444444444444,
             "#bd3786"
            ],
            [
             0.5555555555555556,
             "#d8576b"
            ],
            [
             0.6666666666666666,
             "#ed7953"
            ],
            [
             0.7777777777777778,
             "#fb9f3a"
            ],
            [
             0.8888888888888888,
             "#fdca26"
            ],
            [
             1,
             "#f0f921"
            ]
           ],
           "sequentialminus": [
            [
             0,
             "#0d0887"
            ],
            [
             0.1111111111111111,
             "#46039f"
            ],
            [
             0.2222222222222222,
             "#7201a8"
            ],
            [
             0.3333333333333333,
             "#9c179e"
            ],
            [
             0.4444444444444444,
             "#bd3786"
            ],
            [
             0.5555555555555556,
             "#d8576b"
            ],
            [
             0.6666666666666666,
             "#ed7953"
            ],
            [
             0.7777777777777778,
             "#fb9f3a"
            ],
            [
             0.8888888888888888,
             "#fdca26"
            ],
            [
             1,
             "#f0f921"
            ]
           ]
          },
          "colorway": [
           "#636efa",
           "#EF553B",
           "#00cc96",
           "#ab63fa",
           "#FFA15A",
           "#19d3f3",
           "#FF6692",
           "#B6E880",
           "#FF97FF",
           "#FECB52"
          ],
          "font": {
           "color": "#2a3f5f"
          },
          "geo": {
           "bgcolor": "white",
           "lakecolor": "white",
           "landcolor": "#E5ECF6",
           "showlakes": true,
           "showland": true,
           "subunitcolor": "white"
          },
          "hoverlabel": {
           "align": "left"
          },
          "hovermode": "closest",
          "mapbox": {
           "style": "light"
          },
          "paper_bgcolor": "white",
          "plot_bgcolor": "#E5ECF6",
          "polar": {
           "angularaxis": {
            "gridcolor": "white",
            "linecolor": "white",
            "ticks": ""
           },
           "bgcolor": "#E5ECF6",
           "radialaxis": {
            "gridcolor": "white",
            "linecolor": "white",
            "ticks": ""
           }
          },
          "scene": {
           "xaxis": {
            "backgroundcolor": "#E5ECF6",
            "gridcolor": "white",
            "gridwidth": 2,
            "linecolor": "white",
            "showbackground": true,
            "ticks": "",
            "zerolinecolor": "white"
           },
           "yaxis": {
            "backgroundcolor": "#E5ECF6",
            "gridcolor": "white",
            "gridwidth": 2,
            "linecolor": "white",
            "showbackground": true,
            "ticks": "",
            "zerolinecolor": "white"
           },
           "zaxis": {
            "backgroundcolor": "#E5ECF6",
            "gridcolor": "white",
            "gridwidth": 2,
            "linecolor": "white",
            "showbackground": true,
            "ticks": "",
            "zerolinecolor": "white"
           }
          },
          "shapedefaults": {
           "line": {
            "color": "#2a3f5f"
           }
          },
          "ternary": {
           "aaxis": {
            "gridcolor": "white",
            "linecolor": "white",
            "ticks": ""
           },
           "baxis": {
            "gridcolor": "white",
            "linecolor": "white",
            "ticks": ""
           },
           "bgcolor": "#E5ECF6",
           "caxis": {
            "gridcolor": "white",
            "linecolor": "white",
            "ticks": ""
           }
          },
          "title": {
           "x": 0.05
          },
          "xaxis": {
           "automargin": true,
           "gridcolor": "white",
           "linecolor": "white",
           "ticks": "",
           "title": {
            "standoff": 15
           },
           "zerolinecolor": "white",
           "zerolinewidth": 2
          },
          "yaxis": {
           "automargin": true,
           "gridcolor": "white",
           "linecolor": "white",
           "ticks": "",
           "title": {
            "standoff": 15
           },
           "zerolinecolor": "white",
           "zerolinewidth": 2
          }
         }
        },
        "title": {
         "text": "Sparse probe scores for \"conv pixel contains mouse2\" over resadd layers and K values"
        },
        "xaxis": {
         "anchor": "y",
         "domain": [
          0,
          1
         ],
         "title": {
          "text": "layer"
         }
        },
        "yaxis": {
         "anchor": "x",
         "domain": [
          0,
          1
         ],
         "title": {
          "text": "score"
         }
        }
       }
      },
      "text/html": [
       "<div>                            <div id=\"af8cc176-f232-4933-b451-b18745e99c8a\" class=\"plotly-graph-div\" style=\"height:525px; width:100%;\"></div>            <script type=\"text/javascript\">                require([\"plotly\"], function(Plotly) {                    window.PLOTLYENV=window.PLOTLYENV || {};                                    if (document.getElementById(\"af8cc176-f232-4933-b451-b18745e99c8a\")) {                    Plotly.newPlot(                        \"af8cc176-f232-4933-b451-b18745e99c8a\",                        [{\"hovertemplate\":\"K=1\\u003cbr\\u003elayer=%{x}\\u003cbr\\u003escore=%{y}\\u003cextra\\u003e\\u003c\\u002fextra\\u003e\",\"legendgroup\":\"1\",\"line\":{\"color\":\"#636efa\",\"dash\":\"solid\"},\"marker\":{\"symbol\":\"circle\"},\"mode\":\"lines\",\"name\":\"1\",\"orientation\":\"v\",\"showlegend\":true,\"x\":[\"embedder.block1.conv_in0\",\"embedder.block1.res1.relu1_out\",\"embedder.block1.res1.resadd_out\",\"embedder.block1.res1.relu2_out\",\"embedder.block1.res2.relu1_out\",\"embedder.block1.res2.resadd_out\",\"embedder.block1.res2.relu2_out\",\"embedder.block2.res1.relu1_out\",\"embedder.block2.res1.resadd_out\",\"embedder.block2.res1.relu2_out\",\"embedder.block2.res2.relu1_out\",\"embedder.block2.res2.resadd_out\",\"embedder.block2.res2.relu2_out\",\"embedder.block3.res1.relu1_out\",\"embedder.block3.res1.resadd_out\",\"embedder.block3.res1.relu2_out\",\"embedder.block3.res2.relu1_out\",\"embedder.block3.res2.resadd_out\",\"embedder.block3.res2.relu2_out\"],\"xaxis\":\"x\",\"y\":[0.7125,1.0,1.0,0.95,1.0,1.0,0.9625,1.0,0.975,0.8875,0.9375,0.9375,0.8125,0.9625,0.95,0.7875,0.95,0.8875,0.925],\"yaxis\":\"y\",\"type\":\"scatter\"},{\"hovertemplate\":\"K=2\\u003cbr\\u003elayer=%{x}\\u003cbr\\u003escore=%{y}\\u003cextra\\u003e\\u003c\\u002fextra\\u003e\",\"legendgroup\":\"2\",\"line\":{\"color\":\"#EF553B\",\"dash\":\"solid\"},\"marker\":{\"symbol\":\"circle\"},\"mode\":\"lines\",\"name\":\"2\",\"orientation\":\"v\",\"showlegend\":true,\"x\":[\"embedder.block1.conv_in0\",\"embedder.block1.res1.relu1_out\",\"embedder.block1.res1.resadd_out\",\"embedder.block1.res1.relu2_out\",\"embedder.block1.res2.relu1_out\",\"embedder.block1.res2.resadd_out\",\"embedder.block1.res2.relu2_out\",\"embedder.block2.res1.relu1_out\",\"embedder.block2.res1.resadd_out\",\"embedder.block2.res1.relu2_out\",\"embedder.block2.res2.relu1_out\",\"embedder.block2.res2.resadd_out\",\"embedder.block2.res2.relu2_out\",\"embedder.block3.res1.relu1_out\",\"embedder.block3.res1.resadd_out\",\"embedder.block3.res1.relu2_out\",\"embedder.block3.res2.relu1_out\",\"embedder.block3.res2.resadd_out\",\"embedder.block3.res2.relu2_out\"],\"xaxis\":\"x\",\"y\":[0.85,1.0,1.0,0.9375,1.0,1.0,0.975,1.0,0.975,0.8375,0.95,0.9625,0.8,0.9625,0.9625,0.85,0.9625,0.9125,0.95],\"yaxis\":\"y\",\"type\":\"scatter\"},{\"hovertemplate\":\"K=3\\u003cbr\\u003elayer=%{x}\\u003cbr\\u003escore=%{y}\\u003cextra\\u003e\\u003c\\u002fextra\\u003e\",\"legendgroup\":\"3\",\"line\":{\"color\":\"#00cc96\",\"dash\":\"solid\"},\"marker\":{\"symbol\":\"circle\"},\"mode\":\"lines\",\"name\":\"3\",\"orientation\":\"v\",\"showlegend\":true,\"x\":[\"embedder.block1.conv_in0\",\"embedder.block1.res1.relu1_out\",\"embedder.block1.res1.resadd_out\",\"embedder.block1.res1.relu2_out\",\"embedder.block1.res2.relu1_out\",\"embedder.block1.res2.resadd_out\",\"embedder.block1.res2.relu2_out\",\"embedder.block2.res1.relu1_out\",\"embedder.block2.res1.resadd_out\",\"embedder.block2.res1.relu2_out\",\"embedder.block2.res2.relu1_out\",\"embedder.block2.res2.resadd_out\",\"embedder.block2.res2.relu2_out\",\"embedder.block3.res1.relu1_out\",\"embedder.block3.res1.resadd_out\",\"embedder.block3.res1.relu2_out\",\"embedder.block3.res2.relu1_out\",\"embedder.block3.res2.resadd_out\",\"embedder.block3.res2.relu2_out\"],\"xaxis\":\"x\",\"y\":[0.8875,1.0,1.0,0.975,0.9875,0.9875,0.975,1.0,0.975,0.8625,0.975,0.9625,0.8125,0.9625,0.9625,0.875,0.925,0.9125,0.9375],\"yaxis\":\"y\",\"type\":\"scatter\"},{\"hovertemplate\":\"K=4\\u003cbr\\u003elayer=%{x}\\u003cbr\\u003escore=%{y}\\u003cextra\\u003e\\u003c\\u002fextra\\u003e\",\"legendgroup\":\"4\",\"line\":{\"color\":\"#ab63fa\",\"dash\":\"solid\"},\"marker\":{\"symbol\":\"circle\"},\"mode\":\"lines\",\"name\":\"4\",\"orientation\":\"v\",\"showlegend\":true,\"x\":[\"embedder.block1.conv_in0\",\"embedder.block1.res1.relu1_out\",\"embedder.block1.res1.resadd_out\",\"embedder.block1.res1.relu2_out\",\"embedder.block1.res2.relu1_out\",\"embedder.block1.res2.resadd_out\",\"embedder.block1.res2.relu2_out\",\"embedder.block2.res1.relu1_out\",\"embedder.block2.res1.resadd_out\",\"embedder.block2.res1.relu2_out\",\"embedder.block2.res2.relu1_out\",\"embedder.block2.res2.resadd_out\",\"embedder.block2.res2.relu2_out\",\"embedder.block3.res1.relu1_out\",\"embedder.block3.res1.resadd_out\",\"embedder.block3.res1.relu2_out\",\"embedder.block3.res2.relu1_out\",\"embedder.block3.res2.resadd_out\",\"embedder.block3.res2.relu2_out\"],\"xaxis\":\"x\",\"y\":[0.8875,1.0,1.0,0.975,0.9875,1.0,0.975,1.0,0.975,0.9125,0.975,0.9625,0.8125,0.9625,0.9625,0.8875,0.975,0.9,0.9375],\"yaxis\":\"y\",\"type\":\"scatter\"},{\"hovertemplate\":\"K=5\\u003cbr\\u003elayer=%{x}\\u003cbr\\u003escore=%{y}\\u003cextra\\u003e\\u003c\\u002fextra\\u003e\",\"legendgroup\":\"5\",\"line\":{\"color\":\"#FFA15A\",\"dash\":\"solid\"},\"marker\":{\"symbol\":\"circle\"},\"mode\":\"lines\",\"name\":\"5\",\"orientation\":\"v\",\"showlegend\":true,\"x\":[\"embedder.block1.conv_in0\",\"embedder.block1.res1.relu1_out\",\"embedder.block1.res1.resadd_out\",\"embedder.block1.res1.relu2_out\",\"embedder.block1.res2.relu1_out\",\"embedder.block1.res2.resadd_out\",\"embedder.block1.res2.relu2_out\",\"embedder.block2.res1.relu1_out\",\"embedder.block2.res1.resadd_out\",\"embedder.block2.res1.relu2_out\",\"embedder.block2.res2.relu1_out\",\"embedder.block2.res2.resadd_out\",\"embedder.block2.res2.relu2_out\",\"embedder.block3.res1.relu1_out\",\"embedder.block3.res1.resadd_out\",\"embedder.block3.res1.relu2_out\",\"embedder.block3.res2.relu1_out\",\"embedder.block3.res2.resadd_out\",\"embedder.block3.res2.relu2_out\"],\"xaxis\":\"x\",\"y\":[0.8875,1.0,0.9875,0.975,1.0,1.0,0.975,1.0,0.9875,0.925,0.975,0.9625,0.8125,0.9625,0.9625,0.9125,0.975,0.925,0.95],\"yaxis\":\"y\",\"type\":\"scatter\"},{\"hovertemplate\":\"K=6\\u003cbr\\u003elayer=%{x}\\u003cbr\\u003escore=%{y}\\u003cextra\\u003e\\u003c\\u002fextra\\u003e\",\"legendgroup\":\"6\",\"line\":{\"color\":\"#19d3f3\",\"dash\":\"solid\"},\"marker\":{\"symbol\":\"circle\"},\"mode\":\"lines\",\"name\":\"6\",\"orientation\":\"v\",\"showlegend\":true,\"x\":[\"embedder.block1.conv_in0\",\"embedder.block1.res1.relu1_out\",\"embedder.block1.res1.resadd_out\",\"embedder.block1.res1.relu2_out\",\"embedder.block1.res2.relu1_out\",\"embedder.block1.res2.resadd_out\",\"embedder.block1.res2.relu2_out\",\"embedder.block2.res1.relu1_out\",\"embedder.block2.res1.resadd_out\",\"embedder.block2.res1.relu2_out\",\"embedder.block2.res2.relu1_out\",\"embedder.block2.res2.resadd_out\",\"embedder.block2.res2.relu2_out\",\"embedder.block3.res1.relu1_out\",\"embedder.block3.res1.resadd_out\",\"embedder.block3.res1.relu2_out\",\"embedder.block3.res2.relu1_out\",\"embedder.block3.res2.resadd_out\",\"embedder.block3.res2.relu2_out\"],\"xaxis\":\"x\",\"y\":[0.8875,1.0,0.9875,0.975,0.9875,0.9875,0.975,1.0,1.0,0.9375,0.9875,0.9625,0.825,0.95,0.9625,0.9125,0.975,0.9125,0.9625],\"yaxis\":\"y\",\"type\":\"scatter\"},{\"hovertemplate\":\"K=7\\u003cbr\\u003elayer=%{x}\\u003cbr\\u003escore=%{y}\\u003cextra\\u003e\\u003c\\u002fextra\\u003e\",\"legendgroup\":\"7\",\"line\":{\"color\":\"#FF6692\",\"dash\":\"solid\"},\"marker\":{\"symbol\":\"circle\"},\"mode\":\"lines\",\"name\":\"7\",\"orientation\":\"v\",\"showlegend\":true,\"x\":[\"embedder.block1.conv_in0\",\"embedder.block1.res1.relu1_out\",\"embedder.block1.res1.resadd_out\",\"embedder.block1.res1.relu2_out\",\"embedder.block1.res2.relu1_out\",\"embedder.block1.res2.resadd_out\",\"embedder.block1.res2.relu2_out\",\"embedder.block2.res1.relu1_out\",\"embedder.block2.res1.resadd_out\",\"embedder.block2.res1.relu2_out\",\"embedder.block2.res2.relu1_out\",\"embedder.block2.res2.resadd_out\",\"embedder.block2.res2.relu2_out\",\"embedder.block3.res1.relu1_out\",\"embedder.block3.res1.resadd_out\",\"embedder.block3.res1.relu2_out\",\"embedder.block3.res2.relu1_out\",\"embedder.block3.res2.resadd_out\",\"embedder.block3.res2.relu2_out\"],\"xaxis\":\"x\",\"y\":[0.8875,1.0,0.9875,0.975,1.0,1.0,0.975,1.0,1.0,0.95,0.9875,0.975,0.825,0.9375,0.9625,0.9125,0.975,0.9125,0.9625],\"yaxis\":\"y\",\"type\":\"scatter\"},{\"hovertemplate\":\"K=8\\u003cbr\\u003elayer=%{x}\\u003cbr\\u003escore=%{y}\\u003cextra\\u003e\\u003c\\u002fextra\\u003e\",\"legendgroup\":\"8\",\"line\":{\"color\":\"#B6E880\",\"dash\":\"solid\"},\"marker\":{\"symbol\":\"circle\"},\"mode\":\"lines\",\"name\":\"8\",\"orientation\":\"v\",\"showlegend\":true,\"x\":[\"embedder.block1.conv_in0\",\"embedder.block1.res1.relu1_out\",\"embedder.block1.res1.resadd_out\",\"embedder.block1.res1.relu2_out\",\"embedder.block1.res2.relu1_out\",\"embedder.block1.res2.resadd_out\",\"embedder.block1.res2.relu2_out\",\"embedder.block2.res1.relu1_out\",\"embedder.block2.res1.resadd_out\",\"embedder.block2.res1.relu2_out\",\"embedder.block2.res2.relu1_out\",\"embedder.block2.res2.resadd_out\",\"embedder.block2.res2.relu2_out\",\"embedder.block3.res1.relu1_out\",\"embedder.block3.res1.resadd_out\",\"embedder.block3.res1.relu2_out\",\"embedder.block3.res2.relu1_out\",\"embedder.block3.res2.resadd_out\",\"embedder.block3.res2.relu2_out\"],\"xaxis\":\"x\",\"y\":[0.8875,1.0,1.0,0.975,1.0,1.0,0.975,1.0,0.9875,0.9375,0.9875,0.975,0.8375,0.9375,0.975,0.9125,0.975,0.9125,0.9625],\"yaxis\":\"y\",\"type\":\"scatter\"},{\"hovertemplate\":\"K=9\\u003cbr\\u003elayer=%{x}\\u003cbr\\u003escore=%{y}\\u003cextra\\u003e\\u003c\\u002fextra\\u003e\",\"legendgroup\":\"9\",\"line\":{\"color\":\"#FF97FF\",\"dash\":\"solid\"},\"marker\":{\"symbol\":\"circle\"},\"mode\":\"lines\",\"name\":\"9\",\"orientation\":\"v\",\"showlegend\":true,\"x\":[\"embedder.block1.conv_in0\",\"embedder.block1.res1.relu1_out\",\"embedder.block1.res1.resadd_out\",\"embedder.block1.res1.relu2_out\",\"embedder.block1.res2.relu1_out\",\"embedder.block1.res2.resadd_out\",\"embedder.block1.res2.relu2_out\",\"embedder.block2.res1.relu1_out\",\"embedder.block2.res1.resadd_out\",\"embedder.block2.res1.relu2_out\",\"embedder.block2.res2.relu1_out\",\"embedder.block2.res2.resadd_out\",\"embedder.block2.res2.relu2_out\",\"embedder.block3.res1.relu1_out\",\"embedder.block3.res1.resadd_out\",\"embedder.block3.res1.relu2_out\",\"embedder.block3.res2.relu1_out\",\"embedder.block3.res2.resadd_out\",\"embedder.block3.res2.relu2_out\"],\"xaxis\":\"x\",\"y\":[0.8875,1.0,1.0,0.975,1.0,1.0,0.975,1.0,0.9875,0.975,0.9875,0.975,0.8375,0.95,0.9875,0.9,0.975,0.9125,0.9625],\"yaxis\":\"y\",\"type\":\"scatter\"},{\"hovertemplate\":\"K=10\\u003cbr\\u003elayer=%{x}\\u003cbr\\u003escore=%{y}\\u003cextra\\u003e\\u003c\\u002fextra\\u003e\",\"legendgroup\":\"10\",\"line\":{\"color\":\"#FECB52\",\"dash\":\"solid\"},\"marker\":{\"symbol\":\"circle\"},\"mode\":\"lines\",\"name\":\"10\",\"orientation\":\"v\",\"showlegend\":true,\"x\":[\"embedder.block1.conv_in0\",\"embedder.block1.res1.relu1_out\",\"embedder.block1.res1.resadd_out\",\"embedder.block1.res1.relu2_out\",\"embedder.block1.res2.relu1_out\",\"embedder.block1.res2.resadd_out\",\"embedder.block1.res2.relu2_out\",\"embedder.block2.res1.relu1_out\",\"embedder.block2.res1.resadd_out\",\"embedder.block2.res1.relu2_out\",\"embedder.block2.res2.relu1_out\",\"embedder.block2.res2.resadd_out\",\"embedder.block2.res2.relu2_out\",\"embedder.block3.res1.relu1_out\",\"embedder.block3.res1.resadd_out\",\"embedder.block3.res1.relu2_out\",\"embedder.block3.res2.relu1_out\",\"embedder.block3.res2.resadd_out\",\"embedder.block3.res2.relu2_out\"],\"xaxis\":\"x\",\"y\":[0.8875,1.0,1.0,0.975,0.9875,1.0,0.975,1.0,0.9875,0.975,0.9875,0.975,0.8375,0.9625,0.9875,0.9625,0.975,0.9125,0.9625],\"yaxis\":\"y\",\"type\":\"scatter\"}],                        {\"template\":{\"data\":{\"histogram2dcontour\":[{\"type\":\"histogram2dcontour\",\"colorbar\":{\"outlinewidth\":0,\"ticks\":\"\"},\"colorscale\":[[0.0,\"#0d0887\"],[0.1111111111111111,\"#46039f\"],[0.2222222222222222,\"#7201a8\"],[0.3333333333333333,\"#9c179e\"],[0.4444444444444444,\"#bd3786\"],[0.5555555555555556,\"#d8576b\"],[0.6666666666666666,\"#ed7953\"],[0.7777777777777778,\"#fb9f3a\"],[0.8888888888888888,\"#fdca26\"],[1.0,\"#f0f921\"]]}],\"choropleth\":[{\"type\":\"choropleth\",\"colorbar\":{\"outlinewidth\":0,\"ticks\":\"\"}}],\"histogram2d\":[{\"type\":\"histogram2d\",\"colorbar\":{\"outlinewidth\":0,\"ticks\":\"\"},\"colorscale\":[[0.0,\"#0d0887\"],[0.1111111111111111,\"#46039f\"],[0.2222222222222222,\"#7201a8\"],[0.3333333333333333,\"#9c179e\"],[0.4444444444444444,\"#bd3786\"],[0.5555555555555556,\"#d8576b\"],[0.6666666666666666,\"#ed7953\"],[0.7777777777777778,\"#fb9f3a\"],[0.8888888888888888,\"#fdca26\"],[1.0,\"#f0f921\"]]}],\"heatmap\":[{\"type\":\"heatmap\",\"colorbar\":{\"outlinewidth\":0,\"ticks\":\"\"},\"colorscale\":[[0.0,\"#0d0887\"],[0.1111111111111111,\"#46039f\"],[0.2222222222222222,\"#7201a8\"],[0.3333333333333333,\"#9c179e\"],[0.4444444444444444,\"#bd3786\"],[0.5555555555555556,\"#d8576b\"],[0.6666666666666666,\"#ed7953\"],[0.7777777777777778,\"#fb9f3a\"],[0.8888888888888888,\"#fdca26\"],[1.0,\"#f0f921\"]]}],\"heatmapgl\":[{\"type\":\"heatmapgl\",\"colorbar\":{\"outlinewidth\":0,\"ticks\":\"\"},\"colorscale\":[[0.0,\"#0d0887\"],[0.1111111111111111,\"#46039f\"],[0.2222222222222222,\"#7201a8\"],[0.3333333333333333,\"#9c179e\"],[0.4444444444444444,\"#bd3786\"],[0.5555555555555556,\"#d8576b\"],[0.6666666666666666,\"#ed7953\"],[0.7777777777777778,\"#fb9f3a\"],[0.8888888888888888,\"#fdca26\"],[1.0,\"#f0f921\"]]}],\"contourcarpet\":[{\"type\":\"contourcarpet\",\"colorbar\":{\"outlinewidth\":0,\"ticks\":\"\"}}],\"contour\":[{\"type\":\"contour\",\"colorbar\":{\"outlinewidth\":0,\"ticks\":\"\"},\"colorscale\":[[0.0,\"#0d0887\"],[0.1111111111111111,\"#46039f\"],[0.2222222222222222,\"#7201a8\"],[0.3333333333333333,\"#9c179e\"],[0.4444444444444444,\"#bd3786\"],[0.5555555555555556,\"#d8576b\"],[0.6666666666666666,\"#ed7953\"],[0.7777777777777778,\"#fb9f3a\"],[0.8888888888888888,\"#fdca26\"],[1.0,\"#f0f921\"]]}],\"surface\":[{\"type\":\"surface\",\"colorbar\":{\"outlinewidth\":0,\"ticks\":\"\"},\"colorscale\":[[0.0,\"#0d0887\"],[0.1111111111111111,\"#46039f\"],[0.2222222222222222,\"#7201a8\"],[0.3333333333333333,\"#9c179e\"],[0.4444444444444444,\"#bd3786\"],[0.5555555555555556,\"#d8576b\"],[0.6666666666666666,\"#ed7953\"],[0.7777777777777778,\"#fb9f3a\"],[0.8888888888888888,\"#fdca26\"],[1.0,\"#f0f921\"]]}],\"mesh3d\":[{\"type\":\"mesh3d\",\"colorbar\":{\"outlinewidth\":0,\"ticks\":\"\"}}],\"scatter\":[{\"fillpattern\":{\"fillmode\":\"overlay\",\"size\":10,\"solidity\":0.2},\"type\":\"scatter\"}],\"parcoords\":[{\"type\":\"parcoords\",\"line\":{\"colorbar\":{\"outlinewidth\":0,\"ticks\":\"\"}}}],\"scatterpolargl\":[{\"type\":\"scatterpolargl\",\"marker\":{\"colorbar\":{\"outlinewidth\":0,\"ticks\":\"\"}}}],\"bar\":[{\"error_x\":{\"color\":\"#2a3f5f\"},\"error_y\":{\"color\":\"#2a3f5f\"},\"marker\":{\"line\":{\"color\":\"#E5ECF6\",\"width\":0.5},\"pattern\":{\"fillmode\":\"overlay\",\"size\":10,\"solidity\":0.2}},\"type\":\"bar\"}],\"scattergeo\":[{\"type\":\"scattergeo\",\"marker\":{\"colorbar\":{\"outlinewidth\":0,\"ticks\":\"\"}}}],\"scatterpolar\":[{\"type\":\"scatterpolar\",\"marker\":{\"colorbar\":{\"outlinewidth\":0,\"ticks\":\"\"}}}],\"histogram\":[{\"marker\":{\"pattern\":{\"fillmode\":\"overlay\",\"size\":10,\"solidity\":0.2}},\"type\":\"histogram\"}],\"scattergl\":[{\"type\":\"scattergl\",\"marker\":{\"colorbar\":{\"outlinewidth\":0,\"ticks\":\"\"}}}],\"scatter3d\":[{\"type\":\"scatter3d\",\"line\":{\"colorbar\":{\"outlinewidth\":0,\"ticks\":\"\"}},\"marker\":{\"colorbar\":{\"outlinewidth\":0,\"ticks\":\"\"}}}],\"scattermapbox\":[{\"type\":\"scattermapbox\",\"marker\":{\"colorbar\":{\"outlinewidth\":0,\"ticks\":\"\"}}}],\"scatterternary\":[{\"type\":\"scatterternary\",\"marker\":{\"colorbar\":{\"outlinewidth\":0,\"ticks\":\"\"}}}],\"scattercarpet\":[{\"type\":\"scattercarpet\",\"marker\":{\"colorbar\":{\"outlinewidth\":0,\"ticks\":\"\"}}}],\"carpet\":[{\"aaxis\":{\"endlinecolor\":\"#2a3f5f\",\"gridcolor\":\"white\",\"linecolor\":\"white\",\"minorgridcolor\":\"white\",\"startlinecolor\":\"#2a3f5f\"},\"baxis\":{\"endlinecolor\":\"#2a3f5f\",\"gridcolor\":\"white\",\"linecolor\":\"white\",\"minorgridcolor\":\"white\",\"startlinecolor\":\"#2a3f5f\"},\"type\":\"carpet\"}],\"table\":[{\"cells\":{\"fill\":{\"color\":\"#EBF0F8\"},\"line\":{\"color\":\"white\"}},\"header\":{\"fill\":{\"color\":\"#C8D4E3\"},\"line\":{\"color\":\"white\"}},\"type\":\"table\"}],\"barpolar\":[{\"marker\":{\"line\":{\"color\":\"#E5ECF6\",\"width\":0.5},\"pattern\":{\"fillmode\":\"overlay\",\"size\":10,\"solidity\":0.2}},\"type\":\"barpolar\"}],\"pie\":[{\"automargin\":true,\"type\":\"pie\"}]},\"layout\":{\"autotypenumbers\":\"strict\",\"colorway\":[\"#636efa\",\"#EF553B\",\"#00cc96\",\"#ab63fa\",\"#FFA15A\",\"#19d3f3\",\"#FF6692\",\"#B6E880\",\"#FF97FF\",\"#FECB52\"],\"font\":{\"color\":\"#2a3f5f\"},\"hovermode\":\"closest\",\"hoverlabel\":{\"align\":\"left\"},\"paper_bgcolor\":\"white\",\"plot_bgcolor\":\"#E5ECF6\",\"polar\":{\"bgcolor\":\"#E5ECF6\",\"angularaxis\":{\"gridcolor\":\"white\",\"linecolor\":\"white\",\"ticks\":\"\"},\"radialaxis\":{\"gridcolor\":\"white\",\"linecolor\":\"white\",\"ticks\":\"\"}},\"ternary\":{\"bgcolor\":\"#E5ECF6\",\"aaxis\":{\"gridcolor\":\"white\",\"linecolor\":\"white\",\"ticks\":\"\"},\"baxis\":{\"gridcolor\":\"white\",\"linecolor\":\"white\",\"ticks\":\"\"},\"caxis\":{\"gridcolor\":\"white\",\"linecolor\":\"white\",\"ticks\":\"\"}},\"coloraxis\":{\"colorbar\":{\"outlinewidth\":0,\"ticks\":\"\"}},\"colorscale\":{\"sequential\":[[0.0,\"#0d0887\"],[0.1111111111111111,\"#46039f\"],[0.2222222222222222,\"#7201a8\"],[0.3333333333333333,\"#9c179e\"],[0.4444444444444444,\"#bd3786\"],[0.5555555555555556,\"#d8576b\"],[0.6666666666666666,\"#ed7953\"],[0.7777777777777778,\"#fb9f3a\"],[0.8888888888888888,\"#fdca26\"],[1.0,\"#f0f921\"]],\"sequentialminus\":[[0.0,\"#0d0887\"],[0.1111111111111111,\"#46039f\"],[0.2222222222222222,\"#7201a8\"],[0.3333333333333333,\"#9c179e\"],[0.4444444444444444,\"#bd3786\"],[0.5555555555555556,\"#d8576b\"],[0.6666666666666666,\"#ed7953\"],[0.7777777777777778,\"#fb9f3a\"],[0.8888888888888888,\"#fdca26\"],[1.0,\"#f0f921\"]],\"diverging\":[[0,\"#8e0152\"],[0.1,\"#c51b7d\"],[0.2,\"#de77ae\"],[0.3,\"#f1b6da\"],[0.4,\"#fde0ef\"],[0.5,\"#f7f7f7\"],[0.6,\"#e6f5d0\"],[0.7,\"#b8e186\"],[0.8,\"#7fbc41\"],[0.9,\"#4d9221\"],[1,\"#276419\"]]},\"xaxis\":{\"gridcolor\":\"white\",\"linecolor\":\"white\",\"ticks\":\"\",\"title\":{\"standoff\":15},\"zerolinecolor\":\"white\",\"automargin\":true,\"zerolinewidth\":2},\"yaxis\":{\"gridcolor\":\"white\",\"linecolor\":\"white\",\"ticks\":\"\",\"title\":{\"standoff\":15},\"zerolinecolor\":\"white\",\"automargin\":true,\"zerolinewidth\":2},\"scene\":{\"xaxis\":{\"backgroundcolor\":\"#E5ECF6\",\"gridcolor\":\"white\",\"linecolor\":\"white\",\"showbackground\":true,\"ticks\":\"\",\"zerolinecolor\":\"white\",\"gridwidth\":2},\"yaxis\":{\"backgroundcolor\":\"#E5ECF6\",\"gridcolor\":\"white\",\"linecolor\":\"white\",\"showbackground\":true,\"ticks\":\"\",\"zerolinecolor\":\"white\",\"gridwidth\":2},\"zaxis\":{\"backgroundcolor\":\"#E5ECF6\",\"gridcolor\":\"white\",\"linecolor\":\"white\",\"showbackground\":true,\"ticks\":\"\",\"zerolinecolor\":\"white\",\"gridwidth\":2}},\"shapedefaults\":{\"line\":{\"color\":\"#2a3f5f\"}},\"annotationdefaults\":{\"arrowcolor\":\"#2a3f5f\",\"arrowhead\":0,\"arrowwidth\":1},\"geo\":{\"bgcolor\":\"white\",\"landcolor\":\"#E5ECF6\",\"subunitcolor\":\"white\",\"showland\":true,\"showlakes\":true,\"lakecolor\":\"white\"},\"title\":{\"x\":0.05},\"mapbox\":{\"style\":\"light\"}}},\"xaxis\":{\"anchor\":\"y\",\"domain\":[0.0,1.0],\"title\":{\"text\":\"layer\"}},\"yaxis\":{\"anchor\":\"x\",\"domain\":[0.0,1.0],\"title\":{\"text\":\"score\"}},\"legend\":{\"title\":{\"text\":\"K\"},\"tracegroupgap\":0},\"title\":{\"text\":\"Sparse probe scores for \\\"conv pixel contains mouse2\\\" over resadd layers and K values\"},\"shapes\":[{\"line\":{\"dash\":\"dot\"},\"type\":\"line\",\"x0\":0,\"x1\":1,\"xref\":\"x domain\",\"y0\":1.0,\"y1\":1.0,\"yref\":\"y\"},{\"line\":{\"dash\":\"dot\"},\"type\":\"line\",\"x0\":0,\"x1\":1,\"xref\":\"x domain\",\"y0\":0.5,\"y1\":0.5,\"yref\":\"y\"}],\"annotations\":[{\"showarrow\":false,\"text\":\"perfect\",\"x\":1,\"xanchor\":\"right\",\"xref\":\"x domain\",\"y\":1.0,\"yanchor\":\"top\",\"yref\":\"y\"},{\"showarrow\":false,\"text\":\"baseline\",\"x\":1,\"xanchor\":\"right\",\"xref\":\"x domain\",\"y\":0.5,\"yanchor\":\"top\",\"yref\":\"y\"}]},                        {\"responsive\": true}                    ).then(function(){\n",
       "                            \n",
       "var gd = document.getElementById('af8cc176-f232-4933-b451-b18745e99c8a');\n",
       "var x = new MutationObserver(function (mutations, observer) {{\n",
       "        var display = window.getComputedStyle(gd).display;\n",
       "        if (!display || display === 'none') {{\n",
       "            console.log([gd, 'removed!']);\n",
       "            Plotly.purge(gd);\n",
       "            observer.disconnect();\n",
       "        }}\n",
       "}});\n",
       "\n",
       "// Listen for the removal of the full notebook cells\n",
       "var notebookContainer = gd.closest('#notebook-container');\n",
       "if (notebookContainer) {{\n",
       "    x.observe(notebookContainer, {childList: true});\n",
       "}}\n",
       "\n",
       "// Listen for the clearing of the current output cell\n",
       "var outputEl = gd.closest('.output');\n",
       "if (outputEl) {{\n",
       "    x.observe(outputEl, {childList: true});\n",
       "}}\n",
       "\n",
       "                        })                };                });            </script>        </div>"
      ]
     },
     "metadata": {},
     "output_type": "display_data"
    }
   ],
   "source": [
    "\n",
    "\n",
    "# Train probes and show results\n",
    "index_nums = np.arange(10)+1\n",
    "for obj_name, pixel_data_this in pixel_data.items():\n",
    "    scores_list = []\n",
    "    for value_label, (pixels, is_obj, rows_in_value, cols_in_value, f_test, sort_inds) in tqdm(pixel_data_this.items()):\n",
    "        for K in index_nums:\n",
    "            results = cpr.linear_probe(pixels[:,sort_inds[:K]], is_obj, C=10, random_state=42)\n",
    "            scores_list.append({'layer': value_label, 'K': K, 'score': results['test_score']})\n",
    "    scores_df = pd.DataFrame(scores_list)\n",
    "\n",
    "    fig = px.line(scores_df, x='layer', y='score', color='K',\n",
    "        title=f'Sparse probe scores for \"conv pixel contains {obj_name}\" over resadd layers and K values')\n",
    "    fig.add_hline(y=1.,  line_dash=\"dot\", annotation_text=\"perfect\",  annotation_position=\"bottom right\")\n",
    "    fig.add_hline(y=0.5, line_dash=\"dot\", annotation_text=\"baseline\", annotation_position=\"bottom right\")\n",
    "    fig.show()\n",
    "\n"
   ]
  },
  {
   "cell_type": "code",
   "execution_count": null,
   "metadata": {},
   "outputs": [],
   "source": []
  },
  {
   "cell_type": "code",
   "execution_count": null,
   "metadata": {},
   "outputs": [],
   "source": []
  },
  {
   "cell_type": "code",
   "execution_count": null,
   "metadata": {},
   "outputs": [],
   "source": []
  }
 ],
 "metadata": {
  "kernelspec": {
   "display_name": "procgen_env",
   "language": "python",
   "name": "python3"
  },
  "language_info": {
   "codemirror_mode": {
    "name": "ipython",
    "version": 3
   },
   "file_extension": ".py",
   "mimetype": "text/x-python",
   "name": "python",
   "nbconvert_exporter": "python",
   "pygments_lexer": "ipython3",
   "version": "3.9.16"
  },
  "orig_nbformat": 4
 },
 "nbformat": 4,
 "nbformat_minor": 2
}
