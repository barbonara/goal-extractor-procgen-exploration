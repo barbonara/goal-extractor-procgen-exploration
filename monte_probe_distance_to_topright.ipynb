{
 "cells": [
  {
   "attachments": {},
   "cell_type": "markdown",
   "metadata": {},
   "source": [
    "\n",
    "https://s3.us-west-2.amazonaws.com/montemac.share/probing_main.html\n"
   ]
  },
  {
   "attachments": {},
   "cell_type": "markdown",
   "metadata": {},
   "source": [
    "### To do:\n",
    "* Collect a bunch of environments\n",
    "* Collect activations for each environment of mouse in first state\n",
    "* Save activations\n",
    "* Train probes on these activations."
   ]
  },
  {
   "cell_type": "code",
   "execution_count": 65,
   "metadata": {},
   "outputs": [],
   "source": [
    "\n",
    "\n",
    "# Imports\n",
    "%reload_ext autoreload\n",
    "%autoreload 2\n",
    "\n",
    "import os\n",
    "import pickle\n",
    "\n",
    "import numpy as np\n",
    "import pandas as pd\n",
    "import scipy as sp\n",
    "from sklearn.feature_selection import f_classif\n",
    "import torch as t\n",
    "import torch.nn.functional as f\n",
    "import xarray as xr\n",
    "import plotly.express as px\n",
    "import plotly as py\n",
    "import plotly.subplots\n",
    "import plotly.graph_objects as go\n",
    "from einops import rearrange, repeat\n",
    "from IPython.display import Video, display\n",
    "from tqdm.auto import tqdm\n",
    "import warnings\n",
    "\n",
    "# NOTE: this is Monte's RL hooking code (and other stuff will be added in the future)\n",
    "# Install normally with: pip install circrl\n",
    "import circrl.module_hook as cmh\n",
    "import circrl.rollouts as cro\n",
    "import circrl.probing as cpr\n",
    "\n",
    "import procgen_tools.models as models\n",
    "import procgen_tools.maze as maze\n",
    "\n",
    "warnings.filterwarnings(\"ignore\", message=r'.*labels with no predicted samples.*')\n",
    "\n",
    "# Hack to make sure cwd is the script folder\n",
    "os.chdir(globals()['_dh'][0])\n",
    "\n",
    "import numpy as np\n",
    "import procgen_tools\n",
    "import matplotlib.pyplot as plt\n",
    "from procgen_tools.imports import *\n",
    "from procgen_tools import visualization, maze, vfield, patch_utils\n",
    "\n"
   ]
  },
  {
   "cell_type": "code",
   "execution_count": 66,
   "metadata": {},
   "outputs": [],
   "source": [
    "# Load models:\n",
    "policy1, hook1 = load_model('15', 15)\n",
    "policy2, hook2 = load_model('1', 15)\n",
    "AX_SIZE = 2"
   ]
  },
  {
   "cell_type": "code",
   "execution_count": 67,
   "metadata": {},
   "outputs": [],
   "source": [
    "# Generate mazes:\n",
    "num_batch = 1000\n",
    "venv = maze.create_venv(num=num_batch, start_level=0, num_levels=0)\n",
    "\n"
   ]
  },
  {
   "cell_type": "code",
   "execution_count": 68,
   "metadata": {},
   "outputs": [],
   "source": [
    "# Collect activations\n",
    "values_to_store = [\n",
    "    'embedder.block1.conv_in0',\n",
    "    'embedder.block1.res1.resadd_out',\n",
    "    'embedder.block1.res2.resadd_out',\n",
    "    'embedder.block2.res1.resadd_out',\n",
    "    'embedder.block2.res2.resadd_out',\n",
    "    'embedder.block3.res1.resadd_out',\n",
    "    'embedder.block3.res2.resadd_out',\n",
    "    'embedder.flatten_out',\n",
    "    'embedder.relufc_out',\n",
    "    'fc_policy_out',\n",
    "]\n",
    "\n",
    "\n",
    "# Run obs through model to get all the activations\n",
    "obs_all = venv.reset().astype('float32')\n",
    "\n",
    "_ = hook.run_with_input(obs_all, values_to_store=values_to_store)\n",
    "_ = hook1.run_with_input(obs_all, values_to_store=values_to_store)\n",
    "_ = hook2.run_with_input(obs_all, values_to_store=values_to_store)"
   ]
  },
  {
   "cell_type": "code",
   "execution_count": 69,
   "metadata": {},
   "outputs": [],
   "source": [
    "# Takes in a maze object, position in maze, venv (collection of environments), and returns labels regarding whether the position contains object\n",
    "def is_obj_in_pos(obj, pos, venv):\n",
    "    square_is_obj = []\n",
    "\n",
    "    for env_idx in range(venv.num_envs):\n",
    "        #maze.EnvState(dd[state_bytes_key])\n",
    "\n",
    "        square_is_obj.append(maze.state_from_venv(venv, env_idx).full_grid()[pos] == obj)\n",
    "\n",
    "    square_is_obj = np.array(square_is_obj, dtype=bool)\n",
    "    return square_is_obj\n",
    "\n",
    "# Train sparse linear probes on observation of model as a baseline\n",
    "\n",
    "def test_probes_on_obs( obj_is_in_pos_array, index_nums = np.array([1, 2, 3, 4, 5, 6, 7, 8, 9, 10]), hook_to_use = hook1):\n",
    "    results, _ = cpr.sparse_linear_probe(hook_to_use, ['embedder.block1.conv_in0'], obj_is_in_pos_array, \n",
    "        index_nums=index_nums, random_state=42, class_weight='balanced', max_iter=1000, C=10.)\n",
    "    #px.line(x=index_nums, y=results.score.isel(value_label=0)).show()\n",
    "    x = pd.DataFrame({'num_activations': index_nums, 'test_score': results.score.isel(value_label=0).values}).set_index('num_activations')\n",
    "    print(x)\n",
    "\n",
    "# Plot the sparse probe scores\n",
    "def plot_sparse_probe_scores(results, y, index_nums, title, include_limits=True):\n",
    "    scores_df = results.score.to_dataframe().reset_index()\n",
    "    scores_df['K'] = index_nums[scores_df['index_num_step']]\n",
    "    fig = px.line(scores_df, x='value_label', y='score', color='K', title=title)\n",
    "    if include_limits:\n",
    "        fig.add_hline(y=1., line_dash=\"dot\", annotation_text=\"perfect\", annotation_position=\"bottom right\")\n",
    "        baseline_score = abs(y.mean()-0.5) + 0.5\n",
    "        fig.add_hline(y=baseline_score, line_dash=\"dot\", annotation_text=\"baseline\", \n",
    "                annotation_position=\"bottom right\")\n",
    "    fig.show()\n",
    "\n",
    "# Apply probes to various layers in the network\n",
    "def test_probes_layers(obj_is_in_pos_array, hook_to_use = hook):\n",
    "    value_labels_to_plot = [\n",
    "        'embedder.block1.conv_in0',\n",
    "        'embedder.block1.res1.resadd_out',\n",
    "        'embedder.block1.res2.resadd_out',\n",
    "        'embedder.block2.res1.resadd_out',\n",
    "        'embedder.block2.res2.resadd_out',\n",
    "        'embedder.block3.res1.resadd_out',\n",
    "        'embedder.block3.res2.resadd_out']\n",
    "\n",
    "    index_nums = np.array([1, 2, 10, 50, 100])\n",
    "\n",
    "    results, _ = cpr.sparse_linear_probe(hook_to_use, value_labels_to_plot, obj_is_in_pos_array,\n",
    "        index_nums = index_nums, random_state=42, class_weight='balanced', max_iter=10000, C=10.)\n",
    "\n",
    "\n",
    "    plot_sparse_probe_scores(results, obj_is_in_pos_array, index_nums, \n",
    "        f'Probe score over layers and K-values for {pos} \"is open\"')\n",
    "    \n",
    "\n",
    "# Get the probe target for object location\n",
    "def get_obj_loc_targets(venv, obj_value):\n",
    "    '''Get potential probe targets for y,x (row, col) location of an\n",
    "    object, where the object is specified by obj_value as the value\n",
    "    to match on in the maze grid array.'''\n",
    "    pos_list = []\n",
    "    \n",
    "\n",
    "    for env_idx in range(venv.num_envs):\n",
    "        pos_list.append(maze.get_object_pos_from_seq_of_states(\n",
    "            maze.state_from_venv(venv, env_idx), obj_value))\n",
    "            \n",
    "        \n",
    "    pos_list = np.array(pos_list)\n",
    "\n",
    "    return pos_list\n",
    "\n",
    "\n",
    "def get_obj_loc_targets(venv, obj_value):\n",
    "    '''Get potential probe targets for y,x (row, col) location of an\n",
    "    object, where the object is specified by obj_value as the value\n",
    "    to match on in the maze grid array.'''\n",
    "    pos_arr = maze.get_object_pos_from_seq_of_states(\n",
    "        [maze.state_from_venv(venv, env_idx).state_bytes for env_idx in range(num_batch)], obj_value)\n",
    "    pos = xr.Dataset({\n",
    "        'y': xr.DataArray(pos_arr[:,0], dims=['batch']),\n",
    "        'x': xr.DataArray(pos_arr[:,1], dims=['batch'])}).assign_coords(\n",
    "            {'batch': np.arange(num_batch)})\n",
    "    return pos\n",
    "\n",
    "\n",
    "def euclidian_mouse_dist_to_top_right(grid: np.ndarray) -> float:\n",
    "    \"\"\"\n",
    "    Euclidian distance from (x,y) to the cheese. default heuristic for A*\n",
    "    \"\"\"\n",
    "    #print(grid)\n",
    "    grid_size = grid.shape[0]\n",
    "    \n",
    "\n",
    "    # venv = maze.venv_from_grid(grid)\n",
    "    # visualization.visualize_venv(\n",
    "    #     venv\n",
    "    # )\n",
    "    cx, cy = maze.get_mouse_pos(grid)\n",
    "    # print(grid_size-1, grid_size-1)\n",
    "    # print(cx,cy)\n",
    "    return np.sqrt((grid_size-1 - cx) ** 2 + (grid_size-1 - cy) ** 2)\n",
    "\n",
    "def get_mouse_dist_to_top_right(venv):\n",
    "    '''Get potential probe targets for y,x (row, col) location of an\n",
    "    object, where the object is specified by obj_value as the value\n",
    "    to match on in the maze grid array.'''\n",
    "    #print(euclidian_mouse_dist_to_top_right(maze.state_from_venv(venv, 0).inner_grid()))\n",
    "    dist = [euclidian_mouse_dist_to_top_right(maze.state_from_venv(venv, env_idx).inner_grid()) for env_idx in range(num_batch)]\n",
    "    dist_arr = np.array(dist)\n",
    "    return dist_arr\n",
    "\n"
   ]
  },
  {
   "cell_type": "code",
   "execution_count": 70,
   "metadata": {},
   "outputs": [],
   "source": [
    "\n",
    "# Get the cheese and mouse position for all data points\n",
    "cheese_pos = get_obj_loc_targets(venv, maze.CHEESE)\n",
    "mouse_pos = get_obj_loc_targets(venv, maze.MOUSE)\n",
    "dist_to_top_right = get_mouse_dist_to_top_right(venv)\n",
    "\n"
   ]
  },
  {
   "cell_type": "code",
   "execution_count": 74,
   "metadata": {},
   "outputs": [
    {
     "data": {
      "application/vnd.jupyter.widget-view+json": {
       "model_id": "0ec261d6227241f8981860188709f831",
       "version_major": 2,
       "version_minor": 0
      },
      "text/plain": [
       "  0%|          | 0/10 [00:00<?, ?it/s]"
      ]
     },
     "metadata": {},
     "output_type": "display_data"
    },
    {
     "name": "stderr",
     "output_type": "stream",
     "text": [
      "/home/paul/miniconda3/envs/procgen_env/lib/python3.9/site-packages/sklearn/feature_selection/_univariate_selection.py:308: RuntimeWarning:\n",
      "\n",
      "invalid value encountered in sqrt\n",
      "\n"
     ]
    },
    {
     "data": {
      "application/vnd.plotly.v1+json": {
       "config": {
        "plotlyServerURL": "https://plot.ly"
       },
       "data": [
        {
         "hovertemplate": "K=1<br>value_label=%{x}<br>score=%{y}<extra></extra>",
         "legendgroup": "1",
         "line": {
          "color": "#636efa",
          "dash": "solid"
         },
         "marker": {
          "symbol": "circle"
         },
         "mode": "lines",
         "name": "1",
         "orientation": "v",
         "showlegend": true,
         "type": "scatter",
         "x": [
          "embedder.block1.conv_in0",
          "embedder.block1.res1.resadd_out",
          "embedder.block1.res2.resadd_out",
          "embedder.block2.res1.resadd_out",
          "embedder.block2.res2.resadd_out",
          "embedder.block3.res1.resadd_out",
          "embedder.block3.res2.resadd_out",
          "embedder.flatten_out",
          "embedder.relufc_out",
          "fc_policy_out"
         ],
         "xaxis": "x",
         "y": [
          -0.0011155674209222255,
          -0.0002584209882714461,
          -0.00021350833322997254,
          0.011690100084524868,
          0.008437943107018175,
          0.23860955171253395,
          0.25986593146832637,
          0.23519951867239164,
          0.3114448580036999,
          0.10414055808350509
         ],
         "yaxis": "y"
        },
        {
         "hovertemplate": "K=10<br>value_label=%{x}<br>score=%{y}<extra></extra>",
         "legendgroup": "10",
         "line": {
          "color": "#EF553B",
          "dash": "solid"
         },
         "marker": {
          "symbol": "circle"
         },
         "mode": "lines",
         "name": "10",
         "orientation": "v",
         "showlegend": true,
         "type": "scatter",
         "x": [
          "embedder.block1.conv_in0",
          "embedder.block1.res1.resadd_out",
          "embedder.block1.res2.resadd_out",
          "embedder.block2.res1.resadd_out",
          "embedder.block2.res2.resadd_out",
          "embedder.block3.res1.resadd_out",
          "embedder.block3.res2.resadd_out",
          "embedder.flatten_out",
          "embedder.relufc_out",
          "fc_policy_out"
         ],
         "xaxis": "x",
         "y": [
          -0.008993109216725914,
          -0.000823751498018277,
          -0.0007673370075393926,
          0.10522256699981802,
          0.08387322004905129,
          0.38361331513074204,
          0.37067915772084425,
          0.42101869935068403,
          0.5329776918261593,
          0.25924222203959557
         ],
         "yaxis": "y"
        },
        {
         "hovertemplate": "K=100<br>value_label=%{x}<br>score=%{y}<extra></extra>",
         "legendgroup": "100",
         "line": {
          "color": "#00cc96",
          "dash": "solid"
         },
         "marker": {
          "symbol": "circle"
         },
         "mode": "lines",
         "name": "100",
         "orientation": "v",
         "showlegend": true,
         "type": "scatter",
         "x": [
          "embedder.block1.conv_in0",
          "embedder.block1.res1.resadd_out",
          "embedder.block1.res2.resadd_out",
          "embedder.block2.res1.resadd_out",
          "embedder.block2.res2.resadd_out",
          "embedder.block3.res1.resadd_out",
          "embedder.block3.res2.resadd_out",
          "embedder.flatten_out",
          "embedder.relufc_out",
          "fc_policy_out"
         ],
         "xaxis": "x",
         "y": [
          -0.03876279492216095,
          -0.006593012025128964,
          -0.005236619677840393,
          0.2656999395527989,
          0.2986189001611478,
          0.673352243018675,
          0.6458496561652368,
          0.6394861217894376,
          0.6552446196636346,
          0.260121010142502
         ],
         "yaxis": "y"
        },
        {
         "hovertemplate": "K=1000<br>value_label=%{x}<br>score=%{y}<extra></extra>",
         "legendgroup": "1000",
         "line": {
          "color": "#ab63fa",
          "dash": "solid"
         },
         "marker": {
          "symbol": "circle"
         },
         "mode": "lines",
         "name": "1000",
         "orientation": "v",
         "showlegend": true,
         "type": "scatter",
         "x": [
          "embedder.block1.conv_in0",
          "embedder.block1.res1.resadd_out",
          "embedder.block1.res2.resadd_out",
          "embedder.block2.res1.resadd_out",
          "embedder.block2.res2.resadd_out",
          "embedder.block3.res1.resadd_out",
          "embedder.block3.res2.resadd_out",
          "embedder.flatten_out",
          "embedder.relufc_out",
          "fc_policy_out"
         ],
         "xaxis": "x",
         "y": [
          -0.09598662297988492,
          -0.03386683814928326,
          -0.03289278588710798,
          0.4923635139874568,
          0.5803931481997299,
          0.812855653071183,
          0.8019516028076834,
          0.7593892740979805,
          0.6599108445233968,
          0.260121010142502
         ],
         "yaxis": "y"
        },
        {
         "hovertemplate": "K=10000<br>value_label=%{x}<br>score=%{y}<extra></extra>",
         "legendgroup": "10000",
         "line": {
          "color": "#FFA15A",
          "dash": "solid"
         },
         "marker": {
          "symbol": "circle"
         },
         "mode": "lines",
         "name": "10000",
         "orientation": "v",
         "showlegend": true,
         "type": "scatter",
         "x": [
          "embedder.block1.conv_in0",
          "embedder.block1.res1.resadd_out",
          "embedder.block1.res2.resadd_out",
          "embedder.block2.res1.resadd_out",
          "embedder.block2.res2.resadd_out",
          "embedder.block3.res1.resadd_out",
          "embedder.block3.res2.resadd_out",
          "embedder.flatten_out",
          "embedder.relufc_out",
          "fc_policy_out"
         ],
         "xaxis": "x",
         "y": [
          -0.16662151366036948,
          -0.07147082304926156,
          -0.06280017545568439,
          0.5543722902857791,
          0.714309432867678,
          0.8433353823563846,
          0.8502996130919698,
          0.7600216351042793,
          0.6599108445233968,
          0.260121010142502
         ],
         "yaxis": "y"
        }
       ],
       "layout": {
        "legend": {
         "title": {
          "text": "K"
         },
         "tracegroupgap": 0
        },
        "template": {
         "data": {
          "bar": [
           {
            "error_x": {
             "color": "#2a3f5f"
            },
            "error_y": {
             "color": "#2a3f5f"
            },
            "marker": {
             "line": {
              "color": "#E5ECF6",
              "width": 0.5
             },
             "pattern": {
              "fillmode": "overlay",
              "size": 10,
              "solidity": 0.2
             }
            },
            "type": "bar"
           }
          ],
          "barpolar": [
           {
            "marker": {
             "line": {
              "color": "#E5ECF6",
              "width": 0.5
             },
             "pattern": {
              "fillmode": "overlay",
              "size": 10,
              "solidity": 0.2
             }
            },
            "type": "barpolar"
           }
          ],
          "carpet": [
           {
            "aaxis": {
             "endlinecolor": "#2a3f5f",
             "gridcolor": "white",
             "linecolor": "white",
             "minorgridcolor": "white",
             "startlinecolor": "#2a3f5f"
            },
            "baxis": {
             "endlinecolor": "#2a3f5f",
             "gridcolor": "white",
             "linecolor": "white",
             "minorgridcolor": "white",
             "startlinecolor": "#2a3f5f"
            },
            "type": "carpet"
           }
          ],
          "choropleth": [
           {
            "colorbar": {
             "outlinewidth": 0,
             "ticks": ""
            },
            "type": "choropleth"
           }
          ],
          "contour": [
           {
            "colorbar": {
             "outlinewidth": 0,
             "ticks": ""
            },
            "colorscale": [
             [
              0,
              "#0d0887"
             ],
             [
              0.1111111111111111,
              "#46039f"
             ],
             [
              0.2222222222222222,
              "#7201a8"
             ],
             [
              0.3333333333333333,
              "#9c179e"
             ],
             [
              0.4444444444444444,
              "#bd3786"
             ],
             [
              0.5555555555555556,
              "#d8576b"
             ],
             [
              0.6666666666666666,
              "#ed7953"
             ],
             [
              0.7777777777777778,
              "#fb9f3a"
             ],
             [
              0.8888888888888888,
              "#fdca26"
             ],
             [
              1,
              "#f0f921"
             ]
            ],
            "type": "contour"
           }
          ],
          "contourcarpet": [
           {
            "colorbar": {
             "outlinewidth": 0,
             "ticks": ""
            },
            "type": "contourcarpet"
           }
          ],
          "heatmap": [
           {
            "colorbar": {
             "outlinewidth": 0,
             "ticks": ""
            },
            "colorscale": [
             [
              0,
              "#0d0887"
             ],
             [
              0.1111111111111111,
              "#46039f"
             ],
             [
              0.2222222222222222,
              "#7201a8"
             ],
             [
              0.3333333333333333,
              "#9c179e"
             ],
             [
              0.4444444444444444,
              "#bd3786"
             ],
             [
              0.5555555555555556,
              "#d8576b"
             ],
             [
              0.6666666666666666,
              "#ed7953"
             ],
             [
              0.7777777777777778,
              "#fb9f3a"
             ],
             [
              0.8888888888888888,
              "#fdca26"
             ],
             [
              1,
              "#f0f921"
             ]
            ],
            "type": "heatmap"
           }
          ],
          "heatmapgl": [
           {
            "colorbar": {
             "outlinewidth": 0,
             "ticks": ""
            },
            "colorscale": [
             [
              0,
              "#0d0887"
             ],
             [
              0.1111111111111111,
              "#46039f"
             ],
             [
              0.2222222222222222,
              "#7201a8"
             ],
             [
              0.3333333333333333,
              "#9c179e"
             ],
             [
              0.4444444444444444,
              "#bd3786"
             ],
             [
              0.5555555555555556,
              "#d8576b"
             ],
             [
              0.6666666666666666,
              "#ed7953"
             ],
             [
              0.7777777777777778,
              "#fb9f3a"
             ],
             [
              0.8888888888888888,
              "#fdca26"
             ],
             [
              1,
              "#f0f921"
             ]
            ],
            "type": "heatmapgl"
           }
          ],
          "histogram": [
           {
            "marker": {
             "pattern": {
              "fillmode": "overlay",
              "size": 10,
              "solidity": 0.2
             }
            },
            "type": "histogram"
           }
          ],
          "histogram2d": [
           {
            "colorbar": {
             "outlinewidth": 0,
             "ticks": ""
            },
            "colorscale": [
             [
              0,
              "#0d0887"
             ],
             [
              0.1111111111111111,
              "#46039f"
             ],
             [
              0.2222222222222222,
              "#7201a8"
             ],
             [
              0.3333333333333333,
              "#9c179e"
             ],
             [
              0.4444444444444444,
              "#bd3786"
             ],
             [
              0.5555555555555556,
              "#d8576b"
             ],
             [
              0.6666666666666666,
              "#ed7953"
             ],
             [
              0.7777777777777778,
              "#fb9f3a"
             ],
             [
              0.8888888888888888,
              "#fdca26"
             ],
             [
              1,
              "#f0f921"
             ]
            ],
            "type": "histogram2d"
           }
          ],
          "histogram2dcontour": [
           {
            "colorbar": {
             "outlinewidth": 0,
             "ticks": ""
            },
            "colorscale": [
             [
              0,
              "#0d0887"
             ],
             [
              0.1111111111111111,
              "#46039f"
             ],
             [
              0.2222222222222222,
              "#7201a8"
             ],
             [
              0.3333333333333333,
              "#9c179e"
             ],
             [
              0.4444444444444444,
              "#bd3786"
             ],
             [
              0.5555555555555556,
              "#d8576b"
             ],
             [
              0.6666666666666666,
              "#ed7953"
             ],
             [
              0.7777777777777778,
              "#fb9f3a"
             ],
             [
              0.8888888888888888,
              "#fdca26"
             ],
             [
              1,
              "#f0f921"
             ]
            ],
            "type": "histogram2dcontour"
           }
          ],
          "mesh3d": [
           {
            "colorbar": {
             "outlinewidth": 0,
             "ticks": ""
            },
            "type": "mesh3d"
           }
          ],
          "parcoords": [
           {
            "line": {
             "colorbar": {
              "outlinewidth": 0,
              "ticks": ""
             }
            },
            "type": "parcoords"
           }
          ],
          "pie": [
           {
            "automargin": true,
            "type": "pie"
           }
          ],
          "scatter": [
           {
            "fillpattern": {
             "fillmode": "overlay",
             "size": 10,
             "solidity": 0.2
            },
            "type": "scatter"
           }
          ],
          "scatter3d": [
           {
            "line": {
             "colorbar": {
              "outlinewidth": 0,
              "ticks": ""
             }
            },
            "marker": {
             "colorbar": {
              "outlinewidth": 0,
              "ticks": ""
             }
            },
            "type": "scatter3d"
           }
          ],
          "scattercarpet": [
           {
            "marker": {
             "colorbar": {
              "outlinewidth": 0,
              "ticks": ""
             }
            },
            "type": "scattercarpet"
           }
          ],
          "scattergeo": [
           {
            "marker": {
             "colorbar": {
              "outlinewidth": 0,
              "ticks": ""
             }
            },
            "type": "scattergeo"
           }
          ],
          "scattergl": [
           {
            "marker": {
             "colorbar": {
              "outlinewidth": 0,
              "ticks": ""
             }
            },
            "type": "scattergl"
           }
          ],
          "scattermapbox": [
           {
            "marker": {
             "colorbar": {
              "outlinewidth": 0,
              "ticks": ""
             }
            },
            "type": "scattermapbox"
           }
          ],
          "scatterpolar": [
           {
            "marker": {
             "colorbar": {
              "outlinewidth": 0,
              "ticks": ""
             }
            },
            "type": "scatterpolar"
           }
          ],
          "scatterpolargl": [
           {
            "marker": {
             "colorbar": {
              "outlinewidth": 0,
              "ticks": ""
             }
            },
            "type": "scatterpolargl"
           }
          ],
          "scatterternary": [
           {
            "marker": {
             "colorbar": {
              "outlinewidth": 0,
              "ticks": ""
             }
            },
            "type": "scatterternary"
           }
          ],
          "surface": [
           {
            "colorbar": {
             "outlinewidth": 0,
             "ticks": ""
            },
            "colorscale": [
             [
              0,
              "#0d0887"
             ],
             [
              0.1111111111111111,
              "#46039f"
             ],
             [
              0.2222222222222222,
              "#7201a8"
             ],
             [
              0.3333333333333333,
              "#9c179e"
             ],
             [
              0.4444444444444444,
              "#bd3786"
             ],
             [
              0.5555555555555556,
              "#d8576b"
             ],
             [
              0.6666666666666666,
              "#ed7953"
             ],
             [
              0.7777777777777778,
              "#fb9f3a"
             ],
             [
              0.8888888888888888,
              "#fdca26"
             ],
             [
              1,
              "#f0f921"
             ]
            ],
            "type": "surface"
           }
          ],
          "table": [
           {
            "cells": {
             "fill": {
              "color": "#EBF0F8"
             },
             "line": {
              "color": "white"
             }
            },
            "header": {
             "fill": {
              "color": "#C8D4E3"
             },
             "line": {
              "color": "white"
             }
            },
            "type": "table"
           }
          ]
         },
         "layout": {
          "annotationdefaults": {
           "arrowcolor": "#2a3f5f",
           "arrowhead": 0,
           "arrowwidth": 1
          },
          "autotypenumbers": "strict",
          "coloraxis": {
           "colorbar": {
            "outlinewidth": 0,
            "ticks": ""
           }
          },
          "colorscale": {
           "diverging": [
            [
             0,
             "#8e0152"
            ],
            [
             0.1,
             "#c51b7d"
            ],
            [
             0.2,
             "#de77ae"
            ],
            [
             0.3,
             "#f1b6da"
            ],
            [
             0.4,
             "#fde0ef"
            ],
            [
             0.5,
             "#f7f7f7"
            ],
            [
             0.6,
             "#e6f5d0"
            ],
            [
             0.7,
             "#b8e186"
            ],
            [
             0.8,
             "#7fbc41"
            ],
            [
             0.9,
             "#4d9221"
            ],
            [
             1,
             "#276419"
            ]
           ],
           "sequential": [
            [
             0,
             "#0d0887"
            ],
            [
             0.1111111111111111,
             "#46039f"
            ],
            [
             0.2222222222222222,
             "#7201a8"
            ],
            [
             0.3333333333333333,
             "#9c179e"
            ],
            [
             0.4444444444444444,
             "#bd3786"
            ],
            [
             0.5555555555555556,
             "#d8576b"
            ],
            [
             0.6666666666666666,
             "#ed7953"
            ],
            [
             0.7777777777777778,
             "#fb9f3a"
            ],
            [
             0.8888888888888888,
             "#fdca26"
            ],
            [
             1,
             "#f0f921"
            ]
           ],
           "sequentialminus": [
            [
             0,
             "#0d0887"
            ],
            [
             0.1111111111111111,
             "#46039f"
            ],
            [
             0.2222222222222222,
             "#7201a8"
            ],
            [
             0.3333333333333333,
             "#9c179e"
            ],
            [
             0.4444444444444444,
             "#bd3786"
            ],
            [
             0.5555555555555556,
             "#d8576b"
            ],
            [
             0.6666666666666666,
             "#ed7953"
            ],
            [
             0.7777777777777778,
             "#fb9f3a"
            ],
            [
             0.8888888888888888,
             "#fdca26"
            ],
            [
             1,
             "#f0f921"
            ]
           ]
          },
          "colorway": [
           "#636efa",
           "#EF553B",
           "#00cc96",
           "#ab63fa",
           "#FFA15A",
           "#19d3f3",
           "#FF6692",
           "#B6E880",
           "#FF97FF",
           "#FECB52"
          ],
          "font": {
           "color": "#2a3f5f"
          },
          "geo": {
           "bgcolor": "white",
           "lakecolor": "white",
           "landcolor": "#E5ECF6",
           "showlakes": true,
           "showland": true,
           "subunitcolor": "white"
          },
          "hoverlabel": {
           "align": "left"
          },
          "hovermode": "closest",
          "mapbox": {
           "style": "light"
          },
          "paper_bgcolor": "white",
          "plot_bgcolor": "#E5ECF6",
          "polar": {
           "angularaxis": {
            "gridcolor": "white",
            "linecolor": "white",
            "ticks": ""
           },
           "bgcolor": "#E5ECF6",
           "radialaxis": {
            "gridcolor": "white",
            "linecolor": "white",
            "ticks": ""
           }
          },
          "scene": {
           "xaxis": {
            "backgroundcolor": "#E5ECF6",
            "gridcolor": "white",
            "gridwidth": 2,
            "linecolor": "white",
            "showbackground": true,
            "ticks": "",
            "zerolinecolor": "white"
           },
           "yaxis": {
            "backgroundcolor": "#E5ECF6",
            "gridcolor": "white",
            "gridwidth": 2,
            "linecolor": "white",
            "showbackground": true,
            "ticks": "",
            "zerolinecolor": "white"
           },
           "zaxis": {
            "backgroundcolor": "#E5ECF6",
            "gridcolor": "white",
            "gridwidth": 2,
            "linecolor": "white",
            "showbackground": true,
            "ticks": "",
            "zerolinecolor": "white"
           }
          },
          "shapedefaults": {
           "line": {
            "color": "#2a3f5f"
           }
          },
          "ternary": {
           "aaxis": {
            "gridcolor": "white",
            "linecolor": "white",
            "ticks": ""
           },
           "baxis": {
            "gridcolor": "white",
            "linecolor": "white",
            "ticks": ""
           },
           "bgcolor": "#E5ECF6",
           "caxis": {
            "gridcolor": "white",
            "linecolor": "white",
            "ticks": ""
           }
          },
          "title": {
           "x": 0.05
          },
          "xaxis": {
           "automargin": true,
           "gridcolor": "white",
           "linecolor": "white",
           "ticks": "",
           "title": {
            "standoff": 15
           },
           "zerolinecolor": "white",
           "zerolinewidth": 2
          },
          "yaxis": {
           "automargin": true,
           "gridcolor": "white",
           "linecolor": "white",
           "ticks": "",
           "title": {
            "standoff": 15
           },
           "zerolinecolor": "white",
           "zerolinewidth": 2
          }
         }
        },
        "title": {
         "text": "Probe score over layers and K-values for cheese_pos_y and model 1-Mouse"
        },
        "xaxis": {
         "anchor": "y",
         "domain": [
          0,
          1
         ],
         "title": {
          "text": "value_label"
         }
        },
        "yaxis": {
         "anchor": "x",
         "domain": [
          0,
          1
         ],
         "title": {
          "text": "score"
         }
        }
       }
      },
      "text/html": [
       "<div>                            <div id=\"e210723a-ecca-484d-b247-5bfa9b27d7d6\" class=\"plotly-graph-div\" style=\"height:525px; width:100%;\"></div>            <script type=\"text/javascript\">                require([\"plotly\"], function(Plotly) {                    window.PLOTLYENV=window.PLOTLYENV || {};                                    if (document.getElementById(\"e210723a-ecca-484d-b247-5bfa9b27d7d6\")) {                    Plotly.newPlot(                        \"e210723a-ecca-484d-b247-5bfa9b27d7d6\",                        [{\"hovertemplate\":\"K=1\\u003cbr\\u003evalue_label=%{x}\\u003cbr\\u003escore=%{y}\\u003cextra\\u003e\\u003c\\u002fextra\\u003e\",\"legendgroup\":\"1\",\"line\":{\"color\":\"#636efa\",\"dash\":\"solid\"},\"marker\":{\"symbol\":\"circle\"},\"mode\":\"lines\",\"name\":\"1\",\"orientation\":\"v\",\"showlegend\":true,\"x\":[\"embedder.block1.conv_in0\",\"embedder.block1.res1.resadd_out\",\"embedder.block1.res2.resadd_out\",\"embedder.block2.res1.resadd_out\",\"embedder.block2.res2.resadd_out\",\"embedder.block3.res1.resadd_out\",\"embedder.block3.res2.resadd_out\",\"embedder.flatten_out\",\"embedder.relufc_out\",\"fc_policy_out\"],\"xaxis\":\"x\",\"y\":[-0.0011155674209222255,-0.0002584209882714461,-0.00021350833322997254,0.011690100084524868,0.008437943107018175,0.23860955171253395,0.25986593146832637,0.23519951867239164,0.3114448580036999,0.10414055808350509],\"yaxis\":\"y\",\"type\":\"scatter\"},{\"hovertemplate\":\"K=10\\u003cbr\\u003evalue_label=%{x}\\u003cbr\\u003escore=%{y}\\u003cextra\\u003e\\u003c\\u002fextra\\u003e\",\"legendgroup\":\"10\",\"line\":{\"color\":\"#EF553B\",\"dash\":\"solid\"},\"marker\":{\"symbol\":\"circle\"},\"mode\":\"lines\",\"name\":\"10\",\"orientation\":\"v\",\"showlegend\":true,\"x\":[\"embedder.block1.conv_in0\",\"embedder.block1.res1.resadd_out\",\"embedder.block1.res2.resadd_out\",\"embedder.block2.res1.resadd_out\",\"embedder.block2.res2.resadd_out\",\"embedder.block3.res1.resadd_out\",\"embedder.block3.res2.resadd_out\",\"embedder.flatten_out\",\"embedder.relufc_out\",\"fc_policy_out\"],\"xaxis\":\"x\",\"y\":[-0.008993109216725914,-0.000823751498018277,-0.0007673370075393926,0.10522256699981802,0.08387322004905129,0.38361331513074204,0.37067915772084425,0.42101869935068403,0.5329776918261593,0.25924222203959557],\"yaxis\":\"y\",\"type\":\"scatter\"},{\"hovertemplate\":\"K=100\\u003cbr\\u003evalue_label=%{x}\\u003cbr\\u003escore=%{y}\\u003cextra\\u003e\\u003c\\u002fextra\\u003e\",\"legendgroup\":\"100\",\"line\":{\"color\":\"#00cc96\",\"dash\":\"solid\"},\"marker\":{\"symbol\":\"circle\"},\"mode\":\"lines\",\"name\":\"100\",\"orientation\":\"v\",\"showlegend\":true,\"x\":[\"embedder.block1.conv_in0\",\"embedder.block1.res1.resadd_out\",\"embedder.block1.res2.resadd_out\",\"embedder.block2.res1.resadd_out\",\"embedder.block2.res2.resadd_out\",\"embedder.block3.res1.resadd_out\",\"embedder.block3.res2.resadd_out\",\"embedder.flatten_out\",\"embedder.relufc_out\",\"fc_policy_out\"],\"xaxis\":\"x\",\"y\":[-0.03876279492216095,-0.006593012025128964,-0.005236619677840393,0.2656999395527989,0.2986189001611478,0.673352243018675,0.6458496561652368,0.6394861217894376,0.6552446196636346,0.260121010142502],\"yaxis\":\"y\",\"type\":\"scatter\"},{\"hovertemplate\":\"K=1000\\u003cbr\\u003evalue_label=%{x}\\u003cbr\\u003escore=%{y}\\u003cextra\\u003e\\u003c\\u002fextra\\u003e\",\"legendgroup\":\"1000\",\"line\":{\"color\":\"#ab63fa\",\"dash\":\"solid\"},\"marker\":{\"symbol\":\"circle\"},\"mode\":\"lines\",\"name\":\"1000\",\"orientation\":\"v\",\"showlegend\":true,\"x\":[\"embedder.block1.conv_in0\",\"embedder.block1.res1.resadd_out\",\"embedder.block1.res2.resadd_out\",\"embedder.block2.res1.resadd_out\",\"embedder.block2.res2.resadd_out\",\"embedder.block3.res1.resadd_out\",\"embedder.block3.res2.resadd_out\",\"embedder.flatten_out\",\"embedder.relufc_out\",\"fc_policy_out\"],\"xaxis\":\"x\",\"y\":[-0.09598662297988492,-0.03386683814928326,-0.03289278588710798,0.4923635139874568,0.5803931481997299,0.812855653071183,0.8019516028076834,0.7593892740979805,0.6599108445233968,0.260121010142502],\"yaxis\":\"y\",\"type\":\"scatter\"},{\"hovertemplate\":\"K=10000\\u003cbr\\u003evalue_label=%{x}\\u003cbr\\u003escore=%{y}\\u003cextra\\u003e\\u003c\\u002fextra\\u003e\",\"legendgroup\":\"10000\",\"line\":{\"color\":\"#FFA15A\",\"dash\":\"solid\"},\"marker\":{\"symbol\":\"circle\"},\"mode\":\"lines\",\"name\":\"10000\",\"orientation\":\"v\",\"showlegend\":true,\"x\":[\"embedder.block1.conv_in0\",\"embedder.block1.res1.resadd_out\",\"embedder.block1.res2.resadd_out\",\"embedder.block2.res1.resadd_out\",\"embedder.block2.res2.resadd_out\",\"embedder.block3.res1.resadd_out\",\"embedder.block3.res2.resadd_out\",\"embedder.flatten_out\",\"embedder.relufc_out\",\"fc_policy_out\"],\"xaxis\":\"x\",\"y\":[-0.16662151366036948,-0.07147082304926156,-0.06280017545568439,0.5543722902857791,0.714309432867678,0.8433353823563846,0.8502996130919698,0.7600216351042793,0.6599108445233968,0.260121010142502],\"yaxis\":\"y\",\"type\":\"scatter\"}],                        {\"template\":{\"data\":{\"histogram2dcontour\":[{\"type\":\"histogram2dcontour\",\"colorbar\":{\"outlinewidth\":0,\"ticks\":\"\"},\"colorscale\":[[0.0,\"#0d0887\"],[0.1111111111111111,\"#46039f\"],[0.2222222222222222,\"#7201a8\"],[0.3333333333333333,\"#9c179e\"],[0.4444444444444444,\"#bd3786\"],[0.5555555555555556,\"#d8576b\"],[0.6666666666666666,\"#ed7953\"],[0.7777777777777778,\"#fb9f3a\"],[0.8888888888888888,\"#fdca26\"],[1.0,\"#f0f921\"]]}],\"choropleth\":[{\"type\":\"choropleth\",\"colorbar\":{\"outlinewidth\":0,\"ticks\":\"\"}}],\"histogram2d\":[{\"type\":\"histogram2d\",\"colorbar\":{\"outlinewidth\":0,\"ticks\":\"\"},\"colorscale\":[[0.0,\"#0d0887\"],[0.1111111111111111,\"#46039f\"],[0.2222222222222222,\"#7201a8\"],[0.3333333333333333,\"#9c179e\"],[0.4444444444444444,\"#bd3786\"],[0.5555555555555556,\"#d8576b\"],[0.6666666666666666,\"#ed7953\"],[0.7777777777777778,\"#fb9f3a\"],[0.8888888888888888,\"#fdca26\"],[1.0,\"#f0f921\"]]}],\"heatmap\":[{\"type\":\"heatmap\",\"colorbar\":{\"outlinewidth\":0,\"ticks\":\"\"},\"colorscale\":[[0.0,\"#0d0887\"],[0.1111111111111111,\"#46039f\"],[0.2222222222222222,\"#7201a8\"],[0.3333333333333333,\"#9c179e\"],[0.4444444444444444,\"#bd3786\"],[0.5555555555555556,\"#d8576b\"],[0.6666666666666666,\"#ed7953\"],[0.7777777777777778,\"#fb9f3a\"],[0.8888888888888888,\"#fdca26\"],[1.0,\"#f0f921\"]]}],\"heatmapgl\":[{\"type\":\"heatmapgl\",\"colorbar\":{\"outlinewidth\":0,\"ticks\":\"\"},\"colorscale\":[[0.0,\"#0d0887\"],[0.1111111111111111,\"#46039f\"],[0.2222222222222222,\"#7201a8\"],[0.3333333333333333,\"#9c179e\"],[0.4444444444444444,\"#bd3786\"],[0.5555555555555556,\"#d8576b\"],[0.6666666666666666,\"#ed7953\"],[0.7777777777777778,\"#fb9f3a\"],[0.8888888888888888,\"#fdca26\"],[1.0,\"#f0f921\"]]}],\"contourcarpet\":[{\"type\":\"contourcarpet\",\"colorbar\":{\"outlinewidth\":0,\"ticks\":\"\"}}],\"contour\":[{\"type\":\"contour\",\"colorbar\":{\"outlinewidth\":0,\"ticks\":\"\"},\"colorscale\":[[0.0,\"#0d0887\"],[0.1111111111111111,\"#46039f\"],[0.2222222222222222,\"#7201a8\"],[0.3333333333333333,\"#9c179e\"],[0.4444444444444444,\"#bd3786\"],[0.5555555555555556,\"#d8576b\"],[0.6666666666666666,\"#ed7953\"],[0.7777777777777778,\"#fb9f3a\"],[0.8888888888888888,\"#fdca26\"],[1.0,\"#f0f921\"]]}],\"surface\":[{\"type\":\"surface\",\"colorbar\":{\"outlinewidth\":0,\"ticks\":\"\"},\"colorscale\":[[0.0,\"#0d0887\"],[0.1111111111111111,\"#46039f\"],[0.2222222222222222,\"#7201a8\"],[0.3333333333333333,\"#9c179e\"],[0.4444444444444444,\"#bd3786\"],[0.5555555555555556,\"#d8576b\"],[0.6666666666666666,\"#ed7953\"],[0.7777777777777778,\"#fb9f3a\"],[0.8888888888888888,\"#fdca26\"],[1.0,\"#f0f921\"]]}],\"mesh3d\":[{\"type\":\"mesh3d\",\"colorbar\":{\"outlinewidth\":0,\"ticks\":\"\"}}],\"scatter\":[{\"fillpattern\":{\"fillmode\":\"overlay\",\"size\":10,\"solidity\":0.2},\"type\":\"scatter\"}],\"parcoords\":[{\"type\":\"parcoords\",\"line\":{\"colorbar\":{\"outlinewidth\":0,\"ticks\":\"\"}}}],\"scatterpolargl\":[{\"type\":\"scatterpolargl\",\"marker\":{\"colorbar\":{\"outlinewidth\":0,\"ticks\":\"\"}}}],\"bar\":[{\"error_x\":{\"color\":\"#2a3f5f\"},\"error_y\":{\"color\":\"#2a3f5f\"},\"marker\":{\"line\":{\"color\":\"#E5ECF6\",\"width\":0.5},\"pattern\":{\"fillmode\":\"overlay\",\"size\":10,\"solidity\":0.2}},\"type\":\"bar\"}],\"scattergeo\":[{\"type\":\"scattergeo\",\"marker\":{\"colorbar\":{\"outlinewidth\":0,\"ticks\":\"\"}}}],\"scatterpolar\":[{\"type\":\"scatterpolar\",\"marker\":{\"colorbar\":{\"outlinewidth\":0,\"ticks\":\"\"}}}],\"histogram\":[{\"marker\":{\"pattern\":{\"fillmode\":\"overlay\",\"size\":10,\"solidity\":0.2}},\"type\":\"histogram\"}],\"scattergl\":[{\"type\":\"scattergl\",\"marker\":{\"colorbar\":{\"outlinewidth\":0,\"ticks\":\"\"}}}],\"scatter3d\":[{\"type\":\"scatter3d\",\"line\":{\"colorbar\":{\"outlinewidth\":0,\"ticks\":\"\"}},\"marker\":{\"colorbar\":{\"outlinewidth\":0,\"ticks\":\"\"}}}],\"scattermapbox\":[{\"type\":\"scattermapbox\",\"marker\":{\"colorbar\":{\"outlinewidth\":0,\"ticks\":\"\"}}}],\"scatterternary\":[{\"type\":\"scatterternary\",\"marker\":{\"colorbar\":{\"outlinewidth\":0,\"ticks\":\"\"}}}],\"scattercarpet\":[{\"type\":\"scattercarpet\",\"marker\":{\"colorbar\":{\"outlinewidth\":0,\"ticks\":\"\"}}}],\"carpet\":[{\"aaxis\":{\"endlinecolor\":\"#2a3f5f\",\"gridcolor\":\"white\",\"linecolor\":\"white\",\"minorgridcolor\":\"white\",\"startlinecolor\":\"#2a3f5f\"},\"baxis\":{\"endlinecolor\":\"#2a3f5f\",\"gridcolor\":\"white\",\"linecolor\":\"white\",\"minorgridcolor\":\"white\",\"startlinecolor\":\"#2a3f5f\"},\"type\":\"carpet\"}],\"table\":[{\"cells\":{\"fill\":{\"color\":\"#EBF0F8\"},\"line\":{\"color\":\"white\"}},\"header\":{\"fill\":{\"color\":\"#C8D4E3\"},\"line\":{\"color\":\"white\"}},\"type\":\"table\"}],\"barpolar\":[{\"marker\":{\"line\":{\"color\":\"#E5ECF6\",\"width\":0.5},\"pattern\":{\"fillmode\":\"overlay\",\"size\":10,\"solidity\":0.2}},\"type\":\"barpolar\"}],\"pie\":[{\"automargin\":true,\"type\":\"pie\"}]},\"layout\":{\"autotypenumbers\":\"strict\",\"colorway\":[\"#636efa\",\"#EF553B\",\"#00cc96\",\"#ab63fa\",\"#FFA15A\",\"#19d3f3\",\"#FF6692\",\"#B6E880\",\"#FF97FF\",\"#FECB52\"],\"font\":{\"color\":\"#2a3f5f\"},\"hovermode\":\"closest\",\"hoverlabel\":{\"align\":\"left\"},\"paper_bgcolor\":\"white\",\"plot_bgcolor\":\"#E5ECF6\",\"polar\":{\"bgcolor\":\"#E5ECF6\",\"angularaxis\":{\"gridcolor\":\"white\",\"linecolor\":\"white\",\"ticks\":\"\"},\"radialaxis\":{\"gridcolor\":\"white\",\"linecolor\":\"white\",\"ticks\":\"\"}},\"ternary\":{\"bgcolor\":\"#E5ECF6\",\"aaxis\":{\"gridcolor\":\"white\",\"linecolor\":\"white\",\"ticks\":\"\"},\"baxis\":{\"gridcolor\":\"white\",\"linecolor\":\"white\",\"ticks\":\"\"},\"caxis\":{\"gridcolor\":\"white\",\"linecolor\":\"white\",\"ticks\":\"\"}},\"coloraxis\":{\"colorbar\":{\"outlinewidth\":0,\"ticks\":\"\"}},\"colorscale\":{\"sequential\":[[0.0,\"#0d0887\"],[0.1111111111111111,\"#46039f\"],[0.2222222222222222,\"#7201a8\"],[0.3333333333333333,\"#9c179e\"],[0.4444444444444444,\"#bd3786\"],[0.5555555555555556,\"#d8576b\"],[0.6666666666666666,\"#ed7953\"],[0.7777777777777778,\"#fb9f3a\"],[0.8888888888888888,\"#fdca26\"],[1.0,\"#f0f921\"]],\"sequentialminus\":[[0.0,\"#0d0887\"],[0.1111111111111111,\"#46039f\"],[0.2222222222222222,\"#7201a8\"],[0.3333333333333333,\"#9c179e\"],[0.4444444444444444,\"#bd3786\"],[0.5555555555555556,\"#d8576b\"],[0.6666666666666666,\"#ed7953\"],[0.7777777777777778,\"#fb9f3a\"],[0.8888888888888888,\"#fdca26\"],[1.0,\"#f0f921\"]],\"diverging\":[[0,\"#8e0152\"],[0.1,\"#c51b7d\"],[0.2,\"#de77ae\"],[0.3,\"#f1b6da\"],[0.4,\"#fde0ef\"],[0.5,\"#f7f7f7\"],[0.6,\"#e6f5d0\"],[0.7,\"#b8e186\"],[0.8,\"#7fbc41\"],[0.9,\"#4d9221\"],[1,\"#276419\"]]},\"xaxis\":{\"gridcolor\":\"white\",\"linecolor\":\"white\",\"ticks\":\"\",\"title\":{\"standoff\":15},\"zerolinecolor\":\"white\",\"automargin\":true,\"zerolinewidth\":2},\"yaxis\":{\"gridcolor\":\"white\",\"linecolor\":\"white\",\"ticks\":\"\",\"title\":{\"standoff\":15},\"zerolinecolor\":\"white\",\"automargin\":true,\"zerolinewidth\":2},\"scene\":{\"xaxis\":{\"backgroundcolor\":\"#E5ECF6\",\"gridcolor\":\"white\",\"linecolor\":\"white\",\"showbackground\":true,\"ticks\":\"\",\"zerolinecolor\":\"white\",\"gridwidth\":2},\"yaxis\":{\"backgroundcolor\":\"#E5ECF6\",\"gridcolor\":\"white\",\"linecolor\":\"white\",\"showbackground\":true,\"ticks\":\"\",\"zerolinecolor\":\"white\",\"gridwidth\":2},\"zaxis\":{\"backgroundcolor\":\"#E5ECF6\",\"gridcolor\":\"white\",\"linecolor\":\"white\",\"showbackground\":true,\"ticks\":\"\",\"zerolinecolor\":\"white\",\"gridwidth\":2}},\"shapedefaults\":{\"line\":{\"color\":\"#2a3f5f\"}},\"annotationdefaults\":{\"arrowcolor\":\"#2a3f5f\",\"arrowhead\":0,\"arrowwidth\":1},\"geo\":{\"bgcolor\":\"white\",\"landcolor\":\"#E5ECF6\",\"subunitcolor\":\"white\",\"showland\":true,\"showlakes\":true,\"lakecolor\":\"white\"},\"title\":{\"x\":0.05},\"mapbox\":{\"style\":\"light\"}}},\"xaxis\":{\"anchor\":\"y\",\"domain\":[0.0,1.0],\"title\":{\"text\":\"value_label\"}},\"yaxis\":{\"anchor\":\"x\",\"domain\":[0.0,1.0],\"title\":{\"text\":\"score\"}},\"legend\":{\"title\":{\"text\":\"K\"},\"tracegroupgap\":0},\"title\":{\"text\":\"Probe score over layers and K-values for cheese_pos_y and model 1-Mouse\"}},                        {\"responsive\": true}                    ).then(function(){\n",
       "                            \n",
       "var gd = document.getElementById('e210723a-ecca-484d-b247-5bfa9b27d7d6');\n",
       "var x = new MutationObserver(function (mutations, observer) {{\n",
       "        var display = window.getComputedStyle(gd).display;\n",
       "        if (!display || display === 'none') {{\n",
       "            console.log([gd, 'removed!']);\n",
       "            Plotly.purge(gd);\n",
       "            observer.disconnect();\n",
       "        }}\n",
       "}});\n",
       "\n",
       "// Listen for the removal of the full notebook cells\n",
       "var notebookContainer = gd.closest('#notebook-container');\n",
       "if (notebookContainer) {{\n",
       "    x.observe(notebookContainer, {childList: true});\n",
       "}}\n",
       "\n",
       "// Listen for the clearing of the current output cell\n",
       "var outputEl = gd.closest('.output');\n",
       "if (outputEl) {{\n",
       "    x.observe(outputEl, {childList: true});\n",
       "}}\n",
       "\n",
       "                        })                };                });            </script>        </div>"
      ]
     },
     "metadata": {},
     "output_type": "display_data"
    },
    {
     "data": {
      "application/vnd.jupyter.widget-view+json": {
       "model_id": "e91e398f63d0415a8022a40c7c2553b3",
       "version_major": 2,
       "version_minor": 0
      },
      "text/plain": [
       "  0%|          | 0/10 [00:00<?, ?it/s]"
      ]
     },
     "metadata": {},
     "output_type": "display_data"
    },
    {
     "name": "stderr",
     "output_type": "stream",
     "text": [
      "/home/paul/miniconda3/envs/procgen_env/lib/python3.9/site-packages/sklearn/feature_selection/_univariate_selection.py:308: RuntimeWarning:\n",
      "\n",
      "invalid value encountered in sqrt\n",
      "\n"
     ]
    },
    {
     "data": {
      "application/vnd.plotly.v1+json": {
       "config": {
        "plotlyServerURL": "https://plot.ly"
       },
       "data": [
        {
         "hovertemplate": "K=1<br>value_label=%{x}<br>score=%{y}<extra></extra>",
         "legendgroup": "1",
         "line": {
          "color": "#636efa",
          "dash": "solid"
         },
         "marker": {
          "symbol": "circle"
         },
         "mode": "lines",
         "name": "1",
         "orientation": "v",
         "showlegend": true,
         "type": "scatter",
         "x": [
          "embedder.block1.conv_in0",
          "embedder.block1.res1.resadd_out",
          "embedder.block1.res2.resadd_out",
          "embedder.block2.res1.resadd_out",
          "embedder.block2.res2.resadd_out",
          "embedder.block3.res1.resadd_out",
          "embedder.block3.res2.resadd_out",
          "embedder.flatten_out",
          "embedder.relufc_out",
          "fc_policy_out"
         ],
         "xaxis": "x",
         "y": [
          -0.0011155674209222255,
          -0.000008515293337563179,
          -0.00016871089960801555,
          -0.0004735469647492163,
          0.001447896081393396,
          0.032566251439590355,
          0.022751828266068364,
          -0.0038065972243623847,
          0.002098053276158196,
          0.01970614198894116
         ],
         "yaxis": "y"
        },
        {
         "hovertemplate": "K=10<br>value_label=%{x}<br>score=%{y}<extra></extra>",
         "legendgroup": "10",
         "line": {
          "color": "#EF553B",
          "dash": "solid"
         },
         "marker": {
          "symbol": "circle"
         },
         "mode": "lines",
         "name": "10",
         "orientation": "v",
         "showlegend": true,
         "type": "scatter",
         "x": [
          "embedder.block1.conv_in0",
          "embedder.block1.res1.resadd_out",
          "embedder.block1.res2.resadd_out",
          "embedder.block2.res1.resadd_out",
          "embedder.block2.res2.resadd_out",
          "embedder.block3.res1.resadd_out",
          "embedder.block3.res2.resadd_out",
          "embedder.flatten_out",
          "embedder.relufc_out",
          "fc_policy_out"
         ],
         "xaxis": "x",
         "y": [
          -0.008993109216725914,
          -0.0010427328457849327,
          -0.0006198468271985114,
          0.002732176074999426,
          -0.002193105790344152,
          0.00698232956609901,
          -0.04007274163369279,
          0.013291884789332964,
          0.05105472228477759,
          0.023694008214378393
         ],
         "yaxis": "y"
        },
        {
         "hovertemplate": "K=100<br>value_label=%{x}<br>score=%{y}<extra></extra>",
         "legendgroup": "100",
         "line": {
          "color": "#00cc96",
          "dash": "solid"
         },
         "marker": {
          "symbol": "circle"
         },
         "mode": "lines",
         "name": "100",
         "orientation": "v",
         "showlegend": true,
         "type": "scatter",
         "x": [
          "embedder.block1.conv_in0",
          "embedder.block1.res1.resadd_out",
          "embedder.block1.res2.resadd_out",
          "embedder.block2.res1.resadd_out",
          "embedder.block2.res2.resadd_out",
          "embedder.block3.res1.resadd_out",
          "embedder.block3.res2.resadd_out",
          "embedder.flatten_out",
          "embedder.relufc_out",
          "fc_policy_out"
         ],
         "xaxis": "x",
         "y": [
          -0.03876279492216095,
          -0.0033630896421472656,
          -0.0013159454237410273,
          0.020926675008073103,
          -0.02119588502246872,
          -0.012755275726840098,
          -0.11630583254423743,
          0.03662044271003051,
          0.06694269293896848,
          0.014219720361929311
         ],
         "yaxis": "y"
        },
        {
         "hovertemplate": "K=1000<br>value_label=%{x}<br>score=%{y}<extra></extra>",
         "legendgroup": "1000",
         "line": {
          "color": "#ab63fa",
          "dash": "solid"
         },
         "marker": {
          "symbol": "circle"
         },
         "mode": "lines",
         "name": "1000",
         "orientation": "v",
         "showlegend": true,
         "type": "scatter",
         "x": [
          "embedder.block1.conv_in0",
          "embedder.block1.res1.resadd_out",
          "embedder.block1.res2.resadd_out",
          "embedder.block2.res1.resadd_out",
          "embedder.block2.res2.resadd_out",
          "embedder.block3.res1.resadd_out",
          "embedder.block3.res2.resadd_out",
          "embedder.flatten_out",
          "embedder.relufc_out",
          "fc_policy_out"
         ],
         "xaxis": "x",
         "y": [
          -0.09598662297988492,
          -0.028894426941737494,
          -0.02289754162337676,
          -0.03648043596234629,
          -0.01807342087095387,
          -0.04258055804525851,
          -0.19477423038096164,
          0.03208398159890402,
          0.05156163715228135,
          0.014219720361929311
         ],
         "yaxis": "y"
        },
        {
         "hovertemplate": "K=10000<br>value_label=%{x}<br>score=%{y}<extra></extra>",
         "legendgroup": "10000",
         "line": {
          "color": "#FFA15A",
          "dash": "solid"
         },
         "marker": {
          "symbol": "circle"
         },
         "mode": "lines",
         "name": "10000",
         "orientation": "v",
         "showlegend": true,
         "type": "scatter",
         "x": [
          "embedder.block1.conv_in0",
          "embedder.block1.res1.resadd_out",
          "embedder.block1.res2.resadd_out",
          "embedder.block2.res1.resadd_out",
          "embedder.block2.res2.resadd_out",
          "embedder.block3.res1.resadd_out",
          "embedder.block3.res2.resadd_out",
          "embedder.flatten_out",
          "embedder.relufc_out",
          "fc_policy_out"
         ],
         "xaxis": "x",
         "y": [
          -0.16662151366036948,
          -0.08122708500682618,
          -0.07800637111744946,
          -0.07476604482824212,
          -0.04841299914635666,
          -0.26568049246739567,
          -0.41198164603467924,
          -0.04353609150903348,
          0.05156163715228135,
          0.014219720361929311
         ],
         "yaxis": "y"
        }
       ],
       "layout": {
        "legend": {
         "title": {
          "text": "K"
         },
         "tracegroupgap": 0
        },
        "template": {
         "data": {
          "bar": [
           {
            "error_x": {
             "color": "#2a3f5f"
            },
            "error_y": {
             "color": "#2a3f5f"
            },
            "marker": {
             "line": {
              "color": "#E5ECF6",
              "width": 0.5
             },
             "pattern": {
              "fillmode": "overlay",
              "size": 10,
              "solidity": 0.2
             }
            },
            "type": "bar"
           }
          ],
          "barpolar": [
           {
            "marker": {
             "line": {
              "color": "#E5ECF6",
              "width": 0.5
             },
             "pattern": {
              "fillmode": "overlay",
              "size": 10,
              "solidity": 0.2
             }
            },
            "type": "barpolar"
           }
          ],
          "carpet": [
           {
            "aaxis": {
             "endlinecolor": "#2a3f5f",
             "gridcolor": "white",
             "linecolor": "white",
             "minorgridcolor": "white",
             "startlinecolor": "#2a3f5f"
            },
            "baxis": {
             "endlinecolor": "#2a3f5f",
             "gridcolor": "white",
             "linecolor": "white",
             "minorgridcolor": "white",
             "startlinecolor": "#2a3f5f"
            },
            "type": "carpet"
           }
          ],
          "choropleth": [
           {
            "colorbar": {
             "outlinewidth": 0,
             "ticks": ""
            },
            "type": "choropleth"
           }
          ],
          "contour": [
           {
            "colorbar": {
             "outlinewidth": 0,
             "ticks": ""
            },
            "colorscale": [
             [
              0,
              "#0d0887"
             ],
             [
              0.1111111111111111,
              "#46039f"
             ],
             [
              0.2222222222222222,
              "#7201a8"
             ],
             [
              0.3333333333333333,
              "#9c179e"
             ],
             [
              0.4444444444444444,
              "#bd3786"
             ],
             [
              0.5555555555555556,
              "#d8576b"
             ],
             [
              0.6666666666666666,
              "#ed7953"
             ],
             [
              0.7777777777777778,
              "#fb9f3a"
             ],
             [
              0.8888888888888888,
              "#fdca26"
             ],
             [
              1,
              "#f0f921"
             ]
            ],
            "type": "contour"
           }
          ],
          "contourcarpet": [
           {
            "colorbar": {
             "outlinewidth": 0,
             "ticks": ""
            },
            "type": "contourcarpet"
           }
          ],
          "heatmap": [
           {
            "colorbar": {
             "outlinewidth": 0,
             "ticks": ""
            },
            "colorscale": [
             [
              0,
              "#0d0887"
             ],
             [
              0.1111111111111111,
              "#46039f"
             ],
             [
              0.2222222222222222,
              "#7201a8"
             ],
             [
              0.3333333333333333,
              "#9c179e"
             ],
             [
              0.4444444444444444,
              "#bd3786"
             ],
             [
              0.5555555555555556,
              "#d8576b"
             ],
             [
              0.6666666666666666,
              "#ed7953"
             ],
             [
              0.7777777777777778,
              "#fb9f3a"
             ],
             [
              0.8888888888888888,
              "#fdca26"
             ],
             [
              1,
              "#f0f921"
             ]
            ],
            "type": "heatmap"
           }
          ],
          "heatmapgl": [
           {
            "colorbar": {
             "outlinewidth": 0,
             "ticks": ""
            },
            "colorscale": [
             [
              0,
              "#0d0887"
             ],
             [
              0.1111111111111111,
              "#46039f"
             ],
             [
              0.2222222222222222,
              "#7201a8"
             ],
             [
              0.3333333333333333,
              "#9c179e"
             ],
             [
              0.4444444444444444,
              "#bd3786"
             ],
             [
              0.5555555555555556,
              "#d8576b"
             ],
             [
              0.6666666666666666,
              "#ed7953"
             ],
             [
              0.7777777777777778,
              "#fb9f3a"
             ],
             [
              0.8888888888888888,
              "#fdca26"
             ],
             [
              1,
              "#f0f921"
             ]
            ],
            "type": "heatmapgl"
           }
          ],
          "histogram": [
           {
            "marker": {
             "pattern": {
              "fillmode": "overlay",
              "size": 10,
              "solidity": 0.2
             }
            },
            "type": "histogram"
           }
          ],
          "histogram2d": [
           {
            "colorbar": {
             "outlinewidth": 0,
             "ticks": ""
            },
            "colorscale": [
             [
              0,
              "#0d0887"
             ],
             [
              0.1111111111111111,
              "#46039f"
             ],
             [
              0.2222222222222222,
              "#7201a8"
             ],
             [
              0.3333333333333333,
              "#9c179e"
             ],
             [
              0.4444444444444444,
              "#bd3786"
             ],
             [
              0.5555555555555556,
              "#d8576b"
             ],
             [
              0.6666666666666666,
              "#ed7953"
             ],
             [
              0.7777777777777778,
              "#fb9f3a"
             ],
             [
              0.8888888888888888,
              "#fdca26"
             ],
             [
              1,
              "#f0f921"
             ]
            ],
            "type": "histogram2d"
           }
          ],
          "histogram2dcontour": [
           {
            "colorbar": {
             "outlinewidth": 0,
             "ticks": ""
            },
            "colorscale": [
             [
              0,
              "#0d0887"
             ],
             [
              0.1111111111111111,
              "#46039f"
             ],
             [
              0.2222222222222222,
              "#7201a8"
             ],
             [
              0.3333333333333333,
              "#9c179e"
             ],
             [
              0.4444444444444444,
              "#bd3786"
             ],
             [
              0.5555555555555556,
              "#d8576b"
             ],
             [
              0.6666666666666666,
              "#ed7953"
             ],
             [
              0.7777777777777778,
              "#fb9f3a"
             ],
             [
              0.8888888888888888,
              "#fdca26"
             ],
             [
              1,
              "#f0f921"
             ]
            ],
            "type": "histogram2dcontour"
           }
          ],
          "mesh3d": [
           {
            "colorbar": {
             "outlinewidth": 0,
             "ticks": ""
            },
            "type": "mesh3d"
           }
          ],
          "parcoords": [
           {
            "line": {
             "colorbar": {
              "outlinewidth": 0,
              "ticks": ""
             }
            },
            "type": "parcoords"
           }
          ],
          "pie": [
           {
            "automargin": true,
            "type": "pie"
           }
          ],
          "scatter": [
           {
            "fillpattern": {
             "fillmode": "overlay",
             "size": 10,
             "solidity": 0.2
            },
            "type": "scatter"
           }
          ],
          "scatter3d": [
           {
            "line": {
             "colorbar": {
              "outlinewidth": 0,
              "ticks": ""
             }
            },
            "marker": {
             "colorbar": {
              "outlinewidth": 0,
              "ticks": ""
             }
            },
            "type": "scatter3d"
           }
          ],
          "scattercarpet": [
           {
            "marker": {
             "colorbar": {
              "outlinewidth": 0,
              "ticks": ""
             }
            },
            "type": "scattercarpet"
           }
          ],
          "scattergeo": [
           {
            "marker": {
             "colorbar": {
              "outlinewidth": 0,
              "ticks": ""
             }
            },
            "type": "scattergeo"
           }
          ],
          "scattergl": [
           {
            "marker": {
             "colorbar": {
              "outlinewidth": 0,
              "ticks": ""
             }
            },
            "type": "scattergl"
           }
          ],
          "scattermapbox": [
           {
            "marker": {
             "colorbar": {
              "outlinewidth": 0,
              "ticks": ""
             }
            },
            "type": "scattermapbox"
           }
          ],
          "scatterpolar": [
           {
            "marker": {
             "colorbar": {
              "outlinewidth": 0,
              "ticks": ""
             }
            },
            "type": "scatterpolar"
           }
          ],
          "scatterpolargl": [
           {
            "marker": {
             "colorbar": {
              "outlinewidth": 0,
              "ticks": ""
             }
            },
            "type": "scatterpolargl"
           }
          ],
          "scatterternary": [
           {
            "marker": {
             "colorbar": {
              "outlinewidth": 0,
              "ticks": ""
             }
            },
            "type": "scatterternary"
           }
          ],
          "surface": [
           {
            "colorbar": {
             "outlinewidth": 0,
             "ticks": ""
            },
            "colorscale": [
             [
              0,
              "#0d0887"
             ],
             [
              0.1111111111111111,
              "#46039f"
             ],
             [
              0.2222222222222222,
              "#7201a8"
             ],
             [
              0.3333333333333333,
              "#9c179e"
             ],
             [
              0.4444444444444444,
              "#bd3786"
             ],
             [
              0.5555555555555556,
              "#d8576b"
             ],
             [
              0.6666666666666666,
              "#ed7953"
             ],
             [
              0.7777777777777778,
              "#fb9f3a"
             ],
             [
              0.8888888888888888,
              "#fdca26"
             ],
             [
              1,
              "#f0f921"
             ]
            ],
            "type": "surface"
           }
          ],
          "table": [
           {
            "cells": {
             "fill": {
              "color": "#EBF0F8"
             },
             "line": {
              "color": "white"
             }
            },
            "header": {
             "fill": {
              "color": "#C8D4E3"
             },
             "line": {
              "color": "white"
             }
            },
            "type": "table"
           }
          ]
         },
         "layout": {
          "annotationdefaults": {
           "arrowcolor": "#2a3f5f",
           "arrowhead": 0,
           "arrowwidth": 1
          },
          "autotypenumbers": "strict",
          "coloraxis": {
           "colorbar": {
            "outlinewidth": 0,
            "ticks": ""
           }
          },
          "colorscale": {
           "diverging": [
            [
             0,
             "#8e0152"
            ],
            [
             0.1,
             "#c51b7d"
            ],
            [
             0.2,
             "#de77ae"
            ],
            [
             0.3,
             "#f1b6da"
            ],
            [
             0.4,
             "#fde0ef"
            ],
            [
             0.5,
             "#f7f7f7"
            ],
            [
             0.6,
             "#e6f5d0"
            ],
            [
             0.7,
             "#b8e186"
            ],
            [
             0.8,
             "#7fbc41"
            ],
            [
             0.9,
             "#4d9221"
            ],
            [
             1,
             "#276419"
            ]
           ],
           "sequential": [
            [
             0,
             "#0d0887"
            ],
            [
             0.1111111111111111,
             "#46039f"
            ],
            [
             0.2222222222222222,
             "#7201a8"
            ],
            [
             0.3333333333333333,
             "#9c179e"
            ],
            [
             0.4444444444444444,
             "#bd3786"
            ],
            [
             0.5555555555555556,
             "#d8576b"
            ],
            [
             0.6666666666666666,
             "#ed7953"
            ],
            [
             0.7777777777777778,
             "#fb9f3a"
            ],
            [
             0.8888888888888888,
             "#fdca26"
            ],
            [
             1,
             "#f0f921"
            ]
           ],
           "sequentialminus": [
            [
             0,
             "#0d0887"
            ],
            [
             0.1111111111111111,
             "#46039f"
            ],
            [
             0.2222222222222222,
             "#7201a8"
            ],
            [
             0.3333333333333333,
             "#9c179e"
            ],
            [
             0.4444444444444444,
             "#bd3786"
            ],
            [
             0.5555555555555556,
             "#d8576b"
            ],
            [
             0.6666666666666666,
             "#ed7953"
            ],
            [
             0.7777777777777778,
             "#fb9f3a"
            ],
            [
             0.8888888888888888,
             "#fdca26"
            ],
            [
             1,
             "#f0f921"
            ]
           ]
          },
          "colorway": [
           "#636efa",
           "#EF553B",
           "#00cc96",
           "#ab63fa",
           "#FFA15A",
           "#19d3f3",
           "#FF6692",
           "#B6E880",
           "#FF97FF",
           "#FECB52"
          ],
          "font": {
           "color": "#2a3f5f"
          },
          "geo": {
           "bgcolor": "white",
           "lakecolor": "white",
           "landcolor": "#E5ECF6",
           "showlakes": true,
           "showland": true,
           "subunitcolor": "white"
          },
          "hoverlabel": {
           "align": "left"
          },
          "hovermode": "closest",
          "mapbox": {
           "style": "light"
          },
          "paper_bgcolor": "white",
          "plot_bgcolor": "#E5ECF6",
          "polar": {
           "angularaxis": {
            "gridcolor": "white",
            "linecolor": "white",
            "ticks": ""
           },
           "bgcolor": "#E5ECF6",
           "radialaxis": {
            "gridcolor": "white",
            "linecolor": "white",
            "ticks": ""
           }
          },
          "scene": {
           "xaxis": {
            "backgroundcolor": "#E5ECF6",
            "gridcolor": "white",
            "gridwidth": 2,
            "linecolor": "white",
            "showbackground": true,
            "ticks": "",
            "zerolinecolor": "white"
           },
           "yaxis": {
            "backgroundcolor": "#E5ECF6",
            "gridcolor": "white",
            "gridwidth": 2,
            "linecolor": "white",
            "showbackground": true,
            "ticks": "",
            "zerolinecolor": "white"
           },
           "zaxis": {
            "backgroundcolor": "#E5ECF6",
            "gridcolor": "white",
            "gridwidth": 2,
            "linecolor": "white",
            "showbackground": true,
            "ticks": "",
            "zerolinecolor": "white"
           }
          },
          "shapedefaults": {
           "line": {
            "color": "#2a3f5f"
           }
          },
          "ternary": {
           "aaxis": {
            "gridcolor": "white",
            "linecolor": "white",
            "ticks": ""
           },
           "baxis": {
            "gridcolor": "white",
            "linecolor": "white",
            "ticks": ""
           },
           "bgcolor": "#E5ECF6",
           "caxis": {
            "gridcolor": "white",
            "linecolor": "white",
            "ticks": ""
           }
          },
          "title": {
           "x": 0.05
          },
          "xaxis": {
           "automargin": true,
           "gridcolor": "white",
           "linecolor": "white",
           "ticks": "",
           "title": {
            "standoff": 15
           },
           "zerolinecolor": "white",
           "zerolinewidth": 2
          },
          "yaxis": {
           "automargin": true,
           "gridcolor": "white",
           "linecolor": "white",
           "ticks": "",
           "title": {
            "standoff": 15
           },
           "zerolinecolor": "white",
           "zerolinewidth": 2
          }
         }
        },
        "title": {
         "text": "Probe score over layers and K-values for cheese_pos_y and model 1-Mouse"
        },
        "xaxis": {
         "anchor": "y",
         "domain": [
          0,
          1
         ],
         "title": {
          "text": "value_label"
         }
        },
        "yaxis": {
         "anchor": "x",
         "domain": [
          0,
          1
         ],
         "title": {
          "text": "score"
         }
        }
       }
      },
      "text/html": [
       "<div>                            <div id=\"09cbabb9-f655-48a3-a065-8bd4c85c1b9d\" class=\"plotly-graph-div\" style=\"height:525px; width:100%;\"></div>            <script type=\"text/javascript\">                require([\"plotly\"], function(Plotly) {                    window.PLOTLYENV=window.PLOTLYENV || {};                                    if (document.getElementById(\"09cbabb9-f655-48a3-a065-8bd4c85c1b9d\")) {                    Plotly.newPlot(                        \"09cbabb9-f655-48a3-a065-8bd4c85c1b9d\",                        [{\"hovertemplate\":\"K=1\\u003cbr\\u003evalue_label=%{x}\\u003cbr\\u003escore=%{y}\\u003cextra\\u003e\\u003c\\u002fextra\\u003e\",\"legendgroup\":\"1\",\"line\":{\"color\":\"#636efa\",\"dash\":\"solid\"},\"marker\":{\"symbol\":\"circle\"},\"mode\":\"lines\",\"name\":\"1\",\"orientation\":\"v\",\"showlegend\":true,\"x\":[\"embedder.block1.conv_in0\",\"embedder.block1.res1.resadd_out\",\"embedder.block1.res2.resadd_out\",\"embedder.block2.res1.resadd_out\",\"embedder.block2.res2.resadd_out\",\"embedder.block3.res1.resadd_out\",\"embedder.block3.res2.resadd_out\",\"embedder.flatten_out\",\"embedder.relufc_out\",\"fc_policy_out\"],\"xaxis\":\"x\",\"y\":[-0.0011155674209222255,-8.515293337563179e-06,-0.00016871089960801555,-0.0004735469647492163,0.001447896081393396,0.032566251439590355,0.022751828266068364,-0.0038065972243623847,0.002098053276158196,0.01970614198894116],\"yaxis\":\"y\",\"type\":\"scatter\"},{\"hovertemplate\":\"K=10\\u003cbr\\u003evalue_label=%{x}\\u003cbr\\u003escore=%{y}\\u003cextra\\u003e\\u003c\\u002fextra\\u003e\",\"legendgroup\":\"10\",\"line\":{\"color\":\"#EF553B\",\"dash\":\"solid\"},\"marker\":{\"symbol\":\"circle\"},\"mode\":\"lines\",\"name\":\"10\",\"orientation\":\"v\",\"showlegend\":true,\"x\":[\"embedder.block1.conv_in0\",\"embedder.block1.res1.resadd_out\",\"embedder.block1.res2.resadd_out\",\"embedder.block2.res1.resadd_out\",\"embedder.block2.res2.resadd_out\",\"embedder.block3.res1.resadd_out\",\"embedder.block3.res2.resadd_out\",\"embedder.flatten_out\",\"embedder.relufc_out\",\"fc_policy_out\"],\"xaxis\":\"x\",\"y\":[-0.008993109216725914,-0.0010427328457849327,-0.0006198468271985114,0.002732176074999426,-0.002193105790344152,0.00698232956609901,-0.04007274163369279,0.013291884789332964,0.05105472228477759,0.023694008214378393],\"yaxis\":\"y\",\"type\":\"scatter\"},{\"hovertemplate\":\"K=100\\u003cbr\\u003evalue_label=%{x}\\u003cbr\\u003escore=%{y}\\u003cextra\\u003e\\u003c\\u002fextra\\u003e\",\"legendgroup\":\"100\",\"line\":{\"color\":\"#00cc96\",\"dash\":\"solid\"},\"marker\":{\"symbol\":\"circle\"},\"mode\":\"lines\",\"name\":\"100\",\"orientation\":\"v\",\"showlegend\":true,\"x\":[\"embedder.block1.conv_in0\",\"embedder.block1.res1.resadd_out\",\"embedder.block1.res2.resadd_out\",\"embedder.block2.res1.resadd_out\",\"embedder.block2.res2.resadd_out\",\"embedder.block3.res1.resadd_out\",\"embedder.block3.res2.resadd_out\",\"embedder.flatten_out\",\"embedder.relufc_out\",\"fc_policy_out\"],\"xaxis\":\"x\",\"y\":[-0.03876279492216095,-0.0033630896421472656,-0.0013159454237410273,0.020926675008073103,-0.02119588502246872,-0.012755275726840098,-0.11630583254423743,0.03662044271003051,0.06694269293896848,0.014219720361929311],\"yaxis\":\"y\",\"type\":\"scatter\"},{\"hovertemplate\":\"K=1000\\u003cbr\\u003evalue_label=%{x}\\u003cbr\\u003escore=%{y}\\u003cextra\\u003e\\u003c\\u002fextra\\u003e\",\"legendgroup\":\"1000\",\"line\":{\"color\":\"#ab63fa\",\"dash\":\"solid\"},\"marker\":{\"symbol\":\"circle\"},\"mode\":\"lines\",\"name\":\"1000\",\"orientation\":\"v\",\"showlegend\":true,\"x\":[\"embedder.block1.conv_in0\",\"embedder.block1.res1.resadd_out\",\"embedder.block1.res2.resadd_out\",\"embedder.block2.res1.resadd_out\",\"embedder.block2.res2.resadd_out\",\"embedder.block3.res1.resadd_out\",\"embedder.block3.res2.resadd_out\",\"embedder.flatten_out\",\"embedder.relufc_out\",\"fc_policy_out\"],\"xaxis\":\"x\",\"y\":[-0.09598662297988492,-0.028894426941737494,-0.02289754162337676,-0.03648043596234629,-0.01807342087095387,-0.04258055804525851,-0.19477423038096164,0.03208398159890402,0.05156163715228135,0.014219720361929311],\"yaxis\":\"y\",\"type\":\"scatter\"},{\"hovertemplate\":\"K=10000\\u003cbr\\u003evalue_label=%{x}\\u003cbr\\u003escore=%{y}\\u003cextra\\u003e\\u003c\\u002fextra\\u003e\",\"legendgroup\":\"10000\",\"line\":{\"color\":\"#FFA15A\",\"dash\":\"solid\"},\"marker\":{\"symbol\":\"circle\"},\"mode\":\"lines\",\"name\":\"10000\",\"orientation\":\"v\",\"showlegend\":true,\"x\":[\"embedder.block1.conv_in0\",\"embedder.block1.res1.resadd_out\",\"embedder.block1.res2.resadd_out\",\"embedder.block2.res1.resadd_out\",\"embedder.block2.res2.resadd_out\",\"embedder.block3.res1.resadd_out\",\"embedder.block3.res2.resadd_out\",\"embedder.flatten_out\",\"embedder.relufc_out\",\"fc_policy_out\"],\"xaxis\":\"x\",\"y\":[-0.16662151366036948,-0.08122708500682618,-0.07800637111744946,-0.07476604482824212,-0.04841299914635666,-0.26568049246739567,-0.41198164603467924,-0.04353609150903348,0.05156163715228135,0.014219720361929311],\"yaxis\":\"y\",\"type\":\"scatter\"}],                        {\"template\":{\"data\":{\"histogram2dcontour\":[{\"type\":\"histogram2dcontour\",\"colorbar\":{\"outlinewidth\":0,\"ticks\":\"\"},\"colorscale\":[[0.0,\"#0d0887\"],[0.1111111111111111,\"#46039f\"],[0.2222222222222222,\"#7201a8\"],[0.3333333333333333,\"#9c179e\"],[0.4444444444444444,\"#bd3786\"],[0.5555555555555556,\"#d8576b\"],[0.6666666666666666,\"#ed7953\"],[0.7777777777777778,\"#fb9f3a\"],[0.8888888888888888,\"#fdca26\"],[1.0,\"#f0f921\"]]}],\"choropleth\":[{\"type\":\"choropleth\",\"colorbar\":{\"outlinewidth\":0,\"ticks\":\"\"}}],\"histogram2d\":[{\"type\":\"histogram2d\",\"colorbar\":{\"outlinewidth\":0,\"ticks\":\"\"},\"colorscale\":[[0.0,\"#0d0887\"],[0.1111111111111111,\"#46039f\"],[0.2222222222222222,\"#7201a8\"],[0.3333333333333333,\"#9c179e\"],[0.4444444444444444,\"#bd3786\"],[0.5555555555555556,\"#d8576b\"],[0.6666666666666666,\"#ed7953\"],[0.7777777777777778,\"#fb9f3a\"],[0.8888888888888888,\"#fdca26\"],[1.0,\"#f0f921\"]]}],\"heatmap\":[{\"type\":\"heatmap\",\"colorbar\":{\"outlinewidth\":0,\"ticks\":\"\"},\"colorscale\":[[0.0,\"#0d0887\"],[0.1111111111111111,\"#46039f\"],[0.2222222222222222,\"#7201a8\"],[0.3333333333333333,\"#9c179e\"],[0.4444444444444444,\"#bd3786\"],[0.5555555555555556,\"#d8576b\"],[0.6666666666666666,\"#ed7953\"],[0.7777777777777778,\"#fb9f3a\"],[0.8888888888888888,\"#fdca26\"],[1.0,\"#f0f921\"]]}],\"heatmapgl\":[{\"type\":\"heatmapgl\",\"colorbar\":{\"outlinewidth\":0,\"ticks\":\"\"},\"colorscale\":[[0.0,\"#0d0887\"],[0.1111111111111111,\"#46039f\"],[0.2222222222222222,\"#7201a8\"],[0.3333333333333333,\"#9c179e\"],[0.4444444444444444,\"#bd3786\"],[0.5555555555555556,\"#d8576b\"],[0.6666666666666666,\"#ed7953\"],[0.7777777777777778,\"#fb9f3a\"],[0.8888888888888888,\"#fdca26\"],[1.0,\"#f0f921\"]]}],\"contourcarpet\":[{\"type\":\"contourcarpet\",\"colorbar\":{\"outlinewidth\":0,\"ticks\":\"\"}}],\"contour\":[{\"type\":\"contour\",\"colorbar\":{\"outlinewidth\":0,\"ticks\":\"\"},\"colorscale\":[[0.0,\"#0d0887\"],[0.1111111111111111,\"#46039f\"],[0.2222222222222222,\"#7201a8\"],[0.3333333333333333,\"#9c179e\"],[0.4444444444444444,\"#bd3786\"],[0.5555555555555556,\"#d8576b\"],[0.6666666666666666,\"#ed7953\"],[0.7777777777777778,\"#fb9f3a\"],[0.8888888888888888,\"#fdca26\"],[1.0,\"#f0f921\"]]}],\"surface\":[{\"type\":\"surface\",\"colorbar\":{\"outlinewidth\":0,\"ticks\":\"\"},\"colorscale\":[[0.0,\"#0d0887\"],[0.1111111111111111,\"#46039f\"],[0.2222222222222222,\"#7201a8\"],[0.3333333333333333,\"#9c179e\"],[0.4444444444444444,\"#bd3786\"],[0.5555555555555556,\"#d8576b\"],[0.6666666666666666,\"#ed7953\"],[0.7777777777777778,\"#fb9f3a\"],[0.8888888888888888,\"#fdca26\"],[1.0,\"#f0f921\"]]}],\"mesh3d\":[{\"type\":\"mesh3d\",\"colorbar\":{\"outlinewidth\":0,\"ticks\":\"\"}}],\"scatter\":[{\"fillpattern\":{\"fillmode\":\"overlay\",\"size\":10,\"solidity\":0.2},\"type\":\"scatter\"}],\"parcoords\":[{\"type\":\"parcoords\",\"line\":{\"colorbar\":{\"outlinewidth\":0,\"ticks\":\"\"}}}],\"scatterpolargl\":[{\"type\":\"scatterpolargl\",\"marker\":{\"colorbar\":{\"outlinewidth\":0,\"ticks\":\"\"}}}],\"bar\":[{\"error_x\":{\"color\":\"#2a3f5f\"},\"error_y\":{\"color\":\"#2a3f5f\"},\"marker\":{\"line\":{\"color\":\"#E5ECF6\",\"width\":0.5},\"pattern\":{\"fillmode\":\"overlay\",\"size\":10,\"solidity\":0.2}},\"type\":\"bar\"}],\"scattergeo\":[{\"type\":\"scattergeo\",\"marker\":{\"colorbar\":{\"outlinewidth\":0,\"ticks\":\"\"}}}],\"scatterpolar\":[{\"type\":\"scatterpolar\",\"marker\":{\"colorbar\":{\"outlinewidth\":0,\"ticks\":\"\"}}}],\"histogram\":[{\"marker\":{\"pattern\":{\"fillmode\":\"overlay\",\"size\":10,\"solidity\":0.2}},\"type\":\"histogram\"}],\"scattergl\":[{\"type\":\"scattergl\",\"marker\":{\"colorbar\":{\"outlinewidth\":0,\"ticks\":\"\"}}}],\"scatter3d\":[{\"type\":\"scatter3d\",\"line\":{\"colorbar\":{\"outlinewidth\":0,\"ticks\":\"\"}},\"marker\":{\"colorbar\":{\"outlinewidth\":0,\"ticks\":\"\"}}}],\"scattermapbox\":[{\"type\":\"scattermapbox\",\"marker\":{\"colorbar\":{\"outlinewidth\":0,\"ticks\":\"\"}}}],\"scatterternary\":[{\"type\":\"scatterternary\",\"marker\":{\"colorbar\":{\"outlinewidth\":0,\"ticks\":\"\"}}}],\"scattercarpet\":[{\"type\":\"scattercarpet\",\"marker\":{\"colorbar\":{\"outlinewidth\":0,\"ticks\":\"\"}}}],\"carpet\":[{\"aaxis\":{\"endlinecolor\":\"#2a3f5f\",\"gridcolor\":\"white\",\"linecolor\":\"white\",\"minorgridcolor\":\"white\",\"startlinecolor\":\"#2a3f5f\"},\"baxis\":{\"endlinecolor\":\"#2a3f5f\",\"gridcolor\":\"white\",\"linecolor\":\"white\",\"minorgridcolor\":\"white\",\"startlinecolor\":\"#2a3f5f\"},\"type\":\"carpet\"}],\"table\":[{\"cells\":{\"fill\":{\"color\":\"#EBF0F8\"},\"line\":{\"color\":\"white\"}},\"header\":{\"fill\":{\"color\":\"#C8D4E3\"},\"line\":{\"color\":\"white\"}},\"type\":\"table\"}],\"barpolar\":[{\"marker\":{\"line\":{\"color\":\"#E5ECF6\",\"width\":0.5},\"pattern\":{\"fillmode\":\"overlay\",\"size\":10,\"solidity\":0.2}},\"type\":\"barpolar\"}],\"pie\":[{\"automargin\":true,\"type\":\"pie\"}]},\"layout\":{\"autotypenumbers\":\"strict\",\"colorway\":[\"#636efa\",\"#EF553B\",\"#00cc96\",\"#ab63fa\",\"#FFA15A\",\"#19d3f3\",\"#FF6692\",\"#B6E880\",\"#FF97FF\",\"#FECB52\"],\"font\":{\"color\":\"#2a3f5f\"},\"hovermode\":\"closest\",\"hoverlabel\":{\"align\":\"left\"},\"paper_bgcolor\":\"white\",\"plot_bgcolor\":\"#E5ECF6\",\"polar\":{\"bgcolor\":\"#E5ECF6\",\"angularaxis\":{\"gridcolor\":\"white\",\"linecolor\":\"white\",\"ticks\":\"\"},\"radialaxis\":{\"gridcolor\":\"white\",\"linecolor\":\"white\",\"ticks\":\"\"}},\"ternary\":{\"bgcolor\":\"#E5ECF6\",\"aaxis\":{\"gridcolor\":\"white\",\"linecolor\":\"white\",\"ticks\":\"\"},\"baxis\":{\"gridcolor\":\"white\",\"linecolor\":\"white\",\"ticks\":\"\"},\"caxis\":{\"gridcolor\":\"white\",\"linecolor\":\"white\",\"ticks\":\"\"}},\"coloraxis\":{\"colorbar\":{\"outlinewidth\":0,\"ticks\":\"\"}},\"colorscale\":{\"sequential\":[[0.0,\"#0d0887\"],[0.1111111111111111,\"#46039f\"],[0.2222222222222222,\"#7201a8\"],[0.3333333333333333,\"#9c179e\"],[0.4444444444444444,\"#bd3786\"],[0.5555555555555556,\"#d8576b\"],[0.6666666666666666,\"#ed7953\"],[0.7777777777777778,\"#fb9f3a\"],[0.8888888888888888,\"#fdca26\"],[1.0,\"#f0f921\"]],\"sequentialminus\":[[0.0,\"#0d0887\"],[0.1111111111111111,\"#46039f\"],[0.2222222222222222,\"#7201a8\"],[0.3333333333333333,\"#9c179e\"],[0.4444444444444444,\"#bd3786\"],[0.5555555555555556,\"#d8576b\"],[0.6666666666666666,\"#ed7953\"],[0.7777777777777778,\"#fb9f3a\"],[0.8888888888888888,\"#fdca26\"],[1.0,\"#f0f921\"]],\"diverging\":[[0,\"#8e0152\"],[0.1,\"#c51b7d\"],[0.2,\"#de77ae\"],[0.3,\"#f1b6da\"],[0.4,\"#fde0ef\"],[0.5,\"#f7f7f7\"],[0.6,\"#e6f5d0\"],[0.7,\"#b8e186\"],[0.8,\"#7fbc41\"],[0.9,\"#4d9221\"],[1,\"#276419\"]]},\"xaxis\":{\"gridcolor\":\"white\",\"linecolor\":\"white\",\"ticks\":\"\",\"title\":{\"standoff\":15},\"zerolinecolor\":\"white\",\"automargin\":true,\"zerolinewidth\":2},\"yaxis\":{\"gridcolor\":\"white\",\"linecolor\":\"white\",\"ticks\":\"\",\"title\":{\"standoff\":15},\"zerolinecolor\":\"white\",\"automargin\":true,\"zerolinewidth\":2},\"scene\":{\"xaxis\":{\"backgroundcolor\":\"#E5ECF6\",\"gridcolor\":\"white\",\"linecolor\":\"white\",\"showbackground\":true,\"ticks\":\"\",\"zerolinecolor\":\"white\",\"gridwidth\":2},\"yaxis\":{\"backgroundcolor\":\"#E5ECF6\",\"gridcolor\":\"white\",\"linecolor\":\"white\",\"showbackground\":true,\"ticks\":\"\",\"zerolinecolor\":\"white\",\"gridwidth\":2},\"zaxis\":{\"backgroundcolor\":\"#E5ECF6\",\"gridcolor\":\"white\",\"linecolor\":\"white\",\"showbackground\":true,\"ticks\":\"\",\"zerolinecolor\":\"white\",\"gridwidth\":2}},\"shapedefaults\":{\"line\":{\"color\":\"#2a3f5f\"}},\"annotationdefaults\":{\"arrowcolor\":\"#2a3f5f\",\"arrowhead\":0,\"arrowwidth\":1},\"geo\":{\"bgcolor\":\"white\",\"landcolor\":\"#E5ECF6\",\"subunitcolor\":\"white\",\"showland\":true,\"showlakes\":true,\"lakecolor\":\"white\"},\"title\":{\"x\":0.05},\"mapbox\":{\"style\":\"light\"}}},\"xaxis\":{\"anchor\":\"y\",\"domain\":[0.0,1.0],\"title\":{\"text\":\"value_label\"}},\"yaxis\":{\"anchor\":\"x\",\"domain\":[0.0,1.0],\"title\":{\"text\":\"score\"}},\"legend\":{\"title\":{\"text\":\"K\"},\"tracegroupgap\":0},\"title\":{\"text\":\"Probe score over layers and K-values for cheese_pos_y and model 1-Mouse\"}},                        {\"responsive\": true}                    ).then(function(){\n",
       "                            \n",
       "var gd = document.getElementById('09cbabb9-f655-48a3-a065-8bd4c85c1b9d');\n",
       "var x = new MutationObserver(function (mutations, observer) {{\n",
       "        var display = window.getComputedStyle(gd).display;\n",
       "        if (!display || display === 'none') {{\n",
       "            console.log([gd, 'removed!']);\n",
       "            Plotly.purge(gd);\n",
       "            observer.disconnect();\n",
       "        }}\n",
       "}});\n",
       "\n",
       "// Listen for the removal of the full notebook cells\n",
       "var notebookContainer = gd.closest('#notebook-container');\n",
       "if (notebookContainer) {{\n",
       "    x.observe(notebookContainer, {childList: true});\n",
       "}}\n",
       "\n",
       "// Listen for the clearing of the current output cell\n",
       "var outputEl = gd.closest('.output');\n",
       "if (outputEl) {{\n",
       "    x.observe(outputEl, {childList: true});\n",
       "}}\n",
       "\n",
       "                        })                };                });            </script>        </div>"
      ]
     },
     "metadata": {},
     "output_type": "display_data"
    }
   ],
   "source": [
    "cheese_pos_x = cheese_pos.x.values.astype(float)\n",
    "cheese_pos_y = cheese_pos.y.values.astype(float)\n",
    "mouse_pos_x = mouse_pos.x.values.astype(float)\n",
    "mouse_pos_y = mouse_pos.y.values.astype(float)\n",
    "dist_to_top_right_float = dist_to_top_right.astype(float)\n",
    "\n",
    "\n",
    "\n",
    "index_nums = np.array([1, 10, 100, 1000, 10000])\n",
    "\n",
    "obj_pos = cheese_pos_x\n",
    "#obj_pos = dist_to_top_right_float\n",
    "hook_to_use = hook1\n",
    "obj_pos_name = 'cheese_pos_y'\n",
    "model_name = '1-Mouse'\n",
    "\n",
    "results, _ = cpr.sparse_linear_probe(hook_to_use, values_to_store, obj_pos, model_type='ridge',\n",
    "    index_nums = index_nums, random_state=42, max_iter=10000, alpha=100.)\n",
    "\n",
    "plot_sparse_probe_scores(results, obj_pos, index_nums, \n",
    "    f'Probe score over layers and K-values for {obj_pos_name} and model {model_name}',\n",
    "    include_limits=False)\n",
    "\n",
    "results, _ = cpr.sparse_linear_probe(hook2, values_to_store, obj_pos, model_type='ridge',\n",
    "    index_nums = index_nums, random_state=42, max_iter=10000, alpha=100.)\n",
    "\n",
    "plot_sparse_probe_scores(results, obj_pos, index_nums, \n",
    "    f'Probe score over layers and K-values for {obj_pos_name} and model {model_name}',\n",
    "    include_limits=False)\n",
    "\n"
   ]
  },
  {
   "cell_type": "code",
   "execution_count": 77,
   "metadata": {},
   "outputs": [
    {
     "name": "stderr",
     "output_type": "stream",
     "text": [
      "  0%|          | 0/1000 [00:00<?, ?it/s]\n"
     ]
    },
    {
     "ename": "AttributeError",
     "evalue": "'numpy.ndarray' object has no attribute 'y'",
     "output_type": "error",
     "traceback": [
      "\u001b[0;31m---------------------------------------------------------------------------\u001b[0m",
      "\u001b[0;31mAttributeError\u001b[0m                            Traceback (most recent call last)",
      "Cell \u001b[0;32mIn[77], line 91\u001b[0m\n\u001b[1;32m     88\u001b[0m hook_to_use \u001b[39m=\u001b[39m hook2\n\u001b[1;32m     89\u001b[0m \u001b[39m# pixel_data['cheese'], f_test_dfs['cheese'] = make_pixel_data(value_labels_conv, cheese_pos, hook_to_use)\u001b[39;00m\n\u001b[1;32m     90\u001b[0m \u001b[39m# pixel_data['mouse'], f_test_dfs['mouse'] = make_pixel_data(value_labels_conv, mouse_pos, hook_to_use)\u001b[39;00m\n\u001b[0;32m---> 91\u001b[0m pixel_data[\u001b[39m'\u001b[39m\u001b[39mdist_to_top_right\u001b[39m\u001b[39m'\u001b[39m], f_test_dfs[\u001b[39m'\u001b[39m\u001b[39mdist_to_top_right\u001b[39m\u001b[39m'\u001b[39m] \u001b[39m=\u001b[39m make_pixel_data(value_labels_conv, dist_to_top_right, hook_to_use)\n",
      "Cell \u001b[0;32mIn[77], line 64\u001b[0m, in \u001b[0;36mmake_pixel_data\u001b[0;34m(value_labels, obj_pos, hook_to_use)\u001b[0m\n\u001b[1;32m     62\u001b[0m pixel_data \u001b[39m=\u001b[39m {}\n\u001b[1;32m     63\u001b[0m \u001b[39mfor\u001b[39;00m value_label \u001b[39min\u001b[39;00m value_labels:\n\u001b[0;32m---> 64\u001b[0m     pixels, is_obj, rows_in_value, cols_in_value \u001b[39m=\u001b[39m get_obj_pos_data(value_label, obj_pos, hook_to_use)\n\u001b[1;32m     65\u001b[0m     f_test, _ \u001b[39m=\u001b[39m cpr\u001b[39m.\u001b[39mf_classif_fixed(pixels, is_obj)\n\u001b[1;32m     66\u001b[0m     sort_inds \u001b[39m=\u001b[39m np\u001b[39m.\u001b[39margsort(f_test)[::\u001b[39m-\u001b[39m\u001b[39m1\u001b[39m]\n",
      "Cell \u001b[0;32mIn[77], line 27\u001b[0m, in \u001b[0;36mget_obj_pos_data\u001b[0;34m(value_label, object_pos, hook_to_use)\u001b[0m\n\u001b[1;32m     23\u001b[0m cols_in_value \u001b[39m=\u001b[39m np\u001b[39m.\u001b[39mzeros(num_pixels, dtype\u001b[39m=\u001b[39m\u001b[39mint\u001b[39m)\n\u001b[1;32m     24\u001b[0m \u001b[39mfor\u001b[39;00m bb \u001b[39min\u001b[39;00m tqdm(\u001b[39mrange\u001b[39m(obs_all\u001b[39m.\u001b[39mshape[\u001b[39m0\u001b[39m])):\n\u001b[1;32m     25\u001b[0m     \u001b[39m# Cheese location (transform from full grid row/col to row/col in this value)\u001b[39;00m\n\u001b[1;32m     26\u001b[0m     obj_pos_value \u001b[39m=\u001b[39m (grid_coord_to_value_ind(\n\u001b[0;32m---> 27\u001b[0m             maze\u001b[39m.\u001b[39mWORLD_DIM\u001b[39m-\u001b[39m\u001b[39m1\u001b[39m \u001b[39m-\u001b[39m object_pos\u001b[39m.\u001b[39;49my[bb]\u001b[39m.\u001b[39mitem(), value_size),\n\u001b[1;32m     28\u001b[0m         grid_coord_to_value_ind(object_pos\u001b[39m.\u001b[39mx[bb]\u001b[39m.\u001b[39mitem(), value_size))\n\u001b[1;32m     29\u001b[0m     pixels[bb,:] \u001b[39m=\u001b[39m value[bb,:,obj_pos_value[\u001b[39m0\u001b[39m],obj_pos_value[\u001b[39m1\u001b[39m]]\n\u001b[1;32m     30\u001b[0m     is_obj[bb] \u001b[39m=\u001b[39m \u001b[39mTrue\u001b[39;00m\n",
      "\u001b[0;31mAttributeError\u001b[0m: 'numpy.ndarray' object has no attribute 'y'"
     ]
    }
   ],
   "source": [
    "# \n",
    "# Some helper functions\n",
    "def grid_coord_to_value_ind(full_grid_coord, value_size):\n",
    "    '''Pick the value index that covers the majority of the grid coord pixel'''\n",
    "    # TODO: I'm pretty sure this is the best groudned approach, but ch 55 responds better to the approach in probing_main.py\n",
    "    return np.floor((full_grid_coord+0.5) * value_size/maze.WORLD_DIM).astype(int)\n",
    "\n",
    "def value_ind_to_grid_coord(value_ind, value_size):\n",
    "    '''Pick the grid coordinate index whose center is closest to the center of the value pixel'''\n",
    "    return np.floor((value_ind+0.5) * maze.WORLD_DIM/value_size).astype(int)\n",
    "\n",
    "def get_obj_pos_data(value_label, object_pos, hook_to_use):\n",
    "    '''Pick the object location and a random other location without the object so we have a\n",
    "    balanced dataset of pixels 2x the original size.'''\n",
    "    rng = np.random.default_rng(15)\n",
    "    # TODO: vectorize this!    \n",
    "    value = hook_to_use.get_value_by_label(value_label)\n",
    "    value_size = value.shape[-1]\n",
    "    num_pixels = num_batch * 2\n",
    "    pixels = np.zeros((num_pixels, value.shape[1]))\n",
    "    is_obj = np.zeros(num_pixels, dtype=bool)\n",
    "    rows_in_value = np.zeros(num_pixels, dtype=int)\n",
    "    cols_in_value = np.zeros(num_pixels, dtype=int)\n",
    "    for bb in tqdm(range(obs_all.shape[0])):\n",
    "        # Cheese location (transform from full grid row/col to row/col in this value)\n",
    "        obj_pos_value = (grid_coord_to_value_ind(\n",
    "                maze.WORLD_DIM-1 - object_pos.y[bb].item(), value_size),\n",
    "            grid_coord_to_value_ind(object_pos.x[bb].item(), value_size))\n",
    "        pixels[bb,:] = value[bb,:,obj_pos_value[0],obj_pos_value[1]]\n",
    "        is_obj[bb] = True\n",
    "        rows_in_value[bb] = obj_pos_value[0]\n",
    "        cols_in_value[bb] = obj_pos_value[1]\n",
    "        # Random pixel that isn't the object location\n",
    "        bb_rand = bb + num_batch\n",
    "        random_pos = obj_pos_value\n",
    "        while random_pos == obj_pos_value:\n",
    "            random_pos = (rng.integers(value_size), rng.integers(value_size))\n",
    "        pixels[bb_rand,:] = value[bb,:,random_pos[0],random_pos[1]]\n",
    "        is_obj[bb_rand] = False\n",
    "        rows_in_value[bb_rand] = random_pos[0]\n",
    "        cols_in_value[bb_rand] = random_pos[1]\n",
    "    return pixels, is_obj, rows_in_value, cols_in_value\n",
    "\n",
    "# def show_f_test_results(pixels, target, target_name, rows_in_value, cols_in_value):\n",
    "#     f_test, _ = cpr.f_classif_fixed(pixels, target)\n",
    "#     f_test_df = pd.Series(f_test).sort_values(ascending=False)\n",
    "\n",
    "#     fig = px.line(y=f_test_df, title=f'Sorted {target_name} f-test scores for channels of<br>{value_label}',\n",
    "#         hover_data={'channel': f_test_df.index})\n",
    "#     fig.update_layout(\n",
    "#         xaxis_title=\"channel rank\",\n",
    "#         yaxis_title=\"f-test score\",)\n",
    "#     fig.show()\n",
    "\n",
    "#     print(list(f_test_df.index[:20]))\n",
    "\n",
    "#     for ch_ind in f_test_df.index[:2]:\n",
    "#         show_pixel_histogram(pixels, target, target_name, ch_ind)\n",
    "\n",
    "def make_pixel_data(value_labels, obj_pos, hook_to_use):\n",
    "    f_test_list = []\n",
    "    pixel_data = {}\n",
    "    for value_label in value_labels:\n",
    "        pixels, is_obj, rows_in_value, cols_in_value = get_obj_pos_data(value_label, obj_pos, hook_to_use)\n",
    "        f_test, _ = cpr.f_classif_fixed(pixels, is_obj)\n",
    "        sort_inds = np.argsort(f_test)[::-1]\n",
    "        pixel_data[value_label] = (pixels, is_obj, rows_in_value, cols_in_value, f_test, sort_inds)\n",
    "        f_test_list.append(pd.DataFrame(\n",
    "            {'layer': np.full(sort_inds.shape, value_label), 'rank': np.arange(len(sort_inds)),\n",
    "            'channel': sort_inds, 'f-score': f_test[sort_inds]}))\n",
    "        #show_f_test_results(pixels, is_obj, 'cheese', rows_in_value, cols_in_value)\n",
    "    f_test_df = pd.concat(f_test_list, axis='index')\n",
    "    return pixel_data, f_test_df\n",
    "    # px.line(f_test_df, x='rank', y='f-score', color='layer', hover_data=['channel'],\n",
    "    #     title='Ranked f-test scores for \"conv pixel contains cheese\" over resadd layers').show()\n",
    "\n",
    "value_labels_conv = [\n",
    "    'embedder.block1.res1.resadd_out',\n",
    "    'embedder.block1.res2.resadd_out',\n",
    "    'embedder.block2.res1.resadd_out',\n",
    "    'embedder.block2.res2.resadd_out',\n",
    "    'embedder.block3.res1.resadd_out',\n",
    "    'embedder.block3.res2.resadd_out']\n",
    "\n",
    "pixel_data = {}\n",
    "f_test_dfs = {}\n",
    "\n",
    "hook_to_use = hook2\n",
    "# pixel_data['cheese'], f_test_dfs['cheese'] = make_pixel_data(value_labels_conv, cheese_pos, hook_to_use)\n",
    "# pixel_data['mouse'], f_test_dfs['mouse'] = make_pixel_data(value_labels_conv, mouse_pos, hook_to_use)\n",
    "pixel_data['dist_to_top_right'], f_test_dfs['dist_to_top_right'] = make_pixel_data(value_labels_conv, dist_to_top_right, hook_to_use)"
   ]
  },
  {
   "cell_type": "code",
   "execution_count": 76,
   "metadata": {},
   "outputs": [
    {
     "name": "stderr",
     "output_type": "stream",
     "text": [
      "  0%|          | 0/6 [00:00<?, ?it/s]"
     ]
    },
    {
     "name": "stderr",
     "output_type": "stream",
     "text": [
      "100%|██████████| 6/6 [00:00<00:00,  6.40it/s]\n"
     ]
    },
    {
     "data": {
      "application/vnd.plotly.v1+json": {
       "config": {
        "plotlyServerURL": "https://plot.ly"
       },
       "data": [
        {
         "hovertemplate": "K=1<br>layer=%{x}<br>score=%{y}<extra></extra>",
         "legendgroup": "1",
         "line": {
          "color": "#636efa",
          "dash": "solid"
         },
         "marker": {
          "symbol": "circle"
         },
         "mode": "lines",
         "name": "1",
         "orientation": "v",
         "showlegend": true,
         "type": "scatter",
         "x": [
          "embedder.block1.res1.resadd_out",
          "embedder.block1.res2.resadd_out",
          "embedder.block2.res1.resadd_out",
          "embedder.block2.res2.resadd_out",
          "embedder.block3.res1.resadd_out",
          "embedder.block3.res2.resadd_out"
         ],
         "xaxis": "x",
         "y": [
          0.8375,
          0.845,
          0.68,
          0.7075,
          0.66,
          0.6525
         ],
         "yaxis": "y"
        },
        {
         "hovertemplate": "K=2<br>layer=%{x}<br>score=%{y}<extra></extra>",
         "legendgroup": "2",
         "line": {
          "color": "#EF553B",
          "dash": "solid"
         },
         "marker": {
          "symbol": "circle"
         },
         "mode": "lines",
         "name": "2",
         "orientation": "v",
         "showlegend": true,
         "type": "scatter",
         "x": [
          "embedder.block1.res1.resadd_out",
          "embedder.block1.res2.resadd_out",
          "embedder.block2.res1.resadd_out",
          "embedder.block2.res2.resadd_out",
          "embedder.block3.res1.resadd_out",
          "embedder.block3.res2.resadd_out"
         ],
         "xaxis": "x",
         "y": [
          0.87,
          0.8775,
          0.6775,
          0.7275,
          0.6875,
          0.695
         ],
         "yaxis": "y"
        },
        {
         "hovertemplate": "K=3<br>layer=%{x}<br>score=%{y}<extra></extra>",
         "legendgroup": "3",
         "line": {
          "color": "#00cc96",
          "dash": "solid"
         },
         "marker": {
          "symbol": "circle"
         },
         "mode": "lines",
         "name": "3",
         "orientation": "v",
         "showlegend": true,
         "type": "scatter",
         "x": [
          "embedder.block1.res1.resadd_out",
          "embedder.block1.res2.resadd_out",
          "embedder.block2.res1.resadd_out",
          "embedder.block2.res2.resadd_out",
          "embedder.block3.res1.resadd_out",
          "embedder.block3.res2.resadd_out"
         ],
         "xaxis": "x",
         "y": [
          0.9,
          0.8925,
          0.7025,
          0.735,
          0.7275,
          0.7075
         ],
         "yaxis": "y"
        },
        {
         "hovertemplate": "K=4<br>layer=%{x}<br>score=%{y}<extra></extra>",
         "legendgroup": "4",
         "line": {
          "color": "#ab63fa",
          "dash": "solid"
         },
         "marker": {
          "symbol": "circle"
         },
         "mode": "lines",
         "name": "4",
         "orientation": "v",
         "showlegend": true,
         "type": "scatter",
         "x": [
          "embedder.block1.res1.resadd_out",
          "embedder.block1.res2.resadd_out",
          "embedder.block2.res1.resadd_out",
          "embedder.block2.res2.resadd_out",
          "embedder.block3.res1.resadd_out",
          "embedder.block3.res2.resadd_out"
         ],
         "xaxis": "x",
         "y": [
          0.9125,
          0.93,
          0.6975,
          0.73,
          0.72,
          0.72
         ],
         "yaxis": "y"
        },
        {
         "hovertemplate": "K=5<br>layer=%{x}<br>score=%{y}<extra></extra>",
         "legendgroup": "5",
         "line": {
          "color": "#FFA15A",
          "dash": "solid"
         },
         "marker": {
          "symbol": "circle"
         },
         "mode": "lines",
         "name": "5",
         "orientation": "v",
         "showlegend": true,
         "type": "scatter",
         "x": [
          "embedder.block1.res1.resadd_out",
          "embedder.block1.res2.resadd_out",
          "embedder.block2.res1.resadd_out",
          "embedder.block2.res2.resadd_out",
          "embedder.block3.res1.resadd_out",
          "embedder.block3.res2.resadd_out"
         ],
         "xaxis": "x",
         "y": [
          0.9125,
          0.935,
          0.71,
          0.7575,
          0.725,
          0.7175
         ],
         "yaxis": "y"
        },
        {
         "hovertemplate": "K=6<br>layer=%{x}<br>score=%{y}<extra></extra>",
         "legendgroup": "6",
         "line": {
          "color": "#19d3f3",
          "dash": "solid"
         },
         "marker": {
          "symbol": "circle"
         },
         "mode": "lines",
         "name": "6",
         "orientation": "v",
         "showlegend": true,
         "type": "scatter",
         "x": [
          "embedder.block1.res1.resadd_out",
          "embedder.block1.res2.resadd_out",
          "embedder.block2.res1.resadd_out",
          "embedder.block2.res2.resadd_out",
          "embedder.block3.res1.resadd_out",
          "embedder.block3.res2.resadd_out"
         ],
         "xaxis": "x",
         "y": [
          0.915,
          0.925,
          0.735,
          0.7675,
          0.735,
          0.7275
         ],
         "yaxis": "y"
        },
        {
         "hovertemplate": "K=7<br>layer=%{x}<br>score=%{y}<extra></extra>",
         "legendgroup": "7",
         "line": {
          "color": "#FF6692",
          "dash": "solid"
         },
         "marker": {
          "symbol": "circle"
         },
         "mode": "lines",
         "name": "7",
         "orientation": "v",
         "showlegend": true,
         "type": "scatter",
         "x": [
          "embedder.block1.res1.resadd_out",
          "embedder.block1.res2.resadd_out",
          "embedder.block2.res1.resadd_out",
          "embedder.block2.res2.resadd_out",
          "embedder.block3.res1.resadd_out",
          "embedder.block3.res2.resadd_out"
         ],
         "xaxis": "x",
         "y": [
          0.94,
          0.9325,
          0.7525,
          0.755,
          0.745,
          0.7125
         ],
         "yaxis": "y"
        },
        {
         "hovertemplate": "K=8<br>layer=%{x}<br>score=%{y}<extra></extra>",
         "legendgroup": "8",
         "line": {
          "color": "#B6E880",
          "dash": "solid"
         },
         "marker": {
          "symbol": "circle"
         },
         "mode": "lines",
         "name": "8",
         "orientation": "v",
         "showlegend": true,
         "type": "scatter",
         "x": [
          "embedder.block1.res1.resadd_out",
          "embedder.block1.res2.resadd_out",
          "embedder.block2.res1.resadd_out",
          "embedder.block2.res2.resadd_out",
          "embedder.block3.res1.resadd_out",
          "embedder.block3.res2.resadd_out"
         ],
         "xaxis": "x",
         "y": [
          0.95,
          0.9225,
          0.7525,
          0.76,
          0.745,
          0.7075
         ],
         "yaxis": "y"
        },
        {
         "hovertemplate": "K=9<br>layer=%{x}<br>score=%{y}<extra></extra>",
         "legendgroup": "9",
         "line": {
          "color": "#FF97FF",
          "dash": "solid"
         },
         "marker": {
          "symbol": "circle"
         },
         "mode": "lines",
         "name": "9",
         "orientation": "v",
         "showlegend": true,
         "type": "scatter",
         "x": [
          "embedder.block1.res1.resadd_out",
          "embedder.block1.res2.resadd_out",
          "embedder.block2.res1.resadd_out",
          "embedder.block2.res2.resadd_out",
          "embedder.block3.res1.resadd_out",
          "embedder.block3.res2.resadd_out"
         ],
         "xaxis": "x",
         "y": [
          0.95,
          0.9275,
          0.7425,
          0.7725,
          0.7475,
          0.7
         ],
         "yaxis": "y"
        },
        {
         "hovertemplate": "K=10<br>layer=%{x}<br>score=%{y}<extra></extra>",
         "legendgroup": "10",
         "line": {
          "color": "#FECB52",
          "dash": "solid"
         },
         "marker": {
          "symbol": "circle"
         },
         "mode": "lines",
         "name": "10",
         "orientation": "v",
         "showlegend": true,
         "type": "scatter",
         "x": [
          "embedder.block1.res1.resadd_out",
          "embedder.block1.res2.resadd_out",
          "embedder.block2.res1.resadd_out",
          "embedder.block2.res2.resadd_out",
          "embedder.block3.res1.resadd_out",
          "embedder.block3.res2.resadd_out"
         ],
         "xaxis": "x",
         "y": [
          0.9475,
          0.935,
          0.7475,
          0.78,
          0.745,
          0.715
         ],
         "yaxis": "y"
        }
       ],
       "layout": {
        "annotations": [
         {
          "showarrow": false,
          "text": "perfect",
          "x": 1,
          "xanchor": "right",
          "xref": "x domain",
          "y": 1,
          "yanchor": "top",
          "yref": "y"
         },
         {
          "showarrow": false,
          "text": "baseline",
          "x": 1,
          "xanchor": "right",
          "xref": "x domain",
          "y": 0.5,
          "yanchor": "top",
          "yref": "y"
         }
        ],
        "legend": {
         "title": {
          "text": "K"
         },
         "tracegroupgap": 0
        },
        "shapes": [
         {
          "line": {
           "dash": "dot"
          },
          "type": "line",
          "x0": 0,
          "x1": 1,
          "xref": "x domain",
          "y0": 1,
          "y1": 1,
          "yref": "y"
         },
         {
          "line": {
           "dash": "dot"
          },
          "type": "line",
          "x0": 0,
          "x1": 1,
          "xref": "x domain",
          "y0": 0.5,
          "y1": 0.5,
          "yref": "y"
         }
        ],
        "template": {
         "data": {
          "bar": [
           {
            "error_x": {
             "color": "#2a3f5f"
            },
            "error_y": {
             "color": "#2a3f5f"
            },
            "marker": {
             "line": {
              "color": "#E5ECF6",
              "width": 0.5
             },
             "pattern": {
              "fillmode": "overlay",
              "size": 10,
              "solidity": 0.2
             }
            },
            "type": "bar"
           }
          ],
          "barpolar": [
           {
            "marker": {
             "line": {
              "color": "#E5ECF6",
              "width": 0.5
             },
             "pattern": {
              "fillmode": "overlay",
              "size": 10,
              "solidity": 0.2
             }
            },
            "type": "barpolar"
           }
          ],
          "carpet": [
           {
            "aaxis": {
             "endlinecolor": "#2a3f5f",
             "gridcolor": "white",
             "linecolor": "white",
             "minorgridcolor": "white",
             "startlinecolor": "#2a3f5f"
            },
            "baxis": {
             "endlinecolor": "#2a3f5f",
             "gridcolor": "white",
             "linecolor": "white",
             "minorgridcolor": "white",
             "startlinecolor": "#2a3f5f"
            },
            "type": "carpet"
           }
          ],
          "choropleth": [
           {
            "colorbar": {
             "outlinewidth": 0,
             "ticks": ""
            },
            "type": "choropleth"
           }
          ],
          "contour": [
           {
            "colorbar": {
             "outlinewidth": 0,
             "ticks": ""
            },
            "colorscale": [
             [
              0,
              "#0d0887"
             ],
             [
              0.1111111111111111,
              "#46039f"
             ],
             [
              0.2222222222222222,
              "#7201a8"
             ],
             [
              0.3333333333333333,
              "#9c179e"
             ],
             [
              0.4444444444444444,
              "#bd3786"
             ],
             [
              0.5555555555555556,
              "#d8576b"
             ],
             [
              0.6666666666666666,
              "#ed7953"
             ],
             [
              0.7777777777777778,
              "#fb9f3a"
             ],
             [
              0.8888888888888888,
              "#fdca26"
             ],
             [
              1,
              "#f0f921"
             ]
            ],
            "type": "contour"
           }
          ],
          "contourcarpet": [
           {
            "colorbar": {
             "outlinewidth": 0,
             "ticks": ""
            },
            "type": "contourcarpet"
           }
          ],
          "heatmap": [
           {
            "colorbar": {
             "outlinewidth": 0,
             "ticks": ""
            },
            "colorscale": [
             [
              0,
              "#0d0887"
             ],
             [
              0.1111111111111111,
              "#46039f"
             ],
             [
              0.2222222222222222,
              "#7201a8"
             ],
             [
              0.3333333333333333,
              "#9c179e"
             ],
             [
              0.4444444444444444,
              "#bd3786"
             ],
             [
              0.5555555555555556,
              "#d8576b"
             ],
             [
              0.6666666666666666,
              "#ed7953"
             ],
             [
              0.7777777777777778,
              "#fb9f3a"
             ],
             [
              0.8888888888888888,
              "#fdca26"
             ],
             [
              1,
              "#f0f921"
             ]
            ],
            "type": "heatmap"
           }
          ],
          "heatmapgl": [
           {
            "colorbar": {
             "outlinewidth": 0,
             "ticks": ""
            },
            "colorscale": [
             [
              0,
              "#0d0887"
             ],
             [
              0.1111111111111111,
              "#46039f"
             ],
             [
              0.2222222222222222,
              "#7201a8"
             ],
             [
              0.3333333333333333,
              "#9c179e"
             ],
             [
              0.4444444444444444,
              "#bd3786"
             ],
             [
              0.5555555555555556,
              "#d8576b"
             ],
             [
              0.6666666666666666,
              "#ed7953"
             ],
             [
              0.7777777777777778,
              "#fb9f3a"
             ],
             [
              0.8888888888888888,
              "#fdca26"
             ],
             [
              1,
              "#f0f921"
             ]
            ],
            "type": "heatmapgl"
           }
          ],
          "histogram": [
           {
            "marker": {
             "pattern": {
              "fillmode": "overlay",
              "size": 10,
              "solidity": 0.2
             }
            },
            "type": "histogram"
           }
          ],
          "histogram2d": [
           {
            "colorbar": {
             "outlinewidth": 0,
             "ticks": ""
            },
            "colorscale": [
             [
              0,
              "#0d0887"
             ],
             [
              0.1111111111111111,
              "#46039f"
             ],
             [
              0.2222222222222222,
              "#7201a8"
             ],
             [
              0.3333333333333333,
              "#9c179e"
             ],
             [
              0.4444444444444444,
              "#bd3786"
             ],
             [
              0.5555555555555556,
              "#d8576b"
             ],
             [
              0.6666666666666666,
              "#ed7953"
             ],
             [
              0.7777777777777778,
              "#fb9f3a"
             ],
             [
              0.8888888888888888,
              "#fdca26"
             ],
             [
              1,
              "#f0f921"
             ]
            ],
            "type": "histogram2d"
           }
          ],
          "histogram2dcontour": [
           {
            "colorbar": {
             "outlinewidth": 0,
             "ticks": ""
            },
            "colorscale": [
             [
              0,
              "#0d0887"
             ],
             [
              0.1111111111111111,
              "#46039f"
             ],
             [
              0.2222222222222222,
              "#7201a8"
             ],
             [
              0.3333333333333333,
              "#9c179e"
             ],
             [
              0.4444444444444444,
              "#bd3786"
             ],
             [
              0.5555555555555556,
              "#d8576b"
             ],
             [
              0.6666666666666666,
              "#ed7953"
             ],
             [
              0.7777777777777778,
              "#fb9f3a"
             ],
             [
              0.8888888888888888,
              "#fdca26"
             ],
             [
              1,
              "#f0f921"
             ]
            ],
            "type": "histogram2dcontour"
           }
          ],
          "mesh3d": [
           {
            "colorbar": {
             "outlinewidth": 0,
             "ticks": ""
            },
            "type": "mesh3d"
           }
          ],
          "parcoords": [
           {
            "line": {
             "colorbar": {
              "outlinewidth": 0,
              "ticks": ""
             }
            },
            "type": "parcoords"
           }
          ],
          "pie": [
           {
            "automargin": true,
            "type": "pie"
           }
          ],
          "scatter": [
           {
            "fillpattern": {
             "fillmode": "overlay",
             "size": 10,
             "solidity": 0.2
            },
            "type": "scatter"
           }
          ],
          "scatter3d": [
           {
            "line": {
             "colorbar": {
              "outlinewidth": 0,
              "ticks": ""
             }
            },
            "marker": {
             "colorbar": {
              "outlinewidth": 0,
              "ticks": ""
             }
            },
            "type": "scatter3d"
           }
          ],
          "scattercarpet": [
           {
            "marker": {
             "colorbar": {
              "outlinewidth": 0,
              "ticks": ""
             }
            },
            "type": "scattercarpet"
           }
          ],
          "scattergeo": [
           {
            "marker": {
             "colorbar": {
              "outlinewidth": 0,
              "ticks": ""
             }
            },
            "type": "scattergeo"
           }
          ],
          "scattergl": [
           {
            "marker": {
             "colorbar": {
              "outlinewidth": 0,
              "ticks": ""
             }
            },
            "type": "scattergl"
           }
          ],
          "scattermapbox": [
           {
            "marker": {
             "colorbar": {
              "outlinewidth": 0,
              "ticks": ""
             }
            },
            "type": "scattermapbox"
           }
          ],
          "scatterpolar": [
           {
            "marker": {
             "colorbar": {
              "outlinewidth": 0,
              "ticks": ""
             }
            },
            "type": "scatterpolar"
           }
          ],
          "scatterpolargl": [
           {
            "marker": {
             "colorbar": {
              "outlinewidth": 0,
              "ticks": ""
             }
            },
            "type": "scatterpolargl"
           }
          ],
          "scatterternary": [
           {
            "marker": {
             "colorbar": {
              "outlinewidth": 0,
              "ticks": ""
             }
            },
            "type": "scatterternary"
           }
          ],
          "surface": [
           {
            "colorbar": {
             "outlinewidth": 0,
             "ticks": ""
            },
            "colorscale": [
             [
              0,
              "#0d0887"
             ],
             [
              0.1111111111111111,
              "#46039f"
             ],
             [
              0.2222222222222222,
              "#7201a8"
             ],
             [
              0.3333333333333333,
              "#9c179e"
             ],
             [
              0.4444444444444444,
              "#bd3786"
             ],
             [
              0.5555555555555556,
              "#d8576b"
             ],
             [
              0.6666666666666666,
              "#ed7953"
             ],
             [
              0.7777777777777778,
              "#fb9f3a"
             ],
             [
              0.8888888888888888,
              "#fdca26"
             ],
             [
              1,
              "#f0f921"
             ]
            ],
            "type": "surface"
           }
          ],
          "table": [
           {
            "cells": {
             "fill": {
              "color": "#EBF0F8"
             },
             "line": {
              "color": "white"
             }
            },
            "header": {
             "fill": {
              "color": "#C8D4E3"
             },
             "line": {
              "color": "white"
             }
            },
            "type": "table"
           }
          ]
         },
         "layout": {
          "annotationdefaults": {
           "arrowcolor": "#2a3f5f",
           "arrowhead": 0,
           "arrowwidth": 1
          },
          "autotypenumbers": "strict",
          "coloraxis": {
           "colorbar": {
            "outlinewidth": 0,
            "ticks": ""
           }
          },
          "colorscale": {
           "diverging": [
            [
             0,
             "#8e0152"
            ],
            [
             0.1,
             "#c51b7d"
            ],
            [
             0.2,
             "#de77ae"
            ],
            [
             0.3,
             "#f1b6da"
            ],
            [
             0.4,
             "#fde0ef"
            ],
            [
             0.5,
             "#f7f7f7"
            ],
            [
             0.6,
             "#e6f5d0"
            ],
            [
             0.7,
             "#b8e186"
            ],
            [
             0.8,
             "#7fbc41"
            ],
            [
             0.9,
             "#4d9221"
            ],
            [
             1,
             "#276419"
            ]
           ],
           "sequential": [
            [
             0,
             "#0d0887"
            ],
            [
             0.1111111111111111,
             "#46039f"
            ],
            [
             0.2222222222222222,
             "#7201a8"
            ],
            [
             0.3333333333333333,
             "#9c179e"
            ],
            [
             0.4444444444444444,
             "#bd3786"
            ],
            [
             0.5555555555555556,
             "#d8576b"
            ],
            [
             0.6666666666666666,
             "#ed7953"
            ],
            [
             0.7777777777777778,
             "#fb9f3a"
            ],
            [
             0.8888888888888888,
             "#fdca26"
            ],
            [
             1,
             "#f0f921"
            ]
           ],
           "sequentialminus": [
            [
             0,
             "#0d0887"
            ],
            [
             0.1111111111111111,
             "#46039f"
            ],
            [
             0.2222222222222222,
             "#7201a8"
            ],
            [
             0.3333333333333333,
             "#9c179e"
            ],
            [
             0.4444444444444444,
             "#bd3786"
            ],
            [
             0.5555555555555556,
             "#d8576b"
            ],
            [
             0.6666666666666666,
             "#ed7953"
            ],
            [
             0.7777777777777778,
             "#fb9f3a"
            ],
            [
             0.8888888888888888,
             "#fdca26"
            ],
            [
             1,
             "#f0f921"
            ]
           ]
          },
          "colorway": [
           "#636efa",
           "#EF553B",
           "#00cc96",
           "#ab63fa",
           "#FFA15A",
           "#19d3f3",
           "#FF6692",
           "#B6E880",
           "#FF97FF",
           "#FECB52"
          ],
          "font": {
           "color": "#2a3f5f"
          },
          "geo": {
           "bgcolor": "white",
           "lakecolor": "white",
           "landcolor": "#E5ECF6",
           "showlakes": true,
           "showland": true,
           "subunitcolor": "white"
          },
          "hoverlabel": {
           "align": "left"
          },
          "hovermode": "closest",
          "mapbox": {
           "style": "light"
          },
          "paper_bgcolor": "white",
          "plot_bgcolor": "#E5ECF6",
          "polar": {
           "angularaxis": {
            "gridcolor": "white",
            "linecolor": "white",
            "ticks": ""
           },
           "bgcolor": "#E5ECF6",
           "radialaxis": {
            "gridcolor": "white",
            "linecolor": "white",
            "ticks": ""
           }
          },
          "scene": {
           "xaxis": {
            "backgroundcolor": "#E5ECF6",
            "gridcolor": "white",
            "gridwidth": 2,
            "linecolor": "white",
            "showbackground": true,
            "ticks": "",
            "zerolinecolor": "white"
           },
           "yaxis": {
            "backgroundcolor": "#E5ECF6",
            "gridcolor": "white",
            "gridwidth": 2,
            "linecolor": "white",
            "showbackground": true,
            "ticks": "",
            "zerolinecolor": "white"
           },
           "zaxis": {
            "backgroundcolor": "#E5ECF6",
            "gridcolor": "white",
            "gridwidth": 2,
            "linecolor": "white",
            "showbackground": true,
            "ticks": "",
            "zerolinecolor": "white"
           }
          },
          "shapedefaults": {
           "line": {
            "color": "#2a3f5f"
           }
          },
          "ternary": {
           "aaxis": {
            "gridcolor": "white",
            "linecolor": "white",
            "ticks": ""
           },
           "baxis": {
            "gridcolor": "white",
            "linecolor": "white",
            "ticks": ""
           },
           "bgcolor": "#E5ECF6",
           "caxis": {
            "gridcolor": "white",
            "linecolor": "white",
            "ticks": ""
           }
          },
          "title": {
           "x": 0.05
          },
          "xaxis": {
           "automargin": true,
           "gridcolor": "white",
           "linecolor": "white",
           "ticks": "",
           "title": {
            "standoff": 15
           },
           "zerolinecolor": "white",
           "zerolinewidth": 2
          },
          "yaxis": {
           "automargin": true,
           "gridcolor": "white",
           "linecolor": "white",
           "ticks": "",
           "title": {
            "standoff": 15
           },
           "zerolinecolor": "white",
           "zerolinewidth": 2
          }
         }
        },
        "title": {
         "text": "Sparse probe scores for \"conv pixel contains cheese\" over resadd layers and K values"
        },
        "xaxis": {
         "anchor": "y",
         "domain": [
          0,
          1
         ],
         "title": {
          "text": "layer"
         }
        },
        "yaxis": {
         "anchor": "x",
         "domain": [
          0,
          1
         ],
         "title": {
          "text": "score"
         }
        }
       }
      },
      "text/html": [
       "<div>                            <div id=\"1253a7fd-9c07-4a5b-84b3-b91c0fe0c66f\" class=\"plotly-graph-div\" style=\"height:525px; width:100%;\"></div>            <script type=\"text/javascript\">                require([\"plotly\"], function(Plotly) {                    window.PLOTLYENV=window.PLOTLYENV || {};                                    if (document.getElementById(\"1253a7fd-9c07-4a5b-84b3-b91c0fe0c66f\")) {                    Plotly.newPlot(                        \"1253a7fd-9c07-4a5b-84b3-b91c0fe0c66f\",                        [{\"hovertemplate\":\"K=1\\u003cbr\\u003elayer=%{x}\\u003cbr\\u003escore=%{y}\\u003cextra\\u003e\\u003c\\u002fextra\\u003e\",\"legendgroup\":\"1\",\"line\":{\"color\":\"#636efa\",\"dash\":\"solid\"},\"marker\":{\"symbol\":\"circle\"},\"mode\":\"lines\",\"name\":\"1\",\"orientation\":\"v\",\"showlegend\":true,\"x\":[\"embedder.block1.res1.resadd_out\",\"embedder.block1.res2.resadd_out\",\"embedder.block2.res1.resadd_out\",\"embedder.block2.res2.resadd_out\",\"embedder.block3.res1.resadd_out\",\"embedder.block3.res2.resadd_out\"],\"xaxis\":\"x\",\"y\":[0.8375,0.845,0.68,0.7075,0.66,0.6525],\"yaxis\":\"y\",\"type\":\"scatter\"},{\"hovertemplate\":\"K=2\\u003cbr\\u003elayer=%{x}\\u003cbr\\u003escore=%{y}\\u003cextra\\u003e\\u003c\\u002fextra\\u003e\",\"legendgroup\":\"2\",\"line\":{\"color\":\"#EF553B\",\"dash\":\"solid\"},\"marker\":{\"symbol\":\"circle\"},\"mode\":\"lines\",\"name\":\"2\",\"orientation\":\"v\",\"showlegend\":true,\"x\":[\"embedder.block1.res1.resadd_out\",\"embedder.block1.res2.resadd_out\",\"embedder.block2.res1.resadd_out\",\"embedder.block2.res2.resadd_out\",\"embedder.block3.res1.resadd_out\",\"embedder.block3.res2.resadd_out\"],\"xaxis\":\"x\",\"y\":[0.87,0.8775,0.6775,0.7275,0.6875,0.695],\"yaxis\":\"y\",\"type\":\"scatter\"},{\"hovertemplate\":\"K=3\\u003cbr\\u003elayer=%{x}\\u003cbr\\u003escore=%{y}\\u003cextra\\u003e\\u003c\\u002fextra\\u003e\",\"legendgroup\":\"3\",\"line\":{\"color\":\"#00cc96\",\"dash\":\"solid\"},\"marker\":{\"symbol\":\"circle\"},\"mode\":\"lines\",\"name\":\"3\",\"orientation\":\"v\",\"showlegend\":true,\"x\":[\"embedder.block1.res1.resadd_out\",\"embedder.block1.res2.resadd_out\",\"embedder.block2.res1.resadd_out\",\"embedder.block2.res2.resadd_out\",\"embedder.block3.res1.resadd_out\",\"embedder.block3.res2.resadd_out\"],\"xaxis\":\"x\",\"y\":[0.9,0.8925,0.7025,0.735,0.7275,0.7075],\"yaxis\":\"y\",\"type\":\"scatter\"},{\"hovertemplate\":\"K=4\\u003cbr\\u003elayer=%{x}\\u003cbr\\u003escore=%{y}\\u003cextra\\u003e\\u003c\\u002fextra\\u003e\",\"legendgroup\":\"4\",\"line\":{\"color\":\"#ab63fa\",\"dash\":\"solid\"},\"marker\":{\"symbol\":\"circle\"},\"mode\":\"lines\",\"name\":\"4\",\"orientation\":\"v\",\"showlegend\":true,\"x\":[\"embedder.block1.res1.resadd_out\",\"embedder.block1.res2.resadd_out\",\"embedder.block2.res1.resadd_out\",\"embedder.block2.res2.resadd_out\",\"embedder.block3.res1.resadd_out\",\"embedder.block3.res2.resadd_out\"],\"xaxis\":\"x\",\"y\":[0.9125,0.93,0.6975,0.73,0.72,0.72],\"yaxis\":\"y\",\"type\":\"scatter\"},{\"hovertemplate\":\"K=5\\u003cbr\\u003elayer=%{x}\\u003cbr\\u003escore=%{y}\\u003cextra\\u003e\\u003c\\u002fextra\\u003e\",\"legendgroup\":\"5\",\"line\":{\"color\":\"#FFA15A\",\"dash\":\"solid\"},\"marker\":{\"symbol\":\"circle\"},\"mode\":\"lines\",\"name\":\"5\",\"orientation\":\"v\",\"showlegend\":true,\"x\":[\"embedder.block1.res1.resadd_out\",\"embedder.block1.res2.resadd_out\",\"embedder.block2.res1.resadd_out\",\"embedder.block2.res2.resadd_out\",\"embedder.block3.res1.resadd_out\",\"embedder.block3.res2.resadd_out\"],\"xaxis\":\"x\",\"y\":[0.9125,0.935,0.71,0.7575,0.725,0.7175],\"yaxis\":\"y\",\"type\":\"scatter\"},{\"hovertemplate\":\"K=6\\u003cbr\\u003elayer=%{x}\\u003cbr\\u003escore=%{y}\\u003cextra\\u003e\\u003c\\u002fextra\\u003e\",\"legendgroup\":\"6\",\"line\":{\"color\":\"#19d3f3\",\"dash\":\"solid\"},\"marker\":{\"symbol\":\"circle\"},\"mode\":\"lines\",\"name\":\"6\",\"orientation\":\"v\",\"showlegend\":true,\"x\":[\"embedder.block1.res1.resadd_out\",\"embedder.block1.res2.resadd_out\",\"embedder.block2.res1.resadd_out\",\"embedder.block2.res2.resadd_out\",\"embedder.block3.res1.resadd_out\",\"embedder.block3.res2.resadd_out\"],\"xaxis\":\"x\",\"y\":[0.915,0.925,0.735,0.7675,0.735,0.7275],\"yaxis\":\"y\",\"type\":\"scatter\"},{\"hovertemplate\":\"K=7\\u003cbr\\u003elayer=%{x}\\u003cbr\\u003escore=%{y}\\u003cextra\\u003e\\u003c\\u002fextra\\u003e\",\"legendgroup\":\"7\",\"line\":{\"color\":\"#FF6692\",\"dash\":\"solid\"},\"marker\":{\"symbol\":\"circle\"},\"mode\":\"lines\",\"name\":\"7\",\"orientation\":\"v\",\"showlegend\":true,\"x\":[\"embedder.block1.res1.resadd_out\",\"embedder.block1.res2.resadd_out\",\"embedder.block2.res1.resadd_out\",\"embedder.block2.res2.resadd_out\",\"embedder.block3.res1.resadd_out\",\"embedder.block3.res2.resadd_out\"],\"xaxis\":\"x\",\"y\":[0.94,0.9325,0.7525,0.755,0.745,0.7125],\"yaxis\":\"y\",\"type\":\"scatter\"},{\"hovertemplate\":\"K=8\\u003cbr\\u003elayer=%{x}\\u003cbr\\u003escore=%{y}\\u003cextra\\u003e\\u003c\\u002fextra\\u003e\",\"legendgroup\":\"8\",\"line\":{\"color\":\"#B6E880\",\"dash\":\"solid\"},\"marker\":{\"symbol\":\"circle\"},\"mode\":\"lines\",\"name\":\"8\",\"orientation\":\"v\",\"showlegend\":true,\"x\":[\"embedder.block1.res1.resadd_out\",\"embedder.block1.res2.resadd_out\",\"embedder.block2.res1.resadd_out\",\"embedder.block2.res2.resadd_out\",\"embedder.block3.res1.resadd_out\",\"embedder.block3.res2.resadd_out\"],\"xaxis\":\"x\",\"y\":[0.95,0.9225,0.7525,0.76,0.745,0.7075],\"yaxis\":\"y\",\"type\":\"scatter\"},{\"hovertemplate\":\"K=9\\u003cbr\\u003elayer=%{x}\\u003cbr\\u003escore=%{y}\\u003cextra\\u003e\\u003c\\u002fextra\\u003e\",\"legendgroup\":\"9\",\"line\":{\"color\":\"#FF97FF\",\"dash\":\"solid\"},\"marker\":{\"symbol\":\"circle\"},\"mode\":\"lines\",\"name\":\"9\",\"orientation\":\"v\",\"showlegend\":true,\"x\":[\"embedder.block1.res1.resadd_out\",\"embedder.block1.res2.resadd_out\",\"embedder.block2.res1.resadd_out\",\"embedder.block2.res2.resadd_out\",\"embedder.block3.res1.resadd_out\",\"embedder.block3.res2.resadd_out\"],\"xaxis\":\"x\",\"y\":[0.95,0.9275,0.7425,0.7725,0.7475,0.7],\"yaxis\":\"y\",\"type\":\"scatter\"},{\"hovertemplate\":\"K=10\\u003cbr\\u003elayer=%{x}\\u003cbr\\u003escore=%{y}\\u003cextra\\u003e\\u003c\\u002fextra\\u003e\",\"legendgroup\":\"10\",\"line\":{\"color\":\"#FECB52\",\"dash\":\"solid\"},\"marker\":{\"symbol\":\"circle\"},\"mode\":\"lines\",\"name\":\"10\",\"orientation\":\"v\",\"showlegend\":true,\"x\":[\"embedder.block1.res1.resadd_out\",\"embedder.block1.res2.resadd_out\",\"embedder.block2.res1.resadd_out\",\"embedder.block2.res2.resadd_out\",\"embedder.block3.res1.resadd_out\",\"embedder.block3.res2.resadd_out\"],\"xaxis\":\"x\",\"y\":[0.9475,0.935,0.7475,0.78,0.745,0.715],\"yaxis\":\"y\",\"type\":\"scatter\"}],                        {\"template\":{\"data\":{\"histogram2dcontour\":[{\"type\":\"histogram2dcontour\",\"colorbar\":{\"outlinewidth\":0,\"ticks\":\"\"},\"colorscale\":[[0.0,\"#0d0887\"],[0.1111111111111111,\"#46039f\"],[0.2222222222222222,\"#7201a8\"],[0.3333333333333333,\"#9c179e\"],[0.4444444444444444,\"#bd3786\"],[0.5555555555555556,\"#d8576b\"],[0.6666666666666666,\"#ed7953\"],[0.7777777777777778,\"#fb9f3a\"],[0.8888888888888888,\"#fdca26\"],[1.0,\"#f0f921\"]]}],\"choropleth\":[{\"type\":\"choropleth\",\"colorbar\":{\"outlinewidth\":0,\"ticks\":\"\"}}],\"histogram2d\":[{\"type\":\"histogram2d\",\"colorbar\":{\"outlinewidth\":0,\"ticks\":\"\"},\"colorscale\":[[0.0,\"#0d0887\"],[0.1111111111111111,\"#46039f\"],[0.2222222222222222,\"#7201a8\"],[0.3333333333333333,\"#9c179e\"],[0.4444444444444444,\"#bd3786\"],[0.5555555555555556,\"#d8576b\"],[0.6666666666666666,\"#ed7953\"],[0.7777777777777778,\"#fb9f3a\"],[0.8888888888888888,\"#fdca26\"],[1.0,\"#f0f921\"]]}],\"heatmap\":[{\"type\":\"heatmap\",\"colorbar\":{\"outlinewidth\":0,\"ticks\":\"\"},\"colorscale\":[[0.0,\"#0d0887\"],[0.1111111111111111,\"#46039f\"],[0.2222222222222222,\"#7201a8\"],[0.3333333333333333,\"#9c179e\"],[0.4444444444444444,\"#bd3786\"],[0.5555555555555556,\"#d8576b\"],[0.6666666666666666,\"#ed7953\"],[0.7777777777777778,\"#fb9f3a\"],[0.8888888888888888,\"#fdca26\"],[1.0,\"#f0f921\"]]}],\"heatmapgl\":[{\"type\":\"heatmapgl\",\"colorbar\":{\"outlinewidth\":0,\"ticks\":\"\"},\"colorscale\":[[0.0,\"#0d0887\"],[0.1111111111111111,\"#46039f\"],[0.2222222222222222,\"#7201a8\"],[0.3333333333333333,\"#9c179e\"],[0.4444444444444444,\"#bd3786\"],[0.5555555555555556,\"#d8576b\"],[0.6666666666666666,\"#ed7953\"],[0.7777777777777778,\"#fb9f3a\"],[0.8888888888888888,\"#fdca26\"],[1.0,\"#f0f921\"]]}],\"contourcarpet\":[{\"type\":\"contourcarpet\",\"colorbar\":{\"outlinewidth\":0,\"ticks\":\"\"}}],\"contour\":[{\"type\":\"contour\",\"colorbar\":{\"outlinewidth\":0,\"ticks\":\"\"},\"colorscale\":[[0.0,\"#0d0887\"],[0.1111111111111111,\"#46039f\"],[0.2222222222222222,\"#7201a8\"],[0.3333333333333333,\"#9c179e\"],[0.4444444444444444,\"#bd3786\"],[0.5555555555555556,\"#d8576b\"],[0.6666666666666666,\"#ed7953\"],[0.7777777777777778,\"#fb9f3a\"],[0.8888888888888888,\"#fdca26\"],[1.0,\"#f0f921\"]]}],\"surface\":[{\"type\":\"surface\",\"colorbar\":{\"outlinewidth\":0,\"ticks\":\"\"},\"colorscale\":[[0.0,\"#0d0887\"],[0.1111111111111111,\"#46039f\"],[0.2222222222222222,\"#7201a8\"],[0.3333333333333333,\"#9c179e\"],[0.4444444444444444,\"#bd3786\"],[0.5555555555555556,\"#d8576b\"],[0.6666666666666666,\"#ed7953\"],[0.7777777777777778,\"#fb9f3a\"],[0.8888888888888888,\"#fdca26\"],[1.0,\"#f0f921\"]]}],\"mesh3d\":[{\"type\":\"mesh3d\",\"colorbar\":{\"outlinewidth\":0,\"ticks\":\"\"}}],\"scatter\":[{\"fillpattern\":{\"fillmode\":\"overlay\",\"size\":10,\"solidity\":0.2},\"type\":\"scatter\"}],\"parcoords\":[{\"type\":\"parcoords\",\"line\":{\"colorbar\":{\"outlinewidth\":0,\"ticks\":\"\"}}}],\"scatterpolargl\":[{\"type\":\"scatterpolargl\",\"marker\":{\"colorbar\":{\"outlinewidth\":0,\"ticks\":\"\"}}}],\"bar\":[{\"error_x\":{\"color\":\"#2a3f5f\"},\"error_y\":{\"color\":\"#2a3f5f\"},\"marker\":{\"line\":{\"color\":\"#E5ECF6\",\"width\":0.5},\"pattern\":{\"fillmode\":\"overlay\",\"size\":10,\"solidity\":0.2}},\"type\":\"bar\"}],\"scattergeo\":[{\"type\":\"scattergeo\",\"marker\":{\"colorbar\":{\"outlinewidth\":0,\"ticks\":\"\"}}}],\"scatterpolar\":[{\"type\":\"scatterpolar\",\"marker\":{\"colorbar\":{\"outlinewidth\":0,\"ticks\":\"\"}}}],\"histogram\":[{\"marker\":{\"pattern\":{\"fillmode\":\"overlay\",\"size\":10,\"solidity\":0.2}},\"type\":\"histogram\"}],\"scattergl\":[{\"type\":\"scattergl\",\"marker\":{\"colorbar\":{\"outlinewidth\":0,\"ticks\":\"\"}}}],\"scatter3d\":[{\"type\":\"scatter3d\",\"line\":{\"colorbar\":{\"outlinewidth\":0,\"ticks\":\"\"}},\"marker\":{\"colorbar\":{\"outlinewidth\":0,\"ticks\":\"\"}}}],\"scattermapbox\":[{\"type\":\"scattermapbox\",\"marker\":{\"colorbar\":{\"outlinewidth\":0,\"ticks\":\"\"}}}],\"scatterternary\":[{\"type\":\"scatterternary\",\"marker\":{\"colorbar\":{\"outlinewidth\":0,\"ticks\":\"\"}}}],\"scattercarpet\":[{\"type\":\"scattercarpet\",\"marker\":{\"colorbar\":{\"outlinewidth\":0,\"ticks\":\"\"}}}],\"carpet\":[{\"aaxis\":{\"endlinecolor\":\"#2a3f5f\",\"gridcolor\":\"white\",\"linecolor\":\"white\",\"minorgridcolor\":\"white\",\"startlinecolor\":\"#2a3f5f\"},\"baxis\":{\"endlinecolor\":\"#2a3f5f\",\"gridcolor\":\"white\",\"linecolor\":\"white\",\"minorgridcolor\":\"white\",\"startlinecolor\":\"#2a3f5f\"},\"type\":\"carpet\"}],\"table\":[{\"cells\":{\"fill\":{\"color\":\"#EBF0F8\"},\"line\":{\"color\":\"white\"}},\"header\":{\"fill\":{\"color\":\"#C8D4E3\"},\"line\":{\"color\":\"white\"}},\"type\":\"table\"}],\"barpolar\":[{\"marker\":{\"line\":{\"color\":\"#E5ECF6\",\"width\":0.5},\"pattern\":{\"fillmode\":\"overlay\",\"size\":10,\"solidity\":0.2}},\"type\":\"barpolar\"}],\"pie\":[{\"automargin\":true,\"type\":\"pie\"}]},\"layout\":{\"autotypenumbers\":\"strict\",\"colorway\":[\"#636efa\",\"#EF553B\",\"#00cc96\",\"#ab63fa\",\"#FFA15A\",\"#19d3f3\",\"#FF6692\",\"#B6E880\",\"#FF97FF\",\"#FECB52\"],\"font\":{\"color\":\"#2a3f5f\"},\"hovermode\":\"closest\",\"hoverlabel\":{\"align\":\"left\"},\"paper_bgcolor\":\"white\",\"plot_bgcolor\":\"#E5ECF6\",\"polar\":{\"bgcolor\":\"#E5ECF6\",\"angularaxis\":{\"gridcolor\":\"white\",\"linecolor\":\"white\",\"ticks\":\"\"},\"radialaxis\":{\"gridcolor\":\"white\",\"linecolor\":\"white\",\"ticks\":\"\"}},\"ternary\":{\"bgcolor\":\"#E5ECF6\",\"aaxis\":{\"gridcolor\":\"white\",\"linecolor\":\"white\",\"ticks\":\"\"},\"baxis\":{\"gridcolor\":\"white\",\"linecolor\":\"white\",\"ticks\":\"\"},\"caxis\":{\"gridcolor\":\"white\",\"linecolor\":\"white\",\"ticks\":\"\"}},\"coloraxis\":{\"colorbar\":{\"outlinewidth\":0,\"ticks\":\"\"}},\"colorscale\":{\"sequential\":[[0.0,\"#0d0887\"],[0.1111111111111111,\"#46039f\"],[0.2222222222222222,\"#7201a8\"],[0.3333333333333333,\"#9c179e\"],[0.4444444444444444,\"#bd3786\"],[0.5555555555555556,\"#d8576b\"],[0.6666666666666666,\"#ed7953\"],[0.7777777777777778,\"#fb9f3a\"],[0.8888888888888888,\"#fdca26\"],[1.0,\"#f0f921\"]],\"sequentialminus\":[[0.0,\"#0d0887\"],[0.1111111111111111,\"#46039f\"],[0.2222222222222222,\"#7201a8\"],[0.3333333333333333,\"#9c179e\"],[0.4444444444444444,\"#bd3786\"],[0.5555555555555556,\"#d8576b\"],[0.6666666666666666,\"#ed7953\"],[0.7777777777777778,\"#fb9f3a\"],[0.8888888888888888,\"#fdca26\"],[1.0,\"#f0f921\"]],\"diverging\":[[0,\"#8e0152\"],[0.1,\"#c51b7d\"],[0.2,\"#de77ae\"],[0.3,\"#f1b6da\"],[0.4,\"#fde0ef\"],[0.5,\"#f7f7f7\"],[0.6,\"#e6f5d0\"],[0.7,\"#b8e186\"],[0.8,\"#7fbc41\"],[0.9,\"#4d9221\"],[1,\"#276419\"]]},\"xaxis\":{\"gridcolor\":\"white\",\"linecolor\":\"white\",\"ticks\":\"\",\"title\":{\"standoff\":15},\"zerolinecolor\":\"white\",\"automargin\":true,\"zerolinewidth\":2},\"yaxis\":{\"gridcolor\":\"white\",\"linecolor\":\"white\",\"ticks\":\"\",\"title\":{\"standoff\":15},\"zerolinecolor\":\"white\",\"automargin\":true,\"zerolinewidth\":2},\"scene\":{\"xaxis\":{\"backgroundcolor\":\"#E5ECF6\",\"gridcolor\":\"white\",\"linecolor\":\"white\",\"showbackground\":true,\"ticks\":\"\",\"zerolinecolor\":\"white\",\"gridwidth\":2},\"yaxis\":{\"backgroundcolor\":\"#E5ECF6\",\"gridcolor\":\"white\",\"linecolor\":\"white\",\"showbackground\":true,\"ticks\":\"\",\"zerolinecolor\":\"white\",\"gridwidth\":2},\"zaxis\":{\"backgroundcolor\":\"#E5ECF6\",\"gridcolor\":\"white\",\"linecolor\":\"white\",\"showbackground\":true,\"ticks\":\"\",\"zerolinecolor\":\"white\",\"gridwidth\":2}},\"shapedefaults\":{\"line\":{\"color\":\"#2a3f5f\"}},\"annotationdefaults\":{\"arrowcolor\":\"#2a3f5f\",\"arrowhead\":0,\"arrowwidth\":1},\"geo\":{\"bgcolor\":\"white\",\"landcolor\":\"#E5ECF6\",\"subunitcolor\":\"white\",\"showland\":true,\"showlakes\":true,\"lakecolor\":\"white\"},\"title\":{\"x\":0.05},\"mapbox\":{\"style\":\"light\"}}},\"xaxis\":{\"anchor\":\"y\",\"domain\":[0.0,1.0],\"title\":{\"text\":\"layer\"}},\"yaxis\":{\"anchor\":\"x\",\"domain\":[0.0,1.0],\"title\":{\"text\":\"score\"}},\"legend\":{\"title\":{\"text\":\"K\"},\"tracegroupgap\":0},\"title\":{\"text\":\"Sparse probe scores for \\\"conv pixel contains cheese\\\" over resadd layers and K values\"},\"shapes\":[{\"line\":{\"dash\":\"dot\"},\"type\":\"line\",\"x0\":0,\"x1\":1,\"xref\":\"x domain\",\"y0\":1.0,\"y1\":1.0,\"yref\":\"y\"},{\"line\":{\"dash\":\"dot\"},\"type\":\"line\",\"x0\":0,\"x1\":1,\"xref\":\"x domain\",\"y0\":0.5,\"y1\":0.5,\"yref\":\"y\"}],\"annotations\":[{\"showarrow\":false,\"text\":\"perfect\",\"x\":1,\"xanchor\":\"right\",\"xref\":\"x domain\",\"y\":1.0,\"yanchor\":\"top\",\"yref\":\"y\"},{\"showarrow\":false,\"text\":\"baseline\",\"x\":1,\"xanchor\":\"right\",\"xref\":\"x domain\",\"y\":0.5,\"yanchor\":\"top\",\"yref\":\"y\"}]},                        {\"responsive\": true}                    ).then(function(){\n",
       "                            \n",
       "var gd = document.getElementById('1253a7fd-9c07-4a5b-84b3-b91c0fe0c66f');\n",
       "var x = new MutationObserver(function (mutations, observer) {{\n",
       "        var display = window.getComputedStyle(gd).display;\n",
       "        if (!display || display === 'none') {{\n",
       "            console.log([gd, 'removed!']);\n",
       "            Plotly.purge(gd);\n",
       "            observer.disconnect();\n",
       "        }}\n",
       "}});\n",
       "\n",
       "// Listen for the removal of the full notebook cells\n",
       "var notebookContainer = gd.closest('#notebook-container');\n",
       "if (notebookContainer) {{\n",
       "    x.observe(notebookContainer, {childList: true});\n",
       "}}\n",
       "\n",
       "// Listen for the clearing of the current output cell\n",
       "var outputEl = gd.closest('.output');\n",
       "if (outputEl) {{\n",
       "    x.observe(outputEl, {childList: true});\n",
       "}}\n",
       "\n",
       "                        })                };                });            </script>        </div>"
      ]
     },
     "metadata": {},
     "output_type": "display_data"
    },
    {
     "name": "stderr",
     "output_type": "stream",
     "text": [
      "100%|██████████| 6/6 [00:01<00:00,  5.79it/s]\n"
     ]
    },
    {
     "data": {
      "application/vnd.plotly.v1+json": {
       "config": {
        "plotlyServerURL": "https://plot.ly"
       },
       "data": [
        {
         "hovertemplate": "K=1<br>layer=%{x}<br>score=%{y}<extra></extra>",
         "legendgroup": "1",
         "line": {
          "color": "#636efa",
          "dash": "solid"
         },
         "marker": {
          "symbol": "circle"
         },
         "mode": "lines",
         "name": "1",
         "orientation": "v",
         "showlegend": true,
         "type": "scatter",
         "x": [
          "embedder.block1.res1.resadd_out",
          "embedder.block1.res2.resadd_out",
          "embedder.block2.res1.resadd_out",
          "embedder.block2.res2.resadd_out",
          "embedder.block3.res1.resadd_out",
          "embedder.block3.res2.resadd_out"
         ],
         "xaxis": "x",
         "y": [
          0.9975,
          0.9825,
          0.975,
          0.9625,
          0.965,
          0.8525
         ],
         "yaxis": "y"
        },
        {
         "hovertemplate": "K=2<br>layer=%{x}<br>score=%{y}<extra></extra>",
         "legendgroup": "2",
         "line": {
          "color": "#EF553B",
          "dash": "solid"
         },
         "marker": {
          "symbol": "circle"
         },
         "mode": "lines",
         "name": "2",
         "orientation": "v",
         "showlegend": true,
         "type": "scatter",
         "x": [
          "embedder.block1.res1.resadd_out",
          "embedder.block1.res2.resadd_out",
          "embedder.block2.res1.resadd_out",
          "embedder.block2.res2.resadd_out",
          "embedder.block3.res1.resadd_out",
          "embedder.block3.res2.resadd_out"
         ],
         "xaxis": "x",
         "y": [
          1,
          1,
          0.9775,
          0.98,
          0.9725,
          0.8475
         ],
         "yaxis": "y"
        },
        {
         "hovertemplate": "K=3<br>layer=%{x}<br>score=%{y}<extra></extra>",
         "legendgroup": "3",
         "line": {
          "color": "#00cc96",
          "dash": "solid"
         },
         "marker": {
          "symbol": "circle"
         },
         "mode": "lines",
         "name": "3",
         "orientation": "v",
         "showlegend": true,
         "type": "scatter",
         "x": [
          "embedder.block1.res1.resadd_out",
          "embedder.block1.res2.resadd_out",
          "embedder.block2.res1.resadd_out",
          "embedder.block2.res2.resadd_out",
          "embedder.block3.res1.resadd_out",
          "embedder.block3.res2.resadd_out"
         ],
         "xaxis": "x",
         "y": [
          1,
          0.99,
          0.985,
          0.9825,
          0.975,
          0.85
         ],
         "yaxis": "y"
        },
        {
         "hovertemplate": "K=4<br>layer=%{x}<br>score=%{y}<extra></extra>",
         "legendgroup": "4",
         "line": {
          "color": "#ab63fa",
          "dash": "solid"
         },
         "marker": {
          "symbol": "circle"
         },
         "mode": "lines",
         "name": "4",
         "orientation": "v",
         "showlegend": true,
         "type": "scatter",
         "x": [
          "embedder.block1.res1.resadd_out",
          "embedder.block1.res2.resadd_out",
          "embedder.block2.res1.resadd_out",
          "embedder.block2.res2.resadd_out",
          "embedder.block3.res1.resadd_out",
          "embedder.block3.res2.resadd_out"
         ],
         "xaxis": "x",
         "y": [
          1,
          0.9925,
          0.9825,
          0.975,
          0.97,
          0.8475
         ],
         "yaxis": "y"
        },
        {
         "hovertemplate": "K=5<br>layer=%{x}<br>score=%{y}<extra></extra>",
         "legendgroup": "5",
         "line": {
          "color": "#FFA15A",
          "dash": "solid"
         },
         "marker": {
          "symbol": "circle"
         },
         "mode": "lines",
         "name": "5",
         "orientation": "v",
         "showlegend": true,
         "type": "scatter",
         "x": [
          "embedder.block1.res1.resadd_out",
          "embedder.block1.res2.resadd_out",
          "embedder.block2.res1.resadd_out",
          "embedder.block2.res2.resadd_out",
          "embedder.block3.res1.resadd_out",
          "embedder.block3.res2.resadd_out"
         ],
         "xaxis": "x",
         "y": [
          0.9975,
          1,
          0.9875,
          0.9725,
          0.97,
          0.855
         ],
         "yaxis": "y"
        },
        {
         "hovertemplate": "K=6<br>layer=%{x}<br>score=%{y}<extra></extra>",
         "legendgroup": "6",
         "line": {
          "color": "#19d3f3",
          "dash": "solid"
         },
         "marker": {
          "symbol": "circle"
         },
         "mode": "lines",
         "name": "6",
         "orientation": "v",
         "showlegend": true,
         "type": "scatter",
         "x": [
          "embedder.block1.res1.resadd_out",
          "embedder.block1.res2.resadd_out",
          "embedder.block2.res1.resadd_out",
          "embedder.block2.res2.resadd_out",
          "embedder.block3.res1.resadd_out",
          "embedder.block3.res2.resadd_out"
         ],
         "xaxis": "x",
         "y": [
          0.9975,
          1,
          0.99,
          0.9725,
          0.975,
          0.8525
         ],
         "yaxis": "y"
        },
        {
         "hovertemplate": "K=7<br>layer=%{x}<br>score=%{y}<extra></extra>",
         "legendgroup": "7",
         "line": {
          "color": "#FF6692",
          "dash": "solid"
         },
         "marker": {
          "symbol": "circle"
         },
         "mode": "lines",
         "name": "7",
         "orientation": "v",
         "showlegend": true,
         "type": "scatter",
         "x": [
          "embedder.block1.res1.resadd_out",
          "embedder.block1.res2.resadd_out",
          "embedder.block2.res1.resadd_out",
          "embedder.block2.res2.resadd_out",
          "embedder.block3.res1.resadd_out",
          "embedder.block3.res2.resadd_out"
         ],
         "xaxis": "x",
         "y": [
          0.9925,
          1,
          0.99,
          0.9775,
          0.9725,
          0.8525
         ],
         "yaxis": "y"
        },
        {
         "hovertemplate": "K=8<br>layer=%{x}<br>score=%{y}<extra></extra>",
         "legendgroup": "8",
         "line": {
          "color": "#B6E880",
          "dash": "solid"
         },
         "marker": {
          "symbol": "circle"
         },
         "mode": "lines",
         "name": "8",
         "orientation": "v",
         "showlegend": true,
         "type": "scatter",
         "x": [
          "embedder.block1.res1.resadd_out",
          "embedder.block1.res2.resadd_out",
          "embedder.block2.res1.resadd_out",
          "embedder.block2.res2.resadd_out",
          "embedder.block3.res1.resadd_out",
          "embedder.block3.res2.resadd_out"
         ],
         "xaxis": "x",
         "y": [
          0.995,
          1,
          0.99,
          0.975,
          0.97,
          0.855
         ],
         "yaxis": "y"
        },
        {
         "hovertemplate": "K=9<br>layer=%{x}<br>score=%{y}<extra></extra>",
         "legendgroup": "9",
         "line": {
          "color": "#FF97FF",
          "dash": "solid"
         },
         "marker": {
          "symbol": "circle"
         },
         "mode": "lines",
         "name": "9",
         "orientation": "v",
         "showlegend": true,
         "type": "scatter",
         "x": [
          "embedder.block1.res1.resadd_out",
          "embedder.block1.res2.resadd_out",
          "embedder.block2.res1.resadd_out",
          "embedder.block2.res2.resadd_out",
          "embedder.block3.res1.resadd_out",
          "embedder.block3.res2.resadd_out"
         ],
         "xaxis": "x",
         "y": [
          0.995,
          1,
          0.9875,
          0.98,
          0.97,
          0.86
         ],
         "yaxis": "y"
        },
        {
         "hovertemplate": "K=10<br>layer=%{x}<br>score=%{y}<extra></extra>",
         "legendgroup": "10",
         "line": {
          "color": "#FECB52",
          "dash": "solid"
         },
         "marker": {
          "symbol": "circle"
         },
         "mode": "lines",
         "name": "10",
         "orientation": "v",
         "showlegend": true,
         "type": "scatter",
         "x": [
          "embedder.block1.res1.resadd_out",
          "embedder.block1.res2.resadd_out",
          "embedder.block2.res1.resadd_out",
          "embedder.block2.res2.resadd_out",
          "embedder.block3.res1.resadd_out",
          "embedder.block3.res2.resadd_out"
         ],
         "xaxis": "x",
         "y": [
          0.9975,
          1,
          0.9925,
          0.9825,
          0.9725,
          0.86
         ],
         "yaxis": "y"
        }
       ],
       "layout": {
        "annotations": [
         {
          "showarrow": false,
          "text": "perfect",
          "x": 1,
          "xanchor": "right",
          "xref": "x domain",
          "y": 1,
          "yanchor": "top",
          "yref": "y"
         },
         {
          "showarrow": false,
          "text": "baseline",
          "x": 1,
          "xanchor": "right",
          "xref": "x domain",
          "y": 0.5,
          "yanchor": "top",
          "yref": "y"
         }
        ],
        "legend": {
         "title": {
          "text": "K"
         },
         "tracegroupgap": 0
        },
        "shapes": [
         {
          "line": {
           "dash": "dot"
          },
          "type": "line",
          "x0": 0,
          "x1": 1,
          "xref": "x domain",
          "y0": 1,
          "y1": 1,
          "yref": "y"
         },
         {
          "line": {
           "dash": "dot"
          },
          "type": "line",
          "x0": 0,
          "x1": 1,
          "xref": "x domain",
          "y0": 0.5,
          "y1": 0.5,
          "yref": "y"
         }
        ],
        "template": {
         "data": {
          "bar": [
           {
            "error_x": {
             "color": "#2a3f5f"
            },
            "error_y": {
             "color": "#2a3f5f"
            },
            "marker": {
             "line": {
              "color": "#E5ECF6",
              "width": 0.5
             },
             "pattern": {
              "fillmode": "overlay",
              "size": 10,
              "solidity": 0.2
             }
            },
            "type": "bar"
           }
          ],
          "barpolar": [
           {
            "marker": {
             "line": {
              "color": "#E5ECF6",
              "width": 0.5
             },
             "pattern": {
              "fillmode": "overlay",
              "size": 10,
              "solidity": 0.2
             }
            },
            "type": "barpolar"
           }
          ],
          "carpet": [
           {
            "aaxis": {
             "endlinecolor": "#2a3f5f",
             "gridcolor": "white",
             "linecolor": "white",
             "minorgridcolor": "white",
             "startlinecolor": "#2a3f5f"
            },
            "baxis": {
             "endlinecolor": "#2a3f5f",
             "gridcolor": "white",
             "linecolor": "white",
             "minorgridcolor": "white",
             "startlinecolor": "#2a3f5f"
            },
            "type": "carpet"
           }
          ],
          "choropleth": [
           {
            "colorbar": {
             "outlinewidth": 0,
             "ticks": ""
            },
            "type": "choropleth"
           }
          ],
          "contour": [
           {
            "colorbar": {
             "outlinewidth": 0,
             "ticks": ""
            },
            "colorscale": [
             [
              0,
              "#0d0887"
             ],
             [
              0.1111111111111111,
              "#46039f"
             ],
             [
              0.2222222222222222,
              "#7201a8"
             ],
             [
              0.3333333333333333,
              "#9c179e"
             ],
             [
              0.4444444444444444,
              "#bd3786"
             ],
             [
              0.5555555555555556,
              "#d8576b"
             ],
             [
              0.6666666666666666,
              "#ed7953"
             ],
             [
              0.7777777777777778,
              "#fb9f3a"
             ],
             [
              0.8888888888888888,
              "#fdca26"
             ],
             [
              1,
              "#f0f921"
             ]
            ],
            "type": "contour"
           }
          ],
          "contourcarpet": [
           {
            "colorbar": {
             "outlinewidth": 0,
             "ticks": ""
            },
            "type": "contourcarpet"
           }
          ],
          "heatmap": [
           {
            "colorbar": {
             "outlinewidth": 0,
             "ticks": ""
            },
            "colorscale": [
             [
              0,
              "#0d0887"
             ],
             [
              0.1111111111111111,
              "#46039f"
             ],
             [
              0.2222222222222222,
              "#7201a8"
             ],
             [
              0.3333333333333333,
              "#9c179e"
             ],
             [
              0.4444444444444444,
              "#bd3786"
             ],
             [
              0.5555555555555556,
              "#d8576b"
             ],
             [
              0.6666666666666666,
              "#ed7953"
             ],
             [
              0.7777777777777778,
              "#fb9f3a"
             ],
             [
              0.8888888888888888,
              "#fdca26"
             ],
             [
              1,
              "#f0f921"
             ]
            ],
            "type": "heatmap"
           }
          ],
          "heatmapgl": [
           {
            "colorbar": {
             "outlinewidth": 0,
             "ticks": ""
            },
            "colorscale": [
             [
              0,
              "#0d0887"
             ],
             [
              0.1111111111111111,
              "#46039f"
             ],
             [
              0.2222222222222222,
              "#7201a8"
             ],
             [
              0.3333333333333333,
              "#9c179e"
             ],
             [
              0.4444444444444444,
              "#bd3786"
             ],
             [
              0.5555555555555556,
              "#d8576b"
             ],
             [
              0.6666666666666666,
              "#ed7953"
             ],
             [
              0.7777777777777778,
              "#fb9f3a"
             ],
             [
              0.8888888888888888,
              "#fdca26"
             ],
             [
              1,
              "#f0f921"
             ]
            ],
            "type": "heatmapgl"
           }
          ],
          "histogram": [
           {
            "marker": {
             "pattern": {
              "fillmode": "overlay",
              "size": 10,
              "solidity": 0.2
             }
            },
            "type": "histogram"
           }
          ],
          "histogram2d": [
           {
            "colorbar": {
             "outlinewidth": 0,
             "ticks": ""
            },
            "colorscale": [
             [
              0,
              "#0d0887"
             ],
             [
              0.1111111111111111,
              "#46039f"
             ],
             [
              0.2222222222222222,
              "#7201a8"
             ],
             [
              0.3333333333333333,
              "#9c179e"
             ],
             [
              0.4444444444444444,
              "#bd3786"
             ],
             [
              0.5555555555555556,
              "#d8576b"
             ],
             [
              0.6666666666666666,
              "#ed7953"
             ],
             [
              0.7777777777777778,
              "#fb9f3a"
             ],
             [
              0.8888888888888888,
              "#fdca26"
             ],
             [
              1,
              "#f0f921"
             ]
            ],
            "type": "histogram2d"
           }
          ],
          "histogram2dcontour": [
           {
            "colorbar": {
             "outlinewidth": 0,
             "ticks": ""
            },
            "colorscale": [
             [
              0,
              "#0d0887"
             ],
             [
              0.1111111111111111,
              "#46039f"
             ],
             [
              0.2222222222222222,
              "#7201a8"
             ],
             [
              0.3333333333333333,
              "#9c179e"
             ],
             [
              0.4444444444444444,
              "#bd3786"
             ],
             [
              0.5555555555555556,
              "#d8576b"
             ],
             [
              0.6666666666666666,
              "#ed7953"
             ],
             [
              0.7777777777777778,
              "#fb9f3a"
             ],
             [
              0.8888888888888888,
              "#fdca26"
             ],
             [
              1,
              "#f0f921"
             ]
            ],
            "type": "histogram2dcontour"
           }
          ],
          "mesh3d": [
           {
            "colorbar": {
             "outlinewidth": 0,
             "ticks": ""
            },
            "type": "mesh3d"
           }
          ],
          "parcoords": [
           {
            "line": {
             "colorbar": {
              "outlinewidth": 0,
              "ticks": ""
             }
            },
            "type": "parcoords"
           }
          ],
          "pie": [
           {
            "automargin": true,
            "type": "pie"
           }
          ],
          "scatter": [
           {
            "fillpattern": {
             "fillmode": "overlay",
             "size": 10,
             "solidity": 0.2
            },
            "type": "scatter"
           }
          ],
          "scatter3d": [
           {
            "line": {
             "colorbar": {
              "outlinewidth": 0,
              "ticks": ""
             }
            },
            "marker": {
             "colorbar": {
              "outlinewidth": 0,
              "ticks": ""
             }
            },
            "type": "scatter3d"
           }
          ],
          "scattercarpet": [
           {
            "marker": {
             "colorbar": {
              "outlinewidth": 0,
              "ticks": ""
             }
            },
            "type": "scattercarpet"
           }
          ],
          "scattergeo": [
           {
            "marker": {
             "colorbar": {
              "outlinewidth": 0,
              "ticks": ""
             }
            },
            "type": "scattergeo"
           }
          ],
          "scattergl": [
           {
            "marker": {
             "colorbar": {
              "outlinewidth": 0,
              "ticks": ""
             }
            },
            "type": "scattergl"
           }
          ],
          "scattermapbox": [
           {
            "marker": {
             "colorbar": {
              "outlinewidth": 0,
              "ticks": ""
             }
            },
            "type": "scattermapbox"
           }
          ],
          "scatterpolar": [
           {
            "marker": {
             "colorbar": {
              "outlinewidth": 0,
              "ticks": ""
             }
            },
            "type": "scatterpolar"
           }
          ],
          "scatterpolargl": [
           {
            "marker": {
             "colorbar": {
              "outlinewidth": 0,
              "ticks": ""
             }
            },
            "type": "scatterpolargl"
           }
          ],
          "scatterternary": [
           {
            "marker": {
             "colorbar": {
              "outlinewidth": 0,
              "ticks": ""
             }
            },
            "type": "scatterternary"
           }
          ],
          "surface": [
           {
            "colorbar": {
             "outlinewidth": 0,
             "ticks": ""
            },
            "colorscale": [
             [
              0,
              "#0d0887"
             ],
             [
              0.1111111111111111,
              "#46039f"
             ],
             [
              0.2222222222222222,
              "#7201a8"
             ],
             [
              0.3333333333333333,
              "#9c179e"
             ],
             [
              0.4444444444444444,
              "#bd3786"
             ],
             [
              0.5555555555555556,
              "#d8576b"
             ],
             [
              0.6666666666666666,
              "#ed7953"
             ],
             [
              0.7777777777777778,
              "#fb9f3a"
             ],
             [
              0.8888888888888888,
              "#fdca26"
             ],
             [
              1,
              "#f0f921"
             ]
            ],
            "type": "surface"
           }
          ],
          "table": [
           {
            "cells": {
             "fill": {
              "color": "#EBF0F8"
             },
             "line": {
              "color": "white"
             }
            },
            "header": {
             "fill": {
              "color": "#C8D4E3"
             },
             "line": {
              "color": "white"
             }
            },
            "type": "table"
           }
          ]
         },
         "layout": {
          "annotationdefaults": {
           "arrowcolor": "#2a3f5f",
           "arrowhead": 0,
           "arrowwidth": 1
          },
          "autotypenumbers": "strict",
          "coloraxis": {
           "colorbar": {
            "outlinewidth": 0,
            "ticks": ""
           }
          },
          "colorscale": {
           "diverging": [
            [
             0,
             "#8e0152"
            ],
            [
             0.1,
             "#c51b7d"
            ],
            [
             0.2,
             "#de77ae"
            ],
            [
             0.3,
             "#f1b6da"
            ],
            [
             0.4,
             "#fde0ef"
            ],
            [
             0.5,
             "#f7f7f7"
            ],
            [
             0.6,
             "#e6f5d0"
            ],
            [
             0.7,
             "#b8e186"
            ],
            [
             0.8,
             "#7fbc41"
            ],
            [
             0.9,
             "#4d9221"
            ],
            [
             1,
             "#276419"
            ]
           ],
           "sequential": [
            [
             0,
             "#0d0887"
            ],
            [
             0.1111111111111111,
             "#46039f"
            ],
            [
             0.2222222222222222,
             "#7201a8"
            ],
            [
             0.3333333333333333,
             "#9c179e"
            ],
            [
             0.4444444444444444,
             "#bd3786"
            ],
            [
             0.5555555555555556,
             "#d8576b"
            ],
            [
             0.6666666666666666,
             "#ed7953"
            ],
            [
             0.7777777777777778,
             "#fb9f3a"
            ],
            [
             0.8888888888888888,
             "#fdca26"
            ],
            [
             1,
             "#f0f921"
            ]
           ],
           "sequentialminus": [
            [
             0,
             "#0d0887"
            ],
            [
             0.1111111111111111,
             "#46039f"
            ],
            [
             0.2222222222222222,
             "#7201a8"
            ],
            [
             0.3333333333333333,
             "#9c179e"
            ],
            [
             0.4444444444444444,
             "#bd3786"
            ],
            [
             0.5555555555555556,
             "#d8576b"
            ],
            [
             0.6666666666666666,
             "#ed7953"
            ],
            [
             0.7777777777777778,
             "#fb9f3a"
            ],
            [
             0.8888888888888888,
             "#fdca26"
            ],
            [
             1,
             "#f0f921"
            ]
           ]
          },
          "colorway": [
           "#636efa",
           "#EF553B",
           "#00cc96",
           "#ab63fa",
           "#FFA15A",
           "#19d3f3",
           "#FF6692",
           "#B6E880",
           "#FF97FF",
           "#FECB52"
          ],
          "font": {
           "color": "#2a3f5f"
          },
          "geo": {
           "bgcolor": "white",
           "lakecolor": "white",
           "landcolor": "#E5ECF6",
           "showlakes": true,
           "showland": true,
           "subunitcolor": "white"
          },
          "hoverlabel": {
           "align": "left"
          },
          "hovermode": "closest",
          "mapbox": {
           "style": "light"
          },
          "paper_bgcolor": "white",
          "plot_bgcolor": "#E5ECF6",
          "polar": {
           "angularaxis": {
            "gridcolor": "white",
            "linecolor": "white",
            "ticks": ""
           },
           "bgcolor": "#E5ECF6",
           "radialaxis": {
            "gridcolor": "white",
            "linecolor": "white",
            "ticks": ""
           }
          },
          "scene": {
           "xaxis": {
            "backgroundcolor": "#E5ECF6",
            "gridcolor": "white",
            "gridwidth": 2,
            "linecolor": "white",
            "showbackground": true,
            "ticks": "",
            "zerolinecolor": "white"
           },
           "yaxis": {
            "backgroundcolor": "#E5ECF6",
            "gridcolor": "white",
            "gridwidth": 2,
            "linecolor": "white",
            "showbackground": true,
            "ticks": "",
            "zerolinecolor": "white"
           },
           "zaxis": {
            "backgroundcolor": "#E5ECF6",
            "gridcolor": "white",
            "gridwidth": 2,
            "linecolor": "white",
            "showbackground": true,
            "ticks": "",
            "zerolinecolor": "white"
           }
          },
          "shapedefaults": {
           "line": {
            "color": "#2a3f5f"
           }
          },
          "ternary": {
           "aaxis": {
            "gridcolor": "white",
            "linecolor": "white",
            "ticks": ""
           },
           "baxis": {
            "gridcolor": "white",
            "linecolor": "white",
            "ticks": ""
           },
           "bgcolor": "#E5ECF6",
           "caxis": {
            "gridcolor": "white",
            "linecolor": "white",
            "ticks": ""
           }
          },
          "title": {
           "x": 0.05
          },
          "xaxis": {
           "automargin": true,
           "gridcolor": "white",
           "linecolor": "white",
           "ticks": "",
           "title": {
            "standoff": 15
           },
           "zerolinecolor": "white",
           "zerolinewidth": 2
          },
          "yaxis": {
           "automargin": true,
           "gridcolor": "white",
           "linecolor": "white",
           "ticks": "",
           "title": {
            "standoff": 15
           },
           "zerolinecolor": "white",
           "zerolinewidth": 2
          }
         }
        },
        "title": {
         "text": "Sparse probe scores for \"conv pixel contains mouse\" over resadd layers and K values"
        },
        "xaxis": {
         "anchor": "y",
         "domain": [
          0,
          1
         ],
         "title": {
          "text": "layer"
         }
        },
        "yaxis": {
         "anchor": "x",
         "domain": [
          0,
          1
         ],
         "title": {
          "text": "score"
         }
        }
       }
      },
      "text/html": [
       "<div>                            <div id=\"387279f7-0dca-4b7b-8502-f350655da67e\" class=\"plotly-graph-div\" style=\"height:525px; width:100%;\"></div>            <script type=\"text/javascript\">                require([\"plotly\"], function(Plotly) {                    window.PLOTLYENV=window.PLOTLYENV || {};                                    if (document.getElementById(\"387279f7-0dca-4b7b-8502-f350655da67e\")) {                    Plotly.newPlot(                        \"387279f7-0dca-4b7b-8502-f350655da67e\",                        [{\"hovertemplate\":\"K=1\\u003cbr\\u003elayer=%{x}\\u003cbr\\u003escore=%{y}\\u003cextra\\u003e\\u003c\\u002fextra\\u003e\",\"legendgroup\":\"1\",\"line\":{\"color\":\"#636efa\",\"dash\":\"solid\"},\"marker\":{\"symbol\":\"circle\"},\"mode\":\"lines\",\"name\":\"1\",\"orientation\":\"v\",\"showlegend\":true,\"x\":[\"embedder.block1.res1.resadd_out\",\"embedder.block1.res2.resadd_out\",\"embedder.block2.res1.resadd_out\",\"embedder.block2.res2.resadd_out\",\"embedder.block3.res1.resadd_out\",\"embedder.block3.res2.resadd_out\"],\"xaxis\":\"x\",\"y\":[0.9975,0.9825,0.975,0.9625,0.965,0.8525],\"yaxis\":\"y\",\"type\":\"scatter\"},{\"hovertemplate\":\"K=2\\u003cbr\\u003elayer=%{x}\\u003cbr\\u003escore=%{y}\\u003cextra\\u003e\\u003c\\u002fextra\\u003e\",\"legendgroup\":\"2\",\"line\":{\"color\":\"#EF553B\",\"dash\":\"solid\"},\"marker\":{\"symbol\":\"circle\"},\"mode\":\"lines\",\"name\":\"2\",\"orientation\":\"v\",\"showlegend\":true,\"x\":[\"embedder.block1.res1.resadd_out\",\"embedder.block1.res2.resadd_out\",\"embedder.block2.res1.resadd_out\",\"embedder.block2.res2.resadd_out\",\"embedder.block3.res1.resadd_out\",\"embedder.block3.res2.resadd_out\"],\"xaxis\":\"x\",\"y\":[1.0,1.0,0.9775,0.98,0.9725,0.8475],\"yaxis\":\"y\",\"type\":\"scatter\"},{\"hovertemplate\":\"K=3\\u003cbr\\u003elayer=%{x}\\u003cbr\\u003escore=%{y}\\u003cextra\\u003e\\u003c\\u002fextra\\u003e\",\"legendgroup\":\"3\",\"line\":{\"color\":\"#00cc96\",\"dash\":\"solid\"},\"marker\":{\"symbol\":\"circle\"},\"mode\":\"lines\",\"name\":\"3\",\"orientation\":\"v\",\"showlegend\":true,\"x\":[\"embedder.block1.res1.resadd_out\",\"embedder.block1.res2.resadd_out\",\"embedder.block2.res1.resadd_out\",\"embedder.block2.res2.resadd_out\",\"embedder.block3.res1.resadd_out\",\"embedder.block3.res2.resadd_out\"],\"xaxis\":\"x\",\"y\":[1.0,0.99,0.985,0.9825,0.975,0.85],\"yaxis\":\"y\",\"type\":\"scatter\"},{\"hovertemplate\":\"K=4\\u003cbr\\u003elayer=%{x}\\u003cbr\\u003escore=%{y}\\u003cextra\\u003e\\u003c\\u002fextra\\u003e\",\"legendgroup\":\"4\",\"line\":{\"color\":\"#ab63fa\",\"dash\":\"solid\"},\"marker\":{\"symbol\":\"circle\"},\"mode\":\"lines\",\"name\":\"4\",\"orientation\":\"v\",\"showlegend\":true,\"x\":[\"embedder.block1.res1.resadd_out\",\"embedder.block1.res2.resadd_out\",\"embedder.block2.res1.resadd_out\",\"embedder.block2.res2.resadd_out\",\"embedder.block3.res1.resadd_out\",\"embedder.block3.res2.resadd_out\"],\"xaxis\":\"x\",\"y\":[1.0,0.9925,0.9825,0.975,0.97,0.8475],\"yaxis\":\"y\",\"type\":\"scatter\"},{\"hovertemplate\":\"K=5\\u003cbr\\u003elayer=%{x}\\u003cbr\\u003escore=%{y}\\u003cextra\\u003e\\u003c\\u002fextra\\u003e\",\"legendgroup\":\"5\",\"line\":{\"color\":\"#FFA15A\",\"dash\":\"solid\"},\"marker\":{\"symbol\":\"circle\"},\"mode\":\"lines\",\"name\":\"5\",\"orientation\":\"v\",\"showlegend\":true,\"x\":[\"embedder.block1.res1.resadd_out\",\"embedder.block1.res2.resadd_out\",\"embedder.block2.res1.resadd_out\",\"embedder.block2.res2.resadd_out\",\"embedder.block3.res1.resadd_out\",\"embedder.block3.res2.resadd_out\"],\"xaxis\":\"x\",\"y\":[0.9975,1.0,0.9875,0.9725,0.97,0.855],\"yaxis\":\"y\",\"type\":\"scatter\"},{\"hovertemplate\":\"K=6\\u003cbr\\u003elayer=%{x}\\u003cbr\\u003escore=%{y}\\u003cextra\\u003e\\u003c\\u002fextra\\u003e\",\"legendgroup\":\"6\",\"line\":{\"color\":\"#19d3f3\",\"dash\":\"solid\"},\"marker\":{\"symbol\":\"circle\"},\"mode\":\"lines\",\"name\":\"6\",\"orientation\":\"v\",\"showlegend\":true,\"x\":[\"embedder.block1.res1.resadd_out\",\"embedder.block1.res2.resadd_out\",\"embedder.block2.res1.resadd_out\",\"embedder.block2.res2.resadd_out\",\"embedder.block3.res1.resadd_out\",\"embedder.block3.res2.resadd_out\"],\"xaxis\":\"x\",\"y\":[0.9975,1.0,0.99,0.9725,0.975,0.8525],\"yaxis\":\"y\",\"type\":\"scatter\"},{\"hovertemplate\":\"K=7\\u003cbr\\u003elayer=%{x}\\u003cbr\\u003escore=%{y}\\u003cextra\\u003e\\u003c\\u002fextra\\u003e\",\"legendgroup\":\"7\",\"line\":{\"color\":\"#FF6692\",\"dash\":\"solid\"},\"marker\":{\"symbol\":\"circle\"},\"mode\":\"lines\",\"name\":\"7\",\"orientation\":\"v\",\"showlegend\":true,\"x\":[\"embedder.block1.res1.resadd_out\",\"embedder.block1.res2.resadd_out\",\"embedder.block2.res1.resadd_out\",\"embedder.block2.res2.resadd_out\",\"embedder.block3.res1.resadd_out\",\"embedder.block3.res2.resadd_out\"],\"xaxis\":\"x\",\"y\":[0.9925,1.0,0.99,0.9775,0.9725,0.8525],\"yaxis\":\"y\",\"type\":\"scatter\"},{\"hovertemplate\":\"K=8\\u003cbr\\u003elayer=%{x}\\u003cbr\\u003escore=%{y}\\u003cextra\\u003e\\u003c\\u002fextra\\u003e\",\"legendgroup\":\"8\",\"line\":{\"color\":\"#B6E880\",\"dash\":\"solid\"},\"marker\":{\"symbol\":\"circle\"},\"mode\":\"lines\",\"name\":\"8\",\"orientation\":\"v\",\"showlegend\":true,\"x\":[\"embedder.block1.res1.resadd_out\",\"embedder.block1.res2.resadd_out\",\"embedder.block2.res1.resadd_out\",\"embedder.block2.res2.resadd_out\",\"embedder.block3.res1.resadd_out\",\"embedder.block3.res2.resadd_out\"],\"xaxis\":\"x\",\"y\":[0.995,1.0,0.99,0.975,0.97,0.855],\"yaxis\":\"y\",\"type\":\"scatter\"},{\"hovertemplate\":\"K=9\\u003cbr\\u003elayer=%{x}\\u003cbr\\u003escore=%{y}\\u003cextra\\u003e\\u003c\\u002fextra\\u003e\",\"legendgroup\":\"9\",\"line\":{\"color\":\"#FF97FF\",\"dash\":\"solid\"},\"marker\":{\"symbol\":\"circle\"},\"mode\":\"lines\",\"name\":\"9\",\"orientation\":\"v\",\"showlegend\":true,\"x\":[\"embedder.block1.res1.resadd_out\",\"embedder.block1.res2.resadd_out\",\"embedder.block2.res1.resadd_out\",\"embedder.block2.res2.resadd_out\",\"embedder.block3.res1.resadd_out\",\"embedder.block3.res2.resadd_out\"],\"xaxis\":\"x\",\"y\":[0.995,1.0,0.9875,0.98,0.97,0.86],\"yaxis\":\"y\",\"type\":\"scatter\"},{\"hovertemplate\":\"K=10\\u003cbr\\u003elayer=%{x}\\u003cbr\\u003escore=%{y}\\u003cextra\\u003e\\u003c\\u002fextra\\u003e\",\"legendgroup\":\"10\",\"line\":{\"color\":\"#FECB52\",\"dash\":\"solid\"},\"marker\":{\"symbol\":\"circle\"},\"mode\":\"lines\",\"name\":\"10\",\"orientation\":\"v\",\"showlegend\":true,\"x\":[\"embedder.block1.res1.resadd_out\",\"embedder.block1.res2.resadd_out\",\"embedder.block2.res1.resadd_out\",\"embedder.block2.res2.resadd_out\",\"embedder.block3.res1.resadd_out\",\"embedder.block3.res2.resadd_out\"],\"xaxis\":\"x\",\"y\":[0.9975,1.0,0.9925,0.9825,0.9725,0.86],\"yaxis\":\"y\",\"type\":\"scatter\"}],                        {\"template\":{\"data\":{\"histogram2dcontour\":[{\"type\":\"histogram2dcontour\",\"colorbar\":{\"outlinewidth\":0,\"ticks\":\"\"},\"colorscale\":[[0.0,\"#0d0887\"],[0.1111111111111111,\"#46039f\"],[0.2222222222222222,\"#7201a8\"],[0.3333333333333333,\"#9c179e\"],[0.4444444444444444,\"#bd3786\"],[0.5555555555555556,\"#d8576b\"],[0.6666666666666666,\"#ed7953\"],[0.7777777777777778,\"#fb9f3a\"],[0.8888888888888888,\"#fdca26\"],[1.0,\"#f0f921\"]]}],\"choropleth\":[{\"type\":\"choropleth\",\"colorbar\":{\"outlinewidth\":0,\"ticks\":\"\"}}],\"histogram2d\":[{\"type\":\"histogram2d\",\"colorbar\":{\"outlinewidth\":0,\"ticks\":\"\"},\"colorscale\":[[0.0,\"#0d0887\"],[0.1111111111111111,\"#46039f\"],[0.2222222222222222,\"#7201a8\"],[0.3333333333333333,\"#9c179e\"],[0.4444444444444444,\"#bd3786\"],[0.5555555555555556,\"#d8576b\"],[0.6666666666666666,\"#ed7953\"],[0.7777777777777778,\"#fb9f3a\"],[0.8888888888888888,\"#fdca26\"],[1.0,\"#f0f921\"]]}],\"heatmap\":[{\"type\":\"heatmap\",\"colorbar\":{\"outlinewidth\":0,\"ticks\":\"\"},\"colorscale\":[[0.0,\"#0d0887\"],[0.1111111111111111,\"#46039f\"],[0.2222222222222222,\"#7201a8\"],[0.3333333333333333,\"#9c179e\"],[0.4444444444444444,\"#bd3786\"],[0.5555555555555556,\"#d8576b\"],[0.6666666666666666,\"#ed7953\"],[0.7777777777777778,\"#fb9f3a\"],[0.8888888888888888,\"#fdca26\"],[1.0,\"#f0f921\"]]}],\"heatmapgl\":[{\"type\":\"heatmapgl\",\"colorbar\":{\"outlinewidth\":0,\"ticks\":\"\"},\"colorscale\":[[0.0,\"#0d0887\"],[0.1111111111111111,\"#46039f\"],[0.2222222222222222,\"#7201a8\"],[0.3333333333333333,\"#9c179e\"],[0.4444444444444444,\"#bd3786\"],[0.5555555555555556,\"#d8576b\"],[0.6666666666666666,\"#ed7953\"],[0.7777777777777778,\"#fb9f3a\"],[0.8888888888888888,\"#fdca26\"],[1.0,\"#f0f921\"]]}],\"contourcarpet\":[{\"type\":\"contourcarpet\",\"colorbar\":{\"outlinewidth\":0,\"ticks\":\"\"}}],\"contour\":[{\"type\":\"contour\",\"colorbar\":{\"outlinewidth\":0,\"ticks\":\"\"},\"colorscale\":[[0.0,\"#0d0887\"],[0.1111111111111111,\"#46039f\"],[0.2222222222222222,\"#7201a8\"],[0.3333333333333333,\"#9c179e\"],[0.4444444444444444,\"#bd3786\"],[0.5555555555555556,\"#d8576b\"],[0.6666666666666666,\"#ed7953\"],[0.7777777777777778,\"#fb9f3a\"],[0.8888888888888888,\"#fdca26\"],[1.0,\"#f0f921\"]]}],\"surface\":[{\"type\":\"surface\",\"colorbar\":{\"outlinewidth\":0,\"ticks\":\"\"},\"colorscale\":[[0.0,\"#0d0887\"],[0.1111111111111111,\"#46039f\"],[0.2222222222222222,\"#7201a8\"],[0.3333333333333333,\"#9c179e\"],[0.4444444444444444,\"#bd3786\"],[0.5555555555555556,\"#d8576b\"],[0.6666666666666666,\"#ed7953\"],[0.7777777777777778,\"#fb9f3a\"],[0.8888888888888888,\"#fdca26\"],[1.0,\"#f0f921\"]]}],\"mesh3d\":[{\"type\":\"mesh3d\",\"colorbar\":{\"outlinewidth\":0,\"ticks\":\"\"}}],\"scatter\":[{\"fillpattern\":{\"fillmode\":\"overlay\",\"size\":10,\"solidity\":0.2},\"type\":\"scatter\"}],\"parcoords\":[{\"type\":\"parcoords\",\"line\":{\"colorbar\":{\"outlinewidth\":0,\"ticks\":\"\"}}}],\"scatterpolargl\":[{\"type\":\"scatterpolargl\",\"marker\":{\"colorbar\":{\"outlinewidth\":0,\"ticks\":\"\"}}}],\"bar\":[{\"error_x\":{\"color\":\"#2a3f5f\"},\"error_y\":{\"color\":\"#2a3f5f\"},\"marker\":{\"line\":{\"color\":\"#E5ECF6\",\"width\":0.5},\"pattern\":{\"fillmode\":\"overlay\",\"size\":10,\"solidity\":0.2}},\"type\":\"bar\"}],\"scattergeo\":[{\"type\":\"scattergeo\",\"marker\":{\"colorbar\":{\"outlinewidth\":0,\"ticks\":\"\"}}}],\"scatterpolar\":[{\"type\":\"scatterpolar\",\"marker\":{\"colorbar\":{\"outlinewidth\":0,\"ticks\":\"\"}}}],\"histogram\":[{\"marker\":{\"pattern\":{\"fillmode\":\"overlay\",\"size\":10,\"solidity\":0.2}},\"type\":\"histogram\"}],\"scattergl\":[{\"type\":\"scattergl\",\"marker\":{\"colorbar\":{\"outlinewidth\":0,\"ticks\":\"\"}}}],\"scatter3d\":[{\"type\":\"scatter3d\",\"line\":{\"colorbar\":{\"outlinewidth\":0,\"ticks\":\"\"}},\"marker\":{\"colorbar\":{\"outlinewidth\":0,\"ticks\":\"\"}}}],\"scattermapbox\":[{\"type\":\"scattermapbox\",\"marker\":{\"colorbar\":{\"outlinewidth\":0,\"ticks\":\"\"}}}],\"scatterternary\":[{\"type\":\"scatterternary\",\"marker\":{\"colorbar\":{\"outlinewidth\":0,\"ticks\":\"\"}}}],\"scattercarpet\":[{\"type\":\"scattercarpet\",\"marker\":{\"colorbar\":{\"outlinewidth\":0,\"ticks\":\"\"}}}],\"carpet\":[{\"aaxis\":{\"endlinecolor\":\"#2a3f5f\",\"gridcolor\":\"white\",\"linecolor\":\"white\",\"minorgridcolor\":\"white\",\"startlinecolor\":\"#2a3f5f\"},\"baxis\":{\"endlinecolor\":\"#2a3f5f\",\"gridcolor\":\"white\",\"linecolor\":\"white\",\"minorgridcolor\":\"white\",\"startlinecolor\":\"#2a3f5f\"},\"type\":\"carpet\"}],\"table\":[{\"cells\":{\"fill\":{\"color\":\"#EBF0F8\"},\"line\":{\"color\":\"white\"}},\"header\":{\"fill\":{\"color\":\"#C8D4E3\"},\"line\":{\"color\":\"white\"}},\"type\":\"table\"}],\"barpolar\":[{\"marker\":{\"line\":{\"color\":\"#E5ECF6\",\"width\":0.5},\"pattern\":{\"fillmode\":\"overlay\",\"size\":10,\"solidity\":0.2}},\"type\":\"barpolar\"}],\"pie\":[{\"automargin\":true,\"type\":\"pie\"}]},\"layout\":{\"autotypenumbers\":\"strict\",\"colorway\":[\"#636efa\",\"#EF553B\",\"#00cc96\",\"#ab63fa\",\"#FFA15A\",\"#19d3f3\",\"#FF6692\",\"#B6E880\",\"#FF97FF\",\"#FECB52\"],\"font\":{\"color\":\"#2a3f5f\"},\"hovermode\":\"closest\",\"hoverlabel\":{\"align\":\"left\"},\"paper_bgcolor\":\"white\",\"plot_bgcolor\":\"#E5ECF6\",\"polar\":{\"bgcolor\":\"#E5ECF6\",\"angularaxis\":{\"gridcolor\":\"white\",\"linecolor\":\"white\",\"ticks\":\"\"},\"radialaxis\":{\"gridcolor\":\"white\",\"linecolor\":\"white\",\"ticks\":\"\"}},\"ternary\":{\"bgcolor\":\"#E5ECF6\",\"aaxis\":{\"gridcolor\":\"white\",\"linecolor\":\"white\",\"ticks\":\"\"},\"baxis\":{\"gridcolor\":\"white\",\"linecolor\":\"white\",\"ticks\":\"\"},\"caxis\":{\"gridcolor\":\"white\",\"linecolor\":\"white\",\"ticks\":\"\"}},\"coloraxis\":{\"colorbar\":{\"outlinewidth\":0,\"ticks\":\"\"}},\"colorscale\":{\"sequential\":[[0.0,\"#0d0887\"],[0.1111111111111111,\"#46039f\"],[0.2222222222222222,\"#7201a8\"],[0.3333333333333333,\"#9c179e\"],[0.4444444444444444,\"#bd3786\"],[0.5555555555555556,\"#d8576b\"],[0.6666666666666666,\"#ed7953\"],[0.7777777777777778,\"#fb9f3a\"],[0.8888888888888888,\"#fdca26\"],[1.0,\"#f0f921\"]],\"sequentialminus\":[[0.0,\"#0d0887\"],[0.1111111111111111,\"#46039f\"],[0.2222222222222222,\"#7201a8\"],[0.3333333333333333,\"#9c179e\"],[0.4444444444444444,\"#bd3786\"],[0.5555555555555556,\"#d8576b\"],[0.6666666666666666,\"#ed7953\"],[0.7777777777777778,\"#fb9f3a\"],[0.8888888888888888,\"#fdca26\"],[1.0,\"#f0f921\"]],\"diverging\":[[0,\"#8e0152\"],[0.1,\"#c51b7d\"],[0.2,\"#de77ae\"],[0.3,\"#f1b6da\"],[0.4,\"#fde0ef\"],[0.5,\"#f7f7f7\"],[0.6,\"#e6f5d0\"],[0.7,\"#b8e186\"],[0.8,\"#7fbc41\"],[0.9,\"#4d9221\"],[1,\"#276419\"]]},\"xaxis\":{\"gridcolor\":\"white\",\"linecolor\":\"white\",\"ticks\":\"\",\"title\":{\"standoff\":15},\"zerolinecolor\":\"white\",\"automargin\":true,\"zerolinewidth\":2},\"yaxis\":{\"gridcolor\":\"white\",\"linecolor\":\"white\",\"ticks\":\"\",\"title\":{\"standoff\":15},\"zerolinecolor\":\"white\",\"automargin\":true,\"zerolinewidth\":2},\"scene\":{\"xaxis\":{\"backgroundcolor\":\"#E5ECF6\",\"gridcolor\":\"white\",\"linecolor\":\"white\",\"showbackground\":true,\"ticks\":\"\",\"zerolinecolor\":\"white\",\"gridwidth\":2},\"yaxis\":{\"backgroundcolor\":\"#E5ECF6\",\"gridcolor\":\"white\",\"linecolor\":\"white\",\"showbackground\":true,\"ticks\":\"\",\"zerolinecolor\":\"white\",\"gridwidth\":2},\"zaxis\":{\"backgroundcolor\":\"#E5ECF6\",\"gridcolor\":\"white\",\"linecolor\":\"white\",\"showbackground\":true,\"ticks\":\"\",\"zerolinecolor\":\"white\",\"gridwidth\":2}},\"shapedefaults\":{\"line\":{\"color\":\"#2a3f5f\"}},\"annotationdefaults\":{\"arrowcolor\":\"#2a3f5f\",\"arrowhead\":0,\"arrowwidth\":1},\"geo\":{\"bgcolor\":\"white\",\"landcolor\":\"#E5ECF6\",\"subunitcolor\":\"white\",\"showland\":true,\"showlakes\":true,\"lakecolor\":\"white\"},\"title\":{\"x\":0.05},\"mapbox\":{\"style\":\"light\"}}},\"xaxis\":{\"anchor\":\"y\",\"domain\":[0.0,1.0],\"title\":{\"text\":\"layer\"}},\"yaxis\":{\"anchor\":\"x\",\"domain\":[0.0,1.0],\"title\":{\"text\":\"score\"}},\"legend\":{\"title\":{\"text\":\"K\"},\"tracegroupgap\":0},\"title\":{\"text\":\"Sparse probe scores for \\\"conv pixel contains mouse\\\" over resadd layers and K values\"},\"shapes\":[{\"line\":{\"dash\":\"dot\"},\"type\":\"line\",\"x0\":0,\"x1\":1,\"xref\":\"x domain\",\"y0\":1.0,\"y1\":1.0,\"yref\":\"y\"},{\"line\":{\"dash\":\"dot\"},\"type\":\"line\",\"x0\":0,\"x1\":1,\"xref\":\"x domain\",\"y0\":0.5,\"y1\":0.5,\"yref\":\"y\"}],\"annotations\":[{\"showarrow\":false,\"text\":\"perfect\",\"x\":1,\"xanchor\":\"right\",\"xref\":\"x domain\",\"y\":1.0,\"yanchor\":\"top\",\"yref\":\"y\"},{\"showarrow\":false,\"text\":\"baseline\",\"x\":1,\"xanchor\":\"right\",\"xref\":\"x domain\",\"y\":0.5,\"yanchor\":\"top\",\"yref\":\"y\"}]},                        {\"responsive\": true}                    ).then(function(){\n",
       "                            \n",
       "var gd = document.getElementById('387279f7-0dca-4b7b-8502-f350655da67e');\n",
       "var x = new MutationObserver(function (mutations, observer) {{\n",
       "        var display = window.getComputedStyle(gd).display;\n",
       "        if (!display || display === 'none') {{\n",
       "            console.log([gd, 'removed!']);\n",
       "            Plotly.purge(gd);\n",
       "            observer.disconnect();\n",
       "        }}\n",
       "}});\n",
       "\n",
       "// Listen for the removal of the full notebook cells\n",
       "var notebookContainer = gd.closest('#notebook-container');\n",
       "if (notebookContainer) {{\n",
       "    x.observe(notebookContainer, {childList: true});\n",
       "}}\n",
       "\n",
       "// Listen for the clearing of the current output cell\n",
       "var outputEl = gd.closest('.output');\n",
       "if (outputEl) {{\n",
       "    x.observe(outputEl, {childList: true});\n",
       "}}\n",
       "\n",
       "                        })                };                });            </script>        </div>"
      ]
     },
     "metadata": {},
     "output_type": "display_data"
    }
   ],
   "source": [
    "\n",
    "\n",
    "# Train probes and show results\n",
    "index_nums = np.arange(10)+1\n",
    "for obj_name, pixel_data_this in pixel_data.items():\n",
    "    scores_list = []\n",
    "    for value_label, (pixels, is_obj, rows_in_value, cols_in_value, f_test, sort_inds) in tqdm(pixel_data_this.items()):\n",
    "        for K in index_nums:\n",
    "            results = cpr.linear_probe(pixels[:,sort_inds[:K]], is_obj, C=10, random_state=42)\n",
    "            scores_list.append({'layer': value_label, 'K': K, 'score': results['test_score']})\n",
    "    scores_df = pd.DataFrame(scores_list)\n",
    "\n",
    "    fig = px.line(scores_df, x='layer', y='score', color='K',\n",
    "        title=f'Sparse probe scores for \"conv pixel contains {obj_name}\" over resadd layers and K values')\n",
    "    fig.add_hline(y=1.,  line_dash=\"dot\", annotation_text=\"perfect\",  annotation_position=\"bottom right\")\n",
    "    fig.add_hline(y=0.5, line_dash=\"dot\", annotation_text=\"baseline\", annotation_position=\"bottom right\")\n",
    "    fig.show()\n",
    "\n"
   ]
  },
  {
   "cell_type": "code",
   "execution_count": 27,
   "metadata": {},
   "outputs": [],
   "source": []
  },
  {
   "cell_type": "code",
   "execution_count": null,
   "metadata": {},
   "outputs": [],
   "source": []
  },
  {
   "cell_type": "code",
   "execution_count": 47,
   "metadata": {},
   "outputs": [
    {
     "name": "stdout",
     "output_type": "stream",
     "text": [
      "[[ 25 100 100 100 100 100 100]\n",
      " [ 51  51 100  51 100  51  51]\n",
      " [100 100 100  51 100 100 100]\n",
      " [100  51  51  51  51  51 100]\n",
      " [100   2 100  51 100 100 100]\n",
      " [100  51 100  51  51  51 100]\n",
      " [100  51 100  51 100 100 100]]\n",
      "8.48528137423857\n"
     ]
    }
   ],
   "source": [
    "# def visualize_maze(state: maze.EnvState) -> None:\n",
    "#     venv = maze.venv_from_grid(state.inner_grid())\n",
    "#     visualization.visualize_venv(venv, render_padding=False)\n",
    "\n",
    "grid_test = maze.state_from_venv(venv, 0).inner_grid()\n",
    "print(euclidian_mouse_dist_to_top_right(grid_test))"
   ]
  },
  {
   "cell_type": "code",
   "execution_count": null,
   "metadata": {},
   "outputs": [],
   "source": []
  },
  {
   "cell_type": "code",
   "execution_count": null,
   "metadata": {},
   "outputs": [],
   "source": [
    "\n",
    "\n"
   ]
  }
 ],
 "metadata": {
  "kernelspec": {
   "display_name": "procgen_env",
   "language": "python",
   "name": "python3"
  },
  "language_info": {
   "codemirror_mode": {
    "name": "ipython",
    "version": 3
   },
   "file_extension": ".py",
   "mimetype": "text/x-python",
   "name": "python",
   "nbconvert_exporter": "python",
   "pygments_lexer": "ipython3",
   "version": "3.9.16"
  },
  "orig_nbformat": 4
 },
 "nbformat": 4,
 "nbformat_minor": 2
}
